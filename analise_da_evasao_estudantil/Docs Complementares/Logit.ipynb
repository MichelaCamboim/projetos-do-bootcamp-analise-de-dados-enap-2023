{
 "cells": [
  {
   "cell_type": "code",
   "execution_count": 1,
   "id": "66f07d1d-53e6-46ef-8e0f-833331ce330f",
   "metadata": {},
   "outputs": [],
   "source": [
    "import seaborn as sns\n",
    "import statsmodels.formula.api as smf\n",
    "import numpy as np\n",
    "import pandas as pd"
   ]
  },
  {
   "cell_type": "code",
   "execution_count": 2,
   "id": "8364c8ca-de45-4dce-93dc-fadf7caf92ec",
   "metadata": {},
   "outputs": [
    {
     "data": {
      "text/html": [
       "<div>\n",
       "<style scoped>\n",
       "    .dataframe tbody tr th:only-of-type {\n",
       "        vertical-align: middle;\n",
       "    }\n",
       "\n",
       "    .dataframe tbody tr th {\n",
       "        vertical-align: top;\n",
       "    }\n",
       "\n",
       "    .dataframe thead th {\n",
       "        text-align: right;\n",
       "    }\n",
       "</style>\n",
       "<table border=\"1\" class=\"dataframe\">\n",
       "  <thead>\n",
       "    <tr style=\"text-align: right;\">\n",
       "      <th></th>\n",
       "      <th>survived</th>\n",
       "      <th>pclass</th>\n",
       "      <th>sex</th>\n",
       "      <th>age</th>\n",
       "      <th>sibsp</th>\n",
       "      <th>parch</th>\n",
       "      <th>fare</th>\n",
       "      <th>embarked</th>\n",
       "      <th>class</th>\n",
       "      <th>who</th>\n",
       "      <th>adult_male</th>\n",
       "      <th>deck</th>\n",
       "      <th>embark_town</th>\n",
       "      <th>alive</th>\n",
       "      <th>alone</th>\n",
       "    </tr>\n",
       "  </thead>\n",
       "  <tbody>\n",
       "    <tr>\n",
       "      <th>0</th>\n",
       "      <td>0</td>\n",
       "      <td>3</td>\n",
       "      <td>male</td>\n",
       "      <td>22.0</td>\n",
       "      <td>1</td>\n",
       "      <td>0</td>\n",
       "      <td>7.2500</td>\n",
       "      <td>S</td>\n",
       "      <td>Third</td>\n",
       "      <td>man</td>\n",
       "      <td>True</td>\n",
       "      <td>NaN</td>\n",
       "      <td>Southampton</td>\n",
       "      <td>no</td>\n",
       "      <td>False</td>\n",
       "    </tr>\n",
       "    <tr>\n",
       "      <th>1</th>\n",
       "      <td>1</td>\n",
       "      <td>1</td>\n",
       "      <td>female</td>\n",
       "      <td>38.0</td>\n",
       "      <td>1</td>\n",
       "      <td>0</td>\n",
       "      <td>71.2833</td>\n",
       "      <td>C</td>\n",
       "      <td>First</td>\n",
       "      <td>woman</td>\n",
       "      <td>False</td>\n",
       "      <td>C</td>\n",
       "      <td>Cherbourg</td>\n",
       "      <td>yes</td>\n",
       "      <td>False</td>\n",
       "    </tr>\n",
       "    <tr>\n",
       "      <th>2</th>\n",
       "      <td>1</td>\n",
       "      <td>3</td>\n",
       "      <td>female</td>\n",
       "      <td>26.0</td>\n",
       "      <td>0</td>\n",
       "      <td>0</td>\n",
       "      <td>7.9250</td>\n",
       "      <td>S</td>\n",
       "      <td>Third</td>\n",
       "      <td>woman</td>\n",
       "      <td>False</td>\n",
       "      <td>NaN</td>\n",
       "      <td>Southampton</td>\n",
       "      <td>yes</td>\n",
       "      <td>True</td>\n",
       "    </tr>\n",
       "  </tbody>\n",
       "</table>\n",
       "</div>"
      ],
      "text/plain": [
       "   survived  pclass     sex   age  sibsp  parch     fare embarked  class  \\\n",
       "0         0       3    male  22.0      1      0   7.2500        S  Third   \n",
       "1         1       1  female  38.0      1      0  71.2833        C  First   \n",
       "2         1       3  female  26.0      0      0   7.9250        S  Third   \n",
       "\n",
       "     who  adult_male deck  embark_town alive  alone  \n",
       "0    man        True  NaN  Southampton    no  False  \n",
       "1  woman       False    C    Cherbourg   yes  False  \n",
       "2  woman       False  NaN  Southampton   yes   True  "
      ]
     },
     "execution_count": 2,
     "metadata": {},
     "output_type": "execute_result"
    }
   ],
   "source": [
    "titanic = sns.load_dataset(\"titanic\")\n",
    "titanic.head(3)"
   ]
  },
  {
   "cell_type": "markdown",
   "id": "c8453c7c-704d-42d4-8154-88dac05ac56d",
   "metadata": {},
   "source": [
    "# Interpretação das chances de uma regressão logística"
   ]
  },
  {
   "cell_type": "markdown",
   "id": "3dced918-10c0-4727-8959-5b3bf86dc9e7",
   "metadata": {},
   "source": [
    "## Interpretação do Intercepto"
   ]
  },
  {
   "cell_type": "code",
   "execution_count": 3,
   "id": "cda203a9-346c-42df-81fd-77973f98cd0c",
   "metadata": {},
   "outputs": [
    {
     "name": "stdout",
     "output_type": "stream",
     "text": [
      "Optimization terminated successfully.\n",
      "         Current function value: 0.665912\n",
      "         Iterations 4\n",
      "Intercept   -0.473288\n",
      "dtype: float64\n"
     ]
    }
   ],
   "source": [
    "model = smf.logit(formula='survived ~ 1', data=titanic).fit();\n",
    "print(model.params)"
   ]
  },
  {
   "cell_type": "markdown",
   "id": "e2a03774-28b3-4a7f-aca4-b94eb5cca38d",
   "metadata": {},
   "source": [
    "$$\\log ( \\frac{p}{1-p} ) = -0.473288$$"
   ]
  },
  {
   "cell_type": "code",
   "execution_count": 4,
   "id": "84385de6-4c36-472e-a65c-28c82221a571",
   "metadata": {},
   "outputs": [
    {
     "data": {
      "text/plain": [
       "'Probabilidade p = 38.38%'"
      ]
     },
     "execution_count": 4,
     "metadata": {},
     "output_type": "execute_result"
    }
   ],
   "source": [
    "log_odd = model.params['Intercept']\n",
    "odds = np.exp(log_odd)\n",
    "p = odds/(1+odds)\n",
    "\n",
    "f'Probabilidade p = {p:.2%}'"
   ]
  },
  {
   "cell_type": "markdown",
   "id": "7e4a019c-30ae-44b6-8bde-d09a99ffdc2d",
   "metadata": {},
   "source": [
    "Como queremos explicar a sobrevivência pelo intercepto... "
   ]
  },
  {
   "cell_type": "code",
   "execution_count": 5,
   "id": "70156f2c-d3c9-42ee-8cc5-2d36f91a1012",
   "metadata": {},
   "outputs": [
    {
     "data": {
      "text/plain": [
       "'A chance de sobreviver é 38.38%'"
      ]
     },
     "execution_count": 5,
     "metadata": {},
     "output_type": "execute_result"
    }
   ],
   "source": [
    "f'A chance de sobreviver é {p:.2%}'"
   ]
  },
  {
   "cell_type": "markdown",
   "id": "fec96e40-c327-4bda-a734-4dac3c7e8453",
   "metadata": {},
   "source": [
    "### Outra forma de verificar"
   ]
  },
  {
   "cell_type": "code",
   "execution_count": 6,
   "id": "84c92aaf-ac25-42d4-af11-5ab816b658c2",
   "metadata": {},
   "outputs": [
    {
     "data": {
      "text/html": [
       "<div>\n",
       "<style scoped>\n",
       "    .dataframe tbody tr th:only-of-type {\n",
       "        vertical-align: middle;\n",
       "    }\n",
       "\n",
       "    .dataframe tbody tr th {\n",
       "        vertical-align: top;\n",
       "    }\n",
       "\n",
       "    .dataframe thead th {\n",
       "        text-align: right;\n",
       "    }\n",
       "</style>\n",
       "<table border=\"1\" class=\"dataframe\">\n",
       "  <thead>\n",
       "    <tr style=\"text-align: right;\">\n",
       "      <th></th>\n",
       "      <th>Sim/Não</th>\n",
       "      <th>%</th>\n",
       "    </tr>\n",
       "    <tr>\n",
       "      <th>survived</th>\n",
       "      <th></th>\n",
       "      <th></th>\n",
       "    </tr>\n",
       "  </thead>\n",
       "  <tbody>\n",
       "    <tr>\n",
       "      <th>0</th>\n",
       "      <td>549</td>\n",
       "      <td>61.62%</td>\n",
       "    </tr>\n",
       "    <tr>\n",
       "      <th>1</th>\n",
       "      <td>342</td>\n",
       "      <td>38.38%</td>\n",
       "    </tr>\n",
       "  </tbody>\n",
       "</table>\n",
       "</div>"
      ],
      "text/plain": [
       "          Sim/Não       %\n",
       "survived                 \n",
       "0             549  61.62%\n",
       "1             342  38.38%"
      ]
     },
     "execution_count": 6,
     "metadata": {},
     "output_type": "execute_result"
    }
   ],
   "source": [
    "sobrevivencia = pd.DataFrame({\n",
    "    'Sim/Não': titanic['survived'].value_counts(), \n",
    "    '%': titanic['survived'].value_counts(normalize=True)\n",
    "})\n",
    "\n",
    "sobrevivencia['%'] = sobrevivencia['%'].map(lambda x: f'{x:.2%}')\n",
    "sobrevivencia"
   ]
  },
  {
   "cell_type": "markdown",
   "id": "a3e2d5df-cb26-4bc6-93b8-c679203fe2cc",
   "metadata": {},
   "source": [
    "## Interpretação de Variável Contínua"
   ]
  },
  {
   "cell_type": "code",
   "execution_count": 7,
   "id": "938a9e8a-4247-480c-8097-2277bd12f9f1",
   "metadata": {},
   "outputs": [
    {
     "name": "stdout",
     "output_type": "stream",
     "text": [
      "Optimization terminated successfully.\n",
      "         Current function value: 0.627143\n",
      "         Iterations 6\n"
     ]
    },
    {
     "data": {
      "text/plain": [
       "Intercept   -0.941330\n",
       "fare         0.015197\n",
       "dtype: float64"
      ]
     },
     "execution_count": 7,
     "metadata": {},
     "output_type": "execute_result"
    }
   ],
   "source": [
    "model = smf.logit(formula='survived ~ fare', data=titanic).fit()\n",
    "model.params"
   ]
  },
  {
   "cell_type": "code",
   "execution_count": 8,
   "id": "2f391e80-a218-467a-81e4-0ac95aecf7f8",
   "metadata": {},
   "outputs": [
    {
     "data": {
      "text/plain": [
       "'Para um passageiro que não pagou nada, as chances de sobreviver são de 0.39%'"
      ]
     },
     "execution_count": 8,
     "metadata": {},
     "output_type": "execute_result"
    }
   ],
   "source": [
    "log_odd = model.params['Intercept']\n",
    "odds = np.exp(log_odd)\n",
    "\n",
    "f'Para um passageiro que não pagou nada, as chances de sobreviver são de {odds/100:.2%}'"
   ]
  },
  {
   "cell_type": "code",
   "execution_count": 9,
   "id": "6ceb73d7-64e2-4819-bb1c-b08ff7c19078",
   "metadata": {},
   "outputs": [
    {
     "data": {
      "text/plain": [
       "'Para cada dólar adicional gasto, as chances de sobreviver aumentam em 1.02%'"
      ]
     },
     "execution_count": 9,
     "metadata": {},
     "output_type": "execute_result"
    }
   ],
   "source": [
    "log_odd = model.params['fare']\n",
    "odds = np.exp(log_odd)\n",
    "\n",
    "f'Para cada dólar adicional gasto, as chances de sobreviver aumentam em {odds/100:.2%}'"
   ]
  },
  {
   "cell_type": "markdown",
   "id": "8adedf7b-e802-43d8-a51e-fdc06dc5e714",
   "metadata": {},
   "source": [
    "## Interpretação de Variável Categórica"
   ]
  },
  {
   "cell_type": "code",
   "execution_count": 10,
   "id": "13320d03-ed41-4e8b-8f8f-17740304500c",
   "metadata": {},
   "outputs": [
    {
     "name": "stdout",
     "output_type": "stream",
     "text": [
      "Optimization terminated successfully.\n",
      "         Current function value: 0.607805\n",
      "         Iterations 5\n"
     ]
    },
    {
     "data": {
      "text/plain": [
       "Intercept         0.530628\n",
       "C(pclass)[T.2]   -0.639431\n",
       "C(pclass)[T.3]   -1.670399\n",
       "dtype: float64"
      ]
     },
     "execution_count": 10,
     "metadata": {},
     "output_type": "execute_result"
    }
   ],
   "source": [
    "model = smf.logit(formula='survived ~ C(pclass)', data=titanic).fit()\n",
    "model.params"
   ]
  },
  {
   "cell_type": "code",
   "execution_count": 11,
   "id": "bfa6e936-9897-409a-af59-663ad190711d",
   "metadata": {},
   "outputs": [
    {
     "data": {
      "text/plain": [
       "'Para um passageiro de primera classe, as chances de sobreviver são de 1.70%'"
      ]
     },
     "execution_count": 11,
     "metadata": {},
     "output_type": "execute_result"
    }
   ],
   "source": [
    "log_odd = model.params['Intercept']\n",
    "odds_i = np.exp(log_odd)\n",
    "\n",
    "f'Para um passageiro de primera classe, as chances de sobreviver são de {odds_i/100:.2%}'"
   ]
  },
  {
   "cell_type": "code",
   "execution_count": 12,
   "id": "3e119857-e7f2-43f8-8814-e9b15f821b2f",
   "metadata": {},
   "outputs": [
    {
     "data": {
      "text/plain": [
       "'Para um passageiro de segunda classe, as chances de sobreviver são as chances de sobreviver na primeira classe multiplicado por 0.5275924802910862'"
      ]
     },
     "execution_count": 12,
     "metadata": {},
     "output_type": "execute_result"
    }
   ],
   "source": [
    "log_odd = model.params['C(pclass)[T.2]']\n",
    "odds_2nd = np.exp(log_odd)\n",
    "\n",
    "f'Para um passageiro de segunda classe, as chances de sobreviver são as chances de sobreviver na primeira classe multiplicado por {odds_2nd}'"
   ]
  },
  {
   "cell_type": "code",
   "execution_count": 13,
   "id": "473c508c-63d2-46a6-a108-59aa9ec3787a",
   "metadata": {},
   "outputs": [
    {
     "data": {
      "text/plain": [
       "'Para um passageiro de segunda classe, as chances de sobreviver são de 0.90%'"
      ]
     },
     "execution_count": 13,
     "metadata": {},
     "output_type": "execute_result"
    }
   ],
   "source": [
    "f'Para um passageiro de segunda classe, as chances de sobreviver são de {odds_2nd*odds_i/100:.2%}'"
   ]
  }
 ],
 "metadata": {
  "kernelspec": {
   "display_name": "Python 3 (ipykernel)",
   "language": "python",
   "name": "python3"
  },
  "language_info": {
   "codemirror_mode": {
    "name": "ipython",
    "version": 3
   },
   "file_extension": ".py",
   "mimetype": "text/x-python",
   "name": "python",
   "nbconvert_exporter": "python",
   "pygments_lexer": "ipython3",
   "version": "3.11.6"
  }
 },
 "nbformat": 4,
 "nbformat_minor": 5
}
