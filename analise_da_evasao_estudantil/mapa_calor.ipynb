{
 "cells": [
  {
   "cell_type": "code",
   "execution_count": 1,
   "id": "cf10b397-88dd-4237-b353-e9145af4e8eb",
   "metadata": {},
   "outputs": [],
   "source": [
    "import pandas as pd\n",
    "from folium.plugins import HeatMap\n",
    "import folium\n",
    "import seaborn as sns\n",
    "import matplotlib.pyplot as plt\n",
    "import plotly.express as px"
   ]
  },
  {
   "cell_type": "code",
   "execution_count": 2,
   "id": "1315cdba-2b74-4f14-8200-6dcc0bb6986b",
   "metadata": {},
   "outputs": [],
   "source": [
    "import os \n",
    "filepath = os.path.join(os.getcwd(), 'dataset_tratado.csv')"
   ]
  },
  {
   "cell_type": "code",
   "execution_count": 3,
   "id": "c5cdd089-2d43-4f70-9ddb-0e1cebae21a6",
   "metadata": {},
   "outputs": [],
   "source": [
    "# Cria o DataFrame completo, com todos os dados do arquivo dataset_grad_pres.csv\n",
    "\n",
    "df_completo = pd.read_csv(filepath, engine='python', \n",
    "                     on_bad_lines='warn', header=0, sep = \",\")"
   ]
  },
  {
   "cell_type": "code",
   "execution_count": 4,
   "id": "d764c494-e46a-4216-ad18-8e4bc9193500",
   "metadata": {},
   "outputs": [
    {
     "data": {
      "text/html": [
       "<div>\n",
       "<style scoped>\n",
       "    .dataframe tbody tr th:only-of-type {\n",
       "        vertical-align: middle;\n",
       "    }\n",
       "\n",
       "    .dataframe tbody tr th {\n",
       "        vertical-align: top;\n",
       "    }\n",
       "\n",
       "    .dataframe thead th {\n",
       "        text-align: right;\n",
       "    }\n",
       "</style>\n",
       "<table border=\"1\" class=\"dataframe\">\n",
       "  <thead>\n",
       "    <tr style=\"text-align: right;\">\n",
       "      <th></th>\n",
       "      <th>ANO_INGRESSO</th>\n",
       "      <th>SEMESTRE_INGRESSO</th>\n",
       "      <th>TIPO_INGRESSO</th>\n",
       "      <th>COTA</th>\n",
       "      <th>CURSO_NOME</th>\n",
       "      <th>AREA</th>\n",
       "      <th>SITUACAO</th>\n",
       "      <th>MOTIVO_SAIDA</th>\n",
       "      <th>CAMPUS</th>\n",
       "      <th>TURNO</th>\n",
       "      <th>...</th>\n",
       "      <th>LAT</th>\n",
       "      <th>LOCAL</th>\n",
       "      <th>LNG_ORGM</th>\n",
       "      <th>LAT_ORGM</th>\n",
       "      <th>LOCAL_ORGM</th>\n",
       "      <th>BAIXA_RENDA</th>\n",
       "      <th>ESCOLA_PUBLICA</th>\n",
       "      <th>ETNIA_PPI</th>\n",
       "      <th>PCD</th>\n",
       "      <th>ESTADO</th>\n",
       "    </tr>\n",
       "  </thead>\n",
       "  <tbody>\n",
       "    <tr>\n",
       "      <th>0</th>\n",
       "      <td>2008</td>\n",
       "      <td>1</td>\n",
       "      <td>Transferência Obrigatória</td>\n",
       "      <td>NaN</td>\n",
       "      <td>CIÊNCIAS BIOLÓGICAS</td>\n",
       "      <td>Ciências Biológicas</td>\n",
       "      <td>Evadido</td>\n",
       "      <td>A Especificar</td>\n",
       "      <td>JUIZ DE FORA</td>\n",
       "      <td>INTEGRAL</td>\n",
       "      <td>...</td>\n",
       "      <td>-21.753129</td>\n",
       "      <td>VALE DO IPE, JUIZ DE FORA, MG, BRASIL</td>\n",
       "      <td>NaN</td>\n",
       "      <td>NaN</td>\n",
       "      <td>NaN</td>\n",
       "      <td>NaN</td>\n",
       "      <td>NaN</td>\n",
       "      <td>NaN</td>\n",
       "      <td>NaN</td>\n",
       "      <td>NaN</td>\n",
       "    </tr>\n",
       "    <tr>\n",
       "      <th>1</th>\n",
       "      <td>2008</td>\n",
       "      <td>1</td>\n",
       "      <td>VESTIBULAR</td>\n",
       "      <td>Grupo B</td>\n",
       "      <td>CIÊNCIAS BIOLÓGICAS</td>\n",
       "      <td>Ciências Biológicas</td>\n",
       "      <td>Evadido</td>\n",
       "      <td>A Especificar</td>\n",
       "      <td>JUIZ DE FORA</td>\n",
       "      <td>INTEGRAL</td>\n",
       "      <td>...</td>\n",
       "      <td>-21.804313</td>\n",
       "      <td>PARQUE JARDIM DA SERRA, JUIZ DE FORA, MG, BRASIL</td>\n",
       "      <td>NaN</td>\n",
       "      <td>NaN</td>\n",
       "      <td>NaN</td>\n",
       "      <td>Sim</td>\n",
       "      <td>Sim</td>\n",
       "      <td>Não</td>\n",
       "      <td>Não</td>\n",
       "      <td>NaN</td>\n",
       "    </tr>\n",
       "    <tr>\n",
       "      <th>2</th>\n",
       "      <td>2008</td>\n",
       "      <td>1</td>\n",
       "      <td>PISM</td>\n",
       "      <td>Grupo C</td>\n",
       "      <td>CIÊNCIAS BIOLÓGICAS</td>\n",
       "      <td>Ciências Biológicas</td>\n",
       "      <td>Evadido</td>\n",
       "      <td>Abandono</td>\n",
       "      <td>JUIZ DE FORA</td>\n",
       "      <td>INTEGRAL</td>\n",
       "      <td>...</td>\n",
       "      <td>-21.750069</td>\n",
       "      <td>SANTA CATARINA, JUIZ DE FORA, MG, BRASIL</td>\n",
       "      <td>NaN</td>\n",
       "      <td>NaN</td>\n",
       "      <td>NaN</td>\n",
       "      <td>Não</td>\n",
       "      <td>Não</td>\n",
       "      <td>Não</td>\n",
       "      <td>Não</td>\n",
       "      <td>NaN</td>\n",
       "    </tr>\n",
       "    <tr>\n",
       "      <th>3</th>\n",
       "      <td>2008</td>\n",
       "      <td>1</td>\n",
       "      <td>VESTIBULAR</td>\n",
       "      <td>Grupo C</td>\n",
       "      <td>CIÊNCIAS BIOLÓGICAS</td>\n",
       "      <td>Ciências Biológicas</td>\n",
       "      <td>Concluido</td>\n",
       "      <td>Conclusão</td>\n",
       "      <td>JUIZ DE FORA</td>\n",
       "      <td>INTEGRAL</td>\n",
       "      <td>...</td>\n",
       "      <td>-21.718564</td>\n",
       "      <td>ANDRELANDIA, MG, BRASIL</td>\n",
       "      <td>NaN</td>\n",
       "      <td>NaN</td>\n",
       "      <td>NaN</td>\n",
       "      <td>Não</td>\n",
       "      <td>Não</td>\n",
       "      <td>Não</td>\n",
       "      <td>Não</td>\n",
       "      <td>NaN</td>\n",
       "    </tr>\n",
       "    <tr>\n",
       "      <th>4</th>\n",
       "      <td>2008</td>\n",
       "      <td>1</td>\n",
       "      <td>VESTIBULAR</td>\n",
       "      <td>Grupo B</td>\n",
       "      <td>CIÊNCIAS BIOLÓGICAS</td>\n",
       "      <td>Ciências Biológicas</td>\n",
       "      <td>Evadido</td>\n",
       "      <td>A Especificar</td>\n",
       "      <td>JUIZ DE FORA</td>\n",
       "      <td>INTEGRAL</td>\n",
       "      <td>...</td>\n",
       "      <td>-20.850899</td>\n",
       "      <td>PAULA CANDIDO, MG, BRASIL</td>\n",
       "      <td>NaN</td>\n",
       "      <td>NaN</td>\n",
       "      <td>NaN</td>\n",
       "      <td>Sim</td>\n",
       "      <td>Sim</td>\n",
       "      <td>Não</td>\n",
       "      <td>Não</td>\n",
       "      <td>NaN</td>\n",
       "    </tr>\n",
       "    <tr>\n",
       "      <th>...</th>\n",
       "      <td>...</td>\n",
       "      <td>...</td>\n",
       "      <td>...</td>\n",
       "      <td>...</td>\n",
       "      <td>...</td>\n",
       "      <td>...</td>\n",
       "      <td>...</td>\n",
       "      <td>...</td>\n",
       "      <td>...</td>\n",
       "      <td>...</td>\n",
       "      <td>...</td>\n",
       "      <td>...</td>\n",
       "      <td>...</td>\n",
       "      <td>...</td>\n",
       "      <td>...</td>\n",
       "      <td>...</td>\n",
       "      <td>...</td>\n",
       "      <td>...</td>\n",
       "      <td>...</td>\n",
       "      <td>...</td>\n",
       "      <td>...</td>\n",
       "    </tr>\n",
       "    <tr>\n",
       "      <th>52604</th>\n",
       "      <td>2023</td>\n",
       "      <td>1</td>\n",
       "      <td>SiSU</td>\n",
       "      <td>Grupo A</td>\n",
       "      <td>BACHARELADO EM DESIGN</td>\n",
       "      <td>Lingüística  Letras e Artes</td>\n",
       "      <td>Ativo</td>\n",
       "      <td>A Especificar</td>\n",
       "      <td>JUIZ DE FORA</td>\n",
       "      <td>INTEGRAL</td>\n",
       "      <td>...</td>\n",
       "      <td>-20.678101</td>\n",
       "      <td>CANAA, MG, BRASIL</td>\n",
       "      <td>-42.609760</td>\n",
       "      <td>-20.678101</td>\n",
       "      <td>CANAA, MG, BRASIL</td>\n",
       "      <td>Sim</td>\n",
       "      <td>Sim</td>\n",
       "      <td>Sim</td>\n",
       "      <td>Não</td>\n",
       "      <td>MG</td>\n",
       "    </tr>\n",
       "    <tr>\n",
       "      <th>52605</th>\n",
       "      <td>2023</td>\n",
       "      <td>1</td>\n",
       "      <td>SiSU</td>\n",
       "      <td>Grupo C</td>\n",
       "      <td>BACHARELADO EM DESIGN</td>\n",
       "      <td>Lingüística  Letras e Artes</td>\n",
       "      <td>Ativo</td>\n",
       "      <td>A Especificar</td>\n",
       "      <td>JUIZ DE FORA</td>\n",
       "      <td>INTEGRAL</td>\n",
       "      <td>...</td>\n",
       "      <td>-15.601411</td>\n",
       "      <td>CUIABA, MT, BRASIL</td>\n",
       "      <td>-56.097892</td>\n",
       "      <td>-15.601411</td>\n",
       "      <td>CUIABA, MT, BRASIL</td>\n",
       "      <td>Não</td>\n",
       "      <td>Não</td>\n",
       "      <td>Não</td>\n",
       "      <td>Não</td>\n",
       "      <td>MT</td>\n",
       "    </tr>\n",
       "    <tr>\n",
       "      <th>52606</th>\n",
       "      <td>2023</td>\n",
       "      <td>1</td>\n",
       "      <td>SiSU</td>\n",
       "      <td>Grupo C</td>\n",
       "      <td>BACHARELADO EM DESIGN</td>\n",
       "      <td>Lingüística  Letras e Artes</td>\n",
       "      <td>Ativo</td>\n",
       "      <td>A Especificar</td>\n",
       "      <td>JUIZ DE FORA</td>\n",
       "      <td>INTEGRAL</td>\n",
       "      <td>...</td>\n",
       "      <td>-22.470962</td>\n",
       "      <td>RESENDE, RJ, BRASIL</td>\n",
       "      <td>-44.451329</td>\n",
       "      <td>-22.470962</td>\n",
       "      <td>RESENDE, RJ, BRASIL</td>\n",
       "      <td>Não</td>\n",
       "      <td>Não</td>\n",
       "      <td>Não</td>\n",
       "      <td>Não</td>\n",
       "      <td>RJ</td>\n",
       "    </tr>\n",
       "    <tr>\n",
       "      <th>52607</th>\n",
       "      <td>2023</td>\n",
       "      <td>1</td>\n",
       "      <td>PISM</td>\n",
       "      <td>Grupo B</td>\n",
       "      <td>BACHARELADO EM DESIGN</td>\n",
       "      <td>Lingüística  Letras e Artes</td>\n",
       "      <td>Evadido</td>\n",
       "      <td>Desistência</td>\n",
       "      <td>JUIZ DE FORA</td>\n",
       "      <td>INTEGRAL</td>\n",
       "      <td>...</td>\n",
       "      <td>-21.120123</td>\n",
       "      <td>UBA, MG, BRASIL</td>\n",
       "      <td>-42.942619</td>\n",
       "      <td>-21.120123</td>\n",
       "      <td>UBA, MG, BRASIL</td>\n",
       "      <td>Sim</td>\n",
       "      <td>Sim</td>\n",
       "      <td>Não</td>\n",
       "      <td>Não</td>\n",
       "      <td>MG</td>\n",
       "    </tr>\n",
       "    <tr>\n",
       "      <th>52608</th>\n",
       "      <td>2023</td>\n",
       "      <td>1</td>\n",
       "      <td>PISM</td>\n",
       "      <td>Grupo D</td>\n",
       "      <td>BACHARELADO EM DESIGN</td>\n",
       "      <td>Lingüística  Letras e Artes</td>\n",
       "      <td>Ativo</td>\n",
       "      <td>A Especificar</td>\n",
       "      <td>JUIZ DE FORA</td>\n",
       "      <td>INTEGRAL</td>\n",
       "      <td>...</td>\n",
       "      <td>-21.735352</td>\n",
       "      <td>FRANCISCO BERNARDINO, JUIZ DE FORA, MG, BRASIL</td>\n",
       "      <td>-42.614181</td>\n",
       "      <td>-21.196919</td>\n",
       "      <td>MIRAI, MG, BRASIL</td>\n",
       "      <td>Não</td>\n",
       "      <td>Sim</td>\n",
       "      <td>Sim</td>\n",
       "      <td>Não</td>\n",
       "      <td>MG</td>\n",
       "    </tr>\n",
       "  </tbody>\n",
       "</table>\n",
       "<p>52609 rows × 24 columns</p>\n",
       "</div>"
      ],
      "text/plain": [
       "       ANO_INGRESSO  SEMESTRE_INGRESSO              TIPO_INGRESSO     COTA  \\\n",
       "0              2008                  1  Transferência Obrigatória      NaN   \n",
       "1              2008                  1                 VESTIBULAR  Grupo B   \n",
       "2              2008                  1                       PISM  Grupo C   \n",
       "3              2008                  1                 VESTIBULAR  Grupo C   \n",
       "4              2008                  1                 VESTIBULAR  Grupo B   \n",
       "...             ...                ...                        ...      ...   \n",
       "52604          2023                  1                       SiSU  Grupo A   \n",
       "52605          2023                  1                       SiSU  Grupo C   \n",
       "52606          2023                  1                       SiSU  Grupo C   \n",
       "52607          2023                  1                       PISM  Grupo B   \n",
       "52608          2023                  1                       PISM  Grupo D   \n",
       "\n",
       "                  CURSO_NOME                         AREA   SITUACAO  \\\n",
       "0        CIÊNCIAS BIOLÓGICAS          Ciências Biológicas    Evadido   \n",
       "1        CIÊNCIAS BIOLÓGICAS          Ciências Biológicas    Evadido   \n",
       "2        CIÊNCIAS BIOLÓGICAS          Ciências Biológicas    Evadido   \n",
       "3        CIÊNCIAS BIOLÓGICAS          Ciências Biológicas  Concluido   \n",
       "4        CIÊNCIAS BIOLÓGICAS          Ciências Biológicas    Evadido   \n",
       "...                      ...                          ...        ...   \n",
       "52604  BACHARELADO EM DESIGN  Lingüística  Letras e Artes      Ativo   \n",
       "52605  BACHARELADO EM DESIGN  Lingüística  Letras e Artes      Ativo   \n",
       "52606  BACHARELADO EM DESIGN  Lingüística  Letras e Artes      Ativo   \n",
       "52607  BACHARELADO EM DESIGN  Lingüística  Letras e Artes    Evadido   \n",
       "52608  BACHARELADO EM DESIGN  Lingüística  Letras e Artes      Ativo   \n",
       "\n",
       "        MOTIVO_SAIDA        CAMPUS     TURNO  ...        LAT  \\\n",
       "0      A Especificar  JUIZ DE FORA  INTEGRAL  ... -21.753129   \n",
       "1      A Especificar  JUIZ DE FORA  INTEGRAL  ... -21.804313   \n",
       "2           Abandono  JUIZ DE FORA  INTEGRAL  ... -21.750069   \n",
       "3          Conclusão  JUIZ DE FORA  INTEGRAL  ... -21.718564   \n",
       "4      A Especificar  JUIZ DE FORA  INTEGRAL  ... -20.850899   \n",
       "...              ...           ...       ...  ...        ...   \n",
       "52604  A Especificar  JUIZ DE FORA  INTEGRAL  ... -20.678101   \n",
       "52605  A Especificar  JUIZ DE FORA  INTEGRAL  ... -15.601411   \n",
       "52606  A Especificar  JUIZ DE FORA  INTEGRAL  ... -22.470962   \n",
       "52607    Desistência  JUIZ DE FORA  INTEGRAL  ... -21.120123   \n",
       "52608  A Especificar  JUIZ DE FORA  INTEGRAL  ... -21.735352   \n",
       "\n",
       "                                                  LOCAL   LNG_ORGM   LAT_ORGM  \\\n",
       "0                 VALE DO IPE, JUIZ DE FORA, MG, BRASIL        NaN        NaN   \n",
       "1      PARQUE JARDIM DA SERRA, JUIZ DE FORA, MG, BRASIL        NaN        NaN   \n",
       "2              SANTA CATARINA, JUIZ DE FORA, MG, BRASIL        NaN        NaN   \n",
       "3                               ANDRELANDIA, MG, BRASIL        NaN        NaN   \n",
       "4                             PAULA CANDIDO, MG, BRASIL        NaN        NaN   \n",
       "...                                                 ...        ...        ...   \n",
       "52604                                 CANAA, MG, BRASIL -42.609760 -20.678101   \n",
       "52605                                CUIABA, MT, BRASIL -56.097892 -15.601411   \n",
       "52606                               RESENDE, RJ, BRASIL -44.451329 -22.470962   \n",
       "52607                                   UBA, MG, BRASIL -42.942619 -21.120123   \n",
       "52608    FRANCISCO BERNARDINO, JUIZ DE FORA, MG, BRASIL -42.614181 -21.196919   \n",
       "\n",
       "                LOCAL_ORGM BAIXA_RENDA  ESCOLA_PUBLICA  ETNIA_PPI  PCD ESTADO  \n",
       "0                      NaN         NaN             NaN        NaN  NaN    NaN  \n",
       "1                      NaN         Sim             Sim        Não  Não    NaN  \n",
       "2                      NaN         Não             Não        Não  Não    NaN  \n",
       "3                      NaN         Não             Não        Não  Não    NaN  \n",
       "4                      NaN         Sim             Sim        Não  Não    NaN  \n",
       "...                    ...         ...             ...        ...  ...    ...  \n",
       "52604    CANAA, MG, BRASIL         Sim             Sim        Sim  Não     MG  \n",
       "52605   CUIABA, MT, BRASIL         Não             Não        Não  Não     MT  \n",
       "52606  RESENDE, RJ, BRASIL         Não             Não        Não  Não     RJ  \n",
       "52607      UBA, MG, BRASIL         Sim             Sim        Não  Não     MG  \n",
       "52608    MIRAI, MG, BRASIL         Não             Sim        Sim  Não     MG  \n",
       "\n",
       "[52609 rows x 24 columns]"
      ]
     },
     "execution_count": 4,
     "metadata": {},
     "output_type": "execute_result"
    }
   ],
   "source": [
    "df_completo"
   ]
  },
  {
   "cell_type": "code",
   "execution_count": 5,
   "id": "072939b7-87c5-49fb-b5e7-0f958ed20cbd",
   "metadata": {},
   "outputs": [
    {
     "data": {
      "text/plain": [
       "18447"
      ]
     },
     "execution_count": 5,
     "metadata": {},
     "output_type": "execute_result"
    }
   ],
   "source": [
    "valores_nan = df_completo['LOCAL_ORGM'].isna().sum()\n",
    "valores_nan"
   ]
  },
  {
   "cell_type": "code",
   "execution_count": 6,
   "id": "047f40a6-e876-4e5c-b6a7-7158c4da92f4",
   "metadata": {},
   "outputs": [],
   "source": [
    "df_completo = df_completo.dropna(subset=['LOCAL_ORGM'])"
   ]
  },
  {
   "cell_type": "code",
   "execution_count": 7,
   "id": "92fdc44e-e69c-4650-9b2d-a844e375ff7c",
   "metadata": {},
   "outputs": [
    {
     "data": {
      "text/plain": [
       "0"
      ]
     },
     "execution_count": 7,
     "metadata": {},
     "output_type": "execute_result"
    }
   ],
   "source": [
    "df_completo['LOCAL_ORGM'].isna().sum()"
   ]
  },
  {
   "cell_type": "code",
   "execution_count": 8,
   "id": "fc46ba21-20a1-4512-888d-02fe78efb858",
   "metadata": {},
   "outputs": [
    {
     "data": {
      "text/plain": [
       "27       MG\n",
       "49       MG\n",
       "50       MG\n",
       "51       MG\n",
       "52       MG\n",
       "         ..\n",
       "52604    MG\n",
       "52605    MT\n",
       "52606    RJ\n",
       "52607    MG\n",
       "52608    MG\n",
       "Name: ESTADO, Length: 34162, dtype: object"
      ]
     },
     "execution_count": 8,
     "metadata": {},
     "output_type": "execute_result"
    }
   ],
   "source": [
    "df_completo['ESTADO']"
   ]
  },
  {
   "cell_type": "code",
   "execution_count": 9,
   "id": "89bea896-7d27-43ed-a5d8-44a1ce3b23f3",
   "metadata": {},
   "outputs": [],
   "source": [
    "df_evadidos = df_completo[df_completo['SITUACAO'] == 'Evadido']"
   ]
  },
  {
   "cell_type": "code",
   "execution_count": 10,
   "id": "6e212faf-d682-4525-afec-5d6520d5ecf5",
   "metadata": {},
   "outputs": [
    {
     "data": {
      "text/plain": [
       "ESTADO\n",
       "MG    8564\n",
       "RJ     926\n",
       "SP     231\n",
       "ES     106\n",
       "BA      28\n",
       "DF      15\n",
       "RS      10\n",
       "GO      10\n",
       "MS       7\n",
       "PA       7\n",
       "CE       7\n",
       "PR       6\n",
       "RO       5\n",
       "SE       4\n",
       "SC       3\n",
       "AC       3\n",
       "AM       2\n",
       "MT       2\n",
       "TO       1\n",
       "PI       1\n",
       "MA       1\n",
       "PB       1\n",
       "RN       1\n",
       "Name: count, dtype: int64"
      ]
     },
     "execution_count": 10,
     "metadata": {},
     "output_type": "execute_result"
    }
   ],
   "source": [
    "# Contar o número de alunos evadidos por estado\n",
    "contagem_evadidos_por_estado = df_evadidos['ESTADO'].value_counts()\n",
    "contagem_evadidos_por_estado"
   ]
  },
  {
   "cell_type": "code",
   "execution_count": 11,
   "id": "2e5956c6-e711-4b02-bbf2-36c2e195b6f9",
   "metadata": {},
   "outputs": [],
   "source": [
    "# Use groupby para agrupar os dados por 'estado' e aplique a função count() para contar as linhas por estado\n",
    "evadidos_por_estado = df_evadidos.groupby('ESTADO').size().reset_index(name='Número de alunos evadidos')"
   ]
  },
  {
   "cell_type": "code",
   "execution_count": 12,
   "id": "7d196a58-eff0-49eb-bff8-aacbe920f35b",
   "metadata": {},
   "outputs": [
    {
     "data": {
      "text/plain": [
       "ESTADO\n",
       "MG    29320\n",
       "RJ     3410\n",
       "SP      736\n",
       "ES      351\n",
       "BA       84\n",
       "DF       41\n",
       "GO       37\n",
       "RS       27\n",
       "PA       24\n",
       "MS       23\n",
       "PR       16\n",
       "CE       14\n",
       "MT       14\n",
       "RO       12\n",
       "SE        8\n",
       "SC        8\n",
       "MA        7\n",
       "AM        6\n",
       "PB        5\n",
       "PE        4\n",
       "AC        4\n",
       "RN        4\n",
       "TO        2\n",
       "RR        2\n",
       "AP        2\n",
       "PI        1\n",
       "Name: count, dtype: int64"
      ]
     },
     "execution_count": 12,
     "metadata": {},
     "output_type": "execute_result"
    }
   ],
   "source": [
    "# Contar o número total de alunos por estado\n",
    "contagem_total_por_estado = df_completo['ESTADO'].value_counts()\n",
    "contagem_total_por_estado"
   ]
  },
  {
   "cell_type": "code",
   "execution_count": 13,
   "id": "55bebff6-ea77-43fe-baf2-57773eae5b1a",
   "metadata": {},
   "outputs": [],
   "source": [
    "# Garantir que as séries tenham os mesmos índices para a divisão\n",
    "evadidos_por_estado = contagem_total_por_estado.reindex(contagem_total_por_estado.index, fill_value=0)"
   ]
  },
  {
   "cell_type": "code",
   "execution_count": 14,
   "id": "47809843-519c-483d-b127-97db9e7f0f2d",
   "metadata": {},
   "outputs": [
    {
     "data": {
      "text/plain": [
       "ESTADO\n",
       "AC     75.000000\n",
       "AM     33.333333\n",
       "AP           NaN\n",
       "BA     33.333333\n",
       "CE     50.000000\n",
       "DF     36.585366\n",
       "ES     30.199430\n",
       "GO     27.027027\n",
       "MA     14.285714\n",
       "MG     29.208731\n",
       "MS     30.434783\n",
       "MT     14.285714\n",
       "PA     29.166667\n",
       "PB     20.000000\n",
       "PE           NaN\n",
       "PI    100.000000\n",
       "PR     37.500000\n",
       "RJ     27.155425\n",
       "RN     25.000000\n",
       "RO     41.666667\n",
       "RR           NaN\n",
       "RS     37.037037\n",
       "SC     37.500000\n",
       "SE     50.000000\n",
       "SP     31.385870\n",
       "TO     50.000000\n",
       "Name: count, dtype: float64"
      ]
     },
     "execution_count": 14,
     "metadata": {},
     "output_type": "execute_result"
    }
   ],
   "source": [
    "# Calcular a proporção de alunos evadidos por estado em relação ao total de alunos por estado\n",
    "proporcao_por_estado = ( contagem_evadidos_por_estado / contagem_total_por_estado ) * 100\n",
    "proporcao_por_estado"
   ]
  },
  {
   "cell_type": "code",
   "execution_count": 15,
   "id": "8b6617ed-2887-4fd7-af2b-3e47bb6a0938",
   "metadata": {},
   "outputs": [
    {
     "data": {
      "text/plain": [
       "<bound method NDFrame.head of ESTADO\n",
       "PI    100.000000\n",
       "AC     75.000000\n",
       "SE     50.000000\n",
       "TO     50.000000\n",
       "CE     50.000000\n",
       "RO     41.666667\n",
       "PR     37.500000\n",
       "SC     37.500000\n",
       "RS     37.037037\n",
       "DF     36.585366\n",
       "AM     33.333333\n",
       "BA     33.333333\n",
       "SP     31.385870\n",
       "MS     30.434783\n",
       "ES     30.199430\n",
       "MG     29.208731\n",
       "PA     29.166667\n",
       "RJ     27.155425\n",
       "GO     27.027027\n",
       "RN     25.000000\n",
       "PB     20.000000\n",
       "MT     14.285714\n",
       "MA     14.285714\n",
       "AP           NaN\n",
       "PE           NaN\n",
       "RR           NaN\n",
       "Name: count, dtype: float64>"
      ]
     },
     "execution_count": 15,
     "metadata": {},
     "output_type": "execute_result"
    }
   ],
   "source": [
    "# Ordenar o DataFrame por proporção\n",
    "proporcao_por_estado = proporcao_por_estado.sort_values(ascending=False)\n",
    "proporcao_por_estado.head"
   ]
  },
  {
   "cell_type": "code",
   "execution_count": 16,
   "id": "4af5649a-06a7-4a62-badd-3725d8583247",
   "metadata": {},
   "outputs": [
    {
     "name": "stderr",
     "output_type": "stream",
     "text": [
      "posx and posy should be finite values\n",
      "posx and posy should be finite values\n",
      "posx and posy should be finite values\n",
      "posx and posy should be finite values\n",
      "posx and posy should be finite values\n",
      "posx and posy should be finite values\n"
     ]
    },
    {
     "data": {
      "image/png": "[encoded data removed]",
      "text/plain": [
       "<Figure size 2000x600 with 1 Axes>"
      ]
     },
     "metadata": {},
     "output_type": "display_data"
    }
   ],
   "source": [
    "# Criar um gráfico de barras\n",
    "plt.figure(figsize=(20, 6))\n",
    "bars = proporcao_por_estado.plot(kind='bar')\n",
    "plt.title('Proporção de Alunos Evadidos por Estado')\n",
    "plt.xlabel('ESTADO')\n",
    "plt.ylabel('Proporção (%)')\n",
    "\n",
    "# Adicionar os números nas barras\n",
    "for i, v in enumerate(proporcao_por_estado):\n",
    "    plt.text(i, v + 0.5, f'{v:.2f}%', ha='center', va='bottom')\n",
    "\n",
    "plt.show()\n",
    "\n",
    "#interpretar esse dado levando em consideração os números absolutos, pois PI possui 1 ingresso e 1 evadido dando a proporção de 100%. Abaixo temos os 4 principais estados\n",
    "#com alunos ingressantes e evadidos. Destacar estes na discussão.\n",
    "# MG   29320\n",
    "#RJ     3410\n",
    "#SP      736\n",
    "#ES      351"
   ]
  },
  {
   "cell_type": "code",
   "execution_count": 17,
   "id": "7915859d-1ef8-4b96-b684-597da941ca4d",
   "metadata": {},
   "outputs": [],
   "source": [
    "data = {\n",
    "    'Estado': ['PI', 'AC', 'SE', 'TO', 'CE', 'RO', 'PR', 'SC', 'RS', 'DF', 'AM', 'BA', 'SP', 'MS', 'ES', 'MG', 'PA', 'RJ', 'GO', 'RN', 'PB', 'MT', 'MA', 'AP', 'PE', 'RR'],\n",
    "    'Proporcao_Evasao': [100.0, 75.0, 50.0, 50.0, 50.0, 41.67, 37.5, 37.5, 37.04, 36.59, 33.33, 33.33, 31.39, 30.43, 30.2, 29.21, 29.17, 27.16, 27.03, 25.0, 20.0, 14.29, 14.29, None, None, None]\n",
    "}\n",
    "df = pd.DataFrame(data)"
   ]
  },
  {
   "cell_type": "code",
   "execution_count": 18,
   "id": "1563a29a-8d07-48ac-9055-a11105efd0d6",
   "metadata": {},
   "outputs": [
    {
     "data": {
      "text/plain": [
       "<bound method NDFrame.head of    Estado  Proporcao_Evasao\n",
       "0      PI            100.00\n",
       "1      AC             75.00\n",
       "2      SE             50.00\n",
       "3      TO             50.00\n",
       "4      CE             50.00\n",
       "5      RO             41.67\n",
       "6      PR             37.50\n",
       "7      SC             37.50\n",
       "8      RS             37.04\n",
       "9      DF             36.59\n",
       "10     AM             33.33\n",
       "11     BA             33.33\n",
       "12     SP             31.39\n",
       "13     MS             30.43\n",
       "14     ES             30.20\n",
       "15     MG             29.21\n",
       "16     PA             29.17\n",
       "17     RJ             27.16\n",
       "18     GO             27.03\n",
       "19     RN             25.00\n",
       "20     PB             20.00\n",
       "21     MT             14.29\n",
       "22     MA             14.29\n",
       "23     AP               NaN\n",
       "24     PE               NaN\n",
       "25     RR               NaN>"
      ]
     },
     "execution_count": 18,
     "metadata": {},
     "output_type": "execute_result"
    }
   ],
   "source": [
    "df.head"
   ]
  },
  {
   "cell_type": "code",
   "execution_count": 19,
   "id": "299440e0-e7fd-45a6-9324-0b5f53c805c0",
   "metadata": {
    "scrolled": true
   },
   "outputs": [
    {
     "data": {
      "image/png": "[encoded data removed]",
      "text/plain": [
       "<Figure size 1200x800 with 2 Axes>"
      ]
     },
     "metadata": {},
     "output_type": "display_data"
    }
   ],
   "source": [
    "# Configure o estilo do gráfico\n",
    "plt.figure(figsize=(12, 8))\n",
    "plt.imshow([df['Proporcao_Evasao'].values], cmap=\"YlGnBu\", aspect='auto', vmin=0, vmax=100)  # Ajuste vmin e vmax conforme necessário\n",
    "plt.xticks(range(len(df)), df['Estado'], rotation=90)\n",
    "plt.colorbar(label='Proporção de Evasão (%)')\n",
    "plt.title('Proporção de Alunos Evasados por Estado no Brasil')\n",
    "plt.show()"
   ]
  },
  {
   "cell_type": "code",
   "execution_count": 20,
   "id": "83615a66-0d71-4358-874e-418ea05560fd",
   "metadata": {},
   "outputs": [],
   "source": [
    "import plotly.graph_objects as go"
   ]
  },
  {
   "cell_type": "code",
   "execution_count": 28,
   "id": "3b4b6008-95b6-45fe-92b2-956ce9c153a3",
   "metadata": {},
   "outputs": [
    {
     "data": {
      "application/vnd.plotly.v1+json": {
       "config": {
        "plotlyServerURL": "https://plot.ly"
       },
       "data": [
        {
         "marker": {
          "color": "lightblue"
         },
         "name": "Número de Alunos Evadidos",
         "type": "bar",
         "x": [
          "MG",
          "RJ",
          "SP",
          "ES",
          "BA",
          "DF",
          "RS",
          "GO",
          "MS",
          "PA",
          "CE",
          "PR",
          "RO",
          "SE",
          "SC",
          "AC",
          "AM",
          "MT",
          "TO",
          "PI",
          "MA",
          "PB",
          "RN"
         ],
         "y": [
          8564,
          926,
          231,
          106,
          28,
          15,
          10,
          10,
          7,
          7,
          7,
          6,
          5,
          4,
          3,
          3,
          2,
          2,
          1,
          1,
          1,
          1,
          1
         ]
        }
       ],
       "layout": {
        "autosize": true,
        "template": {
         "data": {
          "bar": [
           {
            "error_x": {
             "color": "#2a3f5f"
            },
            "error_y": {
             "color": "#2a3f5f"
            },
            "marker": {
             "line": {
              "color": "#E5ECF6",
              "width": 0.5
             },
             "pattern": {
              "fillmode": "overlay",
              "size": 10,
              "solidity": 0.2
             }
            },
            "type": "bar"
           }
          ],
          "barpolar": [
           {
            "marker": {
             "line": {
              "color": "#E5ECF6",
              "width": 0.5
             },
             "pattern": {
              "fillmode": "overlay",
              "size": 10,
              "solidity": 0.2
             }
            },
            "type": "barpolar"
           }
          ],
          "carpet": [
           {
            "aaxis": {
             "endlinecolor": "#2a3f5f",
             "gridcolor": "white",
             "linecolor": "white",
             "minorgridcolor": "white",
             "startlinecolor": "#2a3f5f"
            },
            "baxis": {
             "endlinecolor": "#2a3f5f",
             "gridcolor": "white",
             "linecolor": "white",
             "minorgridcolor": "white",
             "startlinecolor": "#2a3f5f"
            },
            "type": "carpet"
           }
          ],
          "choropleth": [
           {
            "colorbar": {
             "outlinewidth": 0,
             "ticks": ""
            },
            "type": "choropleth"
           }
          ],
          "contour": [
           {
            "colorbar": {
             "outlinewidth": 0,
             "ticks": ""
            },
            "colorscale": [
             [
              0,
              "#0d0887"
             ],
             [
              0.1111111111111111,
              "#46039f"
             ],
             [
              0.2222222222222222,
              "#7201a8"
             ],
             [
              0.3333333333333333,
              "#9c179e"
             ],
             [
              0.4444444444444444,
              "#bd3786"
             ],
             [
              0.5555555555555556,
              "#d8576b"
             ],
             [
              0.6666666666666666,
              "#ed7953"
             ],
             [
              0.7777777777777778,
              "#fb9f3a"
             ],
             [
              0.8888888888888888,
              "#fdca26"
             ],
             [
              1,
              "#f0f921"
             ]
            ],
            "type": "contour"
           }
          ],
          "contourcarpet": [
           {
            "colorbar": {
             "outlinewidth": 0,
             "ticks": ""
            },
            "type": "contourcarpet"
           }
          ],
          "heatmap": [
           {
            "colorbar": {
             "outlinewidth": 0,
             "ticks": ""
            },
            "colorscale": [
             [
              0,
              "#0d0887"
             ],
             [
              0.1111111111111111,
              "#46039f"
             ],
             [
              0.2222222222222222,
              "#7201a8"
             ],
             [
              0.3333333333333333,
              "#9c179e"
             ],
             [
              0.4444444444444444,
              "#bd3786"
             ],
             [
              0.5555555555555556,
              "#d8576b"
             ],
             [
              0.6666666666666666,
              "#ed7953"
             ],
             [
              0.7777777777777778,
              "#fb9f3a"
             ],
             [
              0.8888888888888888,
              "#fdca26"
             ],
             [
              1,
              "#f0f921"
             ]
            ],
            "type": "heatmap"
           }
          ],
          "heatmapgl": [
           {
            "colorbar": {
             "outlinewidth": 0,
             "ticks": ""
            },
            "colorscale": [
             [
              0,
              "#0d0887"
             ],
             [
              0.1111111111111111,
              "#46039f"
             ],
             [
              0.2222222222222222,
              "#7201a8"
             ],
             [
              0.3333333333333333,
              "#9c179e"
             ],
             [
              0.4444444444444444,
              "#bd3786"
             ],
             [
              0.5555555555555556,
              "#d8576b"
             ],
             [
              0.6666666666666666,
              "#ed7953"
             ],
             [
              0.7777777777777778,
              "#fb9f3a"
             ],
             [
              0.8888888888888888,
              "#fdca26"
             ],
             [
              1,
              "#f0f921"
             ]
            ],
            "type": "heatmapgl"
           }
          ],
          "histogram": [
           {
            "marker": {
             "pattern": {
              "fillmode": "overlay",
              "size": 10,
              "solidity": 0.2
             }
            },
            "type": "histogram"
           }
          ],
          "histogram2d": [
           {
            "colorbar": {
             "outlinewidth": 0,
             "ticks": ""
            },
            "colorscale": [
             [
              0,
              "#0d0887"
             ],
             [
              0.1111111111111111,
              "#46039f"
             ],
             [
              0.2222222222222222,
              "#7201a8"
             ],
             [
              0.3333333333333333,
              "#9c179e"
             ],
             [
              0.4444444444444444,
              "#bd3786"
             ],
             [
              0.5555555555555556,
              "#d8576b"
             ],
             [
              0.6666666666666666,
              "#ed7953"
             ],
             [
              0.7777777777777778,
              "#fb9f3a"
             ],
             [
              0.8888888888888888,
              "#fdca26"
             ],
             [
              1,
              "#f0f921"
             ]
            ],
            "type": "histogram2d"
           }
          ],
          "histogram2dcontour": [
           {
            "colorbar": {
             "outlinewidth": 0,
             "ticks": ""
            },
            "colorscale": [
             [
              0,
              "#0d0887"
             ],
             [
              0.1111111111111111,
              "#46039f"
             ],
             [
              0.2222222222222222,
              "#7201a8"
             ],
             [
              0.3333333333333333,
              "#9c179e"
             ],
             [
              0.4444444444444444,
              "#bd3786"
             ],
             [
              0.5555555555555556,
              "#d8576b"
             ],
             [
              0.6666666666666666,
              "#ed7953"
             ],
             [
              0.7777777777777778,
              "#fb9f3a"
             ],
             [
              0.8888888888888888,
              "#fdca26"
             ],
             [
              1,
              "#f0f921"
             ]
            ],
            "type": "histogram2dcontour"
           }
          ],
          "mesh3d": [
           {
            "colorbar": {
             "outlinewidth": 0,
             "ticks": ""
            },
            "type": "mesh3d"
           }
          ],
          "parcoords": [
           {
            "line": {
             "colorbar": {
              "outlinewidth": 0,
              "ticks": ""
             }
            },
            "type": "parcoords"
           }
          ],
          "pie": [
           {
            "automargin": true,
            "type": "pie"
           }
          ],
          "scatter": [
           {
            "fillpattern": {
             "fillmode": "overlay",
             "size": 10,
             "solidity": 0.2
            },
            "type": "scatter"
           }
          ],
          "scatter3d": [
           {
            "line": {
             "colorbar": {
              "outlinewidth": 0,
              "ticks": ""
             }
            },
            "marker": {
             "colorbar": {
              "outlinewidth": 0,
              "ticks": ""
             }
            },
            "type": "scatter3d"
           }
          ],
          "scattercarpet": [
           {
            "marker": {
             "colorbar": {
              "outlinewidth": 0,
              "ticks": ""
             }
            },
            "type": "scattercarpet"
           }
          ],
          "scattergeo": [
           {
            "marker": {
             "colorbar": {
              "outlinewidth": 0,
              "ticks": ""
             }
            },
            "type": "scattergeo"
           }
          ],
          "scattergl": [
           {
            "marker": {
             "colorbar": {
              "outlinewidth": 0,
              "ticks": ""
             }
            },
            "type": "scattergl"
           }
          ],
          "scattermapbox": [
           {
            "marker": {
             "colorbar": {
              "outlinewidth": 0,
              "ticks": ""
             }
            },
            "type": "scattermapbox"
           }
          ],
          "scatterpolar": [
           {
            "marker": {
             "colorbar": {
              "outlinewidth": 0,
              "ticks": ""
             }
            },
            "type": "scatterpolar"
           }
          ],
          "scatterpolargl": [
           {
            "marker": {
             "colorbar": {
              "outlinewidth": 0,
              "ticks": ""
             }
            },
            "type": "scatterpolargl"
           }
          ],
          "scatterternary": [
           {
            "marker": {
             "colorbar": {
              "outlinewidth": 0,
              "ticks": ""
             }
            },
            "type": "scatterternary"
           }
          ],
          "surface": [
           {
            "colorbar": {
             "outlinewidth": 0,
             "ticks": ""
            },
            "colorscale": [
             [
              0,
              "#0d0887"
             ],
             [
              0.1111111111111111,
              "#46039f"
             ],
             [
              0.2222222222222222,
              "#7201a8"
             ],
             [
              0.3333333333333333,
              "#9c179e"
             ],
             [
              0.4444444444444444,
              "#bd3786"
             ],
             [
              0.5555555555555556,
              "#d8576b"
             ],
             [
              0.6666666666666666,
              "#ed7953"
             ],
             [
              0.7777777777777778,
              "#fb9f3a"
             ],
             [
              0.8888888888888888,
              "#fdca26"
             ],
             [
              1,
              "#f0f921"
             ]
            ],
            "type": "surface"
           }
          ],
          "table": [
           {
            "cells": {
             "fill": {
              "color": "#EBF0F8"
             },
             "line": {
              "color": "white"
             }
            },
            "header": {
             "fill": {
              "color": "#C8D4E3"
             },
             "line": {
              "color": "white"
             }
            },
            "type": "table"
           }
          ]
         },
         "layout": {
          "annotationdefaults": {
           "arrowcolor": "#2a3f5f",
           "arrowhead": 0,
           "arrowwidth": 1
          },
          "autotypenumbers": "strict",
          "coloraxis": {
           "colorbar": {
            "outlinewidth": 0,
            "ticks": ""
           }
          },
          "colorscale": {
           "diverging": [
            [
             0,
             "#8e0152"
            ],
            [
             0.1,
             "#c51b7d"
            ],
            [
             0.2,
             "#de77ae"
            ],
            [
             0.3,
             "#f1b6da"
            ],
            [
             0.4,
             "#fde0ef"
            ],
            [
             0.5,
             "#f7f7f7"
            ],
            [
             0.6,
             "#e6f5d0"
            ],
            [
             0.7,
             "#b8e186"
            ],
            [
             0.8,
             "#7fbc41"
            ],
            [
             0.9,
             "#4d9221"
            ],
            [
             1,
             "#276419"
            ]
           ],
           "sequential": [
            [
             0,
             "#0d0887"
            ],
            [
             0.1111111111111111,
             "#46039f"
            ],
            [
             0.2222222222222222,
             "#7201a8"
            ],
            [
             0.3333333333333333,
             "#9c179e"
            ],
            [
             0.4444444444444444,
             "#bd3786"
            ],
            [
             0.5555555555555556,
             "#d8576b"
            ],
            [
             0.6666666666666666,
             "#ed7953"
            ],
            [
             0.7777777777777778,
             "#fb9f3a"
            ],
            [
             0.8888888888888888,
             "#fdca26"
            ],
            [
             1,
             "#f0f921"
            ]
           ],
           "sequentialminus": [
            [
             0,
             "#0d0887"
            ],
            [
             0.1111111111111111,
             "#46039f"
            ],
            [
             0.2222222222222222,
             "#7201a8"
            ],
            [
             0.3333333333333333,
             "#9c179e"
            ],
            [
             0.4444444444444444,
             "#bd3786"
            ],
            [
             0.5555555555555556,
             "#d8576b"
            ],
            [
             0.6666666666666666,
             "#ed7953"
            ],
            [
             0.7777777777777778,
             "#fb9f3a"
            ],
            [
             0.8888888888888888,
             "#fdca26"
            ],
            [
             1,
             "#f0f921"
            ]
           ]
          },
          "colorway": [
           "#636efa",
           "#EF553B",
           "#00cc96",
           "#ab63fa",
           "#FFA15A",
           "#19d3f3",
           "#FF6692",
           "#B6E880",
           "#FF97FF",
           "#FECB52"
          ],
          "font": {
           "color": "#2a3f5f"
          },
          "geo": {
           "bgcolor": "white",
           "lakecolor": "white",
           "landcolor": "#E5ECF6",
           "showlakes": true,
           "showland": true,
           "subunitcolor": "white"
          },
          "hoverlabel": {
           "align": "left"
          },
          "hovermode": "closest",
          "mapbox": {
           "style": "light"
          },
          "paper_bgcolor": "white",
          "plot_bgcolor": "#E5ECF6",
          "polar": {
           "angularaxis": {
            "gridcolor": "white",
            "linecolor": "white",
            "ticks": ""
           },
           "bgcolor": "#E5ECF6",
           "radialaxis": {
            "gridcolor": "white",
            "linecolor": "white",
            "ticks": ""
           }
          },
          "scene": {
           "xaxis": {
            "backgroundcolor": "#E5ECF6",
            "gridcolor": "white",
            "gridwidth": 2,
            "linecolor": "white",
            "showbackground": true,
            "ticks": "",
            "zerolinecolor": "white"
           },
           "yaxis": {
            "backgroundcolor": "#E5ECF6",
            "gridcolor": "white",
            "gridwidth": 2,
            "linecolor": "white",
            "showbackground": true,
            "ticks": "",
            "zerolinecolor": "white"
           },
           "zaxis": {
            "backgroundcolor": "#E5ECF6",
            "gridcolor": "white",
            "gridwidth": 2,
            "linecolor": "white",
            "showbackground": true,
            "ticks": "",
            "zerolinecolor": "white"
           }
          },
          "shapedefaults": {
           "line": {
            "color": "#2a3f5f"
           }
          },
          "ternary": {
           "aaxis": {
            "gridcolor": "white",
            "linecolor": "white",
            "ticks": ""
           },
           "baxis": {
            "gridcolor": "white",
            "linecolor": "white",
            "ticks": ""
           },
           "bgcolor": "#E5ECF6",
           "caxis": {
            "gridcolor": "white",
            "linecolor": "white",
            "ticks": ""
           }
          },
          "title": {
           "x": 0.05
          },
          "xaxis": {
           "automargin": true,
           "gridcolor": "white",
           "linecolor": "white",
           "ticks": "",
           "title": {
            "standoff": 15
           },
           "zerolinecolor": "white",
           "zerolinewidth": 2
          },
          "yaxis": {
           "automargin": true,
           "gridcolor": "white",
           "linecolor": "white",
           "ticks": "",
           "title": {
            "standoff": 15
           },
           "zerolinecolor": "white",
           "zerolinewidth": 2
          }
         }
        },
        "title": {
         "text": "Número de Alunos Evadidos por Estado"
        },
        "xaxis": {
         "autorange": true,
         "range": [
          -0.5,
          22.5
         ],
         "title": {
          "text": "Estado"
         },
         "type": "category"
        },
        "yaxis": {
         "autorange": true,
         "range": [
          0,
          9014.736842105263
         ],
         "title": {
          "text": "Número de Alunos Evadidos"
         },
         "type": "linear"
        }
       }
      },
      "image/png": "[encoded data removed]",
      "text/html": [
       "<div>                            <div id=\"ac2a3545-40f8-4aa0-b99e-320781553eba\" class=\"plotly-graph-div\" style=\"height:525px; width:100%;\"></div>            <script type=\"text/javascript\">                require([\"plotly\"], function(Plotly) {                    window.PLOTLYENV=window.PLOTLYENV || {};                                    if (document.getElementById(\"ac2a3545-40f8-4aa0-b99e-320781553eba\")) {                    Plotly.newPlot(                        \"ac2a3545-40f8-4aa0-b99e-320781553eba\",                        [{\"marker\":{\"color\":\"lightblue\"},\"name\":\"N\\u00famero de Alunos Evadidos\",\"x\":[\"MG\",\"RJ\",\"SP\",\"ES\",\"BA\",\"DF\",\"RS\",\"GO\",\"MS\",\"PA\",\"CE\",\"PR\",\"RO\",\"SE\",\"SC\",\"AC\",\"AM\",\"MT\",\"TO\",\"PI\",\"MA\",\"PB\",\"RN\"],\"y\":[8564,926,231,106,28,15,10,10,7,7,7,6,5,4,3,3,2,2,1,1,1,1,1],\"type\":\"bar\"}],                        {\"template\":{\"data\":{\"histogram2dcontour\":[{\"type\":\"histogram2dcontour\",\"colorbar\":{\"outlinewidth\":0,\"ticks\":\"\"},\"colorscale\":[[0.0,\"#0d0887\"],[0.1111111111111111,\"#46039f\"],[0.2222222222222222,\"#7201a8\"],[0.3333333333333333,\"#9c179e\"],[0.4444444444444444,\"#bd3786\"],[0.5555555555555556,\"#d8576b\"],[0.6666666666666666,\"#ed7953\"],[0.7777777777777778,\"#fb9f3a\"],[0.8888888888888888,\"#fdca26\"],[1.0,\"#f0f921\"]]}],\"choropleth\":[{\"type\":\"choropleth\",\"colorbar\":{\"outlinewidth\":0,\"ticks\":\"\"}}],\"histogram2d\":[{\"type\":\"histogram2d\",\"colorbar\":{\"outlinewidth\":0,\"ticks\":\"\"},\"colorscale\":[[0.0,\"#0d0887\"],[0.1111111111111111,\"#46039f\"],[0.2222222222222222,\"#7201a8\"],[0.3333333333333333,\"#9c179e\"],[0.4444444444444444,\"#bd3786\"],[0.5555555555555556,\"#d8576b\"],[0.6666666666666666,\"#ed7953\"],[0.7777777777777778,\"#fb9f3a\"],[0.8888888888888888,\"#fdca26\"],[1.0,\"#f0f921\"]]}],\"heatmap\":[{\"type\":\"heatmap\",\"colorbar\":{\"outlinewidth\":0,\"ticks\":\"\"},\"colorscale\":[[0.0,\"#0d0887\"],[0.1111111111111111,\"#46039f\"],[0.2222222222222222,\"#7201a8\"],[0.3333333333333333,\"#9c179e\"],[0.4444444444444444,\"#bd3786\"],[0.5555555555555556,\"#d8576b\"],[0.6666666666666666,\"#ed7953\"],[0.7777777777777778,\"#fb9f3a\"],[0.8888888888888888,\"#fdca26\"],[1.0,\"#f0f921\"]]}],\"heatmapgl\":[{\"type\":\"heatmapgl\",\"colorbar\":{\"outlinewidth\":0,\"ticks\":\"\"},\"colorscale\":[[0.0,\"#0d0887\"],[0.1111111111111111,\"#46039f\"],[0.2222222222222222,\"#7201a8\"],[0.3333333333333333,\"#9c179e\"],[0.4444444444444444,\"#bd3786\"],[0.5555555555555556,\"#d8576b\"],[0.6666666666666666,\"#ed7953\"],[0.7777777777777778,\"#fb9f3a\"],[0.8888888888888888,\"#fdca26\"],[1.0,\"#f0f921\"]]}],\"contourcarpet\":[{\"type\":\"contourcarpet\",\"colorbar\":{\"outlinewidth\":0,\"ticks\":\"\"}}],\"contour\":[{\"type\":\"contour\",\"colorbar\":{\"outlinewidth\":0,\"ticks\":\"\"},\"colorscale\":[[0.0,\"#0d0887\"],[0.1111111111111111,\"#46039f\"],[0.2222222222222222,\"#7201a8\"],[0.3333333333333333,\"#9c179e\"],[0.4444444444444444,\"#bd3786\"],[0.5555555555555556,\"#d8576b\"],[0.6666666666666666,\"#ed7953\"],[0.7777777777777778,\"#fb9f3a\"],[0.8888888888888888,\"#fdca26\"],[1.0,\"#f0f921\"]]}],\"surface\":[{\"type\":\"surface\",\"colorbar\":{\"outlinewidth\":0,\"ticks\":\"\"},\"colorscale\":[[0.0,\"#0d0887\"],[0.1111111111111111,\"#46039f\"],[0.2222222222222222,\"#7201a8\"],[0.3333333333333333,\"#9c179e\"],[0.4444444444444444,\"#bd3786\"],[0.5555555555555556,\"#d8576b\"],[0.6666666666666666,\"#ed7953\"],[0.7777777777777778,\"#fb9f3a\"],[0.8888888888888888,\"#fdca26\"],[1.0,\"#f0f921\"]]}],\"mesh3d\":[{\"type\":\"mesh3d\",\"colorbar\":{\"outlinewidth\":0,\"ticks\":\"\"}}],\"scatter\":[{\"fillpattern\":{\"fillmode\":\"overlay\",\"size\":10,\"solidity\":0.2},\"type\":\"scatter\"}],\"parcoords\":[{\"type\":\"parcoords\",\"line\":{\"colorbar\":{\"outlinewidth\":0,\"ticks\":\"\"}}}],\"scatterpolargl\":[{\"type\":\"scatterpolargl\",\"marker\":{\"colorbar\":{\"outlinewidth\":0,\"ticks\":\"\"}}}],\"bar\":[{\"error_x\":{\"color\":\"#2a3f5f\"},\"error_y\":{\"color\":\"#2a3f5f\"},\"marker\":{\"line\":{\"color\":\"#E5ECF6\",\"width\":0.5},\"pattern\":{\"fillmode\":\"overlay\",\"size\":10,\"solidity\":0.2}},\"type\":\"bar\"}],\"scattergeo\":[{\"type\":\"scattergeo\",\"marker\":{\"colorbar\":{\"outlinewidth\":0,\"ticks\":\"\"}}}],\"scatterpolar\":[{\"type\":\"scatterpolar\",\"marker\":{\"colorbar\":{\"outlinewidth\":0,\"ticks\":\"\"}}}],\"histogram\":[{\"marker\":{\"pattern\":{\"fillmode\":\"overlay\",\"size\":10,\"solidity\":0.2}},\"type\":\"histogram\"}],\"scattergl\":[{\"type\":\"scattergl\",\"marker\":{\"colorbar\":{\"outlinewidth\":0,\"ticks\":\"\"}}}],\"scatter3d\":[{\"type\":\"scatter3d\",\"line\":{\"colorbar\":{\"outlinewidth\":0,\"ticks\":\"\"}},\"marker\":{\"colorbar\":{\"outlinewidth\":0,\"ticks\":\"\"}}}],\"scattermapbox\":[{\"type\":\"scattermapbox\",\"marker\":{\"colorbar\":{\"outlinewidth\":0,\"ticks\":\"\"}}}],\"scatterternary\":[{\"type\":\"scatterternary\",\"marker\":{\"colorbar\":{\"outlinewidth\":0,\"ticks\":\"\"}}}],\"scattercarpet\":[{\"type\":\"scattercarpet\",\"marker\":{\"colorbar\":{\"outlinewidth\":0,\"ticks\":\"\"}}}],\"carpet\":[{\"aaxis\":{\"endlinecolor\":\"#2a3f5f\",\"gridcolor\":\"white\",\"linecolor\":\"white\",\"minorgridcolor\":\"white\",\"startlinecolor\":\"#2a3f5f\"},\"baxis\":{\"endlinecolor\":\"#2a3f5f\",\"gridcolor\":\"white\",\"linecolor\":\"white\",\"minorgridcolor\":\"white\",\"startlinecolor\":\"#2a3f5f\"},\"type\":\"carpet\"}],\"table\":[{\"cells\":{\"fill\":{\"color\":\"#EBF0F8\"},\"line\":{\"color\":\"white\"}},\"header\":{\"fill\":{\"color\":\"#C8D4E3\"},\"line\":{\"color\":\"white\"}},\"type\":\"table\"}],\"barpolar\":[{\"marker\":{\"line\":{\"color\":\"#E5ECF6\",\"width\":0.5},\"pattern\":{\"fillmode\":\"overlay\",\"size\":10,\"solidity\":0.2}},\"type\":\"barpolar\"}],\"pie\":[{\"automargin\":true,\"type\":\"pie\"}]},\"layout\":{\"autotypenumbers\":\"strict\",\"colorway\":[\"#636efa\",\"#EF553B\",\"#00cc96\",\"#ab63fa\",\"#FFA15A\",\"#19d3f3\",\"#FF6692\",\"#B6E880\",\"#FF97FF\",\"#FECB52\"],\"font\":{\"color\":\"#2a3f5f\"},\"hovermode\":\"closest\",\"hoverlabel\":{\"align\":\"left\"},\"paper_bgcolor\":\"white\",\"plot_bgcolor\":\"#E5ECF6\",\"polar\":{\"bgcolor\":\"#E5ECF6\",\"angularaxis\":{\"gridcolor\":\"white\",\"linecolor\":\"white\",\"ticks\":\"\"},\"radialaxis\":{\"gridcolor\":\"white\",\"linecolor\":\"white\",\"ticks\":\"\"}},\"ternary\":{\"bgcolor\":\"#E5ECF6\",\"aaxis\":{\"gridcolor\":\"white\",\"linecolor\":\"white\",\"ticks\":\"\"},\"baxis\":{\"gridcolor\":\"white\",\"linecolor\":\"white\",\"ticks\":\"\"},\"caxis\":{\"gridcolor\":\"white\",\"linecolor\":\"white\",\"ticks\":\"\"}},\"coloraxis\":{\"colorbar\":{\"outlinewidth\":0,\"ticks\":\"\"}},\"colorscale\":{\"sequential\":[[0.0,\"#0d0887\"],[0.1111111111111111,\"#46039f\"],[0.2222222222222222,\"#7201a8\"],[0.3333333333333333,\"#9c179e\"],[0.4444444444444444,\"#bd3786\"],[0.5555555555555556,\"#d8576b\"],[0.6666666666666666,\"#ed7953\"],[0.7777777777777778,\"#fb9f3a\"],[0.8888888888888888,\"#fdca26\"],[1.0,\"#f0f921\"]],\"sequentialminus\":[[0.0,\"#0d0887\"],[0.1111111111111111,\"#46039f\"],[0.2222222222222222,\"#7201a8\"],[0.3333333333333333,\"#9c179e\"],[0.4444444444444444,\"#bd3786\"],[0.5555555555555556,\"#d8576b\"],[0.6666666666666666,\"#ed7953\"],[0.7777777777777778,\"#fb9f3a\"],[0.8888888888888888,\"#fdca26\"],[1.0,\"#f0f921\"]],\"diverging\":[[0,\"#8e0152\"],[0.1,\"#c51b7d\"],[0.2,\"#de77ae\"],[0.3,\"#f1b6da\"],[0.4,\"#fde0ef\"],[0.5,\"#f7f7f7\"],[0.6,\"#e6f5d0\"],[0.7,\"#b8e186\"],[0.8,\"#7fbc41\"],[0.9,\"#4d9221\"],[1,\"#276419\"]]},\"xaxis\":{\"gridcolor\":\"white\",\"linecolor\":\"white\",\"ticks\":\"\",\"title\":{\"standoff\":15},\"zerolinecolor\":\"white\",\"automargin\":true,\"zerolinewidth\":2},\"yaxis\":{\"gridcolor\":\"white\",\"linecolor\":\"white\",\"ticks\":\"\",\"title\":{\"standoff\":15},\"zerolinecolor\":\"white\",\"automargin\":true,\"zerolinewidth\":2},\"scene\":{\"xaxis\":{\"backgroundcolor\":\"#E5ECF6\",\"gridcolor\":\"white\",\"linecolor\":\"white\",\"showbackground\":true,\"ticks\":\"\",\"zerolinecolor\":\"white\",\"gridwidth\":2},\"yaxis\":{\"backgroundcolor\":\"#E5ECF6\",\"gridcolor\":\"white\",\"linecolor\":\"white\",\"showbackground\":true,\"ticks\":\"\",\"zerolinecolor\":\"white\",\"gridwidth\":2},\"zaxis\":{\"backgroundcolor\":\"#E5ECF6\",\"gridcolor\":\"white\",\"linecolor\":\"white\",\"showbackground\":true,\"ticks\":\"\",\"zerolinecolor\":\"white\",\"gridwidth\":2}},\"shapedefaults\":{\"line\":{\"color\":\"#2a3f5f\"}},\"annotationdefaults\":{\"arrowcolor\":\"#2a3f5f\",\"arrowhead\":0,\"arrowwidth\":1},\"geo\":{\"bgcolor\":\"white\",\"landcolor\":\"#E5ECF6\",\"subunitcolor\":\"white\",\"showland\":true,\"showlakes\":true,\"lakecolor\":\"white\"},\"title\":{\"x\":0.05},\"mapbox\":{\"style\":\"light\"}}},\"title\":{\"text\":\"N\\u00famero de Alunos Evadidos por Estado\"},\"xaxis\":{\"title\":{\"text\":\"Estado\"}},\"yaxis\":{\"title\":{\"text\":\"N\\u00famero de Alunos Evadidos\"}}},                        {\"responsive\": true}                    ).then(function(){\n",
       "                            \n",
       "var gd = document.getElementById('ac2a3545-40f8-4aa0-b99e-320781553eba');\n",
       "var x = new MutationObserver(function (mutations, observer) {{\n",
       "        var display = window.getComputedStyle(gd).display;\n",
       "        if (!display || display === 'none') {{\n",
       "            console.log([gd, 'removed!']);\n",
       "            Plotly.purge(gd);\n",
       "            observer.disconnect();\n",
       "        }}\n",
       "}});\n",
       "\n",
       "// Listen for the removal of the full notebook cells\n",
       "var notebookContainer = gd.closest('#notebook-container');\n",
       "if (notebookContainer) {{\n",
       "    x.observe(notebookContainer, {childList: true});\n",
       "}}\n",
       "\n",
       "// Listen for the clearing of the current output cell\n",
       "var outputEl = gd.closest('.output');\n",
       "if (outputEl) {{\n",
       "    x.observe(outputEl, {childList: true});\n",
       "}}\n",
       "\n",
       "                        })                };                });            </script>        </div>"
      ]
     },
     "metadata": {},
     "output_type": "display_data"
    },
    {
     "data": {
      "application/vnd.plotly.v1+json": {
       "config": {
        "plotlyServerURL": "https://plot.ly"
       },
       "data": [
        {
         "marker": {
          "color": "purple"
         },
         "name": "Taxa de Evasão",
         "text": [
          "100.0",
          "75.0",
          "50.0",
          "50.0",
          "50.0",
          "41.7",
          "37.5",
          "37.5",
          "37.0",
          "36.6",
          "33.3",
          "33.3",
          "31.4",
          "30.4",
          "30.2",
          "29.2",
          "29.2",
          "27.2",
          "27.0",
          "25.0",
          "20.0",
          "14.3",
          "14.3",
          "nan",
          "nan",
          "nan"
         ],
         "textposition": "inside",
         "type": "bar",
         "x": [
          "PI",
          "AC",
          "SE",
          "TO",
          "CE",
          "RO",
          "PR",
          "SC",
          "RS",
          "DF",
          "AM",
          "BA",
          "SP",
          "MS",
          "ES",
          "MG",
          "PA",
          "RJ",
          "GO",
          "RN",
          "PB",
          "MT",
          "MA",
          "AP",
          "PE",
          "RR"
         ],
         "y": [
          100,
          75,
          50,
          50,
          50,
          41.66666666666667,
          37.5,
          37.5,
          37.03703703703704,
          36.58536585365854,
          33.33333333333333,
          33.33333333333333,
          31.38586956521739,
          30.434782608695656,
          30.1994301994302,
          29.208731241473394,
          29.166666666666668,
          27.15542521994135,
          27.027027027027028,
          25,
          20,
          14.285714285714285,
          14.285714285714285,
          null,
          null,
          null
         ]
        }
       ],
       "layout": {
        "autosize": true,
        "template": {
         "data": {
          "bar": [
           {
            "error_x": {
             "color": "#2a3f5f"
            },
            "error_y": {
             "color": "#2a3f5f"
            },
            "marker": {
             "line": {
              "color": "#E5ECF6",
              "width": 0.5
             },
             "pattern": {
              "fillmode": "overlay",
              "size": 10,
              "solidity": 0.2
             }
            },
            "type": "bar"
           }
          ],
          "barpolar": [
           {
            "marker": {
             "line": {
              "color": "#E5ECF6",
              "width": 0.5
             },
             "pattern": {
              "fillmode": "overlay",
              "size": 10,
              "solidity": 0.2
             }
            },
            "type": "barpolar"
           }
          ],
          "carpet": [
           {
            "aaxis": {
             "endlinecolor": "#2a3f5f",
             "gridcolor": "white",
             "linecolor": "white",
             "minorgridcolor": "white",
             "startlinecolor": "#2a3f5f"
            },
            "baxis": {
             "endlinecolor": "#2a3f5f",
             "gridcolor": "white",
             "linecolor": "white",
             "minorgridcolor": "white",
             "startlinecolor": "#2a3f5f"
            },
            "type": "carpet"
           }
          ],
          "choropleth": [
           {
            "colorbar": {
             "outlinewidth": 0,
             "ticks": ""
            },
            "type": "choropleth"
           }
          ],
          "contour": [
           {
            "colorbar": {
             "outlinewidth": 0,
             "ticks": ""
            },
            "colorscale": [
             [
              0,
              "#0d0887"
             ],
             [
              0.1111111111111111,
              "#46039f"
             ],
             [
              0.2222222222222222,
              "#7201a8"
             ],
             [
              0.3333333333333333,
              "#9c179e"
             ],
             [
              0.4444444444444444,
              "#bd3786"
             ],
             [
              0.5555555555555556,
              "#d8576b"
             ],
             [
              0.6666666666666666,
              "#ed7953"
             ],
             [
              0.7777777777777778,
              "#fb9f3a"
             ],
             [
              0.8888888888888888,
              "#fdca26"
             ],
             [
              1,
              "#f0f921"
             ]
            ],
            "type": "contour"
           }
          ],
          "contourcarpet": [
           {
            "colorbar": {
             "outlinewidth": 0,
             "ticks": ""
            },
            "type": "contourcarpet"
           }
          ],
          "heatmap": [
           {
            "colorbar": {
             "outlinewidth": 0,
             "ticks": ""
            },
            "colorscale": [
             [
              0,
              "#0d0887"
             ],
             [
              0.1111111111111111,
              "#46039f"
             ],
             [
              0.2222222222222222,
              "#7201a8"
             ],
             [
              0.3333333333333333,
              "#9c179e"
             ],
             [
              0.4444444444444444,
              "#bd3786"
             ],
             [
              0.5555555555555556,
              "#d8576b"
             ],
             [
              0.6666666666666666,
              "#ed7953"
             ],
             [
              0.7777777777777778,
              "#fb9f3a"
             ],
             [
              0.8888888888888888,
              "#fdca26"
             ],
             [
              1,
              "#f0f921"
             ]
            ],
            "type": "heatmap"
           }
          ],
          "heatmapgl": [
           {
            "colorbar": {
             "outlinewidth": 0,
             "ticks": ""
            },
            "colorscale": [
             [
              0,
              "#0d0887"
             ],
             [
              0.1111111111111111,
              "#46039f"
             ],
             [
              0.2222222222222222,
              "#7201a8"
             ],
             [
              0.3333333333333333,
              "#9c179e"
             ],
             [
              0.4444444444444444,
              "#bd3786"
             ],
             [
              0.5555555555555556,
              "#d8576b"
             ],
             [
              0.6666666666666666,
              "#ed7953"
             ],
             [
              0.7777777777777778,
              "#fb9f3a"
             ],
             [
              0.8888888888888888,
              "#fdca26"
             ],
             [
              1,
              "#f0f921"
             ]
            ],
            "type": "heatmapgl"
           }
          ],
          "histogram": [
           {
            "marker": {
             "pattern": {
              "fillmode": "overlay",
              "size": 10,
              "solidity": 0.2
             }
            },
            "type": "histogram"
           }
          ],
          "histogram2d": [
           {
            "colorbar": {
             "outlinewidth": 0,
             "ticks": ""
            },
            "colorscale": [
             [
              0,
              "#0d0887"
             ],
             [
              0.1111111111111111,
              "#46039f"
             ],
             [
              0.2222222222222222,
              "#7201a8"
             ],
             [
              0.3333333333333333,
              "#9c179e"
             ],
             [
              0.4444444444444444,
              "#bd3786"
             ],
             [
              0.5555555555555556,
              "#d8576b"
             ],
             [
              0.6666666666666666,
              "#ed7953"
             ],
             [
              0.7777777777777778,
              "#fb9f3a"
             ],
             [
              0.8888888888888888,
              "#fdca26"
             ],
             [
              1,
              "#f0f921"
             ]
            ],
            "type": "histogram2d"
           }
          ],
          "histogram2dcontour": [
           {
            "colorbar": {
             "outlinewidth": 0,
             "ticks": ""
            },
            "colorscale": [
             [
              0,
              "#0d0887"
             ],
             [
              0.1111111111111111,
              "#46039f"
             ],
             [
              0.2222222222222222,
              "#7201a8"
             ],
             [
              0.3333333333333333,
              "#9c179e"
             ],
             [
              0.4444444444444444,
              "#bd3786"
             ],
             [
              0.5555555555555556,
              "#d8576b"
             ],
             [
              0.6666666666666666,
              "#ed7953"
             ],
             [
              0.7777777777777778,
              "#fb9f3a"
             ],
             [
              0.8888888888888888,
              "#fdca26"
             ],
             [
              1,
              "#f0f921"
             ]
            ],
            "type": "histogram2dcontour"
           }
          ],
          "mesh3d": [
           {
            "colorbar": {
             "outlinewidth": 0,
             "ticks": ""
            },
            "type": "mesh3d"
           }
          ],
          "parcoords": [
           {
            "line": {
             "colorbar": {
              "outlinewidth": 0,
              "ticks": ""
             }
            },
            "type": "parcoords"
           }
          ],
          "pie": [
           {
            "automargin": true,
            "type": "pie"
           }
          ],
          "scatter": [
           {
            "fillpattern": {
             "fillmode": "overlay",
             "size": 10,
             "solidity": 0.2
            },
            "type": "scatter"
           }
          ],
          "scatter3d": [
           {
            "line": {
             "colorbar": {
              "outlinewidth": 0,
              "ticks": ""
             }
            },
            "marker": {
             "colorbar": {
              "outlinewidth": 0,
              "ticks": ""
             }
            },
            "type": "scatter3d"
           }
          ],
          "scattercarpet": [
           {
            "marker": {
             "colorbar": {
              "outlinewidth": 0,
              "ticks": ""
             }
            },
            "type": "scattercarpet"
           }
          ],
          "scattergeo": [
           {
            "marker": {
             "colorbar": {
              "outlinewidth": 0,
              "ticks": ""
             }
            },
            "type": "scattergeo"
           }
          ],
          "scattergl": [
           {
            "marker": {
             "colorbar": {
              "outlinewidth": 0,
              "ticks": ""
             }
            },
            "type": "scattergl"
           }
          ],
          "scattermapbox": [
           {
            "marker": {
             "colorbar": {
              "outlinewidth": 0,
              "ticks": ""
             }
            },
            "type": "scattermapbox"
           }
          ],
          "scatterpolar": [
           {
            "marker": {
             "colorbar": {
              "outlinewidth": 0,
              "ticks": ""
             }
            },
            "type": "scatterpolar"
           }
          ],
          "scatterpolargl": [
           {
            "marker": {
             "colorbar": {
              "outlinewidth": 0,
              "ticks": ""
             }
            },
            "type": "scatterpolargl"
           }
          ],
          "scatterternary": [
           {
            "marker": {
             "colorbar": {
              "outlinewidth": 0,
              "ticks": ""
             }
            },
            "type": "scatterternary"
           }
          ],
          "surface": [
           {
            "colorbar": {
             "outlinewidth": 0,
             "ticks": ""
            },
            "colorscale": [
             [
              0,
              "#0d0887"
             ],
             [
              0.1111111111111111,
              "#46039f"
             ],
             [
              0.2222222222222222,
              "#7201a8"
             ],
             [
              0.3333333333333333,
              "#9c179e"
             ],
             [
              0.4444444444444444,
              "#bd3786"
             ],
             [
              0.5555555555555556,
              "#d8576b"
             ],
             [
              0.6666666666666666,
              "#ed7953"
             ],
             [
              0.7777777777777778,
              "#fb9f3a"
             ],
             [
              0.8888888888888888,
              "#fdca26"
             ],
             [
              1,
              "#f0f921"
             ]
            ],
            "type": "surface"
           }
          ],
          "table": [
           {
            "cells": {
             "fill": {
              "color": "#EBF0F8"
             },
             "line": {
              "color": "white"
             }
            },
            "header": {
             "fill": {
              "color": "#C8D4E3"
             },
             "line": {
              "color": "white"
             }
            },
            "type": "table"
           }
          ]
         },
         "layout": {
          "annotationdefaults": {
           "arrowcolor": "#2a3f5f",
           "arrowhead": 0,
           "arrowwidth": 1
          },
          "autotypenumbers": "strict",
          "coloraxis": {
           "colorbar": {
            "outlinewidth": 0,
            "ticks": ""
           }
          },
          "colorscale": {
           "diverging": [
            [
             0,
             "#8e0152"
            ],
            [
             0.1,
             "#c51b7d"
            ],
            [
             0.2,
             "#de77ae"
            ],
            [
             0.3,
             "#f1b6da"
            ],
            [
             0.4,
             "#fde0ef"
            ],
            [
             0.5,
             "#f7f7f7"
            ],
            [
             0.6,
             "#e6f5d0"
            ],
            [
             0.7,
             "#b8e186"
            ],
            [
             0.8,
             "#7fbc41"
            ],
            [
             0.9,
             "#4d9221"
            ],
            [
             1,
             "#276419"
            ]
           ],
           "sequential": [
            [
             0,
             "#0d0887"
            ],
            [
             0.1111111111111111,
             "#46039f"
            ],
            [
             0.2222222222222222,
             "#7201a8"
            ],
            [
             0.3333333333333333,
             "#9c179e"
            ],
            [
             0.4444444444444444,
             "#bd3786"
            ],
            [
             0.5555555555555556,
             "#d8576b"
            ],
            [
             0.6666666666666666,
             "#ed7953"
            ],
            [
             0.7777777777777778,
             "#fb9f3a"
            ],
            [
             0.8888888888888888,
             "#fdca26"
            ],
            [
             1,
             "#f0f921"
            ]
           ],
           "sequentialminus": [
            [
             0,
             "#0d0887"
            ],
            [
             0.1111111111111111,
             "#46039f"
            ],
            [
             0.2222222222222222,
             "#7201a8"
            ],
            [
             0.3333333333333333,
             "#9c179e"
            ],
            [
             0.4444444444444444,
             "#bd3786"
            ],
            [
             0.5555555555555556,
             "#d8576b"
            ],
            [
             0.6666666666666666,
             "#ed7953"
            ],
            [
             0.7777777777777778,
             "#fb9f3a"
            ],
            [
             0.8888888888888888,
             "#fdca26"
            ],
            [
             1,
             "#f0f921"
            ]
           ]
          },
          "colorway": [
           "#636efa",
           "#EF553B",
           "#00cc96",
           "#ab63fa",
           "#FFA15A",
           "#19d3f3",
           "#FF6692",
           "#B6E880",
           "#FF97FF",
           "#FECB52"
          ],
          "font": {
           "color": "#2a3f5f"
          },
          "geo": {
           "bgcolor": "white",
           "lakecolor": "white",
           "landcolor": "#E5ECF6",
           "showlakes": true,
           "showland": true,
           "subunitcolor": "white"
          },
          "hoverlabel": {
           "align": "left"
          },
          "hovermode": "closest",
          "mapbox": {
           "style": "light"
          },
          "paper_bgcolor": "white",
          "plot_bgcolor": "#E5ECF6",
          "polar": {
           "angularaxis": {
            "gridcolor": "white",
            "linecolor": "white",
            "ticks": ""
           },
           "bgcolor": "#E5ECF6",
           "radialaxis": {
            "gridcolor": "white",
            "linecolor": "white",
            "ticks": ""
           }
          },
          "scene": {
           "xaxis": {
            "backgroundcolor": "#E5ECF6",
            "gridcolor": "white",
            "gridwidth": 2,
            "linecolor": "white",
            "showbackground": true,
            "ticks": "",
            "zerolinecolor": "white"
           },
           "yaxis": {
            "backgroundcolor": "#E5ECF6",
            "gridcolor": "white",
            "gridwidth": 2,
            "linecolor": "white",
            "showbackground": true,
            "ticks": "",
            "zerolinecolor": "white"
           },
           "zaxis": {
            "backgroundcolor": "#E5ECF6",
            "gridcolor": "white",
            "gridwidth": 2,
            "linecolor": "white",
            "showbackground": true,
            "ticks": "",
            "zerolinecolor": "white"
           }
          },
          "shapedefaults": {
           "line": {
            "color": "#2a3f5f"
           }
          },
          "ternary": {
           "aaxis": {
            "gridcolor": "white",
            "linecolor": "white",
            "ticks": ""
           },
           "baxis": {
            "gridcolor": "white",
            "linecolor": "white",
            "ticks": ""
           },
           "bgcolor": "#E5ECF6",
           "caxis": {
            "gridcolor": "white",
            "linecolor": "white",
            "ticks": ""
           }
          },
          "title": {
           "x": 0.05
          },
          "xaxis": {
           "automargin": true,
           "gridcolor": "white",
           "linecolor": "white",
           "ticks": "",
           "title": {
            "standoff": 15
           },
           "zerolinecolor": "white",
           "zerolinewidth": 2
          },
          "yaxis": {
           "automargin": true,
           "gridcolor": "white",
           "linecolor": "white",
           "ticks": "",
           "title": {
            "standoff": 15
           },
           "zerolinecolor": "white",
           "zerolinewidth": 2
          }
         }
        },
        "title": {
         "text": "Taxa de Evasão por Estado"
        },
        "xaxis": {
         "autorange": true,
         "range": [
          -0.5,
          25.5
         ],
         "title": {
          "text": "Estado"
         },
         "type": "category"
        },
        "yaxis": {
         "autorange": true,
         "range": [
          0,
          105.26315789473684
         ],
         "title": {
          "text": "Taxa de Evasão"
         },
         "type": "linear"
        }
       }
      },
      "image/png": "[encoded data removed]",
      "text/html": [
       "<div>                            <div id=\"7019c34a-178e-4439-9593-a26b187ddec8\" class=\"plotly-graph-div\" style=\"height:525px; width:100%;\"></div>            <script type=\"text/javascript\">                require([\"plotly\"], function(Plotly) {                    window.PLOTLYENV=window.PLOTLYENV || {};                                    if (document.getElementById(\"7019c34a-178e-4439-9593-a26b187ddec8\")) {                    Plotly.newPlot(                        \"7019c34a-178e-4439-9593-a26b187ddec8\",                        [{\"marker\":{\"color\":\"purple\"},\"name\":\"Taxa de Evas\\u00e3o\",\"text\":[\"100.0\",\"75.0\",\"50.0\",\"50.0\",\"50.0\",\"41.7\",\"37.5\",\"37.5\",\"37.0\",\"36.6\",\"33.3\",\"33.3\",\"31.4\",\"30.4\",\"30.2\",\"29.2\",\"29.2\",\"27.2\",\"27.0\",\"25.0\",\"20.0\",\"14.3\",\"14.3\",\"nan\",\"nan\",\"nan\"],\"textposition\":\"inside\",\"x\":[\"PI\",\"AC\",\"SE\",\"TO\",\"CE\",\"RO\",\"PR\",\"SC\",\"RS\",\"DF\",\"AM\",\"BA\",\"SP\",\"MS\",\"ES\",\"MG\",\"PA\",\"RJ\",\"GO\",\"RN\",\"PB\",\"MT\",\"MA\",\"AP\",\"PE\",\"RR\"],\"y\":[100.0,75.0,50.0,50.0,50.0,41.66666666666667,37.5,37.5,37.03703703703704,36.58536585365854,33.33333333333333,33.33333333333333,31.38586956521739,30.434782608695656,30.1994301994302,29.208731241473394,29.166666666666668,27.15542521994135,27.027027027027028,25.0,20.0,14.285714285714285,14.285714285714285,null,null,null],\"type\":\"bar\"}],                        {\"template\":{\"data\":{\"histogram2dcontour\":[{\"type\":\"histogram2dcontour\",\"colorbar\":{\"outlinewidth\":0,\"ticks\":\"\"},\"colorscale\":[[0.0,\"#0d0887\"],[0.1111111111111111,\"#46039f\"],[0.2222222222222222,\"#7201a8\"],[0.3333333333333333,\"#9c179e\"],[0.4444444444444444,\"#bd3786\"],[0.5555555555555556,\"#d8576b\"],[0.6666666666666666,\"#ed7953\"],[0.7777777777777778,\"#fb9f3a\"],[0.8888888888888888,\"#fdca26\"],[1.0,\"#f0f921\"]]}],\"choropleth\":[{\"type\":\"choropleth\",\"colorbar\":{\"outlinewidth\":0,\"ticks\":\"\"}}],\"histogram2d\":[{\"type\":\"histogram2d\",\"colorbar\":{\"outlinewidth\":0,\"ticks\":\"\"},\"colorscale\":[[0.0,\"#0d0887\"],[0.1111111111111111,\"#46039f\"],[0.2222222222222222,\"#7201a8\"],[0.3333333333333333,\"#9c179e\"],[0.4444444444444444,\"#bd3786\"],[0.5555555555555556,\"#d8576b\"],[0.6666666666666666,\"#ed7953\"],[0.7777777777777778,\"#fb9f3a\"],[0.8888888888888888,\"#fdca26\"],[1.0,\"#f0f921\"]]}],\"heatmap\":[{\"type\":\"heatmap\",\"colorbar\":{\"outlinewidth\":0,\"ticks\":\"\"},\"colorscale\":[[0.0,\"#0d0887\"],[0.1111111111111111,\"#46039f\"],[0.2222222222222222,\"#7201a8\"],[0.3333333333333333,\"#9c179e\"],[0.4444444444444444,\"#bd3786\"],[0.5555555555555556,\"#d8576b\"],[0.6666666666666666,\"#ed7953\"],[0.7777777777777778,\"#fb9f3a\"],[0.8888888888888888,\"#fdca26\"],[1.0,\"#f0f921\"]]}],\"heatmapgl\":[{\"type\":\"heatmapgl\",\"colorbar\":{\"outlinewidth\":0,\"ticks\":\"\"},\"colorscale\":[[0.0,\"#0d0887\"],[0.1111111111111111,\"#46039f\"],[0.2222222222222222,\"#7201a8\"],[0.3333333333333333,\"#9c179e\"],[0.4444444444444444,\"#bd3786\"],[0.5555555555555556,\"#d8576b\"],[0.6666666666666666,\"#ed7953\"],[0.7777777777777778,\"#fb9f3a\"],[0.8888888888888888,\"#fdca26\"],[1.0,\"#f0f921\"]]}],\"contourcarpet\":[{\"type\":\"contourcarpet\",\"colorbar\":{\"outlinewidth\":0,\"ticks\":\"\"}}],\"contour\":[{\"type\":\"contour\",\"colorbar\":{\"outlinewidth\":0,\"ticks\":\"\"},\"colorscale\":[[0.0,\"#0d0887\"],[0.1111111111111111,\"#46039f\"],[0.2222222222222222,\"#7201a8\"],[0.3333333333333333,\"#9c179e\"],[0.4444444444444444,\"#bd3786\"],[0.5555555555555556,\"#d8576b\"],[0.6666666666666666,\"#ed7953\"],[0.7777777777777778,\"#fb9f3a\"],[0.8888888888888888,\"#fdca26\"],[1.0,\"#f0f921\"]]}],\"surface\":[{\"type\":\"surface\",\"colorbar\":{\"outlinewidth\":0,\"ticks\":\"\"},\"colorscale\":[[0.0,\"#0d0887\"],[0.1111111111111111,\"#46039f\"],[0.2222222222222222,\"#7201a8\"],[0.3333333333333333,\"#9c179e\"],[0.4444444444444444,\"#bd3786\"],[0.5555555555555556,\"#d8576b\"],[0.6666666666666666,\"#ed7953\"],[0.7777777777777778,\"#fb9f3a\"],[0.8888888888888888,\"#fdca26\"],[1.0,\"#f0f921\"]]}],\"mesh3d\":[{\"type\":\"mesh3d\",\"colorbar\":{\"outlinewidth\":0,\"ticks\":\"\"}}],\"scatter\":[{\"fillpattern\":{\"fillmode\":\"overlay\",\"size\":10,\"solidity\":0.2},\"type\":\"scatter\"}],\"parcoords\":[{\"type\":\"parcoords\",\"line\":{\"colorbar\":{\"outlinewidth\":0,\"ticks\":\"\"}}}],\"scatterpolargl\":[{\"type\":\"scatterpolargl\",\"marker\":{\"colorbar\":{\"outlinewidth\":0,\"ticks\":\"\"}}}],\"bar\":[{\"error_x\":{\"color\":\"#2a3f5f\"},\"error_y\":{\"color\":\"#2a3f5f\"},\"marker\":{\"line\":{\"color\":\"#E5ECF6\",\"width\":0.5},\"pattern\":{\"fillmode\":\"overlay\",\"size\":10,\"solidity\":0.2}},\"type\":\"bar\"}],\"scattergeo\":[{\"type\":\"scattergeo\",\"marker\":{\"colorbar\":{\"outlinewidth\":0,\"ticks\":\"\"}}}],\"scatterpolar\":[{\"type\":\"scatterpolar\",\"marker\":{\"colorbar\":{\"outlinewidth\":0,\"ticks\":\"\"}}}],\"histogram\":[{\"marker\":{\"pattern\":{\"fillmode\":\"overlay\",\"size\":10,\"solidity\":0.2}},\"type\":\"histogram\"}],\"scattergl\":[{\"type\":\"scattergl\",\"marker\":{\"colorbar\":{\"outlinewidth\":0,\"ticks\":\"\"}}}],\"scatter3d\":[{\"type\":\"scatter3d\",\"line\":{\"colorbar\":{\"outlinewidth\":0,\"ticks\":\"\"}},\"marker\":{\"colorbar\":{\"outlinewidth\":0,\"ticks\":\"\"}}}],\"scattermapbox\":[{\"type\":\"scattermapbox\",\"marker\":{\"colorbar\":{\"outlinewidth\":0,\"ticks\":\"\"}}}],\"scatterternary\":[{\"type\":\"scatterternary\",\"marker\":{\"colorbar\":{\"outlinewidth\":0,\"ticks\":\"\"}}}],\"scattercarpet\":[{\"type\":\"scattercarpet\",\"marker\":{\"colorbar\":{\"outlinewidth\":0,\"ticks\":\"\"}}}],\"carpet\":[{\"aaxis\":{\"endlinecolor\":\"#2a3f5f\",\"gridcolor\":\"white\",\"linecolor\":\"white\",\"minorgridcolor\":\"white\",\"startlinecolor\":\"#2a3f5f\"},\"baxis\":{\"endlinecolor\":\"#2a3f5f\",\"gridcolor\":\"white\",\"linecolor\":\"white\",\"minorgridcolor\":\"white\",\"startlinecolor\":\"#2a3f5f\"},\"type\":\"carpet\"}],\"table\":[{\"cells\":{\"fill\":{\"color\":\"#EBF0F8\"},\"line\":{\"color\":\"white\"}},\"header\":{\"fill\":{\"color\":\"#C8D4E3\"},\"line\":{\"color\":\"white\"}},\"type\":\"table\"}],\"barpolar\":[{\"marker\":{\"line\":{\"color\":\"#E5ECF6\",\"width\":0.5},\"pattern\":{\"fillmode\":\"overlay\",\"size\":10,\"solidity\":0.2}},\"type\":\"barpolar\"}],\"pie\":[{\"automargin\":true,\"type\":\"pie\"}]},\"layout\":{\"autotypenumbers\":\"strict\",\"colorway\":[\"#636efa\",\"#EF553B\",\"#00cc96\",\"#ab63fa\",\"#FFA15A\",\"#19d3f3\",\"#FF6692\",\"#B6E880\",\"#FF97FF\",\"#FECB52\"],\"font\":{\"color\":\"#2a3f5f\"},\"hovermode\":\"closest\",\"hoverlabel\":{\"align\":\"left\"},\"paper_bgcolor\":\"white\",\"plot_bgcolor\":\"#E5ECF6\",\"polar\":{\"bgcolor\":\"#E5ECF6\",\"angularaxis\":{\"gridcolor\":\"white\",\"linecolor\":\"white\",\"ticks\":\"\"},\"radialaxis\":{\"gridcolor\":\"white\",\"linecolor\":\"white\",\"ticks\":\"\"}},\"ternary\":{\"bgcolor\":\"#E5ECF6\",\"aaxis\":{\"gridcolor\":\"white\",\"linecolor\":\"white\",\"ticks\":\"\"},\"baxis\":{\"gridcolor\":\"white\",\"linecolor\":\"white\",\"ticks\":\"\"},\"caxis\":{\"gridcolor\":\"white\",\"linecolor\":\"white\",\"ticks\":\"\"}},\"coloraxis\":{\"colorbar\":{\"outlinewidth\":0,\"ticks\":\"\"}},\"colorscale\":{\"sequential\":[[0.0,\"#0d0887\"],[0.1111111111111111,\"#46039f\"],[0.2222222222222222,\"#7201a8\"],[0.3333333333333333,\"#9c179e\"],[0.4444444444444444,\"#bd3786\"],[0.5555555555555556,\"#d8576b\"],[0.6666666666666666,\"#ed7953\"],[0.7777777777777778,\"#fb9f3a\"],[0.8888888888888888,\"#fdca26\"],[1.0,\"#f0f921\"]],\"sequentialminus\":[[0.0,\"#0d0887\"],[0.1111111111111111,\"#46039f\"],[0.2222222222222222,\"#7201a8\"],[0.3333333333333333,\"#9c179e\"],[0.4444444444444444,\"#bd3786\"],[0.5555555555555556,\"#d8576b\"],[0.6666666666666666,\"#ed7953\"],[0.7777777777777778,\"#fb9f3a\"],[0.8888888888888888,\"#fdca26\"],[1.0,\"#f0f921\"]],\"diverging\":[[0,\"#8e0152\"],[0.1,\"#c51b7d\"],[0.2,\"#de77ae\"],[0.3,\"#f1b6da\"],[0.4,\"#fde0ef\"],[0.5,\"#f7f7f7\"],[0.6,\"#e6f5d0\"],[0.7,\"#b8e186\"],[0.8,\"#7fbc41\"],[0.9,\"#4d9221\"],[1,\"#276419\"]]},\"xaxis\":{\"gridcolor\":\"white\",\"linecolor\":\"white\",\"ticks\":\"\",\"title\":{\"standoff\":15},\"zerolinecolor\":\"white\",\"automargin\":true,\"zerolinewidth\":2},\"yaxis\":{\"gridcolor\":\"white\",\"linecolor\":\"white\",\"ticks\":\"\",\"title\":{\"standoff\":15},\"zerolinecolor\":\"white\",\"automargin\":true,\"zerolinewidth\":2},\"scene\":{\"xaxis\":{\"backgroundcolor\":\"#E5ECF6\",\"gridcolor\":\"white\",\"linecolor\":\"white\",\"showbackground\":true,\"ticks\":\"\",\"zerolinecolor\":\"white\",\"gridwidth\":2},\"yaxis\":{\"backgroundcolor\":\"#E5ECF6\",\"gridcolor\":\"white\",\"linecolor\":\"white\",\"showbackground\":true,\"ticks\":\"\",\"zerolinecolor\":\"white\",\"gridwidth\":2},\"zaxis\":{\"backgroundcolor\":\"#E5ECF6\",\"gridcolor\":\"white\",\"linecolor\":\"white\",\"showbackground\":true,\"ticks\":\"\",\"zerolinecolor\":\"white\",\"gridwidth\":2}},\"shapedefaults\":{\"line\":{\"color\":\"#2a3f5f\"}},\"annotationdefaults\":{\"arrowcolor\":\"#2a3f5f\",\"arrowhead\":0,\"arrowwidth\":1},\"geo\":{\"bgcolor\":\"white\",\"landcolor\":\"#E5ECF6\",\"subunitcolor\":\"white\",\"showland\":true,\"showlakes\":true,\"lakecolor\":\"white\"},\"title\":{\"x\":0.05},\"mapbox\":{\"style\":\"light\"}}},\"title\":{\"text\":\"Taxa de Evas\\u00e3o por Estado\"},\"xaxis\":{\"title\":{\"text\":\"Estado\"}},\"yaxis\":{\"title\":{\"text\":\"Taxa de Evas\\u00e3o\"}}},                        {\"responsive\": true}                    ).then(function(){\n",
       "                            \n",
       "var gd = document.getElementById('7019c34a-178e-4439-9593-a26b187ddec8');\n",
       "var x = new MutationObserver(function (mutations, observer) {{\n",
       "        var display = window.getComputedStyle(gd).display;\n",
       "        if (!display || display === 'none') {{\n",
       "            console.log([gd, 'removed!']);\n",
       "            Plotly.purge(gd);\n",
       "            observer.disconnect();\n",
       "        }}\n",
       "}});\n",
       "\n",
       "// Listen for the removal of the full notebook cells\n",
       "var notebookContainer = gd.closest('#notebook-container');\n",
       "if (notebookContainer) {{\n",
       "    x.observe(notebookContainer, {childList: true});\n",
       "}}\n",
       "\n",
       "// Listen for the clearing of the current output cell\n",
       "var outputEl = gd.closest('.output');\n",
       "if (outputEl) {{\n",
       "    x.observe(outputEl, {childList: true});\n",
       "}}\n",
       "\n",
       "                        })                };                });            </script>        </div>"
      ]
     },
     "metadata": {},
     "output_type": "display_data"
    }
   ],
   "source": [
    "# Crie um gráfico de barras para a taxa de evasão por estado\n",
    "fig = go.Figure()\n",
    "    \n",
    "    # Adicione o número de alunos evadidos como um gráfico de barras\n",
    "fig.add_trace(go.Bar(\n",
    "        x=contagem_evadidos_por_estado.index,\n",
    "        y=contagem_evadidos_por_estado,\n",
    "        name='Número de Alunos Evadidos',\n",
    "        marker_color='lightblue'  # Cor das barras\n",
    "    ))\n",
    "    \n",
    "fig.update_layout(\n",
    "        title='Número de Alunos Evadidos por Estado',\n",
    "        xaxis_title='Estado',\n",
    "        yaxis_title='Número de Alunos Evadidos'\n",
    "    )\n",
    "\n",
    "fig.show()  # Mostra o gráfico\n",
    "\n",
    " # Crie um segundo gráfico de barras para a taxa de evasão por estado\n",
    "fig2 = go.Figure()\n",
    "    \n",
    "fig2.add_trace(go.Bar(\n",
    "        x=proporcao_por_estado.index,\n",
    "        y=proporcao_por_estado,\n",
    "        name='Taxa de Evasão',\n",
    "        text=proporcao_por_estado.apply(format_value),\n",
    "        textposition='inside',\n",
    "        marker_color='purple'  # Cor das barras\n",
    "    ))\n",
    "\n",
    "fig2.update_layout(\n",
    "        title='Taxa de Evasão por Estado',\n",
    "        xaxis_title='Estado',\n",
    "        yaxis_title='Taxa de Evasão'\n",
    "    )\n",
    "\n",
    "fig2.show()  # Mostra o segundo gráfico"
   ]
  },
  {
   "cell_type": "code",
   "execution_count": 37,
   "id": "3c997cfb-298c-42c1-8418-8735da6832f1",
   "metadata": {},
   "outputs": [],
   "source": [
    "import streamlit as st\n",
    "import numpy as np"
   ]
  },
  {
   "cell_type": "code",
   "execution_count": 43,
   "id": "4d0582a5-96a0-42a0-94d3-e329e7a80ac7",
   "metadata": {},
   "outputs": [
    {
     "data": {
      "image/png": "[encoded data removed]",
      "text/plain": [
       "<Figure size 600x1687.5 with 1 Axes>"
      ]
     },
     "metadata": {},
     "output_type": "display_data"
    },
    {
     "ename": "TypeError",
     "evalue": "ImageMixin.image() got an unexpected keyword argument 'use_container_width'",
     "output_type": "error",
     "traceback": [
      "\u001b[1;31m---------------------------------------------------------------------------\u001b[0m",
      "\u001b[1;31mTypeError\u001b[0m                                 Traceback (most recent call last)",
      "Cell \u001b[1;32mIn[43], line 35\u001b[0m\n\u001b[0;32m     32\u001b[0m     plt\u001b[38;5;241m.\u001b[39mshow()\n\u001b[0;32m     34\u001b[0m \u001b[38;5;66;03m# Exibir a tabela como imagem\u001b[39;00m\n\u001b[1;32m---> 35\u001b[0m \u001b[43mst\u001b[49m\u001b[38;5;241;43m.\u001b[39;49m\u001b[43mimage\u001b[49m\u001b[43m(\u001b[49m\u001b[43mrender_mpl_table\u001b[49m\u001b[43m(\u001b[49m\u001b[43mdf\u001b[49m\u001b[43m,\u001b[49m\u001b[43m \u001b[49m\u001b[43mheader_columns\u001b[49m\u001b[38;5;241;43m=\u001b[39;49m\u001b[38;5;241;43m0\u001b[39;49m\u001b[43m)\u001b[49m\u001b[43m,\u001b[49m\u001b[43m \u001b[49m\u001b[43muse_container_width\u001b[49m\u001b[38;5;241;43m=\u001b[39;49m\u001b[38;5;28;43;01mTrue\u001b[39;49;00m\u001b[43m)\u001b[49m\n",
      "File \u001b[1;32m~\\bootcamp\\Lib\\site-packages\\streamlit\\runtime\\metrics_util.py:396\u001b[0m, in \u001b[0;36mgather_metrics.<locals>.wrapped_func\u001b[1;34m(*args, **kwargs)\u001b[0m\n\u001b[0;32m    394\u001b[0m         _LOGGER\u001b[38;5;241m.\u001b[39mdebug(\u001b[38;5;124m\"\u001b[39m\u001b[38;5;124mFailed to collect command telemetry\u001b[39m\u001b[38;5;124m\"\u001b[39m, exc_info\u001b[38;5;241m=\u001b[39mex)\n\u001b[0;32m    395\u001b[0m \u001b[38;5;28;01mtry\u001b[39;00m:\n\u001b[1;32m--> 396\u001b[0m     result \u001b[38;5;241m=\u001b[39m \u001b[43mnon_optional_func\u001b[49m\u001b[43m(\u001b[49m\u001b[38;5;241;43m*\u001b[39;49m\u001b[43margs\u001b[49m\u001b[43m,\u001b[49m\u001b[43m \u001b[49m\u001b[38;5;241;43m*\u001b[39;49m\u001b[38;5;241;43m*\u001b[39;49m\u001b[43mkwargs\u001b[49m\u001b[43m)\u001b[49m\n\u001b[0;32m    397\u001b[0m \u001b[38;5;28;01mexcept\u001b[39;00m RerunException \u001b[38;5;28;01mas\u001b[39;00m ex:\n\u001b[0;32m    398\u001b[0m     \u001b[38;5;66;03m# Duplicated from below, because static analysis tools get confused\u001b[39;00m\n\u001b[0;32m    399\u001b[0m     \u001b[38;5;66;03m# by deferring the rethrow.\u001b[39;00m\n\u001b[0;32m    400\u001b[0m     \u001b[38;5;28;01mif\u001b[39;00m tracking_activated \u001b[38;5;129;01mand\u001b[39;00m command_telemetry:\n",
      "\u001b[1;31mTypeError\u001b[0m: ImageMixin.image() got an unexpected keyword argument 'use_container_width'"
     ]
    }
   ],
   "source": [
    "data = {\n",
    "    'Estado': ['PI', 'AC', 'SE', 'TO', 'CE', 'RO', 'PR', 'SC', 'RS', 'DF',\n",
    "               'AM', 'SP', 'MS', 'ES', 'MG', 'PA', 'RJ', 'GO', 'RN', 'PB',\n",
    "               'MT', 'MA', 'AP', 'PE', 'RR', 'BA'],\n",
    "    'Alunos Matriculados': [1, 4, 8, 2, 14, 12, 16, 8, 27, 41, 6, 736, 23, 351, 29320, 24, 3410, 37, 4, 5, 14, 7, 2, 4, 2, 84]\n",
    "}\n",
    "\n",
    "df = pd.DataFrame(data)\n",
    "\n",
    "# Função para criar uma imagem da tabela\n",
    "def render_mpl_table(data, col_width=3.0, row_height=0.625, font_size=14,\n",
    "                     header_color='#40466e', row_colors=['#f1f1f2', 'w'], edge_color='w',\n",
    "                     bbox=[0, 0, 1, 1], header_columns=0,\n",
    "                     ax=None, **kwargs):\n",
    "    if ax is None:\n",
    "        size = (np.array(data.shape[::-1]) + np.array([0, 1])) * np.array([col_width, row_height])\n",
    "        fig, ax = plt.subplots(figsize=size)\n",
    "        ax.axis('off')\n",
    "\n",
    "    mpl_table = ax.table(cellText=data.values, bbox=bbox, colLabels=data.columns, **kwargs)\n",
    "\n",
    "    mpl_table.auto_set_font_size(False)\n",
    "    mpl_table.set_fontsize(font_size)\n",
    "\n",
    "    for k, cell in mpl_table._cells.items():\n",
    "        cell.set_edgecolor(edge_color)\n",
    "        if k[0] == 0:\n",
    "            cell.set_text_props(weight='bold', color='w')\n",
    "            cell.set_facecolor(header_color)\n",
    "        else:\n",
    "            cell.set_facecolor(row_colors[k[0] % len(row_colors)])\n",
    "    plt.show()\n",
    "\n",
    "# Exibir a tabela como imagem\n",
    "st.image(render_mpl_table(df, header_columns=0), use_container_width=True)"
   ]
  },
  {
   "cell_type": "code",
   "execution_count": null,
   "id": "826aec22-0e4d-416d-918e-0270923f7678",
   "metadata": {},
   "outputs": [],
   "source": []
  }
 ],
 "metadata": {
  "kernelspec": {
   "display_name": "Python 3 (ipykernel)",
   "language": "python",
   "name": "python3"
  },
  "language_info": {
   "codemirror_mode": {
    "name": "ipython",
    "version": 3
   },
   "file_extension": ".py",
   "mimetype": "text/x-python",
   "name": "python",
   "nbconvert_exporter": "python",
   "pygments_lexer": "ipython3",
   "version": "3.11.1"
  }
 },
 "nbformat": 4,
 "nbformat_minor": 5
}
