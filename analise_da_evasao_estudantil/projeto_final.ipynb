{
 "cells": [
  {
   "cell_type": "code",
   "execution_count": 1,
   "id": "76b5295a-4a65-4989-b4a9-0a6e5caaf8dd",
   "metadata": {},
   "outputs": [],
   "source": [
    "import pandas as pd"
   ]
  },
  {
   "cell_type": "code",
   "execution_count": 2,
   "id": "c90b4740-444c-420f-a13e-9bb92764a36b",
   "metadata": {},
   "outputs": [],
   "source": [
    "import os \n",
    "filepath = os.path.join(os.getcwd(), 'Dados', 'dataset_grad_pres.csv')"
   ]
  },
  {
   "cell_type": "code",
   "execution_count": 39,
   "id": "0932241a-bf26-426e-a5b6-29369a4cf889",
   "metadata": {},
   "outputs": [],
   "source": [
    "import os \n",
    "filepath = os.path.join(os.getcwd(), 'Dados', 'dataset_tratado_st.csv')"
   ]
  },
  {
   "cell_type": "code",
   "execution_count": 40,
   "id": "6322d25e-e86b-4e4f-964d-d6c7855544c7",
   "metadata": {},
   "outputs": [],
   "source": [
    "df_completo = pd.read_csv(filepath, engine='python', \n",
    "                     on_bad_lines='warn', header=0, sep = \",\")"
   ]
  },
  {
   "cell_type": "code",
   "execution_count": null,
   "id": "dc12c08e-ff4e-43af-8aa9-dabf18e2beca",
   "metadata": {},
   "outputs": [],
   "source": [
    "# Cria o DataFrame completo, com todos os dados do arquivo dataset_grad_pres.csv\n",
    "\n",
    "df_completo = pd.read_csv(filepath, engine='python', \n",
    "                     on_bad_lines='warn', encoding='iso-8859-1', header=0, sep = \";\")"
   ]
  },
  {
   "cell_type": "code",
   "execution_count": 6,
   "id": "e7dac6fa-c786-42b1-a0f0-c2ac946c1aec",
   "metadata": {},
   "outputs": [],
   "source": [
    "########################### TABELA ##################\n",
    "# Grupo / Baixa renda / Escola Pública /  Etnia-PPI / PCD\n",
    "# Grupo A sim sim sim não\n",
    "# Grupo A1 sim sim sim sim\n",
    "# Grupo B sim sim não não\n",
    "# Grupo B1 sim sim não sim\n",
    "# Grupo C não não não não\n",
    "# Grupo D não sim sim não\n",
    "# Grupo D1 não sim  sim sim\n",
    "# Grupo E não sim não não\n",
    "# Grupo E1 não sim não sim"
   ]
  },
  {
   "cell_type": "code",
   "execution_count": 41,
   "id": "3e9d709e-fa5d-4167-a7d9-1cb19a9159b5",
   "metadata": {},
   "outputs": [],
   "source": [
    "# Inclui no final do DataFrame df_completo as colunas:\n",
    "# Baixa renda; Escola pública; Etnia; PPI; PCD\n",
    "# e preenche seus valores com \"Sim\" ou \"Não\", de acordo com a tabela acima\n",
    "\n",
    "def classificar_baixa_renda(cota):\n",
    "    baixa_renda_categorias = [\"Grupo A\", \"Grupo A1\", \"Grupo B\", \"Grupo B1\"]\n",
    "\n",
    "    if cota in baixa_renda_categorias:\n",
    "        return \"Sim\"\n",
    "    else:\n",
    "        return \"Não\"\n",
    "\n",
    "df_completo['Baixa renda'] = df_completo['COTA'].apply(classificar_baixa_renda)\n",
    "\n",
    "def classificar_escola_publica(cota):\n",
    "    escola_publica_categorias = [\"Grupo A\", \"Grupo A1\", \"Grupo B\", \"Grupo B1\", \"Grupo D\", \"Grupo D1\", \"Grupo E\", \"Grupo E1\"]\n",
    "\n",
    "    if cota in escola_publica_categorias:\n",
    "        return \"Sim\"\n",
    "    else:\n",
    "        return \"Não\"\n",
    "\n",
    "df_completo['Escola pública'] = df_completo['COTA'].apply(classificar_escola_publica)\n",
    "\n",
    "def classificar_etnia_PPI(cota):\n",
    "    etnia_ppi_categorias = [\"Grupo A\", \"Grupo A1\", \"Grupo D\", \"Grupo D1\"]\n",
    "\n",
    "    if cota in etnia_ppi_categorias:\n",
    "        return \"Sim\"\n",
    "    else:\n",
    "        return \"Não\"\n",
    "\n",
    "df_completo['Etnia PPI'] = df_completo['COTA'].apply(classificar_etnia_PPI)\n",
    "\n",
    "def classificar_PCD(cota):\n",
    "    pcd_categorias = [\"Grupo A1\", \"Grupo B1\", \"Grupo D1\", \"Grupo E1\"]\n",
    "\n",
    "    if cota in pcd_categorias:\n",
    "        return \"Sim\"\n",
    "    else:\n",
    "        return \"Não\"\n",
    "\n",
    "df_completo['PCD'] = df_completo['COTA'].apply(classificar_PCD)"
   ]
  },
  {
   "cell_type": "code",
   "execution_count": null,
   "id": "0eccfe0a-0871-4135-9c14-d04717f9970c",
   "metadata": {},
   "outputs": [],
   "source": [
    "# Para visualizar os 5 primeiros registros do DataFrame completo, retire o # do início da linha abaixo\n",
    "\n",
    "#df_completo.head()"
   ]
  },
  {
   "cell_type": "code",
   "execution_count": 14,
   "id": "0dcfd01b-ac1a-402b-993b-4e76db17b8c2",
   "metadata": {},
   "outputs": [],
   "source": [
    "# DataFrame somente com alunos que ingressaram de 2013 em diante\n",
    "\n",
    "df_ingressantes_apos_2012 = df_completo.loc[(df_completo['ANO_INGRESSO'] > 2012)]"
   ]
  },
  {
   "cell_type": "code",
   "execution_count": null,
   "id": "135f008d-5e6b-4827-975b-e1ea4239cb08",
   "metadata": {},
   "outputs": [],
   "source": [
    "# Para visualizar os 5 primeiros registros do DataFrame somente com alunos que ingressaram de 2013 em diante, retire o # do início da linha abaixo\n",
    "\n",
    "#df_ingressantes_apos_2012.head()"
   ]
  },
  {
   "cell_type": "code",
   "execution_count": 43,
   "id": "309606fe-8845-46c4-9a49-cbecfd8f0a06",
   "metadata": {},
   "outputs": [],
   "source": [
    "# Mantém no DataFrame df_ingressantes_apos_2012 apenas os alunos que ingressaram por SiSU ou PISM\n",
    "\n",
    "df_ingressantes_apos_2012 = df_ingressantes_apos_2012.loc[(df_ingressantes_apos_2012['TIPO_INGRESSO'] == 'SiSU') \n",
    "            | (df_ingressantes_apos_2012['TIPO_INGRESSO'] == 'PISM') ]\n",
    "#            | (df_ingressantes_apos_2012['TIPO_INGRESSO'] == 'SiSU VAGA OCIOSA')\n",
    "#            | (df_ingressantes_apos_2012['TIPO_INGRESSO'] == 'PISM VAGA OCIOSA')]"
   ]
  },
  {
   "cell_type": "code",
   "execution_count": 44,
   "id": "2e5bfd0a-6aa2-4452-bffa-2759334b1772",
   "metadata": {},
   "outputs": [],
   "source": [
    "# Retira do DataFrame df_ingressantes_apos_2012 os cursos que contêm \"ABI -\" no nome\n",
    "# REGISTRAR AQUI POR QUE RESOLVEMOS ELIMINAR ESSES REGISTROS\n",
    "\n",
    "df_ingressantes_apos_2012 = df_ingressantes_apos_2012[~df_ingressantes_apos_2012['CURSO_NOME'].str.contains(\"ABI -\", regex=False)]"
   ]
  },
  {
   "cell_type": "code",
   "execution_count": 45,
   "id": "8de129f0-ed3a-4a89-a93c-0a8c22b71db6",
   "metadata": {},
   "outputs": [],
   "source": [
    "# Retira do DataFrame df_ingressantes_apos_2012 os cursos que contêm \"OPÇÃO 2º CICLO CIÊNCIAS EXATAS\" no nome\n",
    "# REGISTRAR AQUI POR QUE RESOLVEMOS ELIMINAR ESSES REGISTROS\n",
    "\n",
    "df_ingressantes_apos_2012 = df_ingressantes_apos_2012[~df_ingressantes_apos_2012['CURSO_NOME'].str.contains(\"OPÇÃO 2º CICLO CIÊNCIAS EXATAS\", regex=False)]"
   ]
  },
  {
   "cell_type": "code",
   "execution_count": 46,
   "id": "889221f4-2f26-4a0a-ad65-15436253e512",
   "metadata": {},
   "outputs": [],
   "source": [
    "# Retira do DataFrame df_ingressantes_apos_2012 os cursos que contêm \"BACHARELADO INTERDISCIPLINAR\" no nome\n",
    "# REGISTRAR AQUI POR QUE RESOLVEMOS ELIMINAR ESSES REGISTROS\n",
    "\n",
    "df_ingressantes_apos_2012 = df_ingressantes_apos_2012[~df_ingressantes_apos_2012['CURSO_NOME'].str.contains(\"BACHARELADO INTERDISCIPLINAR\", regex=False)]"
   ]
  },
  {
   "cell_type": "code",
   "execution_count": 47,
   "id": "97dbd9ca-242d-4a73-b1fc-2bf421019f3f",
   "metadata": {},
   "outputs": [],
   "source": [
    "# Retira do DataFrame df_ingressantes_apos_2012 os cursos que contêm \"CIÊNCIAS EXATAS\" no nome\n",
    "# REGISTRAR AQUI POR QUE RESOLVEMOS ELIMINAR ESSES REGISTROS\n",
    "\n",
    "df_ingressantes_apos_2012 = df_ingressantes_apos_2012[~df_ingressantes_apos_2012['CURSO_NOME'].str.contains(\"CIÊNCIAS EXATAS\", regex=False)]"
   ]
  },
  {
   "cell_type": "code",
   "execution_count": null,
   "id": "41b104e5-8315-405a-9690-3ca7912f4f93",
   "metadata": {},
   "outputs": [],
   "source": [
    "# DataFrame de alunos evadidos de 2013 em diante\n",
    "df_evadidos = df_ingressantes_apos_2012.loc[df_ingressantes_apos_2012['SITUACAO'] == 'Evadido']\n",
    "\n",
    "# Quantidade de evadidos por curso\n",
    "qtt_evadidos_por_curso = df_evadidos['CURSO_NOME'].value_counts()"
   ]
  },
  {
   "cell_type": "code",
   "execution_count": null,
   "id": "c8cffc9d-3d56-46a7-99da-7ef665261ec0",
   "metadata": {},
   "outputs": [],
   "source": [
    "import matplotlib.pyplot as plt\n",
    "import seaborn as sns"
   ]
  },
  {
   "cell_type": "code",
   "execution_count": null,
   "id": "1d49083f-91c7-4582-acd3-84df849e6600",
   "metadata": {},
   "outputs": [],
   "source": [
    "f, axes = plt.subplots(1, 1,  figsize=(16, 6))\n",
    "\n",
    "g = sns.barplot(x=qtt_evadidos_por_curso.index, \n",
    "                y=qtt_evadidos_por_curso)\n",
    "\n",
    "axes.set_title('Evadidos x Curso (2013 - 2023)', fontsize=14)\n",
    "axes.set_ylabel('Total', fontsize=14)\n",
    "axes.set(xlabel='') \n",
    "\n",
    "plt.xticks(rotation=90)\n",
    "\n",
    "plt.show()"
   ]
  },
  {
   "cell_type": "code",
   "execution_count": null,
   "id": "495bb191-e385-4599-ba90-6595115e9ad5",
   "metadata": {},
   "outputs": [],
   "source": [
    "def calcular_qtt_situacao(df_ingressantes_apos_2012, filtro, situacao):\n",
    "    df = df_ingressantes_apos_2012.loc[df_ingressantes_apos_2012['SITUACAO'] == situacao]\n",
    "    return df.groupby('CURSO_NOME')[filtro].value_counts()"
   ]
  },
  {
   "cell_type": "code",
   "execution_count": null,
   "id": "2d909804-a893-44ff-8688-b2ed0beb07f2",
   "metadata": {},
   "outputs": [],
   "source": [
    "# EXPLICAR O QUE A FUNÇÃO ABAIXO FAZ \n",
    "\n",
    "def evadido_vs_ingressante_por_filtro(df_ingressantes, filtro):\n",
    "    #calcular uma série com o número de alunos, evadidos, número de concluídos e número de ativos\n",
    "    qtt_filtro_por_curso = df_ingressantes.groupby('CURSO_NOME')[filtro].value_counts()\n",
    "    qtt_evadidos_por_filtro = calcular_qtt_situacao(df_ingressantes, filtro, 'Evadido')\n",
    "    print(qtt_evadidos_por_filtro)\n",
    "    qtt_concluidos_por_filtro =  calcular_qtt_situacao(df_ingressantes, filtro, 'Concluido')\n",
    "    qtt_ativos_por_filtro =  calcular_qtt_situacao(df_ingressantes, filtro, 'Ativo')\n",
    "    \n",
    "    #cruzamento das Series criadas anterioresmente    \n",
    "    df = pd.merge(qtt_filtro_por_curso, qtt_evadidos_por_filtro, \n",
    "                                      how='left', on=['CURSO_NOME', filtro], suffixes=('_total', '_evadidos')).fillna(0)\n",
    "    df = pd.merge(df, qtt_concluidos_por_filtro, \n",
    "                                      how='left', on=['CURSO_NOME', filtro], suffixes=('', '_concluintes')).fillna(0)\n",
    "    df = pd.merge(df, qtt_ativos_por_filtro, \n",
    "                                      how='left', on=['CURSO_NOME', filtro], suffixes=('', '_ativos')).fillna(0)\n",
    "    df = df.rename(columns={'count': 'count_concluintes'}).sort_values(filtro)\n",
    "    df.columns = ['total', 'evadidos', 'concluidos', 'ativos']\n",
    "\n",
    "    #calculando os percentuais\n",
    "    df['pct_evasao'] = df['evadidos']/df['total']\n",
    "    df['pct_concluido'] = df['concluidos']/df['total']\n",
    "    df['pct_ativo'] = df['ativos']/df['total']\n",
    "\n",
    "    print(df)\n",
    "   \n",
    "    return df"
   ]
  },
  {
   "cell_type": "code",
   "execution_count": null,
   "id": "dace9006-a08d-4958-8a20-704dd904ae86",
   "metadata": {},
   "outputs": [],
   "source": [
    "# EXPLICAR O QUE A FUNÇÃO FAZ \n",
    "\n",
    "def cota_por_curso(evadido_vs_ingressante, curso):\n",
    "    \n",
    "    ax = evadido_vs_ingressante[['evadidos', 'concluidos', 'ativos']].loc[curso].plot(kind='bar', stacked=True, figsize=[10,6])\n",
    "    \n",
    "    df = evadido_vs_ingressante.loc[curso]\n",
    "    \n",
    "    for i, eixo_x in enumerate(ax.get_xticklabels()):\n",
    "        \n",
    "        linha = int(eixo_x.get_text()) if eixo_x.get_text().isdigit() else eixo_x.get_text()\n",
    "        \n",
    "        pct_evasao_float = df['pct_evasao'].loc[linha]\n",
    "        pct_evasao_str = f\"{pct_evasao_float:.2%}\"\n",
    "        altura_y_evadidos = df['evadidos'].loc[linha]\n",
    "        \n",
    "        pct_concluintes_float = df['pct_concluido'].loc[linha]\n",
    "        pct_concluintes_str = f\"{pct_concluintes_float:.2%}\"\n",
    "        altura_y_concluintes = df['concluidos'].loc[linha]\n",
    "        \n",
    "        pct_ativos_float = df['pct_ativo'].loc[linha]\n",
    "        pct_ativos_str = f\"{pct_ativos_float:.2%}\"\n",
    "        altura_y_ativos = df['ativos'].loc[linha]\n",
    "        \n",
    "        if pct_evasao_float >= 0.05:\n",
    "            ax.annotate(pct_evasao_str, xy=(i, altura_y_evadidos), rotation=45)\n",
    "        \n",
    "        if pct_concluintes_float >= 0.05:\n",
    "            ax.annotate(pct_concluintes_str, xy=(i, altura_y_evadidos + altura_y_concluintes), rotation=45)\n",
    "            \n",
    "        if pct_ativos_float >= 0.05:\n",
    "            ax.annotate(pct_ativos_str, xy=(i, altura_y_evadidos + altura_y_concluintes + altura_y_ativos), rotation=45)"
   ]
  },
  {
   "cell_type": "code",
   "execution_count": null,
   "id": "a726f266-bedc-45ea-b565-0779bafa1f92",
   "metadata": {},
   "outputs": [],
   "source": [
    "# Para gerar um gráfico que mostra a relação entre ingressantes e evadidos por curso, \n",
    "# incluindo qualquer outra coluna do DataFrame df_ingressantes_apos_2012,\n",
    "# substitua as variáveis abaixo (coluna e curso)\n",
    "\n",
    "# coluna =\n",
    "# Funciona para : ANO_INGRESSO, SEMESTRE_INGRESSO, TIPO_INGRESSO, \n",
    "# COTA, CAMPUS, ETNIA, SEXO\n",
    "# TURNO - faz sentido para os cursos com turnos diferentes como por exemplo: \n",
    "# LETRAS, FÍSICA, MATEMÁTICA\n",
    "# Não funciona para: CURSO_NOME, AREA, SITUACAO, MOTIVO_SAIDA\n",
    "\n",
    "# cursos: 'CIÊNCIAS BIOLÓGICAS', 'ADMINISTRAÇÃO', 'CIÊNCIAS CONTÁBEIS',\n",
    "#       'CIÊNCIAS ECONÔMICAS', 'DIREITO', 'FARMÁCIA', 'FISIOTERAPIA',\n",
    "#       'MEDICINA', 'FILOSOFIA', 'NUTRIÇÃO', 'FÍSICA', 'ODONTOLOGIA',\n",
    "#       'GEOGRAFIA', 'EDUCAÇÃO FÍSICA', 'HISTÓRIA', 'LETRAS', 'PEDAGOGIA',\n",
    "#       'SERVIÇO SOCIAL', 'ENFERMAGEM', 'ENGENHARIA CIVIL', 'PSICOLOGIA',\n",
    "#       'ARQUITETURA E URBANISMO', 'CIÊNCIA DA COMPUTAÇÃO',\n",
    "#       'ENGENHARIA DE PRODUÇÃO', 'MÚSICA', 'CIÊNCIAS EXATAS',\n",
    "#       'ENGENHARIA COMPUTACIONAL', 'ESTATÍSTICA', 'MATEMÁTICA', 'QUÍMICA',\n",
    "#       'ENGENHARIA ELÉTRICA - ENERGIA',\n",
    "#       'ENGENHARIA ELÉTRICA - ROBÓTICA E AUTOMAÇÃO INDUSTRIAL',\n",
    "#       'ENGENHARIA ELÉTRICA - SISTEMAS DE POTÊNCIA',\n",
    "#       'ENGENHARIA ELÉTRICA - SISTEMAS ELETRÔNICOS',\n",
    "#       'ENGENHARIA ELÉTRICA -  TELECOMUNICAÇÕES', 'ENGENHARIA MECÂNICA',\n",
    "#       'BACHARELADO INTERDISCIPLINAR EM ARTES E DESIGN',\n",
    "#       'CINEMA E AUDIOVISUAL', 'BACHARELADO EM ARTES VISUAIS',\n",
    "#       'BACHARELADO EM DESIGN', 'BACHARELADO EM MODA',\n",
    "#       'LICENCIATURA EM ARTES VISUAIS',\n",
    "#       'ENGENHARIA AMBIENTAL E SANITÁRIA',\n",
    "#       'BACHARELADO INTERDISCIPLINAR EM CIÊNCIAS HUMANAS',\n",
    "#       'CIÊNCIA DA RELIGIÃO', 'CIÊNCIAS SOCIAIS', 'TURISMO',\n",
    "#       'SISTEMAS DE INFORMAÇÃO', 'JORNALISMO', 'MEDICINA VETERINÁRIA',\n",
    "#       'LETRAS - LIBRAS', 'LICENCIATURA EM MÚSICA',\n",
    "#       'RÁDIO  TV E INTERNET'\n",
    "\n",
    "coluna = \"ANO_INGRESSO\"\n",
    "curso = \"ENGENHARIA ELÉTRICA - ENERGIA\"\n",
    "\n",
    "cota_por_curso(evadido_vs_ingressante_por_filtro(df_ingressantes_apos_2012, coluna), curso)"
   ]
  },
  {
   "cell_type": "code",
   "execution_count": null,
   "id": "15998087-ea2b-4302-b85b-d73eeba2e29a",
   "metadata": {},
   "outputs": [],
   "source": [
    "# Função utilizada para gerar um gráfico que mostra os cursos com as maiores taxas\n",
    "# de evasão de acordo com o grupo de cotas escolhido.\n",
    "\n",
    "def evasao_por_grupo(d, grupo):\n",
    "    d = evadido_vs_ingressante_por_filtro(d, 'ANO_INGRESSO')\n",
    "    filtro_por_grupo = d.loc[d.index.get_level_values('ANO_INGRESSO') == grupo]\n",
    "    ordena_por_evasao = filtro_por_grupo.sort_values(by=['pct_evasao'], ascending=False)\n",
    "    plot_grafico(ordena_por_evasao.index.get_level_values('CURSO_NOME'),\n",
    "                ordena_por_evasao['pct_evasao'], grupo)"
   ]
  },
  {
   "cell_type": "code",
   "execution_count": null,
   "id": "c9a1060e-d60e-426f-b72f-546339180ef4",
   "metadata": {},
   "outputs": [],
   "source": [
    "# Função utilizada para gerar o gráfico.\n",
    "\n",
    "def plot_grafico(x, y, grupo):\n",
    "    f, axes = plt.subplots(1, 1,  figsize=(16, 6))\n",
    "    g = sns.barplot(x=x, y=y)\n",
    "    axes.set_title(f'Curso X Taxa de Evasão - {grupo} (2013 - 2023)', fontsize=14)\n",
    "    axes.set_ylabel('Taxa de Evasão', fontsize=14)\n",
    "    axes.set(xlabel='')     \n",
    "    plt.xticks(rotation=90)    \n",
    "    plt.show()"
   ]
  },
  {
   "cell_type": "code",
   "execution_count": null,
   "id": "9cd66dce-7eda-45d9-9d85-4c9d38378eb7",
   "metadata": {},
   "outputs": [],
   "source": [
    "evasao_por_grupo(df_ingressantes_apos_2012, 2017)"
   ]
  },
  {
   "cell_type": "code",
   "execution_count": null,
   "id": "1234a44b-3439-4432-9c07-9aea729fd02e",
   "metadata": {},
   "outputs": [],
   "source": [
    "def qtt_evadidos_por_sexo(df_ingressantes_apos_2012, filtro, sexo):\n",
    "    df = df_ingressantes_apos_2012.loc[df_ingressantes_apos_2012['SITUACAO'] == 'Evadido']\n",
    "    df1 = df.loc[df_ingressantes_apos_2012['SEXO'] == sexo]\n",
    "    return df1.groupby('CURSO_NOME')[filtro].value_counts()"
   ]
  },
  {
   "cell_type": "code",
   "execution_count": null,
   "id": "d8dbb326-6197-4b6d-acaa-cca3da646c75",
   "metadata": {},
   "outputs": [],
   "source": [
    "def qtt_ingressantes_por_sexo(df_ingressantes_apos_2012, filtro, sexo):\n",
    "    df = df_ingressantes_apos_2012.loc[df_ingressantes_apos_2012['SEXO'] == sexo]\n",
    "    return df.groupby('CURSO_NOME')[filtro].value_counts()"
   ]
  },
  {
   "cell_type": "code",
   "execution_count": null,
   "id": "33937331-bee9-404c-a6d5-61305fb60dba",
   "metadata": {},
   "outputs": [],
   "source": [
    "def evadido_vs_sexo_por_filtro(df_ingressantes, filtro, curso):\n",
    "    qtt_total_feminino_por_filtro = qtt_ingressantes_por_sexo(df_ingressantes, filtro, 'F')\n",
    "    qtt_total_masculino_por_filtro = qtt_ingressantes_por_sexo(df_ingressantes, filtro, 'M')\n",
    "    \n",
    "    qtt_feminino_por_filtro = qtt_evadidos_por_sexo(df_ingressantes, filtro, 'F')\n",
    "    qtt_masculino_por_filtro = qtt_evadidos_por_sexo(df_ingressantes, filtro, 'M')\n",
    "    df = pd.merge(qtt_total_feminino_por_filtro, qtt_total_masculino_por_filtro, \n",
    "                                      how='left', on=['CURSO_NOME', filtro], suffixes=('_total_feminino', '_total_masculino')).fillna(0)\n",
    "    df = pd.merge(df, qtt_feminino_por_filtro, \n",
    "                                      how='left', on=['CURSO_NOME', filtro], suffixes=('', '_feminino')).fillna(0)\n",
    "    df = pd.merge(df, qtt_masculino_por_filtro, \n",
    "                                      how='left', on=['CURSO_NOME', filtro], suffixes=('', '_masculino')).fillna(0)\n",
    "\n",
    "    df = df.loc[curso].sort_index()\n",
    "\n",
    "    df.columns = ['total_feminino', 'total_masculino', 'evadido_feminino', 'evadido_masculino']\n",
    "\n",
    "\n",
    "    #calculando os percentuais\n",
    "    df['pct_evasao_feminino'] = df['evadido_feminino']/df['total_feminino']\n",
    "    df['pct_evasao_masculino'] = df['evadido_masculino']/df['total_masculino']\n",
    "\n",
    "    multiplicador = 100\n",
    "    df['pct_evasao_feminino'] = df['pct_evasao_feminino']*multiplicador\n",
    "    df['pct_evasao_masculino'] = df['pct_evasao_masculino']*multiplicador\n",
    "    \n",
    "    plt.figure(figsize=(8, 6))\n",
    "\n",
    "    # Plotando as linhas para diferentes sexos\n",
    "    plt.plot(df.index, df['pct_evasao_feminino'], marker='o', label='Feminino', color='orange')\n",
    "    plt.plot(df.index, df['pct_evasao_masculino'], marker='o', label='Masculino', color='blue')\n",
    "\n",
    "    plt.xlabel(filtro)\n",
    "    plt.ylabel('Número de evadidos')\n",
    "    plt.title(f'Número de evadidos por Curso e Sexo - {curso}')\n",
    "    plt.legend()  # Adiciona a legenda ao gráfico\n",
    "\n",
    "    plt.grid(True)\n",
    "    plt.show()\n"
   ]
  },
  {
   "cell_type": "code",
   "execution_count": null,
   "id": "fda4e10d-1db6-491c-b8d7-25322f10aaa3",
   "metadata": {},
   "outputs": [],
   "source": [
    "evadido_vs_sexo_por_filtro(df_ingressantes_apos_2012, 'ANO_INGRESSO', 'ENGENHARIA ELÉTRICA - ENERGIA')"
   ]
  },
  {
   "cell_type": "code",
   "execution_count": null,
   "id": "3d697c4a-86d2-4e17-92af-42cbff638beb",
   "metadata": {},
   "outputs": [],
   "source": [
    "df_ingressantes_apos_2012['ANO_INGRESSO'].unique()"
   ]
  },
  {
   "cell_type": "code",
   "execution_count": null,
   "id": "21561307-632d-4f43-8c6a-a89791048f90",
   "metadata": {},
   "outputs": [],
   "source": [
    "df_ingressantes_apos_2012['Baixa renda']"
   ]
  },
  {
   "cell_type": "code",
   "execution_count": 52,
   "id": "11cc34ae-0ff4-4221-9f6e-af000f033163",
   "metadata": {},
   "outputs": [],
   "source": [
    "from sklearn.preprocessing import LabelEncoder\n",
    "encoder = LabelEncoder()"
   ]
  },
  {
   "cell_type": "code",
   "execution_count": null,
   "id": "a2655d92-0d46-4d07-8234-ac61dbe29f00",
   "metadata": {},
   "outputs": [],
   "source": [
    "encoder = LabelEncoder()\n",
    "\n",
    "# Aplicando o Label Encoding à variável\n",
    "df_ingressantes_apos_2012['Baixa renda_Encoded'] = encoder.fit_transform(df_ingressantes_apos_2012['Baixa renda'])"
   ]
  },
  {
   "cell_type": "code",
   "execution_count": 48,
   "id": "1011d32d-bdd2-4974-ad97-997567f4929b",
   "metadata": {},
   "outputs": [],
   "source": [
    "df = df_completo.loc[(df_completo['ANO_INGRESSO'] > 2012)]"
   ]
  },
  {
   "cell_type": "code",
   "execution_count": 49,
   "id": "ac29053e-d095-4501-8055-e1129dec4fd3",
   "metadata": {},
   "outputs": [],
   "source": [
    "df = df.loc[(df_completo['ANO_INGRESSO'] < 2019)]"
   ]
  },
  {
   "cell_type": "code",
   "execution_count": 53,
   "id": "938cfd09-9c86-490a-9486-405920d45b8a",
   "metadata": {},
   "outputs": [],
   "source": [
    "df = df.loc[(df['SITUACAO'] != 'Ativo')]"
   ]
  },
  {
   "cell_type": "code",
   "execution_count": null,
   "id": "27fa1b38-6218-43dc-a177-c31a874f7e21",
   "metadata": {},
   "outputs": [],
   "source": [
    "df['SITUACAO'].unique()"
   ]
  },
  {
   "cell_type": "code",
   "execution_count": 54,
   "id": "cf6cb081-4398-4003-97eb-4ea081d0bca1",
   "metadata": {},
   "outputs": [],
   "source": [
    "encoder = LabelEncoder()\n",
    "df['BAIXA_RENDA_Encoded'] = encoder.fit_transform(df['BAIXA_RENDA'])"
   ]
  },
  {
   "cell_type": "code",
   "execution_count": null,
   "id": "9904c708-0c91-4d6a-bdba-b1bb9e011601",
   "metadata": {},
   "outputs": [],
   "source": [
    "df['ANO_INGRESSO'].unique()"
   ]
  },
  {
   "cell_type": "code",
   "execution_count": 55,
   "id": "055f1fc5-e806-414f-abbf-c279ac667b04",
   "metadata": {},
   "outputs": [],
   "source": [
    "df['ESCOLA_PUBLICA_Encoded'] = encoder.fit_transform(df['ESCOLA_PUBLICA'])"
   ]
  },
  {
   "cell_type": "code",
   "execution_count": 56,
   "id": "e1d0a5d0-0f90-48a4-904b-6b1fb263157d",
   "metadata": {},
   "outputs": [],
   "source": [
    "df['ETNIA_PPI_Encoded'] = encoder.fit_transform(df['ETNIA_PPI'])"
   ]
  },
  {
   "cell_type": "code",
   "execution_count": 57,
   "id": "a8cadbe7-568a-4c7a-ae0c-914382562c25",
   "metadata": {},
   "outputs": [],
   "source": [
    "df['PCD_Encoded'] = encoder.fit_transform(df['PCD'])"
   ]
  },
  {
   "cell_type": "code",
   "execution_count": 58,
   "id": "c0c2937b-337f-4f73-8c42-101d6f72188a",
   "metadata": {},
   "outputs": [],
   "source": [
    "df['SEXO_Encoded'] = encoder.fit_transform(df['SEXO'])"
   ]
  },
  {
   "cell_type": "code",
   "execution_count": 69,
   "id": "093c8ff1-85cb-4b75-99d3-7a76e681a392",
   "metadata": {},
   "outputs": [],
   "source": [
    "df['TIPO_INGRESSO_Encoded'] = encoder.fit_transform(df['TIPO_INGRESSO'])"
   ]
  },
  {
   "cell_type": "code",
   "execution_count": null,
   "id": "f5ed447b-f5bd-442e-b4f8-38463d2a0574",
   "metadata": {},
   "outputs": [],
   "source": [
    "df['TURNO_Encoded'] = encoder.fit_transform(df['TURNO'])"
   ]
  },
  {
   "cell_type": "code",
   "execution_count": 18,
   "id": "b59e81b6-c26c-40eb-8083-7aeb279685bf",
   "metadata": {},
   "outputs": [
    {
     "data": {
      "text/plain": [
       "(23344, 27)"
      ]
     },
     "execution_count": 18,
     "metadata": {},
     "output_type": "execute_result"
    }
   ],
   "source": [
    "df.shape"
   ]
  },
  {
   "cell_type": "code",
   "execution_count": 59,
   "id": "5167a213-b6be-462c-b30d-0c76f2353796",
   "metadata": {},
   "outputs": [],
   "source": [
    "df['SITUACAO_Encoded'] = encoder.fit_transform(df['SITUACAO'])"
   ]
  },
  {
   "cell_type": "code",
   "execution_count": null,
   "id": "637de9b4-0a16-48a5-9b6f-97c9737a0e86",
   "metadata": {},
   "outputs": [],
   "source": [
    "import numpy as np"
   ]
  },
  {
   "cell_type": "code",
   "execution_count": null,
   "id": "0a65198d-4c82-4b0b-936b-5a75303e9f40",
   "metadata": {},
   "outputs": [],
   "source": [
    "np.sort(df['SITUACAO_Encoded'].unique())"
   ]
  },
  {
   "cell_type": "code",
   "execution_count": 80,
   "id": "27e4370f-7990-435b-9288-9464a0c3af06",
   "metadata": {},
   "outputs": [
    {
     "data": {
      "text/plain": [
       "69         Evadido\n",
       "209        Evadido\n",
       "210      Concluido\n",
       "211      Concluido\n",
       "212      Concluido\n",
       "           ...    \n",
       "51528      Evadido\n",
       "51530      Evadido\n",
       "51531      Evadido\n",
       "51532      Evadido\n",
       "51533      Evadido\n",
       "Name: SITUACAO, Length: 18704, dtype: object"
      ]
     },
     "execution_count": 80,
     "metadata": {},
     "output_type": "execute_result"
    }
   ],
   "source": [
    "df['SITUACAO']"
   ]
  },
  {
   "cell_type": "code",
   "execution_count": 81,
   "id": "8a7d40c4-1e02-49dc-aab8-342040fb3167",
   "metadata": {},
   "outputs": [
    {
     "data": {
      "text/plain": [
       "69       1\n",
       "209      1\n",
       "210      0\n",
       "211      0\n",
       "212      0\n",
       "        ..\n",
       "51528    1\n",
       "51530    1\n",
       "51531    1\n",
       "51532    1\n",
       "51533    1\n",
       "Name: SITUACAO_Encoded, Length: 18704, dtype: int64"
      ]
     },
     "execution_count": 81,
     "metadata": {},
     "output_type": "execute_result"
    }
   ],
   "source": [
    "df['SITUACAO_Encoded']"
   ]
  },
  {
   "cell_type": "code",
   "execution_count": null,
   "id": "96fea193-77ab-4726-849c-e9230f80ae3a",
   "metadata": {},
   "outputs": [],
   "source": [
    "from sklearn.model_selection import train_test_split\n",
    "from sklearn.linear_model import LogisticRegression\n",
    "from sklearn.metrics import accuracy_score"
   ]
  },
  {
   "cell_type": "code",
   "execution_count": 73,
   "id": "f1fe580a-aca6-4cd2-b502-f052703c6b6c",
   "metadata": {},
   "outputs": [],
   "source": [
    "df_filtro = df.loc[df['CURSO_NOME'] == 'FÍSICA']"
   ]
  },
  {
   "cell_type": "code",
   "execution_count": null,
   "id": "d9af3c7f-5339-4df0-89de-96f783c8de1b",
   "metadata": {},
   "outputs": [],
   "source": [
    "df_filtro"
   ]
  },
  {
   "cell_type": "code",
   "execution_count": 74,
   "id": "c8bd8cae-2cb1-45b3-a4a0-054830be7942",
   "metadata": {},
   "outputs": [],
   "source": [
    "X = df_filtro[['BAIXA_RENDA_Encoded', 'ESCOLA_PUBLICA_Encoded', 'ETNIA_PPI_Encoded', 'PCD_Encoded', 'SEXO_Encoded', 'TIPO_INGRESSO_Encoded']]\n",
    "y = df_filtro['SITUACAO_Encoded']"
   ]
  },
  {
   "cell_type": "code",
   "execution_count": null,
   "id": "ab4f0091-75d7-4f99-8bc0-154f0b564661",
   "metadata": {},
   "outputs": [],
   "source": [
    "X_train, X_test, y_train, y_test = train_test_split(X, y, test_size=0.2, random_state=42)"
   ]
  },
  {
   "cell_type": "code",
   "execution_count": null,
   "id": "8fa8cbc2-5b51-4931-916c-00bde63a38e6",
   "metadata": {},
   "outputs": [],
   "source": [
    "# Inicializando o modelo de regressão logística\n",
    "model = LogisticRegression()\n",
    "\n",
    "# Treinando o modelo com os dados de treinamento\n",
    "model.fit(X_train, y_train)\n",
    "\n",
    "# Fazendo previsões com o conjunto de teste\n",
    "y_pred = model.predict(X_test)\n",
    "\n",
    "# Avaliando a precisão do modelo\n",
    "accuracy = accuracy_score(y_test, y_pred)\n",
    "print(\"Acurácia do modelo: {:.2f}\".format(accuracy))"
   ]
  },
  {
   "cell_type": "code",
   "execution_count": null,
   "id": "0fe90b4a-0aba-4334-adc0-ff4594b602e9",
   "metadata": {},
   "outputs": [],
   "source": [
    "# Ajuste o modelo de regressão logística\n",
    "model = LogisticRegression()\n",
    "model.fit(X, y)  # X são as variáveis independentes, y é a variável de saída\n",
    "\n",
    "# Obtenha os coeficientes\n",
    "coeficientes = model.coef_[0]\n",
    "\n",
    "# Interprete os coeficientes\n",
    "for i, variavel in enumerate(X.columns):\n",
    "    #print(f\"A variável '{variavel}' tem um coeficiente de {coeficientes[i]:.4f}\")\n",
    "    print(f\"{variavel} {coeficientes[i]:.4f}\")\n",
    "\n",
    "# Calcule as probabilidades\n",
    "probabilidades = model.predict_proba(X)[:, 1]  # Probabilidades para a categoria 1\n"
   ]
  },
  {
   "cell_type": "code",
   "execution_count": null,
   "id": "704849ff-f0f3-4bee-a6aa-17c9e51d54c8",
   "metadata": {},
   "outputs": [],
   "source": [
    "from sklearn.linear_model import LogisticRegression\n",
    "from sklearn.metrics import accuracy_score, confusion_matrix, classification_report"
   ]
  },
  {
   "cell_type": "code",
   "execution_count": null,
   "id": "2c54421d-0c17-4933-b31f-277b9948e39d",
   "metadata": {},
   "outputs": [],
   "source": [
    "# Faça previsões com o modelo\n",
    "y_pred = model.predict(X)\n",
    "\n",
    "# Calcule a acurácia\n",
    "accuracy = accuracy_score(y, y_pred)\n",
    "print(f'Acurácia do modelo: {accuracy:.2f}')\n",
    "\n",
    "# Calcule a matriz de confusão\n",
    "conf_matrix = confusion_matrix(y, y_pred)\n",
    "print('Matriz de Confusão:')\n",
    "print(conf_matrix)\n",
    "\n",
    "# Exiba um relatório de classificação\n",
    "report = classification_report(y, y_pred)\n",
    "print('Relatório de Classificação:')\n",
    "print(report)"
   ]
  },
  {
   "cell_type": "code",
   "execution_count": null,
   "id": "72214340-86b0-4f96-8bb1-5aa67be6f54d",
   "metadata": {},
   "outputs": [],
   "source": [
    "import statsmodels.api as sm\n",
    "\n",
    "# Ajuste o modelo de regressão logística\n",
    "model = sm.Logit(y, X)  # X são as variáveis independentes, y é a variável de saída\n",
    "result = model.fit()\n",
    "\n",
    "# Obtenha os resultados do modelo\n",
    "summary = result.summary()\n",
    "\n",
    "# Exiba o resumo, que inclui os valores-p\n",
    "print(summary)"
   ]
  },
  {
   "cell_type": "code",
   "execution_count": 20,
   "id": "fab1a0ea-dd97-4fbf-98c2-25423e521031",
   "metadata": {},
   "outputs": [],
   "source": [
    "import numpy as np"
   ]
  },
  {
   "cell_type": "code",
   "execution_count": 34,
   "id": "7107475b-37b2-4d9e-88a4-4f6ceac4e2a9",
   "metadata": {},
   "outputs": [
    {
     "name": "stdout",
     "output_type": "stream",
     "text": [
      "['Grupo E' 'Grupo A' 'Grupo C' 'Grupo D' 'Grupo B' 'Vaga Ociosa'\n",
      " 'Grupo A1' 'Grupo B1' 'Grupo D1' 'Grupo E1' 'Grupo F']\n"
     ]
    }
   ],
   "source": [
    "arr = df['COTA'].dropna().unique()\n",
    "\n",
    "print(arr)"
   ]
  },
  {
   "cell_type": "code",
   "execution_count": null,
   "id": "cf37b7fe-4ca6-4e29-a74b-597fc37706a5",
   "metadata": {},
   "outputs": [],
   "source": [
    "import matplotlib.pyplot as plt\n",
    "from sklearn.datasets import make_classification\n",
    "from sklearn.metrics import confusion_matrix, ConfusionMatrixDisplay\n",
    "from sklearn.model_selection import train_test_split\n",
    "from sklearn.svm import SVC\n",
    "#X, y = make_classification(random_state=0)"
   ]
  },
  {
   "cell_type": "code",
   "execution_count": 75,
   "id": "9e6faefa-22ce-4d39-a650-1e7e82715ee1",
   "metadata": {},
   "outputs": [
    {
     "data": {
      "image/png": "[encoded data removed]",
      "text/plain": [
       "<Figure size 640x480 with 2 Axes>"
      ]
     },
     "metadata": {},
     "output_type": "display_data"
    }
   ],
   "source": [
    "X_train, X_test, y_train, y_test = train_test_split(X, y, test_size=0.2,random_state=0)\n",
    "clf = SVC(random_state=0)\n",
    "clf.fit(X_train, y_train)\n",
    "SVC(random_state=0)\n",
    "predictions = clf.predict(X_test)\n",
    "cm = confusion_matrix(y_test, predictions, labels=clf.classes_)\n",
    "disp = ConfusionMatrixDisplay(confusion_matrix=cm, display_labels=clf.classes_)\n",
    "disp.plot()\n",
    "\n",
    "plt.show()"
   ]
  },
  {
   "cell_type": "code",
   "execution_count": null,
   "id": "d852a709-45d1-4b53-9832-d42ba014fa63",
   "metadata": {},
   "outputs": [],
   "source": [
    "pip install mlxtend"
   ]
  },
  {
   "cell_type": "code",
   "execution_count": 79,
   "id": "4b43e58c-586e-4e56-8d36-ae854f0b652c",
   "metadata": {},
   "outputs": [
    {
     "data": {
      "image/png": "[encoded data removed]",
      "text/plain": [
       "<Figure size 640x480 with 2 Axes>"
      ]
     },
     "metadata": {},
     "output_type": "display_data"
    }
   ],
   "source": [
    "from mlxtend.plotting import plot_confusion_matrix\n",
    "import matplotlib.pyplot as plt\n",
    "import numpy as np\n",
    "\n",
    "\n",
    "# Classes\n",
    "classes = ['class A', 'class B']\n",
    "\n",
    "figure, ax = plot_confusion_matrix(conf_mat = cm,\n",
    "                                   class_names = classes,\n",
    "                                   show_absolute = False,\n",
    "                                   show_normed = True,\n",
    "                                   colorbar = True)\n",
    "\n",
    "plt.show()"
   ]
  },
  {
   "cell_type": "code",
   "execution_count": 90,
   "id": "2e97dbce-3f15-45d1-8aa4-349f200c721f",
   "metadata": {},
   "outputs": [
    {
     "name": "stdout",
     "output_type": "stream",
     "text": [
      "Versão do Scikit-Learn: 1.3.2\n"
     ]
    }
   ],
   "source": [
    "import sklearn\n",
    "\n",
    "print(\"Versão do Scikit-Learn:\", sklearn.__version__)"
   ]
  }
 ],
 "metadata": {
  "kernelspec": {
   "display_name": "Python 3 (ipykernel)",
   "language": "python",
   "name": "python3"
  },
  "language_info": {
   "codemirror_mode": {
    "name": "ipython",
    "version": 3
   },
   "file_extension": ".py",
   "mimetype": "text/x-python",
   "name": "python",
   "nbconvert_exporter": "python",
   "pygments_lexer": "ipython3",
   "version": "3.11.5"
  }
 },
 "nbformat": 4,
 "nbformat_minor": 5
}
