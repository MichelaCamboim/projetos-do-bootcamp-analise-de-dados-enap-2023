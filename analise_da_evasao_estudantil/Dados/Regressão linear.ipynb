{
 "cells": [
  {
   "cell_type": "code",
   "execution_count": 1,
   "id": "1f25deed-8dec-4a32-a8b1-7f72bf5be42d",
   "metadata": {},
   "outputs": [],
   "source": [
    "import pandas as pd\n",
    "from folium.plugins import HeatMap\n",
    "import folium\n",
    "import seaborn as sns\n",
    "import matplotlib.pyplot as plt\n",
    "from sklearn.linear_model import LinearRegression"
   ]
  },
  {
   "cell_type": "code",
   "execution_count": 61,
   "id": "5cba8772-1d92-4e24-815c-140377773e13",
   "metadata": {},
   "outputs": [],
   "source": [
    "import os \n",
    "filepath = os.path.join(os.getcwd(), 'dataset_grad_pres.csv')"
   ]
  },
  {
   "cell_type": "code",
   "execution_count": 62,
   "id": "7f6d7649-aed7-4553-bf71-cfc252289d84",
   "metadata": {},
   "outputs": [],
   "source": [
    "df_completo = pd.read_csv(filepath, engine='python', \n",
    "                     on_bad_lines='warn', encoding='iso-8859-1', header=0, sep = \";\")"
   ]
  },
  {
   "cell_type": "code",
   "execution_count": 63,
   "id": "e6ce6a71-b3d8-46b9-8fdf-48fc011351ae",
   "metadata": {},
   "outputs": [
    {
     "data": {
      "text/plain": [
       "Index(['ANO_INGRESSO', 'SEMESTRE_INGRESSO', 'TIPO_INGRESSO', 'COTA',\n",
       "       'CURSO_NOME', 'AREA', 'SITUACAO', 'MOTIVO_SAIDA', 'CAMPUS', 'TURNO',\n",
       "       'ETNIA', 'SEXO', 'TIPOCURSO', 'LNG', 'LAT', 'LOCAL', 'LNG_ORGM',\n",
       "       'LAT_ORGM', 'LOCAL_ORGM'],\n",
       "      dtype='object')"
      ]
     },
     "execution_count": 63,
     "metadata": {},
     "output_type": "execute_result"
    }
   ],
   "source": [
    "df_completo.keys()"
   ]
  },
  {
   "cell_type": "code",
   "execution_count": 64,
   "id": "e0bc5a7c-ac70-4e01-8854-ac9d17a0ddde",
   "metadata": {},
   "outputs": [
    {
     "data": {
      "text/html": [
       "<div>\n",
       "<style scoped>\n",
       "    .dataframe tbody tr th:only-of-type {\n",
       "        vertical-align: middle;\n",
       "    }\n",
       "\n",
       "    .dataframe tbody tr th {\n",
       "        vertical-align: top;\n",
       "    }\n",
       "\n",
       "    .dataframe thead th {\n",
       "        text-align: right;\n",
       "    }\n",
       "</style>\n",
       "<table border=\"1\" class=\"dataframe\">\n",
       "  <thead>\n",
       "    <tr style=\"text-align: right;\">\n",
       "      <th></th>\n",
       "      <th>ANO_INGRESSO</th>\n",
       "      <th>SEMESTRE_INGRESSO</th>\n",
       "      <th>TIPO_INGRESSO</th>\n",
       "      <th>COTA</th>\n",
       "      <th>CURSO_NOME</th>\n",
       "      <th>AREA</th>\n",
       "      <th>SITUACAO</th>\n",
       "      <th>MOTIVO_SAIDA</th>\n",
       "      <th>CAMPUS</th>\n",
       "      <th>TURNO</th>\n",
       "      <th>ETNIA</th>\n",
       "      <th>SEXO</th>\n",
       "      <th>TIPOCURSO</th>\n",
       "      <th>LNG</th>\n",
       "      <th>LAT</th>\n",
       "      <th>LOCAL</th>\n",
       "      <th>LNG_ORGM</th>\n",
       "      <th>LAT_ORGM</th>\n",
       "      <th>LOCAL_ORGM</th>\n",
       "    </tr>\n",
       "  </thead>\n",
       "  <tbody>\n",
       "    <tr>\n",
       "      <th>0</th>\n",
       "      <td>2008</td>\n",
       "      <td>1</td>\n",
       "      <td>Transferência Obrigatória</td>\n",
       "      <td>NaN</td>\n",
       "      <td>CIÊNCIAS BIOLÓGICAS</td>\n",
       "      <td>Ciências Biológicas</td>\n",
       "      <td>Evadido</td>\n",
       "      <td>A Especificar</td>\n",
       "      <td>JUIZ DE FORA</td>\n",
       "      <td>INTEGRAL</td>\n",
       "      <td>NaN</td>\n",
       "      <td>F</td>\n",
       "      <td>GRADUAÇÃO PRESENCIAL</td>\n",
       "      <td>-43,3646367</td>\n",
       "      <td>-21,7531292</td>\n",
       "      <td>VALE DO IPE, JUIZ DE FORA, MG, BRASIL</td>\n",
       "      <td>NaN</td>\n",
       "      <td>NaN</td>\n",
       "      <td>NaN</td>\n",
       "    </tr>\n",
       "    <tr>\n",
       "      <th>1</th>\n",
       "      <td>2008</td>\n",
       "      <td>1</td>\n",
       "      <td>VESTIBULAR</td>\n",
       "      <td>Grupo B</td>\n",
       "      <td>CIÊNCIAS BIOLÓGICAS</td>\n",
       "      <td>Ciências Biológicas</td>\n",
       "      <td>Evadido</td>\n",
       "      <td>A Especificar</td>\n",
       "      <td>JUIZ DE FORA</td>\n",
       "      <td>INTEGRAL</td>\n",
       "      <td>BRANCA</td>\n",
       "      <td>M</td>\n",
       "      <td>GRADUAÇÃO PRESENCIAL</td>\n",
       "      <td>-43,4042512</td>\n",
       "      <td>-21,8043129</td>\n",
       "      <td>PARQUE JARDIM DA SERRA, JUIZ DE FORA, MG, BRASIL</td>\n",
       "      <td>NaN</td>\n",
       "      <td>NaN</td>\n",
       "      <td>NaN</td>\n",
       "    </tr>\n",
       "    <tr>\n",
       "      <th>2</th>\n",
       "      <td>2008</td>\n",
       "      <td>1</td>\n",
       "      <td>PISM</td>\n",
       "      <td>Grupo C</td>\n",
       "      <td>CIÊNCIAS BIOLÓGICAS</td>\n",
       "      <td>Ciências Biológicas</td>\n",
       "      <td>Evadido</td>\n",
       "      <td>Abandono</td>\n",
       "      <td>JUIZ DE FORA</td>\n",
       "      <td>INTEGRAL</td>\n",
       "      <td>NaN</td>\n",
       "      <td>F</td>\n",
       "      <td>GRADUAÇÃO PRESENCIAL</td>\n",
       "      <td>-43,3585569</td>\n",
       "      <td>-21,7500694</td>\n",
       "      <td>SANTA CATARINA, JUIZ DE FORA, MG, BRASIL</td>\n",
       "      <td>NaN</td>\n",
       "      <td>NaN</td>\n",
       "      <td>NaN</td>\n",
       "    </tr>\n",
       "    <tr>\n",
       "      <th>3</th>\n",
       "      <td>2008</td>\n",
       "      <td>1</td>\n",
       "      <td>VESTIBULAR</td>\n",
       "      <td>Grupo C</td>\n",
       "      <td>CIÊNCIAS BIOLÓGICAS</td>\n",
       "      <td>Ciências Biológicas</td>\n",
       "      <td>Concluido</td>\n",
       "      <td>Conclusão</td>\n",
       "      <td>JUIZ DE FORA</td>\n",
       "      <td>INTEGRAL</td>\n",
       "      <td>NaN</td>\n",
       "      <td>F</td>\n",
       "      <td>GRADUAÇÃO PRESENCIAL</td>\n",
       "      <td>-44,2857937</td>\n",
       "      <td>-21,718564</td>\n",
       "      <td>ANDRELANDIA, MG, BRASIL</td>\n",
       "      <td>NaN</td>\n",
       "      <td>NaN</td>\n",
       "      <td>NaN</td>\n",
       "    </tr>\n",
       "    <tr>\n",
       "      <th>4</th>\n",
       "      <td>2008</td>\n",
       "      <td>1</td>\n",
       "      <td>VESTIBULAR</td>\n",
       "      <td>Grupo B</td>\n",
       "      <td>CIÊNCIAS BIOLÓGICAS</td>\n",
       "      <td>Ciências Biológicas</td>\n",
       "      <td>Evadido</td>\n",
       "      <td>A Especificar</td>\n",
       "      <td>JUIZ DE FORA</td>\n",
       "      <td>INTEGRAL</td>\n",
       "      <td>NaN</td>\n",
       "      <td>F</td>\n",
       "      <td>GRADUAÇÃO PRESENCIAL</td>\n",
       "      <td>-42,9806087</td>\n",
       "      <td>-20,850899</td>\n",
       "      <td>PAULA CANDIDO, MG, BRASIL</td>\n",
       "      <td>NaN</td>\n",
       "      <td>NaN</td>\n",
       "      <td>NaN</td>\n",
       "    </tr>\n",
       "  </tbody>\n",
       "</table>\n",
       "</div>"
      ],
      "text/plain": [
       "   ANO_INGRESSO  SEMESTRE_INGRESSO              TIPO_INGRESSO     COTA  \\\n",
       "0          2008                  1  Transferência Obrigatória      NaN   \n",
       "1          2008                  1                 VESTIBULAR  Grupo B   \n",
       "2          2008                  1                       PISM  Grupo C   \n",
       "3          2008                  1                 VESTIBULAR  Grupo C   \n",
       "4          2008                  1                 VESTIBULAR  Grupo B   \n",
       "\n",
       "            CURSO_NOME                 AREA   SITUACAO   MOTIVO_SAIDA  \\\n",
       "0  CIÊNCIAS BIOLÓGICAS  Ciências Biológicas    Evadido  A Especificar   \n",
       "1  CIÊNCIAS BIOLÓGICAS  Ciências Biológicas    Evadido  A Especificar   \n",
       "2  CIÊNCIAS BIOLÓGICAS  Ciências Biológicas    Evadido       Abandono   \n",
       "3  CIÊNCIAS BIOLÓGICAS  Ciências Biológicas  Concluido      Conclusão   \n",
       "4  CIÊNCIAS BIOLÓGICAS  Ciências Biológicas    Evadido  A Especificar   \n",
       "\n",
       "         CAMPUS     TURNO   ETNIA SEXO             TIPOCURSO          LNG  \\\n",
       "0  JUIZ DE FORA  INTEGRAL     NaN    F  GRADUAÇÃO PRESENCIAL  -43,3646367   \n",
       "1  JUIZ DE FORA  INTEGRAL  BRANCA    M  GRADUAÇÃO PRESENCIAL  -43,4042512   \n",
       "2  JUIZ DE FORA  INTEGRAL     NaN    F  GRADUAÇÃO PRESENCIAL  -43,3585569   \n",
       "3  JUIZ DE FORA  INTEGRAL     NaN    F  GRADUAÇÃO PRESENCIAL  -44,2857937   \n",
       "4  JUIZ DE FORA  INTEGRAL     NaN    F  GRADUAÇÃO PRESENCIAL  -42,9806087   \n",
       "\n",
       "           LAT                                             LOCAL LNG_ORGM  \\\n",
       "0  -21,7531292             VALE DO IPE, JUIZ DE FORA, MG, BRASIL      NaN   \n",
       "1  -21,8043129  PARQUE JARDIM DA SERRA, JUIZ DE FORA, MG, BRASIL      NaN   \n",
       "2  -21,7500694          SANTA CATARINA, JUIZ DE FORA, MG, BRASIL      NaN   \n",
       "3   -21,718564                           ANDRELANDIA, MG, BRASIL      NaN   \n",
       "4   -20,850899                         PAULA CANDIDO, MG, BRASIL      NaN   \n",
       "\n",
       "  LAT_ORGM LOCAL_ORGM  \n",
       "0      NaN        NaN  \n",
       "1      NaN        NaN  \n",
       "2      NaN        NaN  \n",
       "3      NaN        NaN  \n",
       "4      NaN        NaN  "
      ]
     },
     "execution_count": 64,
     "metadata": {},
     "output_type": "execute_result"
    }
   ],
   "source": [
    "df_completo.head()"
   ]
  },
  {
   "cell_type": "code",
   "execution_count": 65,
   "id": "402825c7-afab-41c2-a2d1-9f8bb20d572d",
   "metadata": {},
   "outputs": [
    {
     "data": {
      "text/plain": [
       "34633"
      ]
     },
     "execution_count": 65,
     "metadata": {},
     "output_type": "execute_result"
    }
   ],
   "source": [
    "# Filtrar o DataFrame para obter apenas as entradas do sexo feminino ('F')\n",
    "mulheres = df_completo[df_completo['SEXO'] == 'F']\n",
    "\n",
    "# Obter o número de mulheres que ingressaram na universidade\n",
    "numero_de_mulheres_total = mulheres.shape[0]\n",
    "numero_de_mulheres_total"
   ]
  },
  {
   "cell_type": "code",
   "execution_count": 66,
   "id": "baa23452-3842-4030-9486-510d1a9adea0",
   "metadata": {},
   "outputs": [
    {
     "data": {
      "text/plain": [
       "29907"
      ]
     },
     "execution_count": 66,
     "metadata": {},
     "output_type": "execute_result"
    }
   ],
   "source": [
    "# Filtrar o DataFrame para obter apenas as entradas do sexo feminino ('F')\n",
    "homens = df_completo[df_completo['SEXO'] == 'M']\n",
    "\n",
    "# Obter o número de mulheres que ingressaram na universidade\n",
    "numero_de_homens_total = homens.shape[0]\n",
    "numero_de_homens_total"
   ]
  },
  {
   "cell_type": "code",
   "execution_count": 76,
   "id": "2643d6c8-147d-4063-9f2c-4f4fccd0fbec",
   "metadata": {},
   "outputs": [],
   "source": [
    "# Filtrar o DataFrame para obter apenas as entradas do sexo feminino ('F')\n",
    "mulheres_evasao = df_evadidos[df_evadidos['SEXO'] == 'F']"
   ]
  },
  {
   "cell_type": "code",
   "execution_count": 77,
   "id": "4a231cce-9ce8-4b88-9c35-2c7f851bb573",
   "metadata": {},
   "outputs": [],
   "source": [
    "homens_evasao = df_evadidos[df_evadidos['SEXO'] == 'M']"
   ]
  },
  {
   "cell_type": "code",
   "execution_count": 78,
   "id": "570efda5-704b-4292-80d0-68b86ec2502d",
   "metadata": {},
   "outputs": [
    {
     "data": {
      "text/plain": [
       "10687"
      ]
     },
     "execution_count": 78,
     "metadata": {},
     "output_type": "execute_result"
    }
   ],
   "source": [
    "# Obter o número de mulheres que ingressaram na universidade\n",
    "numero_de_mulheres_evasao = mulheres_evasao.shape[0]\n",
    "numero_de_mulheres_evasao"
   ]
  },
  {
   "cell_type": "code",
   "execution_count": 69,
   "id": "a48fd9dd-bbf6-43fa-bf81-1b7b14391119",
   "metadata": {},
   "outputs": [
    {
     "data": {
      "text/plain": [
       "12280"
      ]
     },
     "execution_count": 69,
     "metadata": {},
     "output_type": "execute_result"
    }
   ],
   "source": [
    "numero_de_homens_evasao = homens_evasao.shape[0]\n",
    "numero_de_homens_evasao"
   ]
  },
  {
   "cell_type": "code",
   "execution_count": 71,
   "id": "b06bfcc4-c8a7-4458-910b-09f636ddaee9",
   "metadata": {},
   "outputs": [
    {
     "data": {
      "text/plain": [
       "324.06662299990643"
      ]
     },
     "execution_count": 71,
     "metadata": {},
     "output_type": "execute_result"
    }
   ],
   "source": [
    "proporcao_evasao_mulheres = (numero_de_mulheres_total / numero_de_mulheres_evasao) * 100\n",
    "proporcao_evasao_mulheres"
   ]
  },
  {
   "cell_type": "code",
   "execution_count": 5,
   "id": "4f58d6de-c15e-4772-a7ff-2d90824aac78",
   "metadata": {},
   "outputs": [],
   "source": [
    "df_evadidos = df_completo[df_completo['SITUACAO'] == 'Evadido']"
   ]
  },
  {
   "cell_type": "code",
   "execution_count": 6,
   "id": "d12aaa92-fc6f-40b2-a96e-c516e5e7af9a",
   "metadata": {},
   "outputs": [
    {
     "data": {
      "text/html": [
       "<div>\n",
       "<style scoped>\n",
       "    .dataframe tbody tr th:only-of-type {\n",
       "        vertical-align: middle;\n",
       "    }\n",
       "\n",
       "    .dataframe tbody tr th {\n",
       "        vertical-align: top;\n",
       "    }\n",
       "\n",
       "    .dataframe thead th {\n",
       "        text-align: right;\n",
       "    }\n",
       "</style>\n",
       "<table border=\"1\" class=\"dataframe\">\n",
       "  <thead>\n",
       "    <tr style=\"text-align: right;\">\n",
       "      <th></th>\n",
       "      <th>ANO_INGRESSO</th>\n",
       "      <th>Número de alunos evadidos</th>\n",
       "    </tr>\n",
       "  </thead>\n",
       "  <tbody>\n",
       "    <tr>\n",
       "      <th>0</th>\n",
       "      <td>2008</td>\n",
       "      <td>772</td>\n",
       "    </tr>\n",
       "    <tr>\n",
       "      <th>1</th>\n",
       "      <td>2009</td>\n",
       "      <td>956</td>\n",
       "    </tr>\n",
       "    <tr>\n",
       "      <th>2</th>\n",
       "      <td>2010</td>\n",
       "      <td>1077</td>\n",
       "    </tr>\n",
       "    <tr>\n",
       "      <th>3</th>\n",
       "      <td>2011</td>\n",
       "      <td>1573</td>\n",
       "    </tr>\n",
       "    <tr>\n",
       "      <th>4</th>\n",
       "      <td>2012</td>\n",
       "      <td>1490</td>\n",
       "    </tr>\n",
       "    <tr>\n",
       "      <th>5</th>\n",
       "      <td>2013</td>\n",
       "      <td>1728</td>\n",
       "    </tr>\n",
       "    <tr>\n",
       "      <th>6</th>\n",
       "      <td>2014</td>\n",
       "      <td>2356</td>\n",
       "    </tr>\n",
       "    <tr>\n",
       "      <th>7</th>\n",
       "      <td>2015</td>\n",
       "      <td>2323</td>\n",
       "    </tr>\n",
       "    <tr>\n",
       "      <th>8</th>\n",
       "      <td>2016</td>\n",
       "      <td>2063</td>\n",
       "    </tr>\n",
       "    <tr>\n",
       "      <th>9</th>\n",
       "      <td>2017</td>\n",
       "      <td>2031</td>\n",
       "    </tr>\n",
       "    <tr>\n",
       "      <th>10</th>\n",
       "      <td>2018</td>\n",
       "      <td>1510</td>\n",
       "    </tr>\n",
       "    <tr>\n",
       "      <th>11</th>\n",
       "      <td>2019</td>\n",
       "      <td>1610</td>\n",
       "    </tr>\n",
       "    <tr>\n",
       "      <th>12</th>\n",
       "      <td>2020</td>\n",
       "      <td>1471</td>\n",
       "    </tr>\n",
       "    <tr>\n",
       "      <th>13</th>\n",
       "      <td>2021</td>\n",
       "      <td>1061</td>\n",
       "    </tr>\n",
       "    <tr>\n",
       "      <th>14</th>\n",
       "      <td>2022</td>\n",
       "      <td>596</td>\n",
       "    </tr>\n",
       "    <tr>\n",
       "      <th>15</th>\n",
       "      <td>2023</td>\n",
       "      <td>350</td>\n",
       "    </tr>\n",
       "  </tbody>\n",
       "</table>\n",
       "</div>"
      ],
      "text/plain": [
       "    ANO_INGRESSO  Número de alunos evadidos\n",
       "0           2008                        772\n",
       "1           2009                        956\n",
       "2           2010                       1077\n",
       "3           2011                       1573\n",
       "4           2012                       1490\n",
       "5           2013                       1728\n",
       "6           2014                       2356\n",
       "7           2015                       2323\n",
       "8           2016                       2063\n",
       "9           2017                       2031\n",
       "10          2018                       1510\n",
       "11          2019                       1610\n",
       "12          2020                       1471\n",
       "13          2021                       1061\n",
       "14          2022                        596\n",
       "15          2023                        350"
      ]
     },
     "execution_count": 6,
     "metadata": {},
     "output_type": "execute_result"
    }
   ],
   "source": [
    "# Use groupby para agrupar os dados por 'estado' e aplique a função count() para contar as linhas por estado\n",
    "evadidos_por_ano = df_evadidos.groupby('ANO_INGRESSO').size().reset_index(name='Número de alunos evadidos')\n",
    "evadidos_por_ano"
   ]
  },
  {
   "cell_type": "code",
   "execution_count": 7,
   "id": "0013589f-9664-45d4-a6d2-02dae04675b8",
   "metadata": {},
   "outputs": [],
   "source": [
    "# Código para excluir as linhas que não quero que entre análise\n",
    "indices_para_remover = [13, 14, 15]\n",
    "\n",
    "evadidos_por_ano = evadidos_por_ano.drop(indices_para_remover)"
   ]
  },
  {
   "cell_type": "code",
   "execution_count": 8,
   "id": "a2c985ed-f9a3-442c-a164-fa059186db54",
   "metadata": {},
   "outputs": [
    {
     "name": "stdout",
     "output_type": "stream",
     "text": [
      "Coeficiente 'a': 67.64285714285715\n",
      "Coeficiente 'b': -134620.40659340663\n"
     ]
    },
    {
     "data": {
      "image/png": "[encoded data removed]",
      "text/plain": [
       "<Figure size 640x480 with 1 Axes>"
      ]
     },
     "metadata": {},
     "output_type": "display_data"
    }
   ],
   "source": [
    "# Separar as variáveis independentes (x) e dependentes (y)\n",
    "x = evadidos_por_ano['ANO_INGRESSO'].values.reshape(-1, 1)\n",
    "y = evadidos_por_ano['Número de alunos evadidos'].values\n",
    "\n",
    "# Inicializar o modelo de regressão linear\n",
    "regressor = LinearRegression()\n",
    "\n",
    "# Ajustar o modelo aos dados\n",
    "regressor.fit(x, y)\n",
    "\n",
    "# Obter e imprimir os coeficientes 'a' e 'b'\n",
    "a = regressor.coef_[0]\n",
    "b = regressor.intercept_\n",
    "print(f\"Coeficiente 'a': {a}\")\n",
    "print(f\"Coeficiente 'b': {b}\")\n",
    "\n",
    "# Fazer previsões com o modelo ajustado\n",
    "y_pred = regressor.predict(x)\n",
    "\n",
    "# Plotar os dados e a linha de regressão\n",
    "plt.scatter(x, y, label='Dados reais')\n",
    "plt.plot(x, y_pred, color='red', linewidth=2, label='Linha de regressão')\n",
    "plt.xlabel('Ano de ingresso')\n",
    "plt.ylabel('Número de alunos evadidos')\n",
    "plt.legend()\n",
    "plt.show()"
   ]
  },
  {
   "cell_type": "code",
   "execution_count": 9,
   "id": "9502833d-b947-4509-ac36-599d060a23b1",
   "metadata": {},
   "outputs": [
    {
     "name": "stdout",
     "output_type": "stream",
     "text": [
      "Período até 2012 - Coeficiente 'a': 205.30000000000007, Coeficiente 'b': -411479.40000000014\n",
      "Período após 2012 - Coeficiente 'a': -95.23809523809526, Coeficiente 'b': 193934.11904761908\n"
     ]
    },
    {
     "data": {
      "image/png": "[encoded data removed]",
      "text/plain": [
       "<Figure size 1200x600 with 1 Axes>"
      ]
     },
     "metadata": {},
     "output_type": "display_data"
    }
   ],
   "source": [
    "# Dividir os dados em dois períodos: até 2012 e após 2012\n",
    "periodo_ate_2012 = evadidos_por_ano[evadidos_por_ano['ANO_INGRESSO'] <= 2012]\n",
    "periodo_apos_2012 = evadidos_por_ano[evadidos_por_ano['ANO_INGRESSO'] > 2012]\n",
    "\n",
    "# Separar as variáveis independentes (x) e dependentes (y) para cada período\n",
    "x_ate_2012 = periodo_ate_2012['ANO_INGRESSO'].values.reshape(-1, 1)\n",
    "y_ate_2012 = periodo_ate_2012['Número de alunos evadidos'].values\n",
    "\n",
    "x_apos_2012 = periodo_apos_2012['ANO_INGRESSO'].values.reshape(-1, 1)\n",
    "y_apos_2012 = periodo_apos_2012['Número de alunos evadidos'].values\n",
    "\n",
    "# Inicializar e ajustar o modelo de regressão linear para os dois períodos\n",
    "regressor_ate_2012 = LinearRegression()\n",
    "regressor_ate_2012.fit(x_ate_2012, y_ate_2012)\n",
    "\n",
    "regressor_apos_2012 = LinearRegression()\n",
    "regressor_apos_2012.fit(x_apos_2012, y_apos_2012)\n",
    "\n",
    "# Obter os coeficientes 'a' e 'b' para cada período\n",
    "a_ate_2012 = regressor_ate_2012.coef_[0]\n",
    "b_ate_2012 = regressor_ate_2012.intercept_\n",
    "\n",
    "a_apos_2012 = regressor_apos_2012.coef_[0]\n",
    "b_apos_2012 = regressor_apos_2012.intercept_\n",
    "\n",
    "print(f\"Período até 2012 - Coeficiente 'a': {a_ate_2012}, Coeficiente 'b': {b_ate_2012}\")\n",
    "print(f\"Período após 2012 - Coeficiente 'a': {a_apos_2012}, Coeficiente 'b': {b_apos_2012}\")\n",
    "\n",
    "# Fazer previsões com os modelos ajustados para cada período\n",
    "y_pred_ate_2012 = regressor_ate_2012.predict(x_ate_2012)\n",
    "y_pred_apos_2012 = regressor_apos_2012.predict(x_apos_2012)\n",
    "\n",
    "# Plotar os dados e as linhas de regressão para cada período\n",
    "plt.figure(figsize=(12, 6))\n",
    "plt.scatter(x_ate_2012, y_ate_2012, label='Dados reais - Até 2012')\n",
    "plt.scatter(x_apos_2012, y_apos_2012, label='Dados reais - Após 2012')\n",
    "plt.plot(x_ate_2012, y_pred_ate_2012, color='red', linewidth=2, label='Linha de regressão - Até 2012')\n",
    "plt.plot(x_apos_2012, y_pred_apos_2012, color='blue', linewidth=2, label='Linha de regressão - Após 2012')\n",
    "plt.xlabel('Ano de Ingresso')\n",
    "plt.ylabel('Número de alunos evadidos')\n",
    "plt.legend()\n",
    "plt.show()"
   ]
  },
  {
   "cell_type": "code",
   "execution_count": 10,
   "id": "967931d8-a9bf-497e-8dd1-47d472a816c3",
   "metadata": {},
   "outputs": [
    {
     "name": "stdout",
     "output_type": "stream",
     "text": [
      "0.8825102618714246\n"
     ]
    }
   ],
   "source": [
    "#Análise R².  \n",
    "score = regressor_ate_2012.score(x_ate_2012, y_ate_2012)\n",
    "print(score)"
   ]
  },
  {
   "cell_type": "code",
   "execution_count": 11,
   "id": "9c0136ba-767d-4b65-8383-c2f30b832cea",
   "metadata": {},
   "outputs": [
    {
     "name": "stdout",
     "output_type": "stream",
     "text": [
      "0.4334116616558604\n"
     ]
    }
   ],
   "source": [
    "#Análise R².  \n",
    "score = regressor_apos_2012.score(x_apos_2012, y_apos_2012)\n",
    "print(score)"
   ]
  },
  {
   "cell_type": "code",
   "execution_count": 12,
   "id": "506b115c-406c-4668-8cae-98f6db648382",
   "metadata": {},
   "outputs": [],
   "source": [
    "import statsmodels.api as sm"
   ]
  },
  {
   "cell_type": "code",
   "execution_count": 16,
   "id": "a2e8c7de-813c-4bb8-a63e-f32895af8eaa",
   "metadata": {},
   "outputs": [
    {
     "name": "stderr",
     "output_type": "stream",
     "text": [
      "C:\\Users\\glaucia.cerqueira\\bootcamp\\Lib\\site-packages\\statsmodels\\stats\\stattools.py:74: ValueWarning: omni_normtest is not valid with less than 8 observations; 5 samples were given.\n",
      "  warn(\"omni_normtest is not valid with less than 8 observations; %i \"\n"
     ]
    },
    {
     "name": "stdout",
     "output_type": "stream",
     "text": [
      "Resumo para o período até 2012:\n",
      "                            OLS Regression Results                            \n",
      "==============================================================================\n",
      "Dep. Variable:                      y   R-squared:                       0.883\n",
      "Model:                            OLS   Adj. R-squared:                  0.843\n",
      "Method:                 Least Squares   F-statistic:                     22.53\n",
      "Date:                Thu, 26 Oct 2023   Prob (F-statistic):             0.0177\n",
      "Time:                        14:03:19   Log-Likelihood:                -30.409\n",
      "No. Observations:                   5   AIC:                             64.82\n",
      "Df Residuals:                       3   BIC:                             64.04\n",
      "Df Model:                           1                                         \n",
      "Covariance Type:            nonrobust                                         \n",
      "==============================================================================\n",
      "                 coef    std err          t      P>|t|      [0.025      0.975]\n",
      "------------------------------------------------------------------------------\n",
      "const      -4.115e+05   8.69e+04     -4.734      0.018   -6.88e+05   -1.35e+05\n",
      "x1           205.3000     43.248      4.747      0.018      67.665     342.935\n",
      "==============================================================================\n",
      "Omnibus:                          nan   Durbin-Watson:                   3.122\n",
      "Prob(Omnibus):                    nan   Jarque-Bera (JB):                0.781\n",
      "Skew:                           0.938   Prob(JB):                        0.677\n",
      "Kurtosis:                       2.517   Cond. No.                     2.86e+06\n",
      "==============================================================================\n",
      "\n",
      "Notes:\n",
      "[1] Standard Errors assume that the covariance matrix of the errors is correctly specified.\n",
      "[2] The condition number is large, 2.86e+06. This might indicate that there are\n",
      "strong multicollinearity or other numerical problems.\n",
      "Resumo para o período após 2012:\n",
      "                            OLS Regression Results                            \n",
      "==============================================================================\n",
      "Dep. Variable:                      y   R-squared:                       0.433\n",
      "Model:                            OLS   Adj. R-squared:                  0.339\n",
      "Method:                 Least Squares   F-statistic:                     4.590\n",
      "Date:                Thu, 26 Oct 2023   Prob (F-statistic):             0.0759\n",
      "Time:                        14:03:20   Log-Likelihood:                -55.507\n",
      "No. Observations:                   8   AIC:                             115.0\n",
      "Df Residuals:                       6   BIC:                             115.2\n",
      "Df Model:                           1                                         \n",
      "Covariance Type:            nonrobust                                         \n",
      "==============================================================================\n",
      "                 coef    std err          t      P>|t|      [0.025      0.975]\n",
      "------------------------------------------------------------------------------\n",
      "const       1.939e+05   8.96e+04      2.163      0.074   -2.54e+04    4.13e+05\n",
      "x1           -95.2381     44.455     -2.142      0.076    -204.015      13.539\n",
      "==============================================================================\n",
      "Omnibus:                        1.374   Durbin-Watson:                   1.565\n",
      "Prob(Omnibus):                  0.503   Jarque-Bera (JB):                0.762\n",
      "Skew:                          -0.687   Prob(JB):                        0.683\n",
      "Kurtosis:                       2.370   Cond. No.                     1.77e+06\n",
      "==============================================================================\n",
      "\n",
      "Notes:\n",
      "[1] Standard Errors assume that the covariance matrix of the errors is correctly specified.\n",
      "[2] The condition number is large, 1.77e+06. This might indicate that there are\n",
      "strong multicollinearity or other numerical problems.\n"
     ]
    },
    {
     "name": "stderr",
     "output_type": "stream",
     "text": [
      "C:\\Users\\glaucia.cerqueira\\bootcamp\\Lib\\site-packages\\scipy\\stats\\_stats_py.py:1806: UserWarning: kurtosistest only valid for n>=20 ... continuing anyway, n=8\n",
      "  warnings.warn(\"kurtosistest only valid for n>=20 ... continuing \"\n"
     ]
    }
   ],
   "source": [
    "# Crie e ajuste o modelo de regressão para o período até 2012\n",
    "modelo_ate_2012 = sm.OLS(y_ate_2012, sm.add_constant(x_ate_2012)).fit()\n",
    "\n",
    "# Obtenha o resumo do modelo que inclui os valores p associados aos coeficientes\n",
    "resumo_ate_2012 = modelo_ate_2012.summary()\n",
    "\n",
    "# Imprima o resumo no console\n",
    "print(\"Resumo para o período até 2012:\")\n",
    "print(resumo_ate_2012)\n",
    "\n",
    "# Crie e ajuste o modelo de regressão para o período após 2012\n",
    "modelo_apos_2012 = sm.OLS(y_apos_2012, sm.add_constant(x_apos_2012)).fit()\n",
    "\n",
    "# Obtenha o resumo do modelo que inclui os valores p associados aos coeficientes\n",
    "resumo_apos_2012 = modelo_apos_2012.summary()\n",
    "\n",
    "# Imprima o resumo no console\n",
    "print(\"Resumo para o período após 2012:\")\n",
    "print(resumo_apos_2012)"
   ]
  },
  {
   "cell_type": "code",
   "execution_count": 23,
   "id": "9434e649-4c03-4c2b-997b-826c531280e2",
   "metadata": {},
   "outputs": [
    {
     "data": {
      "text/html": [
       "<div>\n",
       "<style scoped>\n",
       "    .dataframe tbody tr th:only-of-type {\n",
       "        vertical-align: middle;\n",
       "    }\n",
       "\n",
       "    .dataframe tbody tr th {\n",
       "        vertical-align: top;\n",
       "    }\n",
       "\n",
       "    .dataframe thead th {\n",
       "        text-align: right;\n",
       "    }\n",
       "</style>\n",
       "<table border=\"1\" class=\"dataframe\">\n",
       "  <thead>\n",
       "    <tr style=\"text-align: right;\">\n",
       "      <th></th>\n",
       "      <th>COTA</th>\n",
       "      <th>Alunos evadidos por cota</th>\n",
       "    </tr>\n",
       "  </thead>\n",
       "  <tbody>\n",
       "    <tr>\n",
       "      <th>0</th>\n",
       "      <td>Grupo A</td>\n",
       "      <td>2548</td>\n",
       "    </tr>\n",
       "    <tr>\n",
       "      <th>1</th>\n",
       "      <td>Grupo A1</td>\n",
       "      <td>22</td>\n",
       "    </tr>\n",
       "    <tr>\n",
       "      <th>2</th>\n",
       "      <td>Grupo B</td>\n",
       "      <td>3124</td>\n",
       "    </tr>\n",
       "    <tr>\n",
       "      <th>3</th>\n",
       "      <td>Grupo B - antigo</td>\n",
       "      <td>2</td>\n",
       "    </tr>\n",
       "    <tr>\n",
       "      <th>4</th>\n",
       "      <td>Grupo B1</td>\n",
       "      <td>22</td>\n",
       "    </tr>\n",
       "    <tr>\n",
       "      <th>5</th>\n",
       "      <td>Grupo C</td>\n",
       "      <td>11295</td>\n",
       "    </tr>\n",
       "    <tr>\n",
       "      <th>6</th>\n",
       "      <td>Grupo C - antigo</td>\n",
       "      <td>5</td>\n",
       "    </tr>\n",
       "    <tr>\n",
       "      <th>7</th>\n",
       "      <td>Grupo D</td>\n",
       "      <td>2243</td>\n",
       "    </tr>\n",
       "    <tr>\n",
       "      <th>8</th>\n",
       "      <td>Grupo D1</td>\n",
       "      <td>34</td>\n",
       "    </tr>\n",
       "    <tr>\n",
       "      <th>9</th>\n",
       "      <td>Grupo E</td>\n",
       "      <td>1676</td>\n",
       "    </tr>\n",
       "    <tr>\n",
       "      <th>10</th>\n",
       "      <td>Grupo E1</td>\n",
       "      <td>11</td>\n",
       "    </tr>\n",
       "    <tr>\n",
       "      <th>11</th>\n",
       "      <td>Grupo F</td>\n",
       "      <td>4</td>\n",
       "    </tr>\n",
       "    <tr>\n",
       "      <th>12</th>\n",
       "      <td>Vaga Ociosa</td>\n",
       "      <td>794</td>\n",
       "    </tr>\n",
       "  </tbody>\n",
       "</table>\n",
       "</div>"
      ],
      "text/plain": [
       "                COTA  Alunos evadidos por cota\n",
       "0            Grupo A                      2548\n",
       "1           Grupo A1                        22\n",
       "2            Grupo B                      3124\n",
       "3   Grupo B - antigo                         2\n",
       "4           Grupo B1                        22\n",
       "5            Grupo C                     11295\n",
       "6   Grupo C - antigo                         5\n",
       "7            Grupo D                      2243\n",
       "8           Grupo D1                        34\n",
       "9            Grupo E                      1676\n",
       "10          Grupo E1                        11\n",
       "11           Grupo F                         4\n",
       "12       Vaga Ociosa                       794"
      ]
     },
     "execution_count": 23,
     "metadata": {},
     "output_type": "execute_result"
    }
   ],
   "source": [
    "evadidos_por_cota = df_evadidos.groupby('COTA').size().reset_index(name='Alunos evadidos por cota')\n",
    "evadidos_por_cota"
   ]
  },
  {
   "cell_type": "code",
   "execution_count": 22,
   "id": "92a79074-e5db-4591-8efd-462120b9a9a9",
   "metadata": {},
   "outputs": [],
   "source": [
    "import statsmodels.api as sm\n",
    "import statsmodels.formula.api as smf"
   ]
  },
  {
   "cell_type": "code",
   "execution_count": 84,
   "id": "1e069262-4361-46d3-abac-dd000debd97c",
   "metadata": {},
   "outputs": [
    {
     "data": {
      "text/html": [
       "<div>\n",
       "<style scoped>\n",
       "    .dataframe tbody tr th:only-of-type {\n",
       "        vertical-align: middle;\n",
       "    }\n",
       "\n",
       "    .dataframe tbody tr th {\n",
       "        vertical-align: top;\n",
       "    }\n",
       "\n",
       "    .dataframe thead th {\n",
       "        text-align: right;\n",
       "    }\n",
       "</style>\n",
       "<table border=\"1\" class=\"dataframe\">\n",
       "  <thead>\n",
       "    <tr style=\"text-align: right;\">\n",
       "      <th></th>\n",
       "      <th>CURSO_NOME</th>\n",
       "      <th>Alunos evadidos por curso</th>\n",
       "    </tr>\n",
       "  </thead>\n",
       "  <tbody>\n",
       "    <tr>\n",
       "      <th>0</th>\n",
       "      <td>ABI - CIÊNCIAS BIOLÓGICAS</td>\n",
       "      <td>125</td>\n",
       "    </tr>\n",
       "    <tr>\n",
       "      <th>1</th>\n",
       "      <td>ABI - CIÊNCIAS SOCIAIS</td>\n",
       "      <td>158</td>\n",
       "    </tr>\n",
       "    <tr>\n",
       "      <th>2</th>\n",
       "      <td>ABI - EDUCAÇÃO FÍSICA</td>\n",
       "      <td>127</td>\n",
       "    </tr>\n",
       "    <tr>\n",
       "      <th>3</th>\n",
       "      <td>ABI - FILOSOFIA</td>\n",
       "      <td>179</td>\n",
       "    </tr>\n",
       "    <tr>\n",
       "      <th>4</th>\n",
       "      <td>ABI - GEOGRAFIA</td>\n",
       "      <td>277</td>\n",
       "    </tr>\n",
       "    <tr>\n",
       "      <th>...</th>\n",
       "      <td>...</td>\n",
       "      <td>...</td>\n",
       "    </tr>\n",
       "    <tr>\n",
       "      <th>71</th>\n",
       "      <td>QUÍMICA - LICENCIATURA</td>\n",
       "      <td>14</td>\n",
       "    </tr>\n",
       "    <tr>\n",
       "      <th>72</th>\n",
       "      <td>RÁDIO  TV E INTERNET</td>\n",
       "      <td>53</td>\n",
       "    </tr>\n",
       "    <tr>\n",
       "      <th>73</th>\n",
       "      <td>SERVIÇO SOCIAL</td>\n",
       "      <td>338</td>\n",
       "    </tr>\n",
       "    <tr>\n",
       "      <th>74</th>\n",
       "      <td>SISTEMAS DE INFORMAÇÃO</td>\n",
       "      <td>280</td>\n",
       "    </tr>\n",
       "    <tr>\n",
       "      <th>75</th>\n",
       "      <td>TURISMO</td>\n",
       "      <td>332</td>\n",
       "    </tr>\n",
       "  </tbody>\n",
       "</table>\n",
       "<p>76 rows × 2 columns</p>\n",
       "</div>"
      ],
      "text/plain": [
       "                   CURSO_NOME  Alunos evadidos por curso\n",
       "0   ABI - CIÊNCIAS BIOLÓGICAS                        125\n",
       "1      ABI - CIÊNCIAS SOCIAIS                        158\n",
       "2       ABI - EDUCAÇÃO FÍSICA                        127\n",
       "3             ABI - FILOSOFIA                        179\n",
       "4             ABI - GEOGRAFIA                        277\n",
       "..                        ...                        ...\n",
       "71     QUÍMICA - LICENCIATURA                         14\n",
       "72       RÁDIO  TV E INTERNET                         53\n",
       "73             SERVIÇO SOCIAL                        338\n",
       "74     SISTEMAS DE INFORMAÇÃO                        280\n",
       "75                    TURISMO                        332\n",
       "\n",
       "[76 rows x 2 columns]"
      ]
     },
     "execution_count": 84,
     "metadata": {},
     "output_type": "execute_result"
    }
   ],
   "source": [
    "evadidos_por_curso = df_evadidos.groupby('CURSO_NOME').size().reset_index(name='Alunos evadidos por curso')\n",
    "evadidos_por_curso"
   ]
  },
  {
   "cell_type": "code",
   "execution_count": null,
   "id": "fd759832-237d-4f49-ad2e-e432189ee595",
   "metadata": {},
   "outputs": [],
   "source": [
    "# Crie um swarmplot\n",
    "plt.figure(figsize=(12, 6))  # Defina o tamanho da figura\n",
    "sns.swarmplot(x='CURSO_NOME', y='Evasao', data=df_evadidos)\n",
    "\n",
    "# Rotacione os rótulos do eixo x para melhor legibilidade, se necessário\n",
    "plt.xticks(rotation=45)\n",
    "\n",
    "# Adicione rótulos aos eixos\n",
    "plt.xlabel('Curso')\n",
    "plt.ylabel('Evasao')\n",
    "\n",
    "# Exiba o gráfico\n",
    "plt.show()"
   ]
  }
 ],
 "metadata": {
  "kernelspec": {
   "display_name": "Python 3 (ipykernel)",
   "language": "python",
   "name": "python3"
  },
  "language_info": {
   "codemirror_mode": {
    "name": "ipython",
    "version": 3
   },
   "file_extension": ".py",
   "mimetype": "text/x-python",
   "name": "python",
   "nbconvert_exporter": "python",
   "pygments_lexer": "ipython3",
   "version": "3.11.1"
  }
 },
 "nbformat": 4,
 "nbformat_minor": 5
}
