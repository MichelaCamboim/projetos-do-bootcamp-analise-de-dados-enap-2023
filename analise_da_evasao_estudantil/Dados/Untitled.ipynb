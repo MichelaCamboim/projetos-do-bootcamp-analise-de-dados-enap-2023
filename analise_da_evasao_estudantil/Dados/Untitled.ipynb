{
 "cells": [
  {
   "cell_type": "raw",
   "id": "7d026d9a-b80a-4ce1-9bc3-293b44ed2dc2",
   "metadata": {},
   "source": [
    "import pandas as pd\n",
    "import numpy as np"
   ]
  },
  {
   "cell_type": "code",
   "execution_count": null,
   "id": "bb15de4d-81e1-41bc-81ff-90dd2726f5da",
   "metadata": {},
   "outputs": [],
   "source": [
    "projeto ='/content/drive/Shareddrives/Litoteca de Feira de Santana - LISA/Digitalização do inventário/1435/1435_01-02.ocr.xlsx'\n",
    "df=pd.read_excel(projeto, header=4)\n",
    "df.head()"
   ]
  }
 ],
 "metadata": {
  "kernelspec": {
   "display_name": "Python 3 (ipykernel)",
   "language": "python",
   "name": "python3"
  },
  "language_info": {
   "codemirror_mode": {
    "name": "ipython",
    "version": 3
   },
   "file_extension": ".py",
   "mimetype": "text/x-python",
   "name": "python",
   "nbconvert_exporter": "python",
   "pygments_lexer": "ipython3",
   "version": "3.11.5"
  }
 },
 "nbformat": 4,
 "nbformat_minor": 5
}
