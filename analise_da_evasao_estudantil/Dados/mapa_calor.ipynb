{
 "cells": [
  {
   "cell_type": "code",
   "execution_count": 18,
   "id": "cf10b397-88dd-4237-b353-e9145af4e8eb",
   "metadata": {},
   "outputs": [],
   "source": [
    "import pandas as pd\n",
    "from folium.plugins import HeatMap\n",
    "import folium\n",
    "import seaborn as sns\n",
    "import matplotlib.pyplot as plt\n",
    "import plotly.express as px"
   ]
  },
  {
   "cell_type": "code",
   "execution_count": 2,
   "id": "1315cdba-2b74-4f14-8200-6dcc0bb6986b",
   "metadata": {},
   "outputs": [],
   "source": [
    "import os \n",
    "filepath = os.path.join(os.getcwd(), 'dataset_tratado.csv')"
   ]
  },
  {
   "cell_type": "code",
   "execution_count": 3,
   "id": "c5cdd089-2d43-4f70-9ddb-0e1cebae21a6",
   "metadata": {},
   "outputs": [],
   "source": [
    "# Cria o DataFrame completo, com todos os dados do arquivo dataset_grad_pres.csv\n",
    "\n",
    "df_completo = pd.read_csv(filepath, engine='python', \n",
    "                     on_bad_lines='warn', header=0, sep = \",\")"
   ]
  },
  {
   "cell_type": "code",
   "execution_count": 4,
   "id": "d764c494-e46a-4216-ad18-8e4bc9193500",
   "metadata": {},
   "outputs": [
    {
     "data": {
      "text/html": [
       "<div>\n",
       "<style scoped>\n",
       "    .dataframe tbody tr th:only-of-type {\n",
       "        vertical-align: middle;\n",
       "    }\n",
       "\n",
       "    .dataframe tbody tr th {\n",
       "        vertical-align: top;\n",
       "    }\n",
       "\n",
       "    .dataframe thead th {\n",
       "        text-align: right;\n",
       "    }\n",
       "</style>\n",
       "<table border=\"1\" class=\"dataframe\">\n",
       "  <thead>\n",
       "    <tr style=\"text-align: right;\">\n",
       "      <th></th>\n",
       "      <th>ANO_INGRESSO</th>\n",
       "      <th>SEMESTRE_INGRESSO</th>\n",
       "      <th>TIPO_INGRESSO</th>\n",
       "      <th>COTA</th>\n",
       "      <th>CURSO_NOME</th>\n",
       "      <th>AREA</th>\n",
       "      <th>SITUACAO</th>\n",
       "      <th>MOTIVO_SAIDA</th>\n",
       "      <th>CAMPUS</th>\n",
       "      <th>TURNO</th>\n",
       "      <th>...</th>\n",
       "      <th>LAT</th>\n",
       "      <th>LOCAL</th>\n",
       "      <th>LNG_ORGM</th>\n",
       "      <th>LAT_ORGM</th>\n",
       "      <th>LOCAL_ORGM</th>\n",
       "      <th>BAIXA_RENDA</th>\n",
       "      <th>ESCOLA_PUBLICA</th>\n",
       "      <th>ETNIA_PPI</th>\n",
       "      <th>PCD</th>\n",
       "      <th>ESTADO</th>\n",
       "    </tr>\n",
       "  </thead>\n",
       "  <tbody>\n",
       "    <tr>\n",
       "      <th>0</th>\n",
       "      <td>2008</td>\n",
       "      <td>1</td>\n",
       "      <td>Transferência Obrigatória</td>\n",
       "      <td>NaN</td>\n",
       "      <td>CIÊNCIAS BIOLÓGICAS</td>\n",
       "      <td>Ciências Biológicas</td>\n",
       "      <td>Evadido</td>\n",
       "      <td>A Especificar</td>\n",
       "      <td>JUIZ DE FORA</td>\n",
       "      <td>INTEGRAL</td>\n",
       "      <td>...</td>\n",
       "      <td>-21.753129</td>\n",
       "      <td>VALE DO IPE, JUIZ DE FORA, MG, BRASIL</td>\n",
       "      <td>NaN</td>\n",
       "      <td>NaN</td>\n",
       "      <td>NaN</td>\n",
       "      <td>NaN</td>\n",
       "      <td>NaN</td>\n",
       "      <td>NaN</td>\n",
       "      <td>NaN</td>\n",
       "      <td>NaN</td>\n",
       "    </tr>\n",
       "    <tr>\n",
       "      <th>1</th>\n",
       "      <td>2008</td>\n",
       "      <td>1</td>\n",
       "      <td>VESTIBULAR</td>\n",
       "      <td>Grupo B</td>\n",
       "      <td>CIÊNCIAS BIOLÓGICAS</td>\n",
       "      <td>Ciências Biológicas</td>\n",
       "      <td>Evadido</td>\n",
       "      <td>A Especificar</td>\n",
       "      <td>JUIZ DE FORA</td>\n",
       "      <td>INTEGRAL</td>\n",
       "      <td>...</td>\n",
       "      <td>-21.804313</td>\n",
       "      <td>PARQUE JARDIM DA SERRA, JUIZ DE FORA, MG, BRASIL</td>\n",
       "      <td>NaN</td>\n",
       "      <td>NaN</td>\n",
       "      <td>NaN</td>\n",
       "      <td>Sim</td>\n",
       "      <td>Sim</td>\n",
       "      <td>Não</td>\n",
       "      <td>Não</td>\n",
       "      <td>NaN</td>\n",
       "    </tr>\n",
       "    <tr>\n",
       "      <th>2</th>\n",
       "      <td>2008</td>\n",
       "      <td>1</td>\n",
       "      <td>PISM</td>\n",
       "      <td>Grupo C</td>\n",
       "      <td>CIÊNCIAS BIOLÓGICAS</td>\n",
       "      <td>Ciências Biológicas</td>\n",
       "      <td>Evadido</td>\n",
       "      <td>Abandono</td>\n",
       "      <td>JUIZ DE FORA</td>\n",
       "      <td>INTEGRAL</td>\n",
       "      <td>...</td>\n",
       "      <td>-21.750069</td>\n",
       "      <td>SANTA CATARINA, JUIZ DE FORA, MG, BRASIL</td>\n",
       "      <td>NaN</td>\n",
       "      <td>NaN</td>\n",
       "      <td>NaN</td>\n",
       "      <td>Não</td>\n",
       "      <td>Não</td>\n",
       "      <td>Não</td>\n",
       "      <td>Não</td>\n",
       "      <td>NaN</td>\n",
       "    </tr>\n",
       "    <tr>\n",
       "      <th>3</th>\n",
       "      <td>2008</td>\n",
       "      <td>1</td>\n",
       "      <td>VESTIBULAR</td>\n",
       "      <td>Grupo C</td>\n",
       "      <td>CIÊNCIAS BIOLÓGICAS</td>\n",
       "      <td>Ciências Biológicas</td>\n",
       "      <td>Concluido</td>\n",
       "      <td>Conclusão</td>\n",
       "      <td>JUIZ DE FORA</td>\n",
       "      <td>INTEGRAL</td>\n",
       "      <td>...</td>\n",
       "      <td>-21.718564</td>\n",
       "      <td>ANDRELANDIA, MG, BRASIL</td>\n",
       "      <td>NaN</td>\n",
       "      <td>NaN</td>\n",
       "      <td>NaN</td>\n",
       "      <td>Não</td>\n",
       "      <td>Não</td>\n",
       "      <td>Não</td>\n",
       "      <td>Não</td>\n",
       "      <td>NaN</td>\n",
       "    </tr>\n",
       "    <tr>\n",
       "      <th>4</th>\n",
       "      <td>2008</td>\n",
       "      <td>1</td>\n",
       "      <td>VESTIBULAR</td>\n",
       "      <td>Grupo B</td>\n",
       "      <td>CIÊNCIAS BIOLÓGICAS</td>\n",
       "      <td>Ciências Biológicas</td>\n",
       "      <td>Evadido</td>\n",
       "      <td>A Especificar</td>\n",
       "      <td>JUIZ DE FORA</td>\n",
       "      <td>INTEGRAL</td>\n",
       "      <td>...</td>\n",
       "      <td>-20.850899</td>\n",
       "      <td>PAULA CANDIDO, MG, BRASIL</td>\n",
       "      <td>NaN</td>\n",
       "      <td>NaN</td>\n",
       "      <td>NaN</td>\n",
       "      <td>Sim</td>\n",
       "      <td>Sim</td>\n",
       "      <td>Não</td>\n",
       "      <td>Não</td>\n",
       "      <td>NaN</td>\n",
       "    </tr>\n",
       "    <tr>\n",
       "      <th>...</th>\n",
       "      <td>...</td>\n",
       "      <td>...</td>\n",
       "      <td>...</td>\n",
       "      <td>...</td>\n",
       "      <td>...</td>\n",
       "      <td>...</td>\n",
       "      <td>...</td>\n",
       "      <td>...</td>\n",
       "      <td>...</td>\n",
       "      <td>...</td>\n",
       "      <td>...</td>\n",
       "      <td>...</td>\n",
       "      <td>...</td>\n",
       "      <td>...</td>\n",
       "      <td>...</td>\n",
       "      <td>...</td>\n",
       "      <td>...</td>\n",
       "      <td>...</td>\n",
       "      <td>...</td>\n",
       "      <td>...</td>\n",
       "      <td>...</td>\n",
       "    </tr>\n",
       "    <tr>\n",
       "      <th>52604</th>\n",
       "      <td>2023</td>\n",
       "      <td>1</td>\n",
       "      <td>SiSU</td>\n",
       "      <td>Grupo A</td>\n",
       "      <td>BACHARELADO EM DESIGN</td>\n",
       "      <td>Lingüística  Letras e Artes</td>\n",
       "      <td>Ativo</td>\n",
       "      <td>A Especificar</td>\n",
       "      <td>JUIZ DE FORA</td>\n",
       "      <td>INTEGRAL</td>\n",
       "      <td>...</td>\n",
       "      <td>-20.678101</td>\n",
       "      <td>CANAA, MG, BRASIL</td>\n",
       "      <td>-42.609760</td>\n",
       "      <td>-20.678101</td>\n",
       "      <td>CANAA, MG, BRASIL</td>\n",
       "      <td>Sim</td>\n",
       "      <td>Sim</td>\n",
       "      <td>Sim</td>\n",
       "      <td>Não</td>\n",
       "      <td>MG</td>\n",
       "    </tr>\n",
       "    <tr>\n",
       "      <th>52605</th>\n",
       "      <td>2023</td>\n",
       "      <td>1</td>\n",
       "      <td>SiSU</td>\n",
       "      <td>Grupo C</td>\n",
       "      <td>BACHARELADO EM DESIGN</td>\n",
       "      <td>Lingüística  Letras e Artes</td>\n",
       "      <td>Ativo</td>\n",
       "      <td>A Especificar</td>\n",
       "      <td>JUIZ DE FORA</td>\n",
       "      <td>INTEGRAL</td>\n",
       "      <td>...</td>\n",
       "      <td>-15.601411</td>\n",
       "      <td>CUIABA, MT, BRASIL</td>\n",
       "      <td>-56.097892</td>\n",
       "      <td>-15.601411</td>\n",
       "      <td>CUIABA, MT, BRASIL</td>\n",
       "      <td>Não</td>\n",
       "      <td>Não</td>\n",
       "      <td>Não</td>\n",
       "      <td>Não</td>\n",
       "      <td>MT</td>\n",
       "    </tr>\n",
       "    <tr>\n",
       "      <th>52606</th>\n",
       "      <td>2023</td>\n",
       "      <td>1</td>\n",
       "      <td>SiSU</td>\n",
       "      <td>Grupo C</td>\n",
       "      <td>BACHARELADO EM DESIGN</td>\n",
       "      <td>Lingüística  Letras e Artes</td>\n",
       "      <td>Ativo</td>\n",
       "      <td>A Especificar</td>\n",
       "      <td>JUIZ DE FORA</td>\n",
       "      <td>INTEGRAL</td>\n",
       "      <td>...</td>\n",
       "      <td>-22.470962</td>\n",
       "      <td>RESENDE, RJ, BRASIL</td>\n",
       "      <td>-44.451329</td>\n",
       "      <td>-22.470962</td>\n",
       "      <td>RESENDE, RJ, BRASIL</td>\n",
       "      <td>Não</td>\n",
       "      <td>Não</td>\n",
       "      <td>Não</td>\n",
       "      <td>Não</td>\n",
       "      <td>RJ</td>\n",
       "    </tr>\n",
       "    <tr>\n",
       "      <th>52607</th>\n",
       "      <td>2023</td>\n",
       "      <td>1</td>\n",
       "      <td>PISM</td>\n",
       "      <td>Grupo B</td>\n",
       "      <td>BACHARELADO EM DESIGN</td>\n",
       "      <td>Lingüística  Letras e Artes</td>\n",
       "      <td>Evadido</td>\n",
       "      <td>Desistência</td>\n",
       "      <td>JUIZ DE FORA</td>\n",
       "      <td>INTEGRAL</td>\n",
       "      <td>...</td>\n",
       "      <td>-21.120123</td>\n",
       "      <td>UBA, MG, BRASIL</td>\n",
       "      <td>-42.942619</td>\n",
       "      <td>-21.120123</td>\n",
       "      <td>UBA, MG, BRASIL</td>\n",
       "      <td>Sim</td>\n",
       "      <td>Sim</td>\n",
       "      <td>Não</td>\n",
       "      <td>Não</td>\n",
       "      <td>MG</td>\n",
       "    </tr>\n",
       "    <tr>\n",
       "      <th>52608</th>\n",
       "      <td>2023</td>\n",
       "      <td>1</td>\n",
       "      <td>PISM</td>\n",
       "      <td>Grupo D</td>\n",
       "      <td>BACHARELADO EM DESIGN</td>\n",
       "      <td>Lingüística  Letras e Artes</td>\n",
       "      <td>Ativo</td>\n",
       "      <td>A Especificar</td>\n",
       "      <td>JUIZ DE FORA</td>\n",
       "      <td>INTEGRAL</td>\n",
       "      <td>...</td>\n",
       "      <td>-21.735352</td>\n",
       "      <td>FRANCISCO BERNARDINO, JUIZ DE FORA, MG, BRASIL</td>\n",
       "      <td>-42.614181</td>\n",
       "      <td>-21.196919</td>\n",
       "      <td>MIRAI, MG, BRASIL</td>\n",
       "      <td>Não</td>\n",
       "      <td>Sim</td>\n",
       "      <td>Sim</td>\n",
       "      <td>Não</td>\n",
       "      <td>MG</td>\n",
       "    </tr>\n",
       "  </tbody>\n",
       "</table>\n",
       "<p>52609 rows × 24 columns</p>\n",
       "</div>"
      ],
      "text/plain": [
       "       ANO_INGRESSO  SEMESTRE_INGRESSO              TIPO_INGRESSO     COTA  \\\n",
       "0              2008                  1  Transferência Obrigatória      NaN   \n",
       "1              2008                  1                 VESTIBULAR  Grupo B   \n",
       "2              2008                  1                       PISM  Grupo C   \n",
       "3              2008                  1                 VESTIBULAR  Grupo C   \n",
       "4              2008                  1                 VESTIBULAR  Grupo B   \n",
       "...             ...                ...                        ...      ...   \n",
       "52604          2023                  1                       SiSU  Grupo A   \n",
       "52605          2023                  1                       SiSU  Grupo C   \n",
       "52606          2023                  1                       SiSU  Grupo C   \n",
       "52607          2023                  1                       PISM  Grupo B   \n",
       "52608          2023                  1                       PISM  Grupo D   \n",
       "\n",
       "                  CURSO_NOME                         AREA   SITUACAO  \\\n",
       "0        CIÊNCIAS BIOLÓGICAS          Ciências Biológicas    Evadido   \n",
       "1        CIÊNCIAS BIOLÓGICAS          Ciências Biológicas    Evadido   \n",
       "2        CIÊNCIAS BIOLÓGICAS          Ciências Biológicas    Evadido   \n",
       "3        CIÊNCIAS BIOLÓGICAS          Ciências Biológicas  Concluido   \n",
       "4        CIÊNCIAS BIOLÓGICAS          Ciências Biológicas    Evadido   \n",
       "...                      ...                          ...        ...   \n",
       "52604  BACHARELADO EM DESIGN  Lingüística  Letras e Artes      Ativo   \n",
       "52605  BACHARELADO EM DESIGN  Lingüística  Letras e Artes      Ativo   \n",
       "52606  BACHARELADO EM DESIGN  Lingüística  Letras e Artes      Ativo   \n",
       "52607  BACHARELADO EM DESIGN  Lingüística  Letras e Artes    Evadido   \n",
       "52608  BACHARELADO EM DESIGN  Lingüística  Letras e Artes      Ativo   \n",
       "\n",
       "        MOTIVO_SAIDA        CAMPUS     TURNO  ...        LAT  \\\n",
       "0      A Especificar  JUIZ DE FORA  INTEGRAL  ... -21.753129   \n",
       "1      A Especificar  JUIZ DE FORA  INTEGRAL  ... -21.804313   \n",
       "2           Abandono  JUIZ DE FORA  INTEGRAL  ... -21.750069   \n",
       "3          Conclusão  JUIZ DE FORA  INTEGRAL  ... -21.718564   \n",
       "4      A Especificar  JUIZ DE FORA  INTEGRAL  ... -20.850899   \n",
       "...              ...           ...       ...  ...        ...   \n",
       "52604  A Especificar  JUIZ DE FORA  INTEGRAL  ... -20.678101   \n",
       "52605  A Especificar  JUIZ DE FORA  INTEGRAL  ... -15.601411   \n",
       "52606  A Especificar  JUIZ DE FORA  INTEGRAL  ... -22.470962   \n",
       "52607    Desistência  JUIZ DE FORA  INTEGRAL  ... -21.120123   \n",
       "52608  A Especificar  JUIZ DE FORA  INTEGRAL  ... -21.735352   \n",
       "\n",
       "                                                  LOCAL   LNG_ORGM   LAT_ORGM  \\\n",
       "0                 VALE DO IPE, JUIZ DE FORA, MG, BRASIL        NaN        NaN   \n",
       "1      PARQUE JARDIM DA SERRA, JUIZ DE FORA, MG, BRASIL        NaN        NaN   \n",
       "2              SANTA CATARINA, JUIZ DE FORA, MG, BRASIL        NaN        NaN   \n",
       "3                               ANDRELANDIA, MG, BRASIL        NaN        NaN   \n",
       "4                             PAULA CANDIDO, MG, BRASIL        NaN        NaN   \n",
       "...                                                 ...        ...        ...   \n",
       "52604                                 CANAA, MG, BRASIL -42.609760 -20.678101   \n",
       "52605                                CUIABA, MT, BRASIL -56.097892 -15.601411   \n",
       "52606                               RESENDE, RJ, BRASIL -44.451329 -22.470962   \n",
       "52607                                   UBA, MG, BRASIL -42.942619 -21.120123   \n",
       "52608    FRANCISCO BERNARDINO, JUIZ DE FORA, MG, BRASIL -42.614181 -21.196919   \n",
       "\n",
       "                LOCAL_ORGM BAIXA_RENDA  ESCOLA_PUBLICA  ETNIA_PPI  PCD ESTADO  \n",
       "0                      NaN         NaN             NaN        NaN  NaN    NaN  \n",
       "1                      NaN         Sim             Sim        Não  Não    NaN  \n",
       "2                      NaN         Não             Não        Não  Não    NaN  \n",
       "3                      NaN         Não             Não        Não  Não    NaN  \n",
       "4                      NaN         Sim             Sim        Não  Não    NaN  \n",
       "...                    ...         ...             ...        ...  ...    ...  \n",
       "52604    CANAA, MG, BRASIL         Sim             Sim        Sim  Não     MG  \n",
       "52605   CUIABA, MT, BRASIL         Não             Não        Não  Não     MT  \n",
       "52606  RESENDE, RJ, BRASIL         Não             Não        Não  Não     RJ  \n",
       "52607      UBA, MG, BRASIL         Sim             Sim        Não  Não     MG  \n",
       "52608    MIRAI, MG, BRASIL         Não             Sim        Sim  Não     MG  \n",
       "\n",
       "[52609 rows x 24 columns]"
      ]
     },
     "execution_count": 4,
     "metadata": {},
     "output_type": "execute_result"
    }
   ],
   "source": [
    "df_completo"
   ]
  },
  {
   "cell_type": "code",
   "execution_count": 5,
   "id": "072939b7-87c5-49fb-b5e7-0f958ed20cbd",
   "metadata": {},
   "outputs": [
    {
     "data": {
      "text/plain": [
       "18447"
      ]
     },
     "execution_count": 5,
     "metadata": {},
     "output_type": "execute_result"
    }
   ],
   "source": [
    "valores_nan = df_completo['LOCAL_ORGM'].isna().sum()\n",
    "valores_nan"
   ]
  },
  {
   "cell_type": "code",
   "execution_count": 6,
   "id": "047f40a6-e876-4e5c-b6a7-7158c4da92f4",
   "metadata": {},
   "outputs": [],
   "source": [
    "df_completo = df_completo.dropna(subset=['LOCAL_ORGM'])"
   ]
  },
  {
   "cell_type": "code",
   "execution_count": 7,
   "id": "92fdc44e-e69c-4650-9b2d-a844e375ff7c",
   "metadata": {},
   "outputs": [
    {
     "data": {
      "text/plain": [
       "0"
      ]
     },
     "execution_count": 7,
     "metadata": {},
     "output_type": "execute_result"
    }
   ],
   "source": [
    "df_completo['LOCAL_ORGM'].isna().sum()"
   ]
  },
  {
   "cell_type": "code",
   "execution_count": 8,
   "id": "fc46ba21-20a1-4512-888d-02fe78efb858",
   "metadata": {},
   "outputs": [
    {
     "data": {
      "text/plain": [
       "27       MG\n",
       "49       MG\n",
       "50       MG\n",
       "51       MG\n",
       "52       MG\n",
       "         ..\n",
       "52604    MG\n",
       "52605    MT\n",
       "52606    RJ\n",
       "52607    MG\n",
       "52608    MG\n",
       "Name: ESTADO, Length: 34162, dtype: object"
      ]
     },
     "execution_count": 8,
     "metadata": {},
     "output_type": "execute_result"
    }
   ],
   "source": [
    "df_completo['ESTADO']"
   ]
  },
  {
   "cell_type": "code",
   "execution_count": 9,
   "id": "89bea896-7d27-43ed-a5d8-44a1ce3b23f3",
   "metadata": {},
   "outputs": [],
   "source": [
    "df_evadidos = df_completo[df_completo['SITUACAO'] == 'Evadido']"
   ]
  },
  {
   "cell_type": "code",
   "execution_count": 10,
   "id": "6e212faf-d682-4525-afec-5d6520d5ecf5",
   "metadata": {},
   "outputs": [
    {
     "data": {
      "text/plain": [
       "ESTADO\n",
       "MG    8564\n",
       "RJ     926\n",
       "SP     231\n",
       "ES     106\n",
       "BA      28\n",
       "DF      15\n",
       "RS      10\n",
       "GO      10\n",
       "MS       7\n",
       "PA       7\n",
       "CE       7\n",
       "PR       6\n",
       "RO       5\n",
       "SE       4\n",
       "SC       3\n",
       "AC       3\n",
       "AM       2\n",
       "MT       2\n",
       "TO       1\n",
       "PI       1\n",
       "MA       1\n",
       "PB       1\n",
       "RN       1\n",
       "Name: count, dtype: int64"
      ]
     },
     "execution_count": 10,
     "metadata": {},
     "output_type": "execute_result"
    }
   ],
   "source": [
    "# Contar o número de alunos evadidos por estado\n",
    "contagem_evadidos_por_estado = df_evadidos['ESTADO'].value_counts()\n",
    "contagem_evadidos_por_estado"
   ]
  },
  {
   "cell_type": "code",
   "execution_count": 11,
   "id": "2e5956c6-e711-4b02-bbf2-36c2e195b6f9",
   "metadata": {},
   "outputs": [],
   "source": [
    "# Use groupby para agrupar os dados por 'estado' e aplique a função count() para contar as linhas por estado\n",
    "evadidos_por_estado = df_evadidos.groupby('ESTADO').size().reset_index(name='Número de alunos evadidos')"
   ]
  },
  {
   "cell_type": "code",
   "execution_count": 12,
   "id": "7d196a58-eff0-49eb-bff8-aacbe920f35b",
   "metadata": {},
   "outputs": [
    {
     "data": {
      "text/plain": [
       "ESTADO\n",
       "MG    29320\n",
       "RJ     3410\n",
       "SP      736\n",
       "ES      351\n",
       "BA       84\n",
       "DF       41\n",
       "GO       37\n",
       "RS       27\n",
       "PA       24\n",
       "MS       23\n",
       "PR       16\n",
       "CE       14\n",
       "MT       14\n",
       "RO       12\n",
       "SE        8\n",
       "SC        8\n",
       "MA        7\n",
       "AM        6\n",
       "PB        5\n",
       "PE        4\n",
       "AC        4\n",
       "RN        4\n",
       "TO        2\n",
       "RR        2\n",
       "AP        2\n",
       "PI        1\n",
       "Name: count, dtype: int64"
      ]
     },
     "execution_count": 12,
     "metadata": {},
     "output_type": "execute_result"
    }
   ],
   "source": [
    "# Contar o número total de alunos por estado\n",
    "contagem_total_por_estado = df_completo['ESTADO'].value_counts()\n",
    "contagem_total_por_estado"
   ]
  },
  {
   "cell_type": "code",
   "execution_count": 13,
   "id": "55bebff6-ea77-43fe-baf2-57773eae5b1a",
   "metadata": {},
   "outputs": [],
   "source": [
    "# Garantir que as séries tenham os mesmos índices para a divisão\n",
    "evadidos_por_estado = contagem_total_por_estado.reindex(contagem_total_por_estado.index, fill_value=0)"
   ]
  },
  {
   "cell_type": "code",
   "execution_count": 14,
   "id": "47809843-519c-483d-b127-97db9e7f0f2d",
   "metadata": {},
   "outputs": [
    {
     "data": {
      "text/plain": [
       "ESTADO\n",
       "AC     75.000000\n",
       "AM     33.333333\n",
       "AP           NaN\n",
       "BA     33.333333\n",
       "CE     50.000000\n",
       "DF     36.585366\n",
       "ES     30.199430\n",
       "GO     27.027027\n",
       "MA     14.285714\n",
       "MG     29.208731\n",
       "MS     30.434783\n",
       "MT     14.285714\n",
       "PA     29.166667\n",
       "PB     20.000000\n",
       "PE           NaN\n",
       "PI    100.000000\n",
       "PR     37.500000\n",
       "RJ     27.155425\n",
       "RN     25.000000\n",
       "RO     41.666667\n",
       "RR           NaN\n",
       "RS     37.037037\n",
       "SC     37.500000\n",
       "SE     50.000000\n",
       "SP     31.385870\n",
       "TO     50.000000\n",
       "Name: count, dtype: float64"
      ]
     },
     "execution_count": 14,
     "metadata": {},
     "output_type": "execute_result"
    }
   ],
   "source": [
    "# Calcular a proporção de alunos evadidos por estado em relação ao total de alunos por estado\n",
    "proporcao_por_estado = ( contagem_evadidos_por_estado / contagem_total_por_estado ) * 100\n",
    "proporcao_por_estado"
   ]
  },
  {
   "cell_type": "code",
   "execution_count": 47,
   "id": "8b6617ed-2887-4fd7-af2b-3e47bb6a0938",
   "metadata": {},
   "outputs": [
    {
     "data": {
      "text/plain": [
       "<bound method NDFrame.head of ESTADO\n",
       "PI    100.000000\n",
       "AC     75.000000\n",
       "SE     50.000000\n",
       "TO     50.000000\n",
       "CE     50.000000\n",
       "RO     41.666667\n",
       "PR     37.500000\n",
       "SC     37.500000\n",
       "RS     37.037037\n",
       "DF     36.585366\n",
       "AM     33.333333\n",
       "BA     33.333333\n",
       "SP     31.385870\n",
       "MS     30.434783\n",
       "ES     30.199430\n",
       "MG     29.208731\n",
       "PA     29.166667\n",
       "RJ     27.155425\n",
       "GO     27.027027\n",
       "RN     25.000000\n",
       "PB     20.000000\n",
       "MT     14.285714\n",
       "MA     14.285714\n",
       "AP           NaN\n",
       "PE           NaN\n",
       "RR           NaN\n",
       "Name: count, dtype: float64>"
      ]
     },
     "execution_count": 47,
     "metadata": {},
     "output_type": "execute_result"
    }
   ],
   "source": [
    "# Ordenar o DataFrame por proporção\n",
    "proporcao_por_estado = proporcao_por_estado.sort_values(ascending=False)\n",
    "proporcao_por_estado.head"
   ]
  },
  {
   "cell_type": "code",
   "execution_count": 23,
   "id": "4af5649a-06a7-4a62-badd-3725d8583247",
   "metadata": {},
   "outputs": [
    {
     "name": "stderr",
     "output_type": "stream",
     "text": [
      "posx and posy should be finite values\n",
      "posx and posy should be finite values\n",
      "posx and posy should be finite values\n",
      "posx and posy should be finite values\n",
      "posx and posy should be finite values\n",
      "posx and posy should be finite values\n"
     ]
    },
    {
     "data": {
      "image/png": "[encoded data removed]",
      "text/plain": [
       "<Figure size 2000x600 with 1 Axes>"
      ]
     },
     "metadata": {},
     "output_type": "display_data"
    }
   ],
   "source": [
    "# Criar um gráfico de barras\n",
    "plt.figure(figsize=(20, 6))\n",
    "bars = proporcao_por_estado.plot(kind='bar')\n",
    "plt.title('Proporção de Alunos Evadidos por Estado')\n",
    "plt.xlabel('ESTADO')\n",
    "plt.ylabel('Proporção (%)')\n",
    "\n",
    "# Adicionar os números nas barras\n",
    "for i, v in enumerate(proporcao_por_estado):\n",
    "    plt.text(i, v + 0.5, f'{v:.2f}%', ha='center', va='bottom')\n",
    "\n",
    "plt.show()\n",
    "\n",
    "#interpretar esse dado levando em consideração os números absolutos, pois PI possui 1 ingresso e 1 evadido dando a proporção de 100%. Abaixo temos os 4 principais estados\n",
    "#com alunos ingressantes e evadidos. Destacar estes na discussão.\n",
    "# MG   29320\n",
    "#RJ     3410\n",
    "#SP      736\n",
    "#ES      351"
   ]
  },
  {
   "cell_type": "code",
   "execution_count": 45,
   "id": "7915859d-1ef8-4b96-b684-597da941ca4d",
   "metadata": {},
   "outputs": [],
   "source": [
    "data = {\n",
    "    'Estado': ['PI', 'AC', 'SE', 'TO', 'CE', 'RO', 'PR', 'SC', 'RS', 'DF', 'AM', 'BA', 'SP', 'MS', 'ES', 'MG', 'PA', 'RJ', 'GO', 'RN', 'PB', 'MT', 'MA', 'AP', 'PE', 'RR'],\n",
    "    'Proporcao_Evasao': [100.0, 75.0, 50.0, 50.0, 50.0, 41.67, 37.5, 37.5, 37.04, 36.59, 33.33, 33.33, 31.39, 30.43, 30.2, 29.21, 29.17, 27.16, 27.03, 25.0, 20.0, 14.29, 14.29, None, None, None]\n",
    "}\n",
    "df = pd.DataFrame(data)"
   ]
  },
  {
   "cell_type": "code",
   "execution_count": 48,
   "id": "1563a29a-8d07-48ac-9055-a11105efd0d6",
   "metadata": {},
   "outputs": [
    {
     "data": {
      "text/plain": [
       "<bound method NDFrame.head of    Estado  Proporcao_Evasao\n",
       "0      PI            100.00\n",
       "1      AC             75.00\n",
       "2      SE             50.00\n",
       "3      TO             50.00\n",
       "4      CE             50.00\n",
       "5      RO             41.67\n",
       "6      PR             37.50\n",
       "7      SC             37.50\n",
       "8      RS             37.04\n",
       "9      DF             36.59\n",
       "10     AM             33.33\n",
       "11     BA             33.33\n",
       "12     SP             31.39\n",
       "13     MS             30.43\n",
       "14     ES             30.20\n",
       "15     MG             29.21\n",
       "16     PA             29.17\n",
       "17     RJ             27.16\n",
       "18     GO             27.03\n",
       "19     RN             25.00\n",
       "20     PB             20.00\n",
       "21     MT             14.29\n",
       "22     MA             14.29\n",
       "23     AP               NaN\n",
       "24     PE               NaN\n",
       "25     RR               NaN>"
      ]
     },
     "execution_count": 48,
     "metadata": {},
     "output_type": "execute_result"
    }
   ],
   "source": [
    "df.head"
   ]
  },
  {
   "cell_type": "code",
   "execution_count": 49,
   "id": "299440e0-e7fd-45a6-9324-0b5f53c805c0",
   "metadata": {
    "scrolled": true
   },
   "outputs": [
    {
     "data": {
      "image/png": "[encoded data removed]",
      "text/plain": [
       "<Figure size 1200x800 with 2 Axes>"
      ]
     },
     "metadata": {},
     "output_type": "display_data"
    }
   ],
   "source": [
    "# Configure o estilo do gráfico\n",
    "plt.figure(figsize=(12, 8))\n",
    "plt.imshow([df['Proporcao_Evasao'].values], cmap=\"YlGnBu\", aspect='auto', vmin=0, vmax=100)  # Ajuste vmin e vmax conforme necessário\n",
    "plt.xticks(range(len(df)), df['Estado'], rotation=90)\n",
    "plt.colorbar(label='Proporção de Evasão (%)')\n",
    "plt.title('Proporção de Alunos Evasados por Estado no Brasil')\n",
    "plt.show()"
   ]
  },
  {
   "cell_type": "code",
   "execution_count": null,
   "id": "83615a66-0d71-4358-874e-418ea05560fd",
   "metadata": {},
   "outputs": [],
   "source": []
  }
 ],
 "metadata": {
  "kernelspec": {
   "display_name": "Python 3 (ipykernel)",
   "language": "python",
   "name": "python3"
  },
  "language_info": {
   "codemirror_mode": {
    "name": "ipython",
    "version": 3
   },
   "file_extension": ".py",
   "mimetype": "text/x-python",
   "name": "python",
   "nbconvert_exporter": "python",
   "pygments_lexer": "ipython3",
   "version": "3.11.1"
  }
 },
 "nbformat": 4,
 "nbformat_minor": 5
}
