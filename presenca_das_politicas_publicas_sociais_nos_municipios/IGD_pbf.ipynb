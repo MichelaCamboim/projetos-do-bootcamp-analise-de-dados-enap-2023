{
 "cells": [
  {
   "cell_type": "code",
   "execution_count": 1,
   "id": "7d24fcf7-82a5-4432-9572-4de8086e7b16",
   "metadata": {
    "tags": []
   },
   "outputs": [],
   "source": [
    "import pandas as pd"
   ]
  },
  {
   "cell_type": "code",
   "execution_count": 2,
   "id": "68b9056e-f249-404a-9ba1-e95cc73df0da",
   "metadata": {
    "tags": []
   },
   "outputs": [],
   "source": [
    "url_igd = 'https://aplicacoes.mds.gov.br/sagi/servicos/misocial/?q=*&fq=anomes_s:2023*&fl=codigo_ibge%2Canomes_s%20tx_acomp_freq_escol_f%20tx_acomp_agenda_saude_f%20tx_atual_cad_f%20igdm_f%20igd_pbf_fator_redutor_conforme_saldo_f&fq=igdm_f%3A*&q=*%3A*&rows=100000&sort=anomes_s%20desc%2C%20codigo_ibge%20asc&wt=csv'"
   ]
  },
  {
   "cell_type": "code",
   "execution_count": 3,
   "id": "fdb98d16-1bb6-4e51-b185-ff743758f340",
   "metadata": {},
   "outputs": [],
   "source": [
    "dt_igd_PBF = pd.read_csv(url_igd, sep=',')"
   ]
  },
  {
   "cell_type": "code",
   "execution_count": 4,
   "id": "20da63d5-4cb6-424f-a81c-20236782d153",
   "metadata": {
    "tags": []
   },
   "outputs": [
    {
     "data": {
      "text/html": [
       "<div>\n",
       "<style scoped>\n",
       "    .dataframe tbody tr th:only-of-type {\n",
       "        vertical-align: middle;\n",
       "    }\n",
       "\n",
       "    .dataframe tbody tr th {\n",
       "        vertical-align: top;\n",
       "    }\n",
       "\n",
       "    .dataframe thead th {\n",
       "        text-align: right;\n",
       "    }\n",
       "</style>\n",
       "<table border=\"1\" class=\"dataframe\">\n",
       "  <thead>\n",
       "    <tr style=\"text-align: right;\">\n",
       "      <th></th>\n",
       "      <th>codigo_ibge</th>\n",
       "      <th>anomes_s</th>\n",
       "      <th>tx_acomp_freq_escol_f</th>\n",
       "      <th>tx_acomp_agenda_saude_f</th>\n",
       "      <th>tx_atual_cad_f</th>\n",
       "      <th>igdm_f</th>\n",
       "      <th>igd_pbf_fator_redutor_conforme_saldo_f</th>\n",
       "    </tr>\n",
       "  </thead>\n",
       "  <tbody>\n",
       "    <tr>\n",
       "      <th>0</th>\n",
       "      <td>110001</td>\n",
       "      <td>202307</td>\n",
       "      <td>0.8523</td>\n",
       "      <td>0.8273</td>\n",
       "      <td>0.7713</td>\n",
       "      <td>0.8056</td>\n",
       "      <td>0.6</td>\n",
       "    </tr>\n",
       "    <tr>\n",
       "      <th>1</th>\n",
       "      <td>110002</td>\n",
       "      <td>202307</td>\n",
       "      <td>864.0000</td>\n",
       "      <td>0.5968</td>\n",
       "      <td>0.8056</td>\n",
       "      <td>768.0000</td>\n",
       "      <td>0.8</td>\n",
       "    </tr>\n",
       "    <tr>\n",
       "      <th>2</th>\n",
       "      <td>110003</td>\n",
       "      <td>202307</td>\n",
       "      <td>0.4569</td>\n",
       "      <td>0.8756</td>\n",
       "      <td>0.8253</td>\n",
       "      <td>0.7458</td>\n",
       "      <td>0.1</td>\n",
       "    </tr>\n",
       "    <tr>\n",
       "      <th>3</th>\n",
       "      <td>110004</td>\n",
       "      <td>202307</td>\n",
       "      <td>0.9338</td>\n",
       "      <td>0.7357</td>\n",
       "      <td>0.8348</td>\n",
       "      <td>0.8348</td>\n",
       "      <td>0.8</td>\n",
       "    </tr>\n",
       "    <tr>\n",
       "      <th>4</th>\n",
       "      <td>110005</td>\n",
       "      <td>202307</td>\n",
       "      <td>0.8883</td>\n",
       "      <td>0.7817</td>\n",
       "      <td>755.0000</td>\n",
       "      <td>795.0000</td>\n",
       "      <td>1.0</td>\n",
       "    </tr>\n",
       "  </tbody>\n",
       "</table>\n",
       "</div>"
      ],
      "text/plain": [
       "   codigo_ibge  anomes_s  tx_acomp_freq_escol_f  tx_acomp_agenda_saude_f  \\\n",
       "0       110001    202307                 0.8523                   0.8273   \n",
       "1       110002    202307               864.0000                   0.5968   \n",
       "2       110003    202307                 0.4569                   0.8756   \n",
       "3       110004    202307                 0.9338                   0.7357   \n",
       "4       110005    202307                 0.8883                   0.7817   \n",
       "\n",
       "   tx_atual_cad_f    igdm_f  igd_pbf_fator_redutor_conforme_saldo_f  \n",
       "0          0.7713    0.8056                                     0.6  \n",
       "1          0.8056  768.0000                                     0.8  \n",
       "2          0.8253    0.7458                                     0.1  \n",
       "3          0.8348    0.8348                                     0.8  \n",
       "4        755.0000  795.0000                                     1.0  "
      ]
     },
     "execution_count": 4,
     "metadata": {},
     "output_type": "execute_result"
    }
   ],
   "source": [
    "dt_igd_PBF.head()"
   ]
  },
  {
   "cell_type": "code",
   "execution_count": 5,
   "id": "9b2ed695-1701-4263-b73e-8e26e1afb7b0",
   "metadata": {
    "tags": []
   },
   "outputs": [
    {
     "name": "stdout",
     "output_type": "stream",
     "text": [
      "<class 'pandas.core.frame.DataFrame'>\n",
      "RangeIndex: 27850 entries, 0 to 27849\n",
      "Data columns (total 7 columns):\n",
      " #   Column                                  Non-Null Count  Dtype  \n",
      "---  ------                                  --------------  -----  \n",
      " 0   codigo_ibge                             27850 non-null  int64  \n",
      " 1   anomes_s                                27850 non-null  int64  \n",
      " 2   tx_acomp_freq_escol_f                   27850 non-null  float64\n",
      " 3   tx_acomp_agenda_saude_f                 27850 non-null  float64\n",
      " 4   tx_atual_cad_f                          27850 non-null  float64\n",
      " 5   igdm_f                                  27850 non-null  float64\n",
      " 6   igd_pbf_fator_redutor_conforme_saldo_f  27850 non-null  float64\n",
      "dtypes: float64(5), int64(2)\n",
      "memory usage: 1.5 MB\n"
     ]
    }
   ],
   "source": [
    "dt_igd_PBF.info()"
   ]
  },
  {
   "cell_type": "code",
   "execution_count": null,
   "id": "7dad6464-45c7-46b8-947e-b34b03bb6f5f",
   "metadata": {},
   "outputs": [],
   "source": []
  }
 ],
 "metadata": {
  "kernelspec": {
   "display_name": "Python 3 (ipykernel)",
   "language": "python",
   "name": "python3"
  },
  "language_info": {
   "codemirror_mode": {
    "name": "ipython",
    "version": 3
   },
   "file_extension": ".py",
   "mimetype": "text/x-python",
   "name": "python",
   "nbconvert_exporter": "python",
   "pygments_lexer": "ipython3",
   "version": "3.11.4"
  }
 },
 "nbformat": 4,
 "nbformat_minor": 5
}
