{
 "cells": [
  {
   "cell_type": "code",
   "execution_count": 1,
   "id": "fca6c60c-7b9d-429e-af9c-110398763bd3",
   "metadata": {},
   "outputs": [],
   "source": [
    "import geopandas as gpd"
   ]
  },
  {
   "cell_type": "code",
   "execution_count": 2,
   "id": "50a9e9eb-41eb-44cd-852a-7a88f62e7502",
   "metadata": {},
   "outputs": [],
   "source": [
    "import pandas as pd\n",
    "import requests\n",
    "from geojson_rewind import rewind\n",
    "import json"
   ]
  },
  {
   "cell_type": "code",
   "execution_count": 3,
   "id": "5d0809d9-0fb8-4e7f-82c8-8327aa775872",
   "metadata": {},
   "outputs": [],
   "source": [
    "georreferenciamento_df = pd.read_csv('https://raw.githubusercontent.com/kelvins/Municipios-Brasileiros/main/csv/municipios.csv')"
   ]
  },
  {
   "cell_type": "code",
   "execution_count": 4,
   "id": "61d0527a-f234-4aae-b510-af54303b2882",
   "metadata": {},
   "outputs": [],
   "source": [
    "georreferenciamento_df['codigo_ibge'] = georreferenciamento_df['codigo_ibge'].astype('str').map(lambda x: x[:-1]).astype('int')"
   ]
  },
  {
   "cell_type": "code",
   "execution_count": 5,
   "id": "ca1d0990-f938-4b0d-9461-d2e818ebf17b",
   "metadata": {},
   "outputs": [],
   "source": [
    "georreferenciamento_df.to_csv('Streamlit\\data\\georreferenciamento_df.csv',encoding = 'UTF-8')"
   ]
  },
  {
   "cell_type": "code",
   "execution_count": 6,
   "id": "e496ee40-f394-4683-a722-3c5f05290b0d",
   "metadata": {},
   "outputs": [],
   "source": [
    "geojson = requests.get(f'http://servicodados.ibge.gov.br/api/v3/malhas/paises/BR?formato=application/vnd.geo+json&qualidade=minima&intrarregiao=municipio').json()"
   ]
  },
  {
   "cell_type": "code",
   "execution_count": 8,
   "id": "61e32130-8080-46ee-89bb-5c62b62cdce4",
   "metadata": {},
   "outputs": [],
   "source": [
    "for feature in geojson['features']:\n",
    "    feature['properties']['codarea'] = feature['properties']['codarea'][:-1]\n",
    "geojson = rewind(geojson, rfc7946=False)\n"
   ]
  },
  {
   "cell_type": "code",
   "execution_count": 10,
   "id": "48d08b99-cc70-4768-9dc4-07d80617d155",
   "metadata": {},
   "outputs": [],
   "source": [
    "with open('Streamlit\\data\\geojson', 'w') as arquivo_geojson:\n",
    "    # Escreve os dados GeoJSON no arquivo\n",
    "    json.dump(geojson, arquivo_geojson)\n",
    "\n"
   ]
  },
  {
   "cell_type": "code",
   "execution_count": null,
   "id": "359ca07e-1da0-4fab-a6e6-724ee92292cc",
   "metadata": {},
   "outputs": [],
   "source": []
  }
 ],
 "metadata": {
  "kernelspec": {
   "display_name": "Python 3 (ipykernel)",
   "language": "python",
   "name": "python3"
  },
  "language_info": {
   "codemirror_mode": {
    "name": "ipython",
    "version": 3
   },
   "file_extension": ".py",
   "mimetype": "text/x-python",
   "name": "python",
   "nbconvert_exporter": "python",
   "pygments_lexer": "ipython3",
   "version": "3.11.6"
  }
 },
 "nbformat": 4,
 "nbformat_minor": 5
}
