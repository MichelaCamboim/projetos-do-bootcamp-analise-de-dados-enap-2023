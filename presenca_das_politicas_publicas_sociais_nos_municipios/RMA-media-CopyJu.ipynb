{
 "cells": [
  {
   "cell_type": "markdown",
   "id": "94941f3c-7963-407f-93ea-cd259d976999",
   "metadata": {},
   "source": [
    "BAIXAR relatórios:\n",
    "\n",
    "REGISTRO MENSAL DE ATENDIMENTOS DOS CRAS (RMA) – FORMULÁRIO DO CRAS\n",
    "\n",
    "Variáveis do Bloco II – Atendimentos individualizados realizados no CRAS\n",
    "\n",
    "C1 = Quantidade total de atendimentos particularizados realizados no CRAS no mês de referência\n"
   ]
  },
  {
   "cell_type": "markdown",
   "id": "4db739c3-0f7a-4d2b-ab5e-073a1c6d75c6",
   "metadata": {},
   "source": [
    "Código para baixar os endereços dos arquivos na página"
   ]
  },
  {
   "cell_type": "code",
   "execution_count": 1,
   "id": "71e2b0bf-63c0-4848-a852-800ee448313d",
   "metadata": {},
   "outputs": [],
   "source": [
    "import os\n",
    "\n",
    "def baixar_arquivo(url, local_filename=None):\n",
    "    \"\"\"Baixa e salva o arquivo de uma url.\"\"\"\n",
    "    # Se o nome do arquivo não foi passado como parâmetro, extrair da url.\n",
    "    if local_filename is None:\n",
    "        local_filename = os.path.join(\"./data\", url.split('/')[-1])\n",
    "\n",
    "    #verifica se arquivo já foi baixado\n",
    "    if os.path.exists(local_filename):\n",
    "        print(f'Arquivo {local_filename} já baixado!')\n",
    "        return None\n",
    "    else:\n",
    "        print('Solicitando arquivo do servidor.')\n",
    "        response = requests.get(url, stream=True)\n",
    "        response.raise_for_status()\n",
    "\n",
    "        with open(local_filename, 'wb') as f:\n",
    "            print(f\"Baixando arquivo da url: {url}\")\n",
    "            for chunk in response.iter_content(chunk_size=8192): \n",
    "                f.write(chunk)\n",
    "            return \"Arquivo baixado!\"\n",
    "\n"
   ]
  },
  {
   "cell_type": "code",
   "execution_count": 2,
   "id": "05f972a1-2e05-4370-a276-2e9f00c3f5f8",
   "metadata": {},
   "outputs": [],
   "source": [
    "def read_page(url):\n",
    "    print(f'Fazendo requisição GET para o link: {url}')\n",
    "    response = requests.get(url)\n",
    "    response.raise_for_status() #Levanta uma exceção caso haja erro na requisição.\n",
    "    \n",
    "    if response.status_code == 200:\n",
    "        content = response.text\n",
    "        return content"
   ]
  },
  {
   "cell_type": "markdown",
   "id": "e6ca0f90-4213-4ecc-98e0-a69c69fad4ab",
   "metadata": {},
   "source": [
    "Informar a página"
   ]
  },
  {
   "cell_type": "code",
   "execution_count": 3,
   "id": "fe86f470-9029-419e-85d0-c87418693e5c",
   "metadata": {},
   "outputs": [
    {
     "name": "stdout",
     "output_type": "stream",
     "text": [
      "Fazendo requisição GET para o link: https://aplicacoes.mds.gov.br/snas/vigilancia/index2.php\n"
     ]
    }
   ],
   "source": [
    "import requests\n",
    "from bs4 import BeautifulSoup\n",
    "import time\n",
    "\n",
    "TIME_TO_SLEEP = 120\n",
    "\n",
    "url = 'https://aplicacoes.mds.gov.br/snas/vigilancia/index2.php'\n",
    "\n",
    "content = read_page(url)\n",
    "soup = BeautifulSoup(content, 'html.parser')"
   ]
  },
  {
   "cell_type": "markdown",
   "id": "7f802a32-82ae-401a-976c-ab87dd82396d",
   "metadata": {},
   "source": [
    "Informar a marcação em que os endereços dos arquivos estão no HTML"
   ]
  },
  {
   "cell_type": "code",
   "execution_count": 4,
   "id": "efc65c66-5a5c-4cae-8a83-2039634ca4ea",
   "metadata": {},
   "outputs": [],
   "source": [
    " section = soup.find('body')\n",
    " links=section.find_all('a')\n",
    " "
   ]
  },
  {
   "cell_type": "markdown",
   "id": "3057fbcb-3988-4a05-8fc6-13e5cb9e9dd0",
   "metadata": {},
   "source": [
    "Todos os links da página"
   ]
  },
  {
   "cell_type": "code",
   "execution_count": 5,
   "id": "967c164d-b612-444e-8fb5-61f03b83fc19",
   "metadata": {},
   "outputs": [
    {
     "data": {
      "text/plain": [
       "171"
      ]
     },
     "execution_count": 5,
     "metadata": {},
     "output_type": "execute_result"
    }
   ],
   "source": [
    "len(links)"
   ]
  },
  {
   "cell_type": "code",
   "execution_count": 6,
   "id": "60511347-d291-4ebb-9eae-a4871f40a77b",
   "metadata": {},
   "outputs": [
    {
     "data": {
      "text/plain": [
       "<a href=\"https://aplicacoes.mds.gov.br/sagi/dicivip_datain/ckfinder/userfiles/files/8%20-%20POSTO%20DE%20CADASTRAMENTO.rar\">POSTO DE CADASTRAMENTO</a>"
      ]
     },
     "execution_count": 6,
     "metadata": {},
     "output_type": "execute_result"
    }
   ],
   "source": [
    "links[10]"
   ]
  },
  {
   "cell_type": "markdown",
   "id": "4d4c1a1d-4ec1-428f-b7e3-58ecf4eddd2e",
   "metadata": {},
   "source": [
    "Identificar apenas os links que possuem o termo CRAS"
   ]
  },
  {
   "cell_type": "code",
   "execution_count": 7,
   "id": "b7bf4230-e080-464d-9473-648104b7e377",
   "metadata": {
    "scrolled": true
   },
   "outputs": [],
   "source": [
    "CRAS=[]\n",
    "\n",
    "for item in links:\n",
    "    link = item['href']\n",
    "    term_link = link[75:83]\n",
    "    if term_link == 'RMA_CRAS':\n",
    "        CRAS.append(link)\n",
    "        \n"
   ]
  },
  {
   "cell_type": "code",
   "execution_count": 8,
   "id": "663b8b12-d35a-4ca9-a900-f12348ccd50f",
   "metadata": {},
   "outputs": [
    {
     "data": {
      "text/plain": [
       "['https://aplicacoes.mds.gov.br/sagi/dicivip_datain/ckfinder/userfiles/files/RMA_CRAS_Criterios_2023_divulga%C3%A7%C3%A3o_030423.zip',\n",
       " 'https://aplicacoes.mds.gov.br/sagi/dicivip_datain/ckfinder/userfiles/files/RMA_CRAS_Criterios_2022_divulga%C3%A7%C3%A3o_27_03_23.xlsx',\n",
       " 'https://aplicacoes.mds.gov.br/sagi/dicivip_datain/ckfinder/userfiles/files/RMA_CRAS_Criterios_2021_divulga%C3%A7%C3%A3o.zip',\n",
       " 'https://aplicacoes.mds.gov.br/sagi/dicivip_datain/ckfinder/userfiles/files/RMA_CRAS_Criterios_2020_divulga%C3%A7%C3%A3o(2).zip',\n",
       " 'https://aplicacoes.mds.gov.br/sagi/dicivip_datain/ckfinder/userfiles/files/RMA_CRAS_NovoCriterios_2019_divulga%C3%A7%C3%A3o.zip',\n",
       " 'https://aplicacoes.mds.gov.br/sagi/dicivip_datain/ckfinder/userfiles/files/RMA_CRAS_NovoCriterios_2018_divulga%C3%A7%C3%A3o.zip',\n",
       " 'https://aplicacoes.mds.gov.br/sagi/dicivip_datain/ckfinder/userfiles/files/RMA_CRAS_NovoCriterios_2017_divulga%C3%A7%C3%A3o.zip',\n",
       " 'https://aplicacoes.mds.gov.br/sagi/dicivip_datain/ckfinder/userfiles/files/RMA_CRAS_Criterios_2022_divulga%C3%A7%C3%A3o_11_04_22.zip',\n",
       " 'https://aplicacoes.mds.gov.br/sagi/dicivip_datain/ckfinder/userfiles/files/RMA_CRAS_Criterios_2021_divulga%C3%A7%C3%A3o_07_03_22.zip',\n",
       " 'https://aplicacoes.mds.gov.br/sagi/dicivip_datain/ckfinder/userfiles/files/RMA_CRAS_Criterios_2020_divulga%C3%A7%C3%A3o.zip',\n",
       " 'https://aplicacoes.mds.gov.br/sagi/dicivip_datain/ckfinder/userfiles/files/RMA_CRAS_Criterios_2019_divulga%C3%A7%C3%A3o_08_04_2020.zip',\n",
       " 'https://aplicacoes.mds.gov.br/sagi/dicivip_datain/ckfinder/userfiles/files/RMA_CRAS_criterios%20%202018_divulga%C3%A7%C3%A3o_10_07_19.zip']"
      ]
     },
     "execution_count": 8,
     "metadata": {},
     "output_type": "execute_result"
    }
   ],
   "source": [
    "CRAS"
   ]
  },
  {
   "cell_type": "markdown",
   "id": "331ea44b-f710-419c-b9f9-3e575a4add86",
   "metadata": {},
   "source": [
    "Pegar apenas o link de 2022 - segundo arquivo"
   ]
  },
  {
   "cell_type": "code",
   "execution_count": 9,
   "id": "afc6499a-5484-4728-a379-0d8e322b2ada",
   "metadata": {},
   "outputs": [
    {
     "name": "stdout",
     "output_type": "stream",
     "text": [
      "Arquivo ./data\\RMA_CRAS_Criterios_2022_divulga%C3%A7%C3%A3o_27_03_23.xlsx já baixado!\n",
      "Link para download não encontrado.\n"
     ]
    }
   ],
   "source": [
    "for item in CRAS[1:2]:\n",
    "    if baixar_arquivo(item):\n",
    "        print('Esperando 120s para solicitar próximo download...')\n",
    "        time.sleep(TIME_TO_SLEEP)\n",
    "    else:\n",
    "        print(\"Link para download não encontrado.\")         "
   ]
  },
  {
   "cell_type": "markdown",
   "id": "c9d1403e-f40b-49a0-b1f4-8874946d9907",
   "metadata": {},
   "source": [
    "Descompactar o arquivo - ZIP na pasta data"
   ]
  },
  {
   "cell_type": "code",
   "execution_count": 10,
   "id": "a3a42a15-2e01-49b1-96ac-5173b6e3783b",
   "metadata": {
    "scrolled": true
   },
   "outputs": [],
   "source": [
    "#import os\n",
    "#import zipfile\n",
    "\n",
    "##caminho = os.getcwd()\n",
    "#caminho = 'data'\n",
    "#arquivos = os.listdir(caminho)"
   ]
  },
  {
   "cell_type": "code",
   "execution_count": 11,
   "id": "87be2f84-b4fe-42eb-91d4-14488a450937",
   "metadata": {
    "scrolled": true
   },
   "outputs": [],
   "source": [
    "#for arquivo in arquivos:\n",
    "#    if arquivo.endswith('.zip'):\n",
    "#        caminho_completo = os.path.join(caminho, arquivo)\n",
    "#\n",
    "#        with zipfile.ZipFile(caminho_completo, 'r') as zip_ref:\n",
    "#            zip_ref.extractall(caminho)"
   ]
  },
  {
   "cell_type": "code",
   "execution_count": 12,
   "id": "fbd4eb3a-160b-4ab2-9d8d-6cd1db0faa3b",
   "metadata": {},
   "outputs": [],
   "source": [
    "import pandas as pd \n"
   ]
  },
  {
   "cell_type": "code",
   "execution_count": 13,
   "id": "2d5eabcf-a884-495a-8a68-ab7e5b5dc377",
   "metadata": {},
   "outputs": [],
   "source": [
    "#arquivos=[]\n",
    "#for file in os.listdir(caminho):\n",
    "#    if file.endswith(\".xlsx\"):\n",
    "#        print(f'Carregando arquivo {file} ...')\n",
    "#        arquivos.append(pd.read_excel(os.path.join(caminho,file), sheet_name=\"Base tratada\"))"
   ]
  },
  {
   "cell_type": "markdown",
   "id": "d6f5cba9-76b9-4d24-826c-88d06eafb3e0",
   "metadata": {},
   "source": [
    "Buscar apenas os arquivos terminados em XLSX na pasta data"
   ]
  },
  {
   "cell_type": "code",
   "execution_count": 14,
   "id": "86d017fd-f0ed-46f1-840f-d3d2e372f2e3",
   "metadata": {},
   "outputs": [],
   "source": [
    "import glob\n",
    "caminho = 'data'\n",
    "os.chdir(caminho)\n",
    "arquivos2 = glob.glob('*.xlsx')\n"
   ]
  },
  {
   "cell_type": "markdown",
   "id": "d1b57c2c-ccab-449a-9016-d978b7875e21",
   "metadata": {},
   "source": [
    "Juntar arquivos em um dataframe"
   ]
  },
  {
   "cell_type": "code",
   "execution_count": 15,
   "id": "659512a1-31f6-49eb-808c-5eb41ae20d38",
   "metadata": {},
   "outputs": [
    {
     "data": {
      "text/plain": [
       "['Censo_2010_pop.xlsx',\n",
       " 'RMA_CRAS_Criterios_2022_divulga%C3%A7%C3%A3o_27_03_23.xlsx']"
      ]
     },
     "execution_count": 15,
     "metadata": {},
     "output_type": "execute_result"
    }
   ],
   "source": [
    "arquivos2"
   ]
  },
  {
   "cell_type": "markdown",
   "id": "0ea7c3ff-51fb-4e6d-819f-744a071bb7b4",
   "metadata": {},
   "source": [
    "Abrir apenas uma aba especifica do XLSX"
   ]
  },
  {
   "cell_type": "code",
   "execution_count": 16,
   "id": "fe015519-83d6-4036-a933-dc687569b9fb",
   "metadata": {},
   "outputs": [
    {
     "name": "stdout",
     "output_type": "stream",
     "text": [
      "Carregando arquivo <pandas.io.excel._base.ExcelFile object at 0x000001CFF3D59250> ...\n"
     ]
    },
    {
     "ename": "ValueError",
     "evalue": "Worksheet named 'Base tratada' not found",
     "output_type": "error",
     "traceback": [
      "\u001b[1;31m---------------------------------------------------------------------------\u001b[0m",
      "\u001b[1;31mValueError\u001b[0m                                Traceback (most recent call last)",
      "Cell \u001b[1;32mIn[16], line 6\u001b[0m\n\u001b[0;32m      4\u001b[0m     dados \u001b[38;5;241m=\u001b[39m pd\u001b[38;5;241m.\u001b[39mExcelFile(x)\n\u001b[0;32m      5\u001b[0m     \u001b[38;5;28mprint\u001b[39m(\u001b[38;5;124mf\u001b[39m\u001b[38;5;124m'\u001b[39m\u001b[38;5;124mCarregando arquivo \u001b[39m\u001b[38;5;132;01m{\u001b[39;00mdados\u001b[38;5;132;01m}\u001b[39;00m\u001b[38;5;124m ...\u001b[39m\u001b[38;5;124m'\u001b[39m)\n\u001b[1;32m----> 6\u001b[0m     tabelas\u001b[38;5;241m.\u001b[39mappend(\u001b[43mpd\u001b[49m\u001b[38;5;241;43m.\u001b[39;49m\u001b[43mread_excel\u001b[49m\u001b[43m(\u001b[49m\u001b[43mdados\u001b[49m\u001b[43m,\u001b[49m\u001b[43msheet_name\u001b[49m\u001b[38;5;241;43m=\u001b[39;49m\u001b[38;5;124;43m\"\u001b[39;49m\u001b[38;5;124;43mBase tratada\u001b[39;49m\u001b[38;5;124;43m\"\u001b[39;49m\u001b[43m)\u001b[49m)\n\u001b[0;32m      8\u001b[0m \u001b[38;5;28mprint\u001b[39m(\u001b[38;5;124m'\u001b[39m\u001b[38;5;124mfim\u001b[39m\u001b[38;5;124m'\u001b[39m)\n",
      "File \u001b[1;32m~\\AppData\\Local\\Programs\\Python\\Python311\\Lib\\site-packages\\pandas\\io\\excel\\_base.py:517\u001b[0m, in \u001b[0;36mread_excel\u001b[1;34m(io, sheet_name, header, names, index_col, usecols, dtype, engine, converters, true_values, false_values, skiprows, nrows, na_values, keep_default_na, na_filter, verbose, parse_dates, date_parser, date_format, thousands, decimal, comment, skipfooter, storage_options, dtype_backend, engine_kwargs)\u001b[0m\n\u001b[0;32m    511\u001b[0m     \u001b[38;5;28;01mraise\u001b[39;00m \u001b[38;5;167;01mValueError\u001b[39;00m(\n\u001b[0;32m    512\u001b[0m         \u001b[38;5;124m\"\u001b[39m\u001b[38;5;124mEngine should not be specified when passing \u001b[39m\u001b[38;5;124m\"\u001b[39m\n\u001b[0;32m    513\u001b[0m         \u001b[38;5;124m\"\u001b[39m\u001b[38;5;124man ExcelFile - ExcelFile already has the engine set\u001b[39m\u001b[38;5;124m\"\u001b[39m\n\u001b[0;32m    514\u001b[0m     )\n\u001b[0;32m    516\u001b[0m \u001b[38;5;28;01mtry\u001b[39;00m:\n\u001b[1;32m--> 517\u001b[0m     data \u001b[38;5;241m=\u001b[39m \u001b[43mio\u001b[49m\u001b[38;5;241;43m.\u001b[39;49m\u001b[43mparse\u001b[49m\u001b[43m(\u001b[49m\n\u001b[0;32m    518\u001b[0m \u001b[43m        \u001b[49m\u001b[43msheet_name\u001b[49m\u001b[38;5;241;43m=\u001b[39;49m\u001b[43msheet_name\u001b[49m\u001b[43m,\u001b[49m\n\u001b[0;32m    519\u001b[0m \u001b[43m        \u001b[49m\u001b[43mheader\u001b[49m\u001b[38;5;241;43m=\u001b[39;49m\u001b[43mheader\u001b[49m\u001b[43m,\u001b[49m\n\u001b[0;32m    520\u001b[0m \u001b[43m        \u001b[49m\u001b[43mnames\u001b[49m\u001b[38;5;241;43m=\u001b[39;49m\u001b[43mnames\u001b[49m\u001b[43m,\u001b[49m\n\u001b[0;32m    521\u001b[0m \u001b[43m        \u001b[49m\u001b[43mindex_col\u001b[49m\u001b[38;5;241;43m=\u001b[39;49m\u001b[43mindex_col\u001b[49m\u001b[43m,\u001b[49m\n\u001b[0;32m    522\u001b[0m \u001b[43m        \u001b[49m\u001b[43musecols\u001b[49m\u001b[38;5;241;43m=\u001b[39;49m\u001b[43musecols\u001b[49m\u001b[43m,\u001b[49m\n\u001b[0;32m    523\u001b[0m \u001b[43m        \u001b[49m\u001b[43mdtype\u001b[49m\u001b[38;5;241;43m=\u001b[39;49m\u001b[43mdtype\u001b[49m\u001b[43m,\u001b[49m\n\u001b[0;32m    524\u001b[0m \u001b[43m        \u001b[49m\u001b[43mconverters\u001b[49m\u001b[38;5;241;43m=\u001b[39;49m\u001b[43mconverters\u001b[49m\u001b[43m,\u001b[49m\n\u001b[0;32m    525\u001b[0m \u001b[43m        \u001b[49m\u001b[43mtrue_values\u001b[49m\u001b[38;5;241;43m=\u001b[39;49m\u001b[43mtrue_values\u001b[49m\u001b[43m,\u001b[49m\n\u001b[0;32m    526\u001b[0m \u001b[43m        \u001b[49m\u001b[43mfalse_values\u001b[49m\u001b[38;5;241;43m=\u001b[39;49m\u001b[43mfalse_values\u001b[49m\u001b[43m,\u001b[49m\n\u001b[0;32m    527\u001b[0m \u001b[43m        \u001b[49m\u001b[43mskiprows\u001b[49m\u001b[38;5;241;43m=\u001b[39;49m\u001b[43mskiprows\u001b[49m\u001b[43m,\u001b[49m\n\u001b[0;32m    528\u001b[0m \u001b[43m        \u001b[49m\u001b[43mnrows\u001b[49m\u001b[38;5;241;43m=\u001b[39;49m\u001b[43mnrows\u001b[49m\u001b[43m,\u001b[49m\n\u001b[0;32m    529\u001b[0m \u001b[43m        \u001b[49m\u001b[43mna_values\u001b[49m\u001b[38;5;241;43m=\u001b[39;49m\u001b[43mna_values\u001b[49m\u001b[43m,\u001b[49m\n\u001b[0;32m    530\u001b[0m \u001b[43m        \u001b[49m\u001b[43mkeep_default_na\u001b[49m\u001b[38;5;241;43m=\u001b[39;49m\u001b[43mkeep_default_na\u001b[49m\u001b[43m,\u001b[49m\n\u001b[0;32m    531\u001b[0m \u001b[43m        \u001b[49m\u001b[43mna_filter\u001b[49m\u001b[38;5;241;43m=\u001b[39;49m\u001b[43mna_filter\u001b[49m\u001b[43m,\u001b[49m\n\u001b[0;32m    532\u001b[0m \u001b[43m        \u001b[49m\u001b[43mverbose\u001b[49m\u001b[38;5;241;43m=\u001b[39;49m\u001b[43mverbose\u001b[49m\u001b[43m,\u001b[49m\n\u001b[0;32m    533\u001b[0m \u001b[43m        \u001b[49m\u001b[43mparse_dates\u001b[49m\u001b[38;5;241;43m=\u001b[39;49m\u001b[43mparse_dates\u001b[49m\u001b[43m,\u001b[49m\n\u001b[0;32m    534\u001b[0m \u001b[43m        \u001b[49m\u001b[43mdate_parser\u001b[49m\u001b[38;5;241;43m=\u001b[39;49m\u001b[43mdate_parser\u001b[49m\u001b[43m,\u001b[49m\n\u001b[0;32m    535\u001b[0m \u001b[43m        \u001b[49m\u001b[43mdate_format\u001b[49m\u001b[38;5;241;43m=\u001b[39;49m\u001b[43mdate_format\u001b[49m\u001b[43m,\u001b[49m\n\u001b[0;32m    536\u001b[0m \u001b[43m        \u001b[49m\u001b[43mthousands\u001b[49m\u001b[38;5;241;43m=\u001b[39;49m\u001b[43mthousands\u001b[49m\u001b[43m,\u001b[49m\n\u001b[0;32m    537\u001b[0m \u001b[43m        \u001b[49m\u001b[43mdecimal\u001b[49m\u001b[38;5;241;43m=\u001b[39;49m\u001b[43mdecimal\u001b[49m\u001b[43m,\u001b[49m\n\u001b[0;32m    538\u001b[0m \u001b[43m        \u001b[49m\u001b[43mcomment\u001b[49m\u001b[38;5;241;43m=\u001b[39;49m\u001b[43mcomment\u001b[49m\u001b[43m,\u001b[49m\n\u001b[0;32m    539\u001b[0m \u001b[43m        \u001b[49m\u001b[43mskipfooter\u001b[49m\u001b[38;5;241;43m=\u001b[39;49m\u001b[43mskipfooter\u001b[49m\u001b[43m,\u001b[49m\n\u001b[0;32m    540\u001b[0m \u001b[43m        \u001b[49m\u001b[43mdtype_backend\u001b[49m\u001b[38;5;241;43m=\u001b[39;49m\u001b[43mdtype_backend\u001b[49m\u001b[43m,\u001b[49m\n\u001b[0;32m    541\u001b[0m \u001b[43m    \u001b[49m\u001b[43m)\u001b[49m\n\u001b[0;32m    542\u001b[0m \u001b[38;5;28;01mfinally\u001b[39;00m:\n\u001b[0;32m    543\u001b[0m     \u001b[38;5;66;03m# make sure to close opened file handles\u001b[39;00m\n\u001b[0;32m    544\u001b[0m     \u001b[38;5;28;01mif\u001b[39;00m should_close:\n",
      "File \u001b[1;32m~\\AppData\\Local\\Programs\\Python\\Python311\\Lib\\site-packages\\pandas\\io\\excel\\_base.py:1629\u001b[0m, in \u001b[0;36mExcelFile.parse\u001b[1;34m(self, sheet_name, header, names, index_col, usecols, converters, true_values, false_values, skiprows, nrows, na_values, parse_dates, date_parser, date_format, thousands, comment, skipfooter, dtype_backend, **kwds)\u001b[0m\n\u001b[0;32m   1589\u001b[0m \u001b[38;5;28;01mdef\u001b[39;00m \u001b[38;5;21mparse\u001b[39m(\n\u001b[0;32m   1590\u001b[0m     \u001b[38;5;28mself\u001b[39m,\n\u001b[0;32m   1591\u001b[0m     sheet_name: \u001b[38;5;28mstr\u001b[39m \u001b[38;5;241m|\u001b[39m \u001b[38;5;28mint\u001b[39m \u001b[38;5;241m|\u001b[39m \u001b[38;5;28mlist\u001b[39m[\u001b[38;5;28mint\u001b[39m] \u001b[38;5;241m|\u001b[39m \u001b[38;5;28mlist\u001b[39m[\u001b[38;5;28mstr\u001b[39m] \u001b[38;5;241m|\u001b[39m \u001b[38;5;28;01mNone\u001b[39;00m \u001b[38;5;241m=\u001b[39m \u001b[38;5;241m0\u001b[39m,\n\u001b[1;32m   (...)\u001b[0m\n\u001b[0;32m   1609\u001b[0m     \u001b[38;5;241m*\u001b[39m\u001b[38;5;241m*\u001b[39mkwds,\n\u001b[0;32m   1610\u001b[0m ) \u001b[38;5;241m-\u001b[39m\u001b[38;5;241m>\u001b[39m DataFrame \u001b[38;5;241m|\u001b[39m \u001b[38;5;28mdict\u001b[39m[\u001b[38;5;28mstr\u001b[39m, DataFrame] \u001b[38;5;241m|\u001b[39m \u001b[38;5;28mdict\u001b[39m[\u001b[38;5;28mint\u001b[39m, DataFrame]:\n\u001b[0;32m   1611\u001b[0m \u001b[38;5;250m    \u001b[39m\u001b[38;5;124;03m\"\"\"\u001b[39;00m\n\u001b[0;32m   1612\u001b[0m \u001b[38;5;124;03m    Parse specified sheet(s) into a DataFrame.\u001b[39;00m\n\u001b[0;32m   1613\u001b[0m \n\u001b[1;32m   (...)\u001b[0m\n\u001b[0;32m   1627\u001b[0m \u001b[38;5;124;03m    >>> file.parse()  # doctest: +SKIP\u001b[39;00m\n\u001b[0;32m   1628\u001b[0m \u001b[38;5;124;03m    \"\"\"\u001b[39;00m\n\u001b[1;32m-> 1629\u001b[0m     \u001b[38;5;28;01mreturn\u001b[39;00m \u001b[38;5;28;43mself\u001b[39;49m\u001b[38;5;241;43m.\u001b[39;49m\u001b[43m_reader\u001b[49m\u001b[38;5;241;43m.\u001b[39;49m\u001b[43mparse\u001b[49m\u001b[43m(\u001b[49m\n\u001b[0;32m   1630\u001b[0m \u001b[43m        \u001b[49m\u001b[43msheet_name\u001b[49m\u001b[38;5;241;43m=\u001b[39;49m\u001b[43msheet_name\u001b[49m\u001b[43m,\u001b[49m\n\u001b[0;32m   1631\u001b[0m \u001b[43m        \u001b[49m\u001b[43mheader\u001b[49m\u001b[38;5;241;43m=\u001b[39;49m\u001b[43mheader\u001b[49m\u001b[43m,\u001b[49m\n\u001b[0;32m   1632\u001b[0m \u001b[43m        \u001b[49m\u001b[43mnames\u001b[49m\u001b[38;5;241;43m=\u001b[39;49m\u001b[43mnames\u001b[49m\u001b[43m,\u001b[49m\n\u001b[0;32m   1633\u001b[0m \u001b[43m        \u001b[49m\u001b[43mindex_col\u001b[49m\u001b[38;5;241;43m=\u001b[39;49m\u001b[43mindex_col\u001b[49m\u001b[43m,\u001b[49m\n\u001b[0;32m   1634\u001b[0m \u001b[43m        \u001b[49m\u001b[43musecols\u001b[49m\u001b[38;5;241;43m=\u001b[39;49m\u001b[43musecols\u001b[49m\u001b[43m,\u001b[49m\n\u001b[0;32m   1635\u001b[0m \u001b[43m        \u001b[49m\u001b[43mconverters\u001b[49m\u001b[38;5;241;43m=\u001b[39;49m\u001b[43mconverters\u001b[49m\u001b[43m,\u001b[49m\n\u001b[0;32m   1636\u001b[0m \u001b[43m        \u001b[49m\u001b[43mtrue_values\u001b[49m\u001b[38;5;241;43m=\u001b[39;49m\u001b[43mtrue_values\u001b[49m\u001b[43m,\u001b[49m\n\u001b[0;32m   1637\u001b[0m \u001b[43m        \u001b[49m\u001b[43mfalse_values\u001b[49m\u001b[38;5;241;43m=\u001b[39;49m\u001b[43mfalse_values\u001b[49m\u001b[43m,\u001b[49m\n\u001b[0;32m   1638\u001b[0m \u001b[43m        \u001b[49m\u001b[43mskiprows\u001b[49m\u001b[38;5;241;43m=\u001b[39;49m\u001b[43mskiprows\u001b[49m\u001b[43m,\u001b[49m\n\u001b[0;32m   1639\u001b[0m \u001b[43m        \u001b[49m\u001b[43mnrows\u001b[49m\u001b[38;5;241;43m=\u001b[39;49m\u001b[43mnrows\u001b[49m\u001b[43m,\u001b[49m\n\u001b[0;32m   1640\u001b[0m \u001b[43m        \u001b[49m\u001b[43mna_values\u001b[49m\u001b[38;5;241;43m=\u001b[39;49m\u001b[43mna_values\u001b[49m\u001b[43m,\u001b[49m\n\u001b[0;32m   1641\u001b[0m \u001b[43m        \u001b[49m\u001b[43mparse_dates\u001b[49m\u001b[38;5;241;43m=\u001b[39;49m\u001b[43mparse_dates\u001b[49m\u001b[43m,\u001b[49m\n\u001b[0;32m   1642\u001b[0m \u001b[43m        \u001b[49m\u001b[43mdate_parser\u001b[49m\u001b[38;5;241;43m=\u001b[39;49m\u001b[43mdate_parser\u001b[49m\u001b[43m,\u001b[49m\n\u001b[0;32m   1643\u001b[0m \u001b[43m        \u001b[49m\u001b[43mdate_format\u001b[49m\u001b[38;5;241;43m=\u001b[39;49m\u001b[43mdate_format\u001b[49m\u001b[43m,\u001b[49m\n\u001b[0;32m   1644\u001b[0m \u001b[43m        \u001b[49m\u001b[43mthousands\u001b[49m\u001b[38;5;241;43m=\u001b[39;49m\u001b[43mthousands\u001b[49m\u001b[43m,\u001b[49m\n\u001b[0;32m   1645\u001b[0m \u001b[43m        \u001b[49m\u001b[43mcomment\u001b[49m\u001b[38;5;241;43m=\u001b[39;49m\u001b[43mcomment\u001b[49m\u001b[43m,\u001b[49m\n\u001b[0;32m   1646\u001b[0m \u001b[43m        \u001b[49m\u001b[43mskipfooter\u001b[49m\u001b[38;5;241;43m=\u001b[39;49m\u001b[43mskipfooter\u001b[49m\u001b[43m,\u001b[49m\n\u001b[0;32m   1647\u001b[0m \u001b[43m        \u001b[49m\u001b[43mdtype_backend\u001b[49m\u001b[38;5;241;43m=\u001b[39;49m\u001b[43mdtype_backend\u001b[49m\u001b[43m,\u001b[49m\n\u001b[0;32m   1648\u001b[0m \u001b[43m        \u001b[49m\u001b[38;5;241;43m*\u001b[39;49m\u001b[38;5;241;43m*\u001b[39;49m\u001b[43mkwds\u001b[49m\u001b[43m,\u001b[49m\n\u001b[0;32m   1649\u001b[0m \u001b[43m    \u001b[49m\u001b[43m)\u001b[49m\n",
      "File \u001b[1;32m~\\AppData\\Local\\Programs\\Python\\Python311\\Lib\\site-packages\\pandas\\io\\excel\\_base.py:788\u001b[0m, in \u001b[0;36mBaseExcelReader.parse\u001b[1;34m(self, sheet_name, header, names, index_col, usecols, dtype, true_values, false_values, skiprows, nrows, na_values, verbose, parse_dates, date_parser, date_format, thousands, decimal, comment, skipfooter, dtype_backend, **kwds)\u001b[0m\n\u001b[0;32m    785\u001b[0m     \u001b[38;5;28mprint\u001b[39m(\u001b[38;5;124mf\u001b[39m\u001b[38;5;124m\"\u001b[39m\u001b[38;5;124mReading sheet \u001b[39m\u001b[38;5;132;01m{\u001b[39;00masheetname\u001b[38;5;132;01m}\u001b[39;00m\u001b[38;5;124m\"\u001b[39m)\n\u001b[0;32m    787\u001b[0m \u001b[38;5;28;01mif\u001b[39;00m \u001b[38;5;28misinstance\u001b[39m(asheetname, \u001b[38;5;28mstr\u001b[39m):\n\u001b[1;32m--> 788\u001b[0m     sheet \u001b[38;5;241m=\u001b[39m \u001b[38;5;28;43mself\u001b[39;49m\u001b[38;5;241;43m.\u001b[39;49m\u001b[43mget_sheet_by_name\u001b[49m\u001b[43m(\u001b[49m\u001b[43masheetname\u001b[49m\u001b[43m)\u001b[49m\n\u001b[0;32m    789\u001b[0m \u001b[38;5;28;01melse\u001b[39;00m:  \u001b[38;5;66;03m# assume an integer if not a string\u001b[39;00m\n\u001b[0;32m    790\u001b[0m     sheet \u001b[38;5;241m=\u001b[39m \u001b[38;5;28mself\u001b[39m\u001b[38;5;241m.\u001b[39mget_sheet_by_index(asheetname)\n",
      "File \u001b[1;32m~\\AppData\\Local\\Programs\\Python\\Python311\\Lib\\site-packages\\pandas\\io\\excel\\_openpyxl.py:583\u001b[0m, in \u001b[0;36mOpenpyxlReader.get_sheet_by_name\u001b[1;34m(self, name)\u001b[0m\n\u001b[0;32m    582\u001b[0m \u001b[38;5;28;01mdef\u001b[39;00m \u001b[38;5;21mget_sheet_by_name\u001b[39m(\u001b[38;5;28mself\u001b[39m, name: \u001b[38;5;28mstr\u001b[39m):\n\u001b[1;32m--> 583\u001b[0m     \u001b[38;5;28;43mself\u001b[39;49m\u001b[38;5;241;43m.\u001b[39;49m\u001b[43mraise_if_bad_sheet_by_name\u001b[49m\u001b[43m(\u001b[49m\u001b[43mname\u001b[49m\u001b[43m)\u001b[49m\n\u001b[0;32m    584\u001b[0m     \u001b[38;5;28;01mreturn\u001b[39;00m \u001b[38;5;28mself\u001b[39m\u001b[38;5;241m.\u001b[39mbook[name]\n",
      "File \u001b[1;32m~\\AppData\\Local\\Programs\\Python\\Python311\\Lib\\site-packages\\pandas\\io\\excel\\_base.py:639\u001b[0m, in \u001b[0;36mBaseExcelReader.raise_if_bad_sheet_by_name\u001b[1;34m(self, name)\u001b[0m\n\u001b[0;32m    637\u001b[0m \u001b[38;5;28;01mdef\u001b[39;00m \u001b[38;5;21mraise_if_bad_sheet_by_name\u001b[39m(\u001b[38;5;28mself\u001b[39m, name: \u001b[38;5;28mstr\u001b[39m) \u001b[38;5;241m-\u001b[39m\u001b[38;5;241m>\u001b[39m \u001b[38;5;28;01mNone\u001b[39;00m:\n\u001b[0;32m    638\u001b[0m     \u001b[38;5;28;01mif\u001b[39;00m name \u001b[38;5;129;01mnot\u001b[39;00m \u001b[38;5;129;01min\u001b[39;00m \u001b[38;5;28mself\u001b[39m\u001b[38;5;241m.\u001b[39msheet_names:\n\u001b[1;32m--> 639\u001b[0m         \u001b[38;5;28;01mraise\u001b[39;00m \u001b[38;5;167;01mValueError\u001b[39;00m(\u001b[38;5;124mf\u001b[39m\u001b[38;5;124m\"\u001b[39m\u001b[38;5;124mWorksheet named \u001b[39m\u001b[38;5;124m'\u001b[39m\u001b[38;5;132;01m{\u001b[39;00mname\u001b[38;5;132;01m}\u001b[39;00m\u001b[38;5;124m'\u001b[39m\u001b[38;5;124m not found\u001b[39m\u001b[38;5;124m\"\u001b[39m)\n",
      "\u001b[1;31mValueError\u001b[0m: Worksheet named 'Base tratada' not found"
     ]
    }
   ],
   "source": [
    "tabelas=[]\n",
    "\n",
    "for x in arquivos2:\n",
    "    dados = pd.ExcelFile(x)\n",
    "    print(f'Carregando arquivo {dados} ...')\n",
    "    tabelas.append(pd.read_excel(dados,sheet_name=\"Base tratada\"))\n",
    "\n",
    "print('fim')\n",
    "   \n",
    "    "
   ]
  },
  {
   "cell_type": "code",
   "execution_count": null,
   "id": "2839965c-ab87-4292-b146-de418da7e527",
   "metadata": {},
   "outputs": [],
   "source": [
    "len(tabelas)"
   ]
  },
  {
   "cell_type": "code",
   "execution_count": null,
   "id": "979e79d7-7389-4f06-939b-f102297ae771",
   "metadata": {},
   "outputs": [],
   "source": [
    "tabela_final=pd.concat(tabelas)"
   ]
  },
  {
   "cell_type": "code",
   "execution_count": null,
   "id": "b2371d27-cd94-418f-a862-3c2292209581",
   "metadata": {
    "scrolled": true
   },
   "outputs": [],
   "source": [
    "tabela_final.head(2)"
   ]
  },
  {
   "cell_type": "code",
   "execution_count": null,
   "id": "6381ab68-2e45-4b9a-ad36-b4ee080da54f",
   "metadata": {},
   "outputs": [],
   "source": [
    "tabela_final.columns"
   ]
  },
  {
   "cell_type": "code",
   "execution_count": null,
   "id": "ed4941bc-0c40-45d3-9672-32798f8e8d70",
   "metadata": {},
   "outputs": [],
   "source": [
    "dados_municipio=tabela_final[['municipio', 'uf', 'IBGE','IBGE7','Nome_UF', 'Região', 'Município', 'Pop_total_2010', 'Pop_Urbana2010', 'Pop_Rural2010', 'areaKm2', 'Porte_pop2010']]"
   ]
  },
  {
   "cell_type": "code",
   "execution_count": null,
   "id": "553de7f2-df5b-4d17-90b6-472ccdc8fc02",
   "metadata": {},
   "outputs": [],
   "source": [
    "dados_municipio=dados_municipio.drop_duplicates(subset=['municipio','uf','IBGE','IBGE7'], keep='last')"
   ]
  },
  {
   "cell_type": "code",
   "execution_count": null,
   "id": "e2372f06-0cb1-4aad-9962-d33ac09e072c",
   "metadata": {},
   "outputs": [],
   "source": [
    "dados_municipio"
   ]
  },
  {
   "cell_type": "markdown",
   "id": "3afda23e-cdb9-41ff-b7cc-85a3ef2abc50",
   "metadata": {},
   "source": [
    "Porte do municipio"
   ]
  },
  {
   "cell_type": "code",
   "execution_count": null,
   "id": "7cd8f06b-680f-44c7-8bb2-eab2d8477822",
   "metadata": {},
   "outputs": [],
   "source": [
    "url='https://blog.mds.gov.br/redesuas/wp-content/uploads/2018/06/Lista_Munic%C3%ADpios_com_IBGE_Brasil_Versao_CSV.csv'\n",
    "porte=pd.read_csv(url, sep=\";\", encoding='Latin-1')"
   ]
  },
  {
   "cell_type": "code",
   "execution_count": null,
   "id": "bf7dda7a-c19c-42c4-a6af-a258e822e7b3",
   "metadata": {},
   "outputs": [],
   "source": [
    "porte=porte[['IBGE','IBGE7','UF','Município','Região','População 2010','Porte']]"
   ]
  },
  {
   "cell_type": "code",
   "execution_count": null,
   "id": "b773b865-643d-4511-afc1-e35ce7abf426",
   "metadata": {},
   "outputs": [],
   "source": [
    "porte"
   ]
  },
  {
   "cell_type": "code",
   "execution_count": null,
   "id": "7a561f44-754b-4182-b5d5-90225d8ee76b",
   "metadata": {},
   "outputs": [],
   "source": [
    "Dados_municipio_porte = pd.merge(porte, dados_municipio, how = 'left', \n",
    "                                 right_on=['IBGE7',],\n",
    "                                 left_on=['IBGE7',])"
   ]
  },
  {
   "cell_type": "code",
   "execution_count": null,
   "id": "520ba745-4233-4b55-8897-8b8c97429f80",
   "metadata": {
    "scrolled": true
   },
   "outputs": [],
   "source": [
    "Dados_municipio_porte.sort_values(by=\"IBGE_y\")"
   ]
  },
  {
   "cell_type": "code",
   "execution_count": null,
   "id": "8ab04dfb-27e8-4e38-ba9b-1a021e8a66e3",
   "metadata": {},
   "outputs": [],
   "source": []
  },
  {
   "cell_type": "markdown",
   "id": "859e2d87-c521-4e4c-aaad-4670c19c6aea",
   "metadata": {},
   "source": [
    "Municipios não encontrados no RMA 2022"
   ]
  },
  {
   "cell_type": "code",
   "execution_count": null,
   "id": "8139a9db-8d4f-406d-adea-1eebbc15cbf4",
   "metadata": {
    "scrolled": true
   },
   "outputs": [],
   "source": [
    "MuncipiosFalta=Dados_municipio_porte[Dados_municipio_porte['municipio'].isna()]"
   ]
  },
  {
   "cell_type": "code",
   "execution_count": null,
   "id": "5544e387-d895-4c73-9612-49f1c6a13bcb",
   "metadata": {
    "scrolled": true
   },
   "outputs": [],
   "source": [
    "MuncipiosFalta"
   ]
  },
  {
   "cell_type": "code",
   "execution_count": null,
   "id": "28e83106-11fa-4060-a0ed-3821fd3697cb",
   "metadata": {},
   "outputs": [],
   "source": [
    "MuncipiosFalta.info()"
   ]
  },
  {
   "cell_type": "code",
   "execution_count": null,
   "id": "e6a3dbfa-cbff-481d-9c16-2480ab120909",
   "metadata": {},
   "outputs": [],
   "source": [
    "RMA_mensal=tabela_final.loc[:,['ano', 'mes', 'municipio', 'uf', 'c1', 'c1_original', 'IBGE','IBGE7']]"
   ]
  },
  {
   "cell_type": "code",
   "execution_count": null,
   "id": "266103d8-32ac-47d8-a2dd-88ebf3a2081f",
   "metadata": {},
   "outputs": [],
   "source": [
    "RMA_mensal.head(2)"
   ]
  },
  {
   "cell_type": "code",
   "execution_count": null,
   "id": "b0bb2148-0daf-4f89-87d2-e573eac832f8",
   "metadata": {},
   "outputs": [],
   "source": [
    "RMA_mensal.info()"
   ]
  },
  {
   "cell_type": "code",
   "execution_count": null,
   "id": "8c63bc76-3a69-4fe9-b95b-dbd4862f609f",
   "metadata": {},
   "outputs": [],
   "source": [
    "RMA_m_2022=RMA_mensal[(RMA_mensal['ano']==2022)]"
   ]
  },
  {
   "cell_type": "code",
   "execution_count": null,
   "id": "1a4b6f64-447e-4251-b126-b3e453efad22",
   "metadata": {},
   "outputs": [],
   "source": [
    "RMA_m_2022.info()"
   ]
  },
  {
   "cell_type": "code",
   "execution_count": null,
   "id": "fa3a5b49-c3ba-413b-9f77-20d5cdea2184",
   "metadata": {
    "scrolled": true
   },
   "outputs": [],
   "source": [
    "RMA_2022_0=RMA_m_2022.groupby(['ano','mes','municipio','uf','IBGE','IBGE7']).sum().reset_index()"
   ]
  },
  {
   "cell_type": "code",
   "execution_count": null,
   "id": "95dc2ff8-311e-4939-99bf-db920243689b",
   "metadata": {},
   "outputs": [],
   "source": [
    "RMA_2022_0.info()"
   ]
  },
  {
   "cell_type": "code",
   "execution_count": null,
   "id": "79dafac1-1153-4fc1-9841-79a6dabb2255",
   "metadata": {},
   "outputs": [],
   "source": [
    "RMA_2022_soma=RMA_2022_0.groupby(['ano','municipio','uf','IBGE','IBGE7']).sum().reset_index()\n",
    "RMA_2022_soma=RMA_2022_soma.rename(columns={'c1':'soma_c1', 'c1_original':'soma_c1_original', }).drop(columns={'mes'})\n",
    "RMA_2022_media=RMA_2022_0.groupby(['ano','municipio','uf','IBGE','IBGE7']).mean().round(1).reset_index()\n",
    "RMA_2022_media=RMA_2022_media.rename(columns={'c1':'media_c1', 'c1_original':'media_c1_original', }).drop(columns={'mes'})"
   ]
  },
  {
   "cell_type": "code",
   "execution_count": null,
   "id": "90424603-da29-4a09-b488-f15b30ad7cf8",
   "metadata": {},
   "outputs": [],
   "source": [
    "RMA_2022_media.tail()"
   ]
  },
  {
   "cell_type": "code",
   "execution_count": null,
   "id": "d4d5be16-ea60-44f6-8c65-442e0fc14aae",
   "metadata": {},
   "outputs": [],
   "source": [
    "RMA_2022_soma.tail()"
   ]
  },
  {
   "cell_type": "code",
   "execution_count": null,
   "id": "3515b7ed-ee4a-41c0-8074-db2830af9917",
   "metadata": {},
   "outputs": [],
   "source": [
    "RMA_2022=pd.merge(RMA_2022_soma,RMA_2022_media, how = 'inner', \n",
    "                  right_on=['ano', 'municipio','IBGE7','IBGE','uf'],\n",
    "                  left_on=['ano', 'municipio','IBGE7','IBGE','uf'])\n",
    "RMA_2022.tail()"
   ]
  },
  {
   "cell_type": "code",
   "execution_count": null,
   "id": "589bd86d-2fb0-4e9e-98a6-578677f23701",
   "metadata": {},
   "outputs": [],
   "source": [
    "RMA_2022[(RMA_2022['IBGE']==530010)]"
   ]
  },
  {
   "cell_type": "code",
   "execution_count": null,
   "id": "5f52b681-aacd-4078-814c-84fd52e41dd5",
   "metadata": {},
   "outputs": [],
   "source": [
    "RMA_m_2022_CRAS=tabela_final.loc[:,['ano', 'mes', 'municipio','NU_IDENTIFICADOR', 'uf', 'IBGE','IBGE7']]\n",
    "RMA_m_2022_CRAS=RMA_m_2022_CRAS[(RMA_m_2022_CRAS['ano']==2022)]\n",
    "RMA_m_2022_CRAS"
   ]
  },
  {
   "cell_type": "code",
   "execution_count": null,
   "id": "43bab6f4-9e57-4b66-8bc6-d06fd73661f7",
   "metadata": {},
   "outputs": [],
   "source": [
    "RMA_m_2022_CRAS=RMA_m_2022_CRAS.groupby(['ano','mes','municipio','uf','IBGE','IBGE7'])['NU_IDENTIFICADOR'].agg(['count']).reset_index()\n",
    "RMA_m_2022_CRAS"
   ]
  },
  {
   "cell_type": "code",
   "execution_count": null,
   "id": "046c9f92-cfc7-4cb5-94a6-86c49b89b7bd",
   "metadata": {},
   "outputs": [],
   "source": [
    "RMA_2022_CRAS=RMA_m_2022_CRAS.groupby(['ano','municipio','uf','IBGE','IBGE7'])['count'].agg(['max']).reset_index()\n",
    "RMA_2022_CRAS=RMA_2022_CRAS.rename(columns={'max':'total_max_CRAS'})"
   ]
  },
  {
   "cell_type": "code",
   "execution_count": null,
   "id": "6af7e901-838a-41c1-a469-fd2020a32a7d",
   "metadata": {},
   "outputs": [],
   "source": [
    "RMA_2022_CRAS"
   ]
  },
  {
   "cell_type": "markdown",
   "id": "9d35aed0-83d9-40fe-b10c-bf62ddab8bd9",
   "metadata": {},
   "source": [
    "Consistencia numero de CRAS"
   ]
  },
  {
   "cell_type": "code",
   "execution_count": null,
   "id": "6cb6f6ef-4da8-404b-97c5-5936d6a856a2",
   "metadata": {},
   "outputs": [],
   "source": [
    "RMA_m_2022_CRAS[(RMA_m_2022_CRAS['IBGE']==530010)]"
   ]
  },
  {
   "cell_type": "code",
   "execution_count": null,
   "id": "43d35d34-caaf-4757-b924-c0ef6f4ea080",
   "metadata": {},
   "outputs": [],
   "source": [
    "RMA_2022_CRAS[(RMA_2022_CRAS['IBGE']==530010)]\n"
   ]
  },
  {
   "cell_type": "code",
   "execution_count": null,
   "id": "3014d46e-d719-412a-93c5-2192939cdb1c",
   "metadata": {},
   "outputs": [],
   "source": [
    "RMA_mensal=tabela_final[['ano', 'mes', 'municipio', 'uf', 'c1', 'c1_original', 'IBGE','IBGE7']]"
   ]
  },
  {
   "cell_type": "code",
   "execution_count": null,
   "id": "a3454063-016a-4316-9e89-bb8925b037a5",
   "metadata": {},
   "outputs": [],
   "source": [
    "RMA_m_12_2022=RMA_mensal[((RMA_mensal['mes']==12) & (RMA_mensal['ano']==2022))]\n",
    "RMA_m_12_2022"
   ]
  },
  {
   "cell_type": "code",
   "execution_count": null,
   "id": "ffc7f4fc-c986-4671-ad5b-b484cd1456ba",
   "metadata": {},
   "outputs": [],
   "source": [
    "RMA_m_12_2022=RMA_m_12_2022.groupby(['municipio','uf','IBGE','IBGE7']).sum().reset_index()\n",
    "RMA_m_12_2022=RMA_m_12_2022.rename(columns={'c1':'c1_DEZ_2022','c1_original':'c1_original_DEZ_2022'})\n",
    "RMA_m_12_2022=RMA_m_12_2022.drop(columns={'ano','mes'})\n",
    "RMA_m_12_2022"
   ]
  },
  {
   "cell_type": "code",
   "execution_count": null,
   "id": "323cc7f5-b54b-4ea8-a34c-0f6e1d2790b4",
   "metadata": {},
   "outputs": [],
   "source": [
    "RMAcompleto0 = pd.merge(RMA_2022, RMA_2022_CRAS, how = 'left')"
   ]
  },
  {
   "cell_type": "code",
   "execution_count": null,
   "id": "00dfe95e-df01-43d5-9084-f1092f65d621",
   "metadata": {},
   "outputs": [],
   "source": [
    "RMAcompleto0 "
   ]
  },
  {
   "cell_type": "code",
   "execution_count": null,
   "id": "000e6992-0d8c-4104-9fb2-bd39b98d9e77",
   "metadata": {},
   "outputs": [],
   "source": [
    "RMAcompleto= pd.merge(RMAcompleto0, RMA_m_12_2022,how='left')\n",
    "RMAcompleto"
   ]
  },
  {
   "cell_type": "code",
   "execution_count": null,
   "id": "1327b7d5-a2f1-41eb-9436-b81fab9fae57",
   "metadata": {},
   "outputs": [],
   "source": [
    "RMAcompleto[(RMAcompleto['IBGE']==530010)]"
   ]
  },
  {
   "cell_type": "code",
   "execution_count": null,
   "id": "573ebfd0-5363-43ae-a4bf-acda49679e74",
   "metadata": {},
   "outputs": [],
   "source": [
    "RMAcompleto.sort_values(by=['soma_c1'], ascending=False)"
   ]
  },
  {
   "cell_type": "code",
   "execution_count": null,
   "id": "1e3c36e0-1919-47cc-9200-19a13853caee",
   "metadata": {},
   "outputs": [],
   "source": [
    "RMAcompleto_Nulos=RMAcompleto[(RMAcompleto['soma_c1_original'] == 0 )].sort_values(by=['soma_c1_original'], ascending=False)"
   ]
  },
  {
   "cell_type": "code",
   "execution_count": null,
   "id": "e1a77ae9-fa31-478a-bb1a-f606a327c3f4",
   "metadata": {},
   "outputs": [],
   "source": [
    "RMAcompleto_Nulos"
   ]
  },
  {
   "cell_type": "code",
   "execution_count": null,
   "id": "721b3b6f-dcde-4b06-84b1-030952422400",
   "metadata": {},
   "outputs": [],
   "source": [
    "RMAcompleto_nao_Nulos=RMAcompleto[(RMAcompleto['soma_c1_original'] != 0 )].sort_values(by=['soma_c1_original'], ascending=False)          "
   ]
  },
  {
   "cell_type": "code",
   "execution_count": null,
   "id": "eef3094a-aa9f-4815-8062-679dcad54c27",
   "metadata": {},
   "outputs": [],
   "source": [
    "RMAcompleto_nao_Nulos"
   ]
  },
  {
   "cell_type": "code",
   "execution_count": null,
   "id": "81b0e469-f224-4e0b-9dc0-d532cb9d49c5",
   "metadata": {},
   "outputs": [],
   "source": [
    "RMA_2022_porte=pd.merge(RMAcompleto_nao_Nulos,Dados_municipio_porte, \n",
    "                        how = 'inner')"
   ]
  },
  {
   "cell_type": "code",
   "execution_count": null,
   "id": "b66b4827-88cd-45ac-afc2-80fa56e89535",
   "metadata": {},
   "outputs": [],
   "source": [
    "RMA_2022_porte.columns"
   ]
  },
  {
   "cell_type": "code",
   "execution_count": null,
   "id": "dffcd9e4-6bcb-42a4-8703-2818d1e91b60",
   "metadata": {},
   "outputs": [],
   "source": [
    "RMA_TOTAL_2022=RMA_2022_porte[['ano', 'municipio','Município_x', 'uf', 'IBGE', 'IBGE7', 'soma_c1',\n",
    "       'soma_c1_original', 'media_c1', 'media_c1_original', 'total_max_CRAS',\n",
    "       'c1_DEZ_2022', 'c1_original_DEZ_2022', 'Porte']]"
   ]
  },
  {
   "cell_type": "code",
   "execution_count": null,
   "id": "755f4d41-793f-4780-a85e-91c3e7d49558",
   "metadata": {},
   "outputs": [],
   "source": [
    "RMA_TOTAL_2022=RMA_TOTAL_2022.rename(columns={'IBGE':'ibge_6',\t'IBGE7':'ibge_7','Município_x':'municipio_aj','uf':'uf',\t\n",
    "                                              'total_max_CRAS':'total_max_cras','Porte':'porte',\n",
    "                                             'c1_DEZ_2022': 'c1_dez_2022', 'c1_original_DEZ_2022':'c1_original_dez_2022'})"
   ]
  },
  {
   "cell_type": "code",
   "execution_count": null,
   "id": "e257c1f2-166b-4ec6-866c-d4a949c98a93",
   "metadata": {},
   "outputs": [],
   "source": [
    "RMA_TOTAL_2022"
   ]
  },
  {
   "cell_type": "markdown",
   "id": "84e321ee-fab7-47ce-8665-ee4aa9cf8fb7",
   "metadata": {},
   "source": [
    "10 maiores RMA"
   ]
  },
  {
   "cell_type": "code",
   "execution_count": null,
   "id": "c1ad1efb-4e00-4a7d-a397-f0b85af77ec9",
   "metadata": {},
   "outputs": [],
   "source": [
    "RMA_TOTAL_2022.sort_values(by=['soma_c1'], ascending=False)[0:10]"
   ]
  },
  {
   "cell_type": "markdown",
   "id": "6cee37bc-96bc-4bcf-b0ff-022d08307006",
   "metadata": {},
   "source": [
    "10 menores RMA"
   ]
  },
  {
   "cell_type": "code",
   "execution_count": null,
   "id": "f54a36d6-fe17-45d3-96da-db22609d6599",
   "metadata": {},
   "outputs": [],
   "source": [
    "RMA_TOTAL_2022.sort_values(by=['soma_c1'], ascending=True)[0:10]"
   ]
  },
  {
   "cell_type": "code",
   "execution_count": null,
   "id": "f3e4d336-47f0-46a2-9165-5bc36f22c8b8",
   "metadata": {},
   "outputs": [],
   "source": [
    "RMA_TOTAL_2022.describe()"
   ]
  },
  {
   "cell_type": "code",
   "execution_count": null,
   "id": "17cc1170-d24d-4fcf-8112-8d8dc95a9cef",
   "metadata": {},
   "outputs": [],
   "source": [
    "#RMA_TOTAL_2022.to_csv('RMA_TOTAL_2022.csv',encoding = 'UTF-8')"
   ]
  },
  {
   "cell_type": "code",
   "execution_count": null,
   "id": "fc0cabaa-6e8f-4f32-817d-a2ddd05ee5d6",
   "metadata": {},
   "outputs": [],
   "source": [
    "url_cad_2022 = 'https://aplicacoes.mds.gov.br/sagi/servicos/misocial?fq=anomes_s:2022*&wt=csv&omitHeader=true&fq=cadunico_tot_fam_i:{0%20TO%20*]&q=*&fl=ibge:codigo_ibge,anomes:anomes_s,cadunico_tot_fam:cadunico_tot_fam_i,cadunico_tot_pes:cadunico_tot_pes_i,cadunico_tot_fam_rpc_ate_meio_sm:cadunico_tot_fam_rpc_ate_meio_sm_i,cadunico_tot_pes_rpc_ate_meio_sm:cadunico_tot_pes_rpc_ate_meio_sm_i,cadunico_tot_fam_pob:cadunico_tot_fam_pob_i,cadunico_tot_pes_pob:cadunico_tot_pes_pob_i,cadunico_tot_fam_ext_pob:cadunico_tot_fam_ext_pob_i,cadunico_tot_pes_ext_pob:cadunico_tot_pes_ext_pob_i,cadunico_tot_fam_pob_e_ext_pob:cadunico_tot_fam_pob_e_ext_pob_i,cadunico_tot_pes_pob_e_ext_pob:cadunico_tot_pes_pob_e_ext_pob_i&rows=100000000&sort=anomes_s%20desc,%20codigo_ibge%20asc'"
   ]
  },
  {
   "cell_type": "code",
   "execution_count": null,
   "id": "50d75414-9035-4570-9846-25b30a3064f9",
   "metadata": {},
   "outputs": [],
   "source": [
    "cad_2022=pd.read_csv(url_cad_2022, sep=\",\", encoding='Latin-1')"
   ]
  },
  {
   "cell_type": "code",
   "execution_count": null,
   "id": "02262422-471f-400b-b7da-8189350dba28",
   "metadata": {},
   "outputs": [],
   "source": [
    "cad_2022"
   ]
  },
  {
   "cell_type": "code",
   "execution_count": null,
   "id": "26ab6c09-bad5-4d4b-b802-130daaa406b4",
   "metadata": {},
   "outputs": [],
   "source": [
    "cad_2022.columns"
   ]
  },
  {
   "cell_type": "code",
   "execution_count": null,
   "id": "d7116fba-db2e-4573-9b6b-aa9807ea910d",
   "metadata": {},
   "outputs": [],
   "source": [
    "cad_2022['total_bx_renda'] = cad_2022['cadunico_tot_pes_rpc_ate_meio_sm']-cad_2022['cadunico_tot_pes_pob_e_ext_pob']\n"
   ]
  },
  {
   "cell_type": "code",
   "execution_count": null,
   "id": "8ede533e-712f-44ac-8dc3-91df3dfe1a67",
   "metadata": {},
   "outputs": [],
   "source": [
    "cad_2022.columns"
   ]
  },
  {
   "cell_type": "code",
   "execution_count": null,
   "id": "3b968b77-ed3d-4ea0-b5ed-5f0a163bc5bd",
   "metadata": {},
   "outputs": [],
   "source": [
    "cad_2022=cad_2022.rename(columns={'ibge':'ibge_6', \n",
    "                             'cadunico_tot_pes':'tot_pes','cadunico_tot_pes_rpc_ate_meio_sm':'tot_pes_rpc_ate_meio_sm', \n",
    "                             'cadunico_tot_pes_pob':'tot_pes_pob','cadunico_tot_pes_ext_pob':'tot_pes_ext_pob', \n",
    "                             'cadunico_tot_pes_pob_e_ext_pob':'tot_pes_pob_e_ext_pob','total_bx_renda':'tot_bx_renda'})"
   ]
  },
  {
   "cell_type": "code",
   "execution_count": null,
   "id": "45b6afc9-7998-4cc9-b467-8f2ce66afc2e",
   "metadata": {},
   "outputs": [],
   "source": [
    "cad_2022"
   ]
  },
  {
   "cell_type": "code",
   "execution_count": null,
   "id": "8e383fe3-c583-466b-ba1f-1931913669e9",
   "metadata": {},
   "outputs": [],
   "source": [
    "cad_2022_Ano=cad_2022[['ibge_6', 'anomes', 'tot_pes', 'tot_pes_rpc_ate_meio_sm', 'tot_pes_pob','tot_pes_ext_pob', 'tot_pes_pob_e_ext_pob', 'tot_bx_renda']]"
   ]
  },
  {
   "cell_type": "code",
   "execution_count": null,
   "id": "f6c177af-942e-4364-a2e9-1732a8ae20b7",
   "metadata": {},
   "outputs": [],
   "source": [
    "cad_2022_Ano"
   ]
  },
  {
   "cell_type": "code",
   "execution_count": null,
   "id": "1ae5c52e-a7f3-4047-a8cb-9b94ad7266ac",
   "metadata": {},
   "outputs": [],
   "source": [
    "cad_2022_Soma=cad_2022_Ano.groupby(by=['ibge_6']).sum()"
   ]
  },
  {
   "cell_type": "code",
   "execution_count": null,
   "id": "16b980ba-c7b6-4f62-bb00-ba279b82511f",
   "metadata": {},
   "outputs": [],
   "source": [
    "cad_2022_Soma.columns"
   ]
  },
  {
   "cell_type": "code",
   "execution_count": null,
   "id": "0892e4b0-fc13-443e-a063-3b9c8f7235fb",
   "metadata": {},
   "outputs": [],
   "source": [
    "cad_2022_Soma=cad_2022_Soma.rename(columns={'tot_pes':'Soma_tot_pes', \n",
    "                                    'tot_pes_rpc_ate_meio_sm':'Soma_tot_pes_rpc_ate_meio_sm', \n",
    "                                    'tot_pes_pob':'Soma_tot_pes_pob',\n",
    "                                    'tot_pes_ext_pob':'Soma_pes_ext_pob', \n",
    "                                    'tot_pes_pob_e_ext_pob':'Soma_tot_pes_pob_e_ext_pob', \n",
    "                                    'tot_bx_renda':'Soma_tot_bx_renda'})"
   ]
  },
  {
   "cell_type": "code",
   "execution_count": null,
   "id": "9a8ec141-4abc-44b4-807a-127b1d0d2296",
   "metadata": {},
   "outputs": [],
   "source": [
    "cad_2022_Soma_=cad_2022_Soma.drop(columns={'anomes'}).reset_index()"
   ]
  },
  {
   "cell_type": "code",
   "execution_count": null,
   "id": "897f1b4a-fb6a-458a-a0c1-6c2d692937d4",
   "metadata": {},
   "outputs": [],
   "source": [
    "cad_2022_Soma_"
   ]
  },
  {
   "cell_type": "code",
   "execution_count": null,
   "id": "779d6ffc-7d30-4b34-adf6-d970b4bc26ee",
   "metadata": {},
   "outputs": [],
   "source": [
    "cad_2022_Media=cad_2022_Ano.groupby(by=['ibge_6']).mean().round(2)"
   ]
  },
  {
   "cell_type": "code",
   "execution_count": null,
   "id": "7691a8ce-530b-4cdc-9a10-62b015474190",
   "metadata": {},
   "outputs": [],
   "source": [
    "cad_2022_Media.columns"
   ]
  },
  {
   "cell_type": "code",
   "execution_count": null,
   "id": "f0007dd6-cea1-4fe8-a90a-02682b147309",
   "metadata": {},
   "outputs": [],
   "source": [
    "cad_2022_Media=cad_2022_Media.rename(columns={'tot_pes':'Media_tot_pes', \n",
    "                                    'tot_pes_rpc_ate_meio_sm':'Media_tot_pes_rpc_ate_meio_sm', \n",
    "                                    'tot_pes_pob':'Media_tot_pes_pob',\n",
    "                                    'tot_pes_ext_pob':'Media_pes_ext_pob', \n",
    "                                    'tot_pes_pob_e_ext_pob':'Media_tot_pes_pob_e_ext_pob', \n",
    "                                    'tot_bx_renda':'Media_tot_bx_renda'})"
   ]
  },
  {
   "cell_type": "code",
   "execution_count": null,
   "id": "73d20ec0-b287-46f3-982d-874e64b234da",
   "metadata": {},
   "outputs": [],
   "source": [
    "cad_2022_Media=cad_2022_Media.drop(columns={'anomes'}).reset_index()"
   ]
  },
  {
   "cell_type": "code",
   "execution_count": null,
   "id": "0113c234-841a-42cf-87be-470f5fedc8bf",
   "metadata": {},
   "outputs": [],
   "source": [
    "cad_2022_Media"
   ]
  },
  {
   "cell_type": "code",
   "execution_count": null,
   "id": "2a57a34d-d90e-42c3-847e-0277c2c1e5ad",
   "metadata": {},
   "outputs": [],
   "source": [
    "cad_2022_Dez=cad_2022_Ano[(cad_2022_Ano['anomes']== 202212)]"
   ]
  },
  {
   "cell_type": "code",
   "execution_count": null,
   "id": "bf05e15f-6a8f-4c21-800d-fe1978eb2d8c",
   "metadata": {},
   "outputs": [],
   "source": [
    "cad_2022_Dez.columns"
   ]
  },
  {
   "cell_type": "code",
   "execution_count": null,
   "id": "ca00dc16-8129-4742-9927-4f135d723af3",
   "metadata": {},
   "outputs": [],
   "source": [
    "cad_2022_Dez=cad_2022_Dez.rename(columns={'tot_pes':'Dez_tot_pes', \n",
    "                                    'tot_pes_rpc_ate_meio_sm':'Dez_tot_pes_rpc_ate_meio_sm', \n",
    "                                    'tot_pes_pob':'Dez_tot_pes_pob',\n",
    "                                    'tot_pes_ext_pob':'Dez_pes_ext_pob', \n",
    "                                    'tot_pes_pob_e_ext_pob':'Dez_tot_pes_pob_e_ext_pob', \n",
    "                                    'tot_bx_renda':'Dez_tot_bx_renda'})"
   ]
  },
  {
   "cell_type": "code",
   "execution_count": null,
   "id": "cfa5f3c4-21c3-452b-9371-13bc56400b99",
   "metadata": {},
   "outputs": [],
   "source": [
    "cad_2022_Dez=cad_2022_Dez.drop(columns={'anomes'})"
   ]
  },
  {
   "cell_type": "code",
   "execution_count": null,
   "id": "c8e6b8c7-d842-4174-b770-473084b89839",
   "metadata": {},
   "outputs": [],
   "source": [
    "cad_2022_Dez"
   ]
  },
  {
   "cell_type": "code",
   "execution_count": null,
   "id": "32c23fba-3c65-46ef-823e-50752e064c5f",
   "metadata": {},
   "outputs": [],
   "source": [
    "cad2022_0=pd.merge(cad_2022_Dez,cad_2022_Media, how = 'inner', right_on='ibge_6',left_on='ibge_6').reset_index()"
   ]
  },
  {
   "cell_type": "code",
   "execution_count": null,
   "id": "a2ba5bb4-080a-41f9-bfc2-daa875e1c5ef",
   "metadata": {},
   "outputs": [],
   "source": [
    "cad2022=pd.merge(cad2022_0,cad_2022_Soma_, how = 'inner', right_on='ibge_6',left_on='ibge_6')"
   ]
  },
  {
   "cell_type": "code",
   "execution_count": null,
   "id": "77e0bf84-3b2d-48d7-8711-0f0fd44fdf49",
   "metadata": {},
   "outputs": [],
   "source": [
    "cad2022"
   ]
  },
  {
   "cell_type": "markdown",
   "id": "04d9725b-e03b-40df-b574-81a6e1d2018b",
   "metadata": {},
   "source": [
    "<h2>Tabela RMA_comparativo com dados do CADUnico, dados de RMA e porte</h2>"
   ]
  },
  {
   "cell_type": "code",
   "execution_count": null,
   "id": "3b2b34e4-99c3-40b5-9bbe-f663ec1ab91f",
   "metadata": {},
   "outputs": [],
   "source": [
    "RMA_2022_comparativo0=pd.merge(cad2022,RMA_TOTAL_2022, how = 'left', right_on='ibge_6',left_on='ibge_6')"
   ]
  },
  {
   "cell_type": "code",
   "execution_count": null,
   "id": "08876d52-1d72-465c-8eee-d9d9ed58dd9f",
   "metadata": {},
   "outputs": [],
   "source": [
    "RMA_2022_comparativo=pd.merge(RMA_2022_comparativo0, porte, how = 'left', right_on='IBGE',left_on='ibge_6')"
   ]
  },
  {
   "cell_type": "code",
   "execution_count": null,
   "id": "3e0781e2-3917-464f-a6a6-6ddb723e2df7",
   "metadata": {},
   "outputs": [],
   "source": [
    "RMA_2022_comparativo"
   ]
  },
  {
   "cell_type": "code",
   "execution_count": null,
   "id": "94a799c4-4070-4a4b-88ab-f7e944377541",
   "metadata": {},
   "outputs": [],
   "source": [
    "#RMA_2022_comparativo.to_csv('RMA_2022_comparativo.csv',encoding = 'UTF-8')"
   ]
  },
  {
   "cell_type": "code",
   "execution_count": null,
   "id": "1f443abd-de22-42be-92b0-ffe1dd753e89",
   "metadata": {},
   "outputs": [],
   "source": [
    "RMA_2022_comparativo.columns"
   ]
  },
  {
   "cell_type": "code",
   "execution_count": null,
   "id": "19d9c622-9490-491e-bbae-59e1889c930e",
   "metadata": {},
   "outputs": [],
   "source": [
    "RMA_2022_comparativo_media=RMA_2022_comparativo[['ibge_6','ibge_7','municipio_aj', 'total_max_cras','soma_c1','media_c1', 'Dez_tot_pes_pob_e_ext_pob','Porte']]\n",
    "#RMA_2022_comparativo_media=RMA_2022_comparativo_media[(RMA_2022_comparativo_media['media_c1']!=0)]\n",
    "RMA_2022_comparativo_media.describe()"
   ]
  },
  {
   "cell_type": "markdown",
   "id": "7f0f4d9e-76a3-4721-853b-03bf21ddab0d",
   "metadata": {},
   "source": [
    "<h3>Inserção da coluna:</h3>\n",
    "</br> \n",
    "<p><strong>RMA médio dividido por número de pessoas com bolsa família em pobreza e extrema pobreza de dez/2022 multiplicado por 100 </strong></p>\n",
    "RMA-media_c1 /  Dez_tot_pes_pob_e_ext_pob * 100\t </h3>"
   ]
  },
  {
   "cell_type": "code",
   "execution_count": null,
   "id": "5d3ec636-1ac4-42e2-8932-fff4c99e4c94",
   "metadata": {},
   "outputs": [],
   "source": [
    "RMA_2022_comparativo_media.sort_values(by='Dez_tot_pes_pob_e_ext_pob')"
   ]
  },
  {
   "cell_type": "code",
   "execution_count": null,
   "id": "3c75721d-bc58-45f8-a31d-e86057d4d154",
   "metadata": {
    "scrolled": true
   },
   "outputs": [],
   "source": [
    "RMA_2022_comparativo_media[RMA_2022_comparativo_media['media_c1'].isna()]"
   ]
  },
  {
   "cell_type": "code",
   "execution_count": null,
   "id": "1405c434-9c0d-4715-9dee-0f7eae841926",
   "metadata": {},
   "outputs": [],
   "source": [
    "RMA_2022_comparativo_media = RMA_2022_comparativo_media.fillna(0)"
   ]
  },
  {
   "cell_type": "code",
   "execution_count": null,
   "id": "64454fab-d7cc-4f74-9896-ea8a3a3cb282",
   "metadata": {},
   "outputs": [],
   "source": [
    "RMA_2022_comparativo_media[RMA_2022_comparativo_media['media_c1'].isna()]"
   ]
  },
  {
   "cell_type": "code",
   "execution_count": null,
   "id": "852daf2a-b9c7-4911-96e3-0cb13cc49475",
   "metadata": {},
   "outputs": [],
   "source": [
    "RMA_2022_comparativo_media"
   ]
  },
  {
   "cell_type": "code",
   "execution_count": null,
   "id": "d1a127a3-eef7-4165-bb26-9314f14754e9",
   "metadata": {},
   "outputs": [],
   "source": [
    "RMA_2022_comparativo_media.describe()"
   ]
  },
  {
   "cell_type": "code",
   "execution_count": null,
   "id": "ee0531cf-7530-4af0-9ff8-20118be38d76",
   "metadata": {},
   "outputs": [],
   "source": [
    "RMA_2022_comparativo_media[RMA_2022_comparativo_media['media_c1'].isna()]"
   ]
  },
  {
   "cell_type": "code",
   "execution_count": null,
   "id": "3a4d8663-06b9-47a9-9d9b-eabdc5af27b2",
   "metadata": {},
   "outputs": [],
   "source": [
    "RMA_2022_comparativo_media['RMA_media_div_pob_e_ext_pob']=RMA_2022_comparativo_media['media_c1']/RMA_2022_comparativo_media['Dez_tot_pes_pob_e_ext_pob']*100"
   ]
  },
  {
   "cell_type": "code",
   "execution_count": null,
   "id": "4cb56bf4-3351-4a16-90a7-05a0966ebb62",
   "metadata": {},
   "outputs": [],
   "source": [
    "RMA_2022_comparativo_media.sort_values(by='soma_c1')"
   ]
  },
  {
   "cell_type": "code",
   "execution_count": null,
   "id": "b57970a8-1ebe-4e0e-92ee-0eecb96646c2",
   "metadata": {},
   "outputs": [],
   "source": [
    "RMA_2022_comparativo_media.describe()"
   ]
  },
  {
   "cell_type": "markdown",
   "id": "e268e534-4838-4470-b508-fc0a3f5a3e52",
   "metadata": {},
   "source": [
    "<h2>Definição das classes</h2>"
   ]
  },
  {
   "cell_type": "code",
   "execution_count": null,
   "id": "78686066-17c9-4cb5-b2cb-18d569e5cd11",
   "metadata": {},
   "outputs": [],
   "source": [
    "import seaborn as sns\n",
    "import matplotlib.pyplot as plt \n",
    "%matplotlib inline"
   ]
  },
  {
   "cell_type": "code",
   "execution_count": null,
   "id": "ef411b91-f2de-4d7a-a8c8-828645333d0f",
   "metadata": {},
   "outputs": [],
   "source": [
    "dados=RMA_2022_comparativo_media"
   ]
  },
  {
   "cell_type": "code",
   "execution_count": null,
   "id": "d11b3a56-7108-4623-9520-3db751acfa2e",
   "metadata": {},
   "outputs": [],
   "source": [
    "dados.info()"
   ]
  },
  {
   "cell_type": "code",
   "execution_count": null,
   "id": "5fc9ca34-cc85-41ae-9046-455087678b5a",
   "metadata": {},
   "outputs": [],
   "source": [
    "dados[['RMA_media_div_pob_e_ext_pob']].boxplot()\n"
   ]
  },
  {
   "cell_type": "code",
   "execution_count": null,
   "id": "0035a31c-3018-454e-a74b-48fbd663d808",
   "metadata": {},
   "outputs": [],
   "source": [
    "indice_max = dados['RMA_media_div_pob_e_ext_pob'].idxmax()\n",
    "linha_max = dados['RMA_media_div_pob_e_ext_pob'].loc[indice_max]\n",
    "linha_max"
   ]
  },
  {
   "cell_type": "code",
   "execution_count": null,
   "id": "445402a1-858c-49e0-8914-140f3538a85f",
   "metadata": {},
   "outputs": [],
   "source": [
    "maiores_valores = dados['RMA_media_div_pob_e_ext_pob'].nlargest(10)\n",
    "menores_valores = dados['RMA_media_div_pob_e_ext_pob'].nsmallest(10)"
   ]
  },
  {
   "cell_type": "code",
   "execution_count": null,
   "id": "90fb76b9-0a16-41e3-98a7-b5dd5c4a62c1",
   "metadata": {},
   "outputs": [],
   "source": [
    "maiores_valores"
   ]
  },
  {
   "cell_type": "code",
   "execution_count": null,
   "id": "aac94faa-f9c2-48ee-914f-d8d4eeb6e9af",
   "metadata": {},
   "outputs": [],
   "source": [
    "menores_valores"
   ]
  },
  {
   "cell_type": "code",
   "execution_count": null,
   "id": "fe603d57-d73d-4db8-8999-57dbed93d72c",
   "metadata": {},
   "outputs": [],
   "source": [
    "fig = plt.figure(figsize=(12,7))\n",
    "\n",
    "ax1 = plt.subplot(2, 2, 1)\n",
    "ax1.set_title('Matplotlib')\n",
    "ax1.hist(x=dados['RMA_media_div_pob_e_ext_pob']);\n",
    "\n",
    "ax2 = plt.subplot(2, 2, 2, sharey=ax1)\n",
    "ax2.set_title('Pandas')\n",
    "dados.plot.hist(column='RMA_media_div_pob_e_ext_pob', bins=10, ax=ax2);\n",
    "\n",
    "ax3 = plt.subplot(2, 1, 2)\n",
    "plt.title('Seaborn')\n",
    "\n",
    "sns.histplot(data=dados, x='RMA_media_div_pob_e_ext_pob', \n",
    "             multiple='stack', bins=100, ax=ax3);\n",
    "             "
   ]
  },
  {
   "cell_type": "code",
   "execution_count": null,
   "id": "cefee152-fdc1-474a-9580-0f4f6c189ab4",
   "metadata": {},
   "outputs": [],
   "source": [
    "dados['indice'] = pd.cut(dados['RMA_media_div_pob_e_ext_pob'], bins = [-1, 0, 5, 10, 15, 20, 25, 30, 35, 40, 45, 50, 850])"
   ]
  },
  {
   "cell_type": "code",
   "execution_count": null,
   "id": "2e3b9a12-fc03-4a21-bad6-9d9564df3938",
   "metadata": {},
   "outputs": [],
   "source": [
    "indice_11c = dados['indice'].value_counts()\n",
    "indice_11c = pd.DataFrame(indice_11c).sort_values(by='indice')\n",
    "indice_11c "
   ]
  },
  {
   "cell_type": "code",
   "execution_count": null,
   "id": "56323b5b-787a-4fef-ac47-936bbc76aae2",
   "metadata": {},
   "outputs": [],
   "source": [
    "df_indice_RMA = indice_11c.reset_index(drop=False).copy()\n",
    "df_indice_RMA"
   ]
  },
  {
   "cell_type": "code",
   "execution_count": null,
   "id": "2110a066-1bab-43bf-a806-edb66ff84bad",
   "metadata": {},
   "outputs": [],
   "source": [
    "df_indice_RMA['Classe'] = [0,1,2,3,4,5,6,7,8,9,10,11]\n",
    "df_indice_RMA"
   ]
  },
  {
   "cell_type": "code",
   "execution_count": null,
   "id": "34c8c3b7-78ff-4cc5-859d-9619ff921396",
   "metadata": {},
   "outputs": [],
   "source": [
    "fig10c, ax = plt.subplots()\n",
    "\n",
    "X = df_indice_RMA['Classe']\n",
    "Y = df_indice_RMA['count']\n",
    "bars = ax.bar(X, Y)\n",
    "\n",
    "plt.title('Relação entre o RMA -media_c1- e pessoas_pobreza_extrema_pobreza')\n",
    "\n",
    "ax.set_xlabel('Relação entre o RMA -media_c1 - e pessoas_pobreza_extrema_pobreza', fontsize=8)\n",
    "ax.set_ylabel('Número de Municípios', fontsize=8)\n",
    "\n",
    "ax.set_xticklabels(['0','0','5-10','15-20','25-30','35-40','45-50'],\n",
    "                   rotation=90, fontsize=6)\n",
    "\n",
    "# Adicione etiquetas em todas as barras\n",
    "for bar in bars:\n",
    "    height = bar.get_height()\n",
    "    ax.annotate(f'{height}',\n",
    "                xy=(bar.get_x() + bar.get_width() / 2, height),\n",
    "                xytext=(0, 3),  # Deslocamento vertical das etiquetas\n",
    "                textcoords=\"offset points\",\n",
    "                ha='center', va='bottom', fontsize=6\n",
    "               )\n",
    "plt.xticks(rotation=50, fontsize=8)\n",
    "\n",
    "plt.show()\n"
   ]
  },
  {
   "cell_type": "code",
   "execution_count": null,
   "id": "1653aa07-f30b-49c0-8ed2-f3443b9bbcfd",
   "metadata": {},
   "outputs": [],
   "source": [
    "dados.sort_values(by='Dez_tot_pes_pob_e_ext_pob')"
   ]
  },
  {
   "cell_type": "code",
   "execution_count": null,
   "id": "5496b98d-cd8f-489f-9e5e-f702bd4e2ef7",
   "metadata": {},
   "outputs": [],
   "source": [
    "dados[(dados['ibge_7']==5300108)]"
   ]
  },
  {
   "cell_type": "code",
   "execution_count": null,
   "id": "73f86bfd-3e72-443d-be84-bca59f18a9b8",
   "metadata": {},
   "outputs": [],
   "source": [
    "dados[(dados['ibge_7']==1100015)]"
   ]
  },
  {
   "cell_type": "code",
   "execution_count": null,
   "id": "8438527e-5ed9-423d-865b-eb0af5ff7168",
   "metadata": {},
   "outputs": [],
   "source": [
    "dadosPorte=pd.merge(dados,df_indice_RMA, how='inner')\n",
    "dadosPorte=dadosPorte.drop(columns={'count'}).rename(columns={'indice':'faixa'})\n",
    "dadosPorte.sort_values(by='RMA_media_div_pob_e_ext_pob')[-360:-355]"
   ]
  },
  {
   "cell_type": "markdown",
   "id": "3fc45dc3-6b69-4140-bed5-9a4d577e49c8",
   "metadata": {},
   "source": [
    "<h1>Filtro colunas importantes para estudo do indice</h1>"
   ]
  },
  {
   "cell_type": "code",
   "execution_count": null,
   "id": "03e9b249-5c26-4d83-9525-0276485e5d69",
   "metadata": {},
   "outputs": [],
   "source": [
    "RMA_classe=dadosPorte[['ibge_6','RMA_media_div_pob_e_ext_pob','Classe']]"
   ]
  },
  {
   "cell_type": "code",
   "execution_count": null,
   "id": "87d702b1-ad92-494c-8250-4e20e3f9dd92",
   "metadata": {},
   "outputs": [],
   "source": [
    "RMA_classe.describe()"
   ]
  },
  {
   "cell_type": "code",
   "execution_count": null,
   "id": "44e465ad-ad45-491d-8e6e-4418571e8ea6",
   "metadata": {},
   "outputs": [],
   "source": [
    "RMA_classe.sort_values(by='RMA_media_div_pob_e_ext_pob')"
   ]
  },
  {
   "cell_type": "code",
   "execution_count": null,
   "id": "6b0d21e5-4d7e-411e-a1de-963f017dd1b7",
   "metadata": {},
   "outputs": [],
   "source": [
    "dadosPorte.to_csv('dadosPorte_classe.csv',encoding = 'UTF-8')"
   ]
  },
  {
   "cell_type": "code",
   "execution_count": null,
   "id": "36542815-7bc4-41e3-941d-f161c7124dac",
   "metadata": {},
   "outputs": [],
   "source": [
    "grafico = dadosPorte['Classe'].value_counts()\n",
    "grafico = pd.DataFrame(grafico).sort_values(by=['Classe'])\n",
    "df_grafico = grafico.reset_index(drop=False).copy()\n",
    "print(df_grafico)\n",
    "m=sns.barplot(data = df_grafico, y = 'count', x = 'Classe')\n",
    "m.set_xticklabels(m.get_xticklabels(), rotation=30)"
   ]
  },
  {
   "cell_type": "markdown",
   "id": "ebd86e4f-86e2-4c0e-93df-3bd97d40ade9",
   "metadata": {},
   "source": [
    "<h2>Gráficos por porte</h2>"
   ]
  },
  {
   "cell_type": "code",
   "execution_count": null,
   "id": "55adc8a1-8d6f-4563-a8b1-6a697b54688b",
   "metadata": {},
   "outputs": [],
   "source": [
    "dadosPorteMetropole=dadosPorte[(dadosPorte['Porte']=='Metrópole')]\n",
    "dadosPorteMetropole"
   ]
  },
  {
   "cell_type": "code",
   "execution_count": null,
   "id": "6bceeef6-de91-4cf7-9223-f21111d44024",
   "metadata": {},
   "outputs": [],
   "source": [
    "Metropole = dadosPorteMetropole['faixa'].value_counts()\n",
    "Metropole = pd.DataFrame(Metropole).sort_values(by=['faixa'])\n",
    "df_indice_Metropole = Metropole.reset_index(drop=False).copy()\n",
    "m=sns.barplot(data = df_indice_Metropole, y = 'count', x = 'faixa')\n",
    "m.set_xticklabels(m.get_xticklabels(), rotation=30)"
   ]
  },
  {
   "cell_type": "code",
   "execution_count": null,
   "id": "4265925d-7da3-41f7-82a8-c9f5e2b57034",
   "metadata": {},
   "outputs": [],
   "source": [
    "dadosPorteGrande=dadosPorte[(dadosPorte['Porte']=='Grande')]\n",
    "dadosPorteGrande.head()"
   ]
  },
  {
   "cell_type": "code",
   "execution_count": null,
   "id": "6df459ba-96cb-4361-8874-3ff1cd801e9d",
   "metadata": {},
   "outputs": [],
   "source": [
    "Grande = dadosPorteGrande['faixa'].value_counts()\n",
    "Grande = pd.DataFrame(Grande).sort_values(by=['faixa'])\n",
    "df_indice_Grande = Grande.reset_index(drop=False).copy()\n",
    "g=sns.barplot(data = df_indice_Grande, y = 'count', x ='faixa')\n",
    "g.set_xticklabels(g.get_xticklabels(), rotation=30)"
   ]
  },
  {
   "cell_type": "code",
   "execution_count": null,
   "id": "44717fd3-4a86-471e-9741-a47a23e17ea0",
   "metadata": {},
   "outputs": [],
   "source": [
    "dadosPorteMedio=dadosPorte[(dadosPorte['Porte']=='Médio')]\n",
    "dadosPorteMedio.head()"
   ]
  },
  {
   "cell_type": "code",
   "execution_count": null,
   "id": "4aa3b77d-4442-48d5-bc0b-312375db0636",
   "metadata": {},
   "outputs": [],
   "source": [
    "Medio = dadosPorteMedio['faixa'].value_counts()\n",
    "Medio = pd.DataFrame(Medio).sort_values(by=['faixa'])\n",
    "df_indice_Medio = Medio.reset_index(drop=False).copy()\n",
    "print(df_indice_Medio)\n",
    "med=sns.barplot(data = df_indice_Medio, y = 'count', x ='faixa')\n",
    "med.set_xticklabels(med.get_xticklabels(), rotation=30)"
   ]
  },
  {
   "cell_type": "code",
   "execution_count": null,
   "id": "02b4ef99-37dc-4376-b82b-85192e431c93",
   "metadata": {},
   "outputs": [],
   "source": [
    "dadosPortePequenoI=dadosPorte[(dadosPorte['Porte']=='Pequeno I')]\n",
    "dadosPortePequenoI.head()"
   ]
  },
  {
   "cell_type": "code",
   "execution_count": null,
   "id": "f0da2374-365d-4f3f-9379-1b6499d85a53",
   "metadata": {},
   "outputs": [],
   "source": [
    "PequenoI= dadosPortePequenoI['faixa'].value_counts()\n",
    "PequenoI = pd.DataFrame(PequenoI).sort_values(by=['faixa'])\n",
    "df_indice_PequenoI = PequenoI.reset_index(drop=False).copy()\n",
    "PEQ1=sns.barplot(data = df_indice_PequenoI, y = 'count', x ='faixa')\n",
    "PEQ1.set_xticklabels(PEQ1.get_xticklabels(), rotation=30)"
   ]
  },
  {
   "cell_type": "code",
   "execution_count": null,
   "id": "83ccf725-9373-4979-bd97-ab82a4fa67e6",
   "metadata": {},
   "outputs": [],
   "source": [
    "dadosPortePequenoII=dadosPorte[(dadosPorte['Porte']=='Pequeno II')]\n",
    "dadosPortePequenoII.head()"
   ]
  },
  {
   "cell_type": "code",
   "execution_count": null,
   "id": "a5d98816-cf04-49dc-872b-483413945947",
   "metadata": {},
   "outputs": [],
   "source": [
    "PequenoII= dadosPortePequenoII['faixa'].value_counts()\n",
    "PequenoII = pd.DataFrame(PequenoII).sort_values(by=['faixa'])\n",
    "df_indice_PequenoII = PequenoII.reset_index(drop=False).copy()\n",
    "PEQ2=sns.barplot(data = df_indice_PequenoII, y = 'count', x ='faixa')\n",
    "PEQ2.set_xticklabels(PEQ2.get_xticklabels(), rotation=30)"
   ]
  },
  {
   "cell_type": "code",
   "execution_count": null,
   "id": "82071bfa-de0d-49d9-90a8-b02ac2c0f440",
   "metadata": {},
   "outputs": [],
   "source": [
    "dadosPorte['Porte'].value_counts()"
   ]
  },
  {
   "cell_type": "code",
   "execution_count": null,
   "id": "461107b2-ecfe-4b75-a226-e04f0c56646a",
   "metadata": {},
   "outputs": [],
   "source": [
    "fig = plt.figure(figsize=(12,7))\n",
    "\n",
    "ax1 = plt.subplot(3, 3, 1)\n",
    "sns.barplot(data = df_indice_Metropole, y = 'count', x ='faixa',ax=ax1)\n",
    "plt.xticks(rotation=30)\n",
    "\n",
    "plt.title('Metropole')\n",
    "\n",
    "ax2 = plt.subplot(3, 3, 2,sharey=ax1)\n",
    "sns.barplot(data = df_indice_Grande, y = 'count', x ='faixa',ax=ax2)\n",
    "plt.title('Grande')\n",
    "plt.xticks(rotation=30)\n",
    "\n",
    "ax3 = plt.subplot(3, 3, 3,sharey=ax2)\n",
    "sns.barplot(data = df_indice_Medio, y = 'count', x ='faixa',ax=ax3)\n",
    "plt.title('Medio')\n",
    "plt.xticks(rotation=30)\n",
    "\n",
    "\n",
    "fig = plt.figure(figsize=(12,7))\n",
    "\n",
    "ax1 = plt.subplot(2, 2, 1)\n",
    "sns.barplot(data = df_indice_PequenoII, y = 'count', x ='faixa',ax=ax1)\n",
    "plt.xticks(rotation=30)\n",
    "plt.title('PequenoII')\n",
    "\n",
    "ax2 = plt.subplot(2, 2, 2,sharey=ax1)\n",
    "sns.barplot(data = df_indice_PequenoI, y = 'count', x ='faixa',ax=ax2)\n",
    "plt.title('PequenoI')\n",
    "plt.xticks(rotation=30)"
   ]
  }
 ],
 "metadata": {
  "kernelspec": {
   "display_name": "Python 3 (ipykernel)",
   "language": "python",
   "name": "python3"
  },
  "language_info": {
   "codemirror_mode": {
    "name": "ipython",
    "version": 3
   },
   "file_extension": ".py",
   "mimetype": "text/x-python",
   "name": "python",
   "nbconvert_exporter": "python",
   "pygments_lexer": "ipython3",
   "version": "3.11.6"
  }
 },
 "nbformat": 4,
 "nbformat_minor": 5
}
