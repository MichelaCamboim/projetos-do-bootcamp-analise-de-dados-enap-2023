{
 "cells": [
  {
   "cell_type": "markdown",
   "id": "bd49123b-43ab-4b5e-a48f-c9bfd2c2d046",
   "metadata": {
    "tags": []
   },
   "source": [
    "## Acessando as urls com os aquivos disponibilizados\n",
    "Os arquivos estão disponíveis no Portal Dados Abertos, no conjunto de dados do Ministério do Desenvolvimento e Assistência Social, Família e Combate à Fome (MDS), acessado em https://dados.gov.br/dados/organizacoes/visualizar/ministerio-do-desenvolvimento-e-assistencia-social-familia-e-combate-a-fome"
   ]
  },
  {
   "cell_type": "code",
   "execution_count": 1,
   "id": "1c52ac2a-3d9c-41a2-a10d-0a94a5d75d67",
   "metadata": {
    "tags": []
   },
   "outputs": [],
   "source": [
    "url_cad_2023 = 'https://aplicacoes.mds.gov.br/sagi/servicos/misocial?fq=anomes_s:2023*&wt=csv&omitHeader=true&fq=cadunico_tot_fam_i:{0%20TO%20*]&q=*&fl=ibge:codigo_ibge,anomes:anomes_s,cadunico_tot_fam:cadunico_tot_fam_i,cadunico_tot_pes:cadunico_tot_pes_i,cadunico_tot_fam_rpc_ate_meio_sm:cadunico_tot_fam_rpc_ate_meio_sm_i,cadunico_tot_pes_rpc_ate_meio_sm:cadunico_tot_pes_rpc_ate_meio_sm_i,cadunico_tot_fam_pob:cadunico_tot_fam_pob_i,cadunico_tot_pes_pob:cadunico_tot_pes_pob_i,cadunico_tot_fam_ext_pob:cadunico_tot_fam_ext_pob_i,cadunico_tot_pes_ext_pob:cadunico_tot_pes_ext_pob_i,cadunico_tot_fam_pob_e_ext_pob:cadunico_tot_fam_pob_e_ext_pob_i,cadunico_tot_pes_pob_e_ext_pob:cadunico_tot_pes_pob_e_ext_pob_i&rows=100000000&sort=anomes_s%20desc,%20codigo_ibge%20asc'\n",
    "url_cad_2022 = 'https://aplicacoes.mds.gov.br/sagi/servicos/misocial?fq=anomes_s:2022*&wt=csv&omitHeader=true&fq=cadunico_tot_fam_i:{0%20TO%20*]&q=*&fl=ibge:codigo_ibge,anomes:anomes_s,cadunico_tot_fam:cadunico_tot_fam_i,cadunico_tot_pes:cadunico_tot_pes_i,cadunico_tot_fam_rpc_ate_meio_sm:cadunico_tot_fam_rpc_ate_meio_sm_i,cadunico_tot_pes_rpc_ate_meio_sm:cadunico_tot_pes_rpc_ate_meio_sm_i,cadunico_tot_fam_pob:cadunico_tot_fam_pob_i,cadunico_tot_pes_pob:cadunico_tot_pes_pob_i,cadunico_tot_fam_ext_pob:cadunico_tot_fam_ext_pob_i,cadunico_tot_pes_ext_pob:cadunico_tot_pes_ext_pob_i,cadunico_tot_fam_pob_e_ext_pob:cadunico_tot_fam_pob_e_ext_pob_i,cadunico_tot_pes_pob_e_ext_pob:cadunico_tot_pes_pob_e_ext_pob_i&rows=100000000&sort=anomes_s%20desc,%20codigo_ibge%20asc'\n",
    "url_cad_2021 = 'https://aplicacoes.mds.gov.br/sagi/servicos/misocial?fq=anomes_s:2021*&wt=csv&omitHeader=true&fq=cadunico_tot_fam_i:{0%20TO%20*]&q=*&fl=ibge:codigo_ibge,anomes:anomes_s,cadunico_tot_fam:cadunico_tot_fam_i,cadunico_tot_pes:cadunico_tot_pes_i,cadunico_tot_fam_rpc_ate_meio_sm:cadunico_tot_fam_rpc_ate_meio_sm_i,cadunico_tot_pes_rpc_ate_meio_sm:cadunico_tot_pes_rpc_ate_meio_sm_i,cadunico_tot_fam_pob:cadunico_tot_fam_pob_i,cadunico_tot_pes_pob:cadunico_tot_pes_pob_i,cadunico_tot_fam_ext_pob:cadunico_tot_fam_ext_pob_i,cadunico_tot_pes_ext_pob:cadunico_tot_pes_ext_pob_i,cadunico_tot_fam_pob_e_ext_pob:cadunico_tot_fam_pob_e_ext_pob_i,cadunico_tot_pes_pob_e_ext_pob:cadunico_tot_pes_pob_e_ext_pob_i&rows=100000000&sort=anomes_s%20desc,%20codigo_ibge%20asc'\n",
    "url_cad_2020 = 'https://aplicacoes.mds.gov.br/sagi/servicos/misocial?fq=anomes_s:2020*&wt=csv&omitHeader=true&fq=cadunico_tot_fam_i:{0%20TO%20*]&q=*&fl=ibge:codigo_ibge,anomes:anomes_s,cadunico_tot_fam:cadunico_tot_fam_i,cadunico_tot_pes:cadunico_tot_pes_i,cadunico_tot_fam_rpc_ate_meio_sm:cadunico_tot_fam_rpc_ate_meio_sm_i,cadunico_tot_pes_rpc_ate_meio_sm:cadunico_tot_pes_rpc_ate_meio_sm_i,cadunico_tot_fam_pob:cadunico_tot_fam_pob_i,cadunico_tot_pes_pob:cadunico_tot_pes_pob_i,cadunico_tot_fam_ext_pob:cadunico_tot_fam_ext_pob_i,cadunico_tot_pes_ext_pob:cadunico_tot_pes_ext_pob_i,cadunico_tot_fam_pob_e_ext_pob:cadunico_tot_fam_pob_e_ext_pob_i,cadunico_tot_pes_pob_e_ext_pob:cadunico_tot_pes_pob_e_ext_pob_i&rows=100000000&sort=anomes_s%20desc,%20codigo_ibge%20asc'\n",
    "url_cad_2019 = 'https://aplicacoes.mds.gov.br/sagi/servicos/misocial?fq=anomes_s:2019*&wt=csv&omitHeader=true&fq=cadunico_tot_fam_i:{0%20TO%20*]&q=*&fl=ibge:codigo_ibge,anomes:anomes_s,cadunico_tot_fam:cadunico_tot_fam_i,cadunico_tot_pes:cadunico_tot_pes_i,cadunico_tot_fam_rpc_ate_meio_sm:cadunico_tot_fam_rpc_ate_meio_sm_i,cadunico_tot_pes_rpc_ate_meio_sm:cadunico_tot_pes_rpc_ate_meio_sm_i,cadunico_tot_fam_pob:cadunico_tot_fam_pob_i,cadunico_tot_pes_pob:cadunico_tot_pes_pob_i,cadunico_tot_fam_ext_pob:cadunico_tot_fam_ext_pob_i,cadunico_tot_pes_ext_pob:cadunico_tot_pes_ext_pob_i,cadunico_tot_fam_pob_e_ext_pob:cadunico_tot_fam_pob_e_ext_pob_i,cadunico_tot_pes_pob_e_ext_pob:cadunico_tot_pes_pob_e_ext_pob_i&rows=100000000&sort=anomes_s%20desc,%20codigo_ibge%20asc'\n",
    "url_cad_2018 = 'https://aplicacoes.mds.gov.br/sagi/servicos/misocial?fq=anomes_s:2018*&wt=csv&omitHeader=true&fq=cadunico_tot_fam_i:{0%20TO%20*]&q=*&fl=ibge:codigo_ibge,anomes:anomes_s,cadunico_tot_fam:cadunico_tot_fam_i,cadunico_tot_pes:cadunico_tot_pes_i,cadunico_tot_fam_rpc_ate_meio_sm:cadunico_tot_fam_rpc_ate_meio_sm_i,cadunico_tot_pes_rpc_ate_meio_sm:cadunico_tot_pes_rpc_ate_meio_sm_i,cadunico_tot_fam_pob:cadunico_tot_fam_pob_i,cadunico_tot_pes_pob:cadunico_tot_pes_pob_i,cadunico_tot_fam_ext_pob:cadunico_tot_fam_ext_pob_i,cadunico_tot_pes_ext_pob:cadunico_tot_pes_ext_pob_i,cadunico_tot_fam_pob_e_ext_pob:cadunico_tot_fam_pob_e_ext_pob_i,cadunico_tot_pes_pob_e_ext_pob:cadunico_tot_pes_pob_e_ext_pob_i&rows=100000000&sort=anomes_s%20desc,%20codigo_ibge%20asc'\n",
    "url_cad_2017 = 'https://aplicacoes.mds.gov.br/sagi/servicos/misocial?fq=anomes_s:2017*&wt=csv&omitHeader=true&fq=cadunico_tot_fam_i:{0%20TO%20*]&q=*&fl=ibge:codigo_ibge,anomes:anomes_s,cadunico_tot_fam:cadunico_tot_fam_i,cadunico_tot_pes:cadunico_tot_pes_i,cadunico_tot_fam_rpc_ate_meio_sm:cadunico_tot_fam_rpc_ate_meio_sm_i,cadunico_tot_pes_rpc_ate_meio_sm:cadunico_tot_pes_rpc_ate_meio_sm_i,cadunico_tot_fam_pob:cadunico_tot_fam_pob_i,cadunico_tot_pes_pob:cadunico_tot_pes_pob_i,cadunico_tot_fam_ext_pob:cadunico_tot_fam_ext_pob_i,cadunico_tot_pes_ext_pob:cadunico_tot_pes_ext_pob_i,cadunico_tot_fam_pob_e_ext_pob:cadunico_tot_fam_pob_e_ext_pob_i,cadunico_tot_pes_pob_e_ext_pob:cadunico_tot_pes_pob_e_ext_pob_i&rows=100000000&sort=anomes_s%20desc,%20codigo_ibge%20asc'\n",
    "url_cad_2016 = 'https://aplicacoes.mds.gov.br/sagi/servicos/misocial?fq=anomes_s:2016*&wt=csv&omitHeader=true&fq=cadunico_tot_fam_i:{0%20TO%20*]&q=*&fl=ibge:codigo_ibge,anomes:anomes_s,cadunico_tot_fam:cadunico_tot_fam_i,cadunico_tot_pes:cadunico_tot_pes_i,cadunico_tot_fam_rpc_ate_meio_sm:cadunico_tot_fam_rpc_ate_meio_sm_i,cadunico_tot_pes_rpc_ate_meio_sm:cadunico_tot_pes_rpc_ate_meio_sm_i,cadunico_tot_fam_pob:cadunico_tot_fam_pob_i,cadunico_tot_pes_pob:cadunico_tot_pes_pob_i,cadunico_tot_fam_ext_pob:cadunico_tot_fam_ext_pob_i,cadunico_tot_pes_ext_pob:cadunico_tot_pes_ext_pob_i,cadunico_tot_fam_pob_e_ext_pob:cadunico_tot_fam_pob_e_ext_pob_i,cadunico_tot_pes_pob_e_ext_pob:cadunico_tot_pes_pob_e_ext_pob_i&rows=100000000&sort=anomes_s%20desc,%20codigo_ibge%20asc'\n",
    "url_cad_2015 = 'https://aplicacoes.mds.gov.br/sagi/servicos/misocial?fq=anomes_s:2015*&wt=csv&omitHeader=true&fq=cadunico_tot_fam_i:{0%20TO%20*]&q=*&fl=ibge:codigo_ibge,anomes:anomes_s,cadunico_tot_fam:cadunico_tot_fam_i,cadunico_tot_pes:cadunico_tot_pes_i,cadunico_tot_fam_rpc_ate_meio_sm:cadunico_tot_fam_rpc_ate_meio_sm_i,cadunico_tot_pes_rpc_ate_meio_sm:cadunico_tot_pes_rpc_ate_meio_sm_i,cadunico_tot_fam_pob:cadunico_tot_fam_pob_i,cadunico_tot_pes_pob:cadunico_tot_pes_pob_i,cadunico_tot_fam_ext_pob:cadunico_tot_fam_ext_pob_i,cadunico_tot_pes_ext_pob:cadunico_tot_pes_ext_pob_i,cadunico_tot_fam_pob_e_ext_pob:cadunico_tot_fam_pob_e_ext_pob_i,cadunico_tot_pes_pob_e_ext_pob:cadunico_tot_pes_pob_e_ext_pob_i&rows=100000000&sort=anomes_s%20desc,%20codigo_ibge%20asc'\n",
    "url_cad_2014 = 'https://aplicacoes.mds.gov.br/sagi/servicos/misocial?fq=anomes_s:2014*&wt=csv&omitHeader=true&fq=cadunico_tot_fam_i:{0%20TO%20*]&q=*&fl=ibge:codigo_ibge,anomes:anomes_s,cadunico_tot_fam:cadunico_tot_fam_i,cadunico_tot_pes:cadunico_tot_pes_i,cadunico_tot_fam_rpc_ate_meio_sm:cadunico_tot_fam_rpc_ate_meio_sm_i,cadunico_tot_pes_rpc_ate_meio_sm:cadunico_tot_pes_rpc_ate_meio_sm_i,cadunico_tot_fam_pob:cadunico_tot_fam_pob_i,cadunico_tot_pes_pob:cadunico_tot_pes_pob_i,cadunico_tot_fam_ext_pob:cadunico_tot_fam_ext_pob_i,cadunico_tot_pes_ext_pob:cadunico_tot_pes_ext_pob_i,cadunico_tot_fam_pob_e_ext_pob:cadunico_tot_fam_pob_e_ext_pob_i,cadunico_tot_pes_pob_e_ext_pob:cadunico_tot_pes_pob_e_ext_pob_i&rows=100000000&sort=anomes_s%20desc,%20codigo_ibge%20asc'\n",
    "url_cad_2013 = 'https://aplicacoes.mds.gov.br/sagi/servicos/misocial?fq=anomes_s:2013*&wt=csv&omitHeader=true&fq=cadunico_tot_fam_i:{0%20TO%20*]&q=*&fl=ibge:codigo_ibge,anomes:anomes_s,cadunico_tot_fam:cadunico_tot_fam_i,cadunico_tot_pes:cadunico_tot_pes_i,cadunico_tot_fam_rpc_ate_meio_sm:cadunico_tot_fam_rpc_ate_meio_sm_i,cadunico_tot_pes_rpc_ate_meio_sm:cadunico_tot_pes_rpc_ate_meio_sm_i,cadunico_tot_fam_pob:cadunico_tot_fam_pob_i,cadunico_tot_pes_pob:cadunico_tot_pes_pob_i,cadunico_tot_fam_ext_pob:cadunico_tot_fam_ext_pob_i,cadunico_tot_pes_ext_pob:cadunico_tot_pes_ext_pob_i,cadunico_tot_fam_pob_e_ext_pob:cadunico_tot_fam_pob_e_ext_pob_i,cadunico_tot_pes_pob_e_ext_pob:cadunico_tot_pes_pob_e_ext_pob_i&rows=100000000&sort=anomes_s%20desc,%20codigo_ibge%20asc'\n",
    "url_cad_2012 = 'https://aplicacoes.mds.gov.br/sagi/servicos/misocial?fq=anomes_s:2012*&wt=csv&omitHeader=true&fq=cadunico_tot_fam_i:{0%20TO%20*]&q=*&fl=ibge:codigo_ibge,anomes:anomes_s,cadunico_tot_fam:cadunico_tot_fam_i,cadunico_tot_pes:cadunico_tot_pes_i,cadunico_tot_fam_rpc_ate_meio_sm:cadunico_tot_fam_rpc_ate_meio_sm_i,cadunico_tot_pes_rpc_ate_meio_sm:cadunico_tot_pes_rpc_ate_meio_sm_i,cadunico_tot_fam_pob:cadunico_tot_fam_pob_i,cadunico_tot_pes_pob:cadunico_tot_pes_pob_i,cadunico_tot_fam_ext_pob:cadunico_tot_fam_ext_pob_i,cadunico_tot_pes_ext_pob:cadunico_tot_pes_ext_pob_i,cadunico_tot_fam_pob_e_ext_pob:cadunico_tot_fam_pob_e_ext_pob_i,cadunico_tot_pes_pob_e_ext_pob:cadunico_tot_pes_pob_e_ext_pob_i&rows=100000000&sort=anomes_s%20desc,%20codigo_ibge%20asc'\n",
    "url_cad_2011 = 'https://aplicacoes.mds.gov.br/sagi/servicos/misocial?fq=anomes_s:2011*&wt=csv&omitHeader=true&fq=cadunico_tot_fam_i:{0%20TO%20*]&q=*&fl=ibge:codigo_ibge,anomes:anomes_s,cadunico_tot_fam:cadunico_tot_fam_i,cadunico_tot_pes:cadunico_tot_pes_i,cadunico_tot_fam_rpc_ate_meio_sm:cadunico_tot_fam_rpc_ate_meio_sm_i,cadunico_tot_pes_rpc_ate_meio_sm:cadunico_tot_pes_rpc_ate_meio_sm_i,cadunico_tot_fam_pob:cadunico_tot_fam_pob_i,cadunico_tot_pes_pob:cadunico_tot_pes_pob_i,cadunico_tot_fam_ext_pob:cadunico_tot_fam_ext_pob_i,cadunico_tot_pes_ext_pob:cadunico_tot_pes_ext_pob_i,cadunico_tot_fam_pob_e_ext_pob:cadunico_tot_fam_pob_e_ext_pob_i,cadunico_tot_pes_pob_e_ext_pob:cadunico_tot_pes_pob_e_ext_pob_i&rows=100000000&sort=anomes_s%20desc,%20codigo_ibge%20asc'\n",
    "url_cad_2010 = 'https://aplicacoes.mds.gov.br/sagi/servicos/misocial?fq=anomes_s:2010*&wt=csv&omitHeader=true&fq=cadunico_tot_fam_i:{0%20TO%20*]&q=*&fl=ibge:codigo_ibge,anomes:anomes_s,cadunico_tot_fam:cadunico_tot_fam_i,cadunico_tot_pes:cadunico_tot_pes_i,cadunico_tot_fam_rpc_ate_meio_sm:cadunico_tot_fam_rpc_ate_meio_sm_i,cadunico_tot_pes_rpc_ate_meio_sm:cadunico_tot_pes_rpc_ate_meio_sm_i,cadunico_tot_fam_pob:cadunico_tot_fam_pob_i,cadunico_tot_pes_pob:cadunico_tot_pes_pob_i,cadunico_tot_fam_ext_pob:cadunico_tot_fam_ext_pob_i,cadunico_tot_pes_ext_pob:cadunico_tot_pes_ext_pob_i,cadunico_tot_fam_pob_e_ext_pob:cadunico_tot_fam_pob_e_ext_pob_i,cadunico_tot_pes_pob_e_ext_pob:cadunico_tot_pes_pob_e_ext_pob_i&rows=100000000&sort=anomes_s%20desc,%20codigo_ibge%20asc'\n",
    "url_cad_2009 = 'https://aplicacoes.mds.gov.br/sagi/servicos/misocial?fq=anomes_s:2009*&wt=csv&omitHeader=true&fq=cadunico_tot_fam_i:{0%20TO%20*]&q=*&fl=ibge:codigo_ibge,anomes:anomes_s,cadunico_tot_fam:cadunico_tot_fam_i,cadunico_tot_pes:cadunico_tot_pes_i,cadunico_tot_fam_rpc_ate_meio_sm:cadunico_tot_fam_rpc_ate_meio_sm_i,cadunico_tot_pes_rpc_ate_meio_sm:cadunico_tot_pes_rpc_ate_meio_sm_i,cadunico_tot_fam_pob:cadunico_tot_fam_pob_i,cadunico_tot_pes_pob:cadunico_tot_pes_pob_i,cadunico_tot_fam_ext_pob:cadunico_tot_fam_ext_pob_i,cadunico_tot_pes_ext_pob:cadunico_tot_pes_ext_pob_i,cadunico_tot_fam_pob_e_ext_pob:cadunico_tot_fam_pob_e_ext_pob_i,cadunico_tot_pes_pob_e_ext_pob:cadunico_tot_pes_pob_e_ext_pob_i&rows=100000000&sort=anomes_s%20desc,%20codigo_ibge%20asc'\n",
    "url_cad_2008 = 'https://aplicacoes.mds.gov.br/sagi/servicos/misocial?fq=anomes_s:2008*&wt=csv&omitHeader=true&fq=cadunico_tot_fam_i:{0%20TO%20*]&q=*&fl=ibge:codigo_ibge,anomes:anomes_s,cadunico_tot_fam:cadunico_tot_fam_i,cadunico_tot_pes:cadunico_tot_pes_i,cadunico_tot_fam_rpc_ate_meio_sm:cadunico_tot_fam_rpc_ate_meio_sm_i,cadunico_tot_pes_rpc_ate_meio_sm:cadunico_tot_pes_rpc_ate_meio_sm_i,cadunico_tot_fam_pob:cadunico_tot_fam_pob_i,cadunico_tot_pes_pob:cadunico_tot_pes_pob_i,cadunico_tot_fam_ext_pob:cadunico_tot_fam_ext_pob_i,cadunico_tot_pes_ext_pob:cadunico_tot_pes_ext_pob_i,cadunico_tot_fam_pob_e_ext_pob:cadunico_tot_fam_pob_e_ext_pob_i,cadunico_tot_pes_pob_e_ext_pob:cadunico_tot_pes_pob_e_ext_pob_i&rows=100000000&sort=anomes_s%20desc,%20codigo_ibge%20asc'\n",
    "url_cad_2007 = 'https://aplicacoes.mds.gov.br/sagi/servicos/misocial?fq=anomes_s:2007*&wt=csv&omitHeader=true&fq=cadunico_tot_fam_i:{0%20TO%20*]&q=*&fl=ibge:codigo_ibge,anomes:anomes_s,cadunico_tot_fam:cadunico_tot_fam_i,cadunico_tot_pes:cadunico_tot_pes_i,cadunico_tot_fam_rpc_ate_meio_sm:cadunico_tot_fam_rpc_ate_meio_sm_i,cadunico_tot_pes_rpc_ate_meio_sm:cadunico_tot_pes_rpc_ate_meio_sm_i,cadunico_tot_fam_pob:cadunico_tot_fam_pob_i,cadunico_tot_pes_pob:cadunico_tot_pes_pob_i,cadunico_tot_fam_ext_pob:cadunico_tot_fam_ext_pob_i,cadunico_tot_pes_ext_pob:cadunico_tot_pes_ext_pob_i,cadunico_tot_fam_pob_e_ext_pob:cadunico_tot_fam_pob_e_ext_pob_i,cadunico_tot_pes_pob_e_ext_pob:cadunico_tot_pes_pob_e_ext_pob_i&rows=100000000&sort=anomes_s%20desc,%20codigo_ibge%20asc'\n",
    "url_cad_2006 = 'https://aplicacoes.mds.gov.br/sagi/servicos/misocial?fq=anomes_s:2006*&wt=csv&omitHeader=true&fq=cadunico_tot_fam_i:{0%20TO%20*]&q=*&fl=ibge:codigo_ibge,anomes:anomes_s,cadunico_tot_fam:cadunico_tot_fam_i,cadunico_tot_pes:cadunico_tot_pes_i,cadunico_tot_fam_rpc_ate_meio_sm:cadunico_tot_fam_rpc_ate_meio_sm_i,cadunico_tot_pes_rpc_ate_meio_sm:cadunico_tot_pes_rpc_ate_meio_sm_i,cadunico_tot_fam_pob:cadunico_tot_fam_pob_i,cadunico_tot_pes_pob:cadunico_tot_pes_pob_i,cadunico_tot_fam_ext_pob:cadunico_tot_fam_ext_pob_i,cadunico_tot_pes_ext_pob:cadunico_tot_pes_ext_pob_i,cadunico_tot_fam_pob_e_ext_pob:cadunico_tot_fam_pob_e_ext_pob_i,cadunico_tot_pes_pob_e_ext_pob:cadunico_tot_pes_pob_e_ext_pob_i&rows=100000000&sort=anomes_s%20desc,%20codigo_ibge%20asc'"
   ]
  },
  {
   "cell_type": "markdown",
   "id": "63eb2851-c756-47f3-9d3c-3eb497530104",
   "metadata": {},
   "source": [
    "## Dicionário do conjunto de dados\n",
    "\n",
    "### Neste conjunto de dados temos as seguintes variáveis:\n",
    "\n",
    "ibge: código ibge do município\n",
    "\n",
    "anomes: Ano/mês de referência do dado\n",
    "\n",
    "cadunico_tot_fam: total de famílias cadastradas\n",
    "\n",
    "cadunico_tot_pes: total de pessoas cadastradas\n",
    "\n",
    "cadunico_tot_fam_rpc_ate_meio_sm: total de famílias com renda per capita até meio salário mínimo\n",
    "\n",
    "cadunico_tot_pes_rpc_ate_meio_sm:: total de pessoas com renda per capita até meio salário mínimo\n",
    "\n",
    "cadunico_tot_fam_pob: total de famílias em situação de pobreza\n",
    "\n",
    "cadunico_tot_pes_pob: total de pessoas em situação de pobreza\n",
    "\n",
    "cadunico_tot_fam_ext_pob: total de famílias em situação de extrema pobreza\n",
    "\n",
    "cadunico_tot_pes_ext_pob: total de pessoas em situação de extrema pobreza\n",
    "\n",
    "cadunico_tot_fam_pob_e_ext_pob: total de famílias em situação de pobreza e de extrema pobreza\n",
    "\n",
    "cadunico_tot_pes_pob_e_ext_pob: total de pessoas em situação de pobreza e de extrema pobreza\n",
    "\n",
    "Situação de extrema pobreza\n",
    "\n",
    "### Até abril de 2014: renda per capita menor igual a 70 reais\n",
    "De maio de 2014 a junho de 2016: renda per capita menor igual a 77 reais\n",
    "De julho de 2016 a maio de 2018: renda per capita menor igual a 85 reais\n",
    "De junho de 2018 em diante: renda per capita menor igual a 89 reais\n",
    "Situação de pobreza\n",
    "\n",
    "### Até abril de 2014: renda per capita de 70,01 reais a 140 reais\n",
    "De maio de 2014 a junho de 2016: renda per capita de 77,01 reais a 154 reais\n",
    "De julho de 2016 a maio de 2018: renda per capita de 85,01 reais a 170 reais\n",
    "De junho de 2018 em diante: renda per capita de 89,01 reais a 178 reais\n",
    "\n",
    "*As definições de extrema pobreza e pobreza são atualizadas ao longo dos anos, conforme o Art. 18 do Decreto nº 5.209 de 17/09/2004."
   ]
  },
  {
   "cell_type": "code",
   "execution_count": 2,
   "id": "401b20a2-690b-4b3b-8ba0-1762ce8f2652",
   "metadata": {
    "tags": []
   },
   "outputs": [],
   "source": [
    "import pandas as pd"
   ]
  },
  {
   "cell_type": "code",
   "execution_count": 3,
   "id": "23b06af7-246f-47e0-95bd-c3e79f1dca28",
   "metadata": {
    "tags": []
   },
   "outputs": [],
   "source": [
    "df_cad_2023 = pd.read_csv(url_cad_2023, sep = \",\")\n",
    "df_cad_2022 = pd.read_csv(url_cad_2022, sep = \",\")\n",
    "df_cad_2021 = pd.read_csv(url_cad_2021, sep = \",\")\n",
    "df_cad_2020 = pd.read_csv(url_cad_2020, sep = \",\")\n",
    "df_cad_2019 = pd.read_csv(url_cad_2019, sep = \",\")\n",
    "df_cad_2018 = pd.read_csv(url_cad_2018, sep = \",\")\n",
    "df_cad_2017 = pd.read_csv(url_cad_2017, sep = \",\")\n",
    "df_cad_2016 = pd.read_csv(url_cad_2016, sep = \",\")\n",
    "df_cad_2015 = pd.read_csv(url_cad_2015, sep = \",\")\n",
    "df_cad_2014 = pd.read_csv(url_cad_2014, sep = \",\")\n",
    "df_cad_2013 = pd.read_csv(url_cad_2013, sep = \",\")\n",
    "df_cad_2012 = pd.read_csv(url_cad_2012, sep = \",\")\n",
    "df_cad_2011 = pd.read_csv(url_cad_2011, sep = \",\")\n",
    "df_cad_2010 = pd.read_csv(url_cad_2010, sep = \",\")\n",
    "df_cad_2009 = pd.read_csv(url_cad_2009, sep = \",\")\n",
    "df_cad_2008 = pd.read_csv(url_cad_2008, sep = \",\")\n",
    "df_cad_2007 = pd.read_csv(url_cad_2007, sep = \",\")\n",
    "df_cad_2006 = pd.read_csv(url_cad_2006, sep = \",\")"
   ]
  },
  {
   "cell_type": "markdown",
   "id": "c508b64c-0ce1-44ee-99ba-d8b85678931e",
   "metadata": {},
   "source": [
    "## Analisando os Dataframes criados de cada ano\n",
    "No Portal Dados Abertos estão disponibilizados arquivos de 2006 a 2023. Ao analisar cada arquivo observou-se que os dados de faixa de renda constam a partir dos arquivos de 2012. Desta forma, a análise de mobilidade de renda será feita a partir de dados do Cadastro Único de 2012 a 2023. Também, foi identificado que alguns meses de 2012 estão com dados ausentes. "
   ]
  },
  {
   "cell_type": "code",
   "execution_count": 4,
   "id": "d17690c8-646b-4fd4-b57e-084b4f314771",
   "metadata": {},
   "outputs": [
    {
     "name": "stdout",
     "output_type": "stream",
     "text": [
      "<class 'pandas.core.frame.DataFrame'>\n",
      "RangeIndex: 44560 entries, 0 to 44559\n",
      "Data columns (total 12 columns):\n",
      " #   Column                            Non-Null Count  Dtype\n",
      "---  ------                            --------------  -----\n",
      " 0   ibge                              44560 non-null  int64\n",
      " 1   anomes                            44560 non-null  int64\n",
      " 2   cadunico_tot_fam                  44560 non-null  int64\n",
      " 3   cadunico_tot_pes                  44560 non-null  int64\n",
      " 4   cadunico_tot_fam_rpc_ate_meio_sm  44560 non-null  int64\n",
      " 5   cadunico_tot_pes_rpc_ate_meio_sm  44560 non-null  int64\n",
      " 6   cadunico_tot_fam_pob              44560 non-null  int64\n",
      " 7   cadunico_tot_pes_pob              44560 non-null  int64\n",
      " 8   cadunico_tot_fam_ext_pob          44560 non-null  int64\n",
      " 9   cadunico_tot_pes_ext_pob          44560 non-null  int64\n",
      " 10  cadunico_tot_fam_pob_e_ext_pob    44560 non-null  int64\n",
      " 11  cadunico_tot_pes_pob_e_ext_pob    44560 non-null  int64\n",
      "dtypes: int64(12)\n",
      "memory usage: 4.1 MB\n"
     ]
    }
   ],
   "source": [
    "# Base de 2023\n",
    "df_cad_2023.info()"
   ]
  },
  {
   "cell_type": "code",
   "execution_count": 5,
   "id": "7b810051-b8f3-478f-9bd3-54b42c1648ed",
   "metadata": {
    "tags": []
   },
   "outputs": [
    {
     "data": {
      "text/html": [
       "<div>\n",
       "<style scoped>\n",
       "    .dataframe tbody tr th:only-of-type {\n",
       "        vertical-align: middle;\n",
       "    }\n",
       "\n",
       "    .dataframe tbody tr th {\n",
       "        vertical-align: top;\n",
       "    }\n",
       "\n",
       "    .dataframe thead th {\n",
       "        text-align: right;\n",
       "    }\n",
       "</style>\n",
       "<table border=\"1\" class=\"dataframe\">\n",
       "  <thead>\n",
       "    <tr style=\"text-align: right;\">\n",
       "      <th></th>\n",
       "      <th>ibge</th>\n",
       "      <th>anomes</th>\n",
       "      <th>cadunico_tot_fam</th>\n",
       "      <th>cadunico_tot_pes</th>\n",
       "      <th>cadunico_tot_fam_rpc_ate_meio_sm</th>\n",
       "      <th>cadunico_tot_pes_rpc_ate_meio_sm</th>\n",
       "      <th>cadunico_tot_fam_pob</th>\n",
       "      <th>cadunico_tot_pes_pob</th>\n",
       "      <th>cadunico_tot_fam_ext_pob</th>\n",
       "      <th>cadunico_tot_pes_ext_pob</th>\n",
       "      <th>cadunico_tot_fam_pob_e_ext_pob</th>\n",
       "      <th>cadunico_tot_pes_pob_e_ext_pob</th>\n",
       "    </tr>\n",
       "  </thead>\n",
       "  <tbody>\n",
       "    <tr>\n",
       "      <th>0</th>\n",
       "      <td>110001</td>\n",
       "      <td>202308</td>\n",
       "      <td>4863</td>\n",
       "      <td>12536</td>\n",
       "      <td>2916</td>\n",
       "      <td>8712</td>\n",
       "      <td>753</td>\n",
       "      <td>2403</td>\n",
       "      <td>794</td>\n",
       "      <td>2176</td>\n",
       "      <td>1547</td>\n",
       "      <td>4579</td>\n",
       "    </tr>\n",
       "    <tr>\n",
       "      <th>1</th>\n",
       "      <td>110002</td>\n",
       "      <td>202308</td>\n",
       "      <td>18435</td>\n",
       "      <td>43034</td>\n",
       "      <td>11545</td>\n",
       "      <td>30454</td>\n",
       "      <td>2826</td>\n",
       "      <td>7904</td>\n",
       "      <td>3326</td>\n",
       "      <td>8153</td>\n",
       "      <td>6152</td>\n",
       "      <td>16057</td>\n",
       "    </tr>\n",
       "    <tr>\n",
       "      <th>2</th>\n",
       "      <td>110003</td>\n",
       "      <td>202308</td>\n",
       "      <td>933</td>\n",
       "      <td>2529</td>\n",
       "      <td>596</td>\n",
       "      <td>1807</td>\n",
       "      <td>159</td>\n",
       "      <td>493</td>\n",
       "      <td>112</td>\n",
       "      <td>310</td>\n",
       "      <td>271</td>\n",
       "      <td>803</td>\n",
       "    </tr>\n",
       "    <tr>\n",
       "      <th>3</th>\n",
       "      <td>110004</td>\n",
       "      <td>202308</td>\n",
       "      <td>18058</td>\n",
       "      <td>42056</td>\n",
       "      <td>10222</td>\n",
       "      <td>27382</td>\n",
       "      <td>2302</td>\n",
       "      <td>6428</td>\n",
       "      <td>3467</td>\n",
       "      <td>8541</td>\n",
       "      <td>5769</td>\n",
       "      <td>14969</td>\n",
       "    </tr>\n",
       "    <tr>\n",
       "      <th>4</th>\n",
       "      <td>110005</td>\n",
       "      <td>202308</td>\n",
       "      <td>3136</td>\n",
       "      <td>7653</td>\n",
       "      <td>1876</td>\n",
       "      <td>5311</td>\n",
       "      <td>531</td>\n",
       "      <td>1524</td>\n",
       "      <td>554</td>\n",
       "      <td>1557</td>\n",
       "      <td>1085</td>\n",
       "      <td>3081</td>\n",
       "    </tr>\n",
       "  </tbody>\n",
       "</table>\n",
       "</div>"
      ],
      "text/plain": [
       "     ibge  anomes  cadunico_tot_fam  cadunico_tot_pes  \\\n",
       "0  110001  202308              4863             12536   \n",
       "1  110002  202308             18435             43034   \n",
       "2  110003  202308               933              2529   \n",
       "3  110004  202308             18058             42056   \n",
       "4  110005  202308              3136              7653   \n",
       "\n",
       "   cadunico_tot_fam_rpc_ate_meio_sm  cadunico_tot_pes_rpc_ate_meio_sm  \\\n",
       "0                              2916                              8712   \n",
       "1                             11545                             30454   \n",
       "2                               596                              1807   \n",
       "3                             10222                             27382   \n",
       "4                              1876                              5311   \n",
       "\n",
       "   cadunico_tot_fam_pob  cadunico_tot_pes_pob  cadunico_tot_fam_ext_pob  \\\n",
       "0                   753                  2403                       794   \n",
       "1                  2826                  7904                      3326   \n",
       "2                   159                   493                       112   \n",
       "3                  2302                  6428                      3467   \n",
       "4                   531                  1524                       554   \n",
       "\n",
       "   cadunico_tot_pes_ext_pob  cadunico_tot_fam_pob_e_ext_pob  \\\n",
       "0                      2176                            1547   \n",
       "1                      8153                            6152   \n",
       "2                       310                             271   \n",
       "3                      8541                            5769   \n",
       "4                      1557                            1085   \n",
       "\n",
       "   cadunico_tot_pes_pob_e_ext_pob  \n",
       "0                            4579  \n",
       "1                           16057  \n",
       "2                             803  \n",
       "3                           14969  \n",
       "4                            3081  "
      ]
     },
     "execution_count": 5,
     "metadata": {},
     "output_type": "execute_result"
    }
   ],
   "source": [
    "df_cad_2023.head()"
   ]
  },
  {
   "cell_type": "code",
   "execution_count": 6,
   "id": "ee0951b2-2a12-4ba2-8460-7e072f8071f6",
   "metadata": {
    "tags": []
   },
   "outputs": [
    {
     "name": "stdout",
     "output_type": "stream",
     "text": [
      "<class 'pandas.core.frame.DataFrame'>\n",
      "RangeIndex: 66840 entries, 0 to 66839\n",
      "Data columns (total 12 columns):\n",
      " #   Column                            Non-Null Count  Dtype\n",
      "---  ------                            --------------  -----\n",
      " 0   ibge                              66840 non-null  int64\n",
      " 1   anomes                            66840 non-null  int64\n",
      " 2   cadunico_tot_fam                  66840 non-null  int64\n",
      " 3   cadunico_tot_pes                  66840 non-null  int64\n",
      " 4   cadunico_tot_fam_rpc_ate_meio_sm  66840 non-null  int64\n",
      " 5   cadunico_tot_pes_rpc_ate_meio_sm  66840 non-null  int64\n",
      " 6   cadunico_tot_fam_pob              66840 non-null  int64\n",
      " 7   cadunico_tot_pes_pob              66840 non-null  int64\n",
      " 8   cadunico_tot_fam_ext_pob          66840 non-null  int64\n",
      " 9   cadunico_tot_pes_ext_pob          66840 non-null  int64\n",
      " 10  cadunico_tot_fam_pob_e_ext_pob    66840 non-null  int64\n",
      " 11  cadunico_tot_pes_pob_e_ext_pob    66840 non-null  int64\n",
      "dtypes: int64(12)\n",
      "memory usage: 6.1 MB\n"
     ]
    }
   ],
   "source": [
    "# Base de 2022\n",
    "df_cad_2022.info()"
   ]
  },
  {
   "cell_type": "code",
   "execution_count": 7,
   "id": "3e661b10-56bb-4feb-9708-e821f1083f08",
   "metadata": {
    "tags": []
   },
   "outputs": [
    {
     "name": "stdout",
     "output_type": "stream",
     "text": [
      "<class 'pandas.core.frame.DataFrame'>\n",
      "RangeIndex: 66840 entries, 0 to 66839\n",
      "Data columns (total 12 columns):\n",
      " #   Column                            Non-Null Count  Dtype\n",
      "---  ------                            --------------  -----\n",
      " 0   ibge                              66840 non-null  int64\n",
      " 1   anomes                            66840 non-null  int64\n",
      " 2   cadunico_tot_fam                  66840 non-null  int64\n",
      " 3   cadunico_tot_pes                  66840 non-null  int64\n",
      " 4   cadunico_tot_fam_rpc_ate_meio_sm  66840 non-null  int64\n",
      " 5   cadunico_tot_pes_rpc_ate_meio_sm  66840 non-null  int64\n",
      " 6   cadunico_tot_fam_pob              66840 non-null  int64\n",
      " 7   cadunico_tot_pes_pob              66840 non-null  int64\n",
      " 8   cadunico_tot_fam_ext_pob          66840 non-null  int64\n",
      " 9   cadunico_tot_pes_ext_pob          66840 non-null  int64\n",
      " 10  cadunico_tot_fam_pob_e_ext_pob    66840 non-null  int64\n",
      " 11  cadunico_tot_pes_pob_e_ext_pob    66840 non-null  int64\n",
      "dtypes: int64(12)\n",
      "memory usage: 6.1 MB\n"
     ]
    }
   ],
   "source": [
    "# Base de 2021\n",
    "df_cad_2021.info()"
   ]
  },
  {
   "cell_type": "code",
   "execution_count": 8,
   "id": "8c03fff8-6ef2-4f36-b02e-ce699aaa63b8",
   "metadata": {
    "tags": []
   },
   "outputs": [
    {
     "name": "stdout",
     "output_type": "stream",
     "text": [
      "<class 'pandas.core.frame.DataFrame'>\n",
      "RangeIndex: 66840 entries, 0 to 66839\n",
      "Data columns (total 12 columns):\n",
      " #   Column                            Non-Null Count  Dtype\n",
      "---  ------                            --------------  -----\n",
      " 0   ibge                              66840 non-null  int64\n",
      " 1   anomes                            66840 non-null  int64\n",
      " 2   cadunico_tot_fam                  66840 non-null  int64\n",
      " 3   cadunico_tot_pes                  66840 non-null  int64\n",
      " 4   cadunico_tot_fam_rpc_ate_meio_sm  66840 non-null  int64\n",
      " 5   cadunico_tot_pes_rpc_ate_meio_sm  66840 non-null  int64\n",
      " 6   cadunico_tot_fam_pob              66840 non-null  int64\n",
      " 7   cadunico_tot_pes_pob              66840 non-null  int64\n",
      " 8   cadunico_tot_fam_ext_pob          66840 non-null  int64\n",
      " 9   cadunico_tot_pes_ext_pob          66840 non-null  int64\n",
      " 10  cadunico_tot_fam_pob_e_ext_pob    66840 non-null  int64\n",
      " 11  cadunico_tot_pes_pob_e_ext_pob    66840 non-null  int64\n",
      "dtypes: int64(12)\n",
      "memory usage: 6.1 MB\n"
     ]
    }
   ],
   "source": [
    "# Base de 2020\n",
    "df_cad_2020.info()"
   ]
  },
  {
   "cell_type": "code",
   "execution_count": 9,
   "id": "26afcb81-13cf-4c78-9be4-b962ab51bd59",
   "metadata": {
    "tags": []
   },
   "outputs": [
    {
     "name": "stdout",
     "output_type": "stream",
     "text": [
      "<class 'pandas.core.frame.DataFrame'>\n",
      "RangeIndex: 66840 entries, 0 to 66839\n",
      "Data columns (total 12 columns):\n",
      " #   Column                            Non-Null Count  Dtype\n",
      "---  ------                            --------------  -----\n",
      " 0   ibge                              66840 non-null  int64\n",
      " 1   anomes                            66840 non-null  int64\n",
      " 2   cadunico_tot_fam                  66840 non-null  int64\n",
      " 3   cadunico_tot_pes                  66840 non-null  int64\n",
      " 4   cadunico_tot_fam_rpc_ate_meio_sm  66840 non-null  int64\n",
      " 5   cadunico_tot_pes_rpc_ate_meio_sm  66840 non-null  int64\n",
      " 6   cadunico_tot_fam_pob              66840 non-null  int64\n",
      " 7   cadunico_tot_pes_pob              66840 non-null  int64\n",
      " 8   cadunico_tot_fam_ext_pob          66840 non-null  int64\n",
      " 9   cadunico_tot_pes_ext_pob          66840 non-null  int64\n",
      " 10  cadunico_tot_fam_pob_e_ext_pob    66840 non-null  int64\n",
      " 11  cadunico_tot_pes_pob_e_ext_pob    66840 non-null  int64\n",
      "dtypes: int64(12)\n",
      "memory usage: 6.1 MB\n"
     ]
    }
   ],
   "source": [
    "# Base de 2019\n",
    "df_cad_2019.info()"
   ]
  },
  {
   "cell_type": "code",
   "execution_count": 10,
   "id": "6f92a9d8-a7f7-4ca8-9bb1-aa980789ba66",
   "metadata": {
    "tags": []
   },
   "outputs": [
    {
     "name": "stdout",
     "output_type": "stream",
     "text": [
      "<class 'pandas.core.frame.DataFrame'>\n",
      "RangeIndex: 66840 entries, 0 to 66839\n",
      "Data columns (total 12 columns):\n",
      " #   Column                            Non-Null Count  Dtype\n",
      "---  ------                            --------------  -----\n",
      " 0   ibge                              66840 non-null  int64\n",
      " 1   anomes                            66840 non-null  int64\n",
      " 2   cadunico_tot_fam                  66840 non-null  int64\n",
      " 3   cadunico_tot_pes                  66840 non-null  int64\n",
      " 4   cadunico_tot_fam_rpc_ate_meio_sm  66840 non-null  int64\n",
      " 5   cadunico_tot_pes_rpc_ate_meio_sm  66840 non-null  int64\n",
      " 6   cadunico_tot_fam_pob              66840 non-null  int64\n",
      " 7   cadunico_tot_pes_pob              66840 non-null  int64\n",
      " 8   cadunico_tot_fam_ext_pob          66840 non-null  int64\n",
      " 9   cadunico_tot_pes_ext_pob          66840 non-null  int64\n",
      " 10  cadunico_tot_fam_pob_e_ext_pob    66840 non-null  int64\n",
      " 11  cadunico_tot_pes_pob_e_ext_pob    66840 non-null  int64\n",
      "dtypes: int64(12)\n",
      "memory usage: 6.1 MB\n"
     ]
    }
   ],
   "source": [
    "# Base de 2018\n",
    "df_cad_2018.info()"
   ]
  },
  {
   "cell_type": "code",
   "execution_count": 11,
   "id": "e01fc180-530b-406d-a735-960c42650382",
   "metadata": {
    "tags": []
   },
   "outputs": [
    {
     "name": "stdout",
     "output_type": "stream",
     "text": [
      "<class 'pandas.core.frame.DataFrame'>\n",
      "RangeIndex: 66840 entries, 0 to 66839\n",
      "Data columns (total 12 columns):\n",
      " #   Column                            Non-Null Count  Dtype\n",
      "---  ------                            --------------  -----\n",
      " 0   ibge                              66840 non-null  int64\n",
      " 1   anomes                            66840 non-null  int64\n",
      " 2   cadunico_tot_fam                  66840 non-null  int64\n",
      " 3   cadunico_tot_pes                  66840 non-null  int64\n",
      " 4   cadunico_tot_fam_rpc_ate_meio_sm  66840 non-null  int64\n",
      " 5   cadunico_tot_pes_rpc_ate_meio_sm  66840 non-null  int64\n",
      " 6   cadunico_tot_fam_pob              66840 non-null  int64\n",
      " 7   cadunico_tot_pes_pob              66840 non-null  int64\n",
      " 8   cadunico_tot_fam_ext_pob          66840 non-null  int64\n",
      " 9   cadunico_tot_pes_ext_pob          66840 non-null  int64\n",
      " 10  cadunico_tot_fam_pob_e_ext_pob    66840 non-null  int64\n",
      " 11  cadunico_tot_pes_pob_e_ext_pob    66840 non-null  int64\n",
      "dtypes: int64(12)\n",
      "memory usage: 6.1 MB\n"
     ]
    }
   ],
   "source": [
    "# Base de 2017\n",
    "df_cad_2017.info()"
   ]
  },
  {
   "cell_type": "code",
   "execution_count": 12,
   "id": "f2a2806a-785b-45c5-a2e5-f6e96e35c91a",
   "metadata": {
    "tags": []
   },
   "outputs": [
    {
     "name": "stdout",
     "output_type": "stream",
     "text": [
      "<class 'pandas.core.frame.DataFrame'>\n",
      "RangeIndex: 66840 entries, 0 to 66839\n",
      "Data columns (total 12 columns):\n",
      " #   Column                            Non-Null Count  Dtype\n",
      "---  ------                            --------------  -----\n",
      " 0   ibge                              66840 non-null  int64\n",
      " 1   anomes                            66840 non-null  int64\n",
      " 2   cadunico_tot_fam                  66840 non-null  int64\n",
      " 3   cadunico_tot_pes                  66840 non-null  int64\n",
      " 4   cadunico_tot_fam_rpc_ate_meio_sm  66840 non-null  int64\n",
      " 5   cadunico_tot_pes_rpc_ate_meio_sm  66840 non-null  int64\n",
      " 6   cadunico_tot_fam_pob              66840 non-null  int64\n",
      " 7   cadunico_tot_pes_pob              66840 non-null  int64\n",
      " 8   cadunico_tot_fam_ext_pob          66840 non-null  int64\n",
      " 9   cadunico_tot_pes_ext_pob          66840 non-null  int64\n",
      " 10  cadunico_tot_fam_pob_e_ext_pob    66840 non-null  int64\n",
      " 11  cadunico_tot_pes_pob_e_ext_pob    66840 non-null  int64\n",
      "dtypes: int64(12)\n",
      "memory usage: 6.1 MB\n"
     ]
    }
   ],
   "source": [
    "# Base de 2016\n",
    "df_cad_2016.info()"
   ]
  },
  {
   "cell_type": "code",
   "execution_count": 13,
   "id": "67633135-18b6-4d2e-ba41-09f38eef3e99",
   "metadata": {
    "tags": []
   },
   "outputs": [
    {
     "name": "stdout",
     "output_type": "stream",
     "text": [
      "<class 'pandas.core.frame.DataFrame'>\n",
      "RangeIndex: 66836 entries, 0 to 66835\n",
      "Data columns (total 12 columns):\n",
      " #   Column                            Non-Null Count  Dtype\n",
      "---  ------                            --------------  -----\n",
      " 0   ibge                              66836 non-null  int64\n",
      " 1   anomes                            66836 non-null  int64\n",
      " 2   cadunico_tot_fam                  66836 non-null  int64\n",
      " 3   cadunico_tot_pes                  66836 non-null  int64\n",
      " 4   cadunico_tot_fam_rpc_ate_meio_sm  66836 non-null  int64\n",
      " 5   cadunico_tot_pes_rpc_ate_meio_sm  66836 non-null  int64\n",
      " 6   cadunico_tot_fam_pob              66836 non-null  int64\n",
      " 7   cadunico_tot_pes_pob              66836 non-null  int64\n",
      " 8   cadunico_tot_fam_ext_pob          66836 non-null  int64\n",
      " 9   cadunico_tot_pes_ext_pob          66836 non-null  int64\n",
      " 10  cadunico_tot_fam_pob_e_ext_pob    66836 non-null  int64\n",
      " 11  cadunico_tot_pes_pob_e_ext_pob    66836 non-null  int64\n",
      "dtypes: int64(12)\n",
      "memory usage: 6.1 MB\n"
     ]
    }
   ],
   "source": [
    "# Base de 2015\n",
    "df_cad_2015.info()"
   ]
  },
  {
   "cell_type": "code",
   "execution_count": 14,
   "id": "d8a0b8a3-930f-48b2-bfcf-e49f16d38e4f",
   "metadata": {
    "tags": []
   },
   "outputs": [
    {
     "name": "stdout",
     "output_type": "stream",
     "text": [
      "<class 'pandas.core.frame.DataFrame'>\n",
      "RangeIndex: 66826 entries, 0 to 66825\n",
      "Data columns (total 12 columns):\n",
      " #   Column                            Non-Null Count  Dtype\n",
      "---  ------                            --------------  -----\n",
      " 0   ibge                              66826 non-null  int64\n",
      " 1   anomes                            66826 non-null  int64\n",
      " 2   cadunico_tot_fam                  66826 non-null  int64\n",
      " 3   cadunico_tot_pes                  66826 non-null  int64\n",
      " 4   cadunico_tot_fam_rpc_ate_meio_sm  66826 non-null  int64\n",
      " 5   cadunico_tot_pes_rpc_ate_meio_sm  66826 non-null  int64\n",
      " 6   cadunico_tot_fam_pob              66826 non-null  int64\n",
      " 7   cadunico_tot_pes_pob              66826 non-null  int64\n",
      " 8   cadunico_tot_fam_ext_pob          66826 non-null  int64\n",
      " 9   cadunico_tot_pes_ext_pob          66826 non-null  int64\n",
      " 10  cadunico_tot_fam_pob_e_ext_pob    66826 non-null  int64\n",
      " 11  cadunico_tot_pes_pob_e_ext_pob    66826 non-null  int64\n",
      "dtypes: int64(12)\n",
      "memory usage: 6.1 MB\n"
     ]
    }
   ],
   "source": [
    "# Base de 2014\n",
    "df_cad_2014.info()"
   ]
  },
  {
   "cell_type": "code",
   "execution_count": 15,
   "id": "b641570b-abaa-45b9-84b2-36d3d7e95403",
   "metadata": {
    "tags": []
   },
   "outputs": [
    {
     "name": "stdout",
     "output_type": "stream",
     "text": [
      "<class 'pandas.core.frame.DataFrame'>\n",
      "RangeIndex: 66789 entries, 0 to 66788\n",
      "Data columns (total 12 columns):\n",
      " #   Column                            Non-Null Count  Dtype\n",
      "---  ------                            --------------  -----\n",
      " 0   ibge                              66789 non-null  int64\n",
      " 1   anomes                            66789 non-null  int64\n",
      " 2   cadunico_tot_fam                  66789 non-null  int64\n",
      " 3   cadunico_tot_pes                  66789 non-null  int64\n",
      " 4   cadunico_tot_fam_rpc_ate_meio_sm  66789 non-null  int64\n",
      " 5   cadunico_tot_pes_rpc_ate_meio_sm  66789 non-null  int64\n",
      " 6   cadunico_tot_fam_pob              66789 non-null  int64\n",
      " 7   cadunico_tot_pes_pob              66789 non-null  int64\n",
      " 8   cadunico_tot_fam_ext_pob          66789 non-null  int64\n",
      " 9   cadunico_tot_pes_ext_pob          66789 non-null  int64\n",
      " 10  cadunico_tot_fam_pob_e_ext_pob    66789 non-null  int64\n",
      " 11  cadunico_tot_pes_pob_e_ext_pob    66789 non-null  int64\n",
      "dtypes: int64(12)\n",
      "memory usage: 6.1 MB\n"
     ]
    }
   ],
   "source": [
    "# Base de 2013\n",
    "df_cad_2013.info()"
   ]
  },
  {
   "cell_type": "code",
   "execution_count": 16,
   "id": "2d6df236-e0c8-4240-8580-51c89ab20ed7",
   "metadata": {
    "tags": []
   },
   "outputs": [
    {
     "name": "stdout",
     "output_type": "stream",
     "text": [
      "<class 'pandas.core.frame.DataFrame'>\n",
      "RangeIndex: 61215 entries, 0 to 61214\n",
      "Data columns (total 12 columns):\n",
      " #   Column                            Non-Null Count  Dtype  \n",
      "---  ------                            --------------  -----  \n",
      " 0   ibge                              61215 non-null  int64  \n",
      " 1   anomes                            61215 non-null  int64  \n",
      " 2   cadunico_tot_fam                  61215 non-null  int64  \n",
      " 3   cadunico_tot_pes                  50085 non-null  float64\n",
      " 4   cadunico_tot_fam_rpc_ate_meio_sm  50085 non-null  float64\n",
      " 5   cadunico_tot_pes_rpc_ate_meio_sm  50085 non-null  float64\n",
      " 6   cadunico_tot_fam_pob              50085 non-null  float64\n",
      " 7   cadunico_tot_pes_pob              50085 non-null  float64\n",
      " 8   cadunico_tot_fam_ext_pob          50085 non-null  float64\n",
      " 9   cadunico_tot_pes_ext_pob          50085 non-null  float64\n",
      " 10  cadunico_tot_fam_pob_e_ext_pob    50085 non-null  float64\n",
      " 11  cadunico_tot_pes_pob_e_ext_pob    50085 non-null  float64\n",
      "dtypes: float64(9), int64(3)\n",
      "memory usage: 5.6 MB\n"
     ]
    }
   ],
   "source": [
    "# Base de 2012\n",
    "df_cad_2012.info()"
   ]
  },
  {
   "cell_type": "markdown",
   "id": "f09e1bcd-24bd-4abc-bd25-4443bc59adc9",
   "metadata": {},
   "source": [
    "### Analisando os dados de 2012 com mais detalhe pois foi identificado que tem um número menor de linhas a partir da coluna 'cadunico_tot_pes'"
   ]
  },
  {
   "cell_type": "code",
   "execution_count": 17,
   "id": "2182fab5-110b-4511-9fad-c9c9d69e2551",
   "metadata": {
    "tags": []
   },
   "outputs": [
    {
     "data": {
      "text/html": [
       "<div>\n",
       "<style scoped>\n",
       "    .dataframe tbody tr th:only-of-type {\n",
       "        vertical-align: middle;\n",
       "    }\n",
       "\n",
       "    .dataframe tbody tr th {\n",
       "        vertical-align: top;\n",
       "    }\n",
       "\n",
       "    .dataframe thead th {\n",
       "        text-align: right;\n",
       "    }\n",
       "</style>\n",
       "<table border=\"1\" class=\"dataframe\">\n",
       "  <thead>\n",
       "    <tr style=\"text-align: right;\">\n",
       "      <th></th>\n",
       "      <th>ibge</th>\n",
       "      <th>anomes</th>\n",
       "      <th>cadunico_tot_fam</th>\n",
       "      <th>cadunico_tot_pes</th>\n",
       "      <th>cadunico_tot_fam_rpc_ate_meio_sm</th>\n",
       "      <th>cadunico_tot_pes_rpc_ate_meio_sm</th>\n",
       "      <th>cadunico_tot_fam_pob</th>\n",
       "      <th>cadunico_tot_pes_pob</th>\n",
       "      <th>cadunico_tot_fam_ext_pob</th>\n",
       "      <th>cadunico_tot_pes_ext_pob</th>\n",
       "      <th>cadunico_tot_fam_pob_e_ext_pob</th>\n",
       "      <th>cadunico_tot_pes_pob_e_ext_pob</th>\n",
       "    </tr>\n",
       "  </thead>\n",
       "  <tbody>\n",
       "    <tr>\n",
       "      <th>61210</th>\n",
       "      <td>522200</td>\n",
       "      <td>201202</td>\n",
       "      <td>1394</td>\n",
       "      <td>NaN</td>\n",
       "      <td>NaN</td>\n",
       "      <td>NaN</td>\n",
       "      <td>NaN</td>\n",
       "      <td>NaN</td>\n",
       "      <td>NaN</td>\n",
       "      <td>NaN</td>\n",
       "      <td>NaN</td>\n",
       "      <td>NaN</td>\n",
       "    </tr>\n",
       "    <tr>\n",
       "      <th>61211</th>\n",
       "      <td>522205</td>\n",
       "      <td>201202</td>\n",
       "      <td>1186</td>\n",
       "      <td>NaN</td>\n",
       "      <td>NaN</td>\n",
       "      <td>NaN</td>\n",
       "      <td>NaN</td>\n",
       "      <td>NaN</td>\n",
       "      <td>NaN</td>\n",
       "      <td>NaN</td>\n",
       "      <td>NaN</td>\n",
       "      <td>NaN</td>\n",
       "    </tr>\n",
       "    <tr>\n",
       "      <th>61212</th>\n",
       "      <td>522220</td>\n",
       "      <td>201202</td>\n",
       "      <td>902</td>\n",
       "      <td>NaN</td>\n",
       "      <td>NaN</td>\n",
       "      <td>NaN</td>\n",
       "      <td>NaN</td>\n",
       "      <td>NaN</td>\n",
       "      <td>NaN</td>\n",
       "      <td>NaN</td>\n",
       "      <td>NaN</td>\n",
       "      <td>NaN</td>\n",
       "    </tr>\n",
       "    <tr>\n",
       "      <th>61213</th>\n",
       "      <td>522230</td>\n",
       "      <td>201202</td>\n",
       "      <td>665</td>\n",
       "      <td>NaN</td>\n",
       "      <td>NaN</td>\n",
       "      <td>NaN</td>\n",
       "      <td>NaN</td>\n",
       "      <td>NaN</td>\n",
       "      <td>NaN</td>\n",
       "      <td>NaN</td>\n",
       "      <td>NaN</td>\n",
       "      <td>NaN</td>\n",
       "    </tr>\n",
       "    <tr>\n",
       "      <th>61214</th>\n",
       "      <td>530010</td>\n",
       "      <td>201202</td>\n",
       "      <td>202378</td>\n",
       "      <td>NaN</td>\n",
       "      <td>NaN</td>\n",
       "      <td>NaN</td>\n",
       "      <td>NaN</td>\n",
       "      <td>NaN</td>\n",
       "      <td>NaN</td>\n",
       "      <td>NaN</td>\n",
       "      <td>NaN</td>\n",
       "      <td>NaN</td>\n",
       "    </tr>\n",
       "  </tbody>\n",
       "</table>\n",
       "</div>"
      ],
      "text/plain": [
       "         ibge  anomes  cadunico_tot_fam  cadunico_tot_pes  \\\n",
       "61210  522200  201202              1394               NaN   \n",
       "61211  522205  201202              1186               NaN   \n",
       "61212  522220  201202               902               NaN   \n",
       "61213  522230  201202               665               NaN   \n",
       "61214  530010  201202            202378               NaN   \n",
       "\n",
       "       cadunico_tot_fam_rpc_ate_meio_sm  cadunico_tot_pes_rpc_ate_meio_sm  \\\n",
       "61210                               NaN                               NaN   \n",
       "61211                               NaN                               NaN   \n",
       "61212                               NaN                               NaN   \n",
       "61213                               NaN                               NaN   \n",
       "61214                               NaN                               NaN   \n",
       "\n",
       "       cadunico_tot_fam_pob  cadunico_tot_pes_pob  cadunico_tot_fam_ext_pob  \\\n",
       "61210                   NaN                   NaN                       NaN   \n",
       "61211                   NaN                   NaN                       NaN   \n",
       "61212                   NaN                   NaN                       NaN   \n",
       "61213                   NaN                   NaN                       NaN   \n",
       "61214                   NaN                   NaN                       NaN   \n",
       "\n",
       "       cadunico_tot_pes_ext_pob  cadunico_tot_fam_pob_e_ext_pob  \\\n",
       "61210                       NaN                             NaN   \n",
       "61211                       NaN                             NaN   \n",
       "61212                       NaN                             NaN   \n",
       "61213                       NaN                             NaN   \n",
       "61214                       NaN                             NaN   \n",
       "\n",
       "       cadunico_tot_pes_pob_e_ext_pob  \n",
       "61210                             NaN  \n",
       "61211                             NaN  \n",
       "61212                             NaN  \n",
       "61213                             NaN  \n",
       "61214                             NaN  "
      ]
     },
     "execution_count": 17,
     "metadata": {},
     "output_type": "execute_result"
    }
   ],
   "source": [
    "df_cad_2012.tail()"
   ]
  },
  {
   "cell_type": "code",
   "execution_count": 18,
   "id": "044b2224-e0aa-489e-87a7-c5ba9f79b603",
   "metadata": {
    "tags": []
   },
   "outputs": [
    {
     "data": {
      "text/plain": [
       "Index(['ibge', 'anomes', 'cadunico_tot_fam', 'cadunico_tot_pes',\n",
       "       'cadunico_tot_fam_rpc_ate_meio_sm', 'cadunico_tot_pes_rpc_ate_meio_sm',\n",
       "       'cadunico_tot_fam_pob', 'cadunico_tot_pes_pob',\n",
       "       'cadunico_tot_fam_ext_pob', 'cadunico_tot_pes_ext_pob',\n",
       "       'cadunico_tot_fam_pob_e_ext_pob', 'cadunico_tot_pes_pob_e_ext_pob'],\n",
       "      dtype='object')"
      ]
     },
     "execution_count": 18,
     "metadata": {},
     "output_type": "execute_result"
    }
   ],
   "source": [
    "df_cad_2012.columns"
   ]
  },
  {
   "cell_type": "code",
   "execution_count": 19,
   "id": "0640fc74-81c4-41d2-bbb7-27517fe72dca",
   "metadata": {
    "tags": []
   },
   "outputs": [
    {
     "data": {
      "text/html": [
       "<div>\n",
       "<style scoped>\n",
       "    .dataframe tbody tr th:only-of-type {\n",
       "        vertical-align: middle;\n",
       "    }\n",
       "\n",
       "    .dataframe tbody tr th {\n",
       "        vertical-align: top;\n",
       "    }\n",
       "\n",
       "    .dataframe thead th {\n",
       "        text-align: right;\n",
       "    }\n",
       "</style>\n",
       "<table border=\"1\" class=\"dataframe\">\n",
       "  <thead>\n",
       "    <tr style=\"text-align: right;\">\n",
       "      <th></th>\n",
       "      <th>cadunico_tot_fam</th>\n",
       "      <th>cadunico_tot_pes</th>\n",
       "      <th>cadunico_tot_fam_rpc_ate_meio_sm</th>\n",
       "      <th>cadunico_tot_pes_rpc_ate_meio_sm</th>\n",
       "      <th>cadunico_tot_fam_pob</th>\n",
       "      <th>cadunico_tot_pes_pob</th>\n",
       "      <th>cadunico_tot_fam_ext_pob</th>\n",
       "      <th>cadunico_tot_pes_ext_pob</th>\n",
       "      <th>cadunico_tot_fam_pob_e_ext_pob</th>\n",
       "      <th>cadunico_tot_pes_pob_e_ext_pob</th>\n",
       "    </tr>\n",
       "    <tr>\n",
       "      <th>anomes</th>\n",
       "      <th></th>\n",
       "      <th></th>\n",
       "      <th></th>\n",
       "      <th></th>\n",
       "      <th></th>\n",
       "      <th></th>\n",
       "      <th></th>\n",
       "      <th></th>\n",
       "      <th></th>\n",
       "      <th></th>\n",
       "    </tr>\n",
       "  </thead>\n",
       "  <tbody>\n",
       "    <tr>\n",
       "      <th>201202</th>\n",
       "      <td>22714220</td>\n",
       "      <td>0.0</td>\n",
       "      <td>0.0</td>\n",
       "      <td>0.0</td>\n",
       "      <td>0.0</td>\n",
       "      <td>0.0</td>\n",
       "      <td>0.0</td>\n",
       "      <td>0.0</td>\n",
       "      <td>0.0</td>\n",
       "      <td>0.0</td>\n",
       "    </tr>\n",
       "    <tr>\n",
       "      <th>201203</th>\n",
       "      <td>22907554</td>\n",
       "      <td>0.0</td>\n",
       "      <td>0.0</td>\n",
       "      <td>0.0</td>\n",
       "      <td>0.0</td>\n",
       "      <td>0.0</td>\n",
       "      <td>0.0</td>\n",
       "      <td>0.0</td>\n",
       "      <td>0.0</td>\n",
       "      <td>0.0</td>\n",
       "    </tr>\n",
       "    <tr>\n",
       "      <th>201204</th>\n",
       "      <td>23441117</td>\n",
       "      <td>78085298.0</td>\n",
       "      <td>21544726.0</td>\n",
       "      <td>74663855.0</td>\n",
       "      <td>5241753.0</td>\n",
       "      <td>19387557.0</td>\n",
       "      <td>12630914.0</td>\n",
       "      <td>43980672.0</td>\n",
       "      <td>17872667.0</td>\n",
       "      <td>63368229.0</td>\n",
       "    </tr>\n",
       "    <tr>\n",
       "      <th>201205</th>\n",
       "      <td>23441117</td>\n",
       "      <td>78085298.0</td>\n",
       "      <td>21544726.0</td>\n",
       "      <td>74663855.0</td>\n",
       "      <td>5241753.0</td>\n",
       "      <td>19387557.0</td>\n",
       "      <td>12630914.0</td>\n",
       "      <td>43980672.0</td>\n",
       "      <td>17872667.0</td>\n",
       "      <td>63368229.0</td>\n",
       "    </tr>\n",
       "    <tr>\n",
       "      <th>201206</th>\n",
       "      <td>23736029</td>\n",
       "      <td>75535020.0</td>\n",
       "      <td>21751604.0</td>\n",
       "      <td>72056677.0</td>\n",
       "      <td>5251396.0</td>\n",
       "      <td>18643593.0</td>\n",
       "      <td>12728992.0</td>\n",
       "      <td>42231859.0</td>\n",
       "      <td>17980388.0</td>\n",
       "      <td>60875452.0</td>\n",
       "    </tr>\n",
       "    <tr>\n",
       "      <th>201207</th>\n",
       "      <td>23981637</td>\n",
       "      <td>79184951.0</td>\n",
       "      <td>21929604.0</td>\n",
       "      <td>75476753.0</td>\n",
       "      <td>5257404.0</td>\n",
       "      <td>19371657.0</td>\n",
       "      <td>12820901.0</td>\n",
       "      <td>44277600.0</td>\n",
       "      <td>18078305.0</td>\n",
       "      <td>63649257.0</td>\n",
       "    </tr>\n",
       "    <tr>\n",
       "      <th>201208</th>\n",
       "      <td>24201831</td>\n",
       "      <td>79618943.0</td>\n",
       "      <td>22087075.0</td>\n",
       "      <td>75794994.0</td>\n",
       "      <td>5265743.0</td>\n",
       "      <td>19370363.0</td>\n",
       "      <td>12897221.0</td>\n",
       "      <td>44381455.0</td>\n",
       "      <td>18162964.0</td>\n",
       "      <td>63751818.0</td>\n",
       "    </tr>\n",
       "    <tr>\n",
       "      <th>201209</th>\n",
       "      <td>24489009</td>\n",
       "      <td>80195859.0</td>\n",
       "      <td>22299085.0</td>\n",
       "      <td>76235414.0</td>\n",
       "      <td>5278170.0</td>\n",
       "      <td>19371279.0</td>\n",
       "      <td>13006755.0</td>\n",
       "      <td>44554715.0</td>\n",
       "      <td>18284925.0</td>\n",
       "      <td>63925994.0</td>\n",
       "    </tr>\n",
       "    <tr>\n",
       "      <th>201210</th>\n",
       "      <td>24689683</td>\n",
       "      <td>80599440.0</td>\n",
       "      <td>22449045.0</td>\n",
       "      <td>76548277.0</td>\n",
       "      <td>5288902.0</td>\n",
       "      <td>19376665.0</td>\n",
       "      <td>13076366.0</td>\n",
       "      <td>44652093.0</td>\n",
       "      <td>18365268.0</td>\n",
       "      <td>64028758.0</td>\n",
       "    </tr>\n",
       "    <tr>\n",
       "      <th>201211</th>\n",
       "      <td>24862456</td>\n",
       "      <td>80945584.0</td>\n",
       "      <td>22576199.0</td>\n",
       "      <td>76813299.0</td>\n",
       "      <td>5298295.0</td>\n",
       "      <td>19381040.0</td>\n",
       "      <td>13131359.0</td>\n",
       "      <td>44723215.0</td>\n",
       "      <td>18429654.0</td>\n",
       "      <td>64104255.0</td>\n",
       "    </tr>\n",
       "    <tr>\n",
       "      <th>201212</th>\n",
       "      <td>25063802</td>\n",
       "      <td>81322507.0</td>\n",
       "      <td>22711589.0</td>\n",
       "      <td>77071781.0</td>\n",
       "      <td>5311337.0</td>\n",
       "      <td>19392882.0</td>\n",
       "      <td>13161099.0</td>\n",
       "      <td>44684759.0</td>\n",
       "      <td>18472436.0</td>\n",
       "      <td>64077641.0</td>\n",
       "    </tr>\n",
       "  </tbody>\n",
       "</table>\n",
       "</div>"
      ],
      "text/plain": [
       "        cadunico_tot_fam  cadunico_tot_pes  cadunico_tot_fam_rpc_ate_meio_sm  \\\n",
       "anomes                                                                         \n",
       "201202          22714220               0.0                               0.0   \n",
       "201203          22907554               0.0                               0.0   \n",
       "201204          23441117        78085298.0                        21544726.0   \n",
       "201205          23441117        78085298.0                        21544726.0   \n",
       "201206          23736029        75535020.0                        21751604.0   \n",
       "201207          23981637        79184951.0                        21929604.0   \n",
       "201208          24201831        79618943.0                        22087075.0   \n",
       "201209          24489009        80195859.0                        22299085.0   \n",
       "201210          24689683        80599440.0                        22449045.0   \n",
       "201211          24862456        80945584.0                        22576199.0   \n",
       "201212          25063802        81322507.0                        22711589.0   \n",
       "\n",
       "        cadunico_tot_pes_rpc_ate_meio_sm  cadunico_tot_fam_pob  \\\n",
       "anomes                                                           \n",
       "201202                               0.0                   0.0   \n",
       "201203                               0.0                   0.0   \n",
       "201204                        74663855.0             5241753.0   \n",
       "201205                        74663855.0             5241753.0   \n",
       "201206                        72056677.0             5251396.0   \n",
       "201207                        75476753.0             5257404.0   \n",
       "201208                        75794994.0             5265743.0   \n",
       "201209                        76235414.0             5278170.0   \n",
       "201210                        76548277.0             5288902.0   \n",
       "201211                        76813299.0             5298295.0   \n",
       "201212                        77071781.0             5311337.0   \n",
       "\n",
       "        cadunico_tot_pes_pob  cadunico_tot_fam_ext_pob  \\\n",
       "anomes                                                   \n",
       "201202                   0.0                       0.0   \n",
       "201203                   0.0                       0.0   \n",
       "201204            19387557.0                12630914.0   \n",
       "201205            19387557.0                12630914.0   \n",
       "201206            18643593.0                12728992.0   \n",
       "201207            19371657.0                12820901.0   \n",
       "201208            19370363.0                12897221.0   \n",
       "201209            19371279.0                13006755.0   \n",
       "201210            19376665.0                13076366.0   \n",
       "201211            19381040.0                13131359.0   \n",
       "201212            19392882.0                13161099.0   \n",
       "\n",
       "        cadunico_tot_pes_ext_pob  cadunico_tot_fam_pob_e_ext_pob  \\\n",
       "anomes                                                             \n",
       "201202                       0.0                             0.0   \n",
       "201203                       0.0                             0.0   \n",
       "201204                43980672.0                      17872667.0   \n",
       "201205                43980672.0                      17872667.0   \n",
       "201206                42231859.0                      17980388.0   \n",
       "201207                44277600.0                      18078305.0   \n",
       "201208                44381455.0                      18162964.0   \n",
       "201209                44554715.0                      18284925.0   \n",
       "201210                44652093.0                      18365268.0   \n",
       "201211                44723215.0                      18429654.0   \n",
       "201212                44684759.0                      18472436.0   \n",
       "\n",
       "        cadunico_tot_pes_pob_e_ext_pob  \n",
       "anomes                                  \n",
       "201202                             0.0  \n",
       "201203                             0.0  \n",
       "201204                      63368229.0  \n",
       "201205                      63368229.0  \n",
       "201206                      60875452.0  \n",
       "201207                      63649257.0  \n",
       "201208                      63751818.0  \n",
       "201209                      63925994.0  \n",
       "201210                      64028758.0  \n",
       "201211                      64104255.0  \n",
       "201212                      64077641.0  "
      ]
     },
     "execution_count": 19,
     "metadata": {},
     "output_type": "execute_result"
    }
   ],
   "source": [
    "df_cad_2012_mes = df_cad_2012[['cadunico_tot_fam', 'cadunico_tot_pes',\n",
    "       'cadunico_tot_fam_rpc_ate_meio_sm', 'cadunico_tot_pes_rpc_ate_meio_sm',\n",
    "       'cadunico_tot_fam_pob', 'cadunico_tot_pes_pob',\n",
    "       'cadunico_tot_fam_ext_pob', 'cadunico_tot_pes_ext_pob',\n",
    "       'cadunico_tot_fam_pob_e_ext_pob', 'cadunico_tot_pes_pob_e_ext_pob']].groupby(df_cad_2012['anomes']).sum()\n",
    "df_cad_2012_mes"
   ]
  },
  {
   "cell_type": "code",
   "execution_count": 20,
   "id": "a7b17063-55b1-4de2-a88b-3ebf85b431c7",
   "metadata": {
    "tags": []
   },
   "outputs": [
    {
     "name": "stdout",
     "output_type": "stream",
     "text": [
      "<class 'pandas.core.frame.DataFrame'>\n",
      "Index: 11 entries, 201202 to 201212\n",
      "Data columns (total 10 columns):\n",
      " #   Column                            Non-Null Count  Dtype  \n",
      "---  ------                            --------------  -----  \n",
      " 0   cadunico_tot_fam                  11 non-null     int64  \n",
      " 1   cadunico_tot_pes                  11 non-null     float64\n",
      " 2   cadunico_tot_fam_rpc_ate_meio_sm  11 non-null     float64\n",
      " 3   cadunico_tot_pes_rpc_ate_meio_sm  11 non-null     float64\n",
      " 4   cadunico_tot_fam_pob              11 non-null     float64\n",
      " 5   cadunico_tot_pes_pob              11 non-null     float64\n",
      " 6   cadunico_tot_fam_ext_pob          11 non-null     float64\n",
      " 7   cadunico_tot_pes_ext_pob          11 non-null     float64\n",
      " 8   cadunico_tot_fam_pob_e_ext_pob    11 non-null     float64\n",
      " 9   cadunico_tot_pes_pob_e_ext_pob    11 non-null     float64\n",
      "dtypes: float64(9), int64(1)\n",
      "memory usage: 968.0 bytes\n"
     ]
    }
   ],
   "source": [
    "df_cad_2012_mes.info()"
   ]
  },
  {
   "cell_type": "markdown",
   "id": "af94c0a5-4a44-46c0-9fd2-49acba2b6da7",
   "metadata": {},
   "source": [
    "## Retirando os dados nulos da base de dados de 2012"
   ]
  },
  {
   "cell_type": "code",
   "execution_count": 21,
   "id": "5780517b-0552-4ebf-b719-eba2cf34986c",
   "metadata": {
    "tags": []
   },
   "outputs": [],
   "source": [
    "import numpy as np"
   ]
  },
  {
   "cell_type": "code",
   "execution_count": 22,
   "id": "75de40d7-e646-4d82-88b5-715c9a79154b",
   "metadata": {
    "tags": []
   },
   "outputs": [
    {
     "data": {
      "text/html": [
       "<div>\n",
       "<style scoped>\n",
       "    .dataframe tbody tr th:only-of-type {\n",
       "        vertical-align: middle;\n",
       "    }\n",
       "\n",
       "    .dataframe tbody tr th {\n",
       "        vertical-align: top;\n",
       "    }\n",
       "\n",
       "    .dataframe thead th {\n",
       "        text-align: right;\n",
       "    }\n",
       "</style>\n",
       "<table border=\"1\" class=\"dataframe\">\n",
       "  <thead>\n",
       "    <tr style=\"text-align: right;\">\n",
       "      <th></th>\n",
       "      <th>ibge</th>\n",
       "      <th>anomes</th>\n",
       "      <th>cadunico_tot_fam</th>\n",
       "      <th>cadunico_tot_pes</th>\n",
       "      <th>cadunico_tot_fam_rpc_ate_meio_sm</th>\n",
       "      <th>cadunico_tot_pes_rpc_ate_meio_sm</th>\n",
       "      <th>cadunico_tot_fam_pob</th>\n",
       "      <th>cadunico_tot_pes_pob</th>\n",
       "      <th>cadunico_tot_fam_ext_pob</th>\n",
       "      <th>cadunico_tot_pes_ext_pob</th>\n",
       "      <th>cadunico_tot_fam_pob_e_ext_pob</th>\n",
       "      <th>cadunico_tot_pes_pob_e_ext_pob</th>\n",
       "    </tr>\n",
       "  </thead>\n",
       "  <tbody>\n",
       "    <tr>\n",
       "      <th>0</th>\n",
       "      <td>110001</td>\n",
       "      <td>201212</td>\n",
       "      <td>4116</td>\n",
       "      <td>14076.0</td>\n",
       "      <td>3566.0</td>\n",
       "      <td>13170.0</td>\n",
       "      <td>1110.0</td>\n",
       "      <td>4218.0</td>\n",
       "      <td>1961.0</td>\n",
       "      <td>7373.0</td>\n",
       "      <td>3071.0</td>\n",
       "      <td>11591.0</td>\n",
       "    </tr>\n",
       "    <tr>\n",
       "      <th>1</th>\n",
       "      <td>110002</td>\n",
       "      <td>201212</td>\n",
       "      <td>10775</td>\n",
       "      <td>37567.0</td>\n",
       "      <td>9922.0</td>\n",
       "      <td>35934.0</td>\n",
       "      <td>3816.0</td>\n",
       "      <td>14494.0</td>\n",
       "      <td>4089.0</td>\n",
       "      <td>15059.0</td>\n",
       "      <td>7905.0</td>\n",
       "      <td>29553.0</td>\n",
       "    </tr>\n",
       "    <tr>\n",
       "      <th>2</th>\n",
       "      <td>110003</td>\n",
       "      <td>201212</td>\n",
       "      <td>993</td>\n",
       "      <td>3313.0</td>\n",
       "      <td>933.0</td>\n",
       "      <td>3219.0</td>\n",
       "      <td>278.0</td>\n",
       "      <td>1006.0</td>\n",
       "      <td>498.0</td>\n",
       "      <td>1706.0</td>\n",
       "      <td>776.0</td>\n",
       "      <td>2712.0</td>\n",
       "    </tr>\n",
       "    <tr>\n",
       "      <th>3</th>\n",
       "      <td>110004</td>\n",
       "      <td>201212</td>\n",
       "      <td>8516</td>\n",
       "      <td>29459.0</td>\n",
       "      <td>7805.0</td>\n",
       "      <td>27973.0</td>\n",
       "      <td>2514.0</td>\n",
       "      <td>9776.0</td>\n",
       "      <td>3339.0</td>\n",
       "      <td>11973.0</td>\n",
       "      <td>5853.0</td>\n",
       "      <td>21749.0</td>\n",
       "    </tr>\n",
       "    <tr>\n",
       "      <th>4</th>\n",
       "      <td>110005</td>\n",
       "      <td>201212</td>\n",
       "      <td>2259</td>\n",
       "      <td>7918.0</td>\n",
       "      <td>2174.0</td>\n",
       "      <td>7751.0</td>\n",
       "      <td>794.0</td>\n",
       "      <td>2889.0</td>\n",
       "      <td>1027.0</td>\n",
       "      <td>3705.0</td>\n",
       "      <td>1821.0</td>\n",
       "      <td>6594.0</td>\n",
       "    </tr>\n",
       "    <tr>\n",
       "      <th>...</th>\n",
       "      <td>...</td>\n",
       "      <td>...</td>\n",
       "      <td>...</td>\n",
       "      <td>...</td>\n",
       "      <td>...</td>\n",
       "      <td>...</td>\n",
       "      <td>...</td>\n",
       "      <td>...</td>\n",
       "      <td>...</td>\n",
       "      <td>...</td>\n",
       "      <td>...</td>\n",
       "      <td>...</td>\n",
       "    </tr>\n",
       "    <tr>\n",
       "      <th>61210</th>\n",
       "      <td>522200</td>\n",
       "      <td>201202</td>\n",
       "      <td>1394</td>\n",
       "      <td>NaN</td>\n",
       "      <td>NaN</td>\n",
       "      <td>NaN</td>\n",
       "      <td>NaN</td>\n",
       "      <td>NaN</td>\n",
       "      <td>NaN</td>\n",
       "      <td>NaN</td>\n",
       "      <td>NaN</td>\n",
       "      <td>NaN</td>\n",
       "    </tr>\n",
       "    <tr>\n",
       "      <th>61211</th>\n",
       "      <td>522205</td>\n",
       "      <td>201202</td>\n",
       "      <td>1186</td>\n",
       "      <td>NaN</td>\n",
       "      <td>NaN</td>\n",
       "      <td>NaN</td>\n",
       "      <td>NaN</td>\n",
       "      <td>NaN</td>\n",
       "      <td>NaN</td>\n",
       "      <td>NaN</td>\n",
       "      <td>NaN</td>\n",
       "      <td>NaN</td>\n",
       "    </tr>\n",
       "    <tr>\n",
       "      <th>61212</th>\n",
       "      <td>522220</td>\n",
       "      <td>201202</td>\n",
       "      <td>902</td>\n",
       "      <td>NaN</td>\n",
       "      <td>NaN</td>\n",
       "      <td>NaN</td>\n",
       "      <td>NaN</td>\n",
       "      <td>NaN</td>\n",
       "      <td>NaN</td>\n",
       "      <td>NaN</td>\n",
       "      <td>NaN</td>\n",
       "      <td>NaN</td>\n",
       "    </tr>\n",
       "    <tr>\n",
       "      <th>61213</th>\n",
       "      <td>522230</td>\n",
       "      <td>201202</td>\n",
       "      <td>665</td>\n",
       "      <td>NaN</td>\n",
       "      <td>NaN</td>\n",
       "      <td>NaN</td>\n",
       "      <td>NaN</td>\n",
       "      <td>NaN</td>\n",
       "      <td>NaN</td>\n",
       "      <td>NaN</td>\n",
       "      <td>NaN</td>\n",
       "      <td>NaN</td>\n",
       "    </tr>\n",
       "    <tr>\n",
       "      <th>61214</th>\n",
       "      <td>530010</td>\n",
       "      <td>201202</td>\n",
       "      <td>202378</td>\n",
       "      <td>NaN</td>\n",
       "      <td>NaN</td>\n",
       "      <td>NaN</td>\n",
       "      <td>NaN</td>\n",
       "      <td>NaN</td>\n",
       "      <td>NaN</td>\n",
       "      <td>NaN</td>\n",
       "      <td>NaN</td>\n",
       "      <td>NaN</td>\n",
       "    </tr>\n",
       "  </tbody>\n",
       "</table>\n",
       "<p>61215 rows × 12 columns</p>\n",
       "</div>"
      ],
      "text/plain": [
       "         ibge  anomes  cadunico_tot_fam  cadunico_tot_pes  \\\n",
       "0      110001  201212              4116           14076.0   \n",
       "1      110002  201212             10775           37567.0   \n",
       "2      110003  201212               993            3313.0   \n",
       "3      110004  201212              8516           29459.0   \n",
       "4      110005  201212              2259            7918.0   \n",
       "...       ...     ...               ...               ...   \n",
       "61210  522200  201202              1394               NaN   \n",
       "61211  522205  201202              1186               NaN   \n",
       "61212  522220  201202               902               NaN   \n",
       "61213  522230  201202               665               NaN   \n",
       "61214  530010  201202            202378               NaN   \n",
       "\n",
       "       cadunico_tot_fam_rpc_ate_meio_sm  cadunico_tot_pes_rpc_ate_meio_sm  \\\n",
       "0                                3566.0                           13170.0   \n",
       "1                                9922.0                           35934.0   \n",
       "2                                 933.0                            3219.0   \n",
       "3                                7805.0                           27973.0   \n",
       "4                                2174.0                            7751.0   \n",
       "...                                 ...                               ...   \n",
       "61210                               NaN                               NaN   \n",
       "61211                               NaN                               NaN   \n",
       "61212                               NaN                               NaN   \n",
       "61213                               NaN                               NaN   \n",
       "61214                               NaN                               NaN   \n",
       "\n",
       "       cadunico_tot_fam_pob  cadunico_tot_pes_pob  cadunico_tot_fam_ext_pob  \\\n",
       "0                    1110.0                4218.0                    1961.0   \n",
       "1                    3816.0               14494.0                    4089.0   \n",
       "2                     278.0                1006.0                     498.0   \n",
       "3                    2514.0                9776.0                    3339.0   \n",
       "4                     794.0                2889.0                    1027.0   \n",
       "...                     ...                   ...                       ...   \n",
       "61210                   NaN                   NaN                       NaN   \n",
       "61211                   NaN                   NaN                       NaN   \n",
       "61212                   NaN                   NaN                       NaN   \n",
       "61213                   NaN                   NaN                       NaN   \n",
       "61214                   NaN                   NaN                       NaN   \n",
       "\n",
       "       cadunico_tot_pes_ext_pob  cadunico_tot_fam_pob_e_ext_pob  \\\n",
       "0                        7373.0                          3071.0   \n",
       "1                       15059.0                          7905.0   \n",
       "2                        1706.0                           776.0   \n",
       "3                       11973.0                          5853.0   \n",
       "4                        3705.0                          1821.0   \n",
       "...                         ...                             ...   \n",
       "61210                       NaN                             NaN   \n",
       "61211                       NaN                             NaN   \n",
       "61212                       NaN                             NaN   \n",
       "61213                       NaN                             NaN   \n",
       "61214                       NaN                             NaN   \n",
       "\n",
       "       cadunico_tot_pes_pob_e_ext_pob  \n",
       "0                             11591.0  \n",
       "1                             29553.0  \n",
       "2                              2712.0  \n",
       "3                             21749.0  \n",
       "4                              6594.0  \n",
       "...                               ...  \n",
       "61210                             NaN  \n",
       "61211                             NaN  \n",
       "61212                             NaN  \n",
       "61213                             NaN  \n",
       "61214                             NaN  \n",
       "\n",
       "[61215 rows x 12 columns]"
      ]
     },
     "execution_count": 22,
     "metadata": {},
     "output_type": "execute_result"
    }
   ],
   "source": [
    "df_cad_2012.replace(0.0, np.nan, inplace=True)\n",
    "df_cad_2012"
   ]
  },
  {
   "cell_type": "code",
   "execution_count": 23,
   "id": "690f1677-427b-48f5-b510-1bf3ed6c8454",
   "metadata": {
    "tags": []
   },
   "outputs": [
    {
     "data": {
      "text/html": [
       "<div>\n",
       "<style scoped>\n",
       "    .dataframe tbody tr th:only-of-type {\n",
       "        vertical-align: middle;\n",
       "    }\n",
       "\n",
       "    .dataframe tbody tr th {\n",
       "        vertical-align: top;\n",
       "    }\n",
       "\n",
       "    .dataframe thead th {\n",
       "        text-align: right;\n",
       "    }\n",
       "</style>\n",
       "<table border=\"1\" class=\"dataframe\">\n",
       "  <thead>\n",
       "    <tr style=\"text-align: right;\">\n",
       "      <th></th>\n",
       "      <th>ibge</th>\n",
       "      <th>anomes</th>\n",
       "      <th>cadunico_tot_fam</th>\n",
       "      <th>cadunico_tot_pes</th>\n",
       "      <th>cadunico_tot_fam_rpc_ate_meio_sm</th>\n",
       "      <th>cadunico_tot_pes_rpc_ate_meio_sm</th>\n",
       "      <th>cadunico_tot_fam_pob</th>\n",
       "      <th>cadunico_tot_pes_pob</th>\n",
       "      <th>cadunico_tot_fam_ext_pob</th>\n",
       "      <th>cadunico_tot_pes_ext_pob</th>\n",
       "      <th>cadunico_tot_fam_pob_e_ext_pob</th>\n",
       "      <th>cadunico_tot_pes_pob_e_ext_pob</th>\n",
       "    </tr>\n",
       "  </thead>\n",
       "  <tbody>\n",
       "    <tr>\n",
       "      <th>0</th>\n",
       "      <td>110001</td>\n",
       "      <td>201212</td>\n",
       "      <td>4116</td>\n",
       "      <td>14076.0</td>\n",
       "      <td>3566.0</td>\n",
       "      <td>13170.0</td>\n",
       "      <td>1110.0</td>\n",
       "      <td>4218.0</td>\n",
       "      <td>1961.0</td>\n",
       "      <td>7373.0</td>\n",
       "      <td>3071.0</td>\n",
       "      <td>11591.0</td>\n",
       "    </tr>\n",
       "    <tr>\n",
       "      <th>1</th>\n",
       "      <td>110002</td>\n",
       "      <td>201212</td>\n",
       "      <td>10775</td>\n",
       "      <td>37567.0</td>\n",
       "      <td>9922.0</td>\n",
       "      <td>35934.0</td>\n",
       "      <td>3816.0</td>\n",
       "      <td>14494.0</td>\n",
       "      <td>4089.0</td>\n",
       "      <td>15059.0</td>\n",
       "      <td>7905.0</td>\n",
       "      <td>29553.0</td>\n",
       "    </tr>\n",
       "    <tr>\n",
       "      <th>2</th>\n",
       "      <td>110003</td>\n",
       "      <td>201212</td>\n",
       "      <td>993</td>\n",
       "      <td>3313.0</td>\n",
       "      <td>933.0</td>\n",
       "      <td>3219.0</td>\n",
       "      <td>278.0</td>\n",
       "      <td>1006.0</td>\n",
       "      <td>498.0</td>\n",
       "      <td>1706.0</td>\n",
       "      <td>776.0</td>\n",
       "      <td>2712.0</td>\n",
       "    </tr>\n",
       "    <tr>\n",
       "      <th>3</th>\n",
       "      <td>110004</td>\n",
       "      <td>201212</td>\n",
       "      <td>8516</td>\n",
       "      <td>29459.0</td>\n",
       "      <td>7805.0</td>\n",
       "      <td>27973.0</td>\n",
       "      <td>2514.0</td>\n",
       "      <td>9776.0</td>\n",
       "      <td>3339.0</td>\n",
       "      <td>11973.0</td>\n",
       "      <td>5853.0</td>\n",
       "      <td>21749.0</td>\n",
       "    </tr>\n",
       "    <tr>\n",
       "      <th>4</th>\n",
       "      <td>110005</td>\n",
       "      <td>201212</td>\n",
       "      <td>2259</td>\n",
       "      <td>7918.0</td>\n",
       "      <td>2174.0</td>\n",
       "      <td>7751.0</td>\n",
       "      <td>794.0</td>\n",
       "      <td>2889.0</td>\n",
       "      <td>1027.0</td>\n",
       "      <td>3705.0</td>\n",
       "      <td>1821.0</td>\n",
       "      <td>6594.0</td>\n",
       "    </tr>\n",
       "    <tr>\n",
       "      <th>...</th>\n",
       "      <td>...</td>\n",
       "      <td>...</td>\n",
       "      <td>...</td>\n",
       "      <td>...</td>\n",
       "      <td>...</td>\n",
       "      <td>...</td>\n",
       "      <td>...</td>\n",
       "      <td>...</td>\n",
       "      <td>...</td>\n",
       "      <td>...</td>\n",
       "      <td>...</td>\n",
       "      <td>...</td>\n",
       "    </tr>\n",
       "    <tr>\n",
       "      <th>50080</th>\n",
       "      <td>522200</td>\n",
       "      <td>201204</td>\n",
       "      <td>1425</td>\n",
       "      <td>4997.0</td>\n",
       "      <td>1365.0</td>\n",
       "      <td>4884.0</td>\n",
       "      <td>582.0</td>\n",
       "      <td>2208.0</td>\n",
       "      <td>527.0</td>\n",
       "      <td>1854.0</td>\n",
       "      <td>1109.0</td>\n",
       "      <td>4062.0</td>\n",
       "    </tr>\n",
       "    <tr>\n",
       "      <th>50081</th>\n",
       "      <td>522205</td>\n",
       "      <td>201204</td>\n",
       "      <td>1220</td>\n",
       "      <td>3637.0</td>\n",
       "      <td>1083.0</td>\n",
       "      <td>3415.0</td>\n",
       "      <td>379.0</td>\n",
       "      <td>1194.0</td>\n",
       "      <td>520.0</td>\n",
       "      <td>1649.0</td>\n",
       "      <td>899.0</td>\n",
       "      <td>2843.0</td>\n",
       "    </tr>\n",
       "    <tr>\n",
       "      <th>50082</th>\n",
       "      <td>522220</td>\n",
       "      <td>201204</td>\n",
       "      <td>944</td>\n",
       "      <td>3157.0</td>\n",
       "      <td>871.0</td>\n",
       "      <td>3053.0</td>\n",
       "      <td>231.0</td>\n",
       "      <td>849.0</td>\n",
       "      <td>477.0</td>\n",
       "      <td>1774.0</td>\n",
       "      <td>708.0</td>\n",
       "      <td>2623.0</td>\n",
       "    </tr>\n",
       "    <tr>\n",
       "      <th>50083</th>\n",
       "      <td>522230</td>\n",
       "      <td>201204</td>\n",
       "      <td>681</td>\n",
       "      <td>2510.0</td>\n",
       "      <td>675.0</td>\n",
       "      <td>2498.0</td>\n",
       "      <td>147.0</td>\n",
       "      <td>550.0</td>\n",
       "      <td>483.0</td>\n",
       "      <td>1827.0</td>\n",
       "      <td>630.0</td>\n",
       "      <td>2377.0</td>\n",
       "    </tr>\n",
       "    <tr>\n",
       "      <th>50084</th>\n",
       "      <td>530010</td>\n",
       "      <td>201204</td>\n",
       "      <td>223369</td>\n",
       "      <td>764597.0</td>\n",
       "      <td>201234.0</td>\n",
       "      <td>715330.0</td>\n",
       "      <td>64204.0</td>\n",
       "      <td>246552.0</td>\n",
       "      <td>65188.0</td>\n",
       "      <td>240252.0</td>\n",
       "      <td>129392.0</td>\n",
       "      <td>486804.0</td>\n",
       "    </tr>\n",
       "  </tbody>\n",
       "</table>\n",
       "<p>50085 rows × 12 columns</p>\n",
       "</div>"
      ],
      "text/plain": [
       "         ibge  anomes  cadunico_tot_fam  cadunico_tot_pes  \\\n",
       "0      110001  201212              4116           14076.0   \n",
       "1      110002  201212             10775           37567.0   \n",
       "2      110003  201212               993            3313.0   \n",
       "3      110004  201212              8516           29459.0   \n",
       "4      110005  201212              2259            7918.0   \n",
       "...       ...     ...               ...               ...   \n",
       "50080  522200  201204              1425            4997.0   \n",
       "50081  522205  201204              1220            3637.0   \n",
       "50082  522220  201204               944            3157.0   \n",
       "50083  522230  201204               681            2510.0   \n",
       "50084  530010  201204            223369          764597.0   \n",
       "\n",
       "       cadunico_tot_fam_rpc_ate_meio_sm  cadunico_tot_pes_rpc_ate_meio_sm  \\\n",
       "0                                3566.0                           13170.0   \n",
       "1                                9922.0                           35934.0   \n",
       "2                                 933.0                            3219.0   \n",
       "3                                7805.0                           27973.0   \n",
       "4                                2174.0                            7751.0   \n",
       "...                                 ...                               ...   \n",
       "50080                            1365.0                            4884.0   \n",
       "50081                            1083.0                            3415.0   \n",
       "50082                             871.0                            3053.0   \n",
       "50083                             675.0                            2498.0   \n",
       "50084                          201234.0                          715330.0   \n",
       "\n",
       "       cadunico_tot_fam_pob  cadunico_tot_pes_pob  cadunico_tot_fam_ext_pob  \\\n",
       "0                    1110.0                4218.0                    1961.0   \n",
       "1                    3816.0               14494.0                    4089.0   \n",
       "2                     278.0                1006.0                     498.0   \n",
       "3                    2514.0                9776.0                    3339.0   \n",
       "4                     794.0                2889.0                    1027.0   \n",
       "...                     ...                   ...                       ...   \n",
       "50080                 582.0                2208.0                     527.0   \n",
       "50081                 379.0                1194.0                     520.0   \n",
       "50082                 231.0                 849.0                     477.0   \n",
       "50083                 147.0                 550.0                     483.0   \n",
       "50084               64204.0              246552.0                   65188.0   \n",
       "\n",
       "       cadunico_tot_pes_ext_pob  cadunico_tot_fam_pob_e_ext_pob  \\\n",
       "0                        7373.0                          3071.0   \n",
       "1                       15059.0                          7905.0   \n",
       "2                        1706.0                           776.0   \n",
       "3                       11973.0                          5853.0   \n",
       "4                        3705.0                          1821.0   \n",
       "...                         ...                             ...   \n",
       "50080                    1854.0                          1109.0   \n",
       "50081                    1649.0                           899.0   \n",
       "50082                    1774.0                           708.0   \n",
       "50083                    1827.0                           630.0   \n",
       "50084                  240252.0                        129392.0   \n",
       "\n",
       "       cadunico_tot_pes_pob_e_ext_pob  \n",
       "0                             11591.0  \n",
       "1                             29553.0  \n",
       "2                              2712.0  \n",
       "3                             21749.0  \n",
       "4                              6594.0  \n",
       "...                               ...  \n",
       "50080                          4062.0  \n",
       "50081                          2843.0  \n",
       "50082                          2623.0  \n",
       "50083                          2377.0  \n",
       "50084                        486804.0  \n",
       "\n",
       "[50085 rows x 12 columns]"
      ]
     },
     "execution_count": 23,
     "metadata": {},
     "output_type": "execute_result"
    }
   ],
   "source": [
    "df_cad_2012_limpo = df_cad_2012.dropna(how='any')\n",
    "df_cad_2012_limpo"
   ]
  },
  {
   "cell_type": "code",
   "execution_count": 24,
   "id": "76ca1119-c6cf-4343-8171-fb1c9f4e07cb",
   "metadata": {
    "tags": []
   },
   "outputs": [
    {
     "name": "stdout",
     "output_type": "stream",
     "text": [
      "<class 'pandas.core.frame.DataFrame'>\n",
      "Index: 50085 entries, 0 to 50084\n",
      "Data columns (total 12 columns):\n",
      " #   Column                            Non-Null Count  Dtype  \n",
      "---  ------                            --------------  -----  \n",
      " 0   ibge                              50085 non-null  int64  \n",
      " 1   anomes                            50085 non-null  int64  \n",
      " 2   cadunico_tot_fam                  50085 non-null  int64  \n",
      " 3   cadunico_tot_pes                  50085 non-null  float64\n",
      " 4   cadunico_tot_fam_rpc_ate_meio_sm  50085 non-null  float64\n",
      " 5   cadunico_tot_pes_rpc_ate_meio_sm  50085 non-null  float64\n",
      " 6   cadunico_tot_fam_pob              50085 non-null  float64\n",
      " 7   cadunico_tot_pes_pob              50085 non-null  float64\n",
      " 8   cadunico_tot_fam_ext_pob          50085 non-null  float64\n",
      " 9   cadunico_tot_pes_ext_pob          50085 non-null  float64\n",
      " 10  cadunico_tot_fam_pob_e_ext_pob    50085 non-null  float64\n",
      " 11  cadunico_tot_pes_pob_e_ext_pob    50085 non-null  float64\n",
      "dtypes: float64(9), int64(3)\n",
      "memory usage: 5.0 MB\n"
     ]
    }
   ],
   "source": [
    "df_cad_2012_limpo.info()"
   ]
  },
  {
   "cell_type": "markdown",
   "id": "df31a02f-2ca5-465b-9031-aaec9e4cf2ee",
   "metadata": {},
   "source": [
    "## Identificando que a partir de 2011 não existem dados de faixa de renda"
   ]
  },
  {
   "cell_type": "code",
   "execution_count": 25,
   "id": "fee2ede4-34fe-4ee9-ba89-2480d42f77cf",
   "metadata": {
    "tags": []
   },
   "outputs": [
    {
     "name": "stdout",
     "output_type": "stream",
     "text": [
      "<class 'pandas.core.frame.DataFrame'>\n",
      "RangeIndex: 55646 entries, 0 to 55645\n",
      "Data columns (total 12 columns):\n",
      " #   Column                            Non-Null Count  Dtype  \n",
      "---  ------                            --------------  -----  \n",
      " 0   ibge                              55646 non-null  int64  \n",
      " 1   anomes                            55646 non-null  int64  \n",
      " 2   cadunico_tot_fam                  55646 non-null  int64  \n",
      " 3   cadunico_tot_pes                  0 non-null      float64\n",
      " 4   cadunico_tot_fam_rpc_ate_meio_sm  0 non-null      float64\n",
      " 5   cadunico_tot_pes_rpc_ate_meio_sm  0 non-null      float64\n",
      " 6   cadunico_tot_fam_pob              0 non-null      float64\n",
      " 7   cadunico_tot_pes_pob              0 non-null      float64\n",
      " 8   cadunico_tot_fam_ext_pob          0 non-null      float64\n",
      " 9   cadunico_tot_pes_ext_pob          0 non-null      float64\n",
      " 10  cadunico_tot_fam_pob_e_ext_pob    0 non-null      float64\n",
      " 11  cadunico_tot_pes_pob_e_ext_pob    0 non-null      float64\n",
      "dtypes: float64(9), int64(3)\n",
      "memory usage: 5.1 MB\n"
     ]
    }
   ],
   "source": [
    "#Dados 2011\n",
    "df_cad_2011.info()"
   ]
  },
  {
   "cell_type": "code",
   "execution_count": 26,
   "id": "b7b3f0de-e249-48bb-ad8d-025e6bb8b0ba",
   "metadata": {
    "tags": []
   },
   "outputs": [
    {
     "name": "stdout",
     "output_type": "stream",
     "text": [
      "<class 'pandas.core.frame.DataFrame'>\n",
      "RangeIndex: 55644 entries, 0 to 55643\n",
      "Data columns (total 12 columns):\n",
      " #   Column                            Non-Null Count  Dtype  \n",
      "---  ------                            --------------  -----  \n",
      " 0   ibge                              55644 non-null  int64  \n",
      " 1   anomes                            55644 non-null  int64  \n",
      " 2   cadunico_tot_fam                  55644 non-null  int64  \n",
      " 3   cadunico_tot_pes                  0 non-null      float64\n",
      " 4   cadunico_tot_fam_rpc_ate_meio_sm  0 non-null      float64\n",
      " 5   cadunico_tot_pes_rpc_ate_meio_sm  0 non-null      float64\n",
      " 6   cadunico_tot_fam_pob              0 non-null      float64\n",
      " 7   cadunico_tot_pes_pob              0 non-null      float64\n",
      " 8   cadunico_tot_fam_ext_pob          0 non-null      float64\n",
      " 9   cadunico_tot_pes_ext_pob          0 non-null      float64\n",
      " 10  cadunico_tot_fam_pob_e_ext_pob    0 non-null      float64\n",
      " 11  cadunico_tot_pes_pob_e_ext_pob    0 non-null      float64\n",
      "dtypes: float64(9), int64(3)\n",
      "memory usage: 5.1 MB\n"
     ]
    }
   ],
   "source": [
    "#Dados 2010\n",
    "df_cad_2010.info()"
   ]
  },
  {
   "cell_type": "code",
   "execution_count": 27,
   "id": "c67dea6d-6c64-4a64-ae3c-bfd8003ebfa2",
   "metadata": {
    "tags": []
   },
   "outputs": [
    {
     "name": "stdout",
     "output_type": "stream",
     "text": [
      "<class 'pandas.core.frame.DataFrame'>\n",
      "RangeIndex: 55640 entries, 0 to 55639\n",
      "Data columns (total 12 columns):\n",
      " #   Column                            Non-Null Count  Dtype  \n",
      "---  ------                            --------------  -----  \n",
      " 0   ibge                              55640 non-null  int64  \n",
      " 1   anomes                            55640 non-null  int64  \n",
      " 2   cadunico_tot_fam                  55640 non-null  int64  \n",
      " 3   cadunico_tot_pes                  0 non-null      float64\n",
      " 4   cadunico_tot_fam_rpc_ate_meio_sm  0 non-null      float64\n",
      " 5   cadunico_tot_pes_rpc_ate_meio_sm  0 non-null      float64\n",
      " 6   cadunico_tot_fam_pob              0 non-null      float64\n",
      " 7   cadunico_tot_pes_pob              0 non-null      float64\n",
      " 8   cadunico_tot_fam_ext_pob          0 non-null      float64\n",
      " 9   cadunico_tot_pes_ext_pob          0 non-null      float64\n",
      " 10  cadunico_tot_fam_pob_e_ext_pob    0 non-null      float64\n",
      " 11  cadunico_tot_pes_pob_e_ext_pob    0 non-null      float64\n",
      "dtypes: float64(9), int64(3)\n",
      "memory usage: 5.1 MB\n"
     ]
    }
   ],
   "source": [
    "#Dados de 2009\n",
    "df_cad_2009.info()"
   ]
  },
  {
   "cell_type": "code",
   "execution_count": 28,
   "id": "89586562-8861-4470-859e-14526d92f468",
   "metadata": {
    "tags": []
   },
   "outputs": [
    {
     "name": "stdout",
     "output_type": "stream",
     "text": [
      "<class 'pandas.core.frame.DataFrame'>\n",
      "RangeIndex: 61204 entries, 0 to 61203\n",
      "Data columns (total 12 columns):\n",
      " #   Column                            Non-Null Count  Dtype  \n",
      "---  ------                            --------------  -----  \n",
      " 0   ibge                              61204 non-null  int64  \n",
      " 1   anomes                            61204 non-null  int64  \n",
      " 2   cadunico_tot_fam                  61204 non-null  int64  \n",
      " 3   cadunico_tot_pes                  0 non-null      float64\n",
      " 4   cadunico_tot_fam_rpc_ate_meio_sm  0 non-null      float64\n",
      " 5   cadunico_tot_pes_rpc_ate_meio_sm  0 non-null      float64\n",
      " 6   cadunico_tot_fam_pob              0 non-null      float64\n",
      " 7   cadunico_tot_pes_pob              0 non-null      float64\n",
      " 8   cadunico_tot_fam_ext_pob          0 non-null      float64\n",
      " 9   cadunico_tot_pes_ext_pob          0 non-null      float64\n",
      " 10  cadunico_tot_fam_pob_e_ext_pob    0 non-null      float64\n",
      " 11  cadunico_tot_pes_pob_e_ext_pob    0 non-null      float64\n",
      "dtypes: float64(9), int64(3)\n",
      "memory usage: 5.6 MB\n"
     ]
    }
   ],
   "source": [
    "#Dados de 2008\n",
    "df_cad_2008.info()"
   ]
  },
  {
   "cell_type": "code",
   "execution_count": 29,
   "id": "3f090e97-fef7-4934-88f6-3249f0c0f822",
   "metadata": {
    "tags": []
   },
   "outputs": [
    {
     "name": "stdout",
     "output_type": "stream",
     "text": [
      "<class 'pandas.core.frame.DataFrame'>\n",
      "RangeIndex: 66761 entries, 0 to 66760\n",
      "Data columns (total 12 columns):\n",
      " #   Column                            Non-Null Count  Dtype  \n",
      "---  ------                            --------------  -----  \n",
      " 0   ibge                              66761 non-null  int64  \n",
      " 1   anomes                            66761 non-null  int64  \n",
      " 2   cadunico_tot_fam                  66761 non-null  int64  \n",
      " 3   cadunico_tot_pes                  0 non-null      float64\n",
      " 4   cadunico_tot_fam_rpc_ate_meio_sm  0 non-null      float64\n",
      " 5   cadunico_tot_pes_rpc_ate_meio_sm  0 non-null      float64\n",
      " 6   cadunico_tot_fam_pob              0 non-null      float64\n",
      " 7   cadunico_tot_pes_pob              0 non-null      float64\n",
      " 8   cadunico_tot_fam_ext_pob          0 non-null      float64\n",
      " 9   cadunico_tot_pes_ext_pob          0 non-null      float64\n",
      " 10  cadunico_tot_fam_pob_e_ext_pob    0 non-null      float64\n",
      " 11  cadunico_tot_pes_pob_e_ext_pob    0 non-null      float64\n",
      "dtypes: float64(9), int64(3)\n",
      "memory usage: 6.1 MB\n"
     ]
    }
   ],
   "source": [
    "# Dados de 2007\n",
    "df_cad_2007.info()"
   ]
  },
  {
   "cell_type": "code",
   "execution_count": 30,
   "id": "65650e6d-abe8-4672-9da5-2b3bb8d081ba",
   "metadata": {
    "tags": []
   },
   "outputs": [
    {
     "name": "stdout",
     "output_type": "stream",
     "text": [
      "<class 'pandas.core.frame.DataFrame'>\n",
      "RangeIndex: 11123 entries, 0 to 11122\n",
      "Data columns (total 12 columns):\n",
      " #   Column                            Non-Null Count  Dtype  \n",
      "---  ------                            --------------  -----  \n",
      " 0   ibge                              11123 non-null  int64  \n",
      " 1   anomes                            11123 non-null  int64  \n",
      " 2   cadunico_tot_fam                  11123 non-null  int64  \n",
      " 3   cadunico_tot_pes                  0 non-null      float64\n",
      " 4   cadunico_tot_fam_rpc_ate_meio_sm  0 non-null      float64\n",
      " 5   cadunico_tot_pes_rpc_ate_meio_sm  0 non-null      float64\n",
      " 6   cadunico_tot_fam_pob              0 non-null      float64\n",
      " 7   cadunico_tot_pes_pob              0 non-null      float64\n",
      " 8   cadunico_tot_fam_ext_pob          0 non-null      float64\n",
      " 9   cadunico_tot_pes_ext_pob          0 non-null      float64\n",
      " 10  cadunico_tot_fam_pob_e_ext_pob    0 non-null      float64\n",
      " 11  cadunico_tot_pes_pob_e_ext_pob    0 non-null      float64\n",
      "dtypes: float64(9), int64(3)\n",
      "memory usage: 1.0 MB\n"
     ]
    }
   ],
   "source": [
    "# Dados de 2006\n",
    "df_cad_2006.info()"
   ]
  },
  {
   "cell_type": "markdown",
   "id": "a33d88d6-1639-44fc-a836-17b47e2e55af",
   "metadata": {},
   "source": [
    "## Concatenando as bases de dados\n",
    "Foram concatenadas as bases de 2011 a 2023 por serem bases que apresentam pelo menos 1 mês com dados de faixa de renda"
   ]
  },
  {
   "cell_type": "code",
   "execution_count": 31,
   "id": "58f64a2d-b623-48ca-8d4a-e6cd9776fb65",
   "metadata": {
    "tags": []
   },
   "outputs": [],
   "source": [
    "df_cad_2012_2023 = pd.concat([df_cad_2012_limpo, df_cad_2013, df_cad_2014, df_cad_2015, df_cad_2016, df_cad_2017, df_cad_2018, df_cad_2019, df_cad_2020, df_cad_2021, df_cad_2022, df_cad_2023])"
   ]
  },
  {
   "cell_type": "code",
   "execution_count": 32,
   "id": "0314893a-59fc-4771-ae0b-043692d63150",
   "metadata": {
    "tags": []
   },
   "outputs": [
    {
     "name": "stdout",
     "output_type": "stream",
     "text": [
      "<class 'pandas.core.frame.DataFrame'>\n",
      "Index: 762976 entries, 0 to 44559\n",
      "Data columns (total 12 columns):\n",
      " #   Column                            Non-Null Count   Dtype  \n",
      "---  ------                            --------------   -----  \n",
      " 0   ibge                              762976 non-null  int64  \n",
      " 1   anomes                            762976 non-null  int64  \n",
      " 2   cadunico_tot_fam                  762976 non-null  int64  \n",
      " 3   cadunico_tot_pes                  762976 non-null  float64\n",
      " 4   cadunico_tot_fam_rpc_ate_meio_sm  762976 non-null  float64\n",
      " 5   cadunico_tot_pes_rpc_ate_meio_sm  762976 non-null  float64\n",
      " 6   cadunico_tot_fam_pob              762976 non-null  float64\n",
      " 7   cadunico_tot_pes_pob              762976 non-null  float64\n",
      " 8   cadunico_tot_fam_ext_pob          762976 non-null  float64\n",
      " 9   cadunico_tot_pes_ext_pob          762976 non-null  float64\n",
      " 10  cadunico_tot_fam_pob_e_ext_pob    762976 non-null  float64\n",
      " 11  cadunico_tot_pes_pob_e_ext_pob    762976 non-null  float64\n",
      "dtypes: float64(9), int64(3)\n",
      "memory usage: 75.7 MB\n"
     ]
    }
   ],
   "source": [
    "df_cad_2012_2023.info()"
   ]
  },
  {
   "cell_type": "code",
   "execution_count": 33,
   "id": "5dacaa4e-53f9-44a8-95f3-ee8661b7e037",
   "metadata": {
    "tags": []
   },
   "outputs": [
    {
     "data": {
      "text/plain": [
       "Index(['ibge', 'anomes', 'cadunico_tot_fam', 'cadunico_tot_pes',\n",
       "       'cadunico_tot_fam_rpc_ate_meio_sm', 'cadunico_tot_pes_rpc_ate_meio_sm',\n",
       "       'cadunico_tot_fam_pob', 'cadunico_tot_pes_pob',\n",
       "       'cadunico_tot_fam_ext_pob', 'cadunico_tot_pes_ext_pob',\n",
       "       'cadunico_tot_fam_pob_e_ext_pob', 'cadunico_tot_pes_pob_e_ext_pob'],\n",
       "      dtype='object')"
      ]
     },
     "execution_count": 33,
     "metadata": {},
     "output_type": "execute_result"
    }
   ],
   "source": [
    "df_cad_2012_2023.columns"
   ]
  },
  {
   "cell_type": "code",
   "execution_count": 34,
   "id": "1e51f568-6ddd-4ec8-a943-56d384a5d882",
   "metadata": {
    "tags": []
   },
   "outputs": [
    {
     "data": {
      "text/plain": [
       "Index(['ibge_6', 'referencia', 'total_fam', 'total_pes',\n",
       "       'total_fam_ate_meio_sm', 'total_pes_ate_meio_sm', 'total_fam_pob',\n",
       "       'total_pes_pob', 'total_fam_ext_pob', 'total_pes_ext_pob',\n",
       "       'total_fam_pob_e_ext_pob', 'total_pes_pob_e_ext_pob'],\n",
       "      dtype='object')"
      ]
     },
     "execution_count": 34,
     "metadata": {},
     "output_type": "execute_result"
    }
   ],
   "source": [
    "df_cad_2012_2023.rename(columns={'ibge': 'ibge_6', 'anomes': 'referencia','cadunico_tot_fam': 'total_fam', 'cadunico_tot_pes': 'total_pes', 'cadunico_tot_fam_rpc_ate_meio_sm': 'total_fam_ate_meio_sm',\n",
    "                                          'cadunico_tot_pes_rpc_ate_meio_sm': 'total_pes_ate_meio_sm', 'cadunico_tot_fam_pob': 'total_fam_pob', \n",
    "                                          'cadunico_tot_pes_pob': 'total_pes_pob', 'cadunico_tot_fam_ext_pob': 'total_fam_ext_pob' , \n",
    "                                          'cadunico_tot_pes_ext_pob': 'total_pes_ext_pob', 'cadunico_tot_fam_pob_e_ext_pob': 'total_fam_pob_e_ext_pob',\n",
    "                                          'cadunico_tot_pes_pob_e_ext_pob': 'total_pes_pob_e_ext_pob' }, inplace=True)\n",
    "df_cad_2012_2023.columns"
   ]
  },
  {
   "cell_type": "code",
   "execution_count": 35,
   "id": "729f5eb0-96d6-48b0-8302-e2e9db60f8a3",
   "metadata": {
    "tags": []
   },
   "outputs": [
    {
     "data": {
      "text/html": [
       "<div>\n",
       "<style scoped>\n",
       "    .dataframe tbody tr th:only-of-type {\n",
       "        vertical-align: middle;\n",
       "    }\n",
       "\n",
       "    .dataframe tbody tr th {\n",
       "        vertical-align: top;\n",
       "    }\n",
       "\n",
       "    .dataframe thead th {\n",
       "        text-align: right;\n",
       "    }\n",
       "</style>\n",
       "<table border=\"1\" class=\"dataframe\">\n",
       "  <thead>\n",
       "    <tr style=\"text-align: right;\">\n",
       "      <th></th>\n",
       "      <th>ibge_6</th>\n",
       "      <th>referencia</th>\n",
       "      <th>total_fam</th>\n",
       "      <th>total_pes</th>\n",
       "      <th>total_fam_ate_meio_sm</th>\n",
       "      <th>total_pes_ate_meio_sm</th>\n",
       "      <th>total_fam_pob</th>\n",
       "      <th>total_pes_pob</th>\n",
       "      <th>total_fam_ext_pob</th>\n",
       "      <th>total_pes_ext_pob</th>\n",
       "      <th>total_fam_pob_e_ext_pob</th>\n",
       "      <th>total_pes_pob_e_ext_pob</th>\n",
       "    </tr>\n",
       "  </thead>\n",
       "  <tbody>\n",
       "    <tr>\n",
       "      <th>0</th>\n",
       "      <td>110001</td>\n",
       "      <td>201212</td>\n",
       "      <td>4116</td>\n",
       "      <td>14076.0</td>\n",
       "      <td>3566.0</td>\n",
       "      <td>13170.0</td>\n",
       "      <td>1110.0</td>\n",
       "      <td>4218.0</td>\n",
       "      <td>1961.0</td>\n",
       "      <td>7373.0</td>\n",
       "      <td>3071.0</td>\n",
       "      <td>11591.0</td>\n",
       "    </tr>\n",
       "    <tr>\n",
       "      <th>1</th>\n",
       "      <td>110002</td>\n",
       "      <td>201212</td>\n",
       "      <td>10775</td>\n",
       "      <td>37567.0</td>\n",
       "      <td>9922.0</td>\n",
       "      <td>35934.0</td>\n",
       "      <td>3816.0</td>\n",
       "      <td>14494.0</td>\n",
       "      <td>4089.0</td>\n",
       "      <td>15059.0</td>\n",
       "      <td>7905.0</td>\n",
       "      <td>29553.0</td>\n",
       "    </tr>\n",
       "    <tr>\n",
       "      <th>2</th>\n",
       "      <td>110003</td>\n",
       "      <td>201212</td>\n",
       "      <td>993</td>\n",
       "      <td>3313.0</td>\n",
       "      <td>933.0</td>\n",
       "      <td>3219.0</td>\n",
       "      <td>278.0</td>\n",
       "      <td>1006.0</td>\n",
       "      <td>498.0</td>\n",
       "      <td>1706.0</td>\n",
       "      <td>776.0</td>\n",
       "      <td>2712.0</td>\n",
       "    </tr>\n",
       "    <tr>\n",
       "      <th>3</th>\n",
       "      <td>110004</td>\n",
       "      <td>201212</td>\n",
       "      <td>8516</td>\n",
       "      <td>29459.0</td>\n",
       "      <td>7805.0</td>\n",
       "      <td>27973.0</td>\n",
       "      <td>2514.0</td>\n",
       "      <td>9776.0</td>\n",
       "      <td>3339.0</td>\n",
       "      <td>11973.0</td>\n",
       "      <td>5853.0</td>\n",
       "      <td>21749.0</td>\n",
       "    </tr>\n",
       "    <tr>\n",
       "      <th>4</th>\n",
       "      <td>110005</td>\n",
       "      <td>201212</td>\n",
       "      <td>2259</td>\n",
       "      <td>7918.0</td>\n",
       "      <td>2174.0</td>\n",
       "      <td>7751.0</td>\n",
       "      <td>794.0</td>\n",
       "      <td>2889.0</td>\n",
       "      <td>1027.0</td>\n",
       "      <td>3705.0</td>\n",
       "      <td>1821.0</td>\n",
       "      <td>6594.0</td>\n",
       "    </tr>\n",
       "  </tbody>\n",
       "</table>\n",
       "</div>"
      ],
      "text/plain": [
       "   ibge_6  referencia  total_fam  total_pes  total_fam_ate_meio_sm  \\\n",
       "0  110001      201212       4116    14076.0                 3566.0   \n",
       "1  110002      201212      10775    37567.0                 9922.0   \n",
       "2  110003      201212        993     3313.0                  933.0   \n",
       "3  110004      201212       8516    29459.0                 7805.0   \n",
       "4  110005      201212       2259     7918.0                 2174.0   \n",
       "\n",
       "   total_pes_ate_meio_sm  total_fam_pob  total_pes_pob  total_fam_ext_pob  \\\n",
       "0                13170.0         1110.0         4218.0             1961.0   \n",
       "1                35934.0         3816.0        14494.0             4089.0   \n",
       "2                 3219.0          278.0         1006.0              498.0   \n",
       "3                27973.0         2514.0         9776.0             3339.0   \n",
       "4                 7751.0          794.0         2889.0             1027.0   \n",
       "\n",
       "   total_pes_ext_pob  total_fam_pob_e_ext_pob  total_pes_pob_e_ext_pob  \n",
       "0             7373.0                   3071.0                  11591.0  \n",
       "1            15059.0                   7905.0                  29553.0  \n",
       "2             1706.0                    776.0                   2712.0  \n",
       "3            11973.0                   5853.0                  21749.0  \n",
       "4             3705.0                   1821.0                   6594.0  "
      ]
     },
     "execution_count": 35,
     "metadata": {},
     "output_type": "execute_result"
    }
   ],
   "source": [
    "df_cad_2012_2023.head()"
   ]
  },
  {
   "cell_type": "markdown",
   "id": "66dc9e7a-5c55-4c8a-a1ef-8ae30583e92e",
   "metadata": {},
   "source": [
    "### Criando nova coluna Faixa baixa renda\n",
    "\n",
    "Conforme consta no dicionário de dados, a coluna 'cadunico_tot_pes_rpc_ate_meio_sm' e a coluna 'cadunico_tot_fam_rpc_ate_meio_sm' é o total de pessoas e famílias com renda per capita até meio salário mínimo, ou seja, o somatório de todas as pessoas/famílias da faixa da pobreza, extrema pobreza e baixa renda, aqui consideradas as pessoas/famílias que estão acima da faixa da pobreza e que recebem até meio salário mínimo per capita.\n",
    "Desta forma, de modo a availar a mobilidade das famílias entre as faixas de renda extrema pobreza, pobreza e baixa renda, ao longo do período avaliado, será necessário criar nova coluna 'total_fam_bx_renda', que é o resultado da subtração da coluna 'total_fam_ate_meio_sm' menos a coluna 'total_fam_pob_e_ext_pob'.\n"
   ]
  },
  {
   "cell_type": "code",
   "execution_count": 36,
   "id": "3aaa6180-7a80-4d85-b359-4ab2afaf3062",
   "metadata": {
    "tags": []
   },
   "outputs": [
    {
     "data": {
      "text/html": [
       "<div>\n",
       "<style scoped>\n",
       "    .dataframe tbody tr th:only-of-type {\n",
       "        vertical-align: middle;\n",
       "    }\n",
       "\n",
       "    .dataframe tbody tr th {\n",
       "        vertical-align: top;\n",
       "    }\n",
       "\n",
       "    .dataframe thead th {\n",
       "        text-align: right;\n",
       "    }\n",
       "</style>\n",
       "<table border=\"1\" class=\"dataframe\">\n",
       "  <thead>\n",
       "    <tr style=\"text-align: right;\">\n",
       "      <th></th>\n",
       "      <th>ibge_6</th>\n",
       "      <th>referencia</th>\n",
       "      <th>total_fam</th>\n",
       "      <th>total_pes</th>\n",
       "      <th>total_fam_ate_meio_sm</th>\n",
       "      <th>total_pes_ate_meio_sm</th>\n",
       "      <th>total_fam_pob</th>\n",
       "      <th>total_pes_pob</th>\n",
       "      <th>total_fam_ext_pob</th>\n",
       "      <th>total_pes_ext_pob</th>\n",
       "      <th>total_fam_pob_e_ext_pob</th>\n",
       "      <th>total_pes_pob_e_ext_pob</th>\n",
       "      <th>total_fam_bx_renda</th>\n",
       "      <th>total_pes_bx_renda</th>\n",
       "    </tr>\n",
       "  </thead>\n",
       "  <tbody>\n",
       "    <tr>\n",
       "      <th>0</th>\n",
       "      <td>110001</td>\n",
       "      <td>201212</td>\n",
       "      <td>4116</td>\n",
       "      <td>14076.0</td>\n",
       "      <td>3566.0</td>\n",
       "      <td>13170.0</td>\n",
       "      <td>1110.0</td>\n",
       "      <td>4218.0</td>\n",
       "      <td>1961.0</td>\n",
       "      <td>7373.0</td>\n",
       "      <td>3071.0</td>\n",
       "      <td>11591.0</td>\n",
       "      <td>495.0</td>\n",
       "      <td>1579.0</td>\n",
       "    </tr>\n",
       "    <tr>\n",
       "      <th>1</th>\n",
       "      <td>110002</td>\n",
       "      <td>201212</td>\n",
       "      <td>10775</td>\n",
       "      <td>37567.0</td>\n",
       "      <td>9922.0</td>\n",
       "      <td>35934.0</td>\n",
       "      <td>3816.0</td>\n",
       "      <td>14494.0</td>\n",
       "      <td>4089.0</td>\n",
       "      <td>15059.0</td>\n",
       "      <td>7905.0</td>\n",
       "      <td>29553.0</td>\n",
       "      <td>2017.0</td>\n",
       "      <td>6381.0</td>\n",
       "    </tr>\n",
       "    <tr>\n",
       "      <th>2</th>\n",
       "      <td>110003</td>\n",
       "      <td>201212</td>\n",
       "      <td>993</td>\n",
       "      <td>3313.0</td>\n",
       "      <td>933.0</td>\n",
       "      <td>3219.0</td>\n",
       "      <td>278.0</td>\n",
       "      <td>1006.0</td>\n",
       "      <td>498.0</td>\n",
       "      <td>1706.0</td>\n",
       "      <td>776.0</td>\n",
       "      <td>2712.0</td>\n",
       "      <td>157.0</td>\n",
       "      <td>507.0</td>\n",
       "    </tr>\n",
       "    <tr>\n",
       "      <th>3</th>\n",
       "      <td>110004</td>\n",
       "      <td>201212</td>\n",
       "      <td>8516</td>\n",
       "      <td>29459.0</td>\n",
       "      <td>7805.0</td>\n",
       "      <td>27973.0</td>\n",
       "      <td>2514.0</td>\n",
       "      <td>9776.0</td>\n",
       "      <td>3339.0</td>\n",
       "      <td>11973.0</td>\n",
       "      <td>5853.0</td>\n",
       "      <td>21749.0</td>\n",
       "      <td>1952.0</td>\n",
       "      <td>6224.0</td>\n",
       "    </tr>\n",
       "    <tr>\n",
       "      <th>4</th>\n",
       "      <td>110005</td>\n",
       "      <td>201212</td>\n",
       "      <td>2259</td>\n",
       "      <td>7918.0</td>\n",
       "      <td>2174.0</td>\n",
       "      <td>7751.0</td>\n",
       "      <td>794.0</td>\n",
       "      <td>2889.0</td>\n",
       "      <td>1027.0</td>\n",
       "      <td>3705.0</td>\n",
       "      <td>1821.0</td>\n",
       "      <td>6594.0</td>\n",
       "      <td>353.0</td>\n",
       "      <td>1157.0</td>\n",
       "    </tr>\n",
       "  </tbody>\n",
       "</table>\n",
       "</div>"
      ],
      "text/plain": [
       "   ibge_6  referencia  total_fam  total_pes  total_fam_ate_meio_sm  \\\n",
       "0  110001      201212       4116    14076.0                 3566.0   \n",
       "1  110002      201212      10775    37567.0                 9922.0   \n",
       "2  110003      201212        993     3313.0                  933.0   \n",
       "3  110004      201212       8516    29459.0                 7805.0   \n",
       "4  110005      201212       2259     7918.0                 2174.0   \n",
       "\n",
       "   total_pes_ate_meio_sm  total_fam_pob  total_pes_pob  total_fam_ext_pob  \\\n",
       "0                13170.0         1110.0         4218.0             1961.0   \n",
       "1                35934.0         3816.0        14494.0             4089.0   \n",
       "2                 3219.0          278.0         1006.0              498.0   \n",
       "3                27973.0         2514.0         9776.0             3339.0   \n",
       "4                 7751.0          794.0         2889.0             1027.0   \n",
       "\n",
       "   total_pes_ext_pob  total_fam_pob_e_ext_pob  total_pes_pob_e_ext_pob  \\\n",
       "0             7373.0                   3071.0                  11591.0   \n",
       "1            15059.0                   7905.0                  29553.0   \n",
       "2             1706.0                    776.0                   2712.0   \n",
       "3            11973.0                   5853.0                  21749.0   \n",
       "4             3705.0                   1821.0                   6594.0   \n",
       "\n",
       "   total_fam_bx_renda  total_pes_bx_renda  \n",
       "0               495.0              1579.0  \n",
       "1              2017.0              6381.0  \n",
       "2               157.0               507.0  \n",
       "3              1952.0              6224.0  \n",
       "4               353.0              1157.0  "
      ]
     },
     "execution_count": 36,
     "metadata": {},
     "output_type": "execute_result"
    }
   ],
   "source": [
    "df_cad_2012_2023['total_fam_bx_renda'] = df_cad_2012_2023['total_fam_ate_meio_sm']-df_cad_2012_2023['total_fam_pob_e_ext_pob']\n",
    "df_cad_2012_2023['total_pes_bx_renda'] = df_cad_2012_2023['total_pes_ate_meio_sm']-df_cad_2012_2023['total_pes_pob_e_ext_pob']\n",
    "df_cad_2012_2023.head()"
   ]
  },
  {
   "cell_type": "markdown",
   "id": "0f8e95e0-bd7c-42c5-8e4d-1a8a1e2d2ec0",
   "metadata": {},
   "source": [
    "## Criando um novo df só com colunas de famílias"
   ]
  },
  {
   "cell_type": "code",
   "execution_count": 37,
   "id": "5627c21e-1bfd-4cfe-913b-8cc2bdf552b9",
   "metadata": {
    "tags": []
   },
   "outputs": [
    {
     "data": {
      "text/plain": [
       "Index(['ibge_6', 'referencia', 'total_fam', 'total_pes',\n",
       "       'total_fam_ate_meio_sm', 'total_pes_ate_meio_sm', 'total_fam_pob',\n",
       "       'total_pes_pob', 'total_fam_ext_pob', 'total_pes_ext_pob',\n",
       "       'total_fam_pob_e_ext_pob', 'total_pes_pob_e_ext_pob',\n",
       "       'total_fam_bx_renda', 'total_pes_bx_renda'],\n",
       "      dtype='object')"
      ]
     },
     "execution_count": 37,
     "metadata": {},
     "output_type": "execute_result"
    }
   ],
   "source": [
    "df_cad_2012_2023.columns"
   ]
  },
  {
   "cell_type": "code",
   "execution_count": 38,
   "id": "0d0b938b-e56a-4cd1-838c-2bb0dcf428fe",
   "metadata": {
    "tags": []
   },
   "outputs": [],
   "source": [
    "df_cad_2012_2023_fam = df_cad_2012_2023.drop(columns=['total_pes', 'total_pes_ate_meio_sm', 'total_pes_pob',\n",
    "       'total_pes_ext_pob', 'total_pes_pob_e_ext_pob', 'total_pes_bx_renda'])"
   ]
  },
  {
   "cell_type": "code",
   "execution_count": 39,
   "id": "b52cf54d-5914-4dd3-b21d-0e4aba6090a9",
   "metadata": {
    "tags": []
   },
   "outputs": [
    {
     "data": {
      "text/html": [
       "<div>\n",
       "<style scoped>\n",
       "    .dataframe tbody tr th:only-of-type {\n",
       "        vertical-align: middle;\n",
       "    }\n",
       "\n",
       "    .dataframe tbody tr th {\n",
       "        vertical-align: top;\n",
       "    }\n",
       "\n",
       "    .dataframe thead th {\n",
       "        text-align: right;\n",
       "    }\n",
       "</style>\n",
       "<table border=\"1\" class=\"dataframe\">\n",
       "  <thead>\n",
       "    <tr style=\"text-align: right;\">\n",
       "      <th></th>\n",
       "      <th>ibge_6</th>\n",
       "      <th>referencia</th>\n",
       "      <th>total_fam</th>\n",
       "      <th>total_fam_ate_meio_sm</th>\n",
       "      <th>total_fam_pob</th>\n",
       "      <th>total_fam_ext_pob</th>\n",
       "      <th>total_fam_pob_e_ext_pob</th>\n",
       "      <th>total_fam_bx_renda</th>\n",
       "    </tr>\n",
       "  </thead>\n",
       "  <tbody>\n",
       "    <tr>\n",
       "      <th>0</th>\n",
       "      <td>110001</td>\n",
       "      <td>201212</td>\n",
       "      <td>4116</td>\n",
       "      <td>3566.0</td>\n",
       "      <td>1110.0</td>\n",
       "      <td>1961.0</td>\n",
       "      <td>3071.0</td>\n",
       "      <td>495.0</td>\n",
       "    </tr>\n",
       "    <tr>\n",
       "      <th>1</th>\n",
       "      <td>110002</td>\n",
       "      <td>201212</td>\n",
       "      <td>10775</td>\n",
       "      <td>9922.0</td>\n",
       "      <td>3816.0</td>\n",
       "      <td>4089.0</td>\n",
       "      <td>7905.0</td>\n",
       "      <td>2017.0</td>\n",
       "    </tr>\n",
       "    <tr>\n",
       "      <th>2</th>\n",
       "      <td>110003</td>\n",
       "      <td>201212</td>\n",
       "      <td>993</td>\n",
       "      <td>933.0</td>\n",
       "      <td>278.0</td>\n",
       "      <td>498.0</td>\n",
       "      <td>776.0</td>\n",
       "      <td>157.0</td>\n",
       "    </tr>\n",
       "    <tr>\n",
       "      <th>3</th>\n",
       "      <td>110004</td>\n",
       "      <td>201212</td>\n",
       "      <td>8516</td>\n",
       "      <td>7805.0</td>\n",
       "      <td>2514.0</td>\n",
       "      <td>3339.0</td>\n",
       "      <td>5853.0</td>\n",
       "      <td>1952.0</td>\n",
       "    </tr>\n",
       "    <tr>\n",
       "      <th>4</th>\n",
       "      <td>110005</td>\n",
       "      <td>201212</td>\n",
       "      <td>2259</td>\n",
       "      <td>2174.0</td>\n",
       "      <td>794.0</td>\n",
       "      <td>1027.0</td>\n",
       "      <td>1821.0</td>\n",
       "      <td>353.0</td>\n",
       "    </tr>\n",
       "  </tbody>\n",
       "</table>\n",
       "</div>"
      ],
      "text/plain": [
       "   ibge_6  referencia  total_fam  total_fam_ate_meio_sm  total_fam_pob  \\\n",
       "0  110001      201212       4116                 3566.0         1110.0   \n",
       "1  110002      201212      10775                 9922.0         3816.0   \n",
       "2  110003      201212        993                  933.0          278.0   \n",
       "3  110004      201212       8516                 7805.0         2514.0   \n",
       "4  110005      201212       2259                 2174.0          794.0   \n",
       "\n",
       "   total_fam_ext_pob  total_fam_pob_e_ext_pob  total_fam_bx_renda  \n",
       "0             1961.0                   3071.0               495.0  \n",
       "1             4089.0                   7905.0              2017.0  \n",
       "2              498.0                    776.0               157.0  \n",
       "3             3339.0                   5853.0              1952.0  \n",
       "4             1027.0                   1821.0               353.0  "
      ]
     },
     "execution_count": 39,
     "metadata": {},
     "output_type": "execute_result"
    }
   ],
   "source": [
    "df_cad_2012_2023_fam.head()"
   ]
  },
  {
   "cell_type": "code",
   "execution_count": 40,
   "id": "3a2165dc-b45d-4bac-a13d-b99497e32a58",
   "metadata": {
    "tags": []
   },
   "outputs": [
    {
     "data": {
      "text/plain": [
       "Index(['ibge_6', 'referencia', 'total_fam', 'total_fam_ate_meio_sm',\n",
       "       'total_fam_pob', 'total_fam_ext_pob', 'total_fam_pob_e_ext_pob',\n",
       "       'total_fam_bx_renda'],\n",
       "      dtype='object')"
      ]
     },
     "execution_count": 40,
     "metadata": {},
     "output_type": "execute_result"
    }
   ],
   "source": [
    "df_cad_2012_2023_fam.columns"
   ]
  },
  {
   "cell_type": "markdown",
   "id": "de731472-0900-4526-b44e-2c52a04c3351",
   "metadata": {},
   "source": [
    "# Criando um novo dataframe só com pessoas"
   ]
  },
  {
   "cell_type": "code",
   "execution_count": 41,
   "id": "fed90ed0-92e1-464f-8742-e5adddaaff97",
   "metadata": {
    "tags": []
   },
   "outputs": [
    {
     "data": {
      "text/plain": [
       "Index(['ibge_6', 'referencia', 'total_fam', 'total_pes',\n",
       "       'total_fam_ate_meio_sm', 'total_pes_ate_meio_sm', 'total_fam_pob',\n",
       "       'total_pes_pob', 'total_fam_ext_pob', 'total_pes_ext_pob',\n",
       "       'total_fam_pob_e_ext_pob', 'total_pes_pob_e_ext_pob',\n",
       "       'total_fam_bx_renda', 'total_pes_bx_renda'],\n",
       "      dtype='object')"
      ]
     },
     "execution_count": 41,
     "metadata": {},
     "output_type": "execute_result"
    }
   ],
   "source": [
    "df_cad_2012_2023.columns"
   ]
  },
  {
   "cell_type": "code",
   "execution_count": 42,
   "id": "cc3949e2-6961-4f86-9b57-6ec98c4cba54",
   "metadata": {
    "tags": []
   },
   "outputs": [],
   "source": [
    "df_cad_2012_2023_pes = df_cad_2012_2023.drop(columns=['total_fam', 'total_fam_ate_meio_sm', 'total_fam_pob',\n",
    "       'total_fam_ext_pob', 'total_fam_pob_e_ext_pob','total_fam_bx_renda'])"
   ]
  },
  {
   "cell_type": "code",
   "execution_count": 43,
   "id": "e92e9d9b-35a3-4d0f-9772-fe4a5ab07726",
   "metadata": {
    "tags": []
   },
   "outputs": [
    {
     "data": {
      "text/html": [
       "<div>\n",
       "<style scoped>\n",
       "    .dataframe tbody tr th:only-of-type {\n",
       "        vertical-align: middle;\n",
       "    }\n",
       "\n",
       "    .dataframe tbody tr th {\n",
       "        vertical-align: top;\n",
       "    }\n",
       "\n",
       "    .dataframe thead th {\n",
       "        text-align: right;\n",
       "    }\n",
       "</style>\n",
       "<table border=\"1\" class=\"dataframe\">\n",
       "  <thead>\n",
       "    <tr style=\"text-align: right;\">\n",
       "      <th></th>\n",
       "      <th>ibge_6</th>\n",
       "      <th>referencia</th>\n",
       "      <th>total_pes</th>\n",
       "      <th>total_pes_ate_meio_sm</th>\n",
       "      <th>total_pes_pob</th>\n",
       "      <th>total_pes_ext_pob</th>\n",
       "      <th>total_pes_pob_e_ext_pob</th>\n",
       "      <th>total_pes_bx_renda</th>\n",
       "    </tr>\n",
       "  </thead>\n",
       "  <tbody>\n",
       "    <tr>\n",
       "      <th>0</th>\n",
       "      <td>110001</td>\n",
       "      <td>201212</td>\n",
       "      <td>14076.0</td>\n",
       "      <td>13170.0</td>\n",
       "      <td>4218.0</td>\n",
       "      <td>7373.0</td>\n",
       "      <td>11591.0</td>\n",
       "      <td>1579.0</td>\n",
       "    </tr>\n",
       "    <tr>\n",
       "      <th>1</th>\n",
       "      <td>110002</td>\n",
       "      <td>201212</td>\n",
       "      <td>37567.0</td>\n",
       "      <td>35934.0</td>\n",
       "      <td>14494.0</td>\n",
       "      <td>15059.0</td>\n",
       "      <td>29553.0</td>\n",
       "      <td>6381.0</td>\n",
       "    </tr>\n",
       "    <tr>\n",
       "      <th>2</th>\n",
       "      <td>110003</td>\n",
       "      <td>201212</td>\n",
       "      <td>3313.0</td>\n",
       "      <td>3219.0</td>\n",
       "      <td>1006.0</td>\n",
       "      <td>1706.0</td>\n",
       "      <td>2712.0</td>\n",
       "      <td>507.0</td>\n",
       "    </tr>\n",
       "    <tr>\n",
       "      <th>3</th>\n",
       "      <td>110004</td>\n",
       "      <td>201212</td>\n",
       "      <td>29459.0</td>\n",
       "      <td>27973.0</td>\n",
       "      <td>9776.0</td>\n",
       "      <td>11973.0</td>\n",
       "      <td>21749.0</td>\n",
       "      <td>6224.0</td>\n",
       "    </tr>\n",
       "    <tr>\n",
       "      <th>4</th>\n",
       "      <td>110005</td>\n",
       "      <td>201212</td>\n",
       "      <td>7918.0</td>\n",
       "      <td>7751.0</td>\n",
       "      <td>2889.0</td>\n",
       "      <td>3705.0</td>\n",
       "      <td>6594.0</td>\n",
       "      <td>1157.0</td>\n",
       "    </tr>\n",
       "  </tbody>\n",
       "</table>\n",
       "</div>"
      ],
      "text/plain": [
       "   ibge_6  referencia  total_pes  total_pes_ate_meio_sm  total_pes_pob  \\\n",
       "0  110001      201212    14076.0                13170.0         4218.0   \n",
       "1  110002      201212    37567.0                35934.0        14494.0   \n",
       "2  110003      201212     3313.0                 3219.0         1006.0   \n",
       "3  110004      201212    29459.0                27973.0         9776.0   \n",
       "4  110005      201212     7918.0                 7751.0         2889.0   \n",
       "\n",
       "   total_pes_ext_pob  total_pes_pob_e_ext_pob  total_pes_bx_renda  \n",
       "0             7373.0                  11591.0              1579.0  \n",
       "1            15059.0                  29553.0              6381.0  \n",
       "2             1706.0                   2712.0               507.0  \n",
       "3            11973.0                  21749.0              6224.0  \n",
       "4             3705.0                   6594.0              1157.0  "
      ]
     },
     "execution_count": 43,
     "metadata": {},
     "output_type": "execute_result"
    }
   ],
   "source": [
    "df_cad_2012_2023_pes.head()"
   ]
  },
  {
   "cell_type": "markdown",
   "id": "f124bc0f-b072-4245-ac2a-de5901a9a718",
   "metadata": {},
   "source": [
    "# Avaliando os dados Brasil"
   ]
  },
  {
   "cell_type": "markdown",
   "id": "745f0003-a457-463d-98ba-3be5ba95a77f",
   "metadata": {},
   "source": [
    "## Famílias"
   ]
  },
  {
   "cell_type": "code",
   "execution_count": 44,
   "id": "8825653d-a1be-481e-bc71-7a43d0000bee",
   "metadata": {
    "tags": []
   },
   "outputs": [],
   "source": [
    "df_cad_2012_2023_fam_brasil = df_cad_2012_2023_fam[['ibge_6','total_fam', 'total_fam_ate_meio_sm',\n",
    "       'total_fam_pob', 'total_fam_ext_pob', 'total_fam_pob_e_ext_pob',\n",
    "       'total_fam_bx_renda']].groupby(df_cad_2012_2023_fam['referencia']).sum() "
   ]
  },
  {
   "cell_type": "code",
   "execution_count": 45,
   "id": "1e75db3b-028d-4c74-81cd-0b122cb5ce55",
   "metadata": {
    "tags": []
   },
   "outputs": [
    {
     "data": {
      "text/html": [
       "<div>\n",
       "<style scoped>\n",
       "    .dataframe tbody tr th:only-of-type {\n",
       "        vertical-align: middle;\n",
       "    }\n",
       "\n",
       "    .dataframe tbody tr th {\n",
       "        vertical-align: top;\n",
       "    }\n",
       "\n",
       "    .dataframe thead th {\n",
       "        text-align: right;\n",
       "    }\n",
       "</style>\n",
       "<table border=\"1\" class=\"dataframe\">\n",
       "  <thead>\n",
       "    <tr style=\"text-align: right;\">\n",
       "      <th></th>\n",
       "      <th>ibge_6</th>\n",
       "      <th>total_fam</th>\n",
       "      <th>total_fam_ate_meio_sm</th>\n",
       "      <th>total_fam_pob</th>\n",
       "      <th>total_fam_ext_pob</th>\n",
       "      <th>total_fam_pob_e_ext_pob</th>\n",
       "      <th>total_fam_bx_renda</th>\n",
       "    </tr>\n",
       "    <tr>\n",
       "      <th>referencia</th>\n",
       "      <th></th>\n",
       "      <th></th>\n",
       "      <th></th>\n",
       "      <th></th>\n",
       "      <th></th>\n",
       "      <th></th>\n",
       "      <th></th>\n",
       "    </tr>\n",
       "  </thead>\n",
       "  <tbody>\n",
       "    <tr>\n",
       "      <th>201204</th>\n",
       "      <td>1810321736</td>\n",
       "      <td>23441117</td>\n",
       "      <td>21544726.0</td>\n",
       "      <td>5241753.0</td>\n",
       "      <td>12630914.0</td>\n",
       "      <td>17872667.0</td>\n",
       "      <td>3672059.0</td>\n",
       "    </tr>\n",
       "    <tr>\n",
       "      <th>201205</th>\n",
       "      <td>1810321736</td>\n",
       "      <td>23441117</td>\n",
       "      <td>21544726.0</td>\n",
       "      <td>5241753.0</td>\n",
       "      <td>12630914.0</td>\n",
       "      <td>17872667.0</td>\n",
       "      <td>3672059.0</td>\n",
       "    </tr>\n",
       "    <tr>\n",
       "      <th>201206</th>\n",
       "      <td>1810321736</td>\n",
       "      <td>23736029</td>\n",
       "      <td>21751604.0</td>\n",
       "      <td>5251396.0</td>\n",
       "      <td>12728992.0</td>\n",
       "      <td>17980388.0</td>\n",
       "      <td>3771216.0</td>\n",
       "    </tr>\n",
       "    <tr>\n",
       "      <th>201207</th>\n",
       "      <td>1810321736</td>\n",
       "      <td>23981637</td>\n",
       "      <td>21929604.0</td>\n",
       "      <td>5257404.0</td>\n",
       "      <td>12820901.0</td>\n",
       "      <td>18078305.0</td>\n",
       "      <td>3851299.0</td>\n",
       "    </tr>\n",
       "    <tr>\n",
       "      <th>201208</th>\n",
       "      <td>1810321736</td>\n",
       "      <td>24201831</td>\n",
       "      <td>22087075.0</td>\n",
       "      <td>5265743.0</td>\n",
       "      <td>12897221.0</td>\n",
       "      <td>18162964.0</td>\n",
       "      <td>3924111.0</td>\n",
       "    </tr>\n",
       "    <tr>\n",
       "      <th>...</th>\n",
       "      <td>...</td>\n",
       "      <td>...</td>\n",
       "      <td>...</td>\n",
       "      <td>...</td>\n",
       "      <td>...</td>\n",
       "      <td>...</td>\n",
       "      <td>...</td>\n",
       "    </tr>\n",
       "    <tr>\n",
       "      <th>202304</th>\n",
       "      <td>1812247557</td>\n",
       "      <td>41827355</td>\n",
       "      <td>33791468.0</td>\n",
       "      <td>3899814.0</td>\n",
       "      <td>22051015.0</td>\n",
       "      <td>25950829.0</td>\n",
       "      <td>7840639.0</td>\n",
       "    </tr>\n",
       "    <tr>\n",
       "      <th>202305</th>\n",
       "      <td>1812247557</td>\n",
       "      <td>41902786</td>\n",
       "      <td>33994281.0</td>\n",
       "      <td>3999212.0</td>\n",
       "      <td>22112758.0</td>\n",
       "      <td>26111970.0</td>\n",
       "      <td>7882311.0</td>\n",
       "    </tr>\n",
       "    <tr>\n",
       "      <th>202306</th>\n",
       "      <td>1812247557</td>\n",
       "      <td>42208065</td>\n",
       "      <td>30086921.0</td>\n",
       "      <td>3487139.0</td>\n",
       "      <td>18975744.0</td>\n",
       "      <td>22462883.0</td>\n",
       "      <td>7624038.0</td>\n",
       "    </tr>\n",
       "    <tr>\n",
       "      <th>202307</th>\n",
       "      <td>1812247557</td>\n",
       "      <td>42533652</td>\n",
       "      <td>30376090.0</td>\n",
       "      <td>3582280.0</td>\n",
       "      <td>19190957.0</td>\n",
       "      <td>22773237.0</td>\n",
       "      <td>7602853.0</td>\n",
       "    </tr>\n",
       "    <tr>\n",
       "      <th>202308</th>\n",
       "      <td>1812247557</td>\n",
       "      <td>42818208</td>\n",
       "      <td>30640223.0</td>\n",
       "      <td>3701806.0</td>\n",
       "      <td>19362683.0</td>\n",
       "      <td>23064489.0</td>\n",
       "      <td>7575734.0</td>\n",
       "    </tr>\n",
       "  </tbody>\n",
       "</table>\n",
       "<p>137 rows × 7 columns</p>\n",
       "</div>"
      ],
      "text/plain": [
       "                ibge_6  total_fam  total_fam_ate_meio_sm  total_fam_pob  \\\n",
       "referencia                                                                \n",
       "201204      1810321736   23441117             21544726.0      5241753.0   \n",
       "201205      1810321736   23441117             21544726.0      5241753.0   \n",
       "201206      1810321736   23736029             21751604.0      5251396.0   \n",
       "201207      1810321736   23981637             21929604.0      5257404.0   \n",
       "201208      1810321736   24201831             22087075.0      5265743.0   \n",
       "...                ...        ...                    ...            ...   \n",
       "202304      1812247557   41827355             33791468.0      3899814.0   \n",
       "202305      1812247557   41902786             33994281.0      3999212.0   \n",
       "202306      1812247557   42208065             30086921.0      3487139.0   \n",
       "202307      1812247557   42533652             30376090.0      3582280.0   \n",
       "202308      1812247557   42818208             30640223.0      3701806.0   \n",
       "\n",
       "            total_fam_ext_pob  total_fam_pob_e_ext_pob  total_fam_bx_renda  \n",
       "referencia                                                                  \n",
       "201204             12630914.0               17872667.0           3672059.0  \n",
       "201205             12630914.0               17872667.0           3672059.0  \n",
       "201206             12728992.0               17980388.0           3771216.0  \n",
       "201207             12820901.0               18078305.0           3851299.0  \n",
       "201208             12897221.0               18162964.0           3924111.0  \n",
       "...                       ...                      ...                 ...  \n",
       "202304             22051015.0               25950829.0           7840639.0  \n",
       "202305             22112758.0               26111970.0           7882311.0  \n",
       "202306             18975744.0               22462883.0           7624038.0  \n",
       "202307             19190957.0               22773237.0           7602853.0  \n",
       "202308             19362683.0               23064489.0           7575734.0  \n",
       "\n",
       "[137 rows x 7 columns]"
      ]
     },
     "execution_count": 45,
     "metadata": {},
     "output_type": "execute_result"
    }
   ],
   "source": [
    "df_cad_2012_2023_fam_brasil"
   ]
  },
  {
   "cell_type": "code",
   "execution_count": 46,
   "id": "11ce7531-dd36-496d-8829-06e596102291",
   "metadata": {
    "tags": []
   },
   "outputs": [],
   "source": [
    "!pip install --upgrade matplotlib --quiet"
   ]
  },
  {
   "cell_type": "code",
   "execution_count": 47,
   "id": "2eb59836-1662-4e74-9b5d-4190f844635f",
   "metadata": {
    "tags": []
   },
   "outputs": [],
   "source": [
    "!pip install --upgrade seaborn --quiet"
   ]
  },
  {
   "cell_type": "code",
   "execution_count": 48,
   "id": "6f350a6d-dc8a-42aa-b5e0-b1b6188fc918",
   "metadata": {
    "tags": []
   },
   "outputs": [],
   "source": [
    "import matplotlib.pyplot as plt\n",
    "#para conseguir visualizar os gráficos no notebook\n",
    "%matplotlib inline"
   ]
  },
  {
   "cell_type": "code",
   "execution_count": 49,
   "id": "74287c97-5176-4206-9073-2326ba562a04",
   "metadata": {
    "tags": []
   },
   "outputs": [],
   "source": [
    "import matplotlib.dates as mdates"
   ]
  },
  {
   "cell_type": "code",
   "execution_count": 50,
   "id": "1d2cfe1c-8f5c-4ecb-a8bb-93ed8d7a9e1c",
   "metadata": {
    "tags": []
   },
   "outputs": [],
   "source": [
    "import warnings\n",
    "warnings.filterwarnings('ignore')"
   ]
  },
  {
   "cell_type": "code",
   "execution_count": 51,
   "id": "fce1e5c8-ac2e-4f11-be6a-12722be7133a",
   "metadata": {
    "tags": []
   },
   "outputs": [],
   "source": [
    "import seaborn as sns"
   ]
  },
  {
   "cell_type": "code",
   "execution_count": 52,
   "id": "639fe5df-834f-4cf2-84de-5d321aef836c",
   "metadata": {
    "tags": []
   },
   "outputs": [],
   "source": [
    "import pandas as pd"
   ]
  },
  {
   "cell_type": "code",
   "execution_count": 53,
   "id": "90a03675-09e8-4399-94b7-d038a11bdd0a",
   "metadata": {
    "tags": []
   },
   "outputs": [],
   "source": [
    "import numpy as np"
   ]
  },
  {
   "cell_type": "code",
   "execution_count": 54,
   "id": "8bac2223-bd79-4e88-83bf-30ad0bdf28ca",
   "metadata": {
    "tags": []
   },
   "outputs": [
    {
     "data": {
      "text/plain": [
       "Index(['ibge_6', 'total_fam', 'total_fam_ate_meio_sm', 'total_fam_pob',\n",
       "       'total_fam_ext_pob', 'total_fam_pob_e_ext_pob', 'total_fam_bx_renda'],\n",
       "      dtype='object')"
      ]
     },
     "execution_count": 54,
     "metadata": {},
     "output_type": "execute_result"
    }
   ],
   "source": [
    "df_cad_2012_2023_fam_brasil.columns"
   ]
  },
  {
   "cell_type": "code",
   "execution_count": 55,
   "id": "3d3c1187-9dfd-429d-b2a1-1775ae72164f",
   "metadata": {
    "tags": []
   },
   "outputs": [
    {
     "data": {
      "image/png": "[encoded data removed]",
      "text/plain": [
       "<Figure size 2000x600 with 1 Axes>"
      ]
     },
     "metadata": {},
     "output_type": "display_data"
    }
   ],
   "source": [
    "# Configure o tamanho do gráfico\n",
    "fig = plt.figure(figsize=(20, 6))\n",
    "\n",
    "# Plote a coluna 'fam_ext_pob'\n",
    "plt.plot(df_cad_2012_2023_fam_brasil.index, df_cad_2012_2023_fam_brasil['total_fam_ext_pob'], label='Famílias em situação de Extrema Pobreza')\n",
    "\n",
    "# Plote a coluna 'fam_pob'\n",
    "plt.plot(df_cad_2012_2023_fam_brasil.index, df_cad_2012_2023_fam_brasil['total_fam_pob'], label='Famílias em situação de Pobreza')\n",
    "\n",
    "# Plote a coluna 'fam_bx_renda'\n",
    "plt.plot(df_cad_2012_2023_fam_brasil.index, df_cad_2012_2023_fam_brasil['total_fam_bx_renda'], label='Famílias de Baixa Renda')\n",
    "\n",
    "# Adicione um título ao gráfico\n",
    "plt.title('Total de famílias por faixa de renda ao Longo do Tempo')\n",
    "\n",
    "# Configure os limites do eixo x\n",
    "plt.xlim(df_cad_2012_2023_fam_brasil.index.min(), df_cad_2012_2023_fam_brasil.index.max())\n",
    "\n",
    "# Adicione rótulos aos eixos\n",
    "plt.xlabel('Referencia')\n",
    "plt.ylabel('Valores')\n",
    "\n",
    "# Colocar os nomes das variáveis inclinados\n",
    "plt.xticks(rotation=45) \n",
    "\n",
    "# Define o intervalo desejado para os rótulos do eixo x (por exemplo, a cada 6 meses)\n",
    "plt.gca().xaxis.set_major_locator(mdates.MonthLocator(interval=1))\n",
    "\n",
    "# Formata os rótulos do eixo x (exibindo o mês e o ano)\n",
    "plt.gca().xaxis.set_major_formatter(mdates.DateFormatter('%m %y'))\n",
    "\n",
    "# Adicione uma legenda\n",
    "plt.legend()\n",
    "\n",
    "# Exiba o gráfico\n",
    "plt.show()"
   ]
  },
  {
   "cell_type": "code",
   "execution_count": 56,
   "id": "083213b2-2825-4628-8647-e0c7df00e4b6",
   "metadata": {
    "tags": []
   },
   "outputs": [],
   "source": [
    "fig.savefig(f'Fx renda família', dpi=300)"
   ]
  },
  {
   "cell_type": "code",
   "execution_count": 57,
   "id": "b91a1c41-bf9e-43dd-bea2-68b4da743946",
   "metadata": {
    "tags": []
   },
   "outputs": [],
   "source": [
    "fig.show()"
   ]
  },
  {
   "cell_type": "markdown",
   "id": "ba5919bb-6058-4bf0-b0a0-fe4ee0c7bd7b",
   "metadata": {},
   "source": [
    "## Pessoas"
   ]
  },
  {
   "cell_type": "code",
   "execution_count": 58,
   "id": "a5d573ee-72d9-4655-ace7-8a0f9af35cdc",
   "metadata": {
    "tags": []
   },
   "outputs": [],
   "source": [
    "df_cad_2012_2023_pes_brasil = df_cad_2012_2023_pes[['ibge_6','total_pes', 'total_pes_ate_meio_sm',\n",
    "       'total_pes_pob', 'total_pes_ext_pob', 'total_pes_pob_e_ext_pob', 'total_pes_bx_renda']].groupby(df_cad_2012_2023_pes['referencia']).sum() "
   ]
  },
  {
   "cell_type": "code",
   "execution_count": 59,
   "id": "3c2c1328-8775-48c5-845b-3fdc01416524",
   "metadata": {
    "tags": []
   },
   "outputs": [
    {
     "data": {
      "text/html": [
       "<div>\n",
       "<style scoped>\n",
       "    .dataframe tbody tr th:only-of-type {\n",
       "        vertical-align: middle;\n",
       "    }\n",
       "\n",
       "    .dataframe tbody tr th {\n",
       "        vertical-align: top;\n",
       "    }\n",
       "\n",
       "    .dataframe thead th {\n",
       "        text-align: right;\n",
       "    }\n",
       "</style>\n",
       "<table border=\"1\" class=\"dataframe\">\n",
       "  <thead>\n",
       "    <tr style=\"text-align: right;\">\n",
       "      <th></th>\n",
       "      <th>ibge_6</th>\n",
       "      <th>total_pes</th>\n",
       "      <th>total_pes_ate_meio_sm</th>\n",
       "      <th>total_pes_pob</th>\n",
       "      <th>total_pes_ext_pob</th>\n",
       "      <th>total_pes_pob_e_ext_pob</th>\n",
       "      <th>total_pes_bx_renda</th>\n",
       "    </tr>\n",
       "    <tr>\n",
       "      <th>referencia</th>\n",
       "      <th></th>\n",
       "      <th></th>\n",
       "      <th></th>\n",
       "      <th></th>\n",
       "      <th></th>\n",
       "      <th></th>\n",
       "      <th></th>\n",
       "    </tr>\n",
       "  </thead>\n",
       "  <tbody>\n",
       "    <tr>\n",
       "      <th>201204</th>\n",
       "      <td>1810321736</td>\n",
       "      <td>78085298.0</td>\n",
       "      <td>74663855.0</td>\n",
       "      <td>19387557.0</td>\n",
       "      <td>43980672.0</td>\n",
       "      <td>63368229.0</td>\n",
       "      <td>11295626.0</td>\n",
       "    </tr>\n",
       "    <tr>\n",
       "      <th>201205</th>\n",
       "      <td>1810321736</td>\n",
       "      <td>78085298.0</td>\n",
       "      <td>74663855.0</td>\n",
       "      <td>19387557.0</td>\n",
       "      <td>43980672.0</td>\n",
       "      <td>63368229.0</td>\n",
       "      <td>11295626.0</td>\n",
       "    </tr>\n",
       "    <tr>\n",
       "      <th>201206</th>\n",
       "      <td>1810321736</td>\n",
       "      <td>75535020.0</td>\n",
       "      <td>72056677.0</td>\n",
       "      <td>18643593.0</td>\n",
       "      <td>42231859.0</td>\n",
       "      <td>60875452.0</td>\n",
       "      <td>11181225.0</td>\n",
       "    </tr>\n",
       "    <tr>\n",
       "      <th>201207</th>\n",
       "      <td>1810321736</td>\n",
       "      <td>79184951.0</td>\n",
       "      <td>75476753.0</td>\n",
       "      <td>19371657.0</td>\n",
       "      <td>44277600.0</td>\n",
       "      <td>63649257.0</td>\n",
       "      <td>11827496.0</td>\n",
       "    </tr>\n",
       "    <tr>\n",
       "      <th>201208</th>\n",
       "      <td>1810321736</td>\n",
       "      <td>79618943.0</td>\n",
       "      <td>75794994.0</td>\n",
       "      <td>19370363.0</td>\n",
       "      <td>44381455.0</td>\n",
       "      <td>63751818.0</td>\n",
       "      <td>12043176.0</td>\n",
       "    </tr>\n",
       "    <tr>\n",
       "      <th>...</th>\n",
       "      <td>...</td>\n",
       "      <td>...</td>\n",
       "      <td>...</td>\n",
       "      <td>...</td>\n",
       "      <td>...</td>\n",
       "      <td>...</td>\n",
       "      <td>...</td>\n",
       "    </tr>\n",
       "    <tr>\n",
       "      <th>202304</th>\n",
       "      <td>1812247557</td>\n",
       "      <td>94434541.0</td>\n",
       "      <td>81880021.0</td>\n",
       "      <td>10390462.0</td>\n",
       "      <td>50703044.0</td>\n",
       "      <td>61093506.0</td>\n",
       "      <td>20786515.0</td>\n",
       "    </tr>\n",
       "    <tr>\n",
       "      <th>202305</th>\n",
       "      <td>1812247557</td>\n",
       "      <td>94592937.0</td>\n",
       "      <td>82289140.0</td>\n",
       "      <td>10577100.0</td>\n",
       "      <td>50860426.0</td>\n",
       "      <td>61437526.0</td>\n",
       "      <td>20851614.0</td>\n",
       "    </tr>\n",
       "    <tr>\n",
       "      <th>202306</th>\n",
       "      <td>1812247557</td>\n",
       "      <td>95140463.0</td>\n",
       "      <td>73714706.0</td>\n",
       "      <td>9191890.0</td>\n",
       "      <td>43299094.0</td>\n",
       "      <td>52490984.0</td>\n",
       "      <td>21223722.0</td>\n",
       "    </tr>\n",
       "    <tr>\n",
       "      <th>202307</th>\n",
       "      <td>1812247557</td>\n",
       "      <td>95709593.0</td>\n",
       "      <td>74270611.0</td>\n",
       "      <td>9411156.0</td>\n",
       "      <td>43761356.0</td>\n",
       "      <td>53172512.0</td>\n",
       "      <td>21098099.0</td>\n",
       "    </tr>\n",
       "    <tr>\n",
       "      <th>202308</th>\n",
       "      <td>1812247557</td>\n",
       "      <td>96189408.0</td>\n",
       "      <td>74770026.0</td>\n",
       "      <td>9659835.0</td>\n",
       "      <td>44194557.0</td>\n",
       "      <td>53854392.0</td>\n",
       "      <td>20915634.0</td>\n",
       "    </tr>\n",
       "  </tbody>\n",
       "</table>\n",
       "<p>137 rows × 7 columns</p>\n",
       "</div>"
      ],
      "text/plain": [
       "                ibge_6   total_pes  total_pes_ate_meio_sm  total_pes_pob  \\\n",
       "referencia                                                                 \n",
       "201204      1810321736  78085298.0             74663855.0     19387557.0   \n",
       "201205      1810321736  78085298.0             74663855.0     19387557.0   \n",
       "201206      1810321736  75535020.0             72056677.0     18643593.0   \n",
       "201207      1810321736  79184951.0             75476753.0     19371657.0   \n",
       "201208      1810321736  79618943.0             75794994.0     19370363.0   \n",
       "...                ...         ...                    ...            ...   \n",
       "202304      1812247557  94434541.0             81880021.0     10390462.0   \n",
       "202305      1812247557  94592937.0             82289140.0     10577100.0   \n",
       "202306      1812247557  95140463.0             73714706.0      9191890.0   \n",
       "202307      1812247557  95709593.0             74270611.0      9411156.0   \n",
       "202308      1812247557  96189408.0             74770026.0      9659835.0   \n",
       "\n",
       "            total_pes_ext_pob  total_pes_pob_e_ext_pob  total_pes_bx_renda  \n",
       "referencia                                                                  \n",
       "201204             43980672.0               63368229.0          11295626.0  \n",
       "201205             43980672.0               63368229.0          11295626.0  \n",
       "201206             42231859.0               60875452.0          11181225.0  \n",
       "201207             44277600.0               63649257.0          11827496.0  \n",
       "201208             44381455.0               63751818.0          12043176.0  \n",
       "...                       ...                      ...                 ...  \n",
       "202304             50703044.0               61093506.0          20786515.0  \n",
       "202305             50860426.0               61437526.0          20851614.0  \n",
       "202306             43299094.0               52490984.0          21223722.0  \n",
       "202307             43761356.0               53172512.0          21098099.0  \n",
       "202308             44194557.0               53854392.0          20915634.0  \n",
       "\n",
       "[137 rows x 7 columns]"
      ]
     },
     "execution_count": 59,
     "metadata": {},
     "output_type": "execute_result"
    }
   ],
   "source": [
    "df_cad_2012_2023_pes_brasil"
   ]
  },
  {
   "cell_type": "code",
   "execution_count": 60,
   "id": "3ea5f87a-47b0-45ca-adb6-21493c9e6d25",
   "metadata": {
    "tags": []
   },
   "outputs": [
    {
     "data": {
      "text/plain": [
       "Index(['ibge_6', 'total_pes', 'total_pes_ate_meio_sm', 'total_pes_pob',\n",
       "       'total_pes_ext_pob', 'total_pes_pob_e_ext_pob', 'total_pes_bx_renda'],\n",
       "      dtype='object')"
      ]
     },
     "execution_count": 60,
     "metadata": {},
     "output_type": "execute_result"
    }
   ],
   "source": [
    "df_cad_2012_2023_pes_brasil.columns"
   ]
  },
  {
   "cell_type": "code",
   "execution_count": 61,
   "id": "2cfca643-995a-4aeb-a31e-697de7aa99c9",
   "metadata": {
    "tags": []
   },
   "outputs": [
    {
     "data": {
      "image/png": "[encoded data removed]",
      "text/plain": [
       "<Figure size 2000x600 with 1 Axes>"
      ]
     },
     "metadata": {},
     "output_type": "display_data"
    }
   ],
   "source": [
    "# Configure o tamanho do gráfico\n",
    "fig = plt.figure(figsize=(20, 6))\n",
    "\n",
    "# Plote a coluna 'pes_ext_pob'\n",
    "plt.plot(df_cad_2012_2023_pes_brasil.index, df_cad_2012_2023_pes_brasil['total_pes_ext_pob'], label='Total de pessoas em situação de Extrema Pobreza')\n",
    "\n",
    "# Plote a coluna 'pes_pob'\n",
    "plt.plot(df_cad_2012_2023_pes_brasil.index, df_cad_2012_2023_pes_brasil['total_pes_pob'], label='Total de pessoas em situação de Pobreza')\n",
    "\n",
    "# Plote a coluna 'pes_bx_renda'\n",
    "plt.plot(df_cad_2012_2023_pes_brasil.index, df_cad_2012_2023_pes_brasil['total_pes_bx_renda'], label='Total de pessoas de Baixa Renda')\n",
    "\n",
    "# Adicione um título ao gráfico\n",
    "plt.title('Total de pessoas por faixa de renda ao Longo do Tempo')\n",
    "\n",
    "# Configure os limites do eixo x\n",
    "plt.xlim(df_cad_2012_2023_pes_brasil.index.min(), df_cad_2012_2023_pes_brasil.index.max())\n",
    "\n",
    "# Adicione rótulos aos eixos\n",
    "plt.xlabel('Referencia')\n",
    "plt.ylabel('Valores')\n",
    "\n",
    "# Colocar os nomes das variáveis inclinados\n",
    "plt.xticks(rotation=45) \n",
    "\n",
    "# Define o intervalo desejado para os rótulos do eixo x (por exemplo, a cada 6 meses)\n",
    "plt.gca().xaxis.set_major_locator(mdates.MonthLocator(interval=1))\n",
    "\n",
    "# Formata os rótulos do eixo x (exibindo o mês e o ano)\n",
    "plt.gca().xaxis.set_major_formatter(mdates.DateFormatter('%m %y'))\n",
    "\n",
    "# Adicione uma legenda\n",
    "plt.legend()\n",
    "\n",
    "# Exiba o gráfico\n",
    "plt.show()"
   ]
  },
  {
   "cell_type": "code",
   "execution_count": 62,
   "id": "ec67a0b2-487b-400a-8a61-da6ed667c13b",
   "metadata": {
    "tags": []
   },
   "outputs": [],
   "source": [
    "fig.savefig(f'Fx renda família', dpi=300)"
   ]
  },
  {
   "cell_type": "code",
   "execution_count": 63,
   "id": "72390329-73be-423f-a303-7c632a378e69",
   "metadata": {
    "tags": []
   },
   "outputs": [],
   "source": [
    "fig.show()"
   ]
  },
  {
   "cell_type": "code",
   "execution_count": null,
   "id": "d21e4a86-28ac-46a6-b308-a327f2d62182",
   "metadata": {},
   "outputs": [],
   "source": []
  },
  {
   "cell_type": "code",
   "execution_count": null,
   "id": "e69cb63d-e7ec-4f9a-af77-fd43ccb631a8",
   "metadata": {},
   "outputs": [],
   "source": []
  },
  {
   "cell_type": "markdown",
   "id": "8ec58133-bb68-48ec-b9b2-0a01e7e5249d",
   "metadata": {
    "tags": []
   },
   "source": [
    "# Pegando os dados do IBGE de população dos Censos de 2010 e 2022\n",
    "Para avaliação de alteração na renda das pessoas em dois períodos selecionados serão utilizados os dados do Cadastro Único relacionados ao total de pessoas na extrema pobreza e pobreza, e os dados da população dos municípios considerando os dois últimos Censos disponíveis.\n",
    "De modo utilizar as bases de dados temporalmente mais próximas, serão utilizados os dados do Cadastro Único de abril/2012, por ser a primeira base que apresenta os dados de faixa de renda, e os dados do Cadastro Único de dezembro/2022."
   ]
  },
  {
   "cell_type": "code",
   "execution_count": 68,
   "id": "5a63d25c-cac3-44f7-be7e-6c8094502400",
   "metadata": {
    "tags": []
   },
   "outputs": [],
   "source": [
    "caminho_pop_censo_2010 = 'Censo_2010_pop.xlsx'\n",
    "caminho_pop_censo_2022 = 'Censo_2022_pop.xls'"
   ]
  },
  {
   "cell_type": "code",
   "execution_count": 69,
   "id": "19afebc5-f650-4263-95e5-ba4b9b306b8d",
   "metadata": {
    "tags": []
   },
   "outputs": [
    {
     "name": "stdout",
     "output_type": "stream",
     "text": [
      "Note: you may need to restart the kernel to use updated packages.\n"
     ]
    }
   ],
   "source": [
    "pip install pandas xlrd --quiet"
   ]
  },
  {
   "cell_type": "code",
   "execution_count": 70,
   "id": "40e28872-a6d8-485f-a6fe-5b34c4ed741d",
   "metadata": {
    "tags": []
   },
   "outputs": [],
   "source": [
    "import pandas as pd\n",
    "import xlrd"
   ]
  },
  {
   "cell_type": "markdown",
   "id": "481ef927-1bf6-4068-8343-5a7bc1cf8c01",
   "metadata": {},
   "source": [
    "### Censo 2010 - Tabela 202 - População residente, por sexo e situação do domicílio"
   ]
  },
  {
   "cell_type": "code",
   "execution_count": 71,
   "id": "5bb9f9aa-31ce-48b4-bc4c-d16779735380",
   "metadata": {
    "tags": []
   },
   "outputs": [
    {
     "data": {
      "text/html": [
       "<div>\n",
       "<style scoped>\n",
       "    .dataframe tbody tr th:only-of-type {\n",
       "        vertical-align: middle;\n",
       "    }\n",
       "\n",
       "    .dataframe tbody tr th {\n",
       "        vertical-align: top;\n",
       "    }\n",
       "\n",
       "    .dataframe thead th {\n",
       "        text-align: right;\n",
       "    }\n",
       "</style>\n",
       "<table border=\"1\" class=\"dataframe\">\n",
       "  <thead>\n",
       "    <tr style=\"text-align: right;\">\n",
       "      <th></th>\n",
       "      <th>Tabela 202 - População residente, por sexo e situação do domicílio</th>\n",
       "      <th>Unnamed: 1</th>\n",
       "      <th>Unnamed: 2</th>\n",
       "      <th>Unnamed: 3</th>\n",
       "    </tr>\n",
       "  </thead>\n",
       "  <tbody>\n",
       "    <tr>\n",
       "      <th>0</th>\n",
       "      <td>Variável - População residente (Pessoas)</td>\n",
       "      <td>NaN</td>\n",
       "      <td>NaN</td>\n",
       "      <td>NaN</td>\n",
       "    </tr>\n",
       "    <tr>\n",
       "      <th>1</th>\n",
       "      <td>Cód.</td>\n",
       "      <td>Município</td>\n",
       "      <td>Situação do domicílio</td>\n",
       "      <td>Ano x Sexo</td>\n",
       "    </tr>\n",
       "    <tr>\n",
       "      <th>2</th>\n",
       "      <td>NaN</td>\n",
       "      <td>NaN</td>\n",
       "      <td>NaN</td>\n",
       "      <td>2010</td>\n",
       "    </tr>\n",
       "    <tr>\n",
       "      <th>3</th>\n",
       "      <td>NaN</td>\n",
       "      <td>NaN</td>\n",
       "      <td>NaN</td>\n",
       "      <td>Total</td>\n",
       "    </tr>\n",
       "    <tr>\n",
       "      <th>4</th>\n",
       "      <td>1100015</td>\n",
       "      <td>Alta Floresta D'Oeste (RO)</td>\n",
       "      <td>Total</td>\n",
       "      <td>24392</td>\n",
       "    </tr>\n",
       "    <tr>\n",
       "      <th>5</th>\n",
       "      <td>1100023</td>\n",
       "      <td>Ariquemes (RO)</td>\n",
       "      <td>Total</td>\n",
       "      <td>90353</td>\n",
       "    </tr>\n",
       "    <tr>\n",
       "      <th>6</th>\n",
       "      <td>1100031</td>\n",
       "      <td>Cabixi (RO)</td>\n",
       "      <td>Total</td>\n",
       "      <td>6313</td>\n",
       "    </tr>\n",
       "    <tr>\n",
       "      <th>7</th>\n",
       "      <td>1100049</td>\n",
       "      <td>Cacoal (RO)</td>\n",
       "      <td>Total</td>\n",
       "      <td>78574</td>\n",
       "    </tr>\n",
       "    <tr>\n",
       "      <th>8</th>\n",
       "      <td>1100056</td>\n",
       "      <td>Cerejeiras (RO)</td>\n",
       "      <td>Total</td>\n",
       "      <td>17029</td>\n",
       "    </tr>\n",
       "    <tr>\n",
       "      <th>9</th>\n",
       "      <td>1100057</td>\n",
       "      <td>Colorado do Oeste (RO)</td>\n",
       "      <td>Total</td>\n",
       "      <td>18591</td>\n",
       "    </tr>\n",
       "  </tbody>\n",
       "</table>\n",
       "</div>"
      ],
      "text/plain": [
       "  Tabela 202 - População residente, por sexo e situação do domicílio  \\\n",
       "0           Variável - População residente (Pessoas)                   \n",
       "1                                               Cód.                   \n",
       "2                                                NaN                   \n",
       "3                                                NaN                   \n",
       "4                                            1100015                   \n",
       "5                                            1100023                   \n",
       "6                                            1100031                   \n",
       "7                                            1100049                   \n",
       "8                                            1100056                   \n",
       "9                                            1100057                   \n",
       "\n",
       "                   Unnamed: 1             Unnamed: 2  Unnamed: 3  \n",
       "0                         NaN                    NaN         NaN  \n",
       "1                   Município  Situação do domicílio  Ano x Sexo  \n",
       "2                         NaN                    NaN        2010  \n",
       "3                         NaN                    NaN       Total  \n",
       "4  Alta Floresta D'Oeste (RO)                  Total       24392  \n",
       "5              Ariquemes (RO)                  Total       90353  \n",
       "6                 Cabixi (RO)                  Total        6313  \n",
       "7                 Cacoal (RO)                  Total       78574  \n",
       "8             Cerejeiras (RO)                  Total       17029  \n",
       "9      Colorado do Oeste (RO)                  Total       18591  "
      ]
     },
     "execution_count": 71,
     "metadata": {},
     "output_type": "execute_result"
    }
   ],
   "source": [
    "pop_censo_2010 = pd.read_excel(caminho_pop_censo_2010)\n",
    "pop_censo_2010.head(10)"
   ]
  },
  {
   "cell_type": "code",
   "execution_count": 72,
   "id": "1c98224e-164a-484e-a35e-a1c9705fadbf",
   "metadata": {
    "tags": []
   },
   "outputs": [
    {
     "data": {
      "text/html": [
       "<div>\n",
       "<style scoped>\n",
       "    .dataframe tbody tr th:only-of-type {\n",
       "        vertical-align: middle;\n",
       "    }\n",
       "\n",
       "    .dataframe tbody tr th {\n",
       "        vertical-align: top;\n",
       "    }\n",
       "\n",
       "    .dataframe thead th {\n",
       "        text-align: right;\n",
       "    }\n",
       "</style>\n",
       "<table border=\"1\" class=\"dataframe\">\n",
       "  <thead>\n",
       "    <tr style=\"text-align: right;\">\n",
       "      <th></th>\n",
       "      <th>Tabela 202 - População residente, por sexo e situação do domicílio</th>\n",
       "      <th>Unnamed: 1</th>\n",
       "      <th>Unnamed: 2</th>\n",
       "      <th>Unnamed: 3</th>\n",
       "    </tr>\n",
       "  </thead>\n",
       "  <tbody>\n",
       "    <tr>\n",
       "      <th>count</th>\n",
       "      <td>5569</td>\n",
       "      <td>5567</td>\n",
       "      <td>5567</td>\n",
       "      <td>5569</td>\n",
       "    </tr>\n",
       "    <tr>\n",
       "      <th>unique</th>\n",
       "      <td>5569</td>\n",
       "      <td>5567</td>\n",
       "      <td>2</td>\n",
       "      <td>5047</td>\n",
       "    </tr>\n",
       "    <tr>\n",
       "      <th>top</th>\n",
       "      <td>Variável - População residente (Pessoas)</td>\n",
       "      <td>Município</td>\n",
       "      <td>Total</td>\n",
       "      <td>5217</td>\n",
       "    </tr>\n",
       "    <tr>\n",
       "      <th>freq</th>\n",
       "      <td>1</td>\n",
       "      <td>1</td>\n",
       "      <td>5566</td>\n",
       "      <td>4</td>\n",
       "    </tr>\n",
       "  </tbody>\n",
       "</table>\n",
       "</div>"
      ],
      "text/plain": [
       "       Tabela 202 - População residente, por sexo e situação do domicílio  \\\n",
       "count                                                5569                   \n",
       "unique                                               5569                   \n",
       "top              Variável - População residente (Pessoas)                   \n",
       "freq                                                    1                   \n",
       "\n",
       "       Unnamed: 1 Unnamed: 2  Unnamed: 3  \n",
       "count        5567       5567        5569  \n",
       "unique       5567          2        5047  \n",
       "top     Município      Total        5217  \n",
       "freq            1       5566           4  "
      ]
     },
     "execution_count": 72,
     "metadata": {},
     "output_type": "execute_result"
    }
   ],
   "source": [
    "pop_censo_2010.describe()"
   ]
  },
  {
   "cell_type": "code",
   "execution_count": 73,
   "id": "9f4dddff-4917-4c3b-9424-6a3ddaaabe3f",
   "metadata": {
    "tags": []
   },
   "outputs": [
    {
     "data": {
      "text/html": [
       "<div>\n",
       "<style scoped>\n",
       "    .dataframe tbody tr th:only-of-type {\n",
       "        vertical-align: middle;\n",
       "    }\n",
       "\n",
       "    .dataframe tbody tr th {\n",
       "        vertical-align: top;\n",
       "    }\n",
       "\n",
       "    .dataframe thead th {\n",
       "        text-align: right;\n",
       "    }\n",
       "</style>\n",
       "<table border=\"1\" class=\"dataframe\">\n",
       "  <thead>\n",
       "    <tr style=\"text-align: right;\">\n",
       "      <th></th>\n",
       "      <th>Tabela 202 - População residente, por sexo e situação do domicílio</th>\n",
       "      <th>Unnamed: 1</th>\n",
       "      <th>Unnamed: 2</th>\n",
       "      <th>Unnamed: 3</th>\n",
       "    </tr>\n",
       "  </thead>\n",
       "  <tbody>\n",
       "    <tr>\n",
       "      <th>1</th>\n",
       "      <td>Cód.</td>\n",
       "      <td>Município</td>\n",
       "      <td>Situação do domicílio</td>\n",
       "      <td>Ano x Sexo</td>\n",
       "    </tr>\n",
       "    <tr>\n",
       "      <th>4</th>\n",
       "      <td>1100015</td>\n",
       "      <td>Alta Floresta D'Oeste (RO)</td>\n",
       "      <td>Total</td>\n",
       "      <td>24392</td>\n",
       "    </tr>\n",
       "  </tbody>\n",
       "</table>\n",
       "</div>"
      ],
      "text/plain": [
       "  Tabela 202 - População residente, por sexo e situação do domicílio  \\\n",
       "1                                               Cód.                   \n",
       "4                                            1100015                   \n",
       "\n",
       "                   Unnamed: 1             Unnamed: 2  Unnamed: 3  \n",
       "1                   Município  Situação do domicílio  Ano x Sexo  \n",
       "4  Alta Floresta D'Oeste (RO)                  Total       24392  "
      ]
     },
     "execution_count": 73,
     "metadata": {},
     "output_type": "execute_result"
    }
   ],
   "source": [
    "#limpando a base do Censo 2010\n",
    "pop_censo_2010 = pop_censo_2010.dropna(how='any')\n",
    "pop_censo_2010.head(2)"
   ]
  },
  {
   "cell_type": "code",
   "execution_count": 78,
   "id": "82bccf82-6921-4881-9120-2f4c1b39bc4d",
   "metadata": {
    "tags": []
   },
   "outputs": [
    {
     "data": {
      "text/html": [
       "<div>\n",
       "<style scoped>\n",
       "    .dataframe tbody tr th:only-of-type {\n",
       "        vertical-align: middle;\n",
       "    }\n",
       "\n",
       "    .dataframe tbody tr th {\n",
       "        vertical-align: top;\n",
       "    }\n",
       "\n",
       "    .dataframe thead th {\n",
       "        text-align: right;\n",
       "    }\n",
       "</style>\n",
       "<table border=\"1\" class=\"dataframe\">\n",
       "  <thead>\n",
       "    <tr style=\"text-align: right;\">\n",
       "      <th></th>\n",
       "      <th>Tabela 202 - População residente, por sexo e situação do domicílio</th>\n",
       "      <th>Unnamed: 1</th>\n",
       "      <th>Unnamed: 3</th>\n",
       "    </tr>\n",
       "  </thead>\n",
       "  <tbody>\n",
       "    <tr>\n",
       "      <th>1</th>\n",
       "      <td>Cód.</td>\n",
       "      <td>Município</td>\n",
       "      <td>Ano x Sexo</td>\n",
       "    </tr>\n",
       "    <tr>\n",
       "      <th>4</th>\n",
       "      <td>1100015</td>\n",
       "      <td>Alta Floresta D'Oeste (RO)</td>\n",
       "      <td>24392</td>\n",
       "    </tr>\n",
       "    <tr>\n",
       "      <th>5</th>\n",
       "      <td>1100023</td>\n",
       "      <td>Ariquemes (RO)</td>\n",
       "      <td>90353</td>\n",
       "    </tr>\n",
       "  </tbody>\n",
       "</table>\n",
       "</div>"
      ],
      "text/plain": [
       "  Tabela 202 - População residente, por sexo e situação do domicílio  \\\n",
       "1                                               Cód.                   \n",
       "4                                            1100015                   \n",
       "5                                            1100023                   \n",
       "\n",
       "                   Unnamed: 1  Unnamed: 3  \n",
       "1                   Município  Ano x Sexo  \n",
       "4  Alta Floresta D'Oeste (RO)       24392  \n",
       "5              Ariquemes (RO)       90353  "
      ]
     },
     "execution_count": 78,
     "metadata": {},
     "output_type": "execute_result"
    }
   ],
   "source": [
    "#filtrando os rótulos das linhas e colunas necessárias\n",
    "pop_censo_2010.iloc[[0,1,2],[0,1,3]]"
   ]
  },
  {
   "cell_type": "code",
   "execution_count": 83,
   "id": "7d719da5-a65c-4e5c-a5d6-5f03466b7238",
   "metadata": {
    "tags": []
   },
   "outputs": [
    {
     "data": {
      "text/html": [
       "<div>\n",
       "<style scoped>\n",
       "    .dataframe tbody tr th:only-of-type {\n",
       "        vertical-align: middle;\n",
       "    }\n",
       "\n",
       "    .dataframe tbody tr th {\n",
       "        vertical-align: top;\n",
       "    }\n",
       "\n",
       "    .dataframe thead th {\n",
       "        text-align: right;\n",
       "    }\n",
       "</style>\n",
       "<table border=\"1\" class=\"dataframe\">\n",
       "  <thead>\n",
       "    <tr style=\"text-align: right;\">\n",
       "      <th></th>\n",
       "      <th>Tabela 202 - População residente, por sexo e situação do domicílio</th>\n",
       "      <th>Unnamed: 1</th>\n",
       "      <th>Unnamed: 2</th>\n",
       "      <th>Unnamed: 3</th>\n",
       "    </tr>\n",
       "  </thead>\n",
       "  <tbody>\n",
       "    <tr>\n",
       "      <th>1</th>\n",
       "      <td>Cód.</td>\n",
       "      <td>Município</td>\n",
       "      <td>Situação do domicílio</td>\n",
       "      <td>Ano x Sexo</td>\n",
       "    </tr>\n",
       "    <tr>\n",
       "      <th>4</th>\n",
       "      <td>1100015</td>\n",
       "      <td>Alta Floresta D'Oeste (RO)</td>\n",
       "      <td>Total</td>\n",
       "      <td>24392</td>\n",
       "    </tr>\n",
       "    <tr>\n",
       "      <th>5</th>\n",
       "      <td>1100023</td>\n",
       "      <td>Ariquemes (RO)</td>\n",
       "      <td>Total</td>\n",
       "      <td>90353</td>\n",
       "    </tr>\n",
       "    <tr>\n",
       "      <th>6</th>\n",
       "      <td>1100031</td>\n",
       "      <td>Cabixi (RO)</td>\n",
       "      <td>Total</td>\n",
       "      <td>6313</td>\n",
       "    </tr>\n",
       "    <tr>\n",
       "      <th>7</th>\n",
       "      <td>1100049</td>\n",
       "      <td>Cacoal (RO)</td>\n",
       "      <td>Total</td>\n",
       "      <td>78574</td>\n",
       "    </tr>\n",
       "  </tbody>\n",
       "</table>\n",
       "</div>"
      ],
      "text/plain": [
       "  Tabela 202 - População residente, por sexo e situação do domicílio  \\\n",
       "1                                               Cód.                   \n",
       "4                                            1100015                   \n",
       "5                                            1100023                   \n",
       "6                                            1100031                   \n",
       "7                                            1100049                   \n",
       "\n",
       "                   Unnamed: 1             Unnamed: 2  Unnamed: 3  \n",
       "1                   Município  Situação do domicílio  Ano x Sexo  \n",
       "4  Alta Floresta D'Oeste (RO)                  Total       24392  \n",
       "5              Ariquemes (RO)                  Total       90353  \n",
       "6                 Cabixi (RO)                  Total        6313  \n",
       "7                 Cacoal (RO)                  Total       78574  "
      ]
     },
     "execution_count": 83,
     "metadata": {},
     "output_type": "execute_result"
    }
   ],
   "source": [
    "pop_censo_2010.head()"
   ]
  },
  {
   "cell_type": "code",
   "execution_count": 91,
   "id": "6edc7d5f-7811-474e-817c-5ed0deda891d",
   "metadata": {
    "tags": []
   },
   "outputs": [],
   "source": [
    "#Transformando a 1ª linha em nome das colunas\n",
    "pop_censo_2010.columns = pop_censo_2010.iloc[0]\n",
    "pop_censo_2010 = pop_censo_2010[1:] "
   ]
  },
  {
   "cell_type": "code",
   "execution_count": 98,
   "id": "c3933060-2604-4c44-aee4-25a1aa1c4ec3",
   "metadata": {
    "tags": []
   },
   "outputs": [
    {
     "data": {
      "text/html": [
       "<div>\n",
       "<style scoped>\n",
       "    .dataframe tbody tr th:only-of-type {\n",
       "        vertical-align: middle;\n",
       "    }\n",
       "\n",
       "    .dataframe tbody tr th {\n",
       "        vertical-align: top;\n",
       "    }\n",
       "\n",
       "    .dataframe thead th {\n",
       "        text-align: right;\n",
       "    }\n",
       "</style>\n",
       "<table border=\"1\" class=\"dataframe\">\n",
       "  <thead>\n",
       "    <tr style=\"text-align: right;\">\n",
       "      <th>1</th>\n",
       "      <th>Cód.</th>\n",
       "      <th>Município</th>\n",
       "      <th>Ano x Sexo</th>\n",
       "    </tr>\n",
       "  </thead>\n",
       "  <tbody>\n",
       "    <tr>\n",
       "      <th>4</th>\n",
       "      <td>1100015</td>\n",
       "      <td>Alta Floresta D'Oeste (RO)</td>\n",
       "      <td>24392</td>\n",
       "    </tr>\n",
       "    <tr>\n",
       "      <th>5</th>\n",
       "      <td>1100023</td>\n",
       "      <td>Ariquemes (RO)</td>\n",
       "      <td>90353</td>\n",
       "    </tr>\n",
       "    <tr>\n",
       "      <th>6</th>\n",
       "      <td>1100031</td>\n",
       "      <td>Cabixi (RO)</td>\n",
       "      <td>6313</td>\n",
       "    </tr>\n",
       "    <tr>\n",
       "      <th>7</th>\n",
       "      <td>1100049</td>\n",
       "      <td>Cacoal (RO)</td>\n",
       "      <td>78574</td>\n",
       "    </tr>\n",
       "    <tr>\n",
       "      <th>8</th>\n",
       "      <td>1100056</td>\n",
       "      <td>Cerejeiras (RO)</td>\n",
       "      <td>17029</td>\n",
       "    </tr>\n",
       "  </tbody>\n",
       "</table>\n",
       "</div>"
      ],
      "text/plain": [
       "1     Cód.                   Município Ano x Sexo\n",
       "4  1100015  Alta Floresta D'Oeste (RO)      24392\n",
       "5  1100023              Ariquemes (RO)      90353\n",
       "6  1100031                 Cabixi (RO)       6313\n",
       "7  1100049                 Cacoal (RO)      78574\n",
       "8  1100056             Cerejeiras (RO)      17029"
      ]
     },
     "execution_count": 98,
     "metadata": {},
     "output_type": "execute_result"
    }
   ],
   "source": [
    "pop_censo_2010.drop(columns=['Situação do domicílio'], inplace=True)\n",
    "pop_censo_2010.head()"
   ]
  },
  {
   "cell_type": "code",
   "execution_count": 129,
   "id": "0e5ca73e-f584-43a3-83f6-56639b605786",
   "metadata": {
    "tags": []
   },
   "outputs": [
    {
     "data": {
      "text/plain": [
       "Index(['index', 'Cód.', 'municipio', 'total_pop'], dtype='object', name=1)"
      ]
     },
     "execution_count": 129,
     "metadata": {},
     "output_type": "execute_result"
    }
   ],
   "source": [
    "pop_censo_2010.columns"
   ]
  },
  {
   "cell_type": "code",
   "execution_count": 132,
   "id": "8501a141-27c6-4fae-b29c-ef094f799aac",
   "metadata": {
    "tags": []
   },
   "outputs": [],
   "source": [
    "pop_censo_2010.rename(columns={'Cód.':'codigo'}, inplace=True)"
   ]
  },
  {
   "cell_type": "code",
   "execution_count": 133,
   "id": "9121cbd2-6d67-4185-b91d-c6ddb388ed00",
   "metadata": {
    "tags": []
   },
   "outputs": [
    {
     "data": {
      "text/html": [
       "<div>\n",
       "<style scoped>\n",
       "    .dataframe tbody tr th:only-of-type {\n",
       "        vertical-align: middle;\n",
       "    }\n",
       "\n",
       "    .dataframe tbody tr th {\n",
       "        vertical-align: top;\n",
       "    }\n",
       "\n",
       "    .dataframe thead th {\n",
       "        text-align: right;\n",
       "    }\n",
       "</style>\n",
       "<table border=\"1\" class=\"dataframe\">\n",
       "  <thead>\n",
       "    <tr style=\"text-align: right;\">\n",
       "      <th>1</th>\n",
       "      <th>index</th>\n",
       "      <th>codigo</th>\n",
       "      <th>municipio</th>\n",
       "      <th>total_pop</th>\n",
       "    </tr>\n",
       "  </thead>\n",
       "  <tbody>\n",
       "    <tr>\n",
       "      <th>0</th>\n",
       "      <td>4</td>\n",
       "      <td>1100015</td>\n",
       "      <td>Alta Floresta D'Oeste (RO)</td>\n",
       "      <td>24392</td>\n",
       "    </tr>\n",
       "    <tr>\n",
       "      <th>1</th>\n",
       "      <td>5</td>\n",
       "      <td>1100023</td>\n",
       "      <td>Ariquemes (RO)</td>\n",
       "      <td>90353</td>\n",
       "    </tr>\n",
       "    <tr>\n",
       "      <th>2</th>\n",
       "      <td>6</td>\n",
       "      <td>1100031</td>\n",
       "      <td>Cabixi (RO)</td>\n",
       "      <td>6313</td>\n",
       "    </tr>\n",
       "    <tr>\n",
       "      <th>3</th>\n",
       "      <td>7</td>\n",
       "      <td>1100049</td>\n",
       "      <td>Cacoal (RO)</td>\n",
       "      <td>78574</td>\n",
       "    </tr>\n",
       "    <tr>\n",
       "      <th>4</th>\n",
       "      <td>8</td>\n",
       "      <td>1100056</td>\n",
       "      <td>Cerejeiras (RO)</td>\n",
       "      <td>17029</td>\n",
       "    </tr>\n",
       "  </tbody>\n",
       "</table>\n",
       "</div>"
      ],
      "text/plain": [
       "1  index   codigo                   municipio total_pop\n",
       "0      4  1100015  Alta Floresta D'Oeste (RO)     24392\n",
       "1      5  1100023              Ariquemes (RO)     90353\n",
       "2      6  1100031                 Cabixi (RO)      6313\n",
       "3      7  1100049                 Cacoal (RO)     78574\n",
       "4      8  1100056             Cerejeiras (RO)     17029"
      ]
     },
     "execution_count": 133,
     "metadata": {},
     "output_type": "execute_result"
    }
   ],
   "source": [
    "pop_censo_2010.head()"
   ]
  },
  {
   "cell_type": "code",
   "execution_count": 113,
   "id": "fb1ab275-75b3-4381-9823-e03b9c2cd72c",
   "metadata": {
    "tags": []
   },
   "outputs": [],
   "source": [
    "pop_censo_2010.reset_index(inplace=True)"
   ]
  },
  {
   "cell_type": "code",
   "execution_count": 181,
   "id": "22a3c445-8e3e-4098-ab81-ecdcca918f99",
   "metadata": {
    "tags": []
   },
   "outputs": [
    {
     "data": {
      "text/html": [
       "<div>\n",
       "<style scoped>\n",
       "    .dataframe tbody tr th:only-of-type {\n",
       "        vertical-align: middle;\n",
       "    }\n",
       "\n",
       "    .dataframe tbody tr th {\n",
       "        vertical-align: top;\n",
       "    }\n",
       "\n",
       "    .dataframe thead th {\n",
       "        text-align: right;\n",
       "    }\n",
       "</style>\n",
       "<table border=\"1\" class=\"dataframe\">\n",
       "  <thead>\n",
       "    <tr style=\"text-align: right;\">\n",
       "      <th>1</th>\n",
       "      <th>index</th>\n",
       "      <th>codigo</th>\n",
       "      <th>municipio</th>\n",
       "      <th>total_pop</th>\n",
       "    </tr>\n",
       "  </thead>\n",
       "  <tbody>\n",
       "    <tr>\n",
       "      <th>0</th>\n",
       "      <td>4</td>\n",
       "      <td>1100015</td>\n",
       "      <td>Alta Floresta D'Oeste (RO)</td>\n",
       "      <td>24392</td>\n",
       "    </tr>\n",
       "    <tr>\n",
       "      <th>1</th>\n",
       "      <td>5</td>\n",
       "      <td>1100023</td>\n",
       "      <td>Ariquemes (RO)</td>\n",
       "      <td>90353</td>\n",
       "    </tr>\n",
       "  </tbody>\n",
       "</table>\n",
       "</div>"
      ],
      "text/plain": [
       "1  index   codigo                   municipio total_pop\n",
       "0      4  1100015  Alta Floresta D'Oeste (RO)     24392\n",
       "1      5  1100023              Ariquemes (RO)     90353"
      ]
     },
     "execution_count": 181,
     "metadata": {},
     "output_type": "execute_result"
    }
   ],
   "source": [
    "pop_censo_2010.head(2)"
   ]
  },
  {
   "cell_type": "markdown",
   "id": "65b86f3d-9b32-45c5-a148-fc9aa37fcd92",
   "metadata": {},
   "source": [
    "### Censo 2022 - Prévia da população calculada com base nos resultados do Censo Demográfico 2022 até 25 de dezembro de 2022"
   ]
  },
  {
   "cell_type": "code",
   "execution_count": 316,
   "id": "e3205ab2-51fa-47fa-b046-f3bd1333f374",
   "metadata": {
    "tags": []
   },
   "outputs": [
    {
     "data": {
      "text/html": [
       "<div>\n",
       "<style scoped>\n",
       "    .dataframe tbody tr th:only-of-type {\n",
       "        vertical-align: middle;\n",
       "    }\n",
       "\n",
       "    .dataframe tbody tr th {\n",
       "        vertical-align: top;\n",
       "    }\n",
       "\n",
       "    .dataframe thead th {\n",
       "        text-align: right;\n",
       "    }\n",
       "</style>\n",
       "<table border=\"1\" class=\"dataframe\">\n",
       "  <thead>\n",
       "    <tr style=\"text-align: right;\">\n",
       "      <th></th>\n",
       "      <th>Prévia da população calculada com base nos resultados do Censo Demográfico 2022 até 25 de dezembro de 2022</th>\n",
       "      <th>Unnamed: 1</th>\n",
       "      <th>Unnamed: 2</th>\n",
       "      <th>Unnamed: 3</th>\n",
       "      <th>Unnamed: 4</th>\n",
       "    </tr>\n",
       "  </thead>\n",
       "  <tbody>\n",
       "    <tr>\n",
       "      <th>0</th>\n",
       "      <td>UF</td>\n",
       "      <td>COD. UF</td>\n",
       "      <td>COD. MUNIC</td>\n",
       "      <td>NOME DO MUNICÍPIO</td>\n",
       "      <td>POPULAÇÃO</td>\n",
       "    </tr>\n",
       "    <tr>\n",
       "      <th>1</th>\n",
       "      <td>RO</td>\n",
       "      <td>11</td>\n",
       "      <td>00015</td>\n",
       "      <td>Alta Floresta D'Oeste</td>\n",
       "      <td>21558</td>\n",
       "    </tr>\n",
       "    <tr>\n",
       "      <th>2</th>\n",
       "      <td>RO</td>\n",
       "      <td>11</td>\n",
       "      <td>00023</td>\n",
       "      <td>Ariquemes</td>\n",
       "      <td>100896</td>\n",
       "    </tr>\n",
       "    <tr>\n",
       "      <th>3</th>\n",
       "      <td>RO</td>\n",
       "      <td>11</td>\n",
       "      <td>00031</td>\n",
       "      <td>Cabixi</td>\n",
       "      <td>5107</td>\n",
       "    </tr>\n",
       "    <tr>\n",
       "      <th>4</th>\n",
       "      <td>RO</td>\n",
       "      <td>11</td>\n",
       "      <td>00049</td>\n",
       "      <td>Cacoal</td>\n",
       "      <td>92202</td>\n",
       "    </tr>\n",
       "    <tr>\n",
       "      <th>...</th>\n",
       "      <td>...</td>\n",
       "      <td>...</td>\n",
       "      <td>...</td>\n",
       "      <td>...</td>\n",
       "      <td>...</td>\n",
       "    </tr>\n",
       "    <tr>\n",
       "      <th>5601</th>\n",
       "      <td>(28) População judicial do município de Rodela...</td>\n",
       "      <td>NaN</td>\n",
       "      <td>NaN</td>\n",
       "      <td>NaN</td>\n",
       "      <td>NaN</td>\n",
       "    </tr>\n",
       "    <tr>\n",
       "      <th>5602</th>\n",
       "      <td>(29) População judicial do Município de Ribeir...</td>\n",
       "      <td>NaN</td>\n",
       "      <td>NaN</td>\n",
       "      <td>NaN</td>\n",
       "      <td>NaN</td>\n",
       "    </tr>\n",
       "    <tr>\n",
       "      <th>5603</th>\n",
       "      <td>(30) População judicial do Município de Planal...</td>\n",
       "      <td>NaN</td>\n",
       "      <td>NaN</td>\n",
       "      <td>NaN</td>\n",
       "      <td>NaN</td>\n",
       "    </tr>\n",
       "    <tr>\n",
       "      <th>5604</th>\n",
       "      <td>(31) População judicial do Município de Itacoa...</td>\n",
       "      <td>NaN</td>\n",
       "      <td>NaN</td>\n",
       "      <td>NaN</td>\n",
       "      <td>NaN</td>\n",
       "    </tr>\n",
       "    <tr>\n",
       "      <th>5605</th>\n",
       "      <td>(32) População judicial do Município de Santo ...</td>\n",
       "      <td>NaN</td>\n",
       "      <td>NaN</td>\n",
       "      <td>NaN</td>\n",
       "      <td>NaN</td>\n",
       "    </tr>\n",
       "  </tbody>\n",
       "</table>\n",
       "<p>5606 rows × 5 columns</p>\n",
       "</div>"
      ],
      "text/plain": [
       "     Prévia da população calculada com base nos resultados do Censo Demográfico 2022 até 25 de dezembro de 2022  \\\n",
       "0                                                    UF                                                           \n",
       "1                                                    RO                                                           \n",
       "2                                                    RO                                                           \n",
       "3                                                    RO                                                           \n",
       "4                                                    RO                                                           \n",
       "...                                                 ...                                                           \n",
       "5601  (28) População judicial do município de Rodela...                                                           \n",
       "5602  (29) População judicial do Município de Ribeir...                                                           \n",
       "5603  (30) População judicial do Município de Planal...                                                           \n",
       "5604  (31) População judicial do Município de Itacoa...                                                           \n",
       "5605  (32) População judicial do Município de Santo ...                                                           \n",
       "\n",
       "     Unnamed: 1  Unnamed: 2             Unnamed: 3 Unnamed: 4  \n",
       "0       COD. UF  COD. MUNIC      NOME DO MUNICÍPIO  POPULAÇÃO  \n",
       "1            11       00015  Alta Floresta D'Oeste      21558  \n",
       "2            11       00023              Ariquemes     100896  \n",
       "3            11       00031                 Cabixi       5107  \n",
       "4            11       00049                 Cacoal      92202  \n",
       "...         ...         ...                    ...        ...  \n",
       "5601        NaN         NaN                    NaN        NaN  \n",
       "5602        NaN         NaN                    NaN        NaN  \n",
       "5603        NaN         NaN                    NaN        NaN  \n",
       "5604        NaN         NaN                    NaN        NaN  \n",
       "5605        NaN         NaN                    NaN        NaN  \n",
       "\n",
       "[5606 rows x 5 columns]"
      ]
     },
     "execution_count": 316,
     "metadata": {},
     "output_type": "execute_result"
    }
   ],
   "source": [
    "pop_censo_2022 = pd.read_excel(caminho_pop_censo_2022)\n",
    "pop_censo_2022"
   ]
  },
  {
   "cell_type": "code",
   "execution_count": 317,
   "id": "844a539e-2e7a-4cf9-bd95-6690c58ba398",
   "metadata": {},
   "outputs": [
    {
     "data": {
      "text/html": [
       "<div>\n",
       "<style scoped>\n",
       "    .dataframe tbody tr th:only-of-type {\n",
       "        vertical-align: middle;\n",
       "    }\n",
       "\n",
       "    .dataframe tbody tr th {\n",
       "        vertical-align: top;\n",
       "    }\n",
       "\n",
       "    .dataframe thead th {\n",
       "        text-align: right;\n",
       "    }\n",
       "</style>\n",
       "<table border=\"1\" class=\"dataframe\">\n",
       "  <thead>\n",
       "    <tr style=\"text-align: right;\">\n",
       "      <th></th>\n",
       "      <th>Prévia da população calculada com base nos resultados do Censo Demográfico 2022 até 25 de dezembro de 2022</th>\n",
       "      <th>Unnamed: 1</th>\n",
       "      <th>Unnamed: 2</th>\n",
       "      <th>Unnamed: 3</th>\n",
       "      <th>Unnamed: 4</th>\n",
       "    </tr>\n",
       "  </thead>\n",
       "  <tbody>\n",
       "    <tr>\n",
       "      <th>0</th>\n",
       "      <td>UF</td>\n",
       "      <td>COD. UF</td>\n",
       "      <td>COD. MUNIC</td>\n",
       "      <td>NOME DO MUNICÍPIO</td>\n",
       "      <td>POPULAÇÃO</td>\n",
       "    </tr>\n",
       "    <tr>\n",
       "      <th>1</th>\n",
       "      <td>RO</td>\n",
       "      <td>11</td>\n",
       "      <td>00015</td>\n",
       "      <td>Alta Floresta D'Oeste</td>\n",
       "      <td>21558</td>\n",
       "    </tr>\n",
       "  </tbody>\n",
       "</table>\n",
       "</div>"
      ],
      "text/plain": [
       "  Prévia da população calculada com base nos resultados do Censo Demográfico 2022 até 25 de dezembro de 2022  \\\n",
       "0                                                 UF                                                           \n",
       "1                                                 RO                                                           \n",
       "\n",
       "  Unnamed: 1  Unnamed: 2             Unnamed: 3 Unnamed: 4  \n",
       "0    COD. UF  COD. MUNIC      NOME DO MUNICÍPIO  POPULAÇÃO  \n",
       "1         11       00015  Alta Floresta D'Oeste      21558  "
      ]
     },
     "execution_count": 317,
     "metadata": {},
     "output_type": "execute_result"
    }
   ],
   "source": [
    "#limpando a base do Censo 2010\n",
    "pop_censo_2022 = pop_censo_2022.dropna(how='any')\n",
    "pop_censo_2022.head(2)"
   ]
  },
  {
   "cell_type": "code",
   "execution_count": 318,
   "id": "0db69535-3ea0-4696-9a4d-0d6428d1694a",
   "metadata": {
    "tags": []
   },
   "outputs": [],
   "source": [
    "#Transformando a 1ª linha em nome das colunas\n",
    "pop_censo_2022.columns = pop_censo_2022.iloc[0]\n",
    "pop_censo_2022 = pop_censo_2022[1:] "
   ]
  },
  {
   "cell_type": "code",
   "execution_count": 319,
   "id": "7c9da9fa-74c0-43bc-a8a6-8f83e59f4c21",
   "metadata": {
    "tags": []
   },
   "outputs": [
    {
     "data": {
      "text/html": [
       "<div>\n",
       "<style scoped>\n",
       "    .dataframe tbody tr th:only-of-type {\n",
       "        vertical-align: middle;\n",
       "    }\n",
       "\n",
       "    .dataframe tbody tr th {\n",
       "        vertical-align: top;\n",
       "    }\n",
       "\n",
       "    .dataframe thead th {\n",
       "        text-align: right;\n",
       "    }\n",
       "</style>\n",
       "<table border=\"1\" class=\"dataframe\">\n",
       "  <thead>\n",
       "    <tr style=\"text-align: right;\">\n",
       "      <th></th>\n",
       "      <th>UF</th>\n",
       "      <th>COD. UF</th>\n",
       "      <th>COD. MUNIC</th>\n",
       "      <th>NOME DO MUNICÍPIO</th>\n",
       "      <th>POPULAÇÃO</th>\n",
       "    </tr>\n",
       "  </thead>\n",
       "  <tbody>\n",
       "    <tr>\n",
       "      <th>1</th>\n",
       "      <td>RO</td>\n",
       "      <td>11</td>\n",
       "      <td>00015</td>\n",
       "      <td>Alta Floresta D'Oeste</td>\n",
       "      <td>21558</td>\n",
       "    </tr>\n",
       "    <tr>\n",
       "      <th>2</th>\n",
       "      <td>RO</td>\n",
       "      <td>11</td>\n",
       "      <td>00023</td>\n",
       "      <td>Ariquemes</td>\n",
       "      <td>100896</td>\n",
       "    </tr>\n",
       "  </tbody>\n",
       "</table>\n",
       "</div>"
      ],
      "text/plain": [
       "0  UF COD. UF COD. MUNIC      NOME DO MUNICÍPIO POPULAÇÃO\n",
       "1  RO      11      00015  Alta Floresta D'Oeste     21558\n",
       "2  RO      11      00023              Ariquemes    100896"
      ]
     },
     "execution_count": 319,
     "metadata": {},
     "output_type": "execute_result"
    }
   ],
   "source": [
    "pop_censo_2022.head(2)"
   ]
  },
  {
   "cell_type": "code",
   "execution_count": 320,
   "id": "3a3bae02-08dc-4692-becf-7f9f873df1a0",
   "metadata": {
    "tags": []
   },
   "outputs": [
    {
     "data": {
      "text/plain": [
       "Index(['UF', 'COD. UF', 'COD. MUNIC', 'NOME DO MUNICÍPIO', 'POPULAÇÃO'], dtype='object', name=0)"
      ]
     },
     "execution_count": 320,
     "metadata": {},
     "output_type": "execute_result"
    }
   ],
   "source": [
    "pop_censo_2022.columns"
   ]
  },
  {
   "cell_type": "code",
   "execution_count": 321,
   "id": "284aa6bb-4276-480a-8700-68eefbece713",
   "metadata": {
    "tags": []
   },
   "outputs": [
    {
     "name": "stdout",
     "output_type": "stream",
     "text": [
      "<class 'pandas.core.frame.DataFrame'>\n",
      "Index: 5570 entries, 1 to 5570\n",
      "Data columns (total 5 columns):\n",
      " #   Column             Non-Null Count  Dtype \n",
      "---  ------             --------------  ----- \n",
      " 0   UF                 5570 non-null   object\n",
      " 1   COD. UF            5570 non-null   object\n",
      " 2   COD. MUNIC         5570 non-null   object\n",
      " 3   NOME DO MUNICÍPIO  5570 non-null   object\n",
      " 4   POPULAÇÃO          5570 non-null   object\n",
      "dtypes: object(5)\n",
      "memory usage: 261.1+ KB\n"
     ]
    }
   ],
   "source": [
    "pop_censo_2022.info()"
   ]
  },
  {
   "cell_type": "code",
   "execution_count": 322,
   "id": "1ce2ee95-a572-4bba-8e96-aff05a0b881f",
   "metadata": {
    "tags": []
   },
   "outputs": [],
   "source": [
    "# Converta as colunas para strings\n",
    "pop_censo_2022['COD. UF'] = pop_censo_2022['COD. UF'].astype(str)\n",
    "pop_censo_2022['COD. MUNIC'] = pop_censo_2022['COD. MUNIC'].astype(str)"
   ]
  },
  {
   "cell_type": "code",
   "execution_count": 323,
   "id": "b65c20d5-b15c-4fbc-b600-af10058ca9ea",
   "metadata": {
    "tags": []
   },
   "outputs": [
    {
     "name": "stdout",
     "output_type": "stream",
     "text": [
      "<class 'pandas.core.frame.DataFrame'>\n",
      "Index: 5570 entries, 1 to 5570\n",
      "Data columns (total 5 columns):\n",
      " #   Column             Non-Null Count  Dtype \n",
      "---  ------             --------------  ----- \n",
      " 0   UF                 5570 non-null   object\n",
      " 1   COD. UF            5570 non-null   object\n",
      " 2   COD. MUNIC         5570 non-null   object\n",
      " 3   NOME DO MUNICÍPIO  5570 non-null   object\n",
      " 4   POPULAÇÃO          5570 non-null   object\n",
      "dtypes: object(5)\n",
      "memory usage: 261.1+ KB\n"
     ]
    }
   ],
   "source": [
    "pop_censo_2022.info()"
   ]
  },
  {
   "cell_type": "code",
   "execution_count": 324,
   "id": "e41130d4-a9c4-4671-9e1e-6cd8ac94c316",
   "metadata": {
    "tags": []
   },
   "outputs": [],
   "source": [
    "pop_censo_2022['ibge_6'] = pop_censo_2022['COD. UF'] + pop_censo_2022['COD. MUNIC']"
   ]
  },
  {
   "cell_type": "code",
   "execution_count": 325,
   "id": "a913aa2e-842c-42d8-9b4f-b1ec9e4a0cf3",
   "metadata": {
    "tags": []
   },
   "outputs": [
    {
     "data": {
      "text/html": [
       "<div>\n",
       "<style scoped>\n",
       "    .dataframe tbody tr th:only-of-type {\n",
       "        vertical-align: middle;\n",
       "    }\n",
       "\n",
       "    .dataframe tbody tr th {\n",
       "        vertical-align: top;\n",
       "    }\n",
       "\n",
       "    .dataframe thead th {\n",
       "        text-align: right;\n",
       "    }\n",
       "</style>\n",
       "<table border=\"1\" class=\"dataframe\">\n",
       "  <thead>\n",
       "    <tr style=\"text-align: right;\">\n",
       "      <th></th>\n",
       "      <th>UF</th>\n",
       "      <th>COD. UF</th>\n",
       "      <th>COD. MUNIC</th>\n",
       "      <th>NOME DO MUNICÍPIO</th>\n",
       "      <th>POPULAÇÃO</th>\n",
       "      <th>ibge_6</th>\n",
       "    </tr>\n",
       "  </thead>\n",
       "  <tbody>\n",
       "    <tr>\n",
       "      <th>1</th>\n",
       "      <td>RO</td>\n",
       "      <td>11</td>\n",
       "      <td>00015</td>\n",
       "      <td>Alta Floresta D'Oeste</td>\n",
       "      <td>21558</td>\n",
       "      <td>1100015</td>\n",
       "    </tr>\n",
       "    <tr>\n",
       "      <th>2</th>\n",
       "      <td>RO</td>\n",
       "      <td>11</td>\n",
       "      <td>00023</td>\n",
       "      <td>Ariquemes</td>\n",
       "      <td>100896</td>\n",
       "      <td>1100023</td>\n",
       "    </tr>\n",
       "    <tr>\n",
       "      <th>3</th>\n",
       "      <td>RO</td>\n",
       "      <td>11</td>\n",
       "      <td>00031</td>\n",
       "      <td>Cabixi</td>\n",
       "      <td>5107</td>\n",
       "      <td>1100031</td>\n",
       "    </tr>\n",
       "    <tr>\n",
       "      <th>4</th>\n",
       "      <td>RO</td>\n",
       "      <td>11</td>\n",
       "      <td>00049</td>\n",
       "      <td>Cacoal</td>\n",
       "      <td>92202</td>\n",
       "      <td>1100049</td>\n",
       "    </tr>\n",
       "    <tr>\n",
       "      <th>5</th>\n",
       "      <td>RO</td>\n",
       "      <td>11</td>\n",
       "      <td>00056</td>\n",
       "      <td>Cerejeiras</td>\n",
       "      <td>15237</td>\n",
       "      <td>1100056</td>\n",
       "    </tr>\n",
       "  </tbody>\n",
       "</table>\n",
       "</div>"
      ],
      "text/plain": [
       "0  UF COD. UF COD. MUNIC      NOME DO MUNICÍPIO POPULAÇÃO   ibge_6\n",
       "1  RO      11      00015  Alta Floresta D'Oeste     21558  1100015\n",
       "2  RO      11      00023              Ariquemes    100896  1100023\n",
       "3  RO      11      00031                 Cabixi      5107  1100031\n",
       "4  RO      11      00049                 Cacoal     92202  1100049\n",
       "5  RO      11      00056             Cerejeiras     15237  1100056"
      ]
     },
     "execution_count": 325,
     "metadata": {},
     "output_type": "execute_result"
    }
   ],
   "source": [
    "pop_censo_2022.head()"
   ]
  },
  {
   "cell_type": "code",
   "execution_count": 326,
   "id": "ce642132-6975-4661-984e-fa29c08afff7",
   "metadata": {
    "tags": []
   },
   "outputs": [
    {
     "data": {
      "text/plain": [
       "Index(['UF', 'COD. UF', 'COD. MUNIC', 'NOME DO MUNICÍPIO', 'POPULAÇÃO',\n",
       "       'ibge_6'],\n",
       "      dtype='object', name=0)"
      ]
     },
     "execution_count": 326,
     "metadata": {},
     "output_type": "execute_result"
    }
   ],
   "source": [
    "pop_censo_2022.columns"
   ]
  },
  {
   "cell_type": "code",
   "execution_count": 327,
   "id": "03d992dc-9385-4690-a5c1-42937d41b0dd",
   "metadata": {
    "tags": []
   },
   "outputs": [],
   "source": [
    "pop_censo_2022.drop(columns=['UF', 'COD. UF', 'COD. MUNIC'],inplace=True)"
   ]
  },
  {
   "cell_type": "code",
   "execution_count": 328,
   "id": "a42ed740-cf9a-4a0c-8ef6-f6c21c6ae16c",
   "metadata": {
    "tags": []
   },
   "outputs": [
    {
     "data": {
      "text/plain": [
       "Index(['NOME DO MUNICÍPIO', 'POPULAÇÃO', 'ibge_6'], dtype='object', name=0)"
      ]
     },
     "execution_count": 328,
     "metadata": {},
     "output_type": "execute_result"
    }
   ],
   "source": [
    "pop_censo_2022.columns"
   ]
  },
  {
   "cell_type": "code",
   "execution_count": 329,
   "id": "c7e343ab-3114-496a-9506-b2c3c27a2348",
   "metadata": {
    "tags": []
   },
   "outputs": [
    {
     "data": {
      "text/html": [
       "<div>\n",
       "<style scoped>\n",
       "    .dataframe tbody tr th:only-of-type {\n",
       "        vertical-align: middle;\n",
       "    }\n",
       "\n",
       "    .dataframe tbody tr th {\n",
       "        vertical-align: top;\n",
       "    }\n",
       "\n",
       "    .dataframe thead th {\n",
       "        text-align: right;\n",
       "    }\n",
       "</style>\n",
       "<table border=\"1\" class=\"dataframe\">\n",
       "  <thead>\n",
       "    <tr style=\"text-align: right;\">\n",
       "      <th></th>\n",
       "      <th>ibge_6</th>\n",
       "      <th>NOME DO MUNICÍPIO</th>\n",
       "      <th>POPULAÇÃO</th>\n",
       "    </tr>\n",
       "  </thead>\n",
       "  <tbody>\n",
       "    <tr>\n",
       "      <th>1</th>\n",
       "      <td>1100015</td>\n",
       "      <td>Alta Floresta D'Oeste</td>\n",
       "      <td>21558</td>\n",
       "    </tr>\n",
       "    <tr>\n",
       "      <th>2</th>\n",
       "      <td>1100023</td>\n",
       "      <td>Ariquemes</td>\n",
       "      <td>100896</td>\n",
       "    </tr>\n",
       "    <tr>\n",
       "      <th>3</th>\n",
       "      <td>1100031</td>\n",
       "      <td>Cabixi</td>\n",
       "      <td>5107</td>\n",
       "    </tr>\n",
       "    <tr>\n",
       "      <th>4</th>\n",
       "      <td>1100049</td>\n",
       "      <td>Cacoal</td>\n",
       "      <td>92202</td>\n",
       "    </tr>\n",
       "    <tr>\n",
       "      <th>5</th>\n",
       "      <td>1100056</td>\n",
       "      <td>Cerejeiras</td>\n",
       "      <td>15237</td>\n",
       "    </tr>\n",
       "    <tr>\n",
       "      <th>...</th>\n",
       "      <td>...</td>\n",
       "      <td>...</td>\n",
       "      <td>...</td>\n",
       "    </tr>\n",
       "    <tr>\n",
       "      <th>5566</th>\n",
       "      <td>5222005</td>\n",
       "      <td>Vianópolis</td>\n",
       "      <td>14046</td>\n",
       "    </tr>\n",
       "    <tr>\n",
       "      <th>5567</th>\n",
       "      <td>5222054</td>\n",
       "      <td>Vicentinópolis</td>\n",
       "      <td>8776</td>\n",
       "    </tr>\n",
       "    <tr>\n",
       "      <th>5568</th>\n",
       "      <td>5222203</td>\n",
       "      <td>Vila Boa</td>\n",
       "      <td>3686</td>\n",
       "    </tr>\n",
       "    <tr>\n",
       "      <th>5569</th>\n",
       "      <td>5222302</td>\n",
       "      <td>Vila Propício</td>\n",
       "      <td>5646</td>\n",
       "    </tr>\n",
       "    <tr>\n",
       "      <th>5570</th>\n",
       "      <td>5300108</td>\n",
       "      <td>Brasília</td>\n",
       "      <td>2923369</td>\n",
       "    </tr>\n",
       "  </tbody>\n",
       "</table>\n",
       "<p>5570 rows × 3 columns</p>\n",
       "</div>"
      ],
      "text/plain": [
       "0      ibge_6      NOME DO MUNICÍPIO POPULAÇÃO\n",
       "1     1100015  Alta Floresta D'Oeste     21558\n",
       "2     1100023              Ariquemes    100896\n",
       "3     1100031                 Cabixi      5107\n",
       "4     1100049                 Cacoal     92202\n",
       "5     1100056             Cerejeiras     15237\n",
       "...       ...                    ...       ...\n",
       "5566  5222005             Vianópolis     14046\n",
       "5567  5222054         Vicentinópolis      8776\n",
       "5568  5222203               Vila Boa      3686\n",
       "5569  5222302          Vila Propício      5646\n",
       "5570  5300108               Brasília   2923369\n",
       "\n",
       "[5570 rows x 3 columns]"
      ]
     },
     "execution_count": 329,
     "metadata": {},
     "output_type": "execute_result"
    }
   ],
   "source": [
    "pop_censo_2022 = pop_censo_2022[['ibge_6','NOME DO MUNICÍPIO', 'POPULAÇÃO']]\n",
    "pop_censo_2022"
   ]
  },
  {
   "cell_type": "code",
   "execution_count": 330,
   "id": "be03ee4e-0220-4b8b-8516-a782853650e1",
   "metadata": {
    "tags": []
   },
   "outputs": [],
   "source": [
    "pop_censo_2022.rename(columns={'NOME DO MUNICÍPIO':'municipio', 'POPULAÇÃO':'total_pop'}, inplace=True)"
   ]
  },
  {
   "cell_type": "code",
   "execution_count": 331,
   "id": "7edc189d-3c30-44d5-8041-60430e9d2628",
   "metadata": {
    "tags": []
   },
   "outputs": [
    {
     "data": {
      "text/html": [
       "<div>\n",
       "<style scoped>\n",
       "    .dataframe tbody tr th:only-of-type {\n",
       "        vertical-align: middle;\n",
       "    }\n",
       "\n",
       "    .dataframe tbody tr th {\n",
       "        vertical-align: top;\n",
       "    }\n",
       "\n",
       "    .dataframe thead th {\n",
       "        text-align: right;\n",
       "    }\n",
       "</style>\n",
       "<table border=\"1\" class=\"dataframe\">\n",
       "  <thead>\n",
       "    <tr style=\"text-align: right;\">\n",
       "      <th></th>\n",
       "      <th>ibge_6</th>\n",
       "      <th>municipio</th>\n",
       "      <th>total_pop</th>\n",
       "    </tr>\n",
       "  </thead>\n",
       "  <tbody>\n",
       "    <tr>\n",
       "      <th>1</th>\n",
       "      <td>1100015</td>\n",
       "      <td>Alta Floresta D'Oeste</td>\n",
       "      <td>21558</td>\n",
       "    </tr>\n",
       "    <tr>\n",
       "      <th>2</th>\n",
       "      <td>1100023</td>\n",
       "      <td>Ariquemes</td>\n",
       "      <td>100896</td>\n",
       "    </tr>\n",
       "    <tr>\n",
       "      <th>3</th>\n",
       "      <td>1100031</td>\n",
       "      <td>Cabixi</td>\n",
       "      <td>5107</td>\n",
       "    </tr>\n",
       "    <tr>\n",
       "      <th>4</th>\n",
       "      <td>1100049</td>\n",
       "      <td>Cacoal</td>\n",
       "      <td>92202</td>\n",
       "    </tr>\n",
       "    <tr>\n",
       "      <th>5</th>\n",
       "      <td>1100056</td>\n",
       "      <td>Cerejeiras</td>\n",
       "      <td>15237</td>\n",
       "    </tr>\n",
       "  </tbody>\n",
       "</table>\n",
       "</div>"
      ],
      "text/plain": [
       "0   ibge_6              municipio total_pop\n",
       "1  1100015  Alta Floresta D'Oeste     21558\n",
       "2  1100023              Ariquemes    100896\n",
       "3  1100031                 Cabixi      5107\n",
       "4  1100049                 Cacoal     92202\n",
       "5  1100056             Cerejeiras     15237"
      ]
     },
     "execution_count": 331,
     "metadata": {},
     "output_type": "execute_result"
    }
   ],
   "source": [
    "pop_censo_2022.head()"
   ]
  },
  {
   "cell_type": "code",
   "execution_count": 332,
   "id": "6c05dfd0-3565-4a0b-b982-f948c3d49f98",
   "metadata": {
    "tags": []
   },
   "outputs": [],
   "source": [
    "pop_censo_2022['ibge_6'] = pop_censo_2022['ibge_6'].str[:-1]"
   ]
  },
  {
   "cell_type": "code",
   "execution_count": 333,
   "id": "ec8bf52b-b110-464e-bcdc-c9270b49e007",
   "metadata": {
    "tags": []
   },
   "outputs": [
    {
     "data": {
      "text/html": [
       "<div>\n",
       "<style scoped>\n",
       "    .dataframe tbody tr th:only-of-type {\n",
       "        vertical-align: middle;\n",
       "    }\n",
       "\n",
       "    .dataframe tbody tr th {\n",
       "        vertical-align: top;\n",
       "    }\n",
       "\n",
       "    .dataframe thead th {\n",
       "        text-align: right;\n",
       "    }\n",
       "</style>\n",
       "<table border=\"1\" class=\"dataframe\">\n",
       "  <thead>\n",
       "    <tr style=\"text-align: right;\">\n",
       "      <th></th>\n",
       "      <th>ibge_6</th>\n",
       "      <th>municipio</th>\n",
       "      <th>total_pop</th>\n",
       "    </tr>\n",
       "  </thead>\n",
       "  <tbody>\n",
       "    <tr>\n",
       "      <th>1</th>\n",
       "      <td>110001</td>\n",
       "      <td>Alta Floresta D'Oeste</td>\n",
       "      <td>21558</td>\n",
       "    </tr>\n",
       "    <tr>\n",
       "      <th>2</th>\n",
       "      <td>110002</td>\n",
       "      <td>Ariquemes</td>\n",
       "      <td>100896</td>\n",
       "    </tr>\n",
       "    <tr>\n",
       "      <th>3</th>\n",
       "      <td>110003</td>\n",
       "      <td>Cabixi</td>\n",
       "      <td>5107</td>\n",
       "    </tr>\n",
       "    <tr>\n",
       "      <th>4</th>\n",
       "      <td>110004</td>\n",
       "      <td>Cacoal</td>\n",
       "      <td>92202</td>\n",
       "    </tr>\n",
       "    <tr>\n",
       "      <th>5</th>\n",
       "      <td>110005</td>\n",
       "      <td>Cerejeiras</td>\n",
       "      <td>15237</td>\n",
       "    </tr>\n",
       "  </tbody>\n",
       "</table>\n",
       "</div>"
      ],
      "text/plain": [
       "0  ibge_6              municipio total_pop\n",
       "1  110001  Alta Floresta D'Oeste     21558\n",
       "2  110002              Ariquemes    100896\n",
       "3  110003                 Cabixi      5107\n",
       "4  110004                 Cacoal     92202\n",
       "5  110005             Cerejeiras     15237"
      ]
     },
     "execution_count": 333,
     "metadata": {},
     "output_type": "execute_result"
    }
   ],
   "source": [
    "pop_censo_2022.head()"
   ]
  },
  {
   "cell_type": "code",
   "execution_count": 334,
   "id": "511c303e-0dbd-4a5a-ad8d-d926e1ce3180",
   "metadata": {
    "tags": []
   },
   "outputs": [
    {
     "data": {
      "text/plain": [
       "17    461.748(1)\n",
       "Name: total_pop, dtype: object"
      ]
     },
     "execution_count": 334,
     "metadata": {},
     "output_type": "execute_result"
    }
   ],
   "source": [
    "#identificando o erro ValueError: could not convert string to float: '461.748(1)' ao gerar o df com cruzamento\n",
    "pop_censo_2022['total_pop'].loc[pop_censo_2022['total_pop']=='461.748(1)']"
   ]
  },
  {
   "cell_type": "code",
   "execution_count": 335,
   "id": "255146f8-e071-47a0-9193-75ecfbe05def",
   "metadata": {
    "tags": []
   },
   "outputs": [
    {
     "data": {
      "text/plain": [
       "0\n",
       "ibge_6            110020\n",
       "municipio    Porto Velho\n",
       "total_pop     461.748(1)\n",
       "Name: 17, dtype: object"
      ]
     },
     "execution_count": 335,
     "metadata": {},
     "output_type": "execute_result"
    }
   ],
   "source": [
    "#checando o município da linha 17. Identificado o problema na redação\n",
    "pop_censo_2022.iloc[16]"
   ]
  },
  {
   "cell_type": "code",
   "execution_count": 336,
   "id": "0a4bbd36-65ed-49c9-a215-e4d640b1e2c3",
   "metadata": {
    "tags": []
   },
   "outputs": [],
   "source": [
    "#corrigindo os valores com (xx)\n",
    "#esse script retira a possibilidade de strings com espaço em branco antes do parêntese sejam excluídos também não deu certo\n",
    "#pop_censo_2022['total_pop'] = pop_censo_2022['total_pop'].str.replace(r'\\s*\\(\\d+\\)', '', regex=True)\n",
    "#esse script exclui strings com espaço em branco antes do parêntese \n",
    "#pop_censo_2022['total_pop'] = pop_censo_2022['total_pop'].str.replace(r'\\(\\d+\\)', '', regex=True)\n",
    "#script mais flexível aos diferentes formatos do dado\n",
    "pop_censo_2022['total_pop'] = pop_censo_2022['total_pop'].str.replace(r'\\s?\\(\\d+\\)\\s?', '', regex=True)"
   ]
  },
  {
   "cell_type": "code",
   "execution_count": 337,
   "id": "6050b543-6e25-4a35-a605-141625981bd2",
   "metadata": {
    "tags": []
   },
   "outputs": [
    {
     "name": "stdout",
     "output_type": "stream",
     "text": [
      "<class 'pandas.core.frame.DataFrame'>\n",
      "Index: 5570 entries, 1 to 5570\n",
      "Data columns (total 3 columns):\n",
      " #   Column     Non-Null Count  Dtype \n",
      "---  ------     --------------  ----- \n",
      " 0   ibge_6     5570 non-null   object\n",
      " 1   municipio  5570 non-null   object\n",
      " 2   total_pop  31 non-null     object\n",
      "dtypes: object(3)\n",
      "memory usage: 174.1+ KB\n"
     ]
    }
   ],
   "source": [
    "pop_censo_2022.info()"
   ]
  },
  {
   "cell_type": "code",
   "execution_count": 272,
   "id": "52433981-d752-49eb-849a-4aa92c27cb1f",
   "metadata": {
    "tags": []
   },
   "outputs": [],
   "source": [
    "pop_censo_2022['total_pop'] = pop_censo_2022['total_pop'].astype(float)"
   ]
  },
  {
   "cell_type": "code",
   "execution_count": 286,
   "id": "5de37e38-3d34-4db5-a61c-ceaafdffbcc8",
   "metadata": {
    "tags": []
   },
   "outputs": [],
   "source": [
    "pop_censo_2022['ibge_6'] = pop_censo_2022['ibge_6'].astype(float)"
   ]
  },
  {
   "cell_type": "code",
   "execution_count": 287,
   "id": "e0a2e3e4-14e9-49b4-9645-5483a85228e3",
   "metadata": {
    "tags": []
   },
   "outputs": [
    {
     "name": "stdout",
     "output_type": "stream",
     "text": [
      "<class 'pandas.core.frame.DataFrame'>\n",
      "Index: 5570 entries, 1 to 5570\n",
      "Data columns (total 3 columns):\n",
      " #   Column     Non-Null Count  Dtype  \n",
      "---  ------     --------------  -----  \n",
      " 0   ibge_6     5570 non-null   float64\n",
      " 1   municipio  5570 non-null   object \n",
      " 2   total_pop  31 non-null     float64\n",
      "dtypes: float64(2), object(1)\n",
      "memory usage: 174.1+ KB\n"
     ]
    }
   ],
   "source": [
    "pop_censo_2022.info()"
   ]
  },
  {
   "cell_type": "code",
   "execution_count": null,
   "id": "76d4c482-399f-4082-b1fe-7f2cd4530773",
   "metadata": {},
   "outputs": [],
   "source": []
  },
  {
   "cell_type": "markdown",
   "id": "2371da2a-7252-469c-aae2-06a7893e79ff",
   "metadata": {
    "tags": []
   },
   "source": [
    "### Cruzando os dados do Cadastro com os do Censo 2010 e 2022"
   ]
  },
  {
   "cell_type": "code",
   "execution_count": 275,
   "id": "4a83412e-76ba-4d37-b6d0-b26c41f42011",
   "metadata": {
    "tags": []
   },
   "outputs": [
    {
     "data": {
      "text/plain": [
       "Index(['ibge_6', 'referencia', 'total_pes', 'total_pes_ate_meio_sm',\n",
       "       'total_pes_pob', 'total_pes_ext_pob', 'total_pes_pob_e_ext_pob',\n",
       "       'total_pes_bx_renda'],\n",
       "      dtype='object')"
      ]
     },
     "execution_count": 275,
     "metadata": {},
     "output_type": "execute_result"
    }
   ],
   "source": [
    "df_cad_2012_2023_pes.columns"
   ]
  },
  {
   "cell_type": "code",
   "execution_count": 276,
   "id": "ca782b5e-f986-46d7-9aca-a60c8a255453",
   "metadata": {
    "tags": []
   },
   "outputs": [
    {
     "data": {
      "text/html": [
       "<div>\n",
       "<style scoped>\n",
       "    .dataframe tbody tr th:only-of-type {\n",
       "        vertical-align: middle;\n",
       "    }\n",
       "\n",
       "    .dataframe tbody tr th {\n",
       "        vertical-align: top;\n",
       "    }\n",
       "\n",
       "    .dataframe thead th {\n",
       "        text-align: right;\n",
       "    }\n",
       "</style>\n",
       "<table border=\"1\" class=\"dataframe\">\n",
       "  <thead>\n",
       "    <tr style=\"text-align: right;\">\n",
       "      <th></th>\n",
       "      <th>ibge_6</th>\n",
       "      <th>referencia</th>\n",
       "      <th>total_pes_pob_e_ext_pob</th>\n",
       "    </tr>\n",
       "  </thead>\n",
       "  <tbody>\n",
       "    <tr>\n",
       "      <th>0</th>\n",
       "      <td>110001</td>\n",
       "      <td>201212</td>\n",
       "      <td>11591.0</td>\n",
       "    </tr>\n",
       "    <tr>\n",
       "      <th>1</th>\n",
       "      <td>110002</td>\n",
       "      <td>201212</td>\n",
       "      <td>29553.0</td>\n",
       "    </tr>\n",
       "    <tr>\n",
       "      <th>2</th>\n",
       "      <td>110003</td>\n",
       "      <td>201212</td>\n",
       "      <td>2712.0</td>\n",
       "    </tr>\n",
       "    <tr>\n",
       "      <th>3</th>\n",
       "      <td>110004</td>\n",
       "      <td>201212</td>\n",
       "      <td>21749.0</td>\n",
       "    </tr>\n",
       "    <tr>\n",
       "      <th>4</th>\n",
       "      <td>110005</td>\n",
       "      <td>201212</td>\n",
       "      <td>6594.0</td>\n",
       "    </tr>\n",
       "    <tr>\n",
       "      <th>...</th>\n",
       "      <td>...</td>\n",
       "      <td>...</td>\n",
       "      <td>...</td>\n",
       "    </tr>\n",
       "    <tr>\n",
       "      <th>44555</th>\n",
       "      <td>522200</td>\n",
       "      <td>202301</td>\n",
       "      <td>3172.0</td>\n",
       "    </tr>\n",
       "    <tr>\n",
       "      <th>44556</th>\n",
       "      <td>522205</td>\n",
       "      <td>202301</td>\n",
       "      <td>2184.0</td>\n",
       "    </tr>\n",
       "    <tr>\n",
       "      <th>44557</th>\n",
       "      <td>522220</td>\n",
       "      <td>202301</td>\n",
       "      <td>1965.0</td>\n",
       "    </tr>\n",
       "    <tr>\n",
       "      <th>44558</th>\n",
       "      <td>522230</td>\n",
       "      <td>202301</td>\n",
       "      <td>2334.0</td>\n",
       "    </tr>\n",
       "    <tr>\n",
       "      <th>44559</th>\n",
       "      <td>530010</td>\n",
       "      <td>202301</td>\n",
       "      <td>507518.0</td>\n",
       "    </tr>\n",
       "  </tbody>\n",
       "</table>\n",
       "<p>762976 rows × 3 columns</p>\n",
       "</div>"
      ],
      "text/plain": [
       "       ibge_6  referencia  total_pes_pob_e_ext_pob\n",
       "0      110001      201212                  11591.0\n",
       "1      110002      201212                  29553.0\n",
       "2      110003      201212                   2712.0\n",
       "3      110004      201212                  21749.0\n",
       "4      110005      201212                   6594.0\n",
       "...       ...         ...                      ...\n",
       "44555  522200      202301                   3172.0\n",
       "44556  522205      202301                   2184.0\n",
       "44557  522220      202301                   1965.0\n",
       "44558  522230      202301                   2334.0\n",
       "44559  530010      202301                 507518.0\n",
       "\n",
       "[762976 rows x 3 columns]"
      ]
     },
     "execution_count": 276,
     "metadata": {},
     "output_type": "execute_result"
    }
   ],
   "source": [
    "df_cad_2012_2023_pes_limpa = df_cad_2012_2023_pes.drop(columns={'total_pes', 'total_pes_ate_meio_sm',\n",
    "       'total_pes_pob', 'total_pes_ext_pob', 'total_pes_bx_renda'})\n",
    "df_cad_2012_2023_pes_limpa"
   ]
  },
  {
   "cell_type": "code",
   "execution_count": 277,
   "id": "edbe0ed8-ce7b-4444-b174-b4f54f63f8c9",
   "metadata": {
    "tags": []
   },
   "outputs": [
    {
     "name": "stdout",
     "output_type": "stream",
     "text": [
      "<class 'pandas.core.frame.DataFrame'>\n",
      "Index: 762976 entries, 0 to 44559\n",
      "Data columns (total 3 columns):\n",
      " #   Column                   Non-Null Count   Dtype  \n",
      "---  ------                   --------------   -----  \n",
      " 0   ibge_6                   762976 non-null  int64  \n",
      " 1   referencia               762976 non-null  int64  \n",
      " 2   total_pes_pob_e_ext_pob  762976 non-null  float64\n",
      "dtypes: float64(1), int64(2)\n",
      "memory usage: 23.3 MB\n"
     ]
    }
   ],
   "source": [
    "df_cad_2012_2023_pes_limpa.info()"
   ]
  },
  {
   "cell_type": "code",
   "execution_count": 278,
   "id": "5e2c92d8-0f5e-4eaf-b4e0-c18408ca22c6",
   "metadata": {
    "tags": []
   },
   "outputs": [],
   "source": [
    "df_cad_2012_2023_pes_limpa = df_cad_2012_2023_pes_limpa[df_cad_2012_2023_pes_limpa['referencia']==201212]"
   ]
  },
  {
   "cell_type": "code",
   "execution_count": 279,
   "id": "1bd955a5-35f5-4afd-857b-cc1ed2607a43",
   "metadata": {
    "tags": []
   },
   "outputs": [
    {
     "name": "stdout",
     "output_type": "stream",
     "text": [
      "<class 'pandas.core.frame.DataFrame'>\n",
      "Index: 5565 entries, 0 to 5564\n",
      "Data columns (total 3 columns):\n",
      " #   Column                   Non-Null Count  Dtype  \n",
      "---  ------                   --------------  -----  \n",
      " 0   ibge_6                   5565 non-null   int64  \n",
      " 1   referencia               5565 non-null   int64  \n",
      " 2   total_pes_pob_e_ext_pob  5565 non-null   float64\n",
      "dtypes: float64(1), int64(2)\n",
      "memory usage: 173.9 KB\n"
     ]
    }
   ],
   "source": [
    "df_cad_2012_2023_pes_limpa.info()"
   ]
  },
  {
   "cell_type": "code",
   "execution_count": 288,
   "id": "d0921e7a-965f-46e7-9e80-f0e03980e204",
   "metadata": {
    "tags": []
   },
   "outputs": [],
   "source": [
    "df_cad_2012_2023_pes_limpa['ibge_6'] = df_cad_2012_2023_pes_limpa['ibge_6'].astype(float)"
   ]
  },
  {
   "cell_type": "code",
   "execution_count": 289,
   "id": "4aecb4f9-b230-4e60-af57-ce5f7b90a45d",
   "metadata": {
    "tags": []
   },
   "outputs": [
    {
     "data": {
      "text/plain": [
       "Index(['index', 'codigo', 'municipio', 'total_pop'], dtype='object', name=1)"
      ]
     },
     "execution_count": 289,
     "metadata": {},
     "output_type": "execute_result"
    }
   ],
   "source": [
    "pop_censo_2010.columns"
   ]
  },
  {
   "cell_type": "code",
   "execution_count": 290,
   "id": "b56f119a-0852-48ac-b059-0b363927cdda",
   "metadata": {
    "tags": []
   },
   "outputs": [],
   "source": [
    "censo_2010_cad_2012 = pd.merge(df_cad_2012_2023_pes_limpa, pop_censo_2022, left_on = ['ibge_6'], \n",
    "         right_on=['ibge_6'], how = 'outer')"
   ]
  },
  {
   "cell_type": "code",
   "execution_count": 291,
   "id": "2310028f-2242-4022-b7e0-0331e056443a",
   "metadata": {
    "tags": []
   },
   "outputs": [
    {
     "data": {
      "text/html": [
       "<div>\n",
       "<style scoped>\n",
       "    .dataframe tbody tr th:only-of-type {\n",
       "        vertical-align: middle;\n",
       "    }\n",
       "\n",
       "    .dataframe tbody tr th {\n",
       "        vertical-align: top;\n",
       "    }\n",
       "\n",
       "    .dataframe thead th {\n",
       "        text-align: right;\n",
       "    }\n",
       "</style>\n",
       "<table border=\"1\" class=\"dataframe\">\n",
       "  <thead>\n",
       "    <tr style=\"text-align: right;\">\n",
       "      <th></th>\n",
       "      <th>ibge_6</th>\n",
       "      <th>referencia</th>\n",
       "      <th>total_pes_pob_e_ext_pob</th>\n",
       "      <th>municipio</th>\n",
       "      <th>total_pop</th>\n",
       "    </tr>\n",
       "  </thead>\n",
       "  <tbody>\n",
       "    <tr>\n",
       "      <th>0</th>\n",
       "      <td>110001.0</td>\n",
       "      <td>201212.0</td>\n",
       "      <td>11591.0</td>\n",
       "      <td>Alta Floresta D'Oeste</td>\n",
       "      <td>NaN</td>\n",
       "    </tr>\n",
       "    <tr>\n",
       "      <th>1</th>\n",
       "      <td>110002.0</td>\n",
       "      <td>201212.0</td>\n",
       "      <td>29553.0</td>\n",
       "      <td>Ariquemes</td>\n",
       "      <td>NaN</td>\n",
       "    </tr>\n",
       "    <tr>\n",
       "      <th>2</th>\n",
       "      <td>110003.0</td>\n",
       "      <td>201212.0</td>\n",
       "      <td>2712.0</td>\n",
       "      <td>Cabixi</td>\n",
       "      <td>NaN</td>\n",
       "    </tr>\n",
       "    <tr>\n",
       "      <th>3</th>\n",
       "      <td>110004.0</td>\n",
       "      <td>201212.0</td>\n",
       "      <td>21749.0</td>\n",
       "      <td>Cacoal</td>\n",
       "      <td>NaN</td>\n",
       "    </tr>\n",
       "    <tr>\n",
       "      <th>4</th>\n",
       "      <td>110005.0</td>\n",
       "      <td>201212.0</td>\n",
       "      <td>6594.0</td>\n",
       "      <td>Cerejeiras</td>\n",
       "      <td>NaN</td>\n",
       "    </tr>\n",
       "  </tbody>\n",
       "</table>\n",
       "</div>"
      ],
      "text/plain": [
       "     ibge_6  referencia  total_pes_pob_e_ext_pob              municipio  \\\n",
       "0  110001.0    201212.0                  11591.0  Alta Floresta D'Oeste   \n",
       "1  110002.0    201212.0                  29553.0              Ariquemes   \n",
       "2  110003.0    201212.0                   2712.0                 Cabixi   \n",
       "3  110004.0    201212.0                  21749.0                 Cacoal   \n",
       "4  110005.0    201212.0                   6594.0             Cerejeiras   \n",
       "\n",
       "   total_pop  \n",
       "0        NaN  \n",
       "1        NaN  \n",
       "2        NaN  \n",
       "3        NaN  \n",
       "4        NaN  "
      ]
     },
     "execution_count": 291,
     "metadata": {},
     "output_type": "execute_result"
    }
   ],
   "source": [
    "censo_2010_cad_2012.head()"
   ]
  },
  {
   "cell_type": "code",
   "execution_count": 259,
   "id": "3fe3e12a-154d-401b-97b6-10adb7ead1fb",
   "metadata": {
    "tags": []
   },
   "outputs": [
    {
     "name": "stdout",
     "output_type": "stream",
     "text": [
      "<class 'pandas.core.frame.DataFrame'>\n",
      "RangeIndex: 5570 entries, 0 to 5569\n",
      "Data columns (total 5 columns):\n",
      " #   Column                   Non-Null Count  Dtype  \n",
      "---  ------                   --------------  -----  \n",
      " 0   ibge_6                   5570 non-null   int64  \n",
      " 1   referencia               5565 non-null   float64\n",
      " 2   total_pes_pob_e_ext_pob  5565 non-null   float64\n",
      " 3   municipio                5570 non-null   object \n",
      " 4   total_pop                5570 non-null   object \n",
      "dtypes: float64(2), int64(1), object(2)\n",
      "memory usage: 217.7+ KB\n"
     ]
    }
   ],
   "source": [
    "censo_2010_cad_2012.info()"
   ]
  },
  {
   "cell_type": "code",
   "execution_count": 274,
   "id": "6f2fb926-debb-4e06-b28f-fe9ec1ab7b1b",
   "metadata": {
    "tags": []
   },
   "outputs": [
    {
     "ename": "TypeError",
     "evalue": "unsupported operand type(s) for /: 'float' and 'str'",
     "output_type": "error",
     "traceback": [
      "\u001b[1;31m---------------------------------------------------------------------------\u001b[0m",
      "\u001b[1;31mTypeError\u001b[0m                                 Traceback (most recent call last)",
      "File \u001b[1;32m~\\miniconda3\\Lib\\site-packages\\pandas\\core\\ops\\array_ops.py:220\u001b[0m, in \u001b[0;36m_na_arithmetic_op\u001b[1;34m(left, right, op, is_cmp)\u001b[0m\n\u001b[0;32m    219\u001b[0m \u001b[38;5;28;01mtry\u001b[39;00m:\n\u001b[1;32m--> 220\u001b[0m     result \u001b[38;5;241m=\u001b[39m func(left, right)\n\u001b[0;32m    221\u001b[0m \u001b[38;5;28;01mexcept\u001b[39;00m \u001b[38;5;167;01mTypeError\u001b[39;00m:\n",
      "File \u001b[1;32m~\\miniconda3\\Lib\\site-packages\\pandas\\core\\computation\\expressions.py:242\u001b[0m, in \u001b[0;36mevaluate\u001b[1;34m(op, a, b, use_numexpr)\u001b[0m\n\u001b[0;32m    240\u001b[0m     \u001b[38;5;28;01mif\u001b[39;00m use_numexpr:\n\u001b[0;32m    241\u001b[0m         \u001b[38;5;66;03m# error: \"None\" not callable\u001b[39;00m\n\u001b[1;32m--> 242\u001b[0m         \u001b[38;5;28;01mreturn\u001b[39;00m _evaluate(op, op_str, a, b)  \u001b[38;5;66;03m# type: ignore[misc]\u001b[39;00m\n\u001b[0;32m    243\u001b[0m \u001b[38;5;28;01mreturn\u001b[39;00m _evaluate_standard(op, op_str, a, b)\n",
      "File \u001b[1;32m~\\miniconda3\\Lib\\site-packages\\pandas\\core\\computation\\expressions.py:73\u001b[0m, in \u001b[0;36m_evaluate_standard\u001b[1;34m(op, op_str, a, b)\u001b[0m\n\u001b[0;32m     72\u001b[0m     _store_test_result(\u001b[38;5;28;01mFalse\u001b[39;00m)\n\u001b[1;32m---> 73\u001b[0m \u001b[38;5;28;01mreturn\u001b[39;00m op(a, b)\n",
      "\u001b[1;31mTypeError\u001b[0m: unsupported operand type(s) for /: 'float' and 'str'",
      "\nDuring handling of the above exception, another exception occurred:\n",
      "\u001b[1;31mTypeError\u001b[0m                                 Traceback (most recent call last)",
      "Cell \u001b[1;32mIn[274], line 1\u001b[0m\n\u001b[1;32m----> 1\u001b[0m censo_2010_cad_2012[\u001b[38;5;124m'\u001b[39m\u001b[38;5;124mtx_pob_extpob\u001b[39m\u001b[38;5;124m'\u001b[39m] \u001b[38;5;241m=\u001b[39m censo_2010_cad_2012[\u001b[38;5;124m'\u001b[39m\u001b[38;5;124mtotal_pes_pob_e_ext_pob\u001b[39m\u001b[38;5;124m'\u001b[39m] \u001b[38;5;241m/\u001b[39m censo_2010_cad_2012 [\u001b[38;5;124m'\u001b[39m\u001b[38;5;124mtotal_pop\u001b[39m\u001b[38;5;124m'\u001b[39m]\n",
      "File \u001b[1;32m~\\miniconda3\\Lib\\site-packages\\pandas\\core\\ops\\common.py:76\u001b[0m, in \u001b[0;36m_unpack_zerodim_and_defer.<locals>.new_method\u001b[1;34m(self, other)\u001b[0m\n\u001b[0;32m     72\u001b[0m             \u001b[38;5;28;01mreturn\u001b[39;00m \u001b[38;5;28mNotImplemented\u001b[39m\n\u001b[0;32m     74\u001b[0m other \u001b[38;5;241m=\u001b[39m item_from_zerodim(other)\n\u001b[1;32m---> 76\u001b[0m \u001b[38;5;28;01mreturn\u001b[39;00m method(\u001b[38;5;28mself\u001b[39m, other)\n",
      "File \u001b[1;32m~\\miniconda3\\Lib\\site-packages\\pandas\\core\\arraylike.py:210\u001b[0m, in \u001b[0;36mOpsMixin.__truediv__\u001b[1;34m(self, other)\u001b[0m\n\u001b[0;32m    208\u001b[0m \u001b[38;5;129m@unpack_zerodim_and_defer\u001b[39m(\u001b[38;5;124m\"\u001b[39m\u001b[38;5;124m__truediv__\u001b[39m\u001b[38;5;124m\"\u001b[39m)\n\u001b[0;32m    209\u001b[0m \u001b[38;5;28;01mdef\u001b[39;00m \u001b[38;5;21m__truediv__\u001b[39m(\u001b[38;5;28mself\u001b[39m, other):\n\u001b[1;32m--> 210\u001b[0m     \u001b[38;5;28;01mreturn\u001b[39;00m \u001b[38;5;28mself\u001b[39m\u001b[38;5;241m.\u001b[39m_arith_method(other, operator\u001b[38;5;241m.\u001b[39mtruediv)\n",
      "File \u001b[1;32m~\\miniconda3\\Lib\\site-packages\\pandas\\core\\series.py:5815\u001b[0m, in \u001b[0;36mSeries._arith_method\u001b[1;34m(self, other, op)\u001b[0m\n\u001b[0;32m   5813\u001b[0m \u001b[38;5;28;01mdef\u001b[39;00m \u001b[38;5;21m_arith_method\u001b[39m(\u001b[38;5;28mself\u001b[39m, other, op):\n\u001b[0;32m   5814\u001b[0m     \u001b[38;5;28mself\u001b[39m, other \u001b[38;5;241m=\u001b[39m \u001b[38;5;28mself\u001b[39m\u001b[38;5;241m.\u001b[39m_align_for_op(other)\n\u001b[1;32m-> 5815\u001b[0m     \u001b[38;5;28;01mreturn\u001b[39;00m base\u001b[38;5;241m.\u001b[39mIndexOpsMixin\u001b[38;5;241m.\u001b[39m_arith_method(\u001b[38;5;28mself\u001b[39m, other, op)\n",
      "File \u001b[1;32m~\\miniconda3\\Lib\\site-packages\\pandas\\core\\base.py:1381\u001b[0m, in \u001b[0;36mIndexOpsMixin._arith_method\u001b[1;34m(self, other, op)\u001b[0m\n\u001b[0;32m   1378\u001b[0m     rvalues \u001b[38;5;241m=\u001b[39m np\u001b[38;5;241m.\u001b[39marange(rvalues\u001b[38;5;241m.\u001b[39mstart, rvalues\u001b[38;5;241m.\u001b[39mstop, rvalues\u001b[38;5;241m.\u001b[39mstep)\n\u001b[0;32m   1380\u001b[0m \u001b[38;5;28;01mwith\u001b[39;00m np\u001b[38;5;241m.\u001b[39merrstate(\u001b[38;5;28mall\u001b[39m\u001b[38;5;241m=\u001b[39m\u001b[38;5;124m\"\u001b[39m\u001b[38;5;124mignore\u001b[39m\u001b[38;5;124m\"\u001b[39m):\n\u001b[1;32m-> 1381\u001b[0m     result \u001b[38;5;241m=\u001b[39m ops\u001b[38;5;241m.\u001b[39marithmetic_op(lvalues, rvalues, op)\n\u001b[0;32m   1383\u001b[0m \u001b[38;5;28;01mreturn\u001b[39;00m \u001b[38;5;28mself\u001b[39m\u001b[38;5;241m.\u001b[39m_construct_result(result, name\u001b[38;5;241m=\u001b[39mres_name)\n",
      "File \u001b[1;32m~\\miniconda3\\Lib\\site-packages\\pandas\\core\\ops\\array_ops.py:285\u001b[0m, in \u001b[0;36marithmetic_op\u001b[1;34m(left, right, op)\u001b[0m\n\u001b[0;32m    281\u001b[0m     _bool_arith_check(op, left, right)  \u001b[38;5;66;03m# type: ignore[arg-type]\u001b[39;00m\n\u001b[0;32m    283\u001b[0m     \u001b[38;5;66;03m# error: Argument 1 to \"_na_arithmetic_op\" has incompatible type\u001b[39;00m\n\u001b[0;32m    284\u001b[0m     \u001b[38;5;66;03m# \"Union[ExtensionArray, ndarray[Any, Any]]\"; expected \"ndarray[Any, Any]\"\u001b[39;00m\n\u001b[1;32m--> 285\u001b[0m     res_values \u001b[38;5;241m=\u001b[39m _na_arithmetic_op(left, right, op)  \u001b[38;5;66;03m# type: ignore[arg-type]\u001b[39;00m\n\u001b[0;32m    287\u001b[0m \u001b[38;5;28;01mreturn\u001b[39;00m res_values\n",
      "File \u001b[1;32m~\\miniconda3\\Lib\\site-packages\\pandas\\core\\ops\\array_ops.py:229\u001b[0m, in \u001b[0;36m_na_arithmetic_op\u001b[1;34m(left, right, op, is_cmp)\u001b[0m\n\u001b[0;32m    221\u001b[0m \u001b[38;5;28;01mexcept\u001b[39;00m \u001b[38;5;167;01mTypeError\u001b[39;00m:\n\u001b[0;32m    222\u001b[0m     \u001b[38;5;28;01mif\u001b[39;00m \u001b[38;5;129;01mnot\u001b[39;00m is_cmp \u001b[38;5;129;01mand\u001b[39;00m (\n\u001b[0;32m    223\u001b[0m         left\u001b[38;5;241m.\u001b[39mdtype \u001b[38;5;241m==\u001b[39m \u001b[38;5;28mobject\u001b[39m \u001b[38;5;129;01mor\u001b[39;00m \u001b[38;5;28mgetattr\u001b[39m(right, \u001b[38;5;124m\"\u001b[39m\u001b[38;5;124mdtype\u001b[39m\u001b[38;5;124m\"\u001b[39m, \u001b[38;5;28;01mNone\u001b[39;00m) \u001b[38;5;241m==\u001b[39m \u001b[38;5;28mobject\u001b[39m\n\u001b[0;32m    224\u001b[0m     ):\n\u001b[1;32m   (...)\u001b[0m\n\u001b[0;32m    227\u001b[0m         \u001b[38;5;66;03m# Don't do this for comparisons, as that will handle complex numbers\u001b[39;00m\n\u001b[0;32m    228\u001b[0m         \u001b[38;5;66;03m#  incorrectly, see GH#32047\u001b[39;00m\n\u001b[1;32m--> 229\u001b[0m         result \u001b[38;5;241m=\u001b[39m _masked_arith_op(left, right, op)\n\u001b[0;32m    230\u001b[0m     \u001b[38;5;28;01melse\u001b[39;00m:\n\u001b[0;32m    231\u001b[0m         \u001b[38;5;28;01mraise\u001b[39;00m\n",
      "File \u001b[1;32m~\\miniconda3\\Lib\\site-packages\\pandas\\core\\ops\\array_ops.py:165\u001b[0m, in \u001b[0;36m_masked_arith_op\u001b[1;34m(x, y, op)\u001b[0m\n\u001b[0;32m    163\u001b[0m     \u001b[38;5;66;03m# See GH#5284, GH#5035, GH#19448 for historical reference\u001b[39;00m\n\u001b[0;32m    164\u001b[0m     \u001b[38;5;28;01mif\u001b[39;00m mask\u001b[38;5;241m.\u001b[39many():\n\u001b[1;32m--> 165\u001b[0m         result[mask] \u001b[38;5;241m=\u001b[39m op(xrav[mask], yrav[mask])\n\u001b[0;32m    167\u001b[0m \u001b[38;5;28;01melse\u001b[39;00m:\n\u001b[0;32m    168\u001b[0m     \u001b[38;5;28;01mif\u001b[39;00m \u001b[38;5;129;01mnot\u001b[39;00m is_scalar(y):\n",
      "\u001b[1;31mTypeError\u001b[0m: unsupported operand type(s) for /: 'float' and 'str'"
     ]
    }
   ],
   "source": [
    "censo_2010_cad_2012['tx_pob_extpob'] = censo_2010_cad_2012['total_pes_pob_e_ext_pob'] / censo_2010_cad_2012 ['total_pop']"
   ]
  },
  {
   "cell_type": "markdown",
   "id": "38e5084d-a992-47b4-9507-494da9bad970",
   "metadata": {},
   "source": [
    "## Fazendo um loop para calcular a diferença entre as taxas de Baixa Renda e Pobreza e entre Pobreza e Extrema Pobreza"
   ]
  },
  {
   "cell_type": "code",
   "execution_count": null,
   "id": "d4d26847-82af-40f4-b58a-48cb49b6ca91",
   "metadata": {
    "tags": []
   },
   "outputs": [],
   "source": [
    "df = pd.DataFrame(df_cad_2012_2023_fam_limpa_sel)\n",
    "\n",
    "# Encontre os valores únicos em 'ibge_6'\n",
    "valores_ibge_6 = df['ibge_6'].unique()\n",
    "\n",
    "# Crie um novo DataFrame para armazenar os resultados\n",
    "resultados = pd.DataFrame()\n",
    "\n",
    "# Loop pelos valores únicos em 'ibge_6'\n",
    "for ibge in valores_ibge_6:\n",
    "    df_ibge = df[df['ibge_6'] == ibge]\n",
    "    \n",
    "    # Filtrar os dados a partir de 2013\n",
    "    df_ibge = df_ibge[df_ibge['ano'] >= 2013]\n",
    "    \n",
    "    # Calcule as diferenças por ano para 'Perc_bx_renda' e 'Perc_pob'\n",
    "    df_ibge['Dif_Perc_bx_renda_pob'] = df_ibge['Perc_bx_renda'] - df_ibge['Perc_pob']\n",
    "    \n",
    "    # Calcule as diferenças por ano para 'Perc_pob' e 'Perc_ext_pob'\n",
    "    df_ibge['Dif_Perc_pob_ext_pob'] = df_ibge['Perc_pob'] - df_ibge['Perc_ext_pob']\n",
    "    \n",
    "    # Concatene os resultados no DataFrame final\n",
    "    resultados = pd.concat([resultados, df_ibge])\n"
   ]
  },
  {
   "cell_type": "code",
   "execution_count": null,
   "id": "fd7fb53b-54e6-4c7a-bcde-6c85dd36ea55",
   "metadata": {
    "tags": []
   },
   "outputs": [],
   "source": [
    "resultados"
   ]
  },
  {
   "cell_type": "code",
   "execution_count": null,
   "id": "3699ba99-8b11-4b9a-85b5-5dfe9638d9bd",
   "metadata": {
    "tags": []
   },
   "outputs": [],
   "source": [
    "resultados.columns"
   ]
  },
  {
   "cell_type": "code",
   "execution_count": null,
   "id": "6b9ee33c-2a19-4b2b-99c0-c1d6c2b8be5d",
   "metadata": {
    "tags": []
   },
   "outputs": [],
   "source": [
    "# Aplique a função de mapeamento às colunas selecionadas usando applymap\n",
    "resultados[['Dif_Perc_bx_renda_pob','Dif_Perc_pob_ext_pob']] = resultados[['Dif_Perc_bx_renda_pob','Dif_Perc_pob_ext_pob']].applymap(lambda valor: 1 if valor > 0 else 0)\n"
   ]
  },
  {
   "cell_type": "code",
   "execution_count": null,
   "id": "5e9011b6-564b-4bd7-831b-669226c437a8",
   "metadata": {
    "tags": []
   },
   "outputs": [],
   "source": [
    "resultados"
   ]
  },
  {
   "cell_type": "markdown",
   "id": "eaeb4288-0ad9-43ec-928e-2b28deab8350",
   "metadata": {
    "tags": []
   },
   "source": [
    "### Mapa da frequencia das mobildiade positiva de fax de renda por município ao longo do tempo"
   ]
  },
  {
   "cell_type": "code",
   "execution_count": null,
   "id": "c9703529-7bcf-4f07-af1b-b603dc4ccdfd",
   "metadata": {
    "tags": []
   },
   "outputs": [],
   "source": [
    "### ver script"
   ]
  },
  {
   "cell_type": "code",
   "execution_count": null,
   "id": "c5a1f150-7a64-4275-b61f-7a8e9daa5bd7",
   "metadata": {
    "tags": []
   },
   "outputs": [],
   "source": [
    "resultados.columns"
   ]
  },
  {
   "cell_type": "code",
   "execution_count": null,
   "id": "2350c10e-42ec-4eff-bdf3-5bcec5c5ced4",
   "metadata": {
    "tags": []
   },
   "outputs": [],
   "source": []
  },
  {
   "cell_type": "code",
   "execution_count": null,
   "id": "c3bc0470-d47d-4ff5-bffe-c606addaf4ab",
   "metadata": {
    "tags": []
   },
   "outputs": [],
   "source": [
    "frequencia_municipio.describe()"
   ]
  },
  {
   "cell_type": "code",
   "execution_count": null,
   "id": "6c4e49ff-8b8b-4e73-8e63-64d4ec2c0510",
   "metadata": {},
   "outputs": [],
   "source": [
    "#criando uma cópia segura dos dados\n",
    "resultados_df = resultados.copy()\n",
    "\n",
    "#criando dataframe com informações de georreferenciamento de municípios\n",
    "georreferenciamento_df = pd.read_csv('https://raw.githubusercontent.com/kelvins/Municipios-Brasileiros/main/csv/municipios.csv')\n",
    "\n",
    "#os dados de georreferenciamento tem 7 dígitos (vamos remover o dígito verificador e atualizar o dataframe)\n",
    "georreferenciamento_df['codigo_ibge'] = georreferenciamento_df['codigo_ibge'].astype('str').map(lambda x: x[:-1]).astype('int')\n",
    "\n",
    "#cruzamento do dataframe resultados com as informações de georreferenciamento\n",
    "resultados_df = pd.merge(resultados[['ibge_6', 'ano', 'Dif_Perc_bx_renda_pob']],\n",
    "                         georreferenciamento_df[['codigo_ibge', 'nome', 'latitude', 'longitude']],\n",
    "                         left_on='ibge_6',\n",
    "                         right_on='codigo_ibge',\n",
    "                         how='inner')\n",
    "\n",
    "#puxar a malha geográfica do brasil a nível de município\n",
    "import requests\n",
    "geojson = requests.get(f'http://servicodados.ibge.gov.br/api/v3/malhas/paises/BR?formato=application/vnd.geo+json&qualidade=minima&intrarregiao=municipio').json()\n",
    "\n",
    "#a malha geográfica do ibge tem 7 dígitos (vamos remover o dígito verificador e atualizar a malha)\n",
    "from geojson_rewind import rewind\n",
    "for feature in geojson['features']:\n",
    "    feature['properties']['codarea'] = feature['properties']['codarea'][:-1]\n",
    "geojson = rewind(geojson, rfc7946=False)\n",
    "\n",
    "#construir o mapa choroplético com timeline no campo de ano\n",
    "import plotly.express as px\n",
    "import plotly.io as pio\n",
    "pio.renderers.default = 'iframe'\n",
    "\n",
    "fig = px.choropleth(resultados_df,\n",
    "                    geojson=geojson,\n",
    "                    scope='south america',\n",
    "                    color='Dif_Perc_bx_renda_pob',\n",
    "                    color_continuous_scale=\"Reds\",\n",
    "                    locations='ibge_6',\n",
    "                    featureidkey='properties.codarea',\n",
    "                    hover_name='nome',\n",
    "                    animation_frame='ano').update_layout(height=800, width=1000, autosize=False)\n",
    "\n",
    "fig.show()"
   ]
  },
  {
   "cell_type": "code",
   "execution_count": null,
   "id": "6a653711-6bc0-468c-9019-5baa3dd7e6ad",
   "metadata": {},
   "outputs": [],
   "source": []
  }
 ],
 "metadata": {
  "kernelspec": {
   "display_name": "Python 3 (ipykernel)",
   "language": "python",
   "name": "python3"
  },
  "language_info": {
   "codemirror_mode": {
    "name": "ipython",
    "version": 3
   },
   "file_extension": ".py",
   "mimetype": "text/x-python",
   "name": "python",
   "nbconvert_exporter": "python",
   "pygments_lexer": "ipython3",
   "version": "3.11.4"
  }
 },
 "nbformat": 4,
 "nbformat_minor": 5
}
