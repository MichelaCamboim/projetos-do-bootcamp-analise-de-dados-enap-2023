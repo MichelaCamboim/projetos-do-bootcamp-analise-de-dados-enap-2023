{
 "cells": [
  {
   "cell_type": "code",
   "execution_count": 1,
   "id": "31f91232-2068-431a-9ca4-52731c246141",
   "metadata": {
    "tags": []
   },
   "outputs": [],
   "source": [
    "import pandas as pd"
   ]
  },
  {
   "cell_type": "code",
   "execution_count": 2,
   "id": "63b224f3-6e0f-4778-84c9-a828e1d8db91",
   "metadata": {
    "tags": []
   },
   "outputs": [],
   "source": [
    "url_pbf = 'https://aplicacoes.mds.gov.br/sagi/servicos/misocial/?fq=anomes_s:2023*&fl=codigo_ibge%2Canomes_s%2Cqtd_familias_beneficiarias_bolsa_familia_s%2Cvalor_repassado_bolsa_familia_s%2Cpbf_vlr_medio_benef_f&fq=valor_repassado_bolsa_familia_s%3A*&q=*%3A*&rows=100000&sort=anomes_s%20desc%2C%20codigo_ibge%20asc&wt=csv'"
   ]
  },
  {
   "cell_type": "code",
   "execution_count": 3,
   "id": "172c30ee-8eff-4d07-b378-cc2cfcc4d97a",
   "metadata": {
    "tags": []
   },
   "outputs": [],
   "source": [
    "pd_pbf_2023 = pd.read_csv(url_pbf, sep = \",\")"
   ]
  },
  {
   "cell_type": "code",
   "execution_count": 4,
   "id": "133dc587-0e02-4bde-b436-1e282f8c4b36",
   "metadata": {},
   "outputs": [
    {
     "data": {
      "text/html": [
       "<div>\n",
       "<style scoped>\n",
       "    .dataframe tbody tr th:only-of-type {\n",
       "        vertical-align: middle;\n",
       "    }\n",
       "\n",
       "    .dataframe tbody tr th {\n",
       "        vertical-align: top;\n",
       "    }\n",
       "\n",
       "    .dataframe thead th {\n",
       "        text-align: right;\n",
       "    }\n",
       "</style>\n",
       "<table border=\"1\" class=\"dataframe\">\n",
       "  <thead>\n",
       "    <tr style=\"text-align: right;\">\n",
       "      <th></th>\n",
       "      <th>codigo_ibge</th>\n",
       "      <th>anomes_s</th>\n",
       "      <th>qtd_familias_beneficiarias_bolsa_familia_s</th>\n",
       "      <th>valor_repassado_bolsa_familia_s</th>\n",
       "      <th>pbf_vlr_medio_benef_f</th>\n",
       "    </tr>\n",
       "  </thead>\n",
       "  <tbody>\n",
       "    <tr>\n",
       "      <th>0</th>\n",
       "      <td>110001</td>\n",
       "      <td>202310</td>\n",
       "      <td>1765</td>\n",
       "      <td>1213683.0</td>\n",
       "      <td>687.64</td>\n",
       "    </tr>\n",
       "    <tr>\n",
       "      <th>1</th>\n",
       "      <td>110002</td>\n",
       "      <td>202310</td>\n",
       "      <td>6573</td>\n",
       "      <td>4535509.0</td>\n",
       "      <td>690.02</td>\n",
       "    </tr>\n",
       "    <tr>\n",
       "      <th>2</th>\n",
       "      <td>110003</td>\n",
       "      <td>202310</td>\n",
       "      <td>319</td>\n",
       "      <td>212850.0</td>\n",
       "      <td>669.34</td>\n",
       "    </tr>\n",
       "    <tr>\n",
       "      <th>3</th>\n",
       "      <td>110004</td>\n",
       "      <td>202310</td>\n",
       "      <td>5968</td>\n",
       "      <td>4118652.0</td>\n",
       "      <td>690.12</td>\n",
       "    </tr>\n",
       "    <tr>\n",
       "      <th>4</th>\n",
       "      <td>110005</td>\n",
       "      <td>202310</td>\n",
       "      <td>1112</td>\n",
       "      <td>809881.0</td>\n",
       "      <td>728.31</td>\n",
       "    </tr>\n",
       "  </tbody>\n",
       "</table>\n",
       "</div>"
      ],
      "text/plain": [
       "   codigo_ibge  anomes_s  qtd_familias_beneficiarias_bolsa_familia_s  \\\n",
       "0       110001    202310                                        1765   \n",
       "1       110002    202310                                        6573   \n",
       "2       110003    202310                                         319   \n",
       "3       110004    202310                                        5968   \n",
       "4       110005    202310                                        1112   \n",
       "\n",
       "   valor_repassado_bolsa_familia_s  pbf_vlr_medio_benef_f  \n",
       "0                        1213683.0                 687.64  \n",
       "1                        4535509.0                 690.02  \n",
       "2                         212850.0                 669.34  \n",
       "3                        4118652.0                 690.12  \n",
       "4                         809881.0                 728.31  "
      ]
     },
     "execution_count": 4,
     "metadata": {},
     "output_type": "execute_result"
    }
   ],
   "source": [
    "pd_pbf_2023.head()"
   ]
  },
  {
   "cell_type": "code",
   "execution_count": 6,
   "id": "64270963-02dc-4af0-9612-34df64d7d2e1",
   "metadata": {
    "tags": []
   },
   "outputs": [
    {
     "data": {
      "text/plain": [
       "Index(['codigo_ibge', 'anomes_s', 'qtd_familias_beneficiarias_bolsa_familia_s',\n",
       "       'valor_repassado_bolsa_familia_s', 'pbf_vlr_medio_benef_f'],\n",
       "      dtype='object')"
      ]
     },
     "execution_count": 6,
     "metadata": {},
     "output_type": "execute_result"
    }
   ],
   "source": [
    "pd_pbf_2023.columns"
   ]
  },
  {
   "cell_type": "code",
   "execution_count": null,
   "id": "9892a65d-1591-4ae6-b727-5b3340c20cc7",
   "metadata": {
    "tags": []
   },
   "outputs": [],
   "source": [
    "pd_pbf_2023.groupby('anomes_s')['qtd_familias_beneficiarias_bolsa_familia_s'].sum()"
   ]
  },
  {
   "cell_type": "code",
   "execution_count": null,
   "id": "b838c291-deae-4230-8d7d-52079c6d1a96",
   "metadata": {},
   "outputs": [],
   "source": []
  }
 ],
 "metadata": {
  "kernelspec": {
   "display_name": "Python 3 (ipykernel)",
   "language": "python",
   "name": "python3"
  },
  "language_info": {
   "codemirror_mode": {
    "name": "ipython",
    "version": 3
   },
   "file_extension": ".py",
   "mimetype": "text/x-python",
   "name": "python",
   "nbconvert_exporter": "python",
   "pygments_lexer": "ipython3",
   "version": "3.11.4"
  }
 },
 "nbformat": 4,
 "nbformat_minor": 5
}
