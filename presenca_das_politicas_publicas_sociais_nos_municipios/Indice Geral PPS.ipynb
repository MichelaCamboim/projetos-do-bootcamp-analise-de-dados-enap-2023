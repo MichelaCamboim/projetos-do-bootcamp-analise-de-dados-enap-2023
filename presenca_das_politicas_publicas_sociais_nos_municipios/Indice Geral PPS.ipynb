{
 "cells": [
  {
   "cell_type": "code",
   "execution_count": null,
   "id": "af9945b3-e92d-4f17-bc24-bb25b46d7dc2",
   "metadata": {},
   "outputs": [],
   "source": []
  },
  {
   "cell_type": "code",
   "execution_count": 1,
   "id": "4c4cab57-16b0-43ea-b911-d4526fba38ae",
   "metadata": {},
   "outputs": [],
   "source": [
    "import pandas as pd"
   ]
  },
  {
   "cell_type": "code",
   "execution_count": 2,
   "id": "59554543-332f-48dc-b4be-8747196eddb3",
   "metadata": {},
   "outputs": [],
   "source": [
    "# Trazer bases\n",
    "caminho = \"data/IndiceGeral/\""
   ]
  },
  {
   "cell_type": "code",
   "execution_count": 3,
   "id": "04e17fd7-f109-4566-b64e-e7df9272a939",
   "metadata": {},
   "outputs": [
    {
     "data": {
      "text/html": [
       "<div>\n",
       "<style scoped>\n",
       "    .dataframe tbody tr th:only-of-type {\n",
       "        vertical-align: middle;\n",
       "    }\n",
       "\n",
       "    .dataframe tbody tr th {\n",
       "        vertical-align: top;\n",
       "    }\n",
       "\n",
       "    .dataframe thead th {\n",
       "        text-align: right;\n",
       "    }\n",
       "</style>\n",
       "<table border=\"1\" class=\"dataframe\">\n",
       "  <thead>\n",
       "    <tr style=\"text-align: right;\">\n",
       "      <th></th>\n",
       "      <th>ibge_6</th>\n",
       "      <th>cl_indice_bf</th>\n",
       "      <th>geral_bf</th>\n",
       "    </tr>\n",
       "  </thead>\n",
       "  <tbody>\n",
       "    <tr>\n",
       "      <th>0</th>\n",
       "      <td>110001</td>\n",
       "      <td>6</td>\n",
       "      <td>2.500000</td>\n",
       "    </tr>\n",
       "    <tr>\n",
       "      <th>1</th>\n",
       "      <td>110002</td>\n",
       "      <td>6</td>\n",
       "      <td>2.500000</td>\n",
       "    </tr>\n",
       "    <tr>\n",
       "      <th>2</th>\n",
       "      <td>110003</td>\n",
       "      <td>6</td>\n",
       "      <td>2.500000</td>\n",
       "    </tr>\n",
       "    <tr>\n",
       "      <th>3</th>\n",
       "      <td>110004</td>\n",
       "      <td>6</td>\n",
       "      <td>2.500000</td>\n",
       "    </tr>\n",
       "    <tr>\n",
       "      <th>4</th>\n",
       "      <td>110005</td>\n",
       "      <td>5</td>\n",
       "      <td>2.083333</td>\n",
       "    </tr>\n",
       "  </tbody>\n",
       "</table>\n",
       "</div>"
      ],
      "text/plain": [
       "   ibge_6  cl_indice_bf  geral_bf\n",
       "0  110001             6  2.500000\n",
       "1  110002             6  2.500000\n",
       "2  110003             6  2.500000\n",
       "3  110004             6  2.500000\n",
       "4  110005             5  2.083333"
      ]
     },
     "execution_count": 3,
     "metadata": {},
     "output_type": "execute_result"
    }
   ],
   "source": [
    "# Componente Bolsa Família\n",
    "indice_pbf_cadunico_geo = pd.read_csv(f'{caminho}pd_indice_pbf_cadunico_geo.csv', sep = \",\")\n",
    "pd_indice_pbf_cadunico_geo = pd.DataFrame(indice_pbf_cadunico_geo[['ibge_6', 'cl_indice_bf']])\n",
    "\n",
    "# Cálculo da contribuição do índice bolsa família para o índice geral\n",
    "pd_indice_pbf_cadunico_geo['geral_bf'] = pd_indice_pbf_cadunico_geo[['cl_indice_bf']]/6*2.5\n",
    "pd_indice_pbf_cadunico_geo.head()"
   ]
  },
  {
   "cell_type": "code",
   "execution_count": 12,
   "id": "33a34c94-cd54-4d7c-a304-2e46e0f2a3d9",
   "metadata": {},
   "outputs": [
    {
     "data": {
      "text/html": [
       "<div>\n",
       "<style scoped>\n",
       "    .dataframe tbody tr th:only-of-type {\n",
       "        vertical-align: middle;\n",
       "    }\n",
       "\n",
       "    .dataframe tbody tr th {\n",
       "        vertical-align: top;\n",
       "    }\n",
       "\n",
       "    .dataframe thead th {\n",
       "        text-align: right;\n",
       "    }\n",
       "</style>\n",
       "<table border=\"1\" class=\"dataframe\">\n",
       "  <thead>\n",
       "    <tr style=\"text-align: right;\">\n",
       "      <th></th>\n",
       "      <th>ibge_6</th>\n",
       "      <th>Classe</th>\n",
       "      <th>geral_bpc</th>\n",
       "    </tr>\n",
       "  </thead>\n",
       "  <tbody>\n",
       "    <tr>\n",
       "      <th>0</th>\n",
       "      <td>110001</td>\n",
       "      <td>4.0</td>\n",
       "      <td>0.909091</td>\n",
       "    </tr>\n",
       "    <tr>\n",
       "      <th>1</th>\n",
       "      <td>110002</td>\n",
       "      <td>9.0</td>\n",
       "      <td>2.045455</td>\n",
       "    </tr>\n",
       "    <tr>\n",
       "      <th>2</th>\n",
       "      <td>110003</td>\n",
       "      <td>2.0</td>\n",
       "      <td>0.454545</td>\n",
       "    </tr>\n",
       "    <tr>\n",
       "      <th>3</th>\n",
       "      <td>110004</td>\n",
       "      <td>8.0</td>\n",
       "      <td>1.818182</td>\n",
       "    </tr>\n",
       "    <tr>\n",
       "      <th>4</th>\n",
       "      <td>110005</td>\n",
       "      <td>4.0</td>\n",
       "      <td>0.909091</td>\n",
       "    </tr>\n",
       "  </tbody>\n",
       "</table>\n",
       "</div>"
      ],
      "text/plain": [
       "   ibge_6  Classe  geral_bpc\n",
       "0  110001     4.0   0.909091\n",
       "1  110002     9.0   2.045455\n",
       "2  110003     2.0   0.454545\n",
       "3  110004     8.0   1.818182\n",
       "4  110005     4.0   0.909091"
      ]
     },
     "execution_count": 12,
     "metadata": {},
     "output_type": "execute_result"
    }
   ],
   "source": [
    "# Componente BPC\n",
    "indice_bpc_geo = pd.read_csv(f'{caminho}pd_indice_bpc_geo.csv', sep = \",\")\n",
    "\n",
    "pd_indice_bpc_geo = pd.DataFrame(indice_bpc_geo[['ibge_6', 'Classe']])\n",
    "\n",
    "## Cálculo da contribuição do índice bolsa família para o índice geral\n",
    "pd_indice_bpc_geo['geral_bpc'] = pd_indice_bpc_geo[['Classe']]/11*2.5\n",
    "\n",
    "pd_indice_bpc_geo.head()"
   ]
  },
  {
   "cell_type": "code",
   "execution_count": 5,
   "id": "712e7817-9ad7-48c5-8bd0-688710639bd6",
   "metadata": {},
   "outputs": [
    {
     "data": {
      "text/html": [
       "<div>\n",
       "<style scoped>\n",
       "    .dataframe tbody tr th:only-of-type {\n",
       "        vertical-align: middle;\n",
       "    }\n",
       "\n",
       "    .dataframe tbody tr th {\n",
       "        vertical-align: top;\n",
       "    }\n",
       "\n",
       "    .dataframe thead th {\n",
       "        text-align: right;\n",
       "    }\n",
       "</style>\n",
       "<table border=\"1\" class=\"dataframe\">\n",
       "  <thead>\n",
       "    <tr style=\"text-align: right;\">\n",
       "      <th></th>\n",
       "      <th>ibge_6</th>\n",
       "      <th>Classe</th>\n",
       "      <th>geral_RMA</th>\n",
       "    </tr>\n",
       "  </thead>\n",
       "  <tbody>\n",
       "    <tr>\n",
       "      <th>0</th>\n",
       "      <td>110001</td>\n",
       "      <td>5</td>\n",
       "      <td>1.136364</td>\n",
       "    </tr>\n",
       "    <tr>\n",
       "      <th>1</th>\n",
       "      <td>110007</td>\n",
       "      <td>5</td>\n",
       "      <td>1.136364</td>\n",
       "    </tr>\n",
       "    <tr>\n",
       "      <th>2</th>\n",
       "      <td>110012</td>\n",
       "      <td>5</td>\n",
       "      <td>1.136364</td>\n",
       "    </tr>\n",
       "    <tr>\n",
       "      <th>3</th>\n",
       "      <td>110037</td>\n",
       "      <td>5</td>\n",
       "      <td>1.136364</td>\n",
       "    </tr>\n",
       "    <tr>\n",
       "      <th>4</th>\n",
       "      <td>110160</td>\n",
       "      <td>5</td>\n",
       "      <td>1.136364</td>\n",
       "    </tr>\n",
       "  </tbody>\n",
       "</table>\n",
       "</div>"
      ],
      "text/plain": [
       "   ibge_6  Classe  geral_RMA\n",
       "0  110001       5   1.136364\n",
       "1  110007       5   1.136364\n",
       "2  110012       5   1.136364\n",
       "3  110037       5   1.136364\n",
       "4  110160       5   1.136364"
      ]
     },
     "execution_count": 5,
     "metadata": {},
     "output_type": "execute_result"
    }
   ],
   "source": [
    "# Componente RMA\n",
    "pd_RMA_CRAS_geo = pd.read_csv(f'{caminho}dadosPorte_classe.csv', sep = \",\")\n",
    "pd_RMA_CRAS_geo = pd.DataFrame(pd_RMA_CRAS_geo[['ibge_6', 'Classe']])\n",
    "\n",
    "# Cálculo da contribuição do índice RMA para o índice geral\n",
    "pd_RMA_CRAS_geo['geral_RMA'] = pd_RMA_CRAS_geo[['Classe']]/11*2.5\n",
    "\n",
    "pd_RMA_CRAS_geo.head()"
   ]
  },
  {
   "cell_type": "code",
   "execution_count": 6,
   "id": "da0ab78f-106b-456e-9dd0-816a7b566111",
   "metadata": {},
   "outputs": [],
   "source": [
    "# Componente IGD_M\n"
   ]
  },
  {
   "cell_type": "code",
   "execution_count": 7,
   "id": "ed888ef2-16d0-4b87-bf53-601841f31fd0",
   "metadata": {},
   "outputs": [],
   "source": [
    "# Unificar bases"
   ]
  },
  {
   "cell_type": "code",
   "execution_count": 8,
   "id": "52bd08b8-095e-42fa-b224-04f9df3907bd",
   "metadata": {},
   "outputs": [],
   "source": [
    "# Calcular peso de cada índice"
   ]
  },
  {
   "cell_type": "code",
   "execution_count": 9,
   "id": "3b9e48fa-dd9f-41af-8152-704c7d24edd1",
   "metadata": {},
   "outputs": [],
   "source": [
    "# Calcular índice total"
   ]
  },
  {
   "cell_type": "code",
   "execution_count": 10,
   "id": "fc96796a-4c91-435d-8f7d-ad9a522ae7a7",
   "metadata": {},
   "outputs": [],
   "source": [
    "# Gráfico"
   ]
  },
  {
   "cell_type": "code",
   "execution_count": 11,
   "id": "e091cbf9-f28d-4de1-96b9-f7fcec171063",
   "metadata": {},
   "outputs": [],
   "source": [
    "# Mapa"
   ]
  }
 ],
 "metadata": {
  "kernelspec": {
   "display_name": "Python 3 (ipykernel)",
   "language": "python",
   "name": "python3"
  },
  "language_info": {
   "codemirror_mode": {
    "name": "ipython",
    "version": 3
   },
   "file_extension": ".py",
   "mimetype": "text/x-python",
   "name": "python",
   "nbconvert_exporter": "python",
   "pygments_lexer": "ipython3",
   "version": "3.11.6"
  }
 },
 "nbformat": 4,
 "nbformat_minor": 5
}
