{
 "cells": [
  {
   "cell_type": "code",
   "execution_count": null,
   "id": "af9945b3-e92d-4f17-bc24-bb25b46d7dc2",
   "metadata": {},
   "outputs": [],
   "source": []
  },
  {
   "cell_type": "code",
   "execution_count": 1,
   "id": "4c4cab57-16b0-43ea-b911-d4526fba38ae",
   "metadata": {},
   "outputs": [],
   "source": [
    "import pandas as pd"
   ]
  },
  {
   "cell_type": "code",
   "execution_count": 6,
   "id": "59554543-332f-48dc-b4be-8747196eddb3",
   "metadata": {},
   "outputs": [],
   "source": [
    "# Trazer bases\n",
    "caminho = \"data/IndiceGeral/\""
   ]
  },
  {
   "cell_type": "code",
   "execution_count": 29,
   "id": "04e17fd7-f109-4566-b64e-e7df9272a939",
   "metadata": {},
   "outputs": [
    {
     "data": {
      "text/html": [
       "<div>\n",
       "<style scoped>\n",
       "    .dataframe tbody tr th:only-of-type {\n",
       "        vertical-align: middle;\n",
       "    }\n",
       "\n",
       "    .dataframe tbody tr th {\n",
       "        vertical-align: top;\n",
       "    }\n",
       "\n",
       "    .dataframe thead th {\n",
       "        text-align: right;\n",
       "    }\n",
       "</style>\n",
       "<table border=\"1\" class=\"dataframe\">\n",
       "  <thead>\n",
       "    <tr style=\"text-align: right;\">\n",
       "      <th></th>\n",
       "      <th>ibge_6</th>\n",
       "      <th>cl_indice_bf</th>\n",
       "      <th>geral_bf</th>\n",
       "    </tr>\n",
       "  </thead>\n",
       "  <tbody>\n",
       "    <tr>\n",
       "      <th>0</th>\n",
       "      <td>110001</td>\n",
       "      <td>6</td>\n",
       "      <td>2.500000</td>\n",
       "    </tr>\n",
       "    <tr>\n",
       "      <th>1</th>\n",
       "      <td>110002</td>\n",
       "      <td>6</td>\n",
       "      <td>2.500000</td>\n",
       "    </tr>\n",
       "    <tr>\n",
       "      <th>2</th>\n",
       "      <td>110003</td>\n",
       "      <td>6</td>\n",
       "      <td>2.500000</td>\n",
       "    </tr>\n",
       "    <tr>\n",
       "      <th>3</th>\n",
       "      <td>110004</td>\n",
       "      <td>6</td>\n",
       "      <td>2.500000</td>\n",
       "    </tr>\n",
       "    <tr>\n",
       "      <th>4</th>\n",
       "      <td>110005</td>\n",
       "      <td>5</td>\n",
       "      <td>2.083333</td>\n",
       "    </tr>\n",
       "  </tbody>\n",
       "</table>\n",
       "</div>"
      ],
      "text/plain": [
       "   ibge_6  cl_indice_bf  geral_bf\n",
       "0  110001             6  2.500000\n",
       "1  110002             6  2.500000\n",
       "2  110003             6  2.500000\n",
       "3  110004             6  2.500000\n",
       "4  110005             5  2.083333"
      ]
     },
     "execution_count": 29,
     "metadata": {},
     "output_type": "execute_result"
    }
   ],
   "source": [
    "# Componente Bolsa Família\n",
    "indice_pbf_cadunico_geo = pd.read_csv(f'{caminho}pd_indice_pbf_cadunico_geo.csv', sep = \",\")\n",
    "pd_indice_pbf_cadunico_geo = pd.DataFrame(indice_pbf_cadunico_geo[['ibge_6', 'cl_indice_bf']])\n",
    "\n",
    "# Cálculo da contribuição do índice bolsa família para o índice geral\n",
    "pd_indice_pbf_cadunico_geo['geral_bf'] = pd_indice_pbf_cadunico_geo[['cl_indice_bf']]/6*2.5\n",
    "pd_indice_pbf_cadunico_geo.head()"
   ]
  },
  {
   "cell_type": "code",
   "execution_count": null,
   "id": "33a34c94-cd54-4d7c-a304-2e46e0f2a3d9",
   "metadata": {},
   "outputs": [],
   "source": [
    "# Componente BPC\n",
    "\n"
   ]
  },
  {
   "cell_type": "code",
   "execution_count": null,
   "id": "712e7817-9ad7-48c5-8bd0-688710639bd6",
   "metadata": {},
   "outputs": [],
   "source": [
    "# Componente RMA\n",
    "\n"
   ]
  },
  {
   "cell_type": "code",
   "execution_count": null,
   "id": "da0ab78f-106b-456e-9dd0-816a7b566111",
   "metadata": {},
   "outputs": [],
   "source": [
    "# Componente IGD_M\n"
   ]
  },
  {
   "cell_type": "code",
   "execution_count": null,
   "id": "ed888ef2-16d0-4b87-bf53-601841f31fd0",
   "metadata": {},
   "outputs": [],
   "source": [
    "# Unificar bases"
   ]
  },
  {
   "cell_type": "code",
   "execution_count": null,
   "id": "52bd08b8-095e-42fa-b224-04f9df3907bd",
   "metadata": {},
   "outputs": [],
   "source": [
    "# Calcular peso de cada índice"
   ]
  },
  {
   "cell_type": "code",
   "execution_count": null,
   "id": "3b9e48fa-dd9f-41af-8152-704c7d24edd1",
   "metadata": {},
   "outputs": [],
   "source": [
    "# Calcular índice total"
   ]
  },
  {
   "cell_type": "code",
   "execution_count": null,
   "id": "fc96796a-4c91-435d-8f7d-ad9a522ae7a7",
   "metadata": {},
   "outputs": [],
   "source": [
    "# Gráfico"
   ]
  },
  {
   "cell_type": "code",
   "execution_count": null,
   "id": "e091cbf9-f28d-4de1-96b9-f7fcec171063",
   "metadata": {},
   "outputs": [],
   "source": [
    "# Mapa"
   ]
  }
 ],
 "metadata": {
  "kernelspec": {
   "display_name": "Python 3 (ipykernel)",
   "language": "python",
   "name": "python3"
  },
  "language_info": {
   "codemirror_mode": {
    "name": "ipython",
    "version": 3
   },
   "file_extension": ".py",
   "mimetype": "text/x-python",
   "name": "python",
   "nbconvert_exporter": "python",
   "pygments_lexer": "ipython3",
   "version": "3.11.6"
  }
 },
 "nbformat": 4,
 "nbformat_minor": 5
}
