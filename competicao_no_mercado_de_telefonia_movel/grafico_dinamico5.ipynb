{
 "cells": [
  {
   "cell_type": "code",
   "execution_count": 1,
   "id": "53fe5abb-bcec-4d02-b74f-5dcebc274299",
   "metadata": {},
   "outputs": [],
   "source": [
    "# Chamar o arquivo df_cm_ddd:\n",
    "\n",
    "import pandas as pd\n",
    "resultados = pd.read_csv('./data/df_cm_ddd.csv', sep=';', encoding='utf-8')"
   ]
  },
  {
   "cell_type": "code",
   "execution_count": 2,
   "id": "c1e5577e-cc30-4fc1-b617-e8fde69aae75",
   "metadata": {
    "scrolled": true
   },
   "outputs": [],
   "source": [
    "# Transformações na base:\n",
    "\n",
    "resultados['media_ano'] = resultados['media_ano'].map(lambda x: float(x.replace(',', '.')))               # Trocar a vírgula por ponto para transformar o número em float\n",
    "resultados['Grupo Econômico'] = resultados['Grupo Econômico'].map(lambda x: str(x.replace('TELEFÔNICA', 'TELEFONICA')))  # Deixar todos TELEFONICA sem acento\n",
    "resultados = resultados[resultados['Grupo Econômico'] != '0']    # Retirar o grupo econômico = 0"
   ]
  },
  {
   "cell_type": "code",
   "execution_count": 3,
   "id": "9aee3164-f55d-45ff-bcde-95282f2e79aa",
   "metadata": {},
   "outputs": [],
   "source": [
    "# Todas as outras operadoras serão \"OUTROS\"\n",
    "\n",
    "# Crie um dicionário com as substituições desejadas\n",
    "substituicoes = {\n",
    "    'DATORA': 'OUTROS',\n",
    "    'NEXTEL': 'OUTROS',\n",
    "    'PORTO SEGURO': 'OUTROS',\n",
    "    'UNICEL': 'OUTROS',\n",
    "    'ALGAR (CTBC TELECOM)': 'OUTROS',\n",
    "    'PREFEITURA DE LONDRINA/COPEL': 'OUTROS',\n",
    "    'LIGGA TELECOM': 'OUTROS',\n",
    "    'AMERICA NET': 'OUTROS',\n",
    "    'SURF TELECOM': 'OUTROS',\n",
    "    'EB FIBRA': 'OUTROS',\n",
    "    'UNIFIQUE': 'OUTROS'\n",
    "}\n",
    "\n",
    "# Use a função replace() para aplicar as substituições ao DataFrame\n",
    "resultados['Grupo Econômico'] = resultados['Grupo Econômico'].replace(substituicoes)"
   ]
  },
  {
   "cell_type": "code",
   "execution_count": 4,
   "id": "230df6fd-cc88-441f-b937-08125f48e809",
   "metadata": {},
   "outputs": [],
   "source": [
    "# resultados.info()"
   ]
  },
  {
   "cell_type": "code",
   "execution_count": 5,
   "id": "f9a0d562-8436-443a-b9c9-b8b58a3f1d7d",
   "metadata": {},
   "outputs": [],
   "source": [
    "# resultados['Grupo Econômico'].unique()"
   ]
  },
  {
   "cell_type": "code",
   "execution_count": 6,
   "id": "633e0e3c-1822-4390-8d40-a5cf53987f35",
   "metadata": {},
   "outputs": [],
   "source": [
    "# Escolher a operadora e dar o nome para o arquivo que será gerado no final\n",
    "escolha_grupo = 'OI'\n",
    "nome_arquivo_pkl = 'mapa_Oi.pkl'\n",
    "resultados = resultados[resultados['Grupo Econômico'] == escolha_grupo]\n",
    "\n",
    "# OI - 'mapa_Oi.pkl'\n",
    "# TELEFONICA - mapa_Telefonica_Vivo.pkl\n",
    "# TELECOM AMERICAS - 'mapa_TelecomAmericas_Claro.pkl'\n",
    "# TELECOM ITALIA - 'mapa_TelecomItalia_Tim.pkl'\n",
    "# OUTROS - 'mapa_Outros.pkl'"
   ]
  },
  {
   "cell_type": "code",
   "execution_count": 7,
   "id": "98145442-6eed-4ccc-98df-0e0008afbacd",
   "metadata": {},
   "outputs": [],
   "source": [
    "#criando dataframe com informações de georreferenciamento de municípios\n",
    "georreferenciamento_df = pd.read_csv('https://raw.githubusercontent.com/kelvins/Municipios-Brasileiros/main/csv/municipios.csv')\n",
    "\n",
    "#os dados de georreferenciamento tem 7 dígitos (vamos remover o dígito verificador e atualizar o dataframe)\n",
    "georreferenciamento_df['codigo_ibge'] = georreferenciamento_df['codigo_ibge']//10"
   ]
  },
  {
   "cell_type": "code",
   "execution_count": 8,
   "id": "ab3ae4ea-2e19-4d01-b34d-de2bacaf7b63",
   "metadata": {},
   "outputs": [],
   "source": [
    "# georreferenciamento_df.head()"
   ]
  },
  {
   "cell_type": "code",
   "execution_count": 9,
   "id": "842a50eb-93f3-4780-9470-f579c35b6d27",
   "metadata": {},
   "outputs": [],
   "source": [
    "#cruzamento do dataframe resultados com as informações de georreferenciamento\n",
    "resultados_df = pd.merge(resultados[['Código Nacional', 'ano', 'media_ano']],\n",
    "                         georreferenciamento_df[['ddd', 'nome', 'codigo_ibge', 'codigo_uf', 'latitude', 'longitude']],\n",
    "                         left_on='Código Nacional',\n",
    "                         right_on='ddd',\n",
    "                         how='inner')"
   ]
  },
  {
   "cell_type": "code",
   "execution_count": 10,
   "id": "b2001a2c-c63c-4682-bfdf-f633af3ad7d4",
   "metadata": {},
   "outputs": [],
   "source": [
    "# resultados_df.head()"
   ]
  },
  {
   "cell_type": "code",
   "execution_count": 11,
   "id": "06d03ca2-2f27-46a9-a3ce-0543b9268800",
   "metadata": {},
   "outputs": [],
   "source": [
    "#puxar a malha geográfica do brasil a nível de município\n",
    "import requests\n",
    "geojson = requests.get(f'http://servicodados.ibge.gov.br/api/v3/malhas/paises/BR?formato=application/vnd.geo+json&qualidade=minima&intrarregiao=municipio').json()\n",
    "\n",
    "#a malha geográfica do ibge tem 7 dígitos (vamos remover o dígito verificador e atualizar a malha)\n",
    "from geojson_rewind import rewind\n",
    "for feature in geojson['features']:\n",
    "    feature['properties']['codarea'] = feature['properties']['codarea'][:-1]\n",
    "geojson = rewind(geojson, rfc7946=False)"
   ]
  },
  {
   "cell_type": "code",
   "execution_count": 12,
   "id": "bcb48603-487d-4af5-9837-557d1d60fa60",
   "metadata": {},
   "outputs": [],
   "source": [
    "# Função para encontrar o valor mínimo de todos os máximos da média_ano. Isto é usado para fixar a escala do mapa\n",
    "\n",
    "max_min = resultados_df.groupby('ano').agg({'media_ano':'max'}).min().values[0]\n",
    "resultados_df['media_ano'] = resultados_df['media_ano'].map(lambda x:max_min if x > max_min else x)"
   ]
  },
  {
   "cell_type": "code",
   "execution_count": 13,
   "id": "aee84a2b-ab1a-47b0-981d-bed4f727ac18",
   "metadata": {},
   "outputs": [],
   "source": [
    "# Função para colocar diferentes cores nos mapas conforme seleção do grupo econômico\n",
    "\n",
    "def cor_grupos(escolha_grupo):\n",
    "    if escolha_grupo == 'TELECOM AMERICAS':\n",
    "        result = 'amp'\n",
    "    elif escolha_grupo == 'TELECOM ITALIA':\n",
    "        result = 'ice_r'\n",
    "    elif escolha_grupo == 'TELEFONICA':\n",
    "        result = 'Purp'\n",
    "    elif escolha_grupo == 'OI':\n",
    "        result = 'ylgn'\n",
    "    else:\n",
    "        result = 'gray_r'      # gray_r para fazer a escala de cinzas invertido\n",
    "    return result\n"
   ]
  },
  {
   "cell_type": "code",
   "execution_count": 14,
   "id": "e64e871b-e15b-472a-92c9-5825f9d3988e",
   "metadata": {},
   "outputs": [
    {
     "data": {
      "text/html": [
       "<iframe\n",
       "    scrolling=\"no\"\n",
       "    width=\"1020px\"\n",
       "    height=\"820\"\n",
       "    src=\"iframe_figures/figure_14.html\"\n",
       "    frameborder=\"0\"\n",
       "    allowfullscreen\n",
       "></iframe>\n"
      ]
     },
     "metadata": {},
     "output_type": "display_data"
    }
   ],
   "source": [
    "#construir o mapa choroplético com timeline no campo de ano\n",
    "\n",
    "import plotly.express as px\n",
    "import plotly.io as pio\n",
    "pio.renderers.default = 'iframe'\n",
    "\n",
    "fig = px.choropleth(resultados_df,\n",
    "                    geojson=geojson,\n",
    "                    # scope='south america',\n",
    "                    color='media_ano',\n",
    "                    color_continuous_scale=cor_grupos(escolha_grupo),\n",
    "                    locations='codigo_ibge',\n",
    "                    featureidkey='properties.codarea',\n",
    "                    hover_name='nome',\n",
    "                    animation_frame='ano')\n",
    "\n",
    "fig.update_layout(height=800, width=1000, autosize=False,)\n",
    "fig.update_geos(fitbounds = \"locations\", visible = False)\n",
    "fig.update_traces(marker_line_width=0.05)\n",
    "\n",
    "fig.show();"
   ]
  },
  {
   "cell_type": "code",
   "execution_count": 15,
   "id": "127ec74d-92c3-40cc-b68b-2b348475dc28",
   "metadata": {},
   "outputs": [],
   "source": [
    "# # Construir gráficos em formato pickle para levar para o streamlit\n",
    "\n",
    "# import pickle\n",
    "# # nome_arquivo_pkl foi definido lá em cima quando escolhemos a operadora\n",
    "# with open (nome_arquivo_pkl, 'wb') as pickle_file:\n",
    "#     pickle.dump(fig, pickle_file)"
   ]
  },
  {
   "cell_type": "code",
   "execution_count": 16,
   "id": "24769388-49db-4a9c-921a-f4efba827ab9",
   "metadata": {},
   "outputs": [],
   "source": [
    "# # Para zipar os arquivos pickel\n",
    "\n",
    "# import gzip\n",
    "\n",
    "# # Use gzip para criar um arquivo compactado (zipado) com extensão .gz\n",
    "# with gzip.open(nome_arquivo_pkl + '.gz', 'wb') as f:\n",
    "#     pickle.dump(fig, f)"
   ]
  },
  {
   "cell_type": "code",
   "execution_count": null,
   "id": "aa8227cd-d54c-41dd-9ef3-d6530c53d2f0",
   "metadata": {},
   "outputs": [],
   "source": []
  }
 ],
 "metadata": {
  "kernelspec": {
   "display_name": "Python 3 (ipykernel)",
   "language": "python",
   "name": "python3"
  },
  "language_info": {
   "codemirror_mode": {
    "name": "ipython",
    "version": 3
   },
   "file_extension": ".py",
   "mimetype": "text/x-python",
   "name": "python",
   "nbconvert_exporter": "python",
   "pygments_lexer": "ipython3",
   "version": "3.11.5"
  }
 },
 "nbformat": 4,
 "nbformat_minor": 5
}
