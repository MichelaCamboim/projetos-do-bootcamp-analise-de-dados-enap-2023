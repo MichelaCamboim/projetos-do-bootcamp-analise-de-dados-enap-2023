{
 "cells": [
  {
   "cell_type": "markdown",
   "id": "b12aafdf-7271-4c1a-b7fb-b7adeb259c98",
   "metadata": {},
   "source": [
    "![image.png](imagens/1.png)"
   ]
  },
  {
   "cell_type": "markdown",
   "id": "b30d40eb-dd56-4559-aca3-4509266fe353",
   "metadata": {},
   "source": [
    "![image.png](imagens/2.png)"
   ]
  },
  {
   "cell_type": "markdown",
   "id": "cde7b98d-4c2f-4659-9272-d109e7afd900",
   "metadata": {},
   "source": [
    "![image.png](imagens/3.png)"
   ]
  },
  {
   "cell_type": "markdown",
   "id": "774dc94f-d926-42a0-bd1c-2ef36bdd9936",
   "metadata": {},
   "source": [
    "* Hoje, o Balanço Patrimonial é uma das Demonstrações Contábeis que compõe o Balanço do Setor Público Nacional (BSPN)"
   ]
  },
  {
   "cell_type": "markdown",
   "id": "4c785d61-1f74-49b4-9ff9-f3884246ff4a",
   "metadata": {},
   "source": [
    "* Segundo mensagem do Secretário do Tesouro Nacional:\n",
    "    * O Balanço do Setor Público Nacional (BSPN) é uma publicação anual que apresenta as contas consolidadas da Federação Brasileira. Congrega as contas de todos os poderes (Executivo, Legislativo e Judiciário), incluindo também o Ministério Público e a Defensoria Pública, e contempla as esferas Federal, Estadual, Distrital e Municipal. É uma das poucas publicações no mundo que se propõe a realizar uma ampla consolidação de todas as esferas de governo de um país.\n",
    "    * Prevista inicialmente no art. 51 da Lei Complementar no 101/2000 (Lei de Responsabilidade Fiscal – LRF), a consolidação das contas públicas é realizada pela Secretaria do Tesouro Nacional e publicada até o dia 30 de junho (Balanço do Setor Público Nacional 2023 – Ano base 2022, p. 6)."
   ]
  },
  {
   "cell_type": "markdown",
   "id": "6f570181-4e68-46e7-8886-07b9bea7f44c",
   "metadata": {},
   "source": [
    "![image.png](imagens/PB_BSPN2023-base2022.png)"
   ]
  },
  {
   "cell_type": "markdown",
   "id": "e51efd97-0b0d-415c-85a5-23b8b16f7adf",
   "metadata": {},
   "source": [
    "![image.png](imagens/4.png)"
   ]
  },
  {
   "cell_type": "markdown",
   "id": "ffc34f9c-44fd-4c02-88fb-7508bd6f5aa5",
   "metadata": {},
   "source": [
    "![image.png](imagens/PB_MatrizSiteSiconfi.png)"
   ]
  },
  {
   "cell_type": "markdown",
   "id": "5d2e346f-c2e5-4144-a3ce-ce9f9113d922",
   "metadata": {},
   "source": [
    "![image.png](imagens/BSPN2022.png)"
   ]
  },
  {
   "cell_type": "markdown",
   "id": "25c051b8-85c6-418a-bb8b-a9e13e67df09",
   "metadata": {},
   "source": [
    "![image.png](imagens/5.png)"
   ]
  },
  {
   "cell_type": "markdown",
   "id": "0a771f71-51cf-476b-bfbb-967502e32f9b",
   "metadata": {},
   "source": [
    "![image.png](imagens/PB_swagger_api01.png)"
   ]
  },
  {
   "cell_type": "markdown",
   "id": "44618cdf-fef9-4d7a-9f05-fe4d5cb31acb",
   "metadata": {},
   "source": [
    "![image.png](imagens/PB_swagger_api02.png)"
   ]
  },
  {
   "cell_type": "markdown",
   "id": "49bf41da-5b25-4754-b8cb-943d920db813",
   "metadata": {},
   "source": [
    "![image.png](imagens/6.png)"
   ]
  },
  {
   "cell_type": "markdown",
   "id": "fee46195-a668-472e-9b3d-8e7406bd94c8",
   "metadata": {},
   "source": [
    "![image.png](imagens/7.png)"
   ]
  },
  {
   "cell_type": "markdown",
   "id": "2a99e9be-d213-48b3-afa0-f91fd6d92fc4",
   "metadata": {},
   "source": [
    "### Exemplo dos Quadros dos Balanços Patrimoniais dos anos 2022/2021/2020/2019 construídos a partir das Matrizes de Saldos Contábeis (MSC) da API, gerando série histórica."
   ]
  },
  {
   "cell_type": "markdown",
   "id": "fa30500b-d852-4c12-8145-b1c8d51e075a",
   "metadata": {},
   "source": [
    "![image.png](imagens/PB_QuadroBalancoFinal.png)"
   ]
  },
  {
   "cell_type": "markdown",
   "id": "d5f9a5c4-4559-4b58-91c1-579feb89233a",
   "metadata": {},
   "source": [
    "### Visualização dos Dados "
   ]
  },
  {
   "cell_type": "markdown",
   "id": "808a57a3-ffe7-4cd1-a285-d7ea81f21f09",
   "metadata": {},
   "source": [
    "![image.png](imagens/PB_SerieHistorica.png)"
   ]
  },
  {
   "cell_type": "markdown",
   "id": "806c5908-e479-4d8f-8250-c91a3b4fd9d4",
   "metadata": {},
   "source": [
    "![image.png](imagens/PB_SerieHistoricaConta01.png)"
   ]
  },
  {
   "cell_type": "markdown",
   "id": "1c4145ab-51f0-40d5-b1d4-9f4fadd3fa13",
   "metadata": {},
   "source": [
    "![image.png](imagens/PB_SerieHistoricaConta02.png)"
   ]
  },
  {
   "cell_type": "markdown",
   "id": "667226ab-a2e8-4c50-ad1c-172db0eae015",
   "metadata": {},
   "source": [
    "![image.png](imagens/PB_TreemapHierarquico.png)"
   ]
  },
  {
   "cell_type": "markdown",
   "id": "426d89b1-b007-48dd-af5b-c44a43910e4b",
   "metadata": {},
   "source": [
    "### Registro e organização da documentação das funções utilizadas"
   ]
  },
  {
   "cell_type": "markdown",
   "id": "5c3ce3c4-a0e1-4f7b-b485-e39fb5d41068",
   "metadata": {},
   "source": [
    "![image.png](imagens/PB_doc1.png)"
   ]
  },
  {
   "cell_type": "markdown",
   "id": "c814a598-8b67-4ab3-98e2-f4f2ccb93c8f",
   "metadata": {},
   "source": [
    "![image.png](imagens/PB_doc2.png)"
   ]
  },
  {
   "cell_type": "markdown",
   "id": "3f42ddaa-051f-409a-9da3-2e058cafde83",
   "metadata": {},
   "source": [
    "![image.png](imagens/PB_doc3.png)"
   ]
  },
  {
   "cell_type": "markdown",
   "id": "8f666b29-44d2-48a5-b766-32672549709a",
   "metadata": {},
   "source": [
    "![image.png](imagens/PB_doc4.png)"
   ]
  },
  {
   "cell_type": "markdown",
   "id": "f7f387dd-d5b7-44cd-b7b4-3ecc8e4e9bfc",
   "metadata": {},
   "source": [
    "![image.png](imagens/PB_doc5.png)"
   ]
  },
  {
   "cell_type": "markdown",
   "id": "7c061757-6877-4c38-a8e9-4dc89a4caab4",
   "metadata": {},
   "source": [
    "![image.png](imagens/PB_doc6.png)"
   ]
  },
  {
   "cell_type": "markdown",
   "id": "53b3ce6c-9a6f-4bb2-952e-1c5706c9be6e",
   "metadata": {},
   "source": [
    "![image.png](imagens/PB_doc7.png)"
   ]
  },
  {
   "cell_type": "markdown",
   "id": "960b35a9-4889-44d5-86e3-94f23446ca9c",
   "metadata": {},
   "source": [
    "![image.png](imagens/PB_doc8.png)"
   ]
  },
  {
   "cell_type": "markdown",
   "id": "c388347d-a12a-4e04-8181-cd8cabd04c1c",
   "metadata": {},
   "source": [
    "![image.png](imagens/PB_doc9.png)"
   ]
  },
  {
   "cell_type": "markdown",
   "id": "a6e18878-2205-4d11-aa50-449351a5c136",
   "metadata": {},
   "source": [
    "![image.png](imagens/PB_doc10.png)"
   ]
  },
  {
   "cell_type": "markdown",
   "id": "07cdb5ac-2f37-4eb0-8937-c5e03c7344ac",
   "metadata": {},
   "source": [
    "![image.png](imagens/PB_doc11.png)"
   ]
  },
  {
   "cell_type": "markdown",
   "id": "d2f8e59c-f8eb-4abf-b9ef-4e2d57f8d74e",
   "metadata": {},
   "source": [
    "![image.png](imagens/PB_doc12.png)"
   ]
  },
  {
   "cell_type": "markdown",
   "id": "260a6cc0-df34-48ca-afe9-3663314dd035",
   "metadata": {},
   "source": [
    "![image.png](imagens/PB_doc13.png)"
   ]
  },
  {
   "cell_type": "markdown",
   "id": "4952ab65-1e12-497c-8297-d2b15ed54d42",
   "metadata": {},
   "source": [
    "![image.png](imagens/PB_doc14.png)"
   ]
  },
  {
   "cell_type": "markdown",
   "id": "92a5e6e2-ff06-408d-aadd-7db1e572b519",
   "metadata": {},
   "source": [
    "![image.png](imagens/8.png)"
   ]
  },
  {
   "cell_type": "markdown",
   "id": "ac9b7445-2855-4315-a34e-a2a9c578b7b9",
   "metadata": {},
   "source": [
    "![image.png](imagens/12.png)"
   ]
  },
  {
   "cell_type": "markdown",
   "id": "b7c74afe-04f2-411f-9d54-6d97d759cfc9",
   "metadata": {},
   "source": [
    "![image.png](imagens/9.png)"
   ]
  },
  {
   "cell_type": "markdown",
   "id": "19c0447f-80d2-4eac-9984-e5c32bcbaddc",
   "metadata": {},
   "source": [
    "![image.png](imagens/10.png)"
   ]
  }
 ],
 "metadata": {
  "kernelspec": {
   "display_name": "Python 3 (ipykernel)",
   "language": "python",
   "name": "python3"
  },
  "language_info": {
   "codemirror_mode": {
    "name": "ipython",
    "version": 3
   },
   "file_extension": ".py",
   "mimetype": "text/x-python",
   "name": "python",
   "nbconvert_exporter": "python",
   "pygments_lexer": "ipython3",
   "version": "3.11.5"
  }
 },
 "nbformat": 4,
 "nbformat_minor": 5
}
