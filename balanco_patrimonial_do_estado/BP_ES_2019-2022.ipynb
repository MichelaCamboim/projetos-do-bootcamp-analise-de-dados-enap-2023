{
 "cells": [
  {
   "cell_type": "markdown",
   "id": "af1192f6-25fa-44ba-b972-8847acdcd0d3",
   "metadata": {},
   "source": [
    "# Balanço Patrimonial do Estado do Espírito Santo 🏢"
   ]
  },
  {
   "cell_type": "markdown",
   "id": "704783a7-2996-4821-88ca-cd3f7a943b53",
   "metadata": {},
   "source": [
    "### Projeto desenvolvido no Curso Bootcamp Análise de Dados 2023, promovido pela ENAP\n",
    "#### Equipe:\n",
    "* Ana Paula Giancoli\n",
    "* Eugênia Giancoli\n",
    "* Gislaine Messias\n",
    "* Mariana Hermínia"
   ]
  },
  {
   "cell_type": "markdown",
   "id": "d9ac1edc-faee-4579-a8eb-6ab959568840",
   "metadata": {},
   "source": [
    "### Importando as bibliotecas"
   ]
  },
  {
   "cell_type": "code",
   "execution_count": 1,
   "id": "cace5e99-a772-4b8e-8ca2-c19f6ac0d223",
   "metadata": {},
   "outputs": [],
   "source": [
    "import numpy as np\n",
    "import os, csv, pandas as pd\n",
    "from datetime import date\n",
    "import requests\n",
    "import time\n",
    "import streamlit as st\n",
    "import warnings\n",
    "warnings.filterwarnings('ignore')\n",
    "import seaborn as sns\n",
    "import plotly.express as px\n",
    "import plotly.io as pio\n",
    "from sklearn import preprocessing"
   ]
  },
  {
   "cell_type": "markdown",
   "id": "25b764b7-0058-4bf3-b2b7-72dde48f8981",
   "metadata": {
    "tags": []
   },
   "source": [
    "### Função de carregamento da pasta do projeto"
   ]
  },
  {
   "cell_type": "code",
   "execution_count": 2,
   "id": "a8b9ab00-e37c-4f91-8e1d-6a3e6b492375",
   "metadata": {},
   "outputs": [],
   "source": [
    "def build_path(subfolder = 'data'):\n",
    "    folderpath = os.path.join(os.getcwd(), \n",
    "                              'projeto', subfolder)\n",
    "    folderpath = os.path.abspath(folderpath)\n",
    "    if not os.path.exists(folderpath): \n",
    "        os.makedirs(folderpath)\n",
    "    return folderpath"
   ]
  },
  {
   "cell_type": "markdown",
   "id": "83feafc5-264f-4896-b500-8209c156af89",
   "metadata": {},
   "source": [
    "### Função de carregamento da Planilha PCASP - Plano de Contas aplicado ao Setor Público\n",
    "* Selecionando o arquivo excel de nome: CPU_PCASP_2022.xlsx\n",
    "* Selecionando a planilha de nome: Federação 2022\n",
    "\n",
    "###### Observações: \n",
    "* É necessário copiar o arquivo de Plano de Contas para dentro da pasta do projeto com o nome CPU_PCASP_2022.xls.\n",
    "* A linha @st.cahce_data deve ser descomentada somente no arquivo.py para ser executada."
   ]
  },
  {
   "cell_type": "code",
   "execution_count": 3,
   "id": "69a8af6e-060c-4b23-82ea-d3e21b93c6a8",
   "metadata": {
    "tags": []
   },
   "outputs": [],
   "source": [
    "#@st.cache_data\n",
    "def get_dados_pcasp(\n",
    "        filename='CPU_PCASP_2022.xlsx'):\n",
    "    filepath = os.path.join(build_path(), filename)\n",
    "    return pd.read_excel(filepath, sheet_name= 'Federação 2022')"
   ]
  },
  {
   "cell_type": "markdown",
   "id": "a9673001-c6c2-403d-b50b-f7599575d346",
   "metadata": {
    "tags": []
   },
   "source": [
    "### Função de carregamento da Matriz de Saldos Contábeis"
   ]
  },
  {
   "cell_type": "code",
   "execution_count": 4,
   "id": "7384f7f8-55a6-4b2a-95bb-f34a5247f6bc",
   "metadata": {},
   "outputs": [],
   "source": [
    "#@st.cache_data\n",
    "def get_dados_instancia(filename='instancia_MSC_API.csv'):\n",
    "    filepath = os.path.join(build_path(), filename)\n",
    "    return pd.read_csv(filepath, sep=';')"
   ]
  },
  {
   "cell_type": "markdown",
   "id": "472e81d2-f0a6-4bb1-b80a-1231cae5b1b6",
   "metadata": {},
   "source": [
    "### Função de download da Matriz de Saldos Contábeis do site do SICONFI de 2019 a 2022 e do ente 32, que é o Estado do Espírito Santo\n",
    "* Mês de referência é o mês 12.\n",
    "* Ente Federativo é o código 32, que se refere ao Estado do Espírito Santo.\n",
    "* Tipo de matriz é Matriz de encerramento MSCE.\n",
    "* Classe de contas: tipos 1 e 2.\n",
    "* Tipo do valor é o ending_balance.\n",
    "\n",
    "###### Observação:\n",
    "* Verificar a documentação disponível em [Swagger-API](https://apidatalake.tesouro.gov.br/docs/siconfi/#/MSC%20-%20Patrimonial/get_msc_patrimonial)."
   ]
  },
  {
   "cell_type": "code",
   "execution_count": 5,
   "id": "462bc4d5-0851-4dd6-8ab3-fab4dd74c292",
   "metadata": {},
   "outputs": [],
   "source": [
    "def download_matriz(id_ente, ano_referencia, classe_conta):\n",
    "    url='https://apidatalake.tesouro.gov.br/ords/siconfi/tt/msc_patrimonial'\n",
    "    params={'id_ente':f'{id_ente}', 'an_referencia': f'{ano_referencia}','me_referencia':'12','co_tipo_matriz':'MSCE','classe_conta': f'{classe_conta}','id_tv':'ending_balance'}\n",
    "    response = requests.get(url,params=params).json()\n",
    "    return response"
   ]
  },
  {
   "cell_type": "markdown",
   "id": "404bd721-8d23-45de-8c27-01a24ddbd865",
   "metadata": {},
   "source": [
    "### Função para salvar a Matriz de Saldos Contábeis no arquivo `instancia_MSC_API.csv` na pasta do projeto"
   ]
  },
  {
   "cell_type": "code",
   "execution_count": 6,
   "id": "06d6d984-540f-4a73-ab80-860025142dcd",
   "metadata": {},
   "outputs": [],
   "source": [
    "def save_matriz(matriz):\n",
    "    arquivo = os.path.join(build_path(), \"instancia_MSC_API.csv\")\n",
    "    matriz.to_csv(arquivo, index=False, sep=';')"
   ]
  },
  {
   "cell_type": "markdown",
   "id": "fa526580-2982-42ed-8266-04e72d4e8b31",
   "metadata": {},
   "source": [
    "### Função para buscar os dados da Matriz de Saldos Contábeis executando a função de download, em seguida, salva na pasta do projeto com o nome de arquivo `instancia_MSC_API.csv`"
   ]
  },
  {
   "cell_type": "code",
   "execution_count": 7,
   "id": "a16b63d5-9912-42ca-ab39-7e5524426f4d",
   "metadata": {},
   "outputs": [],
   "source": [
    "def search_datas(id_ente = 32, years = [2019, 2020, 2021, 2022], classes = [1, 2]):    \n",
    "    responses = []\n",
    "    for year in years:\n",
    "        for class_ in classes:\n",
    "            resp = download_matriz(id_ente, year, class_)\n",
    "            responses.append(resp['items'])\n",
    "            time.sleep(5)\n",
    "    \n",
    "    df_final = pd.DataFrame(responses[0])\n",
    "\n",
    "    for i in range(1,len(responses)):\n",
    "        df = pd.DataFrame(responses[i])\n",
    "        df_final = pd.concat([df_final, df], ignore_index=True, axis=0)\n",
    "        \n",
    "    save_matriz(df_final)\n",
    "    return df_final"
   ]
  },
  {
   "cell_type": "markdown",
   "id": "41afcd2e-c089-4f93-81ec-80e7c3fb7aee",
   "metadata": {},
   "source": [
    "### Carregamento da Matriz de Saldos Contábeis"
   ]
  },
  {
   "cell_type": "code",
   "execution_count": 8,
   "id": "d652f9b6-5928-4d56-8dc4-3bc9c06d0934",
   "metadata": {
    "tags": []
   },
   "outputs": [
    {
     "data": {
      "text/html": [
       "<div>\n",
       "<style scoped>\n",
       "    .dataframe tbody tr th:only-of-type {\n",
       "        vertical-align: middle;\n",
       "    }\n",
       "\n",
       "    .dataframe tbody tr th {\n",
       "        vertical-align: top;\n",
       "    }\n",
       "\n",
       "    .dataframe thead th {\n",
       "        text-align: right;\n",
       "    }\n",
       "</style>\n",
       "<table border=\"1\" class=\"dataframe\">\n",
       "  <thead>\n",
       "    <tr style=\"text-align: right;\">\n",
       "      <th></th>\n",
       "      <th>tipo_matriz</th>\n",
       "      <th>cod_ibge</th>\n",
       "      <th>classe_conta</th>\n",
       "      <th>conta_contabil</th>\n",
       "      <th>poder_orgao</th>\n",
       "      <th>financeiro_permanente</th>\n",
       "      <th>ano_fonte_recursos</th>\n",
       "      <th>fonte_recursos</th>\n",
       "      <th>exercicio</th>\n",
       "      <th>mes_referencia</th>\n",
       "      <th>divida_consolidada</th>\n",
       "      <th>data_referencia</th>\n",
       "      <th>entrada_msc</th>\n",
       "      <th>valor</th>\n",
       "      <th>natureza_conta</th>\n",
       "      <th>tipo_valor</th>\n",
       "      <th>complemento_fonte</th>\n",
       "    </tr>\n",
       "  </thead>\n",
       "  <tbody>\n",
       "    <tr>\n",
       "      <th>0</th>\n",
       "      <td>MSCE</td>\n",
       "      <td>32</td>\n",
       "      <td>1</td>\n",
       "      <td>111110100</td>\n",
       "      <td>10111</td>\n",
       "      <td>1.0</td>\n",
       "      <td>1.0</td>\n",
       "      <td>10900000</td>\n",
       "      <td>2019</td>\n",
       "      <td>12</td>\n",
       "      <td>None</td>\n",
       "      <td>2019-12-31T03:00:00Z</td>\n",
       "      <td>2</td>\n",
       "      <td>14667.39</td>\n",
       "      <td>D</td>\n",
       "      <td>ending_balance</td>\n",
       "      <td>None</td>\n",
       "    </tr>\n",
       "    <tr>\n",
       "      <th>1</th>\n",
       "      <td>MSCE</td>\n",
       "      <td>32</td>\n",
       "      <td>1</td>\n",
       "      <td>111115099</td>\n",
       "      <td>10111</td>\n",
       "      <td>1.0</td>\n",
       "      <td>1.0</td>\n",
       "      <td>10900000</td>\n",
       "      <td>2019</td>\n",
       "      <td>12</td>\n",
       "      <td>None</td>\n",
       "      <td>2019-12-31T03:00:00Z</td>\n",
       "      <td>4</td>\n",
       "      <td>500.00</td>\n",
       "      <td>D</td>\n",
       "      <td>ending_balance</td>\n",
       "      <td>None</td>\n",
       "    </tr>\n",
       "    <tr>\n",
       "      <th>2</th>\n",
       "      <td>MSCE</td>\n",
       "      <td>32</td>\n",
       "      <td>1</td>\n",
       "      <td>111110200</td>\n",
       "      <td>10111</td>\n",
       "      <td>1.0</td>\n",
       "      <td>1.0</td>\n",
       "      <td>19790000</td>\n",
       "      <td>2019</td>\n",
       "      <td>12</td>\n",
       "      <td>None</td>\n",
       "      <td>2019-12-31T03:00:00Z</td>\n",
       "      <td>6</td>\n",
       "      <td>7671.79</td>\n",
       "      <td>D</td>\n",
       "      <td>ending_balance</td>\n",
       "      <td>None</td>\n",
       "    </tr>\n",
       "    <tr>\n",
       "      <th>3</th>\n",
       "      <td>MSCE</td>\n",
       "      <td>32</td>\n",
       "      <td>1</td>\n",
       "      <td>111110200</td>\n",
       "      <td>10111</td>\n",
       "      <td>1.0</td>\n",
       "      <td>1.0</td>\n",
       "      <td>10010000</td>\n",
       "      <td>2019</td>\n",
       "      <td>12</td>\n",
       "      <td>None</td>\n",
       "      <td>2019-12-31T03:00:00Z</td>\n",
       "      <td>8</td>\n",
       "      <td>69723.95</td>\n",
       "      <td>D</td>\n",
       "      <td>ending_balance</td>\n",
       "      <td>None</td>\n",
       "    </tr>\n",
       "    <tr>\n",
       "      <th>4</th>\n",
       "      <td>MSCE</td>\n",
       "      <td>32</td>\n",
       "      <td>1</td>\n",
       "      <td>111110200</td>\n",
       "      <td>10111</td>\n",
       "      <td>1.0</td>\n",
       "      <td>1.0</td>\n",
       "      <td>12110000</td>\n",
       "      <td>2019</td>\n",
       "      <td>12</td>\n",
       "      <td>None</td>\n",
       "      <td>2019-12-31T03:00:00Z</td>\n",
       "      <td>10</td>\n",
       "      <td>2679.20</td>\n",
       "      <td>D</td>\n",
       "      <td>ending_balance</td>\n",
       "      <td>None</td>\n",
       "    </tr>\n",
       "    <tr>\n",
       "      <th>...</th>\n",
       "      <td>...</td>\n",
       "      <td>...</td>\n",
       "      <td>...</td>\n",
       "      <td>...</td>\n",
       "      <td>...</td>\n",
       "      <td>...</td>\n",
       "      <td>...</td>\n",
       "      <td>...</td>\n",
       "      <td>...</td>\n",
       "      <td>...</td>\n",
       "      <td>...</td>\n",
       "      <td>...</td>\n",
       "      <td>...</td>\n",
       "      <td>...</td>\n",
       "      <td>...</td>\n",
       "      <td>...</td>\n",
       "      <td>...</td>\n",
       "    </tr>\n",
       "    <tr>\n",
       "      <th>6579</th>\n",
       "      <td>MSCE</td>\n",
       "      <td>32</td>\n",
       "      <td>2</td>\n",
       "      <td>237130300</td>\n",
       "      <td>10111</td>\n",
       "      <td>NaN</td>\n",
       "      <td>NaN</td>\n",
       "      <td>None</td>\n",
       "      <td>2022</td>\n",
       "      <td>12</td>\n",
       "      <td>None</td>\n",
       "      <td>2022-12-31T03:00:00Z</td>\n",
       "      <td>3838</td>\n",
       "      <td>23251.40</td>\n",
       "      <td>D</td>\n",
       "      <td>ending_balance</td>\n",
       "      <td>None</td>\n",
       "    </tr>\n",
       "    <tr>\n",
       "      <th>6580</th>\n",
       "      <td>MSCE</td>\n",
       "      <td>32</td>\n",
       "      <td>2</td>\n",
       "      <td>237130300</td>\n",
       "      <td>10112</td>\n",
       "      <td>NaN</td>\n",
       "      <td>NaN</td>\n",
       "      <td>None</td>\n",
       "      <td>2022</td>\n",
       "      <td>12</td>\n",
       "      <td>None</td>\n",
       "      <td>2022-12-31T03:00:00Z</td>\n",
       "      <td>3840</td>\n",
       "      <td>921829.00</td>\n",
       "      <td>C</td>\n",
       "      <td>ending_balance</td>\n",
       "      <td>None</td>\n",
       "    </tr>\n",
       "    <tr>\n",
       "      <th>6581</th>\n",
       "      <td>MSCE</td>\n",
       "      <td>32</td>\n",
       "      <td>2</td>\n",
       "      <td>237210100</td>\n",
       "      <td>10111</td>\n",
       "      <td>NaN</td>\n",
       "      <td>NaN</td>\n",
       "      <td>None</td>\n",
       "      <td>2022</td>\n",
       "      <td>12</td>\n",
       "      <td>None</td>\n",
       "      <td>2022-12-31T03:00:00Z</td>\n",
       "      <td>3844</td>\n",
       "      <td>3330221.17</td>\n",
       "      <td>C</td>\n",
       "      <td>ending_balance</td>\n",
       "      <td>None</td>\n",
       "    </tr>\n",
       "    <tr>\n",
       "      <th>6582</th>\n",
       "      <td>MSCE</td>\n",
       "      <td>32</td>\n",
       "      <td>2</td>\n",
       "      <td>237210200</td>\n",
       "      <td>10111</td>\n",
       "      <td>NaN</td>\n",
       "      <td>NaN</td>\n",
       "      <td>None</td>\n",
       "      <td>2022</td>\n",
       "      <td>12</td>\n",
       "      <td>None</td>\n",
       "      <td>2022-12-31T03:00:00Z</td>\n",
       "      <td>3846</td>\n",
       "      <td>10235770.20</td>\n",
       "      <td>C</td>\n",
       "      <td>ending_balance</td>\n",
       "      <td>None</td>\n",
       "    </tr>\n",
       "    <tr>\n",
       "      <th>6583</th>\n",
       "      <td>MSCE</td>\n",
       "      <td>32</td>\n",
       "      <td>2</td>\n",
       "      <td>237210300</td>\n",
       "      <td>10111</td>\n",
       "      <td>NaN</td>\n",
       "      <td>NaN</td>\n",
       "      <td>None</td>\n",
       "      <td>2022</td>\n",
       "      <td>12</td>\n",
       "      <td>None</td>\n",
       "      <td>2022-12-31T03:00:00Z</td>\n",
       "      <td>3848</td>\n",
       "      <td>15633.61</td>\n",
       "      <td>D</td>\n",
       "      <td>ending_balance</td>\n",
       "      <td>None</td>\n",
       "    </tr>\n",
       "  </tbody>\n",
       "</table>\n",
       "<p>6584 rows × 17 columns</p>\n",
       "</div>"
      ],
      "text/plain": [
       "     tipo_matriz  cod_ibge  classe_conta conta_contabil poder_orgao  \\\n",
       "0           MSCE        32             1      111110100       10111   \n",
       "1           MSCE        32             1      111115099       10111   \n",
       "2           MSCE        32             1      111110200       10111   \n",
       "3           MSCE        32             1      111110200       10111   \n",
       "4           MSCE        32             1      111110200       10111   \n",
       "...          ...       ...           ...            ...         ...   \n",
       "6579        MSCE        32             2      237130300       10111   \n",
       "6580        MSCE        32             2      237130300       10112   \n",
       "6581        MSCE        32             2      237210100       10111   \n",
       "6582        MSCE        32             2      237210200       10111   \n",
       "6583        MSCE        32             2      237210300       10111   \n",
       "\n",
       "      financeiro_permanente  ano_fonte_recursos fonte_recursos  exercicio  \\\n",
       "0                       1.0                 1.0       10900000       2019   \n",
       "1                       1.0                 1.0       10900000       2019   \n",
       "2                       1.0                 1.0       19790000       2019   \n",
       "3                       1.0                 1.0       10010000       2019   \n",
       "4                       1.0                 1.0       12110000       2019   \n",
       "...                     ...                 ...            ...        ...   \n",
       "6579                    NaN                 NaN           None       2022   \n",
       "6580                    NaN                 NaN           None       2022   \n",
       "6581                    NaN                 NaN           None       2022   \n",
       "6582                    NaN                 NaN           None       2022   \n",
       "6583                    NaN                 NaN           None       2022   \n",
       "\n",
       "      mes_referencia divida_consolidada       data_referencia  entrada_msc  \\\n",
       "0                 12               None  2019-12-31T03:00:00Z            2   \n",
       "1                 12               None  2019-12-31T03:00:00Z            4   \n",
       "2                 12               None  2019-12-31T03:00:00Z            6   \n",
       "3                 12               None  2019-12-31T03:00:00Z            8   \n",
       "4                 12               None  2019-12-31T03:00:00Z           10   \n",
       "...              ...                ...                   ...          ...   \n",
       "6579              12               None  2022-12-31T03:00:00Z         3838   \n",
       "6580              12               None  2022-12-31T03:00:00Z         3840   \n",
       "6581              12               None  2022-12-31T03:00:00Z         3844   \n",
       "6582              12               None  2022-12-31T03:00:00Z         3846   \n",
       "6583              12               None  2022-12-31T03:00:00Z         3848   \n",
       "\n",
       "            valor natureza_conta      tipo_valor complemento_fonte  \n",
       "0        14667.39              D  ending_balance              None  \n",
       "1          500.00              D  ending_balance              None  \n",
       "2         7671.79              D  ending_balance              None  \n",
       "3        69723.95              D  ending_balance              None  \n",
       "4         2679.20              D  ending_balance              None  \n",
       "...           ...            ...             ...               ...  \n",
       "6579     23251.40              D  ending_balance              None  \n",
       "6580    921829.00              C  ending_balance              None  \n",
       "6581   3330221.17              C  ending_balance              None  \n",
       "6582  10235770.20              C  ending_balance              None  \n",
       "6583     15633.61              D  ending_balance              None  \n",
       "\n",
       "[6584 rows x 17 columns]"
      ]
     },
     "execution_count": 8,
     "metadata": {},
     "output_type": "execute_result"
    }
   ],
   "source": [
    "search_datas()"
   ]
  },
  {
   "cell_type": "markdown",
   "id": "3eeea097-927a-4aa0-83de-0132c5d04707",
   "metadata": {},
   "source": [
    "### Carregamento da Planilha PCASP - Plano de Contas aplicado ao Setor Público\n",
    "* Variável pcasp"
   ]
  },
  {
   "cell_type": "code",
   "execution_count": 9,
   "id": "048eec7f-5f83-48fa-9932-8b09b6b74c85",
   "metadata": {},
   "outputs": [],
   "source": [
    "pcasp = get_dados_pcasp()"
   ]
  },
  {
   "cell_type": "markdown",
   "id": "d1d96d70-bf4d-4d61-aab4-37217e972edf",
   "metadata": {},
   "source": [
    "### Removendo colunas da Planilha PCASP - Plano de Contas aplicado ao Setor Público que não serão utilizadas"
   ]
  },
  {
   "cell_type": "code",
   "execution_count": 10,
   "id": "f0a8fa19-9b95-45c5-8f0b-d4fca33d6ecb",
   "metadata": {},
   "outputs": [],
   "source": [
    "pcasp = pcasp.drop(columns=['FUNÇÃO','STATUS','NATUREZA DO SALDO','CONTROLE','ÍTEM','SUBÍTEM'])"
   ]
  },
  {
   "cell_type": "markdown",
   "id": "3506142c-485e-41dc-8a62-6f7e025ed20a",
   "metadata": {},
   "source": [
    "### Selecionando as classes 1 e 2 da Planilha PCASP - Plano de Contas aplicado ao Setor Público que serão analisadas"
   ]
  },
  {
   "cell_type": "code",
   "execution_count": 11,
   "id": "198c943f-d53a-4502-8e64-347103f3551c",
   "metadata": {},
   "outputs": [],
   "source": [
    "pcasp = pcasp.loc[pcasp['CLASSE'].isin([1, 2])]"
   ]
  },
  {
   "cell_type": "markdown",
   "id": "e37e6cc5-89b4-43bd-aab4-90cf63d8cbc6",
   "metadata": {
    "tags": []
   },
   "source": [
    "### Renomeando as colunas da  Planilha PCASP - Plano de Contas aplicado ao Setor Público que estão com o nome extenso"
   ]
  },
  {
   "cell_type": "code",
   "execution_count": 12,
   "id": "78d4cc18-2589-4fb2-87d7-de87cdc31a65",
   "metadata": {},
   "outputs": [],
   "source": [
    "pcasp.loc[pcasp['TÍTULO.1'] == 'OBRIGAÇÕES TRABALHISTAS, PREVIDENCIÁRIAS E ASSISTENCIAIS A PAGAR A LONGO PRAZO','TÍTULO.1'] = 'OBRIGAÇÕES TRAB., PREV. E ASSIST. A PAGAR A LONGO PRAZO'\n",
    "\n",
    "pcasp.loc[pcasp['TÍTULO.1'] == 'OBRIGAÇÕES TRABALHISTAS, PREVIDENCIÁRIAS E ASSISTENCIAIS A PAGAR A CURTO PRAZO','TÍTULO.1'] = 'OBRIGAÇÕES TRAB., PREV. E ASSIST. A PAGAR A CURTO PRAZO'"
   ]
  },
  {
   "cell_type": "markdown",
   "id": "f15d9034-8445-4066-afde-80a37236e4f2",
   "metadata": {},
   "source": [
    "### Criando as colunas NÍVEL3, NÍVEL2, NÍVEL1 na variável pcasp, como strings a partir das CLASSES da Planilha PCASP - Plano de Contas aplicado ao Setor Público "
   ]
  },
  {
   "cell_type": "markdown",
   "id": "becab8e0-7af3-460d-b4a4-4ecd98bf7732",
   "metadata": {},
   "source": [
    "* Coluna pcasp['NÍVEL3']\n",
    "\n",
    "* Coluna pcasp['NÍVEL2']\n",
    "\n",
    "* Coluna pcasp['NÍVEL1']"
   ]
  },
  {
   "cell_type": "code",
   "execution_count": 13,
   "id": "6d605f80-39db-4f66-87f2-b46defb79264",
   "metadata": {},
   "outputs": [],
   "source": [
    "pcasp['NÍVEL3'] = pcasp['CLASSE'].astype(str) + pcasp['GRUPO'].astype(str) + pcasp['SUBGRUPO'].astype(str)\n",
    "\n",
    "pcasp['NÍVEL2'] = pcasp['CLASSE'].astype(str) + pcasp['GRUPO'].astype(str)\n",
    "\n",
    "pcasp['NÍVEL1'] = pcasp['CLASSE'].astype(str)"
   ]
  },
  {
   "cell_type": "markdown",
   "id": "801b8653-a3a0-433c-baf4-fc3bb1b3f718",
   "metadata": {},
   "source": [
    "### Criando o Dataframe por NÍVEL\n",
    "* **pcasp_nivel_3**\n",
    "    * pcasp_nivel_3, com TODAS as contas de NÍVEL3 do PCASP para criar o Balanço NÍVEL3\n",
    "    * São as contas do PCASP que estão indicadas nas contas de cores em azul\n",
    "\n",
    "* **pcasp_nivel_2**\n",
    "    * pcasp_nivel_2, com TODAS as contas de NÍVEL2 do PCASP para criar o Balanço NÍVEL2\n",
    "    * São as contas do PCASP que estão indicadas nas contas de cores em verde\n",
    "\n",
    "* **pcasp_nivel_1**\n",
    "    * pcasp_nivel_1, com TODAS as contas de NÍVEL1 do PCASP para criar o Balanço NÍVEL1\n",
    "    * São as contas do PCASP que estão indicadas nas contas de cores em vermelho"
   ]
  },
  {
   "cell_type": "code",
   "execution_count": 14,
   "id": "f1e4d074-aa8e-46e8-980a-c59c393acada",
   "metadata": {},
   "outputs": [],
   "source": [
    "pcasp_nivel_3 = pcasp.loc[(pcasp['SUBGRUPO']!= 0) & (pcasp['TÍTULO']== 0)]\n",
    "\n",
    "pcasp_nivel_2 = pcasp.loc[(pcasp['GRUPO']!= 0) & (pcasp['SUBGRUPO']== 0)]\n",
    "\n",
    "pcasp_nivel_1 = pcasp.loc[(pcasp['GRUPO']== 0)]"
   ]
  },
  {
   "cell_type": "markdown",
   "id": "bd22aabe-e052-4100-82e5-845949e3572f",
   "metadata": {},
   "source": [
    "### Criando o Dataframe pcasp_nivel_1_2_3, com TODAS as contas de NÍVEL1, NÍVEL2 e NÍVEL3 do PCASP para criar o Balanço NÍVEL3\n",
    "* São todas as contasdo PCASP que estão indicadas nas contas de cores em vermelho, verde e azul"
   ]
  },
  {
   "cell_type": "code",
   "execution_count": 15,
   "id": "947ac576-8b65-4ae1-8e92-b391c5f10565",
   "metadata": {},
   "outputs": [],
   "source": [
    "pcasp_nivel_1_2_3 = pd.concat([pcasp_nivel_1,pcasp_nivel_2,pcasp_nivel_3],axis=0)"
   ]
  },
  {
   "cell_type": "markdown",
   "id": "06096ae4-7afa-4412-ab0b-3139a2d8219b",
   "metadata": {},
   "source": [
    "### Carregamento da Matriz de Saldos Contábeis\n",
    "* Variável instancia"
   ]
  },
  {
   "cell_type": "code",
   "execution_count": 17,
   "id": "ae947532-c644-4d31-91b9-bd99895bfa5e",
   "metadata": {},
   "outputs": [],
   "source": [
    "instancia = get_dados_instancia()"
   ]
  },
  {
   "cell_type": "markdown",
   "id": "83dd3c41-657e-4729-84e6-71b5f400db85",
   "metadata": {},
   "source": [
    "### Removendo colunas da Matriz de Saldos Contábeis"
   ]
  },
  {
   "cell_type": "code",
   "execution_count": 18,
   "id": "14a8ac25-f79d-460c-8dd9-3a346012011b",
   "metadata": {},
   "outputs": [],
   "source": [
    "instancia = instancia.drop(columns=['tipo_matriz','cod_ibge','poder_orgao','financeiro_permanente','ano_fonte_recursos','fonte_recursos','mes_referencia','divida_consolidada','data_referencia','entrada_msc','tipo_valor','complemento_fonte'])"
   ]
  },
  {
   "cell_type": "markdown",
   "id": "93a65f19-8319-42f9-ac09-c6e155a6784c",
   "metadata": {},
   "source": [
    "### Renomeando as colunas da Matriz de Saldos Contábeis"
   ]
  },
  {
   "cell_type": "code",
   "execution_count": 19,
   "id": "7062a8cb-8268-426d-b0bf-48824d162040",
   "metadata": {},
   "outputs": [],
   "source": [
    "instancia = instancia.rename(columns={'classe_conta':'NÍVEL1', 'conta_contabil':'CONTA', 'exercicio': 'EXERCÍCIO', 'valor':'VALOR', 'natureza_conta':'NATUREZA_VALOR'})"
   ]
  },
  {
   "cell_type": "markdown",
   "id": "6287ff94-8d2f-4cc1-b0a1-f299049e9bb3",
   "metadata": {},
   "source": [
    "### Alterando o tipo da coluna CONTA para string"
   ]
  },
  {
   "cell_type": "code",
   "execution_count": 20,
   "id": "cd3a6865-6201-4421-bdac-9265d09f26a1",
   "metadata": {},
   "outputs": [],
   "source": [
    "instancia['CONTA'] = instancia['CONTA'].astype(str)"
   ]
  },
  {
   "cell_type": "markdown",
   "id": "1b4d3b72-5d9a-4e34-9705-d77a4bb3a1f3",
   "metadata": {},
   "source": [
    "### Aplicando filtros para identificar as CLASSES dos GRUPOS 1 e 2\n",
    "* Multiplica a coluna VALOR por 1 para contas de natureza Devedora (Classe 1)\n",
    "* Multiplica a coluna VALOR por -1 para contas de natureza Credora (Classe 1)\n",
    "* Multiplica a coluna VALOR por 1 para contas de natureza Credora (Classe 2)\n",
    "* Multiplica a coluna VALOR por -1 para contas de natureza Devedora (Classe 2)\n",
    "* Consequentemente, na soma, os valores de débito serão somados e os valores de crédito serão subtraídos (RETIFICADORAS)"
   ]
  },
  {
   "cell_type": "code",
   "execution_count": 21,
   "id": "a77fbc3e-63f0-4c49-9136-61eb004fdf47",
   "metadata": {},
   "outputs": [],
   "source": [
    "#  Multiplica por 1 - Desnecessária\n",
    "instancia.loc[instancia['NÍVEL1'].isin([1]) & \n",
    "              (instancia['NATUREZA_VALOR']=='D'), 'VALOR'] = instancia['VALOR']*1\n",
    "\n",
    "#  Multiplica por -1\n",
    "instancia.loc[instancia['NÍVEL1'].isin([1]) & \n",
    "              (instancia['NATUREZA_VALOR']=='C'), 'VALOR'] = instancia['VALOR']*(-1)\n",
    "\n",
    "#  Multiplica por 1 - Desnecessária\n",
    "instancia.loc[instancia['NÍVEL1'].isin([2]) & \n",
    "              (instancia['NATUREZA_VALOR']=='C'), 'VALOR'] = instancia['VALOR']*1\n",
    "\n",
    "#  Multiplica por -1\n",
    "instancia.loc[instancia['NÍVEL1'].isin([2]) & \n",
    "              (instancia['NATUREZA_VALOR']=='D'), 'VALOR'] = instancia['VALOR']*(-1)"
   ]
  },
  {
   "cell_type": "markdown",
   "id": "49275e1f-7242-4353-a1c5-970626a9f984",
   "metadata": {},
   "source": [
    "### Criando Colunas\n",
    "\n",
    "* Criando a coluna NÍVEL3 na Matriz de Saldos Contábeis a partir da identificação dos três primeiros caracteres das CONTAS para agrupar as CONTAS do NÍVEL3\n",
    "    * instancia['NÍVEL3']\n",
    "* Criando a coluna NÍVEL2 na Matriz de Saldos Contábeis a partir da identificação dos dois primeiros caracteres das CONTAS para agrupar as CONTAS do NÍVEL2\n",
    "    * instancia['NÍVEL2']\n",
    "* Criando a coluna NÍVEL1 na Matriz de Saldos Contábeis \n",
    "    * instancia['NÍVEL1']"
   ]
  },
  {
   "cell_type": "code",
   "execution_count": 22,
   "id": "da400156-504e-4325-b465-57ff396f30bb",
   "metadata": {},
   "outputs": [],
   "source": [
    "instancia['NÍVEL3'] = instancia['CONTA'].str.slice(0, 3)\n",
    "\n",
    "instancia['NÍVEL2'] = instancia['CONTA'].str.slice(0, 2)\n",
    "\n",
    "coluna = [col for col in instancia if col != 'NÍVEL1'] + ['NÍVEL1']\n",
    "instancia = instancia[coluna]"
   ]
  },
  {
   "cell_type": "markdown",
   "id": "e31f9fcd-23dc-43e7-bdd6-bd476b2754cf",
   "metadata": {},
   "source": [
    "### Agrupando as CONTAS do NÍVEL3\n",
    "* Armazenando em instancia_grouped"
   ]
  },
  {
   "cell_type": "code",
   "execution_count": 23,
   "id": "c9857d46-b102-4181-ae34-5004533f52b5",
   "metadata": {},
   "outputs": [],
   "source": [
    "instancia_grouped = instancia[['VALOR']].groupby([instancia['EXERCÍCIO'], instancia['NÍVEL3'], instancia['NATUREZA_VALOR']])"
   ]
  },
  {
   "cell_type": "markdown",
   "id": "22613a50-60a0-4c1d-983c-dd8fd43b0a48",
   "metadata": {},
   "source": [
    "### Criando o Dataframe:\n",
    "\n",
    "* **NÍVEL3 - instancia_soma_nivel_3**\n",
    "    * instancia_soma_nivel_3, com TODOS os valores somados por NÍVEL3, NATUREZA e ANO(EXERCÍCIO)\n",
    "    * Armazenando em instancia_soma_nivel_3\n",
    "    * Totalizando os valores por nível, somando os débitos e créditos\n",
    "\n",
    "\n",
    "* **NÍVEL2 - instancia_soma_nivel_2**\n",
    "    * instancia_soma_nivel_2, com TODOS os valores somados por NÍVEL2, NATUREZA e ANO(EXERCÍCIO)\n",
    "    * Armazenando em instancia_soma_nivel_2\n",
    "    * Totalizando os valores por nível, somando os débitos e créditos\n",
    "    \n",
    "    \n",
    "* **NÍVEL1 - instancia_soma_nivel_1**\n",
    "    * instancia_soma_nivel_1, com TODOS os valores somados por NÍVEL1, NATUREZA e ANO(EXERCÍCIO)\n",
    "    * Armazenando em instancia_soma_nivel_1\n",
    "    * Totalizando os valores por nível, somando os débitos e créditos"
   ]
  },
  {
   "cell_type": "code",
   "execution_count": 24,
   "id": "6fddfbbf-3b90-4be9-a99d-e2913b2ab379",
   "metadata": {},
   "outputs": [],
   "source": [
    "instancia_soma_nivel_3 = instancia[['VALOR']].groupby([instancia['EXERCÍCIO'], instancia['NÍVEL3']]).sum()\n",
    "\n",
    "instancia_soma_nivel_2 = instancia[['VALOR']].groupby([instancia['EXERCÍCIO'], instancia['NÍVEL2']]).sum()\n",
    "\n",
    "instancia_soma_nivel_1 = instancia[['VALOR']].groupby([instancia['EXERCÍCIO'], instancia['NÍVEL1']]).sum()"
   ]
  },
  {
   "cell_type": "markdown",
   "id": "a5fb0051-03da-483d-b9b3-361a6879dc30",
   "metadata": {},
   "source": [
    "### Criando a coluna com EXERCÍCIO e NÍVEL3 (que são índices) nos respectivos Dataframe:  \n",
    "* em instancia_soma_nivel_3, \n",
    "* em instancia_soma_nivel_2,\n",
    "* em instancia_soma_nivel_1. "
   ]
  },
  {
   "cell_type": "code",
   "execution_count": 25,
   "id": "ce9cb93c-fb78-4de0-99f0-518586091f64",
   "metadata": {},
   "outputs": [],
   "source": [
    "instancia_soma_nivel_3 = instancia_soma_nivel_3.reset_index(level=['NÍVEL3','EXERCÍCIO'])\n",
    "\n",
    "instancia_soma_nivel_2 = instancia_soma_nivel_2.reset_index(level=['NÍVEL2','EXERCÍCIO'])\n",
    "\n",
    "instancia_soma_nivel_1 = instancia_soma_nivel_1.reset_index(level=['NÍVEL1','EXERCÍCIO'])"
   ]
  },
  {
   "cell_type": "markdown",
   "id": "e3b865f5-b341-430c-9141-1b40bbfc5d6b",
   "metadata": {},
   "source": [
    "### Alterando o tipo da coluna NÍVEL1 para string¶"
   ]
  },
  {
   "cell_type": "code",
   "execution_count": 26,
   "id": "291d5467-346b-429a-a8d0-e6cf1cb2f255",
   "metadata": {},
   "outputs": [],
   "source": [
    "instancia_soma_nivel_1['NÍVEL1'] = instancia_soma_nivel_1['NÍVEL1'].astype(str)"
   ]
  },
  {
   "cell_type": "markdown",
   "id": "2aee52f5-69f4-4507-8010-70d99a2e998c",
   "metadata": {},
   "source": [
    "### Combinando as instancias e pcasp por NÍVEL para criar os Balanços por NÍVEL"
   ]
  },
  {
   "cell_type": "markdown",
   "id": "c226b32f-026d-4ed0-86ed-ed5d6b926bcc",
   "metadata": {},
   "source": [
    "* NÍVEL3 (balanco_nivel_3) - Combinando o resultado das operações da INSTANCIA de NÍVEL3 com a coluna correspondente do PCASP de NÍVEL3\n",
    "* NÍVEL2 (balanco_nivel_2)- Combinando o resultado das operações da INSTANCIA de NÍVEL2 com a coluna correspondente do PCASP de NÍVEL2\n",
    "* NÍVEL1 (balanco_nivel_1)- Combinando o resultado das operações da INSTANCIA de NÍVEL1 com a coluna correspondente do PCASP de NÍVEL1"
   ]
  },
  {
   "cell_type": "code",
   "execution_count": 27,
   "id": "d378842e-07fe-4a60-9d9c-0fcb1b62f42e",
   "metadata": {},
   "outputs": [],
   "source": [
    "balanco_nivel_3 = pd.merge(pcasp_nivel_3, instancia_soma_nivel_3, how='inner')\n",
    "\n",
    "balanco_nivel_2 = pd.merge(pcasp_nivel_2, instancia_soma_nivel_2, how='inner')\n",
    "\n",
    "balanco_nivel_1 = pd.merge(pcasp_nivel_1, instancia_soma_nivel_1, how='inner')"
   ]
  },
  {
   "cell_type": "markdown",
   "id": "ca074687-d403-4a27-b12c-49eede47bca8",
   "metadata": {},
   "source": [
    "### Ordenando os balancos de NÍVEL por ANO(EXERCÍCIO) e CONTA\n",
    "* Ordenando balanco_nivel_3 por ANO(EXERCÍCIO) e CONTA\n",
    "* Ordenando balanco_nivel_2 por ANO(EXERCÍCIO) e CONTA\n",
    "* Ordenando balanco_nivel_1 por ANO(EXERCÍCIO) e CONTA"
   ]
  },
  {
   "cell_type": "code",
   "execution_count": 28,
   "id": "2a6e6544-78f9-478e-883b-2a1ba171898b",
   "metadata": {},
   "outputs": [],
   "source": [
    "balanco_nivel_3 = balanco_nivel_3.sort_values(by=['EXERCÍCIO','CONTA'])\n",
    "\n",
    "balanco_nivel_2 = balanco_nivel_2.sort_values(by=['EXERCÍCIO','CONTA'])\n",
    "\n",
    "balanco_nivel_1 = balanco_nivel_1.sort_values(by=['EXERCÍCIO','CONTA'])"
   ]
  },
  {
   "cell_type": "markdown",
   "id": "cf73a0f1-c02c-4910-bfa6-025042f765c8",
   "metadata": {},
   "source": [
    "### Removendo as colunas dos Balanços de NÍVEL\n",
    "* Removendo as colunas balanco_nivel_3\n",
    "* Removendo as colunas balanco_nivel_2\n",
    "* Removendo as colunas balanco_nivel_1"
   ]
  },
  {
   "cell_type": "code",
   "execution_count": 29,
   "id": "13dc5bf2-5ede-4407-8c3e-3b4320ad19e6",
   "metadata": {},
   "outputs": [],
   "source": [
    "balanco_nivel_3 = balanco_nivel_3.drop(columns=['CLASSE','GRUPO','SUBGRUPO','TÍTULO','SUBTÍTULO'])\n",
    "\n",
    "balanco_nivel_2 = balanco_nivel_2.drop(columns=['CLASSE','GRUPO','SUBGRUPO','TÍTULO','SUBTÍTULO'])\n",
    "\n",
    "balanco_nivel_1 = balanco_nivel_1.drop(columns=['CLASSE','GRUPO','SUBGRUPO','TÍTULO','SUBTÍTULO'])"
   ]
  },
  {
   "cell_type": "markdown",
   "id": "c37ceb6c-ec4c-45c6-8124-61576db19bd3",
   "metadata": {},
   "source": [
    "### Criando uma única INSTANCIA com todos os NÍVEIS - balanco_123"
   ]
  },
  {
   "cell_type": "markdown",
   "id": "23c9403c-eb14-4a94-ac5e-9263b483c8e5",
   "metadata": {},
   "source": [
    "#### Criando o Balanço balanco_123 concatenando TODOS os NÍVEIS das INSTANCIAS de NÍVEL1, NÍVEL2 e NÍVEL3"
   ]
  },
  {
   "cell_type": "code",
   "execution_count": 30,
   "id": "66c5dff7-1138-4ba4-8cae-24791f91b0a8",
   "metadata": {},
   "outputs": [],
   "source": [
    "balanco_123 = pd.concat([balanco_nivel_1,balanco_nivel_2,balanco_nivel_3],axis=0)"
   ]
  },
  {
   "cell_type": "markdown",
   "id": "7f2dde72-a769-49f3-9d68-779eeb9e98a1",
   "metadata": {},
   "source": [
    "#### Ordenando balanco_123 por ANO(EXERCÍCIO) e CONTA"
   ]
  },
  {
   "cell_type": "code",
   "execution_count": 31,
   "id": "8e4dc8b6-bff0-4638-a4fa-78665b15aff7",
   "metadata": {},
   "outputs": [],
   "source": [
    "balanco_123 = balanco_123.sort_values(by=['EXERCÍCIO','CONTA'])"
   ]
  },
  {
   "cell_type": "markdown",
   "id": "2d83e394-0c8e-463f-89db-aff838cee79b",
   "metadata": {},
   "source": [
    "#### Removendo as colunas de balanco_123 que não são necessárias"
   ]
  },
  {
   "cell_type": "code",
   "execution_count": 32,
   "id": "7a42e702-cb21-4da1-8db2-95c078760070",
   "metadata": {},
   "outputs": [],
   "source": [
    "balanco_123 = balanco_123.drop(columns=['NÍVEL3','NÍVEL2','NÍVEL1'])"
   ]
  },
  {
   "cell_type": "markdown",
   "id": "f5f686ed-b8b7-4ccb-921b-c945316ea6a2",
   "metadata": {
    "tags": []
   },
   "source": [
    "### Criando o Dataframe com o Balanço Final - balanco_final que será utilizado para a criação do gráfico Treemap por meio do balanco_normalizado"
   ]
  },
  {
   "cell_type": "code",
   "execution_count": 33,
   "id": "b2e59514-5074-47c9-a316-3dfefb168e84",
   "metadata": {
    "tags": []
   },
   "outputs": [],
   "source": [
    "lista_exercicios = list(set(balanco_123['EXERCÍCIO']))\n",
    "balanco = []\n",
    "for ano in lista_exercicios:\n",
    "    balanco_ano = balanco_123.loc[balanco_123['EXERCÍCIO'] == ano]\n",
    "    balanco_ano = balanco_ano.rename(columns={'VALOR': f'{ano}'})\n",
    "    balanco_ano = balanco_ano.drop(columns=['EXERCÍCIO'])\n",
    "    balanco.append(balanco_ano)\n",
    "balanco_final = pd.merge(balanco[0], balanco[1], how='outer', on=['CONTA','TÍTULO.1'])\n",
    "balanco_final = pd.merge(balanco_final, balanco[2], how='outer', on=['CONTA','TÍTULO.1'])\n",
    "balanco_final = pd.merge(balanco_final, balanco[3], how='outer', on=['CONTA','TÍTULO.1'])\n",
    "balanco_final = balanco_final.sort_values(by='CONTA')"
   ]
  },
  {
   "cell_type": "markdown",
   "id": "cf2abee0-1153-41d9-aa26-32e0ac931589",
   "metadata": {},
   "source": [
    "### Criando o balanco_final_exercicio que é a Transposta de balanco_final, onde as linhas serão os anos(exercícios) e as colunas serão as contas para ser utilizado na criação do gráfico da Série Histórica"
   ]
  },
  {
   "cell_type": "code",
   "execution_count": 34,
   "id": "85b0e743-5af4-48a0-8caf-ff2e5e69b6ed",
   "metadata": {
    "tags": []
   },
   "outputs": [],
   "source": [
    "balanco_final_exercicio = balanco_final.T"
   ]
  },
  {
   "cell_type": "code",
   "execution_count": 35,
   "id": "1f888e40-8491-4941-88b9-59b18a8dcf1e",
   "metadata": {
    "tags": []
   },
   "outputs": [],
   "source": [
    "lista = []\n",
    "for i in range(len(balanco_final)):\n",
    "    lista.append( list(balanco_final_exercicio.loc['TÍTULO.1'])[i])"
   ]
  },
  {
   "cell_type": "code",
   "execution_count": 36,
   "id": "417efa64-b27e-4ed6-99ad-689937cff367",
   "metadata": {
    "tags": []
   },
   "outputs": [],
   "source": [
    "balanco_final_exercicio = balanco_final_exercicio.rename(columns=balanco_final_exercicio.iloc[1])\n",
    "balanco_final_exercicio = balanco_final_exercicio[2:]\n",
    "balanco_final_exercicio.index.names = ['EXERCÍCIO']\n",
    "balanco_final_exercicio = balanco_final_exercicio.reset_index(level=['EXERCÍCIO'])"
   ]
  },
  {
   "cell_type": "code",
   "execution_count": 37,
   "id": "6b3829ea-950b-4078-bfe7-081e7245f046",
   "metadata": {
    "tags": []
   },
   "outputs": [],
   "source": [
    "balanco_final['CONTA'] = balanco_final['CONTA'].astype(str)\n",
    "balanco_final['CLASSE'] = balanco_final['CONTA'].str.slice(0,1)\n",
    "balanco_final = balanco_final.rename(columns={2019: '2019', 2020: '2020', 2021: '2021', 2022: '2022'})"
   ]
  },
  {
   "cell_type": "code",
   "execution_count": 38,
   "id": "77751a20-1739-49ce-a57b-5920331b71bd",
   "metadata": {},
   "outputs": [],
   "source": [
    "balanco_normalizado = balanco_final.copy()"
   ]
  },
  {
   "cell_type": "markdown",
   "id": "84591764-4bf7-4a00-ae94-6575a29a4e66",
   "metadata": {},
   "source": [
    "### A listaAnos é gerada a partir das opções selecionadas na sidebar para montar o gráfico de todos os anos - Série Histórica a partir da MSC\n",
    "* Criada a coluna ANO+ABS para os anos que possuem valores negativos. Assim o gráfico Treemap é exibido corretamente por meio da normalização."
   ]
  },
  {
   "cell_type": "code",
   "execution_count": 39,
   "id": "5a59a55b-a7ba-42fa-895b-d3f04bfc77bd",
   "metadata": {
    "tags": []
   },
   "outputs": [],
   "source": [
    "# Foi fixada para efeitos de execução\n",
    "listaAnos = ['2019', '2020', '2021', '2022' ]\n",
    "for ano in listaAnos:\n",
    "    coluna_ano = listaAnos[listaAnos.index(ano)]\n",
    "    if balanco_final[coluna_ano].min() < 0 :\n",
    "        listanorm = preprocessing.normalize([balanco_normalizado[coluna_ano].values.tolist()]) \n",
    "        coluna_ano = coluna_ano+'ABS'\n",
    "        listanormal = listanorm-(listanorm.min()*2)\n",
    "        balanco_normalizado[coluna_ano] = pd.DataFrame(listanormal).T"
   ]
  },
  {
   "cell_type": "markdown",
   "id": "af8334ef-2bde-4a4e-8573-b15f9be52ac6",
   "metadata": {},
   "source": [
    "### Criado o balanco_final_map para organizar a exibição do gráfico treemap com as subcontas classificadas adequadamente"
   ]
  },
  {
   "cell_type": "code",
   "execution_count": 40,
   "id": "f169eaed-51c2-4790-8607-007e791b4f3c",
   "metadata": {},
   "outputs": [],
   "source": [
    "balanco_final_map = balanco_final.copy()"
   ]
  },
  {
   "cell_type": "markdown",
   "id": "87a2fa92-4205-4af5-bc3f-379627b4454f",
   "metadata": {},
   "source": [
    "#### Criar colunas em balanco_final para organizar o treemap nas suas subcontas\n",
    "* Criar coluna que indica se a conta é Ativo ou Passivo e Patrimônio Líquido \n",
    "    * balanco_final_map['N1']"
   ]
  },
  {
   "cell_type": "code",
   "execution_count": 41,
   "id": "f115343b-ad07-4ab9-8332-6456bb0604c4",
   "metadata": {},
   "outputs": [],
   "source": [
    "balanco_final_map['N1']=' '\n",
    "\n",
    "#Ativo\n",
    "balanco_final_map.loc[balanco_final_map['CONTA'].str.slice(0,1)== '1', 'N1'] = 'ATIVO'\n",
    "\n",
    "#Passivo e PL\n",
    "balanco_final_map.loc[balanco_final_map['CONTA'].str.slice(0,1) == '2', 'N1'] ='PASSIVO E PATRIMÔNIO LIQUIDO'"
   ]
  },
  {
   "cell_type": "markdown",
   "id": "5d3a1262-f404-4ec6-a1a8-c55fb523de86",
   "metadata": {},
   "source": [
    "### Classificando corretamente cada conta\n",
    "* Para conta que são as próprias N1, deixe o campo vazio\n",
    "    * balanco_final.loc[balanco_final['CONTA'].str.slice(1,2) == '0', 'N1'] =' '\n",
    "* Para conta que são subcontas de N1 e N2, deixe o campo vazio\n",
    "    * balanco_final.loc[balanco_final['CONTA'].str.slice(2,3) != '0', 'N1'] =' '\n",
    "\n",
    "* Criar coluna que indica de a conta é Ativo(Ativo Circulante ou Ativo Não Circulante) ou Passivo e PL(Passivo Circulante ou Passivo Não Circulante ou PL)\n",
    "    * balanco_final_map['N2']\n",
    "    \n",
    "* Para conta que são as próprias N1 e N2, deixe o campo vazio\n",
    "    * balanco_final.loc[balanco_final['CONTA'].str.slice(2,3) == '0', 'N2'] =' '"
   ]
  },
  {
   "cell_type": "code",
   "execution_count": 42,
   "id": "6090c5cc-29a4-49a0-aaff-a983d557d0fd",
   "metadata": {
    "tags": []
   },
   "outputs": [],
   "source": [
    "balanco_final_map['N2']=' '\n",
    "\n",
    "#Ativo Circulante\n",
    "balanco_final_map.loc[balanco_final_map['CONTA'].str.slice(0,2) == '11', 'N2'] = 'ATIVO CIRCULANTE'\n",
    "\n",
    "#Ativo Não Circulante\n",
    "balanco_final_map.loc[balanco_final_map['CONTA'].str.slice(0,2) == '12', 'N2'] = 'ATIVO NÃO CIRCULANTE'\n",
    "\n",
    "#Passivo Circulante\n",
    "balanco_final_map.loc[balanco_final_map['CONTA'].str.slice(0,2) == '21', 'N2'] ='PASSIVO CIRCULANTE'\n",
    "\n",
    "#Passivo Não Circulante\n",
    "balanco_final_map.loc[balanco_final_map['CONTA'].str.slice(0,2) == '22', 'N2'] ='PASSIVO NAO-CIRCULANTE'\n",
    "\n",
    "#PL\n",
    "balanco_final_map.loc[balanco_final_map['CONTA'].str.slice(0,2) == '23', 'N2'] ='PATRIMÔNIO LIQUIDO'"
   ]
  },
  {
   "cell_type": "markdown",
   "id": "7e195fa5-60f2-4baf-b91b-ef6900c6c741",
   "metadata": {
    "tags": []
   },
   "source": [
    "### balanco_final_map"
   ]
  },
  {
   "cell_type": "code",
   "execution_count": 43,
   "id": "1dd5fc2d-9688-4dfc-82fa-f5ad9c62fbf8",
   "metadata": {
    "tags": []
   },
   "outputs": [],
   "source": [
    "balanco_final_map = balanco_final_map[ (balanco_final_map['TÍTULO.1'] != 'ATIVO') & (balanco_final_map['TÍTULO.1'] != 'PASSIVO E PATRIMÔNIO LIQUIDO') & (balanco_final_map['TÍTULO.1'] != 'ATIVO CIRCULANTE') & (balanco_final_map['TÍTULO.1'] != 'ATIVO NÃO CIRCULANTE') & (balanco_final_map['TÍTULO.1'] != 'PASSIVO CIRCULANTE') & (balanco_final_map['TÍTULO.1'] != 'PASSIVO NAO-CIRCULANTE') & (balanco_final_map['TÍTULO.1'] != 'PATRIMÔNIO LIQUIDO')]"
   ]
  },
  {
   "cell_type": "markdown",
   "id": "50a4ac47-bd58-4ac0-8790-599d099b8d66",
   "metadata": {},
   "source": [
    "### Código adicionado no BP_ES_2019-2022.py"
   ]
  },
  {
   "cell_type": "code",
   "execution_count": 44,
   "id": "1ca56710-8b0b-480b-8a87-8b966c9662bb",
   "metadata": {},
   "outputs": [],
   "source": [
    "# st.markdown('# Balanço Patrimonial do Estado do Espírito Santo 🏢')\n",
    "# st.markdown(\"#### Série Histórica 2019-2022 a partir da MSC \")\n",
    "# st.markdown(\"---\")\n",
    "\n",
    "# with st.sidebar:\n",
    "#     #escolha_ente = st.sidebar.selectbox('Escolha o Ente:', ('ES', ''))\n",
    "#     st.sidebar.markdown('# Balanço Patrimonial do Estado do Espírito Santo 🏢')\n",
    "#     st.sidebar.markdown(\"---\")\n",
    "#     st.markdown(\"#### Série Histórica 2019-2022 a partir da MSC:\")\n",
    "#     st.sidebar.markdown(\"##### Escolha um ou mais anos: \")\n",
    "#     ano2019=st.sidebar.checkbox(\"2019\", value=True)\n",
    "#     ano2020=st.sidebar.checkbox(\"2020\")\n",
    "#     ano2021=st.sidebar.checkbox(\"2021\")\n",
    "#     ano2022=st.sidebar.checkbox(\"2022\")\n",
    "#     listaAnos=[]\n",
    "#     if ano2019:\n",
    "#         listaAnos.append(\"2019\")\n",
    "#     if ano2020:\n",
    "#         listaAnos.append(\"2020\")\n",
    "#     if ano2021:\n",
    "#         listaAnos.append(\"2021\")\n",
    "#     if ano2022:\n",
    "#         listaAnos.append(\"2022\")\n",
    "\n",
    "#     st.sidebar.markdown(\"---\")\n",
    "#     st.markdown(f'#### Série Histórica 2019-2022 selecionada pela Conta ')\n",
    "#     escolha_descr = st.sidebar.selectbox('Escolha uma das contas: ', balanco_final['TÍTULO.1'])\n",
    "\n",
    "    \n",
    "# # Gráfico Geral com Série histórica por contas\n",
    "# chart_data = pd.DataFrame(balanco_final, columns=listaAnos)\n",
    "# st.bar_chart(chart_data)\n",
    "# st.markdown(\"---\")\n",
    "\n",
    "\n",
    "\n",
    "# st.bar_chart(balanco_final, y=listaAnos, x='CONTA', color=listaAnos[0])\n",
    "# st.markdown(\"---\")  \n",
    "\n",
    "\n",
    "# st.markdown(\"#### Série Histórica 2019-2022 selecionada pela Conta \")\n",
    "# col1, col2 = st.columns([3, 8])\n",
    "# with col1:\n",
    "#     pass\n",
    "\n",
    "# with col2:\n",
    "#     st.markdown(f\"###### {escolha_descr} \")\n",
    "#     balanco = pd.DataFrame(balanco_final_exercicio, columns=['EXERCÍCIO', escolha_descr])\n",
    "   \n",
    "\n",
    "# st.bar_chart(balanco_final_exercicio, y=escolha_descr,x='EXERCÍCIO',color=escolha_descr)\n",
    "# st.markdown(\"---\")  "
   ]
  },
  {
   "cell_type": "code",
   "execution_count": 45,
   "id": "e9050c38-f61f-4200-bbb7-28d103672660",
   "metadata": {
    "tags": []
   },
   "outputs": [],
   "source": [
    "\n",
    "# for ano in listaAnos:\n",
    "#     # Gráfico Treemap ATIVO                             \n",
    "#     ativo = px.treemap(balanco_final_map.loc[balanco_final_map['CLASSE'] == '1'], \n",
    "#                      path = ['N1','N2', 'TÍTULO.1'], \n",
    "#                      values = listaAnos[listaAnos.index(ano)], \n",
    "#                      color_continuous_scale='RdBu',\n",
    "#                      color = listaAnos[listaAnos.index(ano)],             \n",
    "#                      color_continuous_midpoint=0)\n",
    "\n",
    "#     ativo.update_layout(margin = dict(t=50, l=25, r=25, b=25))   \n",
    "#     coluna_ano = listaAnos[listaAnos.index(ano)]\n",
    "    \n",
    "#     if balanco_final_map[coluna_ano].min() < 0 :        \n",
    "#         listanorm = preprocessing.normalize([balanco_normalizado[coluna_ano].values.tolist()]) \n",
    "#         coluna_ano = coluna_ano+'ABS'\n",
    "#         listanormal = listanorm-(listanorm.min()*2)\n",
    "#         balanco_normalizado[coluna_ano] = pd.DataFrame(listanormal).T\n",
    "    \n",
    "#     # Gráfico Treemap PASSIVO\n",
    "#     passivo = px.treemap(balanco_normalizado.loc[balanco_normalizado['CLASSE'] == '2'], \n",
    "#                      path = ['N1','N2', 'TÍTULO.1'], \n",
    "#                      values = coluna_ano, \n",
    "#                      color_continuous_scale='RdBu',\n",
    "#                      color = listaAnos[listaAnos.index(ano)],             \n",
    "#                      color_continuous_midpoint=np.average(balanco_normalizado[coluna_ano]))\n",
    "\n",
    "#     passivo.update_layout(margin = dict(t=50, l=25, r=25, b=25))\n",
    "#     st.markdown(\"---\")\n",
    "    \n",
    "#     # Atualizar legenda dos TreeMaps\n",
    "#     ativo.update_layout(title_text='Mapa do Ativo de ' + listaAnos[listaAnos.index(ano)], title_font=dict(size=24), title_x = 0.025)\n",
    "#     passivo.update_layout(title_text='Mapa do Passivo e Patrimônio Líquido de ' + listaAnos[listaAnos.index(ano)], title_font=dict(size=24), title_x = 0.025)\n",
    "    \n",
    "#     # Layout com duas colunas\n",
    "#     col1, col2 = st.columns(2)\n",
    "\n",
    "#     # Colocar TreeMaps nas colunas\n",
    "#     with col1:\n",
    "#         st.plotly_chart(ativo, use_container_width=True)\n",
    "\n",
    "#     with col2:\n",
    "#         st.plotly_chart(passivo, use_container_width=True)"
   ]
  }
 ],
 "metadata": {
  "kernelspec": {
   "display_name": "Python 3 (ipykernel)",
   "language": "python",
   "name": "python3"
  },
  "language_info": {
   "codemirror_mode": {
    "name": "ipython",
    "version": 3
   },
   "file_extension": ".py",
   "mimetype": "text/x-python",
   "name": "python",
   "nbconvert_exporter": "python",
   "pygments_lexer": "ipython3",
   "version": "3.11.5"
  }
 },
 "nbformat": 4,
 "nbformat_minor": 5
}
