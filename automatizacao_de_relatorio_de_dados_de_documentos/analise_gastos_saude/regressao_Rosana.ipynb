{
 "cells": [
  {
   "cell_type": "code",
   "execution_count": 1,
   "id": "538261fc-de8a-440e-8ec2-aeeaa2203abd",
   "metadata": {},
   "outputs": [],
   "source": [
    "import pandas as pd\n",
    "import statsmodels.api as sm\n",
    "import numpy as np\n",
    "import plotly.express as px\n",
    "import plotly.graph_objects as go"
   ]
  },
  {
   "cell_type": "code",
   "execution_count": 2,
   "id": "8ac58ed5-b577-45e9-81b1-b4be625cfb53",
   "metadata": {
    "scrolled": true
   },
   "outputs": [
    {
     "ename": "FileNotFoundError",
     "evalue": "[Errno 2] No such file or directory: 'variaveis_uf_ano.csv'",
     "output_type": "error",
     "traceback": [
      "\u001b[1;31m---------------------------------------------------------------------------\u001b[0m",
      "\u001b[1;31mFileNotFoundError\u001b[0m                         Traceback (most recent call last)",
      "Cell \u001b[1;32mIn[2], line 1\u001b[0m\n\u001b[1;32m----> 1\u001b[0m variaveis_uf_ano \u001b[38;5;241m=\u001b[39m \u001b[43mpd\u001b[49m\u001b[38;5;241;43m.\u001b[39;49m\u001b[43mread_csv\u001b[49m\u001b[43m(\u001b[49m\u001b[38;5;124;43m'\u001b[39;49m\u001b[38;5;124;43mvariaveis_uf_ano.csv\u001b[39;49m\u001b[38;5;124;43m'\u001b[39;49m\u001b[43m,\u001b[49m\u001b[43m \u001b[49m\u001b[43msep\u001b[49m\u001b[38;5;241;43m=\u001b[39;49m\u001b[38;5;124;43m'\u001b[39;49m\u001b[38;5;124;43m;\u001b[39;49m\u001b[38;5;124;43m'\u001b[39;49m\u001b[43m)\u001b[49m\n\u001b[0;32m      2\u001b[0m variaveis_uf_ano\n",
      "File \u001b[1;32m~\\AppData\\Local\\Programs\\Python\\Python311\\Lib\\site-packages\\pandas\\io\\parsers\\readers.py:948\u001b[0m, in \u001b[0;36mread_csv\u001b[1;34m(filepath_or_buffer, sep, delimiter, header, names, index_col, usecols, dtype, engine, converters, true_values, false_values, skipinitialspace, skiprows, skipfooter, nrows, na_values, keep_default_na, na_filter, verbose, skip_blank_lines, parse_dates, infer_datetime_format, keep_date_col, date_parser, date_format, dayfirst, cache_dates, iterator, chunksize, compression, thousands, decimal, lineterminator, quotechar, quoting, doublequote, escapechar, comment, encoding, encoding_errors, dialect, on_bad_lines, delim_whitespace, low_memory, memory_map, float_precision, storage_options, dtype_backend)\u001b[0m\n\u001b[0;32m    935\u001b[0m kwds_defaults \u001b[38;5;241m=\u001b[39m _refine_defaults_read(\n\u001b[0;32m    936\u001b[0m     dialect,\n\u001b[0;32m    937\u001b[0m     delimiter,\n\u001b[1;32m   (...)\u001b[0m\n\u001b[0;32m    944\u001b[0m     dtype_backend\u001b[38;5;241m=\u001b[39mdtype_backend,\n\u001b[0;32m    945\u001b[0m )\n\u001b[0;32m    946\u001b[0m kwds\u001b[38;5;241m.\u001b[39mupdate(kwds_defaults)\n\u001b[1;32m--> 948\u001b[0m \u001b[38;5;28;01mreturn\u001b[39;00m \u001b[43m_read\u001b[49m\u001b[43m(\u001b[49m\u001b[43mfilepath_or_buffer\u001b[49m\u001b[43m,\u001b[49m\u001b[43m \u001b[49m\u001b[43mkwds\u001b[49m\u001b[43m)\u001b[49m\n",
      "File \u001b[1;32m~\\AppData\\Local\\Programs\\Python\\Python311\\Lib\\site-packages\\pandas\\io\\parsers\\readers.py:611\u001b[0m, in \u001b[0;36m_read\u001b[1;34m(filepath_or_buffer, kwds)\u001b[0m\n\u001b[0;32m    608\u001b[0m _validate_names(kwds\u001b[38;5;241m.\u001b[39mget(\u001b[38;5;124m\"\u001b[39m\u001b[38;5;124mnames\u001b[39m\u001b[38;5;124m\"\u001b[39m, \u001b[38;5;28;01mNone\u001b[39;00m))\n\u001b[0;32m    610\u001b[0m \u001b[38;5;66;03m# Create the parser.\u001b[39;00m\n\u001b[1;32m--> 611\u001b[0m parser \u001b[38;5;241m=\u001b[39m \u001b[43mTextFileReader\u001b[49m\u001b[43m(\u001b[49m\u001b[43mfilepath_or_buffer\u001b[49m\u001b[43m,\u001b[49m\u001b[43m \u001b[49m\u001b[38;5;241;43m*\u001b[39;49m\u001b[38;5;241;43m*\u001b[39;49m\u001b[43mkwds\u001b[49m\u001b[43m)\u001b[49m\n\u001b[0;32m    613\u001b[0m \u001b[38;5;28;01mif\u001b[39;00m chunksize \u001b[38;5;129;01mor\u001b[39;00m iterator:\n\u001b[0;32m    614\u001b[0m     \u001b[38;5;28;01mreturn\u001b[39;00m parser\n",
      "File \u001b[1;32m~\\AppData\\Local\\Programs\\Python\\Python311\\Lib\\site-packages\\pandas\\io\\parsers\\readers.py:1448\u001b[0m, in \u001b[0;36mTextFileReader.__init__\u001b[1;34m(self, f, engine, **kwds)\u001b[0m\n\u001b[0;32m   1445\u001b[0m     \u001b[38;5;28mself\u001b[39m\u001b[38;5;241m.\u001b[39moptions[\u001b[38;5;124m\"\u001b[39m\u001b[38;5;124mhas_index_names\u001b[39m\u001b[38;5;124m\"\u001b[39m] \u001b[38;5;241m=\u001b[39m kwds[\u001b[38;5;124m\"\u001b[39m\u001b[38;5;124mhas_index_names\u001b[39m\u001b[38;5;124m\"\u001b[39m]\n\u001b[0;32m   1447\u001b[0m \u001b[38;5;28mself\u001b[39m\u001b[38;5;241m.\u001b[39mhandles: IOHandles \u001b[38;5;241m|\u001b[39m \u001b[38;5;28;01mNone\u001b[39;00m \u001b[38;5;241m=\u001b[39m \u001b[38;5;28;01mNone\u001b[39;00m\n\u001b[1;32m-> 1448\u001b[0m \u001b[38;5;28mself\u001b[39m\u001b[38;5;241m.\u001b[39m_engine \u001b[38;5;241m=\u001b[39m \u001b[38;5;28;43mself\u001b[39;49m\u001b[38;5;241;43m.\u001b[39;49m\u001b[43m_make_engine\u001b[49m\u001b[43m(\u001b[49m\u001b[43mf\u001b[49m\u001b[43m,\u001b[49m\u001b[43m \u001b[49m\u001b[38;5;28;43mself\u001b[39;49m\u001b[38;5;241;43m.\u001b[39;49m\u001b[43mengine\u001b[49m\u001b[43m)\u001b[49m\n",
      "File \u001b[1;32m~\\AppData\\Local\\Programs\\Python\\Python311\\Lib\\site-packages\\pandas\\io\\parsers\\readers.py:1705\u001b[0m, in \u001b[0;36mTextFileReader._make_engine\u001b[1;34m(self, f, engine)\u001b[0m\n\u001b[0;32m   1703\u001b[0m     \u001b[38;5;28;01mif\u001b[39;00m \u001b[38;5;124m\"\u001b[39m\u001b[38;5;124mb\u001b[39m\u001b[38;5;124m\"\u001b[39m \u001b[38;5;129;01mnot\u001b[39;00m \u001b[38;5;129;01min\u001b[39;00m mode:\n\u001b[0;32m   1704\u001b[0m         mode \u001b[38;5;241m+\u001b[39m\u001b[38;5;241m=\u001b[39m \u001b[38;5;124m\"\u001b[39m\u001b[38;5;124mb\u001b[39m\u001b[38;5;124m\"\u001b[39m\n\u001b[1;32m-> 1705\u001b[0m \u001b[38;5;28mself\u001b[39m\u001b[38;5;241m.\u001b[39mhandles \u001b[38;5;241m=\u001b[39m \u001b[43mget_handle\u001b[49m\u001b[43m(\u001b[49m\n\u001b[0;32m   1706\u001b[0m \u001b[43m    \u001b[49m\u001b[43mf\u001b[49m\u001b[43m,\u001b[49m\n\u001b[0;32m   1707\u001b[0m \u001b[43m    \u001b[49m\u001b[43mmode\u001b[49m\u001b[43m,\u001b[49m\n\u001b[0;32m   1708\u001b[0m \u001b[43m    \u001b[49m\u001b[43mencoding\u001b[49m\u001b[38;5;241;43m=\u001b[39;49m\u001b[38;5;28;43mself\u001b[39;49m\u001b[38;5;241;43m.\u001b[39;49m\u001b[43moptions\u001b[49m\u001b[38;5;241;43m.\u001b[39;49m\u001b[43mget\u001b[49m\u001b[43m(\u001b[49m\u001b[38;5;124;43m\"\u001b[39;49m\u001b[38;5;124;43mencoding\u001b[39;49m\u001b[38;5;124;43m\"\u001b[39;49m\u001b[43m,\u001b[49m\u001b[43m \u001b[49m\u001b[38;5;28;43;01mNone\u001b[39;49;00m\u001b[43m)\u001b[49m\u001b[43m,\u001b[49m\n\u001b[0;32m   1709\u001b[0m \u001b[43m    \u001b[49m\u001b[43mcompression\u001b[49m\u001b[38;5;241;43m=\u001b[39;49m\u001b[38;5;28;43mself\u001b[39;49m\u001b[38;5;241;43m.\u001b[39;49m\u001b[43moptions\u001b[49m\u001b[38;5;241;43m.\u001b[39;49m\u001b[43mget\u001b[49m\u001b[43m(\u001b[49m\u001b[38;5;124;43m\"\u001b[39;49m\u001b[38;5;124;43mcompression\u001b[39;49m\u001b[38;5;124;43m\"\u001b[39;49m\u001b[43m,\u001b[49m\u001b[43m \u001b[49m\u001b[38;5;28;43;01mNone\u001b[39;49;00m\u001b[43m)\u001b[49m\u001b[43m,\u001b[49m\n\u001b[0;32m   1710\u001b[0m \u001b[43m    \u001b[49m\u001b[43mmemory_map\u001b[49m\u001b[38;5;241;43m=\u001b[39;49m\u001b[38;5;28;43mself\u001b[39;49m\u001b[38;5;241;43m.\u001b[39;49m\u001b[43moptions\u001b[49m\u001b[38;5;241;43m.\u001b[39;49m\u001b[43mget\u001b[49m\u001b[43m(\u001b[49m\u001b[38;5;124;43m\"\u001b[39;49m\u001b[38;5;124;43mmemory_map\u001b[39;49m\u001b[38;5;124;43m\"\u001b[39;49m\u001b[43m,\u001b[49m\u001b[43m \u001b[49m\u001b[38;5;28;43;01mFalse\u001b[39;49;00m\u001b[43m)\u001b[49m\u001b[43m,\u001b[49m\n\u001b[0;32m   1711\u001b[0m \u001b[43m    \u001b[49m\u001b[43mis_text\u001b[49m\u001b[38;5;241;43m=\u001b[39;49m\u001b[43mis_text\u001b[49m\u001b[43m,\u001b[49m\n\u001b[0;32m   1712\u001b[0m \u001b[43m    \u001b[49m\u001b[43merrors\u001b[49m\u001b[38;5;241;43m=\u001b[39;49m\u001b[38;5;28;43mself\u001b[39;49m\u001b[38;5;241;43m.\u001b[39;49m\u001b[43moptions\u001b[49m\u001b[38;5;241;43m.\u001b[39;49m\u001b[43mget\u001b[49m\u001b[43m(\u001b[49m\u001b[38;5;124;43m\"\u001b[39;49m\u001b[38;5;124;43mencoding_errors\u001b[39;49m\u001b[38;5;124;43m\"\u001b[39;49m\u001b[43m,\u001b[49m\u001b[43m \u001b[49m\u001b[38;5;124;43m\"\u001b[39;49m\u001b[38;5;124;43mstrict\u001b[39;49m\u001b[38;5;124;43m\"\u001b[39;49m\u001b[43m)\u001b[49m\u001b[43m,\u001b[49m\n\u001b[0;32m   1713\u001b[0m \u001b[43m    \u001b[49m\u001b[43mstorage_options\u001b[49m\u001b[38;5;241;43m=\u001b[39;49m\u001b[38;5;28;43mself\u001b[39;49m\u001b[38;5;241;43m.\u001b[39;49m\u001b[43moptions\u001b[49m\u001b[38;5;241;43m.\u001b[39;49m\u001b[43mget\u001b[49m\u001b[43m(\u001b[49m\u001b[38;5;124;43m\"\u001b[39;49m\u001b[38;5;124;43mstorage_options\u001b[39;49m\u001b[38;5;124;43m\"\u001b[39;49m\u001b[43m,\u001b[49m\u001b[43m \u001b[49m\u001b[38;5;28;43;01mNone\u001b[39;49;00m\u001b[43m)\u001b[49m\u001b[43m,\u001b[49m\n\u001b[0;32m   1714\u001b[0m \u001b[43m\u001b[49m\u001b[43m)\u001b[49m\n\u001b[0;32m   1715\u001b[0m \u001b[38;5;28;01massert\u001b[39;00m \u001b[38;5;28mself\u001b[39m\u001b[38;5;241m.\u001b[39mhandles \u001b[38;5;129;01mis\u001b[39;00m \u001b[38;5;129;01mnot\u001b[39;00m \u001b[38;5;28;01mNone\u001b[39;00m\n\u001b[0;32m   1716\u001b[0m f \u001b[38;5;241m=\u001b[39m \u001b[38;5;28mself\u001b[39m\u001b[38;5;241m.\u001b[39mhandles\u001b[38;5;241m.\u001b[39mhandle\n",
      "File \u001b[1;32m~\\AppData\\Local\\Programs\\Python\\Python311\\Lib\\site-packages\\pandas\\io\\common.py:863\u001b[0m, in \u001b[0;36mget_handle\u001b[1;34m(path_or_buf, mode, encoding, compression, memory_map, is_text, errors, storage_options)\u001b[0m\n\u001b[0;32m    858\u001b[0m \u001b[38;5;28;01melif\u001b[39;00m \u001b[38;5;28misinstance\u001b[39m(handle, \u001b[38;5;28mstr\u001b[39m):\n\u001b[0;32m    859\u001b[0m     \u001b[38;5;66;03m# Check whether the filename is to be opened in binary mode.\u001b[39;00m\n\u001b[0;32m    860\u001b[0m     \u001b[38;5;66;03m# Binary mode does not support 'encoding' and 'newline'.\u001b[39;00m\n\u001b[0;32m    861\u001b[0m     \u001b[38;5;28;01mif\u001b[39;00m ioargs\u001b[38;5;241m.\u001b[39mencoding \u001b[38;5;129;01mand\u001b[39;00m \u001b[38;5;124m\"\u001b[39m\u001b[38;5;124mb\u001b[39m\u001b[38;5;124m\"\u001b[39m \u001b[38;5;129;01mnot\u001b[39;00m \u001b[38;5;129;01min\u001b[39;00m ioargs\u001b[38;5;241m.\u001b[39mmode:\n\u001b[0;32m    862\u001b[0m         \u001b[38;5;66;03m# Encoding\u001b[39;00m\n\u001b[1;32m--> 863\u001b[0m         handle \u001b[38;5;241m=\u001b[39m \u001b[38;5;28;43mopen\u001b[39;49m\u001b[43m(\u001b[49m\n\u001b[0;32m    864\u001b[0m \u001b[43m            \u001b[49m\u001b[43mhandle\u001b[49m\u001b[43m,\u001b[49m\n\u001b[0;32m    865\u001b[0m \u001b[43m            \u001b[49m\u001b[43mioargs\u001b[49m\u001b[38;5;241;43m.\u001b[39;49m\u001b[43mmode\u001b[49m\u001b[43m,\u001b[49m\n\u001b[0;32m    866\u001b[0m \u001b[43m            \u001b[49m\u001b[43mencoding\u001b[49m\u001b[38;5;241;43m=\u001b[39;49m\u001b[43mioargs\u001b[49m\u001b[38;5;241;43m.\u001b[39;49m\u001b[43mencoding\u001b[49m\u001b[43m,\u001b[49m\n\u001b[0;32m    867\u001b[0m \u001b[43m            \u001b[49m\u001b[43merrors\u001b[49m\u001b[38;5;241;43m=\u001b[39;49m\u001b[43merrors\u001b[49m\u001b[43m,\u001b[49m\n\u001b[0;32m    868\u001b[0m \u001b[43m            \u001b[49m\u001b[43mnewline\u001b[49m\u001b[38;5;241;43m=\u001b[39;49m\u001b[38;5;124;43m\"\u001b[39;49m\u001b[38;5;124;43m\"\u001b[39;49m\u001b[43m,\u001b[49m\n\u001b[0;32m    869\u001b[0m \u001b[43m        \u001b[49m\u001b[43m)\u001b[49m\n\u001b[0;32m    870\u001b[0m     \u001b[38;5;28;01melse\u001b[39;00m:\n\u001b[0;32m    871\u001b[0m         \u001b[38;5;66;03m# Binary mode\u001b[39;00m\n\u001b[0;32m    872\u001b[0m         handle \u001b[38;5;241m=\u001b[39m \u001b[38;5;28mopen\u001b[39m(handle, ioargs\u001b[38;5;241m.\u001b[39mmode)\n",
      "\u001b[1;31mFileNotFoundError\u001b[0m: [Errno 2] No such file or directory: 'variaveis_uf_ano.csv'"
     ]
    }
   ],
   "source": [
    "variaveis_uf_ano = pd.read_csv('variaveis_uf_ano.csv', sep=';')\n",
    "variaveis_uf_ano"
   ]
  },
  {
   "cell_type": "code",
   "execution_count": null,
   "id": "a4eb8038-14e4-481f-84fb-17d34b1fe53a",
   "metadata": {},
   "outputs": [],
   "source": [
    "# Criando UF em codigo\n",
    "CondUF =  [(variaveis_uf_ano['uf'] == 'RO'),\n",
    "         (variaveis_uf_ano[\"uf\"] == 'AC'),\n",
    "         (variaveis_uf_ano[\"uf\"] == 'AM'),\n",
    "         (variaveis_uf_ano[\"uf\"] == 'RR'),\n",
    "         (variaveis_uf_ano[\"uf\"] == 'PA'),\n",
    "         (variaveis_uf_ano[\"uf\"] == 'AP'),\n",
    "         (variaveis_uf_ano[\"uf\"] == 'TO'),\n",
    "         (variaveis_uf_ano[\"uf\"] == 'MA'),\n",
    "         (variaveis_uf_ano[\"uf\"] == 'PI'),\n",
    "         (variaveis_uf_ano[\"uf\"] == 'CE'),\n",
    "         (variaveis_uf_ano[\"uf\"] == 'RN'),\n",
    "         (variaveis_uf_ano[\"uf\"] == 'PB'),\n",
    "         (variaveis_uf_ano[\"uf\"] == 'PE'),\n",
    "         (variaveis_uf_ano[\"uf\"] == 'AL'),\n",
    "         (variaveis_uf_ano[\"uf\"] == 'SE'),\n",
    "         (variaveis_uf_ano[\"uf\"] == 'BA'),\n",
    "         (variaveis_uf_ano[\"uf\"] == 'MG'),\n",
    "         (variaveis_uf_ano[\"uf\"] == 'ES'),\n",
    "         (variaveis_uf_ano[\"uf\"] == 'RJ'),\n",
    "         (variaveis_uf_ano[\"uf\"] == 'SP'),\n",
    "         (variaveis_uf_ano[\"uf\"] == 'PR'),\n",
    "         (variaveis_uf_ano[\"uf\"] == 'SC'),\n",
    "         (variaveis_uf_ano[\"uf\"] == 'RS'),\n",
    "         (variaveis_uf_ano[\"uf\"] == 'MS'),\n",
    "         (variaveis_uf_ano[\"uf\"] == 'MT'),\n",
    "         (variaveis_uf_ano[\"uf\"] == 'GO'),\n",
    "         (variaveis_uf_ano[\"uf\"] == 'DF')\n",
    "         ]\n",
    "          \n",
    "UF_nomes = ['11','12','13','14','15','16','17','21','22','23','24','25','26','27','28','29','31','32','33','35','41','42','43','50','51','52','53']\n",
    "variaveis_uf_ano[\"Cod_UF\"] = np.select(CondUF, UF_nomes, default=\"Error\")\n",
    "\n",
    "variaveis_uf_ano"
   ]
  },
  {
   "cell_type": "code",
   "execution_count": null,
   "id": "41f6ad78-6cea-4e51-90b7-9eccfdf2efed",
   "metadata": {},
   "outputs": [],
   "source": [
    "#Criando variável regiao.\n",
    "CondReg =  [(variaveis_uf_ano['Cod_UF'] == '11') | (variaveis_uf_ano[\"Cod_UF\"] == '12') | (variaveis_uf_ano[\"Cod_UF\"] == '13') | (variaveis_uf_ano[\"Cod_UF\"] == '14') | (variaveis_uf_ano[\"Cod_UF\"] == '15') | (variaveis_uf_ano[\"Cod_UF\"] == '16') | (variaveis_uf_ano[\"Cod_UF\"] == '17'),\n",
    "            (variaveis_uf_ano[\"Cod_UF\"] == '21') | (variaveis_uf_ano[\"Cod_UF\"] == '22') | (variaveis_uf_ano[\"Cod_UF\"] == '23') | (variaveis_uf_ano[\"Cod_UF\"] == '24') | (variaveis_uf_ano[\"Cod_UF\"] == '25') | (variaveis_uf_ano[\"Cod_UF\"] == '26') | (variaveis_uf_ano[\"Cod_UF\"] == '27') | (variaveis_uf_ano[\"Cod_UF\"] == '28') | (variaveis_uf_ano[\"Cod_UF\"] == '29'),\n",
    "            (variaveis_uf_ano[\"Cod_UF\"] == '31') | (variaveis_uf_ano[\"Cod_UF\"] == '32') | (variaveis_uf_ano[\"Cod_UF\"] == '33') | (variaveis_uf_ano[\"Cod_UF\"] == '35'),\n",
    "            (variaveis_uf_ano[\"Cod_UF\"] == '41') | (variaveis_uf_ano[\"Cod_UF\"] == '42') | (variaveis_uf_ano[\"Cod_UF\"] == '43'),\n",
    "            (variaveis_uf_ano[\"Cod_UF\"] == '50') | (variaveis_uf_ano[\"Cod_UF\"] == '51') | (variaveis_uf_ano[\"Cod_UF\"] == '52') | (variaveis_uf_ano[\"Cod_UF\"] == '53')\n",
    "           ]\n",
    "            \n",
    "Regiao_nomes = ['Norte','Nordeste','Sudeste','Sul','Centro-Oeste']\n",
    "variaveis_uf_ano[\"regiao\"] = np.select(CondReg, Regiao_nomes, default=\"Error\")\n",
    "variaveis_uf_ano"
   ]
  },
  {
   "cell_type": "code",
   "execution_count": null,
   "id": "3997942a-d4df-43ed-9705-0e72d752d73c",
   "metadata": {},
   "outputs": [],
   "source": [
    "# Ajuste o modelo de regressão logística\n",
    "X = variaveis_uf_ano['valor_emendas']   # Variáveis independentes (características)\n",
    "X = sm.add_constant(X)  # Adiciona uma constante para o termo de intercepção\n",
    "y = variaveis_uf_ano['gastos']  # Variável dependente (alvo)\n",
    "\n",
    "# Ajuste do modelo\n",
    "model = sm.OLS(y, X).fit()\n",
    "\n",
    "# Imprima o resumo do modelo\n",
    "print(model.summary())"
   ]
  },
  {
   "cell_type": "code",
   "execution_count": null,
   "id": "c7639349-0f9e-4d5d-a98b-f7352a19aacc",
   "metadata": {},
   "outputs": [],
   "source": [
    "correlation_matrix = variaveis_uf_ano[['valor_emendas', 'gastos']].corr()\n",
    "print(correlation_matrix)"
   ]
  },
  {
   "cell_type": "code",
   "execution_count": null,
   "id": "5218f299-a147-43e8-9b64-2d3fd3ef9bdf",
   "metadata": {},
   "outputs": [],
   "source": [
    "X = variaveis_uf_ano['valor_emendas']  \n",
    "X = sm.add_constant(X)  \n",
    "y = variaveis_uf_ano['gastos']  \n",
    "\n",
    "# Ajuste do modelo\n",
    "model = sm.OLS(y, X).fit()\n",
    "\n",
    "# Calcular R²\n",
    "r2 = model.rsquared\n",
    "\n",
    "# Use o Plotly Express para criar o gráfico\n",
    "fig = px.scatter(variaveis_uf_ano, x='valor_emendas', y='gastos', trendline=\"ols\", title='Regressão Linear Simples',\n",
    "                labels={'valor_emendas': 'Valor das Emendas', 'gastos': 'Gastos'},\n",
    "                hover_data=['valor_emendas', 'gastos'])\n",
    "\n",
    "\n",
    "# Adicione uma anotação para R²\n",
    "fig.add_annotation(x=0.1, y=0.9, text=f\"R² = {r2:.2f}\", showarrow=False, \n",
    "                   xref=\"paper\", yref=\"paper\")\n",
    "\n",
    "fig.update_layout(autosize=False, width=800, height=600)\n",
    "\n",
    "# Mostrar a figura\n",
    "fig.show()"
   ]
  },
  {
   "cell_type": "code",
   "execution_count": null,
   "id": "3d0ffa0d-3b37-4203-8c89-71bbd2b339b6",
   "metadata": {},
   "outputs": [],
   "source": [
    "variaveis_uf_ano['ano_emenda'] = (variaveis_uf_ano['ano'] >= 2018).astype(int)\n",
    "variaveis_uf_ano"
   ]
  },
  {
   "cell_type": "code",
   "execution_count": null,
   "id": "3cdc0b5e-751c-467d-9200-3a510889e87a",
   "metadata": {},
   "outputs": [],
   "source": [
    "# controlando por ano antes e depois de 2018.\n",
    "X = variaveis_uf_ano[['valor_emendas', 'ano_emenda']]\n",
    "X = sm.add_constant(X)  \n",
    "y = variaveis_uf_ano['gastos']  \n",
    "\n",
    "# Ajuste do modelo\n",
    "model = sm.OLS(y, X).fit()\n",
    "\n",
    "# Calcular R²\n",
    "r2 = model.rsquared\n",
    "\n",
    "# Use o Plotly Express para criar o gráfico\n",
    "fig = px.scatter(variaveis_uf_ano, x='valor_emendas', y='gastos', trendline=\"ols\", title='Regressão Linear Simples',\n",
    "                labels={'valor_emendas': 'Valor das Emendas', 'gastos': 'Gastos'},\n",
    "                hover_data=['valor_emendas', 'gastos'])\n",
    "\n",
    "\n",
    "# Adicione uma anotação para R²\n",
    "fig.add_annotation(x=0.1, y=0.9, text=f\"R² = {r2:.2f}\", showarrow=False, \n",
    "                   xref=\"paper\", yref=\"paper\")\n",
    "\n",
    "fig.update_layout(autosize=False, width=800, height=600)\n",
    "\n",
    "# Mostrar a figura\n",
    "fig.show()"
   ]
  },
  {
   "cell_type": "code",
   "execution_count": null,
   "id": "db13f2dc-3def-49ff-b758-050e5453413a",
   "metadata": {},
   "outputs": [],
   "source": [
    "variaveis_uf_ano_dum = pd.get_dummies(variaveis_uf_ano, columns=['regiao'], dtype=int)\n",
    "variaveis_uf_ano_dum"
   ]
  },
  {
   "cell_type": "code",
   "execution_count": null,
   "id": "ea26ff5e-3222-4b2c-819d-5c2b2cfefcaf",
   "metadata": {},
   "outputs": [],
   "source": [
    "# controlando por ano antes e depois de 2018 e por região. Quando controla aumenta o R2.\n",
    "\n",
    "X = variaveis_uf_ano_dum[['valor_emendas', 'ano_emenda'] +  [col for col in variaveis_uf_ano_dum.columns if 'regiao_' in col]]\n",
    "X = sm.add_constant(X)  \n",
    "y = variaveis_uf_ano_dum['gastos']  \n",
    "\n",
    "# Ajuste do modelo\n",
    "model = sm.OLS(y, X).fit()\n",
    "\n",
    "# Calcular R²\n",
    "r2 = model.rsquared\n",
    "\n",
    "# Use o Plotly Express para criar o gráfico\n",
    "fig = px.scatter(variaveis_uf_ano_dum, x='valor_emendas', y='gastos', trendline=\"ols\", title='Regressão Linear Simples',\n",
    "                labels={'valor_emendas': 'Valor das Emendas', 'gastos': 'Gastos'},\n",
    "                hover_data=['valor_emendas', 'gastos'])\n",
    "\n",
    "\n",
    "# Adicione uma anotação para R²\n",
    "fig.add_annotation(x=0.1, y=0.9, text=f\"R² = {r2:.2f}\", showarrow=False, \n",
    "                   xref=\"paper\", yref=\"paper\")\n",
    "\n",
    "fig.update_layout(autosize=False, width=800, height=600)\n",
    "\n",
    "# Mostrar a figura\n",
    "fig.show()"
   ]
  },
  {
   "cell_type": "code",
   "execution_count": null,
   "id": "78c42407-01dd-4c15-a69f-5378e2438f48",
   "metadata": {},
   "outputs": [],
   "source": [
    "# Ajuste o modelo de regressão logística, controlando por antes e depois de 2018. \n",
    "X = variaveis_uf_ano_dum[['valor_emendas', 'ano_emenda']]  # Variáveis independentes (características)\n",
    "X = sm.add_constant(X)  # Adiciona uma constante para o termo de intercepção\n",
    "y = variaveis_uf_ano_dum['gastos']  # Variável dependente (alvo)\n",
    "\n",
    "# Ajuste do modelo\n",
    "model = sm.OLS(y, X).fit()\n",
    "\n",
    "# Imprima o resumo do modelo\n",
    "print(model.summary())"
   ]
  },
  {
   "cell_type": "code",
   "execution_count": null,
   "id": "eed693d7-5407-461b-8322-24e9802696e1",
   "metadata": {},
   "outputs": [],
   "source": [
    "# # Ajuste o modelo de regressão logística, controlando por antes e depois de 2018 e por região\n",
    "X = variaveis_uf_ano_dum[['valor_emendas', 'ano_emenda'] + [col for col in variaveis_uf_ano_dum.columns if 'regiao_' in col]]  # Variáveis independentes (características)\n",
    "X = sm.add_constant(X)  # Adiciona uma constante para o termo de intercepção\n",
    "y = variaveis_uf_ano_dum['gastos']  # Variável dependente (alvo)\n",
    "\n",
    "# Ajuste do modelo\n",
    "model = sm.OLS(y, X).fit()\n",
    "\n",
    "# Imprima o resumo do modelo\n",
    "print(model.summary())"
   ]
  },
  {
   "cell_type": "code",
   "execution_count": null,
   "id": "aadcf6f6-839a-4d70-9c66-44a2d53c863a",
   "metadata": {},
   "outputs": [],
   "source": [
    "X = variaveis_uf_ano_dum[['valor_emendas', 'ano_emenda'] + [col for col in variaveis_uf_ano_dum.columns if 'regiao_' in col]]  \n",
    "X = sm.add_constant(X)  \n",
    "y = variaveis_uf_ano_dum['gastos']  \n",
    "\n",
    "model = sm.OLS(y, X).fit()\n",
    "\n",
    "# Obtenha o resumo do modelo completo\n",
    "summary = model.summary()\n",
    "\n",
    "# Imprima o resumo do modelo\n",
    "print(summary)"
   ]
  },
  {
   "cell_type": "code",
   "execution_count": null,
   "id": "096f92d8-57a7-4f13-a9fd-6624907e5406",
   "metadata": {},
   "outputs": [],
   "source": []
  },
  {
   "cell_type": "code",
   "execution_count": null,
   "id": "b21329b6-c624-451b-b91b-9e3a639d2243",
   "metadata": {},
   "outputs": [],
   "source": []
  },
  {
   "cell_type": "code",
   "execution_count": null,
   "id": "2dc468b2-d4e3-4678-9e49-daee4aa5fea6",
   "metadata": {},
   "outputs": [],
   "source": [
    "# Ver se tem outliers.\n",
    "import seaborn as sns\n",
    "from sklearn.preprocessing import MinMaxScaler\n",
    "\n",
    "cluster_df = variaveis_uf_ano[['gastos','valor_emendas']].copy()\n",
    "\n",
    "cluster_df['gastos'] = MinMaxScaler().\\\n",
    "    fit_transform(cluster_df[['gastos']])\n",
    "cluster_df['valor_emendas'] = MinMaxScaler().\\\n",
    "    fit_transform(cluster_df[['valor_emendas']])\n",
    "\n",
    "from sklearn.cluster import DBSCAN\n",
    "cluster = DBSCAN().fit(cluster_df[['valor_emendas', 'gastos']])\n",
    "ax = sns.scatterplot(data=cluster_df, x='valor_emendas', y='gastos', \n",
    "                     c=cluster.labels_)\n",
    "ax.legend(['Não é outlier'])\n",
    "#for state, idh, letalidade in zip(df.nome, df['valor_emendas'], \n",
    "#                                 df['gastos']):\n",
    "#  ax.annotate(state, xy=(gastos, letalidade))"
   ]
  }
 ],
 "metadata": {
  "kernelspec": {
   "display_name": "Python 3 (ipykernel)",
   "language": "python",
   "name": "python3"
  },
  "language_info": {
   "codemirror_mode": {
    "name": "ipython",
    "version": 3
   },
   "file_extension": ".py",
   "mimetype": "text/x-python",
   "name": "python",
   "nbconvert_exporter": "python",
   "pygments_lexer": "ipython3",
   "version": "3.11.6"
  }
 },
 "nbformat": 4,
 "nbformat_minor": 5
}
