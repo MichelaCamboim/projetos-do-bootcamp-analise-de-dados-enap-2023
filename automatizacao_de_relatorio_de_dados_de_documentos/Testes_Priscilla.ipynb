{
 "cells": [
  {
   "cell_type": "markdown",
   "id": "d1610f83-661e-4c9e-8d52-02593546a6d0",
   "metadata": {},
   "source": [
    "teste_pull_branch"
   ]
  },
  {
   "cell_type": "code",
   "execution_count": 1,
   "id": "2fd88c4f-926e-496b-a2da-e441e6431138",
   "metadata": {},
   "outputs": [],
   "source": [
    "import pandas as pd"
   ]
  },
  {
   "cell_type": "code",
   "execution_count": null,
   "id": "70bc7ab2-7abe-444e-ae56-e4a05e9789b9",
   "metadata": {},
   "outputs": [],
   "source": []
  }
 ],
 "metadata": {
  "kernelspec": {
   "display_name": "Python 3 (ipykernel)",
   "language": "python",
   "name": "python3"
  },
  "language_info": {
   "codemirror_mode": {
    "name": "ipython",
    "version": 3
   },
   "file_extension": ".py",
   "mimetype": "text/x-python",
   "name": "python",
   "nbconvert_exporter": "python",
   "pygments_lexer": "ipython3",
   "version": "3.11.6"
  }
 },
 "nbformat": 4,
 "nbformat_minor": 5
}
