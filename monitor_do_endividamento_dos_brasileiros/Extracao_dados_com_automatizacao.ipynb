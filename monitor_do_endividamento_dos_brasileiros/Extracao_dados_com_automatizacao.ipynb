{
 "cells": [
  {
   "cell_type": "code",
   "execution_count": 1,
   "id": "902f92b1-c15c-4e44-bc78-99f8d312964c",
   "metadata": {},
   "outputs": [
    {
     "name": "stdout",
     "output_type": "stream",
     "text": [
      "Arquivo planilha_2012.zip baixado com sucesso!\n",
      "Arquivo planilha_2013.zip baixado com sucesso!\n",
      "Arquivo planilha_2014.zip baixado com sucesso!\n",
      "Arquivo planilha_2015.zip baixado com sucesso!\n",
      "Arquivo planilha_2016.zip baixado com sucesso!\n",
      "Arquivo planilha_2017.zip baixado com sucesso!\n",
      "Arquivo planilha_2018.zip baixado com sucesso!\n",
      "Arquivo planilha_2019.zip baixado com sucesso!\n",
      "Arquivo planilha_2020.zip baixado com sucesso!\n",
      "Arquivo planilha_2021.zip baixado com sucesso!\n",
      "Arquivo planilha_2022.zip baixado com sucesso!\n",
      "Arquivo planilha_2023.zip baixado com sucesso!\n"
     ]
    }
   ],
   "source": [
    "import requests\n",
    "\n",
    "# Criar uma lista de anos para os quais você deseja baixar os arquivos\n",
    "anos = list(range(2012, 2024))\n",
    "\n",
    "for ano in anos:\n",
    "    # Construir o URL dinamicamente com base no ano\n",
    "    url = f'https://www.bcb.gov.br/pda/desig/planilha_{ano}.zip'\n",
    "    \n",
    "    # Baixar o arquivo ZIP\n",
    "    r = requests.get(url, allow_redirects=True)\n",
    "\n",
    "    # Especificar o nome do arquivo ZIP para salvar\n",
    "    arquivo_zip = f'planilha_{ano}.zip'\n",
    "\n",
    "    # Salvar o arquivo ZIP\n",
    "    with open(arquivo_zip, 'wb') as f:\n",
    "        f.write(r.content)\n",
    "    \n",
    "    print(f\"Arquivo {arquivo_zip} baixado com sucesso!\")"
   ]
  },
  {
   "cell_type": "code",
   "execution_count": 2,
   "id": "c033ca6b-3cbd-4f6d-93e2-bc9ff8fab734",
   "metadata": {
    "tags": []
   },
   "outputs": [],
   "source": [
    "import zipfile\n",
    "import os"
   ]
  },
  {
   "cell_type": "code",
   "execution_count": 3,
   "id": "3fc87499-6fbe-4040-b018-767a2fe13e54",
   "metadata": {
    "tags": []
   },
   "outputs": [],
   "source": [
    "def extrair_zip_por_ano(ano):\n",
    "    zip_file_name = f'planilha_{ano}.zip'\n",
    "    extracao_dir = f'planilha_{ano}'\n",
    "\n",
    "    with zipfile.ZipFile(zip_file_name, 'r') as zip_ref:\n",
    "        zip_ref.extractall(extracao_dir)\n",
    "        \n",
    "    extracted_files = os.listdir(extracao_dir)\n",
    "    for file_name in extracted_files:\n",
    "        print(f\"Arquivo extraído: {file_name}\")"
   ]
  },
  {
   "cell_type": "code",
   "execution_count": null,
   "id": "0f2f35a2-96fc-4942-877d-1c40172275a8",
   "metadata": {
    "tags": []
   },
   "outputs": [],
   "source": [
    "extrair_zip_por_ano(2013) #trocar o ano pelo ano que você deseja extrair o arquivo\n",
    "#Se você quiser extrair para mais de um ano de uma vez, use a linha abaixo"
   ]
  },
  {
   "cell_type": "code",
   "execution_count": 6,
   "id": "e94883f8-5e67-4d3b-a980-f7af6d582c70",
   "metadata": {
    "tags": []
   },
   "outputs": [
    {
     "name": "stdout",
     "output_type": "stream",
     "text": [
      "Arquivo extraído: planilha_201206.csv\n",
      "Arquivo extraído: planilha_201212.csv\n",
      "Arquivo extraído: planilha_201207.csv\n",
      "Arquivo extraído: planilha_201211.csv\n",
      "Arquivo extraído: planilha_201210.csv\n",
      "Arquivo extraído: planilha_201209.csv\n",
      "Arquivo extraído: planilha_201208.csv\n",
      "Arquivo extraído: planilha_201311.csv\n",
      "Arquivo extraído: planilha_201305.csv\n",
      "Arquivo extraído: planilha_201304.csv\n",
      "Arquivo extraído: planilha_201310.csv\n",
      "Arquivo extraído: planilha_201306.csv\n",
      "Arquivo extraído: planilha_201312.csv\n",
      "Arquivo extraído: planilha_201307.csv\n",
      "Arquivo extraído: planilha_201303.csv\n",
      "Arquivo extraído: planilha_201302.csv\n",
      "Arquivo extraído: planilha_201301.csv\n",
      "Arquivo extraído: planilha_201309.csv\n",
      "Arquivo extraído: planilha_201308.csv\n",
      "Arquivo extraído: planilha_201401.csv\n",
      "Arquivo extraído: planilha_201403.csv\n",
      "Arquivo extraído: planilha_201402.csv\n",
      "Arquivo extraído: planilha_201406.csv\n",
      "Arquivo extraído: planilha_201412.csv\n",
      "Arquivo extraído: planilha_201407.csv\n",
      "Arquivo extraído: planilha_201411.csv\n",
      "Arquivo extraído: planilha_201405.csv\n",
      "Arquivo extraído: planilha_201404.csv\n",
      "Arquivo extraído: planilha_201410.csv\n",
      "Arquivo extraído: planilha_201409.csv\n",
      "Arquivo extraído: planilha_201408.csv\n",
      "Arquivo extraído: planilha_201503.csv\n",
      "Arquivo extraído: planilha_201502.csv\n",
      "Arquivo extraído: planilha_201501.csv\n",
      "Arquivo extraído: planilha_201511.csv\n",
      "Arquivo extraído: planilha_201505.csv\n",
      "Arquivo extraído: planilha_201504.csv\n",
      "Arquivo extraído: planilha_201510.csv\n",
      "Arquivo extraído: planilha_201506.csv\n",
      "Arquivo extraído: planilha_201512.csv\n",
      "Arquivo extraído: planilha_201507.csv\n",
      "Arquivo extraído: planilha_201509.csv\n",
      "Arquivo extraído: planilha_201508.csv\n",
      "Arquivo extraído: planilha_201602.csv\n",
      "Arquivo extraído: planilha_201603.csv\n",
      "Arquivo extraído: planilha_201601.csv\n",
      "Arquivo extraído: planilha_201604.csv\n",
      "Arquivo extraído: planilha_201610.csv\n",
      "Arquivo extraído: planilha_201611.csv\n",
      "Arquivo extraído: planilha_201605.csv\n",
      "Arquivo extraído: planilha_201607.csv\n",
      "Arquivo extraído: planilha_201606.csv\n",
      "Arquivo extraído: planilha_201612.csv\n",
      "Arquivo extraído: planilha_201608.csv\n",
      "Arquivo extraído: planilha_201609.csv\n",
      "Arquivo extraído: planilha_201701.csv\n",
      "Arquivo extraído: planilha_201702.csv\n",
      "Arquivo extraído: planilha_201703.csv\n",
      "Arquivo extraído: planilha_201707.csv\n",
      "Arquivo extraído: planilha_201706.csv\n",
      "Arquivo extraído: planilha_201712.csv\n",
      "Arquivo extraído: planilha_201704.csv\n",
      "Arquivo extraído: planilha_201710.csv\n",
      "Arquivo extraído: planilha_201711.csv\n",
      "Arquivo extraído: planilha_201705.csv\n",
      "Arquivo extraído: planilha_201708.csv\n",
      "Arquivo extraído: planilha_201709.csv\n",
      "Arquivo extraído: planilha_201808.csv\n",
      "Arquivo extraído: planilha_201809.csv\n",
      "Arquivo extraído: planilha_201810.csv\n",
      "Arquivo extraído: planilha_201804.csv\n",
      "Arquivo extraído: planilha_201805.csv\n",
      "Arquivo extraído: planilha_201811.csv\n",
      "Arquivo extraído: planilha_201807.csv\n",
      "Arquivo extraído: planilha_201812.csv\n",
      "Arquivo extraído: planilha_201806.csv\n",
      "Arquivo extraído: planilha_201802.csv\n",
      "Arquivo extraído: planilha_201803.csv\n",
      "Arquivo extraído: planilha_201801.csv\n",
      "Arquivo extraído: planilha_201908.csv\n",
      "Arquivo extraído: planilha_201909.csv\n",
      "Arquivo extraído: planilha_201907.csv\n",
      "Arquivo extraído: planilha_201912.csv\n",
      "Arquivo extraído: planilha_201906.csv\n",
      "Arquivo extraído: planilha_201910.csv\n",
      "Arquivo extraído: planilha_201904.csv\n",
      "Arquivo extraído: planilha_201905.csv\n",
      "Arquivo extraído: planilha_201911.csv\n",
      "Arquivo extraído: planilha_201901.csv\n",
      "Arquivo extraído: planilha_201902.csv\n",
      "Arquivo extraído: planilha_201903.csv\n",
      "Arquivo extraído: planilha_202009.csv\n",
      "Arquivo extraído: planilha_202008.csv\n",
      "Arquivo extraído: planilha_202003.csv\n",
      "Arquivo extraído: planilha_202002.csv\n",
      "Arquivo extraído: planilha_202001.csv\n",
      "Arquivo extraído: planilha_202005.csv\n",
      "Arquivo extraído: planilha_202011.csv\n",
      "Arquivo extraído: planilha_202010.csv\n",
      "Arquivo extraído: planilha_202004.csv\n",
      "Arquivo extraído: planilha_202012.csv\n",
      "Arquivo extraído: planilha_202006.csv\n",
      "Arquivo extraído: planilha_202007.csv\n",
      "Arquivo extraído: planilha_202109.csv\n",
      "Arquivo extraído: planilha_202108.csv\n",
      "Arquivo extraído: planilha_202101.csv\n",
      "Arquivo extraído: planilha_202103.csv\n",
      "Arquivo extraído: planilha_202102.csv\n",
      "Arquivo extraído: planilha_202112.csv\n",
      "Arquivo extraído: planilha_202106.csv\n",
      "Arquivo extraído: planilha_202107.csv\n",
      "Arquivo extraído: planilha_202105.csv\n",
      "Arquivo extraído: planilha_202111.csv\n",
      "Arquivo extraído: planilha_202110.csv\n",
      "Arquivo extraído: planilha_202104.csv\n",
      "Arquivo extraído: planilha_202208.csv\n",
      "Arquivo extraído: planilha_202209.csv\n",
      "Arquivo extraído: planilha_202201.csv\n",
      "Arquivo extraído: planilha_202202.csv\n",
      "Arquivo extraído: planilha_202203.csv\n",
      "Arquivo extraído: planilha_202207.csv\n",
      "Arquivo extraído: planilha_202212.csv\n",
      "Arquivo extraído: planilha_202206.csv\n",
      "Arquivo extraído: planilha_202210.csv\n",
      "Arquivo extraído: planilha_202204.csv\n",
      "Arquivo extraído: planilha_202205.csv\n",
      "Arquivo extraído: planilha_202211.csv\n",
      "Arquivo extraído: planilha_202308.csv\n",
      "Arquivo extraído: planilha_202302.csv\n",
      "Arquivo extraído: planilha_202303.csv\n",
      "Arquivo extraído: planilha_202301.csv\n",
      "Arquivo extraído: planilha_202304.csv\n",
      "Arquivo extraído: planilha_202305.csv\n",
      "Arquivo extraído: planilha_202307.csv\n",
      "Arquivo extraído: planilha_202306.csv\n"
     ]
    }
   ],
   "source": [
    "anos = list(range(2012, 2024))\n",
    "\n",
    "for ano in anos:\n",
    "    extrair_zip_por_ano(ano)"
   ]
  },
  {
   "cell_type": "code",
   "execution_count": 7,
   "id": "3b8fccd1-741b-4815-9fc1-34dc3b725fa8",
   "metadata": {
    "tags": []
   },
   "outputs": [],
   "source": [
    "import pandas as pd"
   ]
  },
  {
   "cell_type": "code",
   "execution_count": 8,
   "id": "e0f9aa6d-4c6c-48e2-997f-e2a92355f88d",
   "metadata": {
    "tags": []
   },
   "outputs": [],
   "source": [
    "def concatenar_csvs(diretorio):\n",
    "    frames = []\n",
    "\n",
    "    for arquivo in os.listdir(diretorio):\n",
    "        if arquivo.endswith('.csv'):\n",
    "            caminho_arquivo = os.path.join(diretorio, arquivo)\n",
    "            \n",
    "            df = pd.read_csv(caminho_arquivo, encoding='utf-8', delimiter = \";\")\n",
    "            \n",
    "            frames.append(df)\n",
    "\n",
    "    df_concatenado = pd.concat(frames, ignore_index=True)\n",
    "\n",
    "    return df_concatenado"
   ]
  },
  {
   "cell_type": "markdown",
   "id": "8dd24139-6772-4bdd-94b2-8beab3c0b28e",
   "metadata": {},
   "source": [
    "**A partir daqui, a concatenação é feita planilha por planilha para não sobrecarregar\n",
    "\n",
    "***Sugiro usar o to_csv apenas após fazer as transformações necessárias\n",
    "\n",
    "****Mas, se você quiser automatizar e fazer tudo de uma vez, tem um código para isso após a linha dicionario_2012.head(5)"
   ]
  },
  {
   "cell_type": "code",
   "execution_count": 9,
   "id": "195b506f-f0a9-4371-bc8b-1a8acdc2d354",
   "metadata": {
    "tags": []
   },
   "outputs": [],
   "source": [
    "dados_2012 = concatenar_csvs(\"planilha_2012\")"
   ]
  },
  {
   "cell_type": "code",
   "execution_count": 11,
   "id": "7fbd8259-9cba-4702-9191-ab6433527f02",
   "metadata": {
    "tags": []
   },
   "outputs": [],
   "source": [
    "dados_2012['a_vencer_de_361_ate_1080_dias'] = dados_2012['a_vencer_de_361_ate_1080_dias'].str.replace(',', '.')"
   ]
  },
  {
   "cell_type": "code",
   "execution_count": 12,
   "id": "17aced0b-1291-4b56-aead-0ad9fb9ec45a",
   "metadata": {
    "tags": []
   },
   "outputs": [],
   "source": [
    "dados_2012['a_vencer_de_361_ate_1080_dias'] = pd.to_numeric(dados_2012['a_vencer_de_361_ate_1080_dias'], errors='coerce')"
   ]
  },
  {
   "cell_type": "code",
   "execution_count": 13,
   "id": "fa4edb1c-e27c-45fa-81e3-ae018a0d4152",
   "metadata": {
    "tags": []
   },
   "outputs": [
    {
     "data": {
      "text/plain": [
       "0             1203.94\n",
       "1             2911.48\n",
       "2                0.00\n",
       "3          6558429.77\n",
       "4          1507329.67\n",
       "              ...    \n",
       "3230178          0.00\n",
       "3230179      11954.60\n",
       "3230180          0.00\n",
       "3230181     100518.44\n",
       "3230182          0.00\n",
       "Name: a_vencer_de_361_ate_1080_dias, Length: 3230183, dtype: float64"
      ]
     },
     "execution_count": 13,
     "metadata": {},
     "output_type": "execute_result"
    }
   ],
   "source": [
    "dados_2012['a_vencer_de_361_ate_1080_dias']"
   ]
  },
  {
   "cell_type": "code",
   "execution_count": 18,
   "id": "3738670a-6dfc-4702-b2ad-67bc6d43d1e3",
   "metadata": {
    "tags": []
   },
   "outputs": [],
   "source": [
    "dados_2012['data_base'] = pd.to_datetime(dados_2012['data_base'], format = \"%Y-%m-%d\")"
   ]
  },
  {
   "cell_type": "code",
   "execution_count": 20,
   "id": "a4cd2a7e-5c79-456d-b6c3-fc3289122d1e",
   "metadata": {
    "tags": []
   },
   "outputs": [],
   "source": [
    "dados_2012['data_base'] = dados_2012['data_base'].dt.to_period('M')"
   ]
  },
  {
   "cell_type": "code",
   "execution_count": 21,
   "id": "9a64306e-20de-4626-81fb-eaab13d9b2fa",
   "metadata": {
    "tags": []
   },
   "outputs": [
    {
     "data": {
      "text/plain": [
       "0          2012-06\n",
       "1          2012-06\n",
       "2          2012-06\n",
       "3          2012-06\n",
       "4          2012-06\n",
       "            ...   \n",
       "3230178    2012-08\n",
       "3230179    2012-08\n",
       "3230180    2012-08\n",
       "3230181    2012-08\n",
       "3230182    2012-08\n",
       "Name: data_base, Length: 3230183, dtype: period[M]"
      ]
     },
     "execution_count": 21,
     "metadata": {},
     "output_type": "execute_result"
    }
   ],
   "source": [
    "dados_2012['data_base']"
   ]
  },
  {
   "cell_type": "code",
   "execution_count": 14,
   "id": "284f863a-7d12-4b36-9b03-586113d36d30",
   "metadata": {
    "tags": []
   },
   "outputs": [],
   "source": [
    "meu_dicionario = dados_2012.groupby(['data_base'])['a_vencer_de_361_ate_1080_dias'].sum().reset_index()"
   ]
  },
  {
   "cell_type": "code",
   "execution_count": 15,
   "id": "68170c9b-69e9-4e41-94fa-ccc0a8b776e4",
   "metadata": {
    "tags": []
   },
   "outputs": [],
   "source": [
    "dicionario_2012 = pd.DataFrame(meu_dicionario)"
   ]
  },
  {
   "cell_type": "code",
   "execution_count": 16,
   "id": "e1659de2-7785-4b9e-8cc1-ec50d8f20948",
   "metadata": {
    "tags": []
   },
   "outputs": [
    {
     "data": {
      "text/html": [
       "<div>\n",
       "<style scoped>\n",
       "    .dataframe tbody tr th:only-of-type {\n",
       "        vertical-align: middle;\n",
       "    }\n",
       "\n",
       "    .dataframe tbody tr th {\n",
       "        vertical-align: top;\n",
       "    }\n",
       "\n",
       "    .dataframe thead th {\n",
       "        text-align: right;\n",
       "    }\n",
       "</style>\n",
       "<table border=\"1\" class=\"dataframe\">\n",
       "  <thead>\n",
       "    <tr style=\"text-align: right;\">\n",
       "      <th></th>\n",
       "      <th>data_base</th>\n",
       "      <th>a_vencer_de_361_ate_1080_dias</th>\n",
       "    </tr>\n",
       "  </thead>\n",
       "  <tbody>\n",
       "    <tr>\n",
       "      <th>0</th>\n",
       "      <td>2012-06-30</td>\n",
       "      <td>5.819965e+11</td>\n",
       "    </tr>\n",
       "    <tr>\n",
       "      <th>1</th>\n",
       "      <td>2012-07-31</td>\n",
       "      <td>5.952558e+11</td>\n",
       "    </tr>\n",
       "    <tr>\n",
       "      <th>2</th>\n",
       "      <td>2012-08-31</td>\n",
       "      <td>6.032827e+11</td>\n",
       "    </tr>\n",
       "    <tr>\n",
       "      <th>3</th>\n",
       "      <td>2012-09-30</td>\n",
       "      <td>6.024891e+11</td>\n",
       "    </tr>\n",
       "    <tr>\n",
       "      <th>4</th>\n",
       "      <td>2012-10-31</td>\n",
       "      <td>6.318362e+11</td>\n",
       "    </tr>\n",
       "  </tbody>\n",
       "</table>\n",
       "</div>"
      ],
      "text/plain": [
       "    data_base  a_vencer_de_361_ate_1080_dias\n",
       "0  2012-06-30                   5.819965e+11\n",
       "1  2012-07-31                   5.952558e+11\n",
       "2  2012-08-31                   6.032827e+11\n",
       "3  2012-09-30                   6.024891e+11\n",
       "4  2012-10-31                   6.318362e+11"
      ]
     },
     "execution_count": 16,
     "metadata": {},
     "output_type": "execute_result"
    }
   ],
   "source": [
    "dicionario_2012.head(5)"
   ]
  },
  {
   "cell_type": "code",
   "execution_count": 27,
   "id": "0c8abc46-6c0d-421d-ba52-311d59a6e815",
   "metadata": {
    "tags": []
   },
   "outputs": [],
   "source": [
    "def automatizacao_groupby(ano):\n",
    "    dados = concatenar_csvs(f\"planilha_{ano}\")\n",
    "    \n",
    "    dados['a_vencer_de_361_ate_1080_dias'] = dados['a_vencer_de_361_ate_1080_dias'].str.replace(',', '.')\n",
    "    dados['a_vencer_de_361_ate_1080_dias'] = pd.to_numeric(dados['a_vencer_de_361_ate_1080_dias'], errors='coerce')\n",
    "    \n",
    "    dados['data_base'] = pd.to_datetime(dados['data_base'], format=\"%Y-%m-%d\")\n",
    "    dados['data_base'] = dados['data_base'].dt.to_period('M')\n",
    "    \n",
    "    meu_dicionario = dados.groupby(['data_base'])['a_vencer_de_361_ate_1080_dias'].sum().reset_index()\n",
    "    dicionario = pd.DataFrame(meu_dicionario)\n",
    "    \n",
    "    dataframes.append(dicionario)\n",
    "    \n",
    "dataframes = []"
   ]
  },
  {
   "cell_type": "code",
   "execution_count": 28,
   "id": "7371f82a-6b6a-450c-a327-78983cc64e27",
   "metadata": {
    "tags": []
   },
   "outputs": [],
   "source": [
    "for ano in range(2012, 2024):\n",
    "    automatizacao_groupby(ano)"
   ]
  },
  {
   "cell_type": "code",
   "execution_count": 29,
   "id": "24507378-1fb6-47f2-b61f-bcd59ed89894",
   "metadata": {
    "tags": []
   },
   "outputs": [
    {
     "data": {
      "text/plain": [
       "[  data_base  a_vencer_de_361_ate_1080_dias\n",
       " 0   2012-06                   5.819965e+11\n",
       " 1   2012-07                   5.952558e+11\n",
       " 2   2012-08                   6.032827e+11\n",
       " 3   2012-09                   6.024891e+11\n",
       " 4   2012-10                   6.318362e+11\n",
       " 5   2012-11                   6.384308e+11\n",
       " 6   2012-12                   6.508781e+11,\n",
       "    data_base  a_vencer_de_361_ate_1080_dias\n",
       " 0    2013-01                   6.539443e+11\n",
       " 1    2013-02                   6.579861e+11\n",
       " 2    2013-03                   6.481237e+11\n",
       " 3    2013-04                   6.779428e+11\n",
       " 4    2013-05                   6.898174e+11\n",
       " 5    2013-06                   6.772245e+11\n",
       " 6    2013-07                   7.109691e+11\n",
       " 7    2013-08                   7.136383e+11\n",
       " 8    2013-09                   7.108068e+11\n",
       " 9    2013-10                   7.045516e+11\n",
       " 10   2013-11                   6.838371e+11\n",
       " 11   2013-12                   7.207290e+11,\n",
       "    data_base  a_vencer_de_361_ate_1080_dias\n",
       " 0    2014-01                   7.187431e+11\n",
       " 1    2014-02                   7.217451e+11\n",
       " 2    2014-03                   7.278661e+11\n",
       " 3    2014-04                   7.308715e+11\n",
       " 4    2014-05                   7.471109e+11\n",
       " 5    2014-06                   7.481896e+11\n",
       " 6    2014-07                   7.491583e+11\n",
       " 7    2014-08                   7.585536e+11\n",
       " 8    2014-09                   7.567874e+11\n",
       " 9    2014-10                   7.661414e+11\n",
       " 10   2014-11                   7.690992e+11\n",
       " 11   2014-12                   7.891095e+11,\n",
       "    data_base  a_vencer_de_361_ate_1080_dias\n",
       " 0    2015-01                   7.885313e+11\n",
       " 1    2015-02                   7.803051e+11\n",
       " 2    2015-03                   7.827858e+11\n",
       " 3    2015-04                   7.752037e+11\n",
       " 4    2015-05                   7.809997e+11\n",
       " 5    2015-06                   7.779622e+11\n",
       " 6    2015-07                   7.844506e+11\n",
       " 7    2015-08                   7.922201e+11\n",
       " 8    2015-09                   7.814310e+11\n",
       " 9    2015-10                   7.841826e+11\n",
       " 10   2015-11                   7.779723e+11\n",
       " 11   2015-12                   7.895477e+11,\n",
       "    data_base  a_vencer_de_361_ate_1080_dias\n",
       " 0    2016-01                   7.895473e+11\n",
       " 1    2016-02                   7.827363e+11\n",
       " 2    2016-03                   7.856460e+11\n",
       " 3    2016-04                   7.847370e+11\n",
       " 4    2016-05                   7.902783e+11\n",
       " 5    2016-06                   7.923546e+11\n",
       " 6    2016-07                   7.915716e+11\n",
       " 7    2016-08                   7.890252e+11\n",
       " 8    2016-09                   7.709408e+11\n",
       " 9    2016-10                   7.655168e+11\n",
       " 10   2016-11                   7.622943e+11\n",
       " 11   2016-12                   7.670632e+11,\n",
       "    data_base  a_vencer_de_361_ate_1080_dias\n",
       " 0    2017-01                   7.657755e+11\n",
       " 1    2017-02                   7.610822e+11\n",
       " 2    2017-03                   7.633220e+11\n",
       " 3    2017-04                   7.622482e+11\n",
       " 4    2017-05                   7.751513e+11\n",
       " 5    2017-06                   7.697023e+11\n",
       " 6    2017-07                   7.683334e+11\n",
       " 7    2017-08                   7.583532e+11\n",
       " 8    2017-09                   7.545089e+11\n",
       " 9    2017-10                   7.553287e+11\n",
       " 10   2017-11                   7.501287e+11\n",
       " 11   2017-12                   7.512476e+11,\n",
       "   data_base  a_vencer_de_361_ate_1080_dias\n",
       " 0   2018-01                   7.478337e+11\n",
       " 1   2018-02                   7.301081e+11\n",
       " 2   2018-03                   7.336607e+11\n",
       " 3   2018-04                   7.369955e+11\n",
       " 4   2018-05                   7.400668e+11\n",
       " 5   2018-06                   7.416897e+11\n",
       " 6   2018-07                   7.455705e+11\n",
       " 7   2018-08                   7.531603e+11\n",
       " 8   2018-12                   7.616068e+11,\n",
       "    data_base  a_vencer_de_361_ate_1080_dias\n",
       " 0    2019-01                   7.595852e+11\n",
       " 1    2019-02                   7.585410e+11\n",
       " 2    2019-03                   7.639306e+11\n",
       " 3    2019-04                   7.640337e+11\n",
       " 4    2019-05                   7.707050e+11\n",
       " 5    2019-06                   7.698373e+11\n",
       " 6    2019-07                   7.805234e+11\n",
       " 7    2019-08                   7.893459e+11\n",
       " 8    2019-09                   7.943264e+11\n",
       " 9    2019-10                   8.066652e+11\n",
       " 10   2019-11                   8.127638e+11\n",
       " 11   2019-12                   8.194034e+11,\n",
       "    data_base  a_vencer_de_361_ate_1080_dias\n",
       " 0    2020-01                   8.232217e+11\n",
       " 1    2020-02                   8.169174e+11\n",
       " 2    2020-03                   8.560494e+11\n",
       " 3    2020-04                   8.718090e+11\n",
       " 4    2020-05                   8.829650e+11\n",
       " 5    2020-06                   9.060745e+11\n",
       " 6    2020-07                   9.365032e+11\n",
       " 7    2020-08                   9.599952e+11\n",
       " 8    2020-09                   1.000042e+12\n",
       " 9    2020-10                   1.026058e+12\n",
       " 10   2020-11                   1.051311e+12\n",
       " 11   2020-12                   1.069505e+12,\n",
       "    data_base  a_vencer_de_361_ate_1080_dias\n",
       " 0    2021-01                   1.069065e+12\n",
       " 1    2021-02                   1.073294e+12\n",
       " 2    2021-03                   1.082876e+12\n",
       " 3    2021-04                   1.086896e+12\n",
       " 4    2021-05                   1.096468e+12\n",
       " 5    2021-06                   1.094105e+12\n",
       " 6    2021-07                   1.114887e+12\n",
       " 7    2021-08                   1.124564e+12\n",
       " 8    2021-09                   1.136339e+12\n",
       " 9    2021-10                   1.152119e+12\n",
       " 10   2021-11                   1.155414e+12\n",
       " 11   2021-12                   1.169364e+12,\n",
       "    data_base  a_vencer_de_361_ate_1080_dias\n",
       " 0    2022-01                   1.173959e+12\n",
       " 1    2022-02                   1.176318e+12\n",
       " 2    2022-03                   1.181623e+12\n",
       " 3    2022-04                   1.191346e+12\n",
       " 4    2022-05                   1.205187e+12\n",
       " 5    2022-06                   1.213569e+12\n",
       " 6    2022-07                   1.229720e+12\n",
       " 7    2022-08                   1.252484e+12\n",
       " 8    2022-09                   1.266208e+12\n",
       " 9    2022-10                   1.280586e+12\n",
       " 10   2022-11                   1.292811e+12\n",
       " 11   2022-12                   1.311917e+12,\n",
       "   data_base  a_vencer_de_361_ate_1080_dias\n",
       " 0   2023-01                   1.315817e+12\n",
       " 1   2023-02                   1.321630e+12\n",
       " 2   2023-03                   1.333083e+12\n",
       " 3   2023-04                   1.341407e+12\n",
       " 4   2023-05                   1.354744e+12\n",
       " 5   2023-06                   1.358904e+12\n",
       " 6   2023-07                   1.367734e+12\n",
       " 7   2023-08                   1.390766e+12]"
      ]
     },
     "execution_count": 29,
     "metadata": {},
     "output_type": "execute_result"
    }
   ],
   "source": [
    "dataframes"
   ]
  },
  {
   "cell_type": "code",
   "execution_count": 32,
   "id": "95386c81-7de6-42f5-971a-fae47ea4c6b7",
   "metadata": {
    "tags": []
   },
   "outputs": [],
   "source": [
    "resultado_final = pd.concat(dataframes, ignore_index=True)"
   ]
  },
  {
   "cell_type": "code",
   "execution_count": 33,
   "id": "8c4740a7-3362-4488-91cf-8dbf7fe96e5a",
   "metadata": {
    "tags": []
   },
   "outputs": [],
   "source": [
    "df_para_estudo = pd.DataFrame(resultado_final)"
   ]
  },
  {
   "cell_type": "code",
   "execution_count": 34,
   "id": "c6e5f032-dff0-4976-a4ad-8faa4e2f83e7",
   "metadata": {
    "tags": []
   },
   "outputs": [
    {
     "data": {
      "text/html": [
       "<div>\n",
       "<style scoped>\n",
       "    .dataframe tbody tr th:only-of-type {\n",
       "        vertical-align: middle;\n",
       "    }\n",
       "\n",
       "    .dataframe tbody tr th {\n",
       "        vertical-align: top;\n",
       "    }\n",
       "\n",
       "    .dataframe thead th {\n",
       "        text-align: right;\n",
       "    }\n",
       "</style>\n",
       "<table border=\"1\" class=\"dataframe\">\n",
       "  <thead>\n",
       "    <tr style=\"text-align: right;\">\n",
       "      <th></th>\n",
       "      <th>data_base</th>\n",
       "      <th>a_vencer_de_361_ate_1080_dias</th>\n",
       "    </tr>\n",
       "  </thead>\n",
       "  <tbody>\n",
       "    <tr>\n",
       "      <th>0</th>\n",
       "      <td>2012-06</td>\n",
       "      <td>5.819965e+11</td>\n",
       "    </tr>\n",
       "    <tr>\n",
       "      <th>1</th>\n",
       "      <td>2012-07</td>\n",
       "      <td>5.952558e+11</td>\n",
       "    </tr>\n",
       "    <tr>\n",
       "      <th>2</th>\n",
       "      <td>2012-08</td>\n",
       "      <td>6.032827e+11</td>\n",
       "    </tr>\n",
       "    <tr>\n",
       "      <th>3</th>\n",
       "      <td>2012-09</td>\n",
       "      <td>6.024891e+11</td>\n",
       "    </tr>\n",
       "    <tr>\n",
       "      <th>4</th>\n",
       "      <td>2012-10</td>\n",
       "      <td>6.318362e+11</td>\n",
       "    </tr>\n",
       "  </tbody>\n",
       "</table>\n",
       "</div>"
      ],
      "text/plain": [
       "  data_base  a_vencer_de_361_ate_1080_dias\n",
       "0   2012-06                   5.819965e+11\n",
       "1   2012-07                   5.952558e+11\n",
       "2   2012-08                   6.032827e+11\n",
       "3   2012-09                   6.024891e+11\n",
       "4   2012-10                   6.318362e+11"
      ]
     },
     "execution_count": 34,
     "metadata": {},
     "output_type": "execute_result"
    }
   ],
   "source": [
    "df_para_estudo.head(5)"
   ]
  }
 ],
 "metadata": {
  "kernelspec": {
   "display_name": "Python 3 (ipykernel)",
   "language": "python",
   "name": "python3"
  },
  "language_info": {
   "codemirror_mode": {
    "name": "ipython",
    "version": 3
   },
   "file_extension": ".py",
   "mimetype": "text/x-python",
   "name": "python",
   "nbconvert_exporter": "python",
   "pygments_lexer": "ipython3",
   "version": "3.11.4"
  }
 },
 "nbformat": 4,
 "nbformat_minor": 5
}
