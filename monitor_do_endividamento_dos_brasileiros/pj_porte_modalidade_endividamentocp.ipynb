{
 "cells": [
  {
   "cell_type": "code",
   "execution_count": 1,
   "id": "72c7b2d9-6e43-4da8-9953-1c8ae19a40ad",
   "metadata": {},
   "outputs": [],
   "source": [
    "import zipfile\n",
    "import os\n",
    "import pandas as pd\n",
    "import plotly.express as px"
   ]
  },
  {
   "cell_type": "code",
   "execution_count": 2,
   "id": "2af851cc-55f0-41a6-aa2e-b4fe598c7bea",
   "metadata": {},
   "outputs": [],
   "source": [
    "def concatenar_csvs(diretorio):\n",
    "    frames = []\n",
    "\n",
    "    for arquivo in os.listdir(diretorio):\n",
    "        if arquivo.endswith('.csv'):\n",
    "            caminho_arquivo = os.path.join(diretorio, arquivo)\n",
    "            \n",
    "            df = pd.read_csv(caminho_arquivo, encoding='utf-8', delimiter=\";\", decimal=\",\")\n",
    "            df = df.rename(columns={df.columns[0]: \"data_base\"})\n",
    "            df['data_base'] = pd.to_datetime(df['data_base'], format=\"%Y-%m-%d\")\n",
    "            df['mes'] = df['data_base'].dt.month #cria uma nova coluna com mês\n",
    "\n",
    "              #Filtros:\n",
    "            df = df[df['mes'] == 12] #trocar para o ano que você quer filtrar\n",
    "            df['porte'] = df['porte'].str.replace(' ','')\n",
    "            filtro1 = df['porte'] == \"PJ-Micro\"\n",
    "            filtro2 = df['porte'] == \"PJ-Pequeno\"\n",
    "            df = df.loc[filtro1 | filtro2]\n",
    "            df['porte']=df['porte'].str.replace('PJ-','')\n",
    "            df['modalidade']=df['modalidade'].str.replace('PJ - ','')\n",
    "            df = df[['data_base', 'modalidade', 'porte', 'a_vencer_ate_90_dias','a_vencer_de_91_ate_360_dias']]\n",
    "            \n",
    "            #Nova coluna para endividamento de curto prazo\n",
    "            df['curto_prazo'] = df['a_vencer_ate_90_dias'] + df['a_vencer_de_91_ate_360_dias']\n",
    "            df = df.drop(columns = ['a_vencer_ate_90_dias', 'a_vencer_de_91_ate_360_dias'], axis = 1)\n",
    "            df['data_base'] = df['data_base'].dt.strftime('%Y-%m')\n",
    "            \n",
    "            #Agrupamentos para análise\n",
    "            df = df.groupby(['data_base','modalidade','porte'])['curto_prazo'].sum().reset_index()\n",
    "            \n",
    "            frames.append(df)\n",
    "\n",
    "    df_concatenado = pd.concat(frames, ignore_index=True)\n",
    "\n",
    "    return df_concatenado"
   ]
  },
  {
   "cell_type": "code",
   "execution_count": 3,
   "id": "f768cc9d-7873-4e66-9e59-6260aa38b84c",
   "metadata": {},
   "outputs": [],
   "source": [
    "anos = list(range(2012, 2024))\n",
    "dataframes = []\n",
    "\n",
    "for ano in anos:\n",
    "    diretorio = f\"planilha_{ano}\"\n",
    "    dataframe_ano = concatenar_csvs(diretorio)\n",
    "    dataframes.append(dataframe_ano)\n",
    "\n",
    "df_total = pd.concat(dataframes, ignore_index=False)"
   ]
  },
  {
   "cell_type": "code",
   "execution_count": 4,
   "id": "2dc40c6b-4535-44a6-8001-1ec269661225",
   "metadata": {
    "tags": []
   },
   "outputs": [
    {
     "data": {
      "text/html": [
       "<div>\n",
       "<style scoped>\n",
       "    .dataframe tbody tr th:only-of-type {\n",
       "        vertical-align: middle;\n",
       "    }\n",
       "\n",
       "    .dataframe tbody tr th {\n",
       "        vertical-align: top;\n",
       "    }\n",
       "\n",
       "    .dataframe thead th {\n",
       "        text-align: right;\n",
       "    }\n",
       "</style>\n",
       "<table border=\"1\" class=\"dataframe\">\n",
       "  <thead>\n",
       "    <tr style=\"text-align: right;\">\n",
       "      <th></th>\n",
       "      <th>data_base</th>\n",
       "      <th>modalidade</th>\n",
       "      <th>porte</th>\n",
       "      <th>curto_prazo</th>\n",
       "    </tr>\n",
       "  </thead>\n",
       "  <tbody>\n",
       "    <tr>\n",
       "      <th>0</th>\n",
       "      <td>2012-12</td>\n",
       "      <td>Capital de giro</td>\n",
       "      <td>Micro</td>\n",
       "      <td>2.254850e+10</td>\n",
       "    </tr>\n",
       "    <tr>\n",
       "      <th>1</th>\n",
       "      <td>2012-12</td>\n",
       "      <td>Capital de giro</td>\n",
       "      <td>Pequeno</td>\n",
       "      <td>3.326240e+10</td>\n",
       "    </tr>\n",
       "    <tr>\n",
       "      <th>2</th>\n",
       "      <td>2012-12</td>\n",
       "      <td>Cheque especial e conta garantida</td>\n",
       "      <td>Micro</td>\n",
       "      <td>5.704846e+09</td>\n",
       "    </tr>\n",
       "    <tr>\n",
       "      <th>3</th>\n",
       "      <td>2012-12</td>\n",
       "      <td>Cheque especial e conta garantida</td>\n",
       "      <td>Pequeno</td>\n",
       "      <td>9.197790e+09</td>\n",
       "    </tr>\n",
       "    <tr>\n",
       "      <th>4</th>\n",
       "      <td>2012-12</td>\n",
       "      <td>Comércio exterior</td>\n",
       "      <td>Micro</td>\n",
       "      <td>4.958361e+09</td>\n",
       "    </tr>\n",
       "  </tbody>\n",
       "</table>\n",
       "</div>"
      ],
      "text/plain": [
       "  data_base                         modalidade    porte   curto_prazo\n",
       "0   2012-12                    Capital de giro    Micro  2.254850e+10\n",
       "1   2012-12                    Capital de giro  Pequeno  3.326240e+10\n",
       "2   2012-12  Cheque especial e conta garantida    Micro  5.704846e+09\n",
       "3   2012-12  Cheque especial e conta garantida  Pequeno  9.197790e+09\n",
       "4   2012-12                  Comércio exterior    Micro  4.958361e+09"
      ]
     },
     "execution_count": 4,
     "metadata": {},
     "output_type": "execute_result"
    }
   ],
   "source": [
    "df_total.head()"
   ]
  },
  {
   "cell_type": "code",
   "execution_count": 5,
   "id": "806009f4-1c89-4bbd-8927-82bfbd841c61",
   "metadata": {},
   "outputs": [
    {
     "name": "stdout",
     "output_type": "stream",
     "text": [
      "<class 'pandas.core.frame.DataFrame'>\n",
      "Index: 198 entries, 0 to 17\n",
      "Data columns (total 4 columns):\n",
      " #   Column       Non-Null Count  Dtype  \n",
      "---  ------       --------------  -----  \n",
      " 0   data_base    198 non-null    object \n",
      " 1   modalidade   198 non-null    object \n",
      " 2   porte        198 non-null    object \n",
      " 3   curto_prazo  198 non-null    float64\n",
      "dtypes: float64(1), object(3)\n",
      "memory usage: 7.7+ KB\n"
     ]
    }
   ],
   "source": [
    "df_total.info()"
   ]
  },
  {
   "cell_type": "code",
   "execution_count": 6,
   "id": "7e87d51a-58d7-4aad-a3c5-c6886749a5b9",
   "metadata": {
    "tags": []
   },
   "outputs": [],
   "source": [
    "import deflatebr as dbr"
   ]
  },
  {
   "cell_type": "code",
   "execution_count": 7,
   "id": "2a25967d-7338-4701-a2a1-0f56055141a4",
   "metadata": {
    "tags": []
   },
   "outputs": [
    {
     "name": "stderr",
     "output_type": "stream",
     "text": [
      "C:\\Users\\ticia\\anaconda3\\lib\\site-packages\\deflatebr\\deflate.py:90: FutureWarning: Series.__getitem__ treating keys as positions is deprecated. In a future version, integer keys will always be treated as labels (consistent with DataFrame behavior). To access a value by position, use `ser.iloc[pos]`\n",
      "  df['deflated'] = df[['nom_values', 'VALVALOR']].apply(lambda x: ((real_indx/x[1]) * x[0])[0], axis=1)\n"
     ]
    }
   ],
   "source": [
    "df_total['curto_prazo_deflacionado'] = dbr.deflate(nominal_values=df_total['curto_prazo'], nominal_dates=df_total['data_base'], real_date='2022-12') "
   ]
  },
  {
   "cell_type": "code",
   "execution_count": 8,
   "id": "e51f342e-76ff-44cd-b264-1bdbda262049",
   "metadata": {
    "tags": []
   },
   "outputs": [
    {
     "data": {
      "text/html": [
       "<div>\n",
       "<style scoped>\n",
       "    .dataframe tbody tr th:only-of-type {\n",
       "        vertical-align: middle;\n",
       "    }\n",
       "\n",
       "    .dataframe tbody tr th {\n",
       "        vertical-align: top;\n",
       "    }\n",
       "\n",
       "    .dataframe thead th {\n",
       "        text-align: right;\n",
       "    }\n",
       "</style>\n",
       "<table border=\"1\" class=\"dataframe\">\n",
       "  <thead>\n",
       "    <tr style=\"text-align: right;\">\n",
       "      <th></th>\n",
       "      <th>data_base</th>\n",
       "      <th>modalidade</th>\n",
       "      <th>porte</th>\n",
       "      <th>curto_prazo</th>\n",
       "      <th>curto_prazo_deflacionado</th>\n",
       "    </tr>\n",
       "  </thead>\n",
       "  <tbody>\n",
       "    <tr>\n",
       "      <th>0</th>\n",
       "      <td>2012-12</td>\n",
       "      <td>Capital de giro</td>\n",
       "      <td>Micro</td>\n",
       "      <td>2.254850e+10</td>\n",
       "      <td>4.084276e+10</td>\n",
       "    </tr>\n",
       "    <tr>\n",
       "      <th>1</th>\n",
       "      <td>2012-12</td>\n",
       "      <td>Capital de giro</td>\n",
       "      <td>Pequeno</td>\n",
       "      <td>3.326240e+10</td>\n",
       "      <td>6.024916e+10</td>\n",
       "    </tr>\n",
       "    <tr>\n",
       "      <th>2</th>\n",
       "      <td>2012-12</td>\n",
       "      <td>Cheque especial e conta garantida</td>\n",
       "      <td>Micro</td>\n",
       "      <td>5.704846e+09</td>\n",
       "      <td>1.033336e+10</td>\n",
       "    </tr>\n",
       "  </tbody>\n",
       "</table>\n",
       "</div>"
      ],
      "text/plain": [
       "  data_base                         modalidade    porte   curto_prazo  \\\n",
       "0   2012-12                    Capital de giro    Micro  2.254850e+10   \n",
       "1   2012-12                    Capital de giro  Pequeno  3.326240e+10   \n",
       "2   2012-12  Cheque especial e conta garantida    Micro  5.704846e+09   \n",
       "\n",
       "   curto_prazo_deflacionado  \n",
       "0              4.084276e+10  \n",
       "1              6.024916e+10  \n",
       "2              1.033336e+10  "
      ]
     },
     "execution_count": 8,
     "metadata": {},
     "output_type": "execute_result"
    }
   ],
   "source": [
    "df_total.head(3)"
   ]
  },
  {
   "cell_type": "code",
   "execution_count": 9,
   "id": "9d0d65c7-c9af-46d4-95ba-fc06c9aa72f0",
   "metadata": {
    "tags": []
   },
   "outputs": [
    {
     "data": {
      "text/html": [
       "<div>\n",
       "<style scoped>\n",
       "    .dataframe tbody tr th:only-of-type {\n",
       "        vertical-align: middle;\n",
       "    }\n",
       "\n",
       "    .dataframe tbody tr th {\n",
       "        vertical-align: top;\n",
       "    }\n",
       "\n",
       "    .dataframe thead th {\n",
       "        text-align: right;\n",
       "    }\n",
       "</style>\n",
       "<table border=\"1\" class=\"dataframe\">\n",
       "  <thead>\n",
       "    <tr style=\"text-align: right;\">\n",
       "      <th></th>\n",
       "      <th>data_base</th>\n",
       "      <th>modalidade</th>\n",
       "      <th>porte</th>\n",
       "      <th>curto_prazo</th>\n",
       "      <th>curto_prazo_deflacionado</th>\n",
       "    </tr>\n",
       "  </thead>\n",
       "  <tbody>\n",
       "    <tr>\n",
       "      <th>0</th>\n",
       "      <td>2012-12</td>\n",
       "      <td>Capital de giro</td>\n",
       "      <td>Micro</td>\n",
       "      <td>22548500608.78</td>\n",
       "      <td>40842763541.78</td>\n",
       "    </tr>\n",
       "    <tr>\n",
       "      <th>1</th>\n",
       "      <td>2012-12</td>\n",
       "      <td>Capital de giro</td>\n",
       "      <td>Pequeno</td>\n",
       "      <td>33262395494.99</td>\n",
       "      <td>60249157032.91</td>\n",
       "    </tr>\n",
       "    <tr>\n",
       "      <th>2</th>\n",
       "      <td>2012-12</td>\n",
       "      <td>Cheque especial e conta garantida</td>\n",
       "      <td>Micro</td>\n",
       "      <td>5704846485.01</td>\n",
       "      <td>10333356530.97</td>\n",
       "    </tr>\n",
       "  </tbody>\n",
       "</table>\n",
       "</div>"
      ],
      "text/plain": [
       "  data_base                         modalidade    porte    curto_prazo  \\\n",
       "0   2012-12                    Capital de giro    Micro 22548500608.78   \n",
       "1   2012-12                    Capital de giro  Pequeno 33262395494.99   \n",
       "2   2012-12  Cheque especial e conta garantida    Micro  5704846485.01   \n",
       "\n",
       "   curto_prazo_deflacionado  \n",
       "0            40842763541.78  \n",
       "1            60249157032.91  \n",
       "2            10333356530.97  "
      ]
     },
     "execution_count": 9,
     "metadata": {},
     "output_type": "execute_result"
    }
   ],
   "source": [
    "pd.set_option('display.float_format', '{:.2f}'.format)\n",
    "df_total.head(3)"
   ]
  },
  {
   "cell_type": "code",
   "execution_count": 10,
   "id": "f028e778-1506-4a0b-9fec-ca7b976b356d",
   "metadata": {
    "tags": []
   },
   "outputs": [],
   "source": [
    "df_total.to_csv(\"pj_porte_modalidade_endividamentocp.csv\")"
   ]
  },
  {
   "cell_type": "code",
   "execution_count": 11,
   "id": "fb1a96e0-d803-4d1f-9294-d54838adbf4d",
   "metadata": {
    "tags": []
   },
   "outputs": [],
   "source": [
    "df_total_micro=df_total[df_total['porte']=='Micro']"
   ]
  },
  {
   "cell_type": "code",
   "execution_count": 28,
   "id": "53b04d67-83a8-429b-a0ac-eedf8b955fdc",
   "metadata": {
    "tags": []
   },
   "outputs": [
    {
     "data": {
      "application/vnd.plotly.v1+json": {
       "config": {
        "plotlyServerURL": "https://plot.ly"
       },
       "data": [
        {
         "hovertemplate": "modalidade=Capital de giro<br>data_base=%{x}<br>curto_prazo_deflacionado=%{y}<extra></extra>",
         "legendgroup": "Capital de giro",
         "line": {
          "color": "#636efa",
          "dash": "solid"
         },
         "marker": {
          "symbol": "circle"
         },
         "mode": "lines",
         "name": "Capital de giro",
         "orientation": "v",
         "showlegend": true,
         "type": "scatter",
         "x": [
          "2012-12",
          "2013-12",
          "2014-12",
          "2015-12",
          "2016-12",
          "2017-12",
          "2018-12",
          "2019-12",
          "2020-12",
          "2021-12",
          "2022-12"
         ],
         "xaxis": "x",
         "y": [
          40842763541.77877,
          37466155604.47565,
          32017558733.722115,
          25042852074.028835,
          20302700748.64765,
          20758444948.90909,
          8065882861.908339,
          9356784768.84054,
          15308775173.40806,
          15651144156.361376,
          18764236097.446114
         ],
         "yaxis": "y"
        },
        {
         "hovertemplate": "modalidade=Cheque especial e conta garantida<br>data_base=%{x}<br>curto_prazo_deflacionado=%{y}<extra></extra>",
         "legendgroup": "Cheque especial e conta garantida",
         "line": {
          "color": "#EF553B",
          "dash": "solid"
         },
         "marker": {
          "symbol": "circle"
         },
         "mode": "lines",
         "name": "Cheque especial e conta garantida",
         "orientation": "v",
         "showlegend": true,
         "type": "scatter",
         "x": [
          "2012-12",
          "2013-12",
          "2014-12",
          "2015-12",
          "2016-12",
          "2017-12",
          "2018-12",
          "2019-12",
          "2020-12",
          "2021-12",
          "2022-12"
         ],
         "xaxis": "x",
         "y": [
          10333356530.97414,
          7964526089.894875,
          6720918774.620057,
          6208779972.70647,
          4206594841.3819275,
          6405089335.162773,
          2459042952.8969364,
          2400708282.363738,
          1585915773.8579843,
          2075683577.629958,
          2170286881.5123034
         ],
         "yaxis": "y"
        },
        {
         "hovertemplate": "modalidade=Comércio exterior<br>data_base=%{x}<br>curto_prazo_deflacionado=%{y}<extra></extra>",
         "legendgroup": "Comércio exterior",
         "line": {
          "color": "#00cc96",
          "dash": "solid"
         },
         "marker": {
          "symbol": "circle"
         },
         "mode": "lines",
         "name": "Comércio exterior",
         "orientation": "v",
         "showlegend": true,
         "type": "scatter",
         "x": [
          "2012-12",
          "2013-12",
          "2014-12",
          "2015-12",
          "2016-12",
          "2017-12",
          "2018-12",
          "2019-12",
          "2020-12",
          "2021-12",
          "2022-12"
         ],
         "xaxis": "x",
         "y": [
          8981225001.844992,
          5846578483.55979,
          5594084371.576381,
          6117971702.552895,
          2942189209.8217177,
          4037156175.990613,
          2291375104.56702,
          1368108853.730682,
          1499746826.3059225,
          867316276.0528938,
          4558604777.405563
         ],
         "yaxis": "y"
        },
        {
         "hovertemplate": "modalidade=Financiamento de infraestrutura/desenvolvimento/projeto e outros créditos<br>data_base=%{x}<br>curto_prazo_deflacionado=%{y}<extra></extra>",
         "legendgroup": "Financiamento de infraestrutura/desenvolvimento/projeto e outros créditos",
         "line": {
          "color": "#ab63fa",
          "dash": "solid"
         },
         "marker": {
          "symbol": "circle"
         },
         "mode": "lines",
         "name": "Financiamento de infraestrutura/desenvolvimento/projeto e outros créditos",
         "orientation": "v",
         "showlegend": true,
         "type": "scatter",
         "x": [
          "2012-12",
          "2013-12",
          "2014-12",
          "2015-12",
          "2016-12",
          "2017-12",
          "2018-12",
          "2019-12",
          "2020-12",
          "2021-12",
          "2022-12"
         ],
         "xaxis": "x",
         "y": [
          13672468235.10342,
          13295621323.78969,
          14974598553.29292,
          11531905682.756874,
          10078556371.956057,
          6990445422.701522,
          2648103754.1873727,
          2635732442.513693,
          2808914095.200229,
          3160378193.045987,
          3601212204.323099
         ],
         "yaxis": "y"
        },
        {
         "hovertemplate": "modalidade=Habitacional<br>data_base=%{x}<br>curto_prazo_deflacionado=%{y}<extra></extra>",
         "legendgroup": "Habitacional",
         "line": {
          "color": "#FFA15A",
          "dash": "solid"
         },
         "marker": {
          "symbol": "circle"
         },
         "mode": "lines",
         "name": "Habitacional",
         "orientation": "v",
         "showlegend": true,
         "type": "scatter",
         "x": [
          "2012-12",
          "2013-12",
          "2014-12",
          "2015-12",
          "2016-12",
          "2017-12",
          "2018-12",
          "2019-12",
          "2020-12",
          "2021-12",
          "2022-12"
         ],
         "xaxis": "x",
         "y": [
          3462578360.9641504,
          3234351289.999192,
          5790429280.123327,
          5359115316.361174,
          5428542825.781498,
          2967406403.6309457,
          1618112407.5333025,
          752962882.6850584,
          897157036.9472309,
          1058383344.2458924,
          2427856467.346747
         ],
         "yaxis": "y"
        },
        {
         "hovertemplate": "modalidade=Investimento<br>data_base=%{x}<br>curto_prazo_deflacionado=%{y}<extra></extra>",
         "legendgroup": "Investimento",
         "line": {
          "color": "#19d3f3",
          "dash": "solid"
         },
         "marker": {
          "symbol": "circle"
         },
         "mode": "lines",
         "name": "Investimento",
         "orientation": "v",
         "showlegend": true,
         "type": "scatter",
         "x": [
          "2012-12",
          "2013-12",
          "2014-12",
          "2015-12",
          "2016-12",
          "2017-12",
          "2018-12",
          "2019-12",
          "2020-12",
          "2021-12",
          "2022-12"
         ],
         "xaxis": "x",
         "y": [
          11981955260.800749,
          7434172299.742609,
          7108419070.458909,
          5640442894.924273,
          4154625007.6852846,
          5743858149.785594,
          4181169895.3083496,
          4557615016.802185,
          5312269057.8112955,
          5880166260.191544,
          7376196434.832866
         ],
         "yaxis": "y"
        },
        {
         "hovertemplate": "modalidade=Operações com recebíveis<br>data_base=%{x}<br>curto_prazo_deflacionado=%{y}<extra></extra>",
         "legendgroup": "Operações com recebíveis",
         "line": {
          "color": "#FF6692",
          "dash": "solid"
         },
         "marker": {
          "symbol": "circle"
         },
         "mode": "lines",
         "name": "Operações com recebíveis",
         "orientation": "v",
         "showlegend": true,
         "type": "scatter",
         "x": [
          "2012-12",
          "2013-12",
          "2014-12",
          "2015-12",
          "2016-12",
          "2017-12",
          "2018-12",
          "2019-12",
          "2020-12",
          "2021-12",
          "2022-12"
         ],
         "xaxis": "x",
         "y": [
          13031694711.443256,
          12677691874.824387,
          9984901471.194305,
          14767273693.468636,
          9807131226.782866,
          12584519698.452484,
          7029684346.12088,
          10774900132.639822,
          15889824463.43662,
          10836599254.420168,
          17337573480.799866
         ],
         "yaxis": "y"
        },
        {
         "hovertemplate": "modalidade=Outros créditos<br>data_base=%{x}<br>curto_prazo_deflacionado=%{y}<extra></extra>",
         "legendgroup": "Outros créditos",
         "line": {
          "color": "#B6E880",
          "dash": "solid"
         },
         "marker": {
          "symbol": "circle"
         },
         "mode": "lines",
         "name": "Outros créditos",
         "orientation": "v",
         "showlegend": true,
         "type": "scatter",
         "x": [
          "2012-12",
          "2013-12",
          "2014-12",
          "2015-12",
          "2016-12",
          "2017-12",
          "2018-12",
          "2019-12",
          "2020-12",
          "2021-12",
          "2022-12"
         ],
         "xaxis": "x",
         "y": [
          8006673932.801483,
          6968016642.797818,
          5154620744.460511,
          6713697589.233359,
          6833822942.5774765,
          7834360230.448009,
          4419242299.405399,
          4547999366.505932,
          6552655849.909261,
          6919870771.54744,
          7925463205.09416
         ],
         "yaxis": "y"
        },
        {
         "hovertemplate": "modalidade=Rural e agroindustrial<br>data_base=%{x}<br>curto_prazo_deflacionado=%{y}<extra></extra>",
         "legendgroup": "Rural e agroindustrial",
         "line": {
          "color": "#FF97FF",
          "dash": "solid"
         },
         "marker": {
          "symbol": "circle"
         },
         "mode": "lines",
         "name": "Rural e agroindustrial",
         "orientation": "v",
         "showlegend": true,
         "type": "scatter",
         "x": [
          "2012-12",
          "2013-12",
          "2014-12",
          "2015-12",
          "2016-12",
          "2017-12",
          "2018-12",
          "2019-12",
          "2020-12",
          "2021-12",
          "2022-12"
         ],
         "xaxis": "x",
         "y": [
          5549233688.837793,
          17405467022.24318,
          2811871911.726189,
          1299687933.100502,
          1915400253.0242505,
          1093508045.131204,
          306644415.66679084,
          532899515.9391668,
          703183412.7781292,
          321231707.9041434,
          605145429.37856
         ],
         "yaxis": "y"
        }
       ],
       "layout": {
        "autosize": true,
        "legend": {
         "orientation": "h",
         "title": {
          "text": "modalidade"
         },
         "tracegroupgap": 0,
         "x": 0.5,
         "xanchor": "center",
         "y": -0.2
        },
        "margin": {
         "t": 60
        },
        "template": {
         "data": {
          "bar": [
           {
            "error_x": {
             "color": "#2a3f5f"
            },
            "error_y": {
             "color": "#2a3f5f"
            },
            "marker": {
             "line": {
              "color": "#E5ECF6",
              "width": 0.5
             },
             "pattern": {
              "fillmode": "overlay",
              "size": 10,
              "solidity": 0.2
             }
            },
            "type": "bar"
           }
          ],
          "barpolar": [
           {
            "marker": {
             "line": {
              "color": "#E5ECF6",
              "width": 0.5
             },
             "pattern": {
              "fillmode": "overlay",
              "size": 10,
              "solidity": 0.2
             }
            },
            "type": "barpolar"
           }
          ],
          "carpet": [
           {
            "aaxis": {
             "endlinecolor": "#2a3f5f",
             "gridcolor": "white",
             "linecolor": "white",
             "minorgridcolor": "white",
             "startlinecolor": "#2a3f5f"
            },
            "baxis": {
             "endlinecolor": "#2a3f5f",
             "gridcolor": "white",
             "linecolor": "white",
             "minorgridcolor": "white",
             "startlinecolor": "#2a3f5f"
            },
            "type": "carpet"
           }
          ],
          "choropleth": [
           {
            "colorbar": {
             "outlinewidth": 0,
             "ticks": ""
            },
            "type": "choropleth"
           }
          ],
          "contour": [
           {
            "colorbar": {
             "outlinewidth": 0,
             "ticks": ""
            },
            "colorscale": [
             [
              0,
              "#0d0887"
             ],
             [
              0.1111111111111111,
              "#46039f"
             ],
             [
              0.2222222222222222,
              "#7201a8"
             ],
             [
              0.3333333333333333,
              "#9c179e"
             ],
             [
              0.4444444444444444,
              "#bd3786"
             ],
             [
              0.5555555555555556,
              "#d8576b"
             ],
             [
              0.6666666666666666,
              "#ed7953"
             ],
             [
              0.7777777777777778,
              "#fb9f3a"
             ],
             [
              0.8888888888888888,
              "#fdca26"
             ],
             [
              1,
              "#f0f921"
             ]
            ],
            "type": "contour"
           }
          ],
          "contourcarpet": [
           {
            "colorbar": {
             "outlinewidth": 0,
             "ticks": ""
            },
            "type": "contourcarpet"
           }
          ],
          "heatmap": [
           {
            "colorbar": {
             "outlinewidth": 0,
             "ticks": ""
            },
            "colorscale": [
             [
              0,
              "#0d0887"
             ],
             [
              0.1111111111111111,
              "#46039f"
             ],
             [
              0.2222222222222222,
              "#7201a8"
             ],
             [
              0.3333333333333333,
              "#9c179e"
             ],
             [
              0.4444444444444444,
              "#bd3786"
             ],
             [
              0.5555555555555556,
              "#d8576b"
             ],
             [
              0.6666666666666666,
              "#ed7953"
             ],
             [
              0.7777777777777778,
              "#fb9f3a"
             ],
             [
              0.8888888888888888,
              "#fdca26"
             ],
             [
              1,
              "#f0f921"
             ]
            ],
            "type": "heatmap"
           }
          ],
          "heatmapgl": [
           {
            "colorbar": {
             "outlinewidth": 0,
             "ticks": ""
            },
            "colorscale": [
             [
              0,
              "#0d0887"
             ],
             [
              0.1111111111111111,
              "#46039f"
             ],
             [
              0.2222222222222222,
              "#7201a8"
             ],
             [
              0.3333333333333333,
              "#9c179e"
             ],
             [
              0.4444444444444444,
              "#bd3786"
             ],
             [
              0.5555555555555556,
              "#d8576b"
             ],
             [
              0.6666666666666666,
              "#ed7953"
             ],
             [
              0.7777777777777778,
              "#fb9f3a"
             ],
             [
              0.8888888888888888,
              "#fdca26"
             ],
             [
              1,
              "#f0f921"
             ]
            ],
            "type": "heatmapgl"
           }
          ],
          "histogram": [
           {
            "marker": {
             "pattern": {
              "fillmode": "overlay",
              "size": 10,
              "solidity": 0.2
             }
            },
            "type": "histogram"
           }
          ],
          "histogram2d": [
           {
            "colorbar": {
             "outlinewidth": 0,
             "ticks": ""
            },
            "colorscale": [
             [
              0,
              "#0d0887"
             ],
             [
              0.1111111111111111,
              "#46039f"
             ],
             [
              0.2222222222222222,
              "#7201a8"
             ],
             [
              0.3333333333333333,
              "#9c179e"
             ],
             [
              0.4444444444444444,
              "#bd3786"
             ],
             [
              0.5555555555555556,
              "#d8576b"
             ],
             [
              0.6666666666666666,
              "#ed7953"
             ],
             [
              0.7777777777777778,
              "#fb9f3a"
             ],
             [
              0.8888888888888888,
              "#fdca26"
             ],
             [
              1,
              "#f0f921"
             ]
            ],
            "type": "histogram2d"
           }
          ],
          "histogram2dcontour": [
           {
            "colorbar": {
             "outlinewidth": 0,
             "ticks": ""
            },
            "colorscale": [
             [
              0,
              "#0d0887"
             ],
             [
              0.1111111111111111,
              "#46039f"
             ],
             [
              0.2222222222222222,
              "#7201a8"
             ],
             [
              0.3333333333333333,
              "#9c179e"
             ],
             [
              0.4444444444444444,
              "#bd3786"
             ],
             [
              0.5555555555555556,
              "#d8576b"
             ],
             [
              0.6666666666666666,
              "#ed7953"
             ],
             [
              0.7777777777777778,
              "#fb9f3a"
             ],
             [
              0.8888888888888888,
              "#fdca26"
             ],
             [
              1,
              "#f0f921"
             ]
            ],
            "type": "histogram2dcontour"
           }
          ],
          "mesh3d": [
           {
            "colorbar": {
             "outlinewidth": 0,
             "ticks": ""
            },
            "type": "mesh3d"
           }
          ],
          "parcoords": [
           {
            "line": {
             "colorbar": {
              "outlinewidth": 0,
              "ticks": ""
             }
            },
            "type": "parcoords"
           }
          ],
          "pie": [
           {
            "automargin": true,
            "type": "pie"
           }
          ],
          "scatter": [
           {
            "fillpattern": {
             "fillmode": "overlay",
             "size": 10,
             "solidity": 0.2
            },
            "type": "scatter"
           }
          ],
          "scatter3d": [
           {
            "line": {
             "colorbar": {
              "outlinewidth": 0,
              "ticks": ""
             }
            },
            "marker": {
             "colorbar": {
              "outlinewidth": 0,
              "ticks": ""
             }
            },
            "type": "scatter3d"
           }
          ],
          "scattercarpet": [
           {
            "marker": {
             "colorbar": {
              "outlinewidth": 0,
              "ticks": ""
             }
            },
            "type": "scattercarpet"
           }
          ],
          "scattergeo": [
           {
            "marker": {
             "colorbar": {
              "outlinewidth": 0,
              "ticks": ""
             }
            },
            "type": "scattergeo"
           }
          ],
          "scattergl": [
           {
            "marker": {
             "colorbar": {
              "outlinewidth": 0,
              "ticks": ""
             }
            },
            "type": "scattergl"
           }
          ],
          "scattermapbox": [
           {
            "marker": {
             "colorbar": {
              "outlinewidth": 0,
              "ticks": ""
             }
            },
            "type": "scattermapbox"
           }
          ],
          "scatterpolar": [
           {
            "marker": {
             "colorbar": {
              "outlinewidth": 0,
              "ticks": ""
             }
            },
            "type": "scatterpolar"
           }
          ],
          "scatterpolargl": [
           {
            "marker": {
             "colorbar": {
              "outlinewidth": 0,
              "ticks": ""
             }
            },
            "type": "scatterpolargl"
           }
          ],
          "scatterternary": [
           {
            "marker": {
             "colorbar": {
              "outlinewidth": 0,
              "ticks": ""
             }
            },
            "type": "scatterternary"
           }
          ],
          "surface": [
           {
            "colorbar": {
             "outlinewidth": 0,
             "ticks": ""
            },
            "colorscale": [
             [
              0,
              "#0d0887"
             ],
             [
              0.1111111111111111,
              "#46039f"
             ],
             [
              0.2222222222222222,
              "#7201a8"
             ],
             [
              0.3333333333333333,
              "#9c179e"
             ],
             [
              0.4444444444444444,
              "#bd3786"
             ],
             [
              0.5555555555555556,
              "#d8576b"
             ],
             [
              0.6666666666666666,
              "#ed7953"
             ],
             [
              0.7777777777777778,
              "#fb9f3a"
             ],
             [
              0.8888888888888888,
              "#fdca26"
             ],
             [
              1,
              "#f0f921"
             ]
            ],
            "type": "surface"
           }
          ],
          "table": [
           {
            "cells": {
             "fill": {
              "color": "#EBF0F8"
             },
             "line": {
              "color": "white"
             }
            },
            "header": {
             "fill": {
              "color": "#C8D4E3"
             },
             "line": {
              "color": "white"
             }
            },
            "type": "table"
           }
          ]
         },
         "layout": {
          "annotationdefaults": {
           "arrowcolor": "#2a3f5f",
           "arrowhead": 0,
           "arrowwidth": 1
          },
          "autotypenumbers": "strict",
          "coloraxis": {
           "colorbar": {
            "outlinewidth": 0,
            "ticks": ""
           }
          },
          "colorscale": {
           "diverging": [
            [
             0,
             "#8e0152"
            ],
            [
             0.1,
             "#c51b7d"
            ],
            [
             0.2,
             "#de77ae"
            ],
            [
             0.3,
             "#f1b6da"
            ],
            [
             0.4,
             "#fde0ef"
            ],
            [
             0.5,
             "#f7f7f7"
            ],
            [
             0.6,
             "#e6f5d0"
            ],
            [
             0.7,
             "#b8e186"
            ],
            [
             0.8,
             "#7fbc41"
            ],
            [
             0.9,
             "#4d9221"
            ],
            [
             1,
             "#276419"
            ]
           ],
           "sequential": [
            [
             0,
             "#0d0887"
            ],
            [
             0.1111111111111111,
             "#46039f"
            ],
            [
             0.2222222222222222,
             "#7201a8"
            ],
            [
             0.3333333333333333,
             "#9c179e"
            ],
            [
             0.4444444444444444,
             "#bd3786"
            ],
            [
             0.5555555555555556,
             "#d8576b"
            ],
            [
             0.6666666666666666,
             "#ed7953"
            ],
            [
             0.7777777777777778,
             "#fb9f3a"
            ],
            [
             0.8888888888888888,
             "#fdca26"
            ],
            [
             1,
             "#f0f921"
            ]
           ],
           "sequentialminus": [
            [
             0,
             "#0d0887"
            ],
            [
             0.1111111111111111,
             "#46039f"
            ],
            [
             0.2222222222222222,
             "#7201a8"
            ],
            [
             0.3333333333333333,
             "#9c179e"
            ],
            [
             0.4444444444444444,
             "#bd3786"
            ],
            [
             0.5555555555555556,
             "#d8576b"
            ],
            [
             0.6666666666666666,
             "#ed7953"
            ],
            [
             0.7777777777777778,
             "#fb9f3a"
            ],
            [
             0.8888888888888888,
             "#fdca26"
            ],
            [
             1,
             "#f0f921"
            ]
           ]
          },
          "colorway": [
           "#636efa",
           "#EF553B",
           "#00cc96",
           "#ab63fa",
           "#FFA15A",
           "#19d3f3",
           "#FF6692",
           "#B6E880",
           "#FF97FF",
           "#FECB52"
          ],
          "font": {
           "color": "#2a3f5f"
          },
          "geo": {
           "bgcolor": "white",
           "lakecolor": "white",
           "landcolor": "#E5ECF6",
           "showlakes": true,
           "showland": true,
           "subunitcolor": "white"
          },
          "hoverlabel": {
           "align": "left"
          },
          "hovermode": "closest",
          "mapbox": {
           "style": "light"
          },
          "paper_bgcolor": "white",
          "plot_bgcolor": "#E5ECF6",
          "polar": {
           "angularaxis": {
            "gridcolor": "white",
            "linecolor": "white",
            "ticks": ""
           },
           "bgcolor": "#E5ECF6",
           "radialaxis": {
            "gridcolor": "white",
            "linecolor": "white",
            "ticks": ""
           }
          },
          "scene": {
           "xaxis": {
            "backgroundcolor": "#E5ECF6",
            "gridcolor": "white",
            "gridwidth": 2,
            "linecolor": "white",
            "showbackground": true,
            "ticks": "",
            "zerolinecolor": "white"
           },
           "yaxis": {
            "backgroundcolor": "#E5ECF6",
            "gridcolor": "white",
            "gridwidth": 2,
            "linecolor": "white",
            "showbackground": true,
            "ticks": "",
            "zerolinecolor": "white"
           },
           "zaxis": {
            "backgroundcolor": "#E5ECF6",
            "gridcolor": "white",
            "gridwidth": 2,
            "linecolor": "white",
            "showbackground": true,
            "ticks": "",
            "zerolinecolor": "white"
           }
          },
          "shapedefaults": {
           "line": {
            "color": "#2a3f5f"
           }
          },
          "ternary": {
           "aaxis": {
            "gridcolor": "white",
            "linecolor": "white",
            "ticks": ""
           },
           "baxis": {
            "gridcolor": "white",
            "linecolor": "white",
            "ticks": ""
           },
           "bgcolor": "#E5ECF6",
           "caxis": {
            "gridcolor": "white",
            "linecolor": "white",
            "ticks": ""
           }
          },
          "title": {
           "x": 0.05
          },
          "xaxis": {
           "automargin": true,
           "gridcolor": "white",
           "linecolor": "white",
           "ticks": "",
           "title": {
            "standoff": 15
           },
           "zerolinecolor": "white",
           "zerolinewidth": 2
          },
          "yaxis": {
           "automargin": true,
           "gridcolor": "white",
           "linecolor": "white",
           "ticks": "",
           "title": {
            "standoff": 15
           },
           "zerolinecolor": "white",
           "zerolinewidth": 2
          }
         }
        },
        "title": {
         "text": "Endividamento de Curto Prazo de Microempresas por Modalidade de Crédito"
        },
        "xaxis": {
         "anchor": "y",
         "autorange": true,
         "domain": [
          0,
          1
         ],
         "range": [
          "2012-12-01",
          "2022-12-01"
         ],
         "title": {
          "text": "Ano"
         },
         "type": "date"
        },
        "yaxis": {
         "anchor": "x",
         "autorange": true,
         "domain": [
          0,
          1
         ],
         "range": [
          -1945362202.4505415,
          43094770159.8961
         ],
         "title": {
          "text": "Endividamento de Curto Prazo"
         },
         "type": "linear"
        }
       }
      },
      "image/png": "[encoded data removed]",
      "text/html": [
       "<div>                            <div id=\"21478855-5994-40af-8011-1875bd354872\" class=\"plotly-graph-div\" style=\"height:525px; width:100%;\"></div>            <script type=\"text/javascript\">                require([\"plotly\"], function(Plotly) {                    window.PLOTLYENV=window.PLOTLYENV || {};                                    if (document.getElementById(\"21478855-5994-40af-8011-1875bd354872\")) {                    Plotly.newPlot(                        \"21478855-5994-40af-8011-1875bd354872\",                        [{\"hovertemplate\":\"modalidade=Capital de giro\\u003cbr\\u003edata_base=%{x}\\u003cbr\\u003ecurto_prazo_deflacionado=%{y}\\u003cextra\\u003e\\u003c\\u002fextra\\u003e\",\"legendgroup\":\"Capital de giro\",\"line\":{\"color\":\"#636efa\",\"dash\":\"solid\"},\"marker\":{\"symbol\":\"circle\"},\"mode\":\"lines\",\"name\":\"Capital de giro\",\"orientation\":\"v\",\"showlegend\":true,\"x\":[\"2012-12\",\"2013-12\",\"2014-12\",\"2015-12\",\"2016-12\",\"2017-12\",\"2018-12\",\"2019-12\",\"2020-12\",\"2021-12\",\"2022-12\"],\"xaxis\":\"x\",\"y\":[40842763541.77877,37466155604.47565,32017558733.722115,25042852074.028835,20302700748.64765,20758444948.90909,8065882861.908339,9356784768.84054,15308775173.40806,15651144156.361376,18764236097.446114],\"yaxis\":\"y\",\"type\":\"scatter\"},{\"hovertemplate\":\"modalidade=Cheque especial e conta garantida\\u003cbr\\u003edata_base=%{x}\\u003cbr\\u003ecurto_prazo_deflacionado=%{y}\\u003cextra\\u003e\\u003c\\u002fextra\\u003e\",\"legendgroup\":\"Cheque especial e conta garantida\",\"line\":{\"color\":\"#EF553B\",\"dash\":\"solid\"},\"marker\":{\"symbol\":\"circle\"},\"mode\":\"lines\",\"name\":\"Cheque especial e conta garantida\",\"orientation\":\"v\",\"showlegend\":true,\"x\":[\"2012-12\",\"2013-12\",\"2014-12\",\"2015-12\",\"2016-12\",\"2017-12\",\"2018-12\",\"2019-12\",\"2020-12\",\"2021-12\",\"2022-12\"],\"xaxis\":\"x\",\"y\":[10333356530.97414,7964526089.894875,6720918774.620057,6208779972.70647,4206594841.3819275,6405089335.162773,2459042952.8969364,2400708282.363738,1585915773.8579843,2075683577.629958,2170286881.5123034],\"yaxis\":\"y\",\"type\":\"scatter\"},{\"hovertemplate\":\"modalidade=Com\\u00e9rcio exterior\\u003cbr\\u003edata_base=%{x}\\u003cbr\\u003ecurto_prazo_deflacionado=%{y}\\u003cextra\\u003e\\u003c\\u002fextra\\u003e\",\"legendgroup\":\"Com\\u00e9rcio exterior\",\"line\":{\"color\":\"#00cc96\",\"dash\":\"solid\"},\"marker\":{\"symbol\":\"circle\"},\"mode\":\"lines\",\"name\":\"Com\\u00e9rcio exterior\",\"orientation\":\"v\",\"showlegend\":true,\"x\":[\"2012-12\",\"2013-12\",\"2014-12\",\"2015-12\",\"2016-12\",\"2017-12\",\"2018-12\",\"2019-12\",\"2020-12\",\"2021-12\",\"2022-12\"],\"xaxis\":\"x\",\"y\":[8981225001.844992,5846578483.55979,5594084371.576381,6117971702.552895,2942189209.8217177,4037156175.990613,2291375104.56702,1368108853.730682,1499746826.3059225,867316276.0528938,4558604777.405563],\"yaxis\":\"y\",\"type\":\"scatter\"},{\"hovertemplate\":\"modalidade=Financiamento de infraestrutura\\u002fdesenvolvimento\\u002fprojeto e outros cr\\u00e9ditos\\u003cbr\\u003edata_base=%{x}\\u003cbr\\u003ecurto_prazo_deflacionado=%{y}\\u003cextra\\u003e\\u003c\\u002fextra\\u003e\",\"legendgroup\":\"Financiamento de infraestrutura\\u002fdesenvolvimento\\u002fprojeto e outros cr\\u00e9ditos\",\"line\":{\"color\":\"#ab63fa\",\"dash\":\"solid\"},\"marker\":{\"symbol\":\"circle\"},\"mode\":\"lines\",\"name\":\"Financiamento de infraestrutura\\u002fdesenvolvimento\\u002fprojeto e outros cr\\u00e9ditos\",\"orientation\":\"v\",\"showlegend\":true,\"x\":[\"2012-12\",\"2013-12\",\"2014-12\",\"2015-12\",\"2016-12\",\"2017-12\",\"2018-12\",\"2019-12\",\"2020-12\",\"2021-12\",\"2022-12\"],\"xaxis\":\"x\",\"y\":[13672468235.10342,13295621323.78969,14974598553.29292,11531905682.756874,10078556371.956057,6990445422.701522,2648103754.1873727,2635732442.513693,2808914095.200229,3160378193.045987,3601212204.323099],\"yaxis\":\"y\",\"type\":\"scatter\"},{\"hovertemplate\":\"modalidade=Habitacional\\u003cbr\\u003edata_base=%{x}\\u003cbr\\u003ecurto_prazo_deflacionado=%{y}\\u003cextra\\u003e\\u003c\\u002fextra\\u003e\",\"legendgroup\":\"Habitacional\",\"line\":{\"color\":\"#FFA15A\",\"dash\":\"solid\"},\"marker\":{\"symbol\":\"circle\"},\"mode\":\"lines\",\"name\":\"Habitacional\",\"orientation\":\"v\",\"showlegend\":true,\"x\":[\"2012-12\",\"2013-12\",\"2014-12\",\"2015-12\",\"2016-12\",\"2017-12\",\"2018-12\",\"2019-12\",\"2020-12\",\"2021-12\",\"2022-12\"],\"xaxis\":\"x\",\"y\":[3462578360.9641504,3234351289.999192,5790429280.123327,5359115316.361174,5428542825.781498,2967406403.6309457,1618112407.5333025,752962882.6850584,897157036.9472309,1058383344.2458924,2427856467.346747],\"yaxis\":\"y\",\"type\":\"scatter\"},{\"hovertemplate\":\"modalidade=Investimento\\u003cbr\\u003edata_base=%{x}\\u003cbr\\u003ecurto_prazo_deflacionado=%{y}\\u003cextra\\u003e\\u003c\\u002fextra\\u003e\",\"legendgroup\":\"Investimento\",\"line\":{\"color\":\"#19d3f3\",\"dash\":\"solid\"},\"marker\":{\"symbol\":\"circle\"},\"mode\":\"lines\",\"name\":\"Investimento\",\"orientation\":\"v\",\"showlegend\":true,\"x\":[\"2012-12\",\"2013-12\",\"2014-12\",\"2015-12\",\"2016-12\",\"2017-12\",\"2018-12\",\"2019-12\",\"2020-12\",\"2021-12\",\"2022-12\"],\"xaxis\":\"x\",\"y\":[11981955260.800749,7434172299.742609,7108419070.458909,5640442894.924273,4154625007.6852846,5743858149.785594,4181169895.3083496,4557615016.802185,5312269057.8112955,5880166260.191544,7376196434.832866],\"yaxis\":\"y\",\"type\":\"scatter\"},{\"hovertemplate\":\"modalidade=Opera\\u00e7\\u00f5es com receb\\u00edveis\\u003cbr\\u003edata_base=%{x}\\u003cbr\\u003ecurto_prazo_deflacionado=%{y}\\u003cextra\\u003e\\u003c\\u002fextra\\u003e\",\"legendgroup\":\"Opera\\u00e7\\u00f5es com receb\\u00edveis\",\"line\":{\"color\":\"#FF6692\",\"dash\":\"solid\"},\"marker\":{\"symbol\":\"circle\"},\"mode\":\"lines\",\"name\":\"Opera\\u00e7\\u00f5es com receb\\u00edveis\",\"orientation\":\"v\",\"showlegend\":true,\"x\":[\"2012-12\",\"2013-12\",\"2014-12\",\"2015-12\",\"2016-12\",\"2017-12\",\"2018-12\",\"2019-12\",\"2020-12\",\"2021-12\",\"2022-12\"],\"xaxis\":\"x\",\"y\":[13031694711.443256,12677691874.824387,9984901471.194305,14767273693.468636,9807131226.782866,12584519698.452484,7029684346.12088,10774900132.639822,15889824463.43662,10836599254.420168,17337573480.799866],\"yaxis\":\"y\",\"type\":\"scatter\"},{\"hovertemplate\":\"modalidade=Outros cr\\u00e9ditos\\u003cbr\\u003edata_base=%{x}\\u003cbr\\u003ecurto_prazo_deflacionado=%{y}\\u003cextra\\u003e\\u003c\\u002fextra\\u003e\",\"legendgroup\":\"Outros cr\\u00e9ditos\",\"line\":{\"color\":\"#B6E880\",\"dash\":\"solid\"},\"marker\":{\"symbol\":\"circle\"},\"mode\":\"lines\",\"name\":\"Outros cr\\u00e9ditos\",\"orientation\":\"v\",\"showlegend\":true,\"x\":[\"2012-12\",\"2013-12\",\"2014-12\",\"2015-12\",\"2016-12\",\"2017-12\",\"2018-12\",\"2019-12\",\"2020-12\",\"2021-12\",\"2022-12\"],\"xaxis\":\"x\",\"y\":[8006673932.801483,6968016642.797818,5154620744.460511,6713697589.233359,6833822942.5774765,7834360230.448009,4419242299.405399,4547999366.505932,6552655849.909261,6919870771.54744,7925463205.09416],\"yaxis\":\"y\",\"type\":\"scatter\"},{\"hovertemplate\":\"modalidade=Rural e agroindustrial\\u003cbr\\u003edata_base=%{x}\\u003cbr\\u003ecurto_prazo_deflacionado=%{y}\\u003cextra\\u003e\\u003c\\u002fextra\\u003e\",\"legendgroup\":\"Rural e agroindustrial\",\"line\":{\"color\":\"#FF97FF\",\"dash\":\"solid\"},\"marker\":{\"symbol\":\"circle\"},\"mode\":\"lines\",\"name\":\"Rural e agroindustrial\",\"orientation\":\"v\",\"showlegend\":true,\"x\":[\"2012-12\",\"2013-12\",\"2014-12\",\"2015-12\",\"2016-12\",\"2017-12\",\"2018-12\",\"2019-12\",\"2020-12\",\"2021-12\",\"2022-12\"],\"xaxis\":\"x\",\"y\":[5549233688.837793,17405467022.24318,2811871911.726189,1299687933.100502,1915400253.0242505,1093508045.131204,306644415.66679084,532899515.9391668,703183412.7781292,321231707.9041434,605145429.37856],\"yaxis\":\"y\",\"type\":\"scatter\"}],                        {\"template\":{\"data\":{\"histogram2dcontour\":[{\"type\":\"histogram2dcontour\",\"colorbar\":{\"outlinewidth\":0,\"ticks\":\"\"},\"colorscale\":[[0.0,\"#0d0887\"],[0.1111111111111111,\"#46039f\"],[0.2222222222222222,\"#7201a8\"],[0.3333333333333333,\"#9c179e\"],[0.4444444444444444,\"#bd3786\"],[0.5555555555555556,\"#d8576b\"],[0.6666666666666666,\"#ed7953\"],[0.7777777777777778,\"#fb9f3a\"],[0.8888888888888888,\"#fdca26\"],[1.0,\"#f0f921\"]]}],\"choropleth\":[{\"type\":\"choropleth\",\"colorbar\":{\"outlinewidth\":0,\"ticks\":\"\"}}],\"histogram2d\":[{\"type\":\"histogram2d\",\"colorbar\":{\"outlinewidth\":0,\"ticks\":\"\"},\"colorscale\":[[0.0,\"#0d0887\"],[0.1111111111111111,\"#46039f\"],[0.2222222222222222,\"#7201a8\"],[0.3333333333333333,\"#9c179e\"],[0.4444444444444444,\"#bd3786\"],[0.5555555555555556,\"#d8576b\"],[0.6666666666666666,\"#ed7953\"],[0.7777777777777778,\"#fb9f3a\"],[0.8888888888888888,\"#fdca26\"],[1.0,\"#f0f921\"]]}],\"heatmap\":[{\"type\":\"heatmap\",\"colorbar\":{\"outlinewidth\":0,\"ticks\":\"\"},\"colorscale\":[[0.0,\"#0d0887\"],[0.1111111111111111,\"#46039f\"],[0.2222222222222222,\"#7201a8\"],[0.3333333333333333,\"#9c179e\"],[0.4444444444444444,\"#bd3786\"],[0.5555555555555556,\"#d8576b\"],[0.6666666666666666,\"#ed7953\"],[0.7777777777777778,\"#fb9f3a\"],[0.8888888888888888,\"#fdca26\"],[1.0,\"#f0f921\"]]}],\"heatmapgl\":[{\"type\":\"heatmapgl\",\"colorbar\":{\"outlinewidth\":0,\"ticks\":\"\"},\"colorscale\":[[0.0,\"#0d0887\"],[0.1111111111111111,\"#46039f\"],[0.2222222222222222,\"#7201a8\"],[0.3333333333333333,\"#9c179e\"],[0.4444444444444444,\"#bd3786\"],[0.5555555555555556,\"#d8576b\"],[0.6666666666666666,\"#ed7953\"],[0.7777777777777778,\"#fb9f3a\"],[0.8888888888888888,\"#fdca26\"],[1.0,\"#f0f921\"]]}],\"contourcarpet\":[{\"type\":\"contourcarpet\",\"colorbar\":{\"outlinewidth\":0,\"ticks\":\"\"}}],\"contour\":[{\"type\":\"contour\",\"colorbar\":{\"outlinewidth\":0,\"ticks\":\"\"},\"colorscale\":[[0.0,\"#0d0887\"],[0.1111111111111111,\"#46039f\"],[0.2222222222222222,\"#7201a8\"],[0.3333333333333333,\"#9c179e\"],[0.4444444444444444,\"#bd3786\"],[0.5555555555555556,\"#d8576b\"],[0.6666666666666666,\"#ed7953\"],[0.7777777777777778,\"#fb9f3a\"],[0.8888888888888888,\"#fdca26\"],[1.0,\"#f0f921\"]]}],\"surface\":[{\"type\":\"surface\",\"colorbar\":{\"outlinewidth\":0,\"ticks\":\"\"},\"colorscale\":[[0.0,\"#0d0887\"],[0.1111111111111111,\"#46039f\"],[0.2222222222222222,\"#7201a8\"],[0.3333333333333333,\"#9c179e\"],[0.4444444444444444,\"#bd3786\"],[0.5555555555555556,\"#d8576b\"],[0.6666666666666666,\"#ed7953\"],[0.7777777777777778,\"#fb9f3a\"],[0.8888888888888888,\"#fdca26\"],[1.0,\"#f0f921\"]]}],\"mesh3d\":[{\"type\":\"mesh3d\",\"colorbar\":{\"outlinewidth\":0,\"ticks\":\"\"}}],\"scatter\":[{\"fillpattern\":{\"fillmode\":\"overlay\",\"size\":10,\"solidity\":0.2},\"type\":\"scatter\"}],\"parcoords\":[{\"type\":\"parcoords\",\"line\":{\"colorbar\":{\"outlinewidth\":0,\"ticks\":\"\"}}}],\"scatterpolargl\":[{\"type\":\"scatterpolargl\",\"marker\":{\"colorbar\":{\"outlinewidth\":0,\"ticks\":\"\"}}}],\"bar\":[{\"error_x\":{\"color\":\"#2a3f5f\"},\"error_y\":{\"color\":\"#2a3f5f\"},\"marker\":{\"line\":{\"color\":\"#E5ECF6\",\"width\":0.5},\"pattern\":{\"fillmode\":\"overlay\",\"size\":10,\"solidity\":0.2}},\"type\":\"bar\"}],\"scattergeo\":[{\"type\":\"scattergeo\",\"marker\":{\"colorbar\":{\"outlinewidth\":0,\"ticks\":\"\"}}}],\"scatterpolar\":[{\"type\":\"scatterpolar\",\"marker\":{\"colorbar\":{\"outlinewidth\":0,\"ticks\":\"\"}}}],\"histogram\":[{\"marker\":{\"pattern\":{\"fillmode\":\"overlay\",\"size\":10,\"solidity\":0.2}},\"type\":\"histogram\"}],\"scattergl\":[{\"type\":\"scattergl\",\"marker\":{\"colorbar\":{\"outlinewidth\":0,\"ticks\":\"\"}}}],\"scatter3d\":[{\"type\":\"scatter3d\",\"line\":{\"colorbar\":{\"outlinewidth\":0,\"ticks\":\"\"}},\"marker\":{\"colorbar\":{\"outlinewidth\":0,\"ticks\":\"\"}}}],\"scattermapbox\":[{\"type\":\"scattermapbox\",\"marker\":{\"colorbar\":{\"outlinewidth\":0,\"ticks\":\"\"}}}],\"scatterternary\":[{\"type\":\"scatterternary\",\"marker\":{\"colorbar\":{\"outlinewidth\":0,\"ticks\":\"\"}}}],\"scattercarpet\":[{\"type\":\"scattercarpet\",\"marker\":{\"colorbar\":{\"outlinewidth\":0,\"ticks\":\"\"}}}],\"carpet\":[{\"aaxis\":{\"endlinecolor\":\"#2a3f5f\",\"gridcolor\":\"white\",\"linecolor\":\"white\",\"minorgridcolor\":\"white\",\"startlinecolor\":\"#2a3f5f\"},\"baxis\":{\"endlinecolor\":\"#2a3f5f\",\"gridcolor\":\"white\",\"linecolor\":\"white\",\"minorgridcolor\":\"white\",\"startlinecolor\":\"#2a3f5f\"},\"type\":\"carpet\"}],\"table\":[{\"cells\":{\"fill\":{\"color\":\"#EBF0F8\"},\"line\":{\"color\":\"white\"}},\"header\":{\"fill\":{\"color\":\"#C8D4E3\"},\"line\":{\"color\":\"white\"}},\"type\":\"table\"}],\"barpolar\":[{\"marker\":{\"line\":{\"color\":\"#E5ECF6\",\"width\":0.5},\"pattern\":{\"fillmode\":\"overlay\",\"size\":10,\"solidity\":0.2}},\"type\":\"barpolar\"}],\"pie\":[{\"automargin\":true,\"type\":\"pie\"}]},\"layout\":{\"autotypenumbers\":\"strict\",\"colorway\":[\"#636efa\",\"#EF553B\",\"#00cc96\",\"#ab63fa\",\"#FFA15A\",\"#19d3f3\",\"#FF6692\",\"#B6E880\",\"#FF97FF\",\"#FECB52\"],\"font\":{\"color\":\"#2a3f5f\"},\"hovermode\":\"closest\",\"hoverlabel\":{\"align\":\"left\"},\"paper_bgcolor\":\"white\",\"plot_bgcolor\":\"#E5ECF6\",\"polar\":{\"bgcolor\":\"#E5ECF6\",\"angularaxis\":{\"gridcolor\":\"white\",\"linecolor\":\"white\",\"ticks\":\"\"},\"radialaxis\":{\"gridcolor\":\"white\",\"linecolor\":\"white\",\"ticks\":\"\"}},\"ternary\":{\"bgcolor\":\"#E5ECF6\",\"aaxis\":{\"gridcolor\":\"white\",\"linecolor\":\"white\",\"ticks\":\"\"},\"baxis\":{\"gridcolor\":\"white\",\"linecolor\":\"white\",\"ticks\":\"\"},\"caxis\":{\"gridcolor\":\"white\",\"linecolor\":\"white\",\"ticks\":\"\"}},\"coloraxis\":{\"colorbar\":{\"outlinewidth\":0,\"ticks\":\"\"}},\"colorscale\":{\"sequential\":[[0.0,\"#0d0887\"],[0.1111111111111111,\"#46039f\"],[0.2222222222222222,\"#7201a8\"],[0.3333333333333333,\"#9c179e\"],[0.4444444444444444,\"#bd3786\"],[0.5555555555555556,\"#d8576b\"],[0.6666666666666666,\"#ed7953\"],[0.7777777777777778,\"#fb9f3a\"],[0.8888888888888888,\"#fdca26\"],[1.0,\"#f0f921\"]],\"sequentialminus\":[[0.0,\"#0d0887\"],[0.1111111111111111,\"#46039f\"],[0.2222222222222222,\"#7201a8\"],[0.3333333333333333,\"#9c179e\"],[0.4444444444444444,\"#bd3786\"],[0.5555555555555556,\"#d8576b\"],[0.6666666666666666,\"#ed7953\"],[0.7777777777777778,\"#fb9f3a\"],[0.8888888888888888,\"#fdca26\"],[1.0,\"#f0f921\"]],\"diverging\":[[0,\"#8e0152\"],[0.1,\"#c51b7d\"],[0.2,\"#de77ae\"],[0.3,\"#f1b6da\"],[0.4,\"#fde0ef\"],[0.5,\"#f7f7f7\"],[0.6,\"#e6f5d0\"],[0.7,\"#b8e186\"],[0.8,\"#7fbc41\"],[0.9,\"#4d9221\"],[1,\"#276419\"]]},\"xaxis\":{\"gridcolor\":\"white\",\"linecolor\":\"white\",\"ticks\":\"\",\"title\":{\"standoff\":15},\"zerolinecolor\":\"white\",\"automargin\":true,\"zerolinewidth\":2},\"yaxis\":{\"gridcolor\":\"white\",\"linecolor\":\"white\",\"ticks\":\"\",\"title\":{\"standoff\":15},\"zerolinecolor\":\"white\",\"automargin\":true,\"zerolinewidth\":2},\"scene\":{\"xaxis\":{\"backgroundcolor\":\"#E5ECF6\",\"gridcolor\":\"white\",\"linecolor\":\"white\",\"showbackground\":true,\"ticks\":\"\",\"zerolinecolor\":\"white\",\"gridwidth\":2},\"yaxis\":{\"backgroundcolor\":\"#E5ECF6\",\"gridcolor\":\"white\",\"linecolor\":\"white\",\"showbackground\":true,\"ticks\":\"\",\"zerolinecolor\":\"white\",\"gridwidth\":2},\"zaxis\":{\"backgroundcolor\":\"#E5ECF6\",\"gridcolor\":\"white\",\"linecolor\":\"white\",\"showbackground\":true,\"ticks\":\"\",\"zerolinecolor\":\"white\",\"gridwidth\":2}},\"shapedefaults\":{\"line\":{\"color\":\"#2a3f5f\"}},\"annotationdefaults\":{\"arrowcolor\":\"#2a3f5f\",\"arrowhead\":0,\"arrowwidth\":1},\"geo\":{\"bgcolor\":\"white\",\"landcolor\":\"#E5ECF6\",\"subunitcolor\":\"white\",\"showland\":true,\"showlakes\":true,\"lakecolor\":\"white\"},\"title\":{\"x\":0.05},\"mapbox\":{\"style\":\"light\"}}},\"xaxis\":{\"anchor\":\"y\",\"domain\":[0.0,1.0],\"title\":{\"text\":\"Ano\"}},\"yaxis\":{\"anchor\":\"x\",\"domain\":[0.0,1.0],\"title\":{\"text\":\"Endividamento de Curto Prazo\"}},\"legend\":{\"title\":{\"text\":\"modalidade\"},\"tracegroupgap\":0,\"orientation\":\"h\",\"y\":-0.2,\"x\":0.5,\"xanchor\":\"center\"},\"margin\":{\"t\":60},\"title\":{\"text\":\"Endividamento de Curto Prazo de Microempresas por Modalidade de Cr\\u00e9dito\"}},                        {\"responsive\": true}                    ).then(function(){\n",
       "                            \n",
       "var gd = document.getElementById('21478855-5994-40af-8011-1875bd354872');\n",
       "var x = new MutationObserver(function (mutations, observer) {{\n",
       "        var display = window.getComputedStyle(gd).display;\n",
       "        if (!display || display === 'none') {{\n",
       "            console.log([gd, 'removed!']);\n",
       "            Plotly.purge(gd);\n",
       "            observer.disconnect();\n",
       "        }}\n",
       "}});\n",
       "\n",
       "// Listen for the removal of the full notebook cells\n",
       "var notebookContainer = gd.closest('#notebook-container');\n",
       "if (notebookContainer) {{\n",
       "    x.observe(notebookContainer, {childList: true});\n",
       "}}\n",
       "\n",
       "// Listen for the clearing of the current output cell\n",
       "var outputEl = gd.closest('.output');\n",
       "if (outputEl) {{\n",
       "    x.observe(outputEl, {childList: true});\n",
       "}}\n",
       "\n",
       "                        })                };                });            </script>        </div>"
      ]
     },
     "metadata": {},
     "output_type": "display_data"
    }
   ],
   "source": [
    "fig = px.line(df_total_micro, \n",
    "             x='data_base',\n",
    "             y='curto_prazo_deflacionado', \n",
    "             color='modalidade')\n",
    "\n",
    "fig.update_layout(title_text='Endividamento de Curto Prazo de Microempresas por Modalidade de Crédito',\n",
    "             xaxis_title='Ano',\n",
    "             yaxis_title='Endividamento de Curto Prazo',\n",
    "             legend_orientation=\"h\",\n",
    "             legend=dict(y=-0.2, x=0.5, xanchor='center'))\n",
    "\n",
    "fig.show()"
   ]
  },
  {
   "cell_type": "code",
   "execution_count": 22,
   "id": "03351ace-bdd5-47dd-820d-adb2361d3102",
   "metadata": {
    "tags": []
   },
   "outputs": [],
   "source": [
    "df_total_pequeno=df_total[df_total['porte']=='Pequeno']"
   ]
  },
  {
   "cell_type": "code",
   "execution_count": 27,
   "id": "4d101f0d-5693-4810-8939-19bd5a5b3590",
   "metadata": {
    "tags": []
   },
   "outputs": [
    {
     "data": {
      "application/vnd.plotly.v1+json": {
       "config": {
        "plotlyServerURL": "https://plot.ly"
       },
       "data": [
        {
         "hovertemplate": "modalidade=Capital de giro<br>data_base=%{x}<br>curto_prazo_deflacionado=%{y}<extra></extra>",
         "legendgroup": "Capital de giro",
         "line": {
          "color": "#636efa",
          "dash": "solid"
         },
         "marker": {
          "symbol": "circle"
         },
         "mode": "lines",
         "name": "Capital de giro",
         "orientation": "v",
         "showlegend": true,
         "type": "scatter",
         "x": [
          "2012-12",
          "2013-12",
          "2014-12",
          "2015-12",
          "2016-12",
          "2017-12",
          "2018-12",
          "2019-12",
          "2020-12",
          "2021-12",
          "2022-12"
         ],
         "xaxis": "x",
         "y": [
          60249157032.90783,
          60467735828.96519,
          62165436487.1752,
          47672617087.38746,
          34342093304.385246,
          26399835736.756977,
          26141133251.48372,
          32274255266.087032,
          56945361924.231384,
          63066138837.427414,
          72816457564.1709
         ],
         "yaxis": "y"
        },
        {
         "hovertemplate": "modalidade=Cheque especial e conta garantida<br>data_base=%{x}<br>curto_prazo_deflacionado=%{y}<extra></extra>",
         "legendgroup": "Cheque especial e conta garantida",
         "line": {
          "color": "#EF553B",
          "dash": "solid"
         },
         "marker": {
          "symbol": "circle"
         },
         "mode": "lines",
         "name": "Cheque especial e conta garantida",
         "orientation": "v",
         "showlegend": true,
         "type": "scatter",
         "x": [
          "2012-12",
          "2013-12",
          "2014-12",
          "2015-12",
          "2016-12",
          "2017-12",
          "2018-12",
          "2019-12",
          "2020-12",
          "2021-12",
          "2022-12"
         ],
         "xaxis": "x",
         "y": [
          16660228252.446674,
          15677318224.23337,
          15148484407.463999,
          13386487432.676838,
          10292026261.523588,
          8561577762.996691,
          7864317599.741728,
          9030865676.927414,
          7262634596.522958,
          10603437077.82966,
          11380633182.768415
         ],
         "yaxis": "y"
        },
        {
         "hovertemplate": "modalidade=Comércio exterior<br>data_base=%{x}<br>curto_prazo_deflacionado=%{y}<extra></extra>",
         "legendgroup": "Comércio exterior",
         "line": {
          "color": "#00cc96",
          "dash": "solid"
         },
         "marker": {
          "symbol": "circle"
         },
         "mode": "lines",
         "name": "Comércio exterior",
         "orientation": "v",
         "showlegend": true,
         "type": "scatter",
         "x": [
          "2012-12",
          "2013-12",
          "2014-12",
          "2015-12",
          "2016-12",
          "2017-12",
          "2018-12",
          "2019-12",
          "2020-12",
          "2021-12",
          "2022-12"
         ],
         "xaxis": "x",
         "y": [
          5374062820.262496,
          4951938076.721317,
          3887718781.517116,
          3721123094.5814705,
          1272264486.3931057,
          1692808730.0253077,
          1599080168.7069855,
          3033442894.402245,
          3057973665.7782907,
          3719592265.5942,
          4493131923.000428
         ],
         "yaxis": "y"
        },
        {
         "hovertemplate": "modalidade=Financiamento de infraestrutura/desenvolvimento/projeto e outros créditos<br>data_base=%{x}<br>curto_prazo_deflacionado=%{y}<extra></extra>",
         "legendgroup": "Financiamento de infraestrutura/desenvolvimento/projeto e outros créditos",
         "line": {
          "color": "#ab63fa",
          "dash": "solid"
         },
         "marker": {
          "symbol": "circle"
         },
         "mode": "lines",
         "name": "Financiamento de infraestrutura/desenvolvimento/projeto e outros créditos",
         "orientation": "v",
         "showlegend": true,
         "type": "scatter",
         "x": [
          "2012-12",
          "2013-12",
          "2014-12",
          "2015-12",
          "2016-12",
          "2017-12",
          "2018-12",
          "2019-12",
          "2020-12",
          "2021-12",
          "2022-12"
         ],
         "xaxis": "x",
         "y": [
          23615162952.159073,
          29931762236.351402,
          30350036668.090645,
          25584080716.4911,
          20126496676.973732,
          14815281709.39674,
          10770516905.714283,
          7080909565.817505,
          9881836385.142525,
          7578353730.842005,
          6140697715.372942
         ],
         "yaxis": "y"
        },
        {
         "hovertemplate": "modalidade=Habitacional<br>data_base=%{x}<br>curto_prazo_deflacionado=%{y}<extra></extra>",
         "legendgroup": "Habitacional",
         "line": {
          "color": "#FFA15A",
          "dash": "solid"
         },
         "marker": {
          "symbol": "circle"
         },
         "mode": "lines",
         "name": "Habitacional",
         "orientation": "v",
         "showlegend": true,
         "type": "scatter",
         "x": [
          "2012-12",
          "2013-12",
          "2014-12",
          "2015-12",
          "2016-12",
          "2017-12",
          "2018-12",
          "2019-12",
          "2020-12",
          "2021-12",
          "2022-12"
         ],
         "xaxis": "x",
         "y": [
          3257635874.110054,
          5895433168.682674,
          3758333952.6801276,
          3758946746.734982,
          3119621922.1977897,
          2658179434.869592,
          1755805605.9456592,
          1285058610.9501226,
          1388488224.9158814,
          783370864.2084886,
          1005247286.3984748
         ],
         "yaxis": "y"
        },
        {
         "hovertemplate": "modalidade=Investimento<br>data_base=%{x}<br>curto_prazo_deflacionado=%{y}<extra></extra>",
         "legendgroup": "Investimento",
         "line": {
          "color": "#19d3f3",
          "dash": "solid"
         },
         "marker": {
          "symbol": "circle"
         },
         "mode": "lines",
         "name": "Investimento",
         "orientation": "v",
         "showlegend": true,
         "type": "scatter",
         "x": [
          "2012-12",
          "2013-12",
          "2014-12",
          "2015-12",
          "2016-12",
          "2017-12",
          "2018-12",
          "2019-12",
          "2020-12",
          "2021-12",
          "2022-12"
         ],
         "xaxis": "x",
         "y": [
          14581906277.195211,
          13164710822.216064,
          11834319880.133512,
          8831523283.542255,
          6589969248.193993,
          5445272734.276844,
          6425275514.17061,
          9202441529.710478,
          15480984995.997202,
          18216340249.511574,
          22883804816.837006
         ],
         "yaxis": "y"
        },
        {
         "hovertemplate": "modalidade=Operações com recebíveis<br>data_base=%{x}<br>curto_prazo_deflacionado=%{y}<extra></extra>",
         "legendgroup": "Operações com recebíveis",
         "line": {
          "color": "#FF6692",
          "dash": "solid"
         },
         "marker": {
          "symbol": "circle"
         },
         "mode": "lines",
         "name": "Operações com recebíveis",
         "orientation": "v",
         "showlegend": true,
         "type": "scatter",
         "x": [
          "2012-12",
          "2013-12",
          "2014-12",
          "2015-12",
          "2016-12",
          "2017-12",
          "2018-12",
          "2019-12",
          "2020-12",
          "2021-12",
          "2022-12"
         ],
         "xaxis": "x",
         "y": [
          25575789286.486855,
          25799224399.23199,
          22273148300.50486,
          16688015495.294579,
          12482265188.63307,
          10416866794.48073,
          10368369447.039392,
          13089861191.565277,
          13705736688.057777,
          14314950371.065525,
          14085282746.124182
         ],
         "yaxis": "y"
        },
        {
         "hovertemplate": "modalidade=Outros créditos<br>data_base=%{x}<br>curto_prazo_deflacionado=%{y}<extra></extra>",
         "legendgroup": "Outros créditos",
         "line": {
          "color": "#B6E880",
          "dash": "solid"
         },
         "marker": {
          "symbol": "circle"
         },
         "mode": "lines",
         "name": "Outros créditos",
         "orientation": "v",
         "showlegend": true,
         "type": "scatter",
         "x": [
          "2012-12",
          "2013-12",
          "2014-12",
          "2015-12",
          "2016-12",
          "2017-12",
          "2018-12",
          "2019-12",
          "2020-12",
          "2021-12",
          "2022-12"
         ],
         "xaxis": "x",
         "y": [
          9223515125.434486,
          9810490624.43676,
          10590681049.963375,
          10959280054.495378,
          10708549253.07228,
          8391041384.783183,
          8728509878.020737,
          9977304742.086895,
          16133165174.581528,
          16426036492.424934,
          19358919797.701214
         ],
         "yaxis": "y"
        },
        {
         "hovertemplate": "modalidade=Rural e agroindustrial<br>data_base=%{x}<br>curto_prazo_deflacionado=%{y}<extra></extra>",
         "legendgroup": "Rural e agroindustrial",
         "line": {
          "color": "#FF97FF",
          "dash": "solid"
         },
         "marker": {
          "symbol": "circle"
         },
         "mode": "lines",
         "name": "Rural e agroindustrial",
         "orientation": "v",
         "showlegend": true,
         "type": "scatter",
         "x": [
          "2012-12",
          "2013-12",
          "2014-12",
          "2015-12",
          "2016-12",
          "2017-12",
          "2018-12",
          "2019-12",
          "2020-12",
          "2021-12",
          "2022-12"
         ],
         "xaxis": "x",
         "y": [
          1277869325.9672792,
          1848972557.0134213,
          1463511540.7955792,
          1458789066.4402401,
          1674643242.521818,
          2729905351.8304944,
          1600758482.1256464,
          1518466838.8096635,
          1409813963.3624334,
          1339061418.540795,
          1291997883.6591368
         ],
         "yaxis": "y"
        }
       ],
       "layout": {
        "autosize": true,
        "legend": {
         "orientation": "h",
         "title": {
          "text": "modalidade"
         },
         "tracegroupgap": 0,
         "x": 0.5,
         "xanchor": "center",
         "y": -0.2
        },
        "margin": {
         "t": 60
        },
        "template": {
         "data": {
          "bar": [
           {
            "error_x": {
             "color": "#2a3f5f"
            },
            "error_y": {
             "color": "#2a3f5f"
            },
            "marker": {
             "line": {
              "color": "#E5ECF6",
              "width": 0.5
             },
             "pattern": {
              "fillmode": "overlay",
              "size": 10,
              "solidity": 0.2
             }
            },
            "type": "bar"
           }
          ],
          "barpolar": [
           {
            "marker": {
             "line": {
              "color": "#E5ECF6",
              "width": 0.5
             },
             "pattern": {
              "fillmode": "overlay",
              "size": 10,
              "solidity": 0.2
             }
            },
            "type": "barpolar"
           }
          ],
          "carpet": [
           {
            "aaxis": {
             "endlinecolor": "#2a3f5f",
             "gridcolor": "white",
             "linecolor": "white",
             "minorgridcolor": "white",
             "startlinecolor": "#2a3f5f"
            },
            "baxis": {
             "endlinecolor": "#2a3f5f",
             "gridcolor": "white",
             "linecolor": "white",
             "minorgridcolor": "white",
             "startlinecolor": "#2a3f5f"
            },
            "type": "carpet"
           }
          ],
          "choropleth": [
           {
            "colorbar": {
             "outlinewidth": 0,
             "ticks": ""
            },
            "type": "choropleth"
           }
          ],
          "contour": [
           {
            "colorbar": {
             "outlinewidth": 0,
             "ticks": ""
            },
            "colorscale": [
             [
              0,
              "#0d0887"
             ],
             [
              0.1111111111111111,
              "#46039f"
             ],
             [
              0.2222222222222222,
              "#7201a8"
             ],
             [
              0.3333333333333333,
              "#9c179e"
             ],
             [
              0.4444444444444444,
              "#bd3786"
             ],
             [
              0.5555555555555556,
              "#d8576b"
             ],
             [
              0.6666666666666666,
              "#ed7953"
             ],
             [
              0.7777777777777778,
              "#fb9f3a"
             ],
             [
              0.8888888888888888,
              "#fdca26"
             ],
             [
              1,
              "#f0f921"
             ]
            ],
            "type": "contour"
           }
          ],
          "contourcarpet": [
           {
            "colorbar": {
             "outlinewidth": 0,
             "ticks": ""
            },
            "type": "contourcarpet"
           }
          ],
          "heatmap": [
           {
            "colorbar": {
             "outlinewidth": 0,
             "ticks": ""
            },
            "colorscale": [
             [
              0,
              "#0d0887"
             ],
             [
              0.1111111111111111,
              "#46039f"
             ],
             [
              0.2222222222222222,
              "#7201a8"
             ],
             [
              0.3333333333333333,
              "#9c179e"
             ],
             [
              0.4444444444444444,
              "#bd3786"
             ],
             [
              0.5555555555555556,
              "#d8576b"
             ],
             [
              0.6666666666666666,
              "#ed7953"
             ],
             [
              0.7777777777777778,
              "#fb9f3a"
             ],
             [
              0.8888888888888888,
              "#fdca26"
             ],
             [
              1,
              "#f0f921"
             ]
            ],
            "type": "heatmap"
           }
          ],
          "heatmapgl": [
           {
            "colorbar": {
             "outlinewidth": 0,
             "ticks": ""
            },
            "colorscale": [
             [
              0,
              "#0d0887"
             ],
             [
              0.1111111111111111,
              "#46039f"
             ],
             [
              0.2222222222222222,
              "#7201a8"
             ],
             [
              0.3333333333333333,
              "#9c179e"
             ],
             [
              0.4444444444444444,
              "#bd3786"
             ],
             [
              0.5555555555555556,
              "#d8576b"
             ],
             [
              0.6666666666666666,
              "#ed7953"
             ],
             [
              0.7777777777777778,
              "#fb9f3a"
             ],
             [
              0.8888888888888888,
              "#fdca26"
             ],
             [
              1,
              "#f0f921"
             ]
            ],
            "type": "heatmapgl"
           }
          ],
          "histogram": [
           {
            "marker": {
             "pattern": {
              "fillmode": "overlay",
              "size": 10,
              "solidity": 0.2
             }
            },
            "type": "histogram"
           }
          ],
          "histogram2d": [
           {
            "colorbar": {
             "outlinewidth": 0,
             "ticks": ""
            },
            "colorscale": [
             [
              0,
              "#0d0887"
             ],
             [
              0.1111111111111111,
              "#46039f"
             ],
             [
              0.2222222222222222,
              "#7201a8"
             ],
             [
              0.3333333333333333,
              "#9c179e"
             ],
             [
              0.4444444444444444,
              "#bd3786"
             ],
             [
              0.5555555555555556,
              "#d8576b"
             ],
             [
              0.6666666666666666,
              "#ed7953"
             ],
             [
              0.7777777777777778,
              "#fb9f3a"
             ],
             [
              0.8888888888888888,
              "#fdca26"
             ],
             [
              1,
              "#f0f921"
             ]
            ],
            "type": "histogram2d"
           }
          ],
          "histogram2dcontour": [
           {
            "colorbar": {
             "outlinewidth": 0,
             "ticks": ""
            },
            "colorscale": [
             [
              0,
              "#0d0887"
             ],
             [
              0.1111111111111111,
              "#46039f"
             ],
             [
              0.2222222222222222,
              "#7201a8"
             ],
             [
              0.3333333333333333,
              "#9c179e"
             ],
             [
              0.4444444444444444,
              "#bd3786"
             ],
             [
              0.5555555555555556,
              "#d8576b"
             ],
             [
              0.6666666666666666,
              "#ed7953"
             ],
             [
              0.7777777777777778,
              "#fb9f3a"
             ],
             [
              0.8888888888888888,
              "#fdca26"
             ],
             [
              1,
              "#f0f921"
             ]
            ],
            "type": "histogram2dcontour"
           }
          ],
          "mesh3d": [
           {
            "colorbar": {
             "outlinewidth": 0,
             "ticks": ""
            },
            "type": "mesh3d"
           }
          ],
          "parcoords": [
           {
            "line": {
             "colorbar": {
              "outlinewidth": 0,
              "ticks": ""
             }
            },
            "type": "parcoords"
           }
          ],
          "pie": [
           {
            "automargin": true,
            "type": "pie"
           }
          ],
          "scatter": [
           {
            "fillpattern": {
             "fillmode": "overlay",
             "size": 10,
             "solidity": 0.2
            },
            "type": "scatter"
           }
          ],
          "scatter3d": [
           {
            "line": {
             "colorbar": {
              "outlinewidth": 0,
              "ticks": ""
             }
            },
            "marker": {
             "colorbar": {
              "outlinewidth": 0,
              "ticks": ""
             }
            },
            "type": "scatter3d"
           }
          ],
          "scattercarpet": [
           {
            "marker": {
             "colorbar": {
              "outlinewidth": 0,
              "ticks": ""
             }
            },
            "type": "scattercarpet"
           }
          ],
          "scattergeo": [
           {
            "marker": {
             "colorbar": {
              "outlinewidth": 0,
              "ticks": ""
             }
            },
            "type": "scattergeo"
           }
          ],
          "scattergl": [
           {
            "marker": {
             "colorbar": {
              "outlinewidth": 0,
              "ticks": ""
             }
            },
            "type": "scattergl"
           }
          ],
          "scattermapbox": [
           {
            "marker": {
             "colorbar": {
              "outlinewidth": 0,
              "ticks": ""
             }
            },
            "type": "scattermapbox"
           }
          ],
          "scatterpolar": [
           {
            "marker": {
             "colorbar": {
              "outlinewidth": 0,
              "ticks": ""
             }
            },
            "type": "scatterpolar"
           }
          ],
          "scatterpolargl": [
           {
            "marker": {
             "colorbar": {
              "outlinewidth": 0,
              "ticks": ""
             }
            },
            "type": "scatterpolargl"
           }
          ],
          "scatterternary": [
           {
            "marker": {
             "colorbar": {
              "outlinewidth": 0,
              "ticks": ""
             }
            },
            "type": "scatterternary"
           }
          ],
          "surface": [
           {
            "colorbar": {
             "outlinewidth": 0,
             "ticks": ""
            },
            "colorscale": [
             [
              0,
              "#0d0887"
             ],
             [
              0.1111111111111111,
              "#46039f"
             ],
             [
              0.2222222222222222,
              "#7201a8"
             ],
             [
              0.3333333333333333,
              "#9c179e"
             ],
             [
              0.4444444444444444,
              "#bd3786"
             ],
             [
              0.5555555555555556,
              "#d8576b"
             ],
             [
              0.6666666666666666,
              "#ed7953"
             ],
             [
              0.7777777777777778,
              "#fb9f3a"
             ],
             [
              0.8888888888888888,
              "#fdca26"
             ],
             [
              1,
              "#f0f921"
             ]
            ],
            "type": "surface"
           }
          ],
          "table": [
           {
            "cells": {
             "fill": {
              "color": "#EBF0F8"
             },
             "line": {
              "color": "white"
             }
            },
            "header": {
             "fill": {
              "color": "#C8D4E3"
             },
             "line": {
              "color": "white"
             }
            },
            "type": "table"
           }
          ]
         },
         "layout": {
          "annotationdefaults": {
           "arrowcolor": "#2a3f5f",
           "arrowhead": 0,
           "arrowwidth": 1
          },
          "autotypenumbers": "strict",
          "coloraxis": {
           "colorbar": {
            "outlinewidth": 0,
            "ticks": ""
           }
          },
          "colorscale": {
           "diverging": [
            [
             0,
             "#8e0152"
            ],
            [
             0.1,
             "#c51b7d"
            ],
            [
             0.2,
             "#de77ae"
            ],
            [
             0.3,
             "#f1b6da"
            ],
            [
             0.4,
             "#fde0ef"
            ],
            [
             0.5,
             "#f7f7f7"
            ],
            [
             0.6,
             "#e6f5d0"
            ],
            [
             0.7,
             "#b8e186"
            ],
            [
             0.8,
             "#7fbc41"
            ],
            [
             0.9,
             "#4d9221"
            ],
            [
             1,
             "#276419"
            ]
           ],
           "sequential": [
            [
             0,
             "#0d0887"
            ],
            [
             0.1111111111111111,
             "#46039f"
            ],
            [
             0.2222222222222222,
             "#7201a8"
            ],
            [
             0.3333333333333333,
             "#9c179e"
            ],
            [
             0.4444444444444444,
             "#bd3786"
            ],
            [
             0.5555555555555556,
             "#d8576b"
            ],
            [
             0.6666666666666666,
             "#ed7953"
            ],
            [
             0.7777777777777778,
             "#fb9f3a"
            ],
            [
             0.8888888888888888,
             "#fdca26"
            ],
            [
             1,
             "#f0f921"
            ]
           ],
           "sequentialminus": [
            [
             0,
             "#0d0887"
            ],
            [
             0.1111111111111111,
             "#46039f"
            ],
            [
             0.2222222222222222,
             "#7201a8"
            ],
            [
             0.3333333333333333,
             "#9c179e"
            ],
            [
             0.4444444444444444,
             "#bd3786"
            ],
            [
             0.5555555555555556,
             "#d8576b"
            ],
            [
             0.6666666666666666,
             "#ed7953"
            ],
            [
             0.7777777777777778,
             "#fb9f3a"
            ],
            [
             0.8888888888888888,
             "#fdca26"
            ],
            [
             1,
             "#f0f921"
            ]
           ]
          },
          "colorway": [
           "#636efa",
           "#EF553B",
           "#00cc96",
           "#ab63fa",
           "#FFA15A",
           "#19d3f3",
           "#FF6692",
           "#B6E880",
           "#FF97FF",
           "#FECB52"
          ],
          "font": {
           "color": "#2a3f5f"
          },
          "geo": {
           "bgcolor": "white",
           "lakecolor": "white",
           "landcolor": "#E5ECF6",
           "showlakes": true,
           "showland": true,
           "subunitcolor": "white"
          },
          "hoverlabel": {
           "align": "left"
          },
          "hovermode": "closest",
          "mapbox": {
           "style": "light"
          },
          "paper_bgcolor": "white",
          "plot_bgcolor": "#E5ECF6",
          "polar": {
           "angularaxis": {
            "gridcolor": "white",
            "linecolor": "white",
            "ticks": ""
           },
           "bgcolor": "#E5ECF6",
           "radialaxis": {
            "gridcolor": "white",
            "linecolor": "white",
            "ticks": ""
           }
          },
          "scene": {
           "xaxis": {
            "backgroundcolor": "#E5ECF6",
            "gridcolor": "white",
            "gridwidth": 2,
            "linecolor": "white",
            "showbackground": true,
            "ticks": "",
            "zerolinecolor": "white"
           },
           "yaxis": {
            "backgroundcolor": "#E5ECF6",
            "gridcolor": "white",
            "gridwidth": 2,
            "linecolor": "white",
            "showbackground": true,
            "ticks": "",
            "zerolinecolor": "white"
           },
           "zaxis": {
            "backgroundcolor": "#E5ECF6",
            "gridcolor": "white",
            "gridwidth": 2,
            "linecolor": "white",
            "showbackground": true,
            "ticks": "",
            "zerolinecolor": "white"
           }
          },
          "shapedefaults": {
           "line": {
            "color": "#2a3f5f"
           }
          },
          "ternary": {
           "aaxis": {
            "gridcolor": "white",
            "linecolor": "white",
            "ticks": ""
           },
           "baxis": {
            "gridcolor": "white",
            "linecolor": "white",
            "ticks": ""
           },
           "bgcolor": "#E5ECF6",
           "caxis": {
            "gridcolor": "white",
            "linecolor": "white",
            "ticks": ""
           }
          },
          "title": {
           "x": 0.05
          },
          "xaxis": {
           "automargin": true,
           "gridcolor": "white",
           "linecolor": "white",
           "ticks": "",
           "title": {
            "standoff": 15
           },
           "zerolinecolor": "white",
           "zerolinewidth": 2
          },
          "yaxis": {
           "automargin": true,
           "gridcolor": "white",
           "linecolor": "white",
           "ticks": "",
           "title": {
            "standoff": 15
           },
           "zerolinecolor": "white",
           "zerolinewidth": 2
          }
         }
        },
        "title": {
         "text": "Endividamento de Curto Prazo de Pequenas Empresas por Modalidade de Crédito"
        },
        "xaxis": {
         "anchor": "y",
         "autorange": true,
         "domain": [
          0,
          1
         ],
         "range": [
          "2012-12-01",
          "2022-12-01"
         ],
         "title": {
          "text": "Ano"
         },
         "type": "date"
        },
        "yaxis": {
         "anchor": "x",
         "autorange": true,
         "domain": [
          0,
          1
         ],
         "range": [
          -3218467285.789423,
          76818295714.16881
         ],
         "title": {
          "text": "Endividamento de Curto Prazo"
         },
         "type": "linear"
        }
       }
      },
      "image/png": "[encoded data removed]",
      "text/html": [
       "<div>                            <div id=\"44dfcd8e-3890-4e89-8ee2-335eb071040e\" class=\"plotly-graph-div\" style=\"height:525px; width:100%;\"></div>            <script type=\"text/javascript\">                require([\"plotly\"], function(Plotly) {                    window.PLOTLYENV=window.PLOTLYENV || {};                                    if (document.getElementById(\"44dfcd8e-3890-4e89-8ee2-335eb071040e\")) {                    Plotly.newPlot(                        \"44dfcd8e-3890-4e89-8ee2-335eb071040e\",                        [{\"hovertemplate\":\"modalidade=Capital de giro\\u003cbr\\u003edata_base=%{x}\\u003cbr\\u003ecurto_prazo_deflacionado=%{y}\\u003cextra\\u003e\\u003c\\u002fextra\\u003e\",\"legendgroup\":\"Capital de giro\",\"line\":{\"color\":\"#636efa\",\"dash\":\"solid\"},\"marker\":{\"symbol\":\"circle\"},\"mode\":\"lines\",\"name\":\"Capital de giro\",\"orientation\":\"v\",\"showlegend\":true,\"x\":[\"2012-12\",\"2013-12\",\"2014-12\",\"2015-12\",\"2016-12\",\"2017-12\",\"2018-12\",\"2019-12\",\"2020-12\",\"2021-12\",\"2022-12\"],\"xaxis\":\"x\",\"y\":[60249157032.90783,60467735828.96519,62165436487.1752,47672617087.38746,34342093304.385246,26399835736.756977,26141133251.48372,32274255266.087032,56945361924.231384,63066138837.427414,72816457564.1709],\"yaxis\":\"y\",\"type\":\"scatter\"},{\"hovertemplate\":\"modalidade=Cheque especial e conta garantida\\u003cbr\\u003edata_base=%{x}\\u003cbr\\u003ecurto_prazo_deflacionado=%{y}\\u003cextra\\u003e\\u003c\\u002fextra\\u003e\",\"legendgroup\":\"Cheque especial e conta garantida\",\"line\":{\"color\":\"#EF553B\",\"dash\":\"solid\"},\"marker\":{\"symbol\":\"circle\"},\"mode\":\"lines\",\"name\":\"Cheque especial e conta garantida\",\"orientation\":\"v\",\"showlegend\":true,\"x\":[\"2012-12\",\"2013-12\",\"2014-12\",\"2015-12\",\"2016-12\",\"2017-12\",\"2018-12\",\"2019-12\",\"2020-12\",\"2021-12\",\"2022-12\"],\"xaxis\":\"x\",\"y\":[16660228252.446674,15677318224.23337,15148484407.463999,13386487432.676838,10292026261.523588,8561577762.996691,7864317599.741728,9030865676.927414,7262634596.522958,10603437077.82966,11380633182.768415],\"yaxis\":\"y\",\"type\":\"scatter\"},{\"hovertemplate\":\"modalidade=Com\\u00e9rcio exterior\\u003cbr\\u003edata_base=%{x}\\u003cbr\\u003ecurto_prazo_deflacionado=%{y}\\u003cextra\\u003e\\u003c\\u002fextra\\u003e\",\"legendgroup\":\"Com\\u00e9rcio exterior\",\"line\":{\"color\":\"#00cc96\",\"dash\":\"solid\"},\"marker\":{\"symbol\":\"circle\"},\"mode\":\"lines\",\"name\":\"Com\\u00e9rcio exterior\",\"orientation\":\"v\",\"showlegend\":true,\"x\":[\"2012-12\",\"2013-12\",\"2014-12\",\"2015-12\",\"2016-12\",\"2017-12\",\"2018-12\",\"2019-12\",\"2020-12\",\"2021-12\",\"2022-12\"],\"xaxis\":\"x\",\"y\":[5374062820.262496,4951938076.721317,3887718781.517116,3721123094.5814705,1272264486.3931057,1692808730.0253077,1599080168.7069855,3033442894.402245,3057973665.7782907,3719592265.5942,4493131923.000428],\"yaxis\":\"y\",\"type\":\"scatter\"},{\"hovertemplate\":\"modalidade=Financiamento de infraestrutura\\u002fdesenvolvimento\\u002fprojeto e outros cr\\u00e9ditos\\u003cbr\\u003edata_base=%{x}\\u003cbr\\u003ecurto_prazo_deflacionado=%{y}\\u003cextra\\u003e\\u003c\\u002fextra\\u003e\",\"legendgroup\":\"Financiamento de infraestrutura\\u002fdesenvolvimento\\u002fprojeto e outros cr\\u00e9ditos\",\"line\":{\"color\":\"#ab63fa\",\"dash\":\"solid\"},\"marker\":{\"symbol\":\"circle\"},\"mode\":\"lines\",\"name\":\"Financiamento de infraestrutura\\u002fdesenvolvimento\\u002fprojeto e outros cr\\u00e9ditos\",\"orientation\":\"v\",\"showlegend\":true,\"x\":[\"2012-12\",\"2013-12\",\"2014-12\",\"2015-12\",\"2016-12\",\"2017-12\",\"2018-12\",\"2019-12\",\"2020-12\",\"2021-12\",\"2022-12\"],\"xaxis\":\"x\",\"y\":[23615162952.159073,29931762236.351402,30350036668.090645,25584080716.4911,20126496676.973732,14815281709.39674,10770516905.714283,7080909565.817505,9881836385.142525,7578353730.842005,6140697715.372942],\"yaxis\":\"y\",\"type\":\"scatter\"},{\"hovertemplate\":\"modalidade=Habitacional\\u003cbr\\u003edata_base=%{x}\\u003cbr\\u003ecurto_prazo_deflacionado=%{y}\\u003cextra\\u003e\\u003c\\u002fextra\\u003e\",\"legendgroup\":\"Habitacional\",\"line\":{\"color\":\"#FFA15A\",\"dash\":\"solid\"},\"marker\":{\"symbol\":\"circle\"},\"mode\":\"lines\",\"name\":\"Habitacional\",\"orientation\":\"v\",\"showlegend\":true,\"x\":[\"2012-12\",\"2013-12\",\"2014-12\",\"2015-12\",\"2016-12\",\"2017-12\",\"2018-12\",\"2019-12\",\"2020-12\",\"2021-12\",\"2022-12\"],\"xaxis\":\"x\",\"y\":[3257635874.110054,5895433168.682674,3758333952.6801276,3758946746.734982,3119621922.1977897,2658179434.869592,1755805605.9456592,1285058610.9501226,1388488224.9158814,783370864.2084886,1005247286.3984748],\"yaxis\":\"y\",\"type\":\"scatter\"},{\"hovertemplate\":\"modalidade=Investimento\\u003cbr\\u003edata_base=%{x}\\u003cbr\\u003ecurto_prazo_deflacionado=%{y}\\u003cextra\\u003e\\u003c\\u002fextra\\u003e\",\"legendgroup\":\"Investimento\",\"line\":{\"color\":\"#19d3f3\",\"dash\":\"solid\"},\"marker\":{\"symbol\":\"circle\"},\"mode\":\"lines\",\"name\":\"Investimento\",\"orientation\":\"v\",\"showlegend\":true,\"x\":[\"2012-12\",\"2013-12\",\"2014-12\",\"2015-12\",\"2016-12\",\"2017-12\",\"2018-12\",\"2019-12\",\"2020-12\",\"2021-12\",\"2022-12\"],\"xaxis\":\"x\",\"y\":[14581906277.195211,13164710822.216064,11834319880.133512,8831523283.542255,6589969248.193993,5445272734.276844,6425275514.17061,9202441529.710478,15480984995.997202,18216340249.511574,22883804816.837006],\"yaxis\":\"y\",\"type\":\"scatter\"},{\"hovertemplate\":\"modalidade=Opera\\u00e7\\u00f5es com receb\\u00edveis\\u003cbr\\u003edata_base=%{x}\\u003cbr\\u003ecurto_prazo_deflacionado=%{y}\\u003cextra\\u003e\\u003c\\u002fextra\\u003e\",\"legendgroup\":\"Opera\\u00e7\\u00f5es com receb\\u00edveis\",\"line\":{\"color\":\"#FF6692\",\"dash\":\"solid\"},\"marker\":{\"symbol\":\"circle\"},\"mode\":\"lines\",\"name\":\"Opera\\u00e7\\u00f5es com receb\\u00edveis\",\"orientation\":\"v\",\"showlegend\":true,\"x\":[\"2012-12\",\"2013-12\",\"2014-12\",\"2015-12\",\"2016-12\",\"2017-12\",\"2018-12\",\"2019-12\",\"2020-12\",\"2021-12\",\"2022-12\"],\"xaxis\":\"x\",\"y\":[25575789286.486855,25799224399.23199,22273148300.50486,16688015495.294579,12482265188.63307,10416866794.48073,10368369447.039392,13089861191.565277,13705736688.057777,14314950371.065525,14085282746.124182],\"yaxis\":\"y\",\"type\":\"scatter\"},{\"hovertemplate\":\"modalidade=Outros cr\\u00e9ditos\\u003cbr\\u003edata_base=%{x}\\u003cbr\\u003ecurto_prazo_deflacionado=%{y}\\u003cextra\\u003e\\u003c\\u002fextra\\u003e\",\"legendgroup\":\"Outros cr\\u00e9ditos\",\"line\":{\"color\":\"#B6E880\",\"dash\":\"solid\"},\"marker\":{\"symbol\":\"circle\"},\"mode\":\"lines\",\"name\":\"Outros cr\\u00e9ditos\",\"orientation\":\"v\",\"showlegend\":true,\"x\":[\"2012-12\",\"2013-12\",\"2014-12\",\"2015-12\",\"2016-12\",\"2017-12\",\"2018-12\",\"2019-12\",\"2020-12\",\"2021-12\",\"2022-12\"],\"xaxis\":\"x\",\"y\":[9223515125.434486,9810490624.43676,10590681049.963375,10959280054.495378,10708549253.07228,8391041384.783183,8728509878.020737,9977304742.086895,16133165174.581528,16426036492.424934,19358919797.701214],\"yaxis\":\"y\",\"type\":\"scatter\"},{\"hovertemplate\":\"modalidade=Rural e agroindustrial\\u003cbr\\u003edata_base=%{x}\\u003cbr\\u003ecurto_prazo_deflacionado=%{y}\\u003cextra\\u003e\\u003c\\u002fextra\\u003e\",\"legendgroup\":\"Rural e agroindustrial\",\"line\":{\"color\":\"#FF97FF\",\"dash\":\"solid\"},\"marker\":{\"symbol\":\"circle\"},\"mode\":\"lines\",\"name\":\"Rural e agroindustrial\",\"orientation\":\"v\",\"showlegend\":true,\"x\":[\"2012-12\",\"2013-12\",\"2014-12\",\"2015-12\",\"2016-12\",\"2017-12\",\"2018-12\",\"2019-12\",\"2020-12\",\"2021-12\",\"2022-12\"],\"xaxis\":\"x\",\"y\":[1277869325.9672792,1848972557.0134213,1463511540.7955792,1458789066.4402401,1674643242.521818,2729905351.8304944,1600758482.1256464,1518466838.8096635,1409813963.3624334,1339061418.540795,1291997883.6591368],\"yaxis\":\"y\",\"type\":\"scatter\"}],                        {\"template\":{\"data\":{\"histogram2dcontour\":[{\"type\":\"histogram2dcontour\",\"colorbar\":{\"outlinewidth\":0,\"ticks\":\"\"},\"colorscale\":[[0.0,\"#0d0887\"],[0.1111111111111111,\"#46039f\"],[0.2222222222222222,\"#7201a8\"],[0.3333333333333333,\"#9c179e\"],[0.4444444444444444,\"#bd3786\"],[0.5555555555555556,\"#d8576b\"],[0.6666666666666666,\"#ed7953\"],[0.7777777777777778,\"#fb9f3a\"],[0.8888888888888888,\"#fdca26\"],[1.0,\"#f0f921\"]]}],\"choropleth\":[{\"type\":\"choropleth\",\"colorbar\":{\"outlinewidth\":0,\"ticks\":\"\"}}],\"histogram2d\":[{\"type\":\"histogram2d\",\"colorbar\":{\"outlinewidth\":0,\"ticks\":\"\"},\"colorscale\":[[0.0,\"#0d0887\"],[0.1111111111111111,\"#46039f\"],[0.2222222222222222,\"#7201a8\"],[0.3333333333333333,\"#9c179e\"],[0.4444444444444444,\"#bd3786\"],[0.5555555555555556,\"#d8576b\"],[0.6666666666666666,\"#ed7953\"],[0.7777777777777778,\"#fb9f3a\"],[0.8888888888888888,\"#fdca26\"],[1.0,\"#f0f921\"]]}],\"heatmap\":[{\"type\":\"heatmap\",\"colorbar\":{\"outlinewidth\":0,\"ticks\":\"\"},\"colorscale\":[[0.0,\"#0d0887\"],[0.1111111111111111,\"#46039f\"],[0.2222222222222222,\"#7201a8\"],[0.3333333333333333,\"#9c179e\"],[0.4444444444444444,\"#bd3786\"],[0.5555555555555556,\"#d8576b\"],[0.6666666666666666,\"#ed7953\"],[0.7777777777777778,\"#fb9f3a\"],[0.8888888888888888,\"#fdca26\"],[1.0,\"#f0f921\"]]}],\"heatmapgl\":[{\"type\":\"heatmapgl\",\"colorbar\":{\"outlinewidth\":0,\"ticks\":\"\"},\"colorscale\":[[0.0,\"#0d0887\"],[0.1111111111111111,\"#46039f\"],[0.2222222222222222,\"#7201a8\"],[0.3333333333333333,\"#9c179e\"],[0.4444444444444444,\"#bd3786\"],[0.5555555555555556,\"#d8576b\"],[0.6666666666666666,\"#ed7953\"],[0.7777777777777778,\"#fb9f3a\"],[0.8888888888888888,\"#fdca26\"],[1.0,\"#f0f921\"]]}],\"contourcarpet\":[{\"type\":\"contourcarpet\",\"colorbar\":{\"outlinewidth\":0,\"ticks\":\"\"}}],\"contour\":[{\"type\":\"contour\",\"colorbar\":{\"outlinewidth\":0,\"ticks\":\"\"},\"colorscale\":[[0.0,\"#0d0887\"],[0.1111111111111111,\"#46039f\"],[0.2222222222222222,\"#7201a8\"],[0.3333333333333333,\"#9c179e\"],[0.4444444444444444,\"#bd3786\"],[0.5555555555555556,\"#d8576b\"],[0.6666666666666666,\"#ed7953\"],[0.7777777777777778,\"#fb9f3a\"],[0.8888888888888888,\"#fdca26\"],[1.0,\"#f0f921\"]]}],\"surface\":[{\"type\":\"surface\",\"colorbar\":{\"outlinewidth\":0,\"ticks\":\"\"},\"colorscale\":[[0.0,\"#0d0887\"],[0.1111111111111111,\"#46039f\"],[0.2222222222222222,\"#7201a8\"],[0.3333333333333333,\"#9c179e\"],[0.4444444444444444,\"#bd3786\"],[0.5555555555555556,\"#d8576b\"],[0.6666666666666666,\"#ed7953\"],[0.7777777777777778,\"#fb9f3a\"],[0.8888888888888888,\"#fdca26\"],[1.0,\"#f0f921\"]]}],\"mesh3d\":[{\"type\":\"mesh3d\",\"colorbar\":{\"outlinewidth\":0,\"ticks\":\"\"}}],\"scatter\":[{\"fillpattern\":{\"fillmode\":\"overlay\",\"size\":10,\"solidity\":0.2},\"type\":\"scatter\"}],\"parcoords\":[{\"type\":\"parcoords\",\"line\":{\"colorbar\":{\"outlinewidth\":0,\"ticks\":\"\"}}}],\"scatterpolargl\":[{\"type\":\"scatterpolargl\",\"marker\":{\"colorbar\":{\"outlinewidth\":0,\"ticks\":\"\"}}}],\"bar\":[{\"error_x\":{\"color\":\"#2a3f5f\"},\"error_y\":{\"color\":\"#2a3f5f\"},\"marker\":{\"line\":{\"color\":\"#E5ECF6\",\"width\":0.5},\"pattern\":{\"fillmode\":\"overlay\",\"size\":10,\"solidity\":0.2}},\"type\":\"bar\"}],\"scattergeo\":[{\"type\":\"scattergeo\",\"marker\":{\"colorbar\":{\"outlinewidth\":0,\"ticks\":\"\"}}}],\"scatterpolar\":[{\"type\":\"scatterpolar\",\"marker\":{\"colorbar\":{\"outlinewidth\":0,\"ticks\":\"\"}}}],\"histogram\":[{\"marker\":{\"pattern\":{\"fillmode\":\"overlay\",\"size\":10,\"solidity\":0.2}},\"type\":\"histogram\"}],\"scattergl\":[{\"type\":\"scattergl\",\"marker\":{\"colorbar\":{\"outlinewidth\":0,\"ticks\":\"\"}}}],\"scatter3d\":[{\"type\":\"scatter3d\",\"line\":{\"colorbar\":{\"outlinewidth\":0,\"ticks\":\"\"}},\"marker\":{\"colorbar\":{\"outlinewidth\":0,\"ticks\":\"\"}}}],\"scattermapbox\":[{\"type\":\"scattermapbox\",\"marker\":{\"colorbar\":{\"outlinewidth\":0,\"ticks\":\"\"}}}],\"scatterternary\":[{\"type\":\"scatterternary\",\"marker\":{\"colorbar\":{\"outlinewidth\":0,\"ticks\":\"\"}}}],\"scattercarpet\":[{\"type\":\"scattercarpet\",\"marker\":{\"colorbar\":{\"outlinewidth\":0,\"ticks\":\"\"}}}],\"carpet\":[{\"aaxis\":{\"endlinecolor\":\"#2a3f5f\",\"gridcolor\":\"white\",\"linecolor\":\"white\",\"minorgridcolor\":\"white\",\"startlinecolor\":\"#2a3f5f\"},\"baxis\":{\"endlinecolor\":\"#2a3f5f\",\"gridcolor\":\"white\",\"linecolor\":\"white\",\"minorgridcolor\":\"white\",\"startlinecolor\":\"#2a3f5f\"},\"type\":\"carpet\"}],\"table\":[{\"cells\":{\"fill\":{\"color\":\"#EBF0F8\"},\"line\":{\"color\":\"white\"}},\"header\":{\"fill\":{\"color\":\"#C8D4E3\"},\"line\":{\"color\":\"white\"}},\"type\":\"table\"}],\"barpolar\":[{\"marker\":{\"line\":{\"color\":\"#E5ECF6\",\"width\":0.5},\"pattern\":{\"fillmode\":\"overlay\",\"size\":10,\"solidity\":0.2}},\"type\":\"barpolar\"}],\"pie\":[{\"automargin\":true,\"type\":\"pie\"}]},\"layout\":{\"autotypenumbers\":\"strict\",\"colorway\":[\"#636efa\",\"#EF553B\",\"#00cc96\",\"#ab63fa\",\"#FFA15A\",\"#19d3f3\",\"#FF6692\",\"#B6E880\",\"#FF97FF\",\"#FECB52\"],\"font\":{\"color\":\"#2a3f5f\"},\"hovermode\":\"closest\",\"hoverlabel\":{\"align\":\"left\"},\"paper_bgcolor\":\"white\",\"plot_bgcolor\":\"#E5ECF6\",\"polar\":{\"bgcolor\":\"#E5ECF6\",\"angularaxis\":{\"gridcolor\":\"white\",\"linecolor\":\"white\",\"ticks\":\"\"},\"radialaxis\":{\"gridcolor\":\"white\",\"linecolor\":\"white\",\"ticks\":\"\"}},\"ternary\":{\"bgcolor\":\"#E5ECF6\",\"aaxis\":{\"gridcolor\":\"white\",\"linecolor\":\"white\",\"ticks\":\"\"},\"baxis\":{\"gridcolor\":\"white\",\"linecolor\":\"white\",\"ticks\":\"\"},\"caxis\":{\"gridcolor\":\"white\",\"linecolor\":\"white\",\"ticks\":\"\"}},\"coloraxis\":{\"colorbar\":{\"outlinewidth\":0,\"ticks\":\"\"}},\"colorscale\":{\"sequential\":[[0.0,\"#0d0887\"],[0.1111111111111111,\"#46039f\"],[0.2222222222222222,\"#7201a8\"],[0.3333333333333333,\"#9c179e\"],[0.4444444444444444,\"#bd3786\"],[0.5555555555555556,\"#d8576b\"],[0.6666666666666666,\"#ed7953\"],[0.7777777777777778,\"#fb9f3a\"],[0.8888888888888888,\"#fdca26\"],[1.0,\"#f0f921\"]],\"sequentialminus\":[[0.0,\"#0d0887\"],[0.1111111111111111,\"#46039f\"],[0.2222222222222222,\"#7201a8\"],[0.3333333333333333,\"#9c179e\"],[0.4444444444444444,\"#bd3786\"],[0.5555555555555556,\"#d8576b\"],[0.6666666666666666,\"#ed7953\"],[0.7777777777777778,\"#fb9f3a\"],[0.8888888888888888,\"#fdca26\"],[1.0,\"#f0f921\"]],\"diverging\":[[0,\"#8e0152\"],[0.1,\"#c51b7d\"],[0.2,\"#de77ae\"],[0.3,\"#f1b6da\"],[0.4,\"#fde0ef\"],[0.5,\"#f7f7f7\"],[0.6,\"#e6f5d0\"],[0.7,\"#b8e186\"],[0.8,\"#7fbc41\"],[0.9,\"#4d9221\"],[1,\"#276419\"]]},\"xaxis\":{\"gridcolor\":\"white\",\"linecolor\":\"white\",\"ticks\":\"\",\"title\":{\"standoff\":15},\"zerolinecolor\":\"white\",\"automargin\":true,\"zerolinewidth\":2},\"yaxis\":{\"gridcolor\":\"white\",\"linecolor\":\"white\",\"ticks\":\"\",\"title\":{\"standoff\":15},\"zerolinecolor\":\"white\",\"automargin\":true,\"zerolinewidth\":2},\"scene\":{\"xaxis\":{\"backgroundcolor\":\"#E5ECF6\",\"gridcolor\":\"white\",\"linecolor\":\"white\",\"showbackground\":true,\"ticks\":\"\",\"zerolinecolor\":\"white\",\"gridwidth\":2},\"yaxis\":{\"backgroundcolor\":\"#E5ECF6\",\"gridcolor\":\"white\",\"linecolor\":\"white\",\"showbackground\":true,\"ticks\":\"\",\"zerolinecolor\":\"white\",\"gridwidth\":2},\"zaxis\":{\"backgroundcolor\":\"#E5ECF6\",\"gridcolor\":\"white\",\"linecolor\":\"white\",\"showbackground\":true,\"ticks\":\"\",\"zerolinecolor\":\"white\",\"gridwidth\":2}},\"shapedefaults\":{\"line\":{\"color\":\"#2a3f5f\"}},\"annotationdefaults\":{\"arrowcolor\":\"#2a3f5f\",\"arrowhead\":0,\"arrowwidth\":1},\"geo\":{\"bgcolor\":\"white\",\"landcolor\":\"#E5ECF6\",\"subunitcolor\":\"white\",\"showland\":true,\"showlakes\":true,\"lakecolor\":\"white\"},\"title\":{\"x\":0.05},\"mapbox\":{\"style\":\"light\"}}},\"xaxis\":{\"anchor\":\"y\",\"domain\":[0.0,1.0],\"title\":{\"text\":\"Ano\"}},\"yaxis\":{\"anchor\":\"x\",\"domain\":[0.0,1.0],\"title\":{\"text\":\"Endividamento de Curto Prazo\"}},\"legend\":{\"title\":{\"text\":\"modalidade\"},\"tracegroupgap\":0,\"orientation\":\"h\",\"y\":-0.2,\"x\":0.5,\"xanchor\":\"center\"},\"margin\":{\"t\":60},\"title\":{\"text\":\"Endividamento de Curto Prazo de Pequenas Empresas por Modalidade de Cr\\u00e9dito\"}},                        {\"responsive\": true}                    ).then(function(){\n",
       "                            \n",
       "var gd = document.getElementById('44dfcd8e-3890-4e89-8ee2-335eb071040e');\n",
       "var x = new MutationObserver(function (mutations, observer) {{\n",
       "        var display = window.getComputedStyle(gd).display;\n",
       "        if (!display || display === 'none') {{\n",
       "            console.log([gd, 'removed!']);\n",
       "            Plotly.purge(gd);\n",
       "            observer.disconnect();\n",
       "        }}\n",
       "}});\n",
       "\n",
       "// Listen for the removal of the full notebook cells\n",
       "var notebookContainer = gd.closest('#notebook-container');\n",
       "if (notebookContainer) {{\n",
       "    x.observe(notebookContainer, {childList: true});\n",
       "}}\n",
       "\n",
       "// Listen for the clearing of the current output cell\n",
       "var outputEl = gd.closest('.output');\n",
       "if (outputEl) {{\n",
       "    x.observe(outputEl, {childList: true});\n",
       "}}\n",
       "\n",
       "                        })                };                });            </script>        </div>"
      ]
     },
     "metadata": {},
     "output_type": "display_data"
    }
   ],
   "source": [
    "fig = px.line(df_total_pequeno, \n",
    "             x='data_base',\n",
    "             y='curto_prazo_deflacionado', \n",
    "             color='modalidade')\n",
    "\n",
    "fig.update_layout(title_text='Endividamento de Curto Prazo de Pequenas Empresas por Modalidade de Crédito',\n",
    "             xaxis_title='Ano',\n",
    "             yaxis_title='Endividamento de Curto Prazo',\n",
    "             legend_orientation=\"h\",\n",
    "             legend=dict(y=-0.2, x=0.5, xanchor='center'))\n",
    "\n",
    "fig.show()"
   ]
  },
  {
   "cell_type": "code",
   "execution_count": null,
   "id": "cd33fd08-b10c-432f-b0fc-991dae6e5190",
   "metadata": {},
   "outputs": [],
   "source": []
  }
 ],
 "metadata": {
  "kernelspec": {
   "display_name": "Python 3 (ipykernel)",
   "language": "python",
   "name": "python3"
  },
  "language_info": {
   "codemirror_mode": {
    "name": "ipython",
    "version": 3
   },
   "file_extension": ".py",
   "mimetype": "text/x-python",
   "name": "python",
   "nbconvert_exporter": "python",
   "pygments_lexer": "ipython3",
   "version": "3.10.9"
  }
 },
 "nbformat": 4,
 "nbformat_minor": 5
}
