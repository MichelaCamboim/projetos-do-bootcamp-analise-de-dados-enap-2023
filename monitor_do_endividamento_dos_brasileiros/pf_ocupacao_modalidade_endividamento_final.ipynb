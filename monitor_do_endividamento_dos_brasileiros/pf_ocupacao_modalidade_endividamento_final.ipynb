{
 "cells": [
  {
   "cell_type": "code",
   "execution_count": 1,
   "id": "087d4c20-3c49-4dce-a5ed-3117a383ffc2",
   "metadata": {},
   "outputs": [],
   "source": [
    "import zipfile\n",
    "import os\n",
    "import pandas as pd\n",
    "import plotly.express as px"
   ]
  },
  {
   "cell_type": "code",
   "execution_count": 2,
   "id": "22776403-2736-422d-a5b7-e12d814a655b",
   "metadata": {},
   "outputs": [],
   "source": [
    "def concatenar_csvs(diretorio):\n",
    "    frames = []\n",
    "\n",
    "    for arquivo in os.listdir(diretorio):\n",
    "        if arquivo.endswith('.csv'):\n",
    "            caminho_arquivo = os.path.join(diretorio, arquivo)\n",
    "            \n",
    "            df = pd.read_csv(caminho_arquivo, encoding='utf-8', delimiter=\";\", decimal=\",\")\n",
    "            df = df.rename(columns={df.columns[0]: \"data_base\"})\n",
    "            df['data_base'] = pd.to_datetime(df['data_base'], format=\"%Y-%m-%d\")\n",
    "            df['ocupacao']=df['ocupacao'].str.replace('PF - ','')\n",
    "            df['modalidade']=df['modalidade'].str.replace('PF - ','')\n",
    "            df['mes'] = df['data_base'].dt.month #cria uma nova coluna com mês\n",
    "             \n",
    "            #Filtros:\n",
    "            df = df[df['cliente'] == 'PF']\n",
    "            df = df[df['mes'] == 12]\n",
    "            df = df[['data_base', 'ocupacao', 'modalidade', 'carteira_ativa']]\n",
    "            \n",
    "            #Agrupamentos para análise\n",
    "            df = df.groupby(['data_base', 'ocupacao', 'modalidade'])['carteira_ativa'].sum().reset_index()\n",
    "            \n",
    "            frames.append(df)\n",
    "\n",
    "    df_concatenado = pd.concat(frames, ignore_index=True)\n",
    "\n",
    "    return df_concatenado"
   ]
  },
  {
   "cell_type": "code",
   "execution_count": 3,
   "id": "6442048b-d5f8-4ce4-9040-aff84c5554ac",
   "metadata": {
    "tags": []
   },
   "outputs": [],
   "source": [
    "anos = list(range(2012, 2024))\n",
    "dataframes = []\n",
    "\n",
    "for ano in anos:\n",
    "    diretorio = f\"planilha_{ano}\"\n",
    "    dataframe_ano = concatenar_csvs(diretorio)\n",
    "    dataframes.append(dataframe_ano)\n",
    "\n",
    "df_total = pd.concat(dataframes, ignore_index=False)"
   ]
  },
  {
   "cell_type": "code",
   "execution_count": 4,
   "id": "7e4a85e4-e584-4720-b811-90d9a790df18",
   "metadata": {
    "tags": []
   },
   "outputs": [
    {
     "data": {
      "text/html": [
       "<div>\n",
       "<style scoped>\n",
       "    .dataframe tbody tr th:only-of-type {\n",
       "        vertical-align: middle;\n",
       "    }\n",
       "\n",
       "    .dataframe tbody tr th {\n",
       "        vertical-align: top;\n",
       "    }\n",
       "\n",
       "    .dataframe thead th {\n",
       "        text-align: right;\n",
       "    }\n",
       "</style>\n",
       "<table border=\"1\" class=\"dataframe\">\n",
       "  <thead>\n",
       "    <tr style=\"text-align: right;\">\n",
       "      <th></th>\n",
       "      <th>data_base</th>\n",
       "      <th>ocupacao</th>\n",
       "      <th>modalidade</th>\n",
       "      <th>carteira_ativa</th>\n",
       "    </tr>\n",
       "  </thead>\n",
       "  <tbody>\n",
       "    <tr>\n",
       "      <th>0</th>\n",
       "      <td>2012-12-31</td>\n",
       "      <td>Aposentado/pensionista</td>\n",
       "      <td>Cartão de crédito</td>\n",
       "      <td>6.766961e+09</td>\n",
       "    </tr>\n",
       "    <tr>\n",
       "      <th>1</th>\n",
       "      <td>2012-12-31</td>\n",
       "      <td>Aposentado/pensionista</td>\n",
       "      <td>Empréstimo com consignação em folha</td>\n",
       "      <td>2.587770e+10</td>\n",
       "    </tr>\n",
       "    <tr>\n",
       "      <th>2</th>\n",
       "      <td>2012-12-31</td>\n",
       "      <td>Aposentado/pensionista</td>\n",
       "      <td>Empréstimo sem consignação em folha</td>\n",
       "      <td>7.389643e+09</td>\n",
       "    </tr>\n",
       "    <tr>\n",
       "      <th>3</th>\n",
       "      <td>2012-12-31</td>\n",
       "      <td>Aposentado/pensionista</td>\n",
       "      <td>Habitacional</td>\n",
       "      <td>3.963284e+09</td>\n",
       "    </tr>\n",
       "    <tr>\n",
       "      <th>4</th>\n",
       "      <td>2012-12-31</td>\n",
       "      <td>Aposentado/pensionista</td>\n",
       "      <td>Outros créditos</td>\n",
       "      <td>3.512544e+09</td>\n",
       "    </tr>\n",
       "  </tbody>\n",
       "</table>\n",
       "</div>"
      ],
      "text/plain": [
       "   data_base                ocupacao                           modalidade  \\\n",
       "0 2012-12-31  Aposentado/pensionista                    Cartão de crédito   \n",
       "1 2012-12-31  Aposentado/pensionista  Empréstimo com consignação em folha   \n",
       "2 2012-12-31  Aposentado/pensionista  Empréstimo sem consignação em folha   \n",
       "3 2012-12-31  Aposentado/pensionista                         Habitacional   \n",
       "4 2012-12-31  Aposentado/pensionista                      Outros créditos   \n",
       "\n",
       "   carteira_ativa  \n",
       "0    6.766961e+09  \n",
       "1    2.587770e+10  \n",
       "2    7.389643e+09  \n",
       "3    3.963284e+09  \n",
       "4    3.512544e+09  "
      ]
     },
     "execution_count": 4,
     "metadata": {},
     "output_type": "execute_result"
    }
   ],
   "source": [
    "df_total.head()"
   ]
  },
  {
   "cell_type": "code",
   "execution_count": 5,
   "id": "c54a2a11-ea04-4b70-ac8f-614e79df2ed0",
   "metadata": {
    "tags": []
   },
   "outputs": [
    {
     "name": "stdout",
     "output_type": "stream",
     "text": [
      "<class 'pandas.core.frame.DataFrame'>\n",
      "Index: 608 entries, 0 to 55\n",
      "Data columns (total 4 columns):\n",
      " #   Column          Non-Null Count  Dtype         \n",
      "---  ------          --------------  -----         \n",
      " 0   data_base       608 non-null    datetime64[ns]\n",
      " 1   ocupacao        608 non-null    object        \n",
      " 2   modalidade      608 non-null    object        \n",
      " 3   carteira_ativa  608 non-null    float64       \n",
      "dtypes: datetime64[ns](1), float64(1), object(2)\n",
      "memory usage: 23.8+ KB\n"
     ]
    }
   ],
   "source": [
    "df_total.info()"
   ]
  },
  {
   "cell_type": "code",
   "execution_count": 6,
   "id": "a51e840c-c578-4f80-9452-e21d62f322be",
   "metadata": {
    "tags": []
   },
   "outputs": [],
   "source": [
    "df_total.to_csv(\"pf_ocupacao_modalidade_endividamento_final.csv\")"
   ]
  },
  {
   "cell_type": "code",
   "execution_count": 7,
   "id": "02640cc2-6614-4749-af2d-0fc25045a172",
   "metadata": {
    "tags": []
   },
   "outputs": [],
   "source": [
    "import deflatebr as dbr"
   ]
  },
  {
   "cell_type": "code",
   "execution_count": 8,
   "id": "a24d1dae-7ff7-4e0b-9322-2a4359f58e87",
   "metadata": {
    "tags": []
   },
   "outputs": [
    {
     "name": "stderr",
     "output_type": "stream",
     "text": [
      "C:\\Users\\ticia\\anaconda3\\lib\\site-packages\\deflatebr\\deflate.py:90: FutureWarning: Series.__getitem__ treating keys as positions is deprecated. In a future version, integer keys will always be treated as labels (consistent with DataFrame behavior). To access a value by position, use `ser.iloc[pos]`\n",
      "  df['deflated'] = df[['nom_values', 'VALVALOR']].apply(lambda x: ((real_indx/x[1]) * x[0])[0], axis=1)\n"
     ]
    }
   ],
   "source": [
    "df_total['carteira_ativa_deflacionada'] = dbr.deflate(nominal_values=df_total['carteira_ativa'], nominal_dates=df_total['data_base'], real_date='2022-01')"
   ]
  },
  {
   "cell_type": "code",
   "execution_count": 9,
   "id": "92c5dd86-7987-4ffd-bd89-4e564a4d2c57",
   "metadata": {
    "tags": []
   },
   "outputs": [
    {
     "data": {
      "text/html": [
       "<div>\n",
       "<style scoped>\n",
       "    .dataframe tbody tr th:only-of-type {\n",
       "        vertical-align: middle;\n",
       "    }\n",
       "\n",
       "    .dataframe tbody tr th {\n",
       "        vertical-align: top;\n",
       "    }\n",
       "\n",
       "    .dataframe thead th {\n",
       "        text-align: right;\n",
       "    }\n",
       "</style>\n",
       "<table border=\"1\" class=\"dataframe\">\n",
       "  <thead>\n",
       "    <tr style=\"text-align: right;\">\n",
       "      <th></th>\n",
       "      <th>data_base</th>\n",
       "      <th>ocupacao</th>\n",
       "      <th>modalidade</th>\n",
       "      <th>carteira_ativa</th>\n",
       "      <th>carteira_ativa_deflacionada</th>\n",
       "    </tr>\n",
       "  </thead>\n",
       "  <tbody>\n",
       "    <tr>\n",
       "      <th>0</th>\n",
       "      <td>2012-12-31</td>\n",
       "      <td>Aposentado/pensionista</td>\n",
       "      <td>Cartão de crédito</td>\n",
       "      <td>6.766961e+09</td>\n",
       "      <td>1.164946e+10</td>\n",
       "    </tr>\n",
       "    <tr>\n",
       "      <th>1</th>\n",
       "      <td>2012-12-31</td>\n",
       "      <td>Aposentado/pensionista</td>\n",
       "      <td>Empréstimo com consignação em folha</td>\n",
       "      <td>2.587770e+10</td>\n",
       "      <td>4.454896e+10</td>\n",
       "    </tr>\n",
       "    <tr>\n",
       "      <th>2</th>\n",
       "      <td>2012-12-31</td>\n",
       "      <td>Aposentado/pensionista</td>\n",
       "      <td>Empréstimo sem consignação em folha</td>\n",
       "      <td>7.389643e+09</td>\n",
       "      <td>1.272142e+10</td>\n",
       "    </tr>\n",
       "  </tbody>\n",
       "</table>\n",
       "</div>"
      ],
      "text/plain": [
       "   data_base                ocupacao                           modalidade  \\\n",
       "0 2012-12-31  Aposentado/pensionista                    Cartão de crédito   \n",
       "1 2012-12-31  Aposentado/pensionista  Empréstimo com consignação em folha   \n",
       "2 2012-12-31  Aposentado/pensionista  Empréstimo sem consignação em folha   \n",
       "\n",
       "   carteira_ativa  carteira_ativa_deflacionada  \n",
       "0    6.766961e+09                 1.164946e+10  \n",
       "1    2.587770e+10                 4.454896e+10  \n",
       "2    7.389643e+09                 1.272142e+10  "
      ]
     },
     "execution_count": 9,
     "metadata": {},
     "output_type": "execute_result"
    }
   ],
   "source": [
    "df_total.head(3)"
   ]
  },
  {
   "cell_type": "code",
   "execution_count": 10,
   "id": "df53d060-3b40-4e51-8887-3770c6320eb4",
   "metadata": {
    "tags": []
   },
   "outputs": [
    {
     "data": {
      "text/html": [
       "<div>\n",
       "<style scoped>\n",
       "    .dataframe tbody tr th:only-of-type {\n",
       "        vertical-align: middle;\n",
       "    }\n",
       "\n",
       "    .dataframe tbody tr th {\n",
       "        vertical-align: top;\n",
       "    }\n",
       "\n",
       "    .dataframe thead th {\n",
       "        text-align: right;\n",
       "    }\n",
       "</style>\n",
       "<table border=\"1\" class=\"dataframe\">\n",
       "  <thead>\n",
       "    <tr style=\"text-align: right;\">\n",
       "      <th></th>\n",
       "      <th>data_base</th>\n",
       "      <th>ocupacao</th>\n",
       "      <th>modalidade</th>\n",
       "      <th>carteira_ativa</th>\n",
       "      <th>carteira_ativa_deflacionada</th>\n",
       "    </tr>\n",
       "  </thead>\n",
       "  <tbody>\n",
       "    <tr>\n",
       "      <th>0</th>\n",
       "      <td>2012-12-31</td>\n",
       "      <td>Aposentado/pensionista</td>\n",
       "      <td>Cartão de crédito</td>\n",
       "      <td>6766960907.56</td>\n",
       "      <td>11649456242.40</td>\n",
       "    </tr>\n",
       "    <tr>\n",
       "      <th>1</th>\n",
       "      <td>2012-12-31</td>\n",
       "      <td>Aposentado/pensionista</td>\n",
       "      <td>Empréstimo com consignação em folha</td>\n",
       "      <td>25877695111.32</td>\n",
       "      <td>44548960895.67</td>\n",
       "    </tr>\n",
       "    <tr>\n",
       "      <th>2</th>\n",
       "      <td>2012-12-31</td>\n",
       "      <td>Aposentado/pensionista</td>\n",
       "      <td>Empréstimo sem consignação em folha</td>\n",
       "      <td>7389642595.93</td>\n",
       "      <td>12721415010.99</td>\n",
       "    </tr>\n",
       "  </tbody>\n",
       "</table>\n",
       "</div>"
      ],
      "text/plain": [
       "   data_base                ocupacao                           modalidade  \\\n",
       "0 2012-12-31  Aposentado/pensionista                    Cartão de crédito   \n",
       "1 2012-12-31  Aposentado/pensionista  Empréstimo com consignação em folha   \n",
       "2 2012-12-31  Aposentado/pensionista  Empréstimo sem consignação em folha   \n",
       "\n",
       "   carteira_ativa  carteira_ativa_deflacionada  \n",
       "0   6766960907.56               11649456242.40  \n",
       "1  25877695111.32               44548960895.67  \n",
       "2   7389642595.93               12721415010.99  "
      ]
     },
     "execution_count": 10,
     "metadata": {},
     "output_type": "execute_result"
    }
   ],
   "source": [
    "pd.set_option('display.float_format', '{:.2f}'.format)\n",
    "df_total.head(3)"
   ]
  },
  {
   "cell_type": "code",
   "execution_count": 14,
   "id": "532fd775-1aee-4c3e-940c-e090de58f146",
   "metadata": {
    "tags": []
   },
   "outputs": [
    {
     "name": "stderr",
     "output_type": "stream",
     "text": [
      "C:\\Users\\ticia\\anaconda3\\lib\\site-packages\\_plotly_utils\\basevalidators.py:105: FutureWarning:\n",
      "\n",
      "The behavior of DatetimeProperties.to_pydatetime is deprecated, in a future version this will return a Series containing python datetime objects instead of an ndarray. To retain the old behavior, call `np.array` on the result\n",
      "\n"
     ]
    },
    {
     "data": {
      "application/vnd.plotly.v1+json": {
       "config": {
        "plotlyServerURL": "https://plot.ly"
       },
       "data": [
        {
         "hovertemplate": "modalidade=Cartão de crédito<br>ocupacao=Empregado de entidades sem fins lucrativos<br>data_base=%{x}<br>carteira_ativa_deflacionada=%{y}<extra></extra>",
         "legendgroup": "Cartão de crédito",
         "line": {
          "color": "#636efa",
          "dash": "solid"
         },
         "marker": {
          "symbol": "circle"
         },
         "mode": "lines",
         "name": "Cartão de crédito",
         "orientation": "v",
         "showlegend": true,
         "type": "scatter",
         "x": [
          "2012-12-31T00:00:00",
          "2013-12-31T00:00:00",
          "2014-12-31T00:00:00",
          "2015-12-31T00:00:00",
          "2016-12-31T00:00:00",
          "2017-12-31T00:00:00",
          "2018-12-31T00:00:00",
          "2019-12-31T00:00:00",
          "2020-12-31T00:00:00",
          "2021-12-31T00:00:00",
          "2022-12-31T00:00:00"
         ],
         "xaxis": "x",
         "y": [
          223896714.05443752,
          242951645.6237146,
          252033537.81319097,
          238450783.74792176,
          171180998.0949681,
          348405298.00507784,
          375409686.5757537,
          415699207.12084544,
          394876275.1453641,
          476306047.31262827,
          555431228.0506164
         ],
         "yaxis": "y"
        },
        {
         "hovertemplate": "modalidade=Empréstimo com consignação em folha<br>ocupacao=Empregado de entidades sem fins lucrativos<br>data_base=%{x}<br>carteira_ativa_deflacionada=%{y}<extra></extra>",
         "legendgroup": "Empréstimo com consignação em folha",
         "line": {
          "color": "#EF553B",
          "dash": "solid"
         },
         "marker": {
          "symbol": "circle"
         },
         "mode": "lines",
         "name": "Empréstimo com consignação em folha",
         "orientation": "v",
         "showlegend": true,
         "type": "scatter",
         "x": [
          "2012-12-31T00:00:00",
          "2013-12-31T00:00:00",
          "2014-12-31T00:00:00",
          "2015-12-31T00:00:00",
          "2016-12-31T00:00:00",
          "2017-12-31T00:00:00",
          "2018-12-31T00:00:00",
          "2019-12-31T00:00:00",
          "2020-12-31T00:00:00",
          "2021-12-31T00:00:00",
          "2022-12-31T00:00:00"
         ],
         "xaxis": "x",
         "y": [
          185471460.6422161,
          214843294.65655488,
          234922072.93995905,
          234943054.735934,
          91756468.47663212,
          265006118.80301732,
          260842571.6505682,
          280126162.495574,
          300812404.5102762,
          315903030.55236566,
          337352526.6127706
         ],
         "yaxis": "y"
        },
        {
         "hovertemplate": "modalidade=Empréstimo sem consignação em folha<br>ocupacao=Empregado de entidades sem fins lucrativos<br>data_base=%{x}<br>carteira_ativa_deflacionada=%{y}<extra></extra>",
         "legendgroup": "Empréstimo sem consignação em folha",
         "line": {
          "color": "#00cc96",
          "dash": "solid"
         },
         "marker": {
          "symbol": "circle"
         },
         "mode": "lines",
         "name": "Empréstimo sem consignação em folha",
         "orientation": "v",
         "showlegend": true,
         "type": "scatter",
         "x": [
          "2012-12-31T00:00:00",
          "2013-12-31T00:00:00",
          "2014-12-31T00:00:00",
          "2015-12-31T00:00:00",
          "2016-12-31T00:00:00",
          "2017-12-31T00:00:00",
          "2018-12-31T00:00:00",
          "2019-12-31T00:00:00",
          "2020-12-31T00:00:00",
          "2021-12-31T00:00:00",
          "2022-12-31T00:00:00"
         ],
         "xaxis": "x",
         "y": [
          147288061.2718701,
          149172110.88999972,
          134399331.00882372,
          122879541.35273784,
          66771917.25814137,
          122887304.11376235,
          132834280.96516183,
          148001016.17535228,
          144502046.42702138,
          203980724.19137114,
          244818784.6875745
         ],
         "yaxis": "y"
        },
        {
         "hovertemplate": "modalidade=Habitacional<br>ocupacao=Empregado de entidades sem fins lucrativos<br>data_base=%{x}<br>carteira_ativa_deflacionada=%{y}<extra></extra>",
         "legendgroup": "Habitacional",
         "line": {
          "color": "#ab63fa",
          "dash": "solid"
         },
         "marker": {
          "symbol": "circle"
         },
         "mode": "lines",
         "name": "Habitacional",
         "orientation": "v",
         "showlegend": true,
         "type": "scatter",
         "x": [
          "2012-12-31T00:00:00",
          "2013-12-31T00:00:00",
          "2014-12-31T00:00:00",
          "2015-12-31T00:00:00",
          "2016-12-31T00:00:00",
          "2017-12-31T00:00:00",
          "2018-12-31T00:00:00",
          "2019-12-31T00:00:00",
          "2020-12-31T00:00:00",
          "2021-12-31T00:00:00",
          "2022-12-31T00:00:00"
         ],
         "xaxis": "x",
         "y": [
          659823600.6865468,
          802973365.9800346,
          892714295.5095879,
          895551342.3220274,
          691910361.8402163,
          913356099.2617358,
          869751214.9681286,
          912664467.1623197,
          955931702.9939748,
          1028692261.5885655,
          1100954421.306563
         ],
         "yaxis": "y"
        },
        {
         "hovertemplate": "modalidade=Outros créditos<br>ocupacao=Empregado de entidades sem fins lucrativos<br>data_base=%{x}<br>carteira_ativa_deflacionada=%{y}<extra></extra>",
         "legendgroup": "Outros créditos",
         "line": {
          "color": "#FFA15A",
          "dash": "solid"
         },
         "marker": {
          "symbol": "circle"
         },
         "mode": "lines",
         "name": "Outros créditos",
         "orientation": "v",
         "showlegend": true,
         "type": "scatter",
         "x": [
          "2012-12-31T00:00:00",
          "2013-12-31T00:00:00",
          "2014-12-31T00:00:00",
          "2015-12-31T00:00:00",
          "2016-12-31T00:00:00",
          "2017-12-31T00:00:00",
          "2018-12-31T00:00:00",
          "2019-12-31T00:00:00",
          "2020-12-31T00:00:00",
          "2021-12-31T00:00:00",
          "2022-12-31T00:00:00"
         ],
         "xaxis": "x",
         "y": [
          140633693.84049234,
          146421584.67682704,
          156167123.5381583,
          146281170.0367541,
          80429829.3847321,
          143903287.80784246,
          131330043.93991885,
          134911013.9584561,
          136502240.46839476,
          132574964.64231388,
          160436506.41627628
         ],
         "yaxis": "y"
        },
        {
         "hovertemplate": "modalidade=Rural e agroindustrial<br>ocupacao=Empregado de entidades sem fins lucrativos<br>data_base=%{x}<br>carteira_ativa_deflacionada=%{y}<extra></extra>",
         "legendgroup": "Rural e agroindustrial",
         "line": {
          "color": "#19d3f3",
          "dash": "solid"
         },
         "marker": {
          "symbol": "circle"
         },
         "mode": "lines",
         "name": "Rural e agroindustrial",
         "orientation": "v",
         "showlegend": true,
         "type": "scatter",
         "x": [
          "2012-12-31T00:00:00",
          "2013-12-31T00:00:00",
          "2014-12-31T00:00:00",
          "2015-12-31T00:00:00",
          "2016-12-31T00:00:00",
          "2017-12-31T00:00:00",
          "2018-12-31T00:00:00",
          "2019-12-31T00:00:00",
          "2020-12-31T00:00:00",
          "2021-12-31T00:00:00",
          "2022-12-31T00:00:00"
         ],
         "xaxis": "x",
         "y": [
          177884079.754505,
          223523797.46411756,
          243837829.53911108,
          228428819.6297716,
          91628405.08605358,
          288525037.0039695,
          250121149.44270578,
          224109488.380598,
          216644087.62697884,
          231696331.89591053,
          246385371.41414055
         ],
         "yaxis": "y"
        },
        {
         "hovertemplate": "modalidade=Veículos<br>ocupacao=Empregado de entidades sem fins lucrativos<br>data_base=%{x}<br>carteira_ativa_deflacionada=%{y}<extra></extra>",
         "legendgroup": "Veículos",
         "line": {
          "color": "#FF6692",
          "dash": "solid"
         },
         "marker": {
          "symbol": "circle"
         },
         "mode": "lines",
         "name": "Veículos",
         "orientation": "v",
         "showlegend": true,
         "type": "scatter",
         "x": [
          "2012-12-31T00:00:00",
          "2013-12-31T00:00:00",
          "2014-12-31T00:00:00",
          "2015-12-31T00:00:00",
          "2016-12-31T00:00:00",
          "2017-12-31T00:00:00",
          "2018-12-31T00:00:00",
          "2019-12-31T00:00:00",
          "2020-12-31T00:00:00",
          "2021-12-31T00:00:00",
          "2022-12-31T00:00:00"
         ],
         "xaxis": "x",
         "y": [
          329923015.9577839,
          286822142.43680286,
          240141065.4880303,
          185657230.0153074,
          116996562.10705854,
          249849221.99329856,
          254668741.09662944,
          284135130.34081787,
          283870729.282689,
          268768437.80853575,
          263572717.7349327
         ],
         "yaxis": "y"
        }
       ],
       "frames": [
        {
         "data": [
          {
           "hovertemplate": "modalidade=Cartão de crédito<br>ocupacao=Aposentado/pensionista<br>data_base=%{x}<br>carteira_ativa_deflacionada=%{y}<extra></extra>",
           "legendgroup": "Cartão de crédito",
           "line": {
            "color": "#636efa",
            "dash": "solid"
           },
           "marker": {
            "symbol": "circle"
           },
           "mode": "lines",
           "name": "Cartão de crédito",
           "orientation": "v",
           "showlegend": true,
           "type": "scatter",
           "x": [
            "2012-12-31T00:00:00",
            "2013-12-31T00:00:00",
            "2014-12-31T00:00:00",
            "2015-12-31T00:00:00",
            "2016-12-31T00:00:00",
            "2017-12-31T00:00:00",
            "2018-12-31T00:00:00",
            "2019-12-31T00:00:00",
            "2020-12-31T00:00:00",
            "2021-12-31T00:00:00",
            "2022-12-31T00:00:00"
           ],
           "xaxis": "x",
           "y": [
            11649456242.396486,
            12146987137.490875,
            12095124599.602398,
            11523329190.792904,
            21600075352.982323,
            27860707752.17314,
            33323296197.9917,
            36006628653.74703,
            33403872121.126904,
            35001747629.53996,
            39509114718.36855
           ],
           "yaxis": "y"
          },
          {
           "hovertemplate": "modalidade=Empréstimo com consignação em folha<br>ocupacao=Aposentado/pensionista<br>data_base=%{x}<br>carteira_ativa_deflacionada=%{y}<extra></extra>",
           "legendgroup": "Empréstimo com consignação em folha",
           "line": {
            "color": "#EF553B",
            "dash": "solid"
           },
           "marker": {
            "symbol": "circle"
           },
           "mode": "lines",
           "name": "Empréstimo com consignação em folha",
           "orientation": "v",
           "showlegend": true,
           "type": "scatter",
           "x": [
            "2012-12-31T00:00:00",
            "2013-12-31T00:00:00",
            "2014-12-31T00:00:00",
            "2015-12-31T00:00:00",
            "2016-12-31T00:00:00",
            "2017-12-31T00:00:00",
            "2018-12-31T00:00:00",
            "2019-12-31T00:00:00",
            "2020-12-31T00:00:00",
            "2021-12-31T00:00:00",
            "2022-12-31T00:00:00"
           ],
           "xaxis": "x",
           "y": [
            44548960895.667305,
            45688537511.81608,
            46452256142.50121,
            43111798049.64639,
            67611356320.182915,
            91885425507.29895,
            107258815627.43642,
            117232412514.50835,
            128692575306.83762,
            130231074941.0526,
            132120579672.4863
           ],
           "yaxis": "y"
          },
          {
           "hovertemplate": "modalidade=Empréstimo sem consignação em folha<br>ocupacao=Aposentado/pensionista<br>data_base=%{x}<br>carteira_ativa_deflacionada=%{y}<extra></extra>",
           "legendgroup": "Empréstimo sem consignação em folha",
           "line": {
            "color": "#00cc96",
            "dash": "solid"
           },
           "marker": {
            "symbol": "circle"
           },
           "mode": "lines",
           "name": "Empréstimo sem consignação em folha",
           "orientation": "v",
           "showlegend": true,
           "type": "scatter",
           "x": [
            "2012-12-31T00:00:00",
            "2013-12-31T00:00:00",
            "2014-12-31T00:00:00",
            "2015-12-31T00:00:00",
            "2016-12-31T00:00:00",
            "2017-12-31T00:00:00",
            "2018-12-31T00:00:00",
            "2019-12-31T00:00:00",
            "2020-12-31T00:00:00",
            "2021-12-31T00:00:00",
            "2022-12-31T00:00:00"
           ],
           "xaxis": "x",
           "y": [
            12721415010.992868,
            11757243930.448349,
            10497367092.11449,
            9807190065.667007,
            14037498813.247128,
            16997801898.350433,
            19405376628.14983,
            20287890513.440006,
            19191619643.667736,
            18908766535.894646,
            19400909092.35915
           ],
           "yaxis": "y"
          },
          {
           "hovertemplate": "modalidade=Habitacional<br>ocupacao=Aposentado/pensionista<br>data_base=%{x}<br>carteira_ativa_deflacionada=%{y}<extra></extra>",
           "legendgroup": "Habitacional",
           "line": {
            "color": "#ab63fa",
            "dash": "solid"
           },
           "marker": {
            "symbol": "circle"
           },
           "mode": "lines",
           "name": "Habitacional",
           "orientation": "v",
           "showlegend": true,
           "type": "scatter",
           "x": [
            "2012-12-31T00:00:00",
            "2013-12-31T00:00:00",
            "2014-12-31T00:00:00",
            "2015-12-31T00:00:00",
            "2016-12-31T00:00:00",
            "2017-12-31T00:00:00",
            "2018-12-31T00:00:00",
            "2019-12-31T00:00:00",
            "2020-12-31T00:00:00",
            "2021-12-31T00:00:00",
            "2022-12-31T00:00:00"
           ],
           "xaxis": "x",
           "y": [
            6822871094.422692,
            7066019040.808469,
            7244882971.442112,
            6723610830.200577,
            18464654719.15479,
            21003060978.99248,
            25524131865.35645,
            24539695452.624977,
            24565929566.435463,
            21893567112.19072,
            22407864824.77908
           ],
           "yaxis": "y"
          },
          {
           "hovertemplate": "modalidade=Outros créditos<br>ocupacao=Aposentado/pensionista<br>data_base=%{x}<br>carteira_ativa_deflacionada=%{y}<extra></extra>",
           "legendgroup": "Outros créditos",
           "line": {
            "color": "#FFA15A",
            "dash": "solid"
           },
           "marker": {
            "symbol": "circle"
           },
           "mode": "lines",
           "name": "Outros créditos",
           "orientation": "v",
           "showlegend": true,
           "type": "scatter",
           "x": [
            "2012-12-31T00:00:00",
            "2013-12-31T00:00:00",
            "2014-12-31T00:00:00",
            "2015-12-31T00:00:00",
            "2016-12-31T00:00:00",
            "2017-12-31T00:00:00",
            "2018-12-31T00:00:00",
            "2019-12-31T00:00:00",
            "2020-12-31T00:00:00",
            "2021-12-31T00:00:00",
            "2022-12-31T00:00:00"
           ],
           "xaxis": "x",
           "y": [
            6046914224.397723,
            5782601611.88595,
            5504565727.97248,
            5044527791.332464,
            8867149253.220686,
            10313771679.534334,
            11015658458.230154,
            10628909273.126928,
            11279376790.566044,
            10354854493.910435,
            11714965289.703686
           ],
           "yaxis": "y"
          },
          {
           "hovertemplate": "modalidade=Rural e agroindustrial<br>ocupacao=Aposentado/pensionista<br>data_base=%{x}<br>carteira_ativa_deflacionada=%{y}<extra></extra>",
           "legendgroup": "Rural e agroindustrial",
           "line": {
            "color": "#19d3f3",
            "dash": "solid"
           },
           "marker": {
            "symbol": "circle"
           },
           "mode": "lines",
           "name": "Rural e agroindustrial",
           "orientation": "v",
           "showlegend": true,
           "type": "scatter",
           "x": [
            "2012-12-31T00:00:00",
            "2013-12-31T00:00:00",
            "2014-12-31T00:00:00",
            "2015-12-31T00:00:00",
            "2016-12-31T00:00:00",
            "2017-12-31T00:00:00",
            "2018-12-31T00:00:00",
            "2019-12-31T00:00:00",
            "2020-12-31T00:00:00",
            "2021-12-31T00:00:00",
            "2022-12-31T00:00:00"
           ],
           "xaxis": "x",
           "y": [
            3741827012.692486,
            4137611357.182113,
            4404718905.800009,
            3926190021.012566,
            6005922687.513799,
            6840145204.301142,
            7646240067.563783,
            7370578750.4496355,
            7617059749.150981,
            7877183486.583,
            9031262445.649666
           ],
           "yaxis": "y"
          },
          {
           "hovertemplate": "modalidade=Veículos<br>ocupacao=Aposentado/pensionista<br>data_base=%{x}<br>carteira_ativa_deflacionada=%{y}<extra></extra>",
           "legendgroup": "Veículos",
           "line": {
            "color": "#FF6692",
            "dash": "solid"
           },
           "marker": {
            "symbol": "circle"
           },
           "mode": "lines",
           "name": "Veículos",
           "orientation": "v",
           "showlegend": true,
           "type": "scatter",
           "x": [
            "2012-12-31T00:00:00",
            "2013-12-31T00:00:00",
            "2014-12-31T00:00:00",
            "2015-12-31T00:00:00",
            "2016-12-31T00:00:00",
            "2017-12-31T00:00:00",
            "2018-12-31T00:00:00",
            "2019-12-31T00:00:00",
            "2020-12-31T00:00:00",
            "2021-12-31T00:00:00",
            "2022-12-31T00:00:00"
           ],
           "xaxis": "x",
           "y": [
            14294073347.257593,
            11934367009.420008,
            9782288985.639362,
            7105152344.611198,
            10865743045.517262,
            13286221849.41338,
            16235353594.719666,
            17467505121.228252,
            17041958551.700016,
            14103854625.387012,
            13497574359.294697
           ],
           "yaxis": "y"
          }
         ],
         "name": "Aposentado/pensionista"
        },
        {
         "data": [
          {
           "hovertemplate": "modalidade=Cartão de crédito<br>ocupacao=Autônomo<br>data_base=%{x}<br>carteira_ativa_deflacionada=%{y}<extra></extra>",
           "legendgroup": "Cartão de crédito",
           "line": {
            "color": "#636efa",
            "dash": "solid"
           },
           "marker": {
            "symbol": "circle"
           },
           "mode": "lines",
           "name": "Cartão de crédito",
           "orientation": "v",
           "showlegend": true,
           "type": "scatter",
           "x": [
            "2012-12-31T00:00:00",
            "2013-12-31T00:00:00",
            "2014-12-31T00:00:00",
            "2015-12-31T00:00:00",
            "2016-12-31T00:00:00",
            "2017-12-31T00:00:00",
            "2018-12-31T00:00:00",
            "2019-12-31T00:00:00",
            "2020-12-31T00:00:00",
            "2021-12-31T00:00:00",
            "2022-12-31T00:00:00"
           ],
           "xaxis": "x",
           "y": [
            14543766298.159582,
            15726280963.57241,
            16424230436.104967,
            15343497969.59085,
            10702294705.661724,
            16692439294.146519,
            18786195926.557632,
            21106253444.399944,
            20691437967.067192,
            25729037914.634804,
            30285087820.85206
           ],
           "yaxis": "y"
          },
          {
           "hovertemplate": "modalidade=Empréstimo com consignação em folha<br>ocupacao=Autônomo<br>data_base=%{x}<br>carteira_ativa_deflacionada=%{y}<extra></extra>",
           "legendgroup": "Empréstimo com consignação em folha",
           "line": {
            "color": "#EF553B",
            "dash": "solid"
           },
           "marker": {
            "symbol": "circle"
           },
           "mode": "lines",
           "name": "Empréstimo com consignação em folha",
           "orientation": "v",
           "showlegend": true,
           "type": "scatter",
           "x": [
            "2012-12-31T00:00:00",
            "2013-12-31T00:00:00",
            "2014-12-31T00:00:00",
            "2015-12-31T00:00:00",
            "2016-12-31T00:00:00",
            "2017-12-31T00:00:00",
            "2018-12-31T00:00:00",
            "2019-12-31T00:00:00",
            "2020-12-31T00:00:00",
            "2021-12-31T00:00:00",
            "2022-12-31T00:00:00"
           ],
           "xaxis": "x",
           "y": [
            5990634222.581792,
            7241198182.303656,
            8107407113.54584,
            8312156421.429651,
            2488744229.5122037,
            6479067361.382858,
            6757914020.880258,
            7342286125.013243,
            8328526719.632896,
            8983692053.883448,
            10211466435.792597
           ],
           "yaxis": "y"
          },
          {
           "hovertemplate": "modalidade=Empréstimo sem consignação em folha<br>ocupacao=Autônomo<br>data_base=%{x}<br>carteira_ativa_deflacionada=%{y}<extra></extra>",
           "legendgroup": "Empréstimo sem consignação em folha",
           "line": {
            "color": "#00cc96",
            "dash": "solid"
           },
           "marker": {
            "symbol": "circle"
           },
           "mode": "lines",
           "name": "Empréstimo sem consignação em folha",
           "orientation": "v",
           "showlegend": true,
           "type": "scatter",
           "x": [
            "2012-12-31T00:00:00",
            "2013-12-31T00:00:00",
            "2014-12-31T00:00:00",
            "2015-12-31T00:00:00",
            "2016-12-31T00:00:00",
            "2017-12-31T00:00:00",
            "2018-12-31T00:00:00",
            "2019-12-31T00:00:00",
            "2020-12-31T00:00:00",
            "2021-12-31T00:00:00",
            "2022-12-31T00:00:00"
           ],
           "xaxis": "x",
           "y": [
            12256329565.567074,
            11929866434.232958,
            10942690700.46465,
            10042445765.314777,
            7020629236.278209,
            8948840343.864162,
            9965746606.569754,
            11761901888.491743,
            12357522631.663183,
            15460381894.500984,
            17371119697.582973
           ],
           "yaxis": "y"
          },
          {
           "hovertemplate": "modalidade=Habitacional<br>ocupacao=Autônomo<br>data_base=%{x}<br>carteira_ativa_deflacionada=%{y}<extra></extra>",
           "legendgroup": "Habitacional",
           "line": {
            "color": "#ab63fa",
            "dash": "solid"
           },
           "marker": {
            "symbol": "circle"
           },
           "mode": "lines",
           "name": "Habitacional",
           "orientation": "v",
           "showlegend": true,
           "type": "scatter",
           "x": [
            "2012-12-31T00:00:00",
            "2013-12-31T00:00:00",
            "2014-12-31T00:00:00",
            "2015-12-31T00:00:00",
            "2016-12-31T00:00:00",
            "2017-12-31T00:00:00",
            "2018-12-31T00:00:00",
            "2019-12-31T00:00:00",
            "2020-12-31T00:00:00",
            "2021-12-31T00:00:00",
            "2022-12-31T00:00:00"
           ],
           "xaxis": "x",
           "y": [
            32888143711.634212,
            40016962320.4546,
            47036473643.02001,
            46943152370.383316,
            34319339079.962463,
            49876725589.65222,
            48567558466.757385,
            48421908510.2714,
            50578468199.60302,
            52041407855.82084,
            55101343045.40415
           ],
           "yaxis": "y"
          },
          {
           "hovertemplate": "modalidade=Outros créditos<br>ocupacao=Autônomo<br>data_base=%{x}<br>carteira_ativa_deflacionada=%{y}<extra></extra>",
           "legendgroup": "Outros créditos",
           "line": {
            "color": "#FFA15A",
            "dash": "solid"
           },
           "marker": {
            "symbol": "circle"
           },
           "mode": "lines",
           "name": "Outros créditos",
           "orientation": "v",
           "showlegend": true,
           "type": "scatter",
           "x": [
            "2012-12-31T00:00:00",
            "2013-12-31T00:00:00",
            "2014-12-31T00:00:00",
            "2015-12-31T00:00:00",
            "2016-12-31T00:00:00",
            "2017-12-31T00:00:00",
            "2018-12-31T00:00:00",
            "2019-12-31T00:00:00",
            "2020-12-31T00:00:00",
            "2021-12-31T00:00:00",
            "2022-12-31T00:00:00"
           ],
           "xaxis": "x",
           "y": [
            16113736420.05103,
            16498182258.490845,
            16593110495.177338,
            15669664329.088602,
            11199632212.6374,
            14995442705.420765,
            15299424264.308157,
            15724302751.41906,
            17660137466.519077,
            17821094550.183907,
            19935044104.66109
           ],
           "yaxis": "y"
          },
          {
           "hovertemplate": "modalidade=Rural e agroindustrial<br>ocupacao=Autônomo<br>data_base=%{x}<br>carteira_ativa_deflacionada=%{y}<extra></extra>",
           "legendgroup": "Rural e agroindustrial",
           "line": {
            "color": "#19d3f3",
            "dash": "solid"
           },
           "marker": {
            "symbol": "circle"
           },
           "mode": "lines",
           "name": "Rural e agroindustrial",
           "orientation": "v",
           "showlegend": true,
           "type": "scatter",
           "x": [
            "2012-12-31T00:00:00",
            "2013-12-31T00:00:00",
            "2014-12-31T00:00:00",
            "2015-12-31T00:00:00",
            "2016-12-31T00:00:00",
            "2017-12-31T00:00:00",
            "2018-12-31T00:00:00",
            "2019-12-31T00:00:00",
            "2020-12-31T00:00:00",
            "2021-12-31T00:00:00",
            "2022-12-31T00:00:00"
           ],
           "xaxis": "x",
           "y": [
            32916436404.86312,
            39834012569.97706,
            45136154937.633644,
            43015627220.43648,
            46584384406.78716,
            54975323436.77448,
            58118822214.870575,
            61983588068.94157,
            68244074811.87111,
            82398482251.0358,
            104869887129.70267
           ],
           "yaxis": "y"
          },
          {
           "hovertemplate": "modalidade=Veículos<br>ocupacao=Autônomo<br>data_base=%{x}<br>carteira_ativa_deflacionada=%{y}<extra></extra>",
           "legendgroup": "Veículos",
           "line": {
            "color": "#FF6692",
            "dash": "solid"
           },
           "marker": {
            "symbol": "circle"
           },
           "mode": "lines",
           "name": "Veículos",
           "orientation": "v",
           "showlegend": true,
           "type": "scatter",
           "x": [
            "2012-12-31T00:00:00",
            "2013-12-31T00:00:00",
            "2014-12-31T00:00:00",
            "2015-12-31T00:00:00",
            "2016-12-31T00:00:00",
            "2017-12-31T00:00:00",
            "2018-12-31T00:00:00",
            "2019-12-31T00:00:00",
            "2020-12-31T00:00:00",
            "2021-12-31T00:00:00",
            "2022-12-31T00:00:00"
           ],
           "xaxis": "x",
           "y": [
            29355247821.901993,
            25561404387.736465,
            22034533156.322395,
            16619219570.609627,
            9860043460.691143,
            15620410530.540953,
            16729427898.747107,
            18985934545.589558,
            19350310625.713505,
            19920128140.882683,
            20768323311.5975
           ],
           "yaxis": "y"
          }
         ],
         "name": "Autônomo"
        },
        {
         "data": [
          {
           "hovertemplate": "modalidade=Cartão de crédito<br>ocupacao=Empregado de empresa privada<br>data_base=%{x}<br>carteira_ativa_deflacionada=%{y}<extra></extra>",
           "legendgroup": "Cartão de crédito",
           "line": {
            "color": "#636efa",
            "dash": "solid"
           },
           "marker": {
            "symbol": "circle"
           },
           "mode": "lines",
           "name": "Cartão de crédito",
           "orientation": "v",
           "showlegend": true,
           "type": "scatter",
           "x": [
            "2012-12-31T00:00:00",
            "2013-12-31T00:00:00",
            "2014-12-31T00:00:00",
            "2015-12-31T00:00:00",
            "2016-12-31T00:00:00",
            "2017-12-31T00:00:00",
            "2018-12-31T00:00:00",
            "2019-12-31T00:00:00",
            "2020-12-31T00:00:00",
            "2021-12-31T00:00:00",
            "2022-12-31T00:00:00"
           ],
           "xaxis": "x",
           "y": [
            28042569455.30547,
            30279181764.05176,
            31599626108.117924,
            29582941033.514225,
            34132869838.567127,
            45667690222.813934,
            53948896183.22716,
            62571781693.753395,
            64271760888.66361,
            81104182027.39755,
            100963432313.4038
           ],
           "yaxis": "y"
          },
          {
           "hovertemplate": "modalidade=Empréstimo com consignação em folha<br>ocupacao=Empregado de empresa privada<br>data_base=%{x}<br>carteira_ativa_deflacionada=%{y}<extra></extra>",
           "legendgroup": "Empréstimo com consignação em folha",
           "line": {
            "color": "#EF553B",
            "dash": "solid"
           },
           "marker": {
            "symbol": "circle"
           },
           "mode": "lines",
           "name": "Empréstimo com consignação em folha",
           "orientation": "v",
           "showlegend": true,
           "type": "scatter",
           "x": [
            "2012-12-31T00:00:00",
            "2013-12-31T00:00:00",
            "2014-12-31T00:00:00",
            "2015-12-31T00:00:00",
            "2016-12-31T00:00:00",
            "2017-12-31T00:00:00",
            "2018-12-31T00:00:00",
            "2019-12-31T00:00:00",
            "2020-12-31T00:00:00",
            "2021-12-31T00:00:00",
            "2022-12-31T00:00:00"
           ],
           "xaxis": "x",
           "y": [
            20174386755.712627,
            22264373820.238834,
            23882410447.071983,
            23580035550.098522,
            18469503834.764347,
            24811681529.32312,
            26145660361.796513,
            30711620687.82292,
            33432986396.02202,
            36200498913.40296,
            39289603303.528946
           ],
           "yaxis": "y"
          },
          {
           "hovertemplate": "modalidade=Empréstimo sem consignação em folha<br>ocupacao=Empregado de empresa privada<br>data_base=%{x}<br>carteira_ativa_deflacionada=%{y}<extra></extra>",
           "legendgroup": "Empréstimo sem consignação em folha",
           "line": {
            "color": "#00cc96",
            "dash": "solid"
           },
           "marker": {
            "symbol": "circle"
           },
           "mode": "lines",
           "name": "Empréstimo sem consignação em folha",
           "orientation": "v",
           "showlegend": true,
           "type": "scatter",
           "x": [
            "2012-12-31T00:00:00",
            "2013-12-31T00:00:00",
            "2014-12-31T00:00:00",
            "2015-12-31T00:00:00",
            "2016-12-31T00:00:00",
            "2017-12-31T00:00:00",
            "2018-12-31T00:00:00",
            "2019-12-31T00:00:00",
            "2020-12-31T00:00:00",
            "2021-12-31T00:00:00",
            "2022-12-31T00:00:00"
           ],
           "xaxis": "x",
           "y": [
            17714655953.912106,
            17385501736.27776,
            16059867383.078075,
            14129285646.532661,
            12354472632.715693,
            15150223693.697973,
            19029009828.682518,
            23121587657.042892,
            24853010763.442223,
            39040774077.481125,
            51413279032.43942
           ],
           "yaxis": "y"
          },
          {
           "hovertemplate": "modalidade=Habitacional<br>ocupacao=Empregado de empresa privada<br>data_base=%{x}<br>carteira_ativa_deflacionada=%{y}<extra></extra>",
           "legendgroup": "Habitacional",
           "line": {
            "color": "#ab63fa",
            "dash": "solid"
           },
           "marker": {
            "symbol": "circle"
           },
           "mode": "lines",
           "name": "Habitacional",
           "orientation": "v",
           "showlegend": true,
           "type": "scatter",
           "x": [
            "2012-12-31T00:00:00",
            "2013-12-31T00:00:00",
            "2014-12-31T00:00:00",
            "2015-12-31T00:00:00",
            "2016-12-31T00:00:00",
            "2017-12-31T00:00:00",
            "2018-12-31T00:00:00",
            "2019-12-31T00:00:00",
            "2020-12-31T00:00:00",
            "2021-12-31T00:00:00",
            "2022-12-31T00:00:00"
           ],
           "xaxis": "x",
           "y": [
            99696009257.1949,
            116482894892.28638,
            130915215457.37534,
            129056018123.3088,
            179094763666.6049,
            229507164222.45587,
            242604281465.72598,
            256862901570.45035,
            282563836296.1739,
            298191383065.9025,
            325718373567.341
           ],
           "yaxis": "y"
          },
          {
           "hovertemplate": "modalidade=Outros créditos<br>ocupacao=Empregado de empresa privada<br>data_base=%{x}<br>carteira_ativa_deflacionada=%{y}<extra></extra>",
           "legendgroup": "Outros créditos",
           "line": {
            "color": "#FFA15A",
            "dash": "solid"
           },
           "marker": {
            "symbol": "circle"
           },
           "mode": "lines",
           "name": "Outros créditos",
           "orientation": "v",
           "showlegend": true,
           "type": "scatter",
           "x": [
            "2012-12-31T00:00:00",
            "2013-12-31T00:00:00",
            "2014-12-31T00:00:00",
            "2015-12-31T00:00:00",
            "2016-12-31T00:00:00",
            "2017-12-31T00:00:00",
            "2018-12-31T00:00:00",
            "2019-12-31T00:00:00",
            "2020-12-31T00:00:00",
            "2021-12-31T00:00:00",
            "2022-12-31T00:00:00"
           ],
           "xaxis": "x",
           "y": [
            18614908859.607346,
            19320971695.449574,
            19640357577.60967,
            18446949828.016163,
            17513791171.56578,
            20799008807.61508,
            20281011528.192852,
            22635265162.429256,
            25984508996.249947,
            26262223126.778385,
            31991842539.691753
           ],
           "yaxis": "y"
          },
          {
           "hovertemplate": "modalidade=Rural e agroindustrial<br>ocupacao=Empregado de empresa privada<br>data_base=%{x}<br>carteira_ativa_deflacionada=%{y}<extra></extra>",
           "legendgroup": "Rural e agroindustrial",
           "line": {
            "color": "#19d3f3",
            "dash": "solid"
           },
           "marker": {
            "symbol": "circle"
           },
           "mode": "lines",
           "name": "Rural e agroindustrial",
           "orientation": "v",
           "showlegend": true,
           "type": "scatter",
           "x": [
            "2012-12-31T00:00:00",
            "2013-12-31T00:00:00",
            "2014-12-31T00:00:00",
            "2015-12-31T00:00:00",
            "2016-12-31T00:00:00",
            "2017-12-31T00:00:00",
            "2018-12-31T00:00:00",
            "2019-12-31T00:00:00",
            "2020-12-31T00:00:00",
            "2021-12-31T00:00:00",
            "2022-12-31T00:00:00"
           ],
           "xaxis": "x",
           "y": [
            5852825692.826839,
            7464266581.367729,
            8948816751.646847,
            8677246235.355871,
            6709352316.894694,
            8034417800.212949,
            8210249226.071014,
            8986570793.134113,
            10009056995.94765,
            13154427690.977512,
            17447314519.78926
           ],
           "yaxis": "y"
          },
          {
           "hovertemplate": "modalidade=Veículos<br>ocupacao=Empregado de empresa privada<br>data_base=%{x}<br>carteira_ativa_deflacionada=%{y}<extra></extra>",
           "legendgroup": "Veículos",
           "line": {
            "color": "#FF6692",
            "dash": "solid"
           },
           "marker": {
            "symbol": "circle"
           },
           "mode": "lines",
           "name": "Veículos",
           "orientation": "v",
           "showlegend": true,
           "type": "scatter",
           "x": [
            "2012-12-31T00:00:00",
            "2013-12-31T00:00:00",
            "2014-12-31T00:00:00",
            "2015-12-31T00:00:00",
            "2016-12-31T00:00:00",
            "2017-12-31T00:00:00",
            "2018-12-31T00:00:00",
            "2019-12-31T00:00:00",
            "2020-12-31T00:00:00",
            "2021-12-31T00:00:00",
            "2022-12-31T00:00:00"
           ],
           "xaxis": "x",
           "y": [
            48753847729.5194,
            42988801646.31342,
            36815322475.199455,
            27374342921.821953,
            32192035858.394768,
            43377374396.919426,
            49149701339.52868,
            57197467317.62755,
            60732478287.535194,
            58035211484.01848,
            60698221107.79173
           ],
           "yaxis": "y"
          }
         ],
         "name": "Empregado de empresa privada"
        },
        {
         "data": [
          {
           "hovertemplate": "modalidade=Cartão de crédito<br>ocupacao=Empregado de entidades sem fins lucrativos<br>data_base=%{x}<br>carteira_ativa_deflacionada=%{y}<extra></extra>",
           "legendgroup": "Cartão de crédito",
           "line": {
            "color": "#636efa",
            "dash": "solid"
           },
           "marker": {
            "symbol": "circle"
           },
           "mode": "lines",
           "name": "Cartão de crédito",
           "orientation": "v",
           "showlegend": true,
           "type": "scatter",
           "x": [
            "2012-12-31T00:00:00",
            "2013-12-31T00:00:00",
            "2014-12-31T00:00:00",
            "2015-12-31T00:00:00",
            "2016-12-31T00:00:00",
            "2017-12-31T00:00:00",
            "2018-12-31T00:00:00",
            "2019-12-31T00:00:00",
            "2020-12-31T00:00:00",
            "2021-12-31T00:00:00",
            "2022-12-31T00:00:00"
           ],
           "xaxis": "x",
           "y": [
            223896714.05443752,
            242951645.6237146,
            252033537.81319097,
            238450783.74792176,
            171180998.0949681,
            348405298.00507784,
            375409686.5757537,
            415699207.12084544,
            394876275.1453641,
            476306047.31262827,
            555431228.0506164
           ],
           "yaxis": "y"
          },
          {
           "hovertemplate": "modalidade=Empréstimo com consignação em folha<br>ocupacao=Empregado de entidades sem fins lucrativos<br>data_base=%{x}<br>carteira_ativa_deflacionada=%{y}<extra></extra>",
           "legendgroup": "Empréstimo com consignação em folha",
           "line": {
            "color": "#EF553B",
            "dash": "solid"
           },
           "marker": {
            "symbol": "circle"
           },
           "mode": "lines",
           "name": "Empréstimo com consignação em folha",
           "orientation": "v",
           "showlegend": true,
           "type": "scatter",
           "x": [
            "2012-12-31T00:00:00",
            "2013-12-31T00:00:00",
            "2014-12-31T00:00:00",
            "2015-12-31T00:00:00",
            "2016-12-31T00:00:00",
            "2017-12-31T00:00:00",
            "2018-12-31T00:00:00",
            "2019-12-31T00:00:00",
            "2020-12-31T00:00:00",
            "2021-12-31T00:00:00",
            "2022-12-31T00:00:00"
           ],
           "xaxis": "x",
           "y": [
            185471460.6422161,
            214843294.65655488,
            234922072.93995905,
            234943054.735934,
            91756468.47663212,
            265006118.80301732,
            260842571.6505682,
            280126162.495574,
            300812404.5102762,
            315903030.55236566,
            337352526.6127706
           ],
           "yaxis": "y"
          },
          {
           "hovertemplate": "modalidade=Empréstimo sem consignação em folha<br>ocupacao=Empregado de entidades sem fins lucrativos<br>data_base=%{x}<br>carteira_ativa_deflacionada=%{y}<extra></extra>",
           "legendgroup": "Empréstimo sem consignação em folha",
           "line": {
            "color": "#00cc96",
            "dash": "solid"
           },
           "marker": {
            "symbol": "circle"
           },
           "mode": "lines",
           "name": "Empréstimo sem consignação em folha",
           "orientation": "v",
           "showlegend": true,
           "type": "scatter",
           "x": [
            "2012-12-31T00:00:00",
            "2013-12-31T00:00:00",
            "2014-12-31T00:00:00",
            "2015-12-31T00:00:00",
            "2016-12-31T00:00:00",
            "2017-12-31T00:00:00",
            "2018-12-31T00:00:00",
            "2019-12-31T00:00:00",
            "2020-12-31T00:00:00",
            "2021-12-31T00:00:00",
            "2022-12-31T00:00:00"
           ],
           "xaxis": "x",
           "y": [
            147288061.2718701,
            149172110.88999972,
            134399331.00882372,
            122879541.35273784,
            66771917.25814137,
            122887304.11376235,
            132834280.96516183,
            148001016.17535228,
            144502046.42702138,
            203980724.19137114,
            244818784.6875745
           ],
           "yaxis": "y"
          },
          {
           "hovertemplate": "modalidade=Habitacional<br>ocupacao=Empregado de entidades sem fins lucrativos<br>data_base=%{x}<br>carteira_ativa_deflacionada=%{y}<extra></extra>",
           "legendgroup": "Habitacional",
           "line": {
            "color": "#ab63fa",
            "dash": "solid"
           },
           "marker": {
            "symbol": "circle"
           },
           "mode": "lines",
           "name": "Habitacional",
           "orientation": "v",
           "showlegend": true,
           "type": "scatter",
           "x": [
            "2012-12-31T00:00:00",
            "2013-12-31T00:00:00",
            "2014-12-31T00:00:00",
            "2015-12-31T00:00:00",
            "2016-12-31T00:00:00",
            "2017-12-31T00:00:00",
            "2018-12-31T00:00:00",
            "2019-12-31T00:00:00",
            "2020-12-31T00:00:00",
            "2021-12-31T00:00:00",
            "2022-12-31T00:00:00"
           ],
           "xaxis": "x",
           "y": [
            659823600.6865468,
            802973365.9800346,
            892714295.5095879,
            895551342.3220274,
            691910361.8402163,
            913356099.2617358,
            869751214.9681286,
            912664467.1623197,
            955931702.9939748,
            1028692261.5885655,
            1100954421.306563
           ],
           "yaxis": "y"
          },
          {
           "hovertemplate": "modalidade=Outros créditos<br>ocupacao=Empregado de entidades sem fins lucrativos<br>data_base=%{x}<br>carteira_ativa_deflacionada=%{y}<extra></extra>",
           "legendgroup": "Outros créditos",
           "line": {
            "color": "#FFA15A",
            "dash": "solid"
           },
           "marker": {
            "symbol": "circle"
           },
           "mode": "lines",
           "name": "Outros créditos",
           "orientation": "v",
           "showlegend": true,
           "type": "scatter",
           "x": [
            "2012-12-31T00:00:00",
            "2013-12-31T00:00:00",
            "2014-12-31T00:00:00",
            "2015-12-31T00:00:00",
            "2016-12-31T00:00:00",
            "2017-12-31T00:00:00",
            "2018-12-31T00:00:00",
            "2019-12-31T00:00:00",
            "2020-12-31T00:00:00",
            "2021-12-31T00:00:00",
            "2022-12-31T00:00:00"
           ],
           "xaxis": "x",
           "y": [
            140633693.84049234,
            146421584.67682704,
            156167123.5381583,
            146281170.0367541,
            80429829.3847321,
            143903287.80784246,
            131330043.93991885,
            134911013.9584561,
            136502240.46839476,
            132574964.64231388,
            160436506.41627628
           ],
           "yaxis": "y"
          },
          {
           "hovertemplate": "modalidade=Rural e agroindustrial<br>ocupacao=Empregado de entidades sem fins lucrativos<br>data_base=%{x}<br>carteira_ativa_deflacionada=%{y}<extra></extra>",
           "legendgroup": "Rural e agroindustrial",
           "line": {
            "color": "#19d3f3",
            "dash": "solid"
           },
           "marker": {
            "symbol": "circle"
           },
           "mode": "lines",
           "name": "Rural e agroindustrial",
           "orientation": "v",
           "showlegend": true,
           "type": "scatter",
           "x": [
            "2012-12-31T00:00:00",
            "2013-12-31T00:00:00",
            "2014-12-31T00:00:00",
            "2015-12-31T00:00:00",
            "2016-12-31T00:00:00",
            "2017-12-31T00:00:00",
            "2018-12-31T00:00:00",
            "2019-12-31T00:00:00",
            "2020-12-31T00:00:00",
            "2021-12-31T00:00:00",
            "2022-12-31T00:00:00"
           ],
           "xaxis": "x",
           "y": [
            177884079.754505,
            223523797.46411756,
            243837829.53911108,
            228428819.6297716,
            91628405.08605358,
            288525037.0039695,
            250121149.44270578,
            224109488.380598,
            216644087.62697884,
            231696331.89591053,
            246385371.41414055
           ],
           "yaxis": "y"
          },
          {
           "hovertemplate": "modalidade=Veículos<br>ocupacao=Empregado de entidades sem fins lucrativos<br>data_base=%{x}<br>carteira_ativa_deflacionada=%{y}<extra></extra>",
           "legendgroup": "Veículos",
           "line": {
            "color": "#FF6692",
            "dash": "solid"
           },
           "marker": {
            "symbol": "circle"
           },
           "mode": "lines",
           "name": "Veículos",
           "orientation": "v",
           "showlegend": true,
           "type": "scatter",
           "x": [
            "2012-12-31T00:00:00",
            "2013-12-31T00:00:00",
            "2014-12-31T00:00:00",
            "2015-12-31T00:00:00",
            "2016-12-31T00:00:00",
            "2017-12-31T00:00:00",
            "2018-12-31T00:00:00",
            "2019-12-31T00:00:00",
            "2020-12-31T00:00:00",
            "2021-12-31T00:00:00",
            "2022-12-31T00:00:00"
           ],
           "xaxis": "x",
           "y": [
            329923015.9577839,
            286822142.43680286,
            240141065.4880303,
            185657230.0153074,
            116996562.10705854,
            249849221.99329856,
            254668741.09662944,
            284135130.34081787,
            283870729.282689,
            268768437.80853575,
            263572717.7349327
           ],
           "yaxis": "y"
          }
         ],
         "name": "Empregado de entidades sem fins lucrativos"
        },
        {
         "data": [
          {
           "hovertemplate": "modalidade=Cartão de crédito<br>ocupacao=Empresário<br>data_base=%{x}<br>carteira_ativa_deflacionada=%{y}<extra></extra>",
           "legendgroup": "Cartão de crédito",
           "line": {
            "color": "#636efa",
            "dash": "solid"
           },
           "marker": {
            "symbol": "circle"
           },
           "mode": "lines",
           "name": "Cartão de crédito",
           "orientation": "v",
           "showlegend": true,
           "type": "scatter",
           "x": [
            "2012-12-31T00:00:00",
            "2013-12-31T00:00:00",
            "2014-12-31T00:00:00",
            "2015-12-31T00:00:00",
            "2016-12-31T00:00:00",
            "2017-12-31T00:00:00",
            "2018-12-31T00:00:00",
            "2019-12-31T00:00:00",
            "2020-12-31T00:00:00",
            "2021-12-31T00:00:00",
            "2022-12-31T00:00:00"
           ],
           "xaxis": "x",
           "y": [
            27500276263.19408,
            29362184393.347702,
            30208010992.738598,
            28008630850.699516,
            29170927637.529686,
            37901006289.9749,
            43760387184.77022,
            48611208859.055214,
            48652665432.57397,
            59487515774.577446,
            70393046891.7006
           ],
           "yaxis": "y"
          },
          {
           "hovertemplate": "modalidade=Empréstimo com consignação em folha<br>ocupacao=Empresário<br>data_base=%{x}<br>carteira_ativa_deflacionada=%{y}<extra></extra>",
           "legendgroup": "Empréstimo com consignação em folha",
           "line": {
            "color": "#EF553B",
            "dash": "solid"
           },
           "marker": {
            "symbol": "circle"
           },
           "mode": "lines",
           "name": "Empréstimo com consignação em folha",
           "orientation": "v",
           "showlegend": true,
           "type": "scatter",
           "x": [
            "2012-12-31T00:00:00",
            "2013-12-31T00:00:00",
            "2014-12-31T00:00:00",
            "2015-12-31T00:00:00",
            "2016-12-31T00:00:00",
            "2017-12-31T00:00:00",
            "2018-12-31T00:00:00",
            "2019-12-31T00:00:00",
            "2020-12-31T00:00:00",
            "2021-12-31T00:00:00",
            "2022-12-31T00:00:00"
           ],
           "xaxis": "x",
           "y": [
            8298770753.866766,
            10055133406.505535,
            11237208323.300993,
            11553979824.875948,
            3554935876.6375937,
            8630361567.519655,
            8787895611.469172,
            9482170825.113049,
            10597895428.32646,
            11159174613.85664,
            11678806563.67137
           ],
           "yaxis": "y"
          },
          {
           "hovertemplate": "modalidade=Empréstimo sem consignação em folha<br>ocupacao=Empresário<br>data_base=%{x}<br>carteira_ativa_deflacionada=%{y}<extra></extra>",
           "legendgroup": "Empréstimo sem consignação em folha",
           "line": {
            "color": "#00cc96",
            "dash": "solid"
           },
           "marker": {
            "symbol": "circle"
           },
           "mode": "lines",
           "name": "Empréstimo sem consignação em folha",
           "orientation": "v",
           "showlegend": true,
           "type": "scatter",
           "x": [
            "2012-12-31T00:00:00",
            "2013-12-31T00:00:00",
            "2014-12-31T00:00:00",
            "2015-12-31T00:00:00",
            "2016-12-31T00:00:00",
            "2017-12-31T00:00:00",
            "2018-12-31T00:00:00",
            "2019-12-31T00:00:00",
            "2020-12-31T00:00:00",
            "2021-12-31T00:00:00",
            "2022-12-31T00:00:00"
           ],
           "xaxis": "x",
           "y": [
            23874482693.821247,
            24202340461.434788,
            22355607208.405514,
            20702930326.662155,
            18208552996.29788,
            20646168695.800343,
            23331410403.97839,
            28523509148.1027,
            39012823820.31767,
            44697209414.06764,
            46202605377.72039
           ],
           "yaxis": "y"
          },
          {
           "hovertemplate": "modalidade=Habitacional<br>ocupacao=Empresário<br>data_base=%{x}<br>carteira_ativa_deflacionada=%{y}<extra></extra>",
           "legendgroup": "Habitacional",
           "line": {
            "color": "#ab63fa",
            "dash": "solid"
           },
           "marker": {
            "symbol": "circle"
           },
           "mode": "lines",
           "name": "Habitacional",
           "orientation": "v",
           "showlegend": true,
           "type": "scatter",
           "x": [
            "2012-12-31T00:00:00",
            "2013-12-31T00:00:00",
            "2014-12-31T00:00:00",
            "2015-12-31T00:00:00",
            "2016-12-31T00:00:00",
            "2017-12-31T00:00:00",
            "2018-12-31T00:00:00",
            "2019-12-31T00:00:00",
            "2020-12-31T00:00:00",
            "2021-12-31T00:00:00",
            "2022-12-31T00:00:00"
           ],
           "xaxis": "x",
           "y": [
            58812346714.91282,
            70608265329.86426,
            82837763542.69801,
            81996007739.37111,
            97131511737.23206,
            112092880497.1793,
            112963235127.84575,
            113530201080.66049,
            123808748554.68523,
            133143504823.021,
            150515814390.47452
           ],
           "yaxis": "y"
          },
          {
           "hovertemplate": "modalidade=Outros créditos<br>ocupacao=Empresário<br>data_base=%{x}<br>carteira_ativa_deflacionada=%{y}<extra></extra>",
           "legendgroup": "Outros créditos",
           "line": {
            "color": "#FFA15A",
            "dash": "solid"
           },
           "marker": {
            "symbol": "circle"
           },
           "mode": "lines",
           "name": "Outros créditos",
           "orientation": "v",
           "showlegend": true,
           "type": "scatter",
           "x": [
            "2012-12-31T00:00:00",
            "2013-12-31T00:00:00",
            "2014-12-31T00:00:00",
            "2015-12-31T00:00:00",
            "2016-12-31T00:00:00",
            "2017-12-31T00:00:00",
            "2018-12-31T00:00:00",
            "2019-12-31T00:00:00",
            "2020-12-31T00:00:00",
            "2021-12-31T00:00:00",
            "2022-12-31T00:00:00"
           ],
           "xaxis": "x",
           "y": [
            35086152577.996025,
            36606534734.401695,
            38314624454.05418,
            37649139852.05178,
            36844170648.34146,
            40930437966.60828,
            43251485510.12076,
            44397959697.93299,
            52469759030.91727,
            51207970239.680786,
            55859766791.13287
           ],
           "yaxis": "y"
          },
          {
           "hovertemplate": "modalidade=Rural e agroindustrial<br>ocupacao=Empresário<br>data_base=%{x}<br>carteira_ativa_deflacionada=%{y}<extra></extra>",
           "legendgroup": "Rural e agroindustrial",
           "line": {
            "color": "#19d3f3",
            "dash": "solid"
           },
           "marker": {
            "symbol": "circle"
           },
           "mode": "lines",
           "name": "Rural e agroindustrial",
           "orientation": "v",
           "showlegend": true,
           "type": "scatter",
           "x": [
            "2012-12-31T00:00:00",
            "2013-12-31T00:00:00",
            "2014-12-31T00:00:00",
            "2015-12-31T00:00:00",
            "2016-12-31T00:00:00",
            "2017-12-31T00:00:00",
            "2018-12-31T00:00:00",
            "2019-12-31T00:00:00",
            "2020-12-31T00:00:00",
            "2021-12-31T00:00:00",
            "2022-12-31T00:00:00"
           ],
           "xaxis": "x",
           "y": [
            81199157144.97804,
            97135925748.35086,
            109531925782.56123,
            103455848429.78952,
            102998479215.2317,
            111356004952.57953,
            116418387117.07928,
            122010278928.85768,
            131012103345.22417,
            154079738718.13156,
            185989357232.14227
           ],
           "yaxis": "y"
          },
          {
           "hovertemplate": "modalidade=Veículos<br>ocupacao=Empresário<br>data_base=%{x}<br>carteira_ativa_deflacionada=%{y}<extra></extra>",
           "legendgroup": "Veículos",
           "line": {
            "color": "#FF6692",
            "dash": "solid"
           },
           "marker": {
            "symbol": "circle"
           },
           "mode": "lines",
           "name": "Veículos",
           "orientation": "v",
           "showlegend": true,
           "type": "scatter",
           "x": [
            "2012-12-31T00:00:00",
            "2013-12-31T00:00:00",
            "2014-12-31T00:00:00",
            "2015-12-31T00:00:00",
            "2016-12-31T00:00:00",
            "2017-12-31T00:00:00",
            "2018-12-31T00:00:00",
            "2019-12-31T00:00:00",
            "2020-12-31T00:00:00",
            "2021-12-31T00:00:00",
            "2022-12-31T00:00:00"
           ],
           "xaxis": "x",
           "y": [
            43673989298.44316,
            37928771234.64633,
            32293875419.256695,
            23939908593.841137,
            20917498468.320133,
            27677567871.81495,
            31318991534.997097,
            35183651070.49223,
            36867001698.410515,
            38240956605.87392,
            41449015633.06677
           ],
           "yaxis": "y"
          }
         ],
         "name": "Empresário"
        },
        {
         "data": [
          {
           "hovertemplate": "modalidade=Cartão de crédito<br>ocupacao=MEI<br>data_base=%{x}<br>carteira_ativa_deflacionada=%{y}<extra></extra>",
           "legendgroup": "Cartão de crédito",
           "line": {
            "color": "#636efa",
            "dash": "solid"
           },
           "marker": {
            "symbol": "circle"
           },
           "mode": "lines",
           "name": "Cartão de crédito",
           "orientation": "v",
           "showlegend": true,
           "type": "scatter",
           "x": [
            "2012-12-31T00:00:00",
            "2013-12-31T00:00:00",
            "2014-12-31T00:00:00",
            "2015-12-31T00:00:00",
            "2016-12-31T00:00:00",
            "2017-12-31T00:00:00",
            "2018-12-31T00:00:00",
            "2019-12-31T00:00:00",
            "2020-12-31T00:00:00",
            "2021-12-31T00:00:00",
            "2022-12-31T00:00:00"
           ],
           "xaxis": "x",
           "y": [
            23187.165518882444,
            15977.191736307104,
            8251.541069744118,
            15372.459365457426,
            1236455565.524957,
            2286647152.276962,
            3817855602.576147,
            4682115948.08653,
            5390135343.321502,
            7191064347.207294,
            9695545093.728607
           ],
           "yaxis": "y"
          },
          {
           "hovertemplate": "modalidade=Empréstimo com consignação em folha<br>ocupacao=MEI<br>data_base=%{x}<br>carteira_ativa_deflacionada=%{y}<extra></extra>",
           "legendgroup": "Empréstimo com consignação em folha",
           "line": {
            "color": "#EF553B",
            "dash": "solid"
           },
           "marker": {
            "symbol": "circle"
           },
           "mode": "lines",
           "name": "Empréstimo com consignação em folha",
           "orientation": "v",
           "showlegend": true,
           "type": "scatter",
           "x": [
            "2012-12-31T00:00:00",
            "2013-12-31T00:00:00",
            "2014-12-31T00:00:00",
            "2015-12-31T00:00:00",
            "2016-12-31T00:00:00",
            "2017-12-31T00:00:00",
            "2018-12-31T00:00:00",
            "2019-12-31T00:00:00",
            "2020-12-31T00:00:00",
            "2021-12-31T00:00:00",
            "2022-12-31T00:00:00"
           ],
           "xaxis": "x",
           "y": [
            64366.036298045445,
            75199.21616683551,
            93798.19370957492,
            76153.69844132615,
            136273901.80996698,
            325796997.1503852,
            480870628.6588765,
            528100869.4639134,
            670475265.8546996,
            764404482.8550779,
            944099946.8775173
           ],
           "yaxis": "y"
          },
          {
           "hovertemplate": "modalidade=Empréstimo sem consignação em folha<br>ocupacao=MEI<br>data_base=%{x}<br>carteira_ativa_deflacionada=%{y}<extra></extra>",
           "legendgroup": "Empréstimo sem consignação em folha",
           "line": {
            "color": "#00cc96",
            "dash": "solid"
           },
           "marker": {
            "symbol": "circle"
           },
           "mode": "lines",
           "name": "Empréstimo sem consignação em folha",
           "orientation": "v",
           "showlegend": true,
           "type": "scatter",
           "x": [
            "2012-12-31T00:00:00",
            "2013-12-31T00:00:00",
            "2014-12-31T00:00:00",
            "2015-12-31T00:00:00",
            "2016-12-31T00:00:00",
            "2017-12-31T00:00:00",
            "2018-12-31T00:00:00",
            "2019-12-31T00:00:00",
            "2020-12-31T00:00:00",
            "2021-12-31T00:00:00",
            "2022-12-31T00:00:00"
           ],
           "xaxis": "x",
           "y": [
            14680.06953547907,
            6952.976563887838,
            3873.3350550585333,
            15230.233665067579,
            303847654.76281506,
            524179621.4960676,
            888575578.0740368,
            1165322774.1494195,
            1174697366.1546624,
            1907992852.836147,
            2352999563.2237906
           ],
           "yaxis": "y"
          },
          {
           "hovertemplate": "modalidade=Habitacional<br>ocupacao=MEI<br>data_base=%{x}<br>carteira_ativa_deflacionada=%{y}<extra></extra>",
           "legendgroup": "Habitacional",
           "line": {
            "color": "#ab63fa",
            "dash": "solid"
           },
           "marker": {
            "symbol": "circle"
           },
           "mode": "lines",
           "name": "Habitacional",
           "orientation": "v",
           "showlegend": true,
           "type": "scatter",
           "x": [
            "2015-12-31T00:00:00",
            "2016-12-31T00:00:00",
            "2017-12-31T00:00:00",
            "2018-12-31T00:00:00",
            "2019-12-31T00:00:00",
            "2020-12-31T00:00:00",
            "2021-12-31T00:00:00",
            "2022-12-31T00:00:00"
           ],
           "xaxis": "x",
           "y": [
            166863.96988362976,
            3685037790.4354234,
            6917943605.044599,
            9839183236.97798,
            10499423851.21083,
            12813989604.3076,
            13676608055.287828,
            16731985087.055489
           ],
           "yaxis": "y"
          },
          {
           "hovertemplate": "modalidade=Outros créditos<br>ocupacao=MEI<br>data_base=%{x}<br>carteira_ativa_deflacionada=%{y}<extra></extra>",
           "legendgroup": "Outros créditos",
           "line": {
            "color": "#FFA15A",
            "dash": "solid"
           },
           "marker": {
            "symbol": "circle"
           },
           "mode": "lines",
           "name": "Outros créditos",
           "orientation": "v",
           "showlegend": true,
           "type": "scatter",
           "x": [
            "2012-12-31T00:00:00",
            "2013-12-31T00:00:00",
            "2014-12-31T00:00:00",
            "2015-12-31T00:00:00",
            "2016-12-31T00:00:00",
            "2017-12-31T00:00:00",
            "2018-12-31T00:00:00",
            "2019-12-31T00:00:00",
            "2020-12-31T00:00:00",
            "2021-12-31T00:00:00",
            "2022-12-31T00:00:00"
           ],
           "xaxis": "x",
           "y": [
            34747.30775892363,
            7061.875194505647,
            35831.09860196503,
            25362.587780718804,
            644194784.1935942,
            1080896993.4782128,
            1451752243.91119,
            1743133778.3139913,
            2246879764.551298,
            2430335504.2027516,
            3053831449.5102367
           ],
           "yaxis": "y"
          },
          {
           "hovertemplate": "modalidade=Rural e agroindustrial<br>ocupacao=MEI<br>data_base=%{x}<br>carteira_ativa_deflacionada=%{y}<extra></extra>",
           "legendgroup": "Rural e agroindustrial",
           "line": {
            "color": "#19d3f3",
            "dash": "solid"
           },
           "marker": {
            "symbol": "circle"
           },
           "mode": "lines",
           "name": "Rural e agroindustrial",
           "orientation": "v",
           "showlegend": true,
           "type": "scatter",
           "x": [
            "2016-12-31T00:00:00",
            "2017-12-31T00:00:00",
            "2018-12-31T00:00:00",
            "2019-12-31T00:00:00",
            "2020-12-31T00:00:00",
            "2021-12-31T00:00:00",
            "2022-12-31T00:00:00"
           ],
           "xaxis": "x",
           "y": [
            105044885.10760505,
            211961642.6858534,
            280496619.9796444,
            303745906.88620085,
            331881481.49587023,
            410745093.0257811,
            563288269.0065562
           ],
           "yaxis": "y"
          },
          {
           "hovertemplate": "modalidade=Veículos<br>ocupacao=MEI<br>data_base=%{x}<br>carteira_ativa_deflacionada=%{y}<extra></extra>",
           "legendgroup": "Veículos",
           "line": {
            "color": "#FF6692",
            "dash": "solid"
           },
           "marker": {
            "symbol": "circle"
           },
           "mode": "lines",
           "name": "Veículos",
           "orientation": "v",
           "showlegend": true,
           "type": "scatter",
           "x": [
            "2012-12-31T00:00:00",
            "2013-12-31T00:00:00",
            "2014-12-31T00:00:00",
            "2016-12-31T00:00:00",
            "2017-12-31T00:00:00",
            "2018-12-31T00:00:00",
            "2019-12-31T00:00:00",
            "2020-12-31T00:00:00",
            "2021-12-31T00:00:00",
            "2022-12-31T00:00:00"
           ],
           "xaxis": "x",
           "y": [
            58524.45528056471,
            42624.91938655402,
            20427.21893750434,
            1356251959.2029293,
            2520975063.0898886,
            3833814485.622021,
            4796418775.291357,
            5739973393.783794,
            6003138310.482227,
            7031955253.805812
           ],
           "yaxis": "y"
          }
         ],
         "name": "MEI"
        },
        {
         "data": [
          {
           "hovertemplate": "modalidade=Cartão de crédito<br>ocupacao=Outros<br>data_base=%{x}<br>carteira_ativa_deflacionada=%{y}<extra></extra>",
           "legendgroup": "Cartão de crédito",
           "line": {
            "color": "#636efa",
            "dash": "solid"
           },
           "marker": {
            "symbol": "circle"
           },
           "mode": "lines",
           "name": "Cartão de crédito",
           "orientation": "v",
           "showlegend": true,
           "type": "scatter",
           "x": [
            "2012-12-31T00:00:00",
            "2013-12-31T00:00:00",
            "2014-12-31T00:00:00",
            "2015-12-31T00:00:00",
            "2016-12-31T00:00:00",
            "2017-12-31T00:00:00",
            "2018-12-31T00:00:00",
            "2019-12-31T00:00:00",
            "2020-12-31T00:00:00",
            "2021-12-31T00:00:00",
            "2022-12-31T00:00:00"
           ],
           "xaxis": "x",
           "y": [
            77064992513.46085,
            88073772598.10776,
            99530108202.27208,
            97872239586.42877,
            101533745941.1799,
            77595742942.14284,
            86954071141.49724,
            101602680932.39449,
            100101339007.3884,
            132145774482.49084,
            154704382551.71396
           ],
           "yaxis": "y"
          },
          {
           "hovertemplate": "modalidade=Empréstimo com consignação em folha<br>ocupacao=Outros<br>data_base=%{x}<br>carteira_ativa_deflacionada=%{y}<extra></extra>",
           "legendgroup": "Empréstimo com consignação em folha",
           "line": {
            "color": "#EF553B",
            "dash": "solid"
           },
           "marker": {
            "symbol": "circle"
           },
           "mode": "lines",
           "name": "Empréstimo com consignação em folha",
           "orientation": "v",
           "showlegend": true,
           "type": "scatter",
           "x": [
            "2012-12-31T00:00:00",
            "2013-12-31T00:00:00",
            "2014-12-31T00:00:00",
            "2015-12-31T00:00:00",
            "2016-12-31T00:00:00",
            "2017-12-31T00:00:00",
            "2018-12-31T00:00:00",
            "2019-12-31T00:00:00",
            "2020-12-31T00:00:00",
            "2021-12-31T00:00:00",
            "2022-12-31T00:00:00"
           ],
           "xaxis": "x",
           "y": [
            126295044568.45436,
            145815644638.8932,
            160712646176.3171,
            161607395963.65765,
            147848611531.24246,
            114571666861.76506,
            112780753285.22905,
            118736422951.68663,
            129689879400.51573,
            137428980155.41006,
            162849402070.12274
           ],
           "yaxis": "y"
          },
          {
           "hovertemplate": "modalidade=Empréstimo sem consignação em folha<br>ocupacao=Outros<br>data_base=%{x}<br>carteira_ativa_deflacionada=%{y}<extra></extra>",
           "legendgroup": "Empréstimo sem consignação em folha",
           "line": {
            "color": "#00cc96",
            "dash": "solid"
           },
           "marker": {
            "symbol": "circle"
           },
           "mode": "lines",
           "name": "Empréstimo sem consignação em folha",
           "orientation": "v",
           "showlegend": true,
           "type": "scatter",
           "x": [
            "2012-12-31T00:00:00",
            "2013-12-31T00:00:00",
            "2014-12-31T00:00:00",
            "2015-12-31T00:00:00",
            "2016-12-31T00:00:00",
            "2017-12-31T00:00:00",
            "2018-12-31T00:00:00",
            "2019-12-31T00:00:00",
            "2020-12-31T00:00:00",
            "2021-12-31T00:00:00",
            "2022-12-31T00:00:00"
           ],
           "xaxis": "x",
           "y": [
            54373277525.7829,
            55233170475.4328,
            54353600996.0662,
            51260799742.34304,
            41039972910.588196,
            28064331075.067566,
            30833260328.131317,
            36404189323.22269,
            39055154809.4378,
            60027520428.429596,
            66935701526.680855
           ],
           "yaxis": "y"
          },
          {
           "hovertemplate": "modalidade=Habitacional<br>ocupacao=Outros<br>data_base=%{x}<br>carteira_ativa_deflacionada=%{y}<extra></extra>",
           "legendgroup": "Habitacional",
           "line": {
            "color": "#ab63fa",
            "dash": "solid"
           },
           "marker": {
            "symbol": "circle"
           },
           "mode": "lines",
           "name": "Habitacional",
           "orientation": "v",
           "showlegend": true,
           "type": "scatter",
           "x": [
            "2012-12-31T00:00:00",
            "2013-12-31T00:00:00",
            "2014-12-31T00:00:00",
            "2015-12-31T00:00:00",
            "2016-12-31T00:00:00",
            "2017-12-31T00:00:00",
            "2018-12-31T00:00:00",
            "2019-12-31T00:00:00",
            "2020-12-31T00:00:00",
            "2021-12-31T00:00:00",
            "2022-12-31T00:00:00"
           ],
           "xaxis": "x",
           "y": [
            153185425988.22137,
            213909771475.1339,
            278823892709.15753,
            316484163517.153,
            221428724794.57916,
            152046489930.20624,
            148461860525.43713,
            157154105969.80972,
            165705628381.0127,
            172315850201.91888,
            173507127341.9311
           ],
           "yaxis": "y"
          },
          {
           "hovertemplate": "modalidade=Outros créditos<br>ocupacao=Outros<br>data_base=%{x}<br>carteira_ativa_deflacionada=%{y}<extra></extra>",
           "legendgroup": "Outros créditos",
           "line": {
            "color": "#FFA15A",
            "dash": "solid"
           },
           "marker": {
            "symbol": "circle"
           },
           "mode": "lines",
           "name": "Outros créditos",
           "orientation": "v",
           "showlegend": true,
           "type": "scatter",
           "x": [
            "2012-12-31T00:00:00",
            "2013-12-31T00:00:00",
            "2014-12-31T00:00:00",
            "2015-12-31T00:00:00",
            "2016-12-31T00:00:00",
            "2017-12-31T00:00:00",
            "2018-12-31T00:00:00",
            "2019-12-31T00:00:00",
            "2020-12-31T00:00:00",
            "2021-12-31T00:00:00",
            "2022-12-31T00:00:00"
           ],
           "xaxis": "x",
           "y": [
            54382005990.63663,
            62521222556.993225,
            66264007729.78138,
            58753969018.54669,
            54265270905.78617,
            34988176521.26268,
            34959721490.71328,
            38404777453.94132,
            41637144861.974686,
            46454564737.03899,
            53559004265.80771
           ],
           "yaxis": "y"
          },
          {
           "hovertemplate": "modalidade=Rural e agroindustrial<br>ocupacao=Outros<br>data_base=%{x}<br>carteira_ativa_deflacionada=%{y}<extra></extra>",
           "legendgroup": "Rural e agroindustrial",
           "line": {
            "color": "#19d3f3",
            "dash": "solid"
           },
           "marker": {
            "symbol": "circle"
           },
           "mode": "lines",
           "name": "Rural e agroindustrial",
           "orientation": "v",
           "showlegend": true,
           "type": "scatter",
           "x": [
            "2012-12-31T00:00:00",
            "2013-12-31T00:00:00",
            "2014-12-31T00:00:00",
            "2015-12-31T00:00:00",
            "2016-12-31T00:00:00",
            "2017-12-31T00:00:00",
            "2018-12-31T00:00:00",
            "2019-12-31T00:00:00",
            "2020-12-31T00:00:00",
            "2021-12-31T00:00:00",
            "2022-12-31T00:00:00"
           ],
           "xaxis": "x",
           "y": [
            82234037985.38554,
            98118044968.34224,
            114403904679.54445,
            111892428810.59921,
            104202201057.64742,
            92760712940.9165,
            93409379104.31194,
            96467243354.8721,
            102175903858.2665,
            116495281527.83556,
            139951105803.73633
           ],
           "yaxis": "y"
          },
          {
           "hovertemplate": "modalidade=Veículos<br>ocupacao=Outros<br>data_base=%{x}<br>carteira_ativa_deflacionada=%{y}<extra></extra>",
           "legendgroup": "Veículos",
           "line": {
            "color": "#FF6692",
            "dash": "solid"
           },
           "marker": {
            "symbol": "circle"
           },
           "mode": "lines",
           "name": "Veículos",
           "orientation": "v",
           "showlegend": true,
           "type": "scatter",
           "x": [
            "2012-12-31T00:00:00",
            "2013-12-31T00:00:00",
            "2014-12-31T00:00:00",
            "2015-12-31T00:00:00",
            "2016-12-31T00:00:00",
            "2017-12-31T00:00:00",
            "2018-12-31T00:00:00",
            "2019-12-31T00:00:00",
            "2020-12-31T00:00:00",
            "2021-12-31T00:00:00",
            "2022-12-31T00:00:00"
           ],
           "xaxis": "x",
           "y": [
            179899441128.12943,
            168063595166.13284,
            155304832168.61743,
            126184621057.90144,
            87538552775.7129,
            60514228947.04459,
            62020582510.15827,
            73524738279.0735,
            78275843711.73172,
            82110055127.52237,
            78066074393.98828
           ],
           "yaxis": "y"
          }
         ],
         "name": "Outros"
        },
        {
         "data": [
          {
           "hovertemplate": "modalidade=Cartão de crédito<br>ocupacao=Servidor ou empregado público<br>data_base=%{x}<br>carteira_ativa_deflacionada=%{y}<extra></extra>",
           "legendgroup": "Cartão de crédito",
           "line": {
            "color": "#636efa",
            "dash": "solid"
           },
           "marker": {
            "symbol": "circle"
           },
           "mode": "lines",
           "name": "Cartão de crédito",
           "orientation": "v",
           "showlegend": true,
           "type": "scatter",
           "x": [
            "2012-12-31T00:00:00",
            "2013-12-31T00:00:00",
            "2014-12-31T00:00:00",
            "2015-12-31T00:00:00",
            "2016-12-31T00:00:00",
            "2017-12-31T00:00:00",
            "2018-12-31T00:00:00",
            "2019-12-31T00:00:00",
            "2020-12-31T00:00:00",
            "2021-12-31T00:00:00",
            "2022-12-31T00:00:00"
           ],
           "xaxis": "x",
           "y": [
            27283693893.772785,
            30136922812.929405,
            31700742864.5958,
            30023828730.706886,
            35533901033.05047,
            39188827374.46643,
            42655568181.74079,
            47360799479.15942,
            47064682406.45198,
            55255895444.67313,
            64430857308.53099
           ],
           "yaxis": "y"
          },
          {
           "hovertemplate": "modalidade=Empréstimo com consignação em folha<br>ocupacao=Servidor ou empregado público<br>data_base=%{x}<br>carteira_ativa_deflacionada=%{y}<extra></extra>",
           "legendgroup": "Empréstimo com consignação em folha",
           "line": {
            "color": "#EF553B",
            "dash": "solid"
           },
           "marker": {
            "symbol": "circle"
           },
           "mode": "lines",
           "name": "Empréstimo com consignação em folha",
           "orientation": "v",
           "showlegend": true,
           "type": "scatter",
           "x": [
            "2012-12-31T00:00:00",
            "2013-12-31T00:00:00",
            "2014-12-31T00:00:00",
            "2015-12-31T00:00:00",
            "2016-12-31T00:00:00",
            "2017-12-31T00:00:00",
            "2018-12-31T00:00:00",
            "2019-12-31T00:00:00",
            "2020-12-31T00:00:00",
            "2021-12-31T00:00:00",
            "2022-12-31T00:00:00"
           ],
           "xaxis": "x",
           "y": [
            108880166542.69391,
            118163549318.07031,
            127668846553.89668,
            124700912997.57834,
            130866448433.5723,
            143074042343.2325,
            144205022837.30823,
            163982348095.27106,
            178726502128.82346,
            195945045601.40738,
            206268228178.73007
           ],
           "yaxis": "y"
          },
          {
           "hovertemplate": "modalidade=Empréstimo sem consignação em folha<br>ocupacao=Servidor ou empregado público<br>data_base=%{x}<br>carteira_ativa_deflacionada=%{y}<extra></extra>",
           "legendgroup": "Empréstimo sem consignação em folha",
           "line": {
            "color": "#00cc96",
            "dash": "solid"
           },
           "marker": {
            "symbol": "circle"
           },
           "mode": "lines",
           "name": "Empréstimo sem consignação em folha",
           "orientation": "v",
           "showlegend": true,
           "type": "scatter",
           "x": [
            "2012-12-31T00:00:00",
            "2013-12-31T00:00:00",
            "2014-12-31T00:00:00",
            "2015-12-31T00:00:00",
            "2016-12-31T00:00:00",
            "2017-12-31T00:00:00",
            "2018-12-31T00:00:00",
            "2019-12-31T00:00:00",
            "2020-12-31T00:00:00",
            "2021-12-31T00:00:00",
            "2022-12-31T00:00:00"
           ],
           "xaxis": "x",
           "y": [
            23370440916.583244,
            23220372577.989204,
            22135008368.289448,
            21939519084.517097,
            20683842986.322872,
            20961617107.16057,
            21561841435.518883,
            23614720540.72048,
            23462060190.5088,
            26038494675.233143,
            27587533092.77454
           ],
           "yaxis": "y"
          },
          {
           "hovertemplate": "modalidade=Habitacional<br>ocupacao=Servidor ou empregado público<br>data_base=%{x}<br>carteira_ativa_deflacionada=%{y}<extra></extra>",
           "legendgroup": "Habitacional",
           "line": {
            "color": "#ab63fa",
            "dash": "solid"
           },
           "marker": {
            "symbol": "circle"
           },
           "mode": "lines",
           "name": "Habitacional",
           "orientation": "v",
           "showlegend": true,
           "type": "scatter",
           "x": [
            "2012-12-31T00:00:00",
            "2013-12-31T00:00:00",
            "2014-12-31T00:00:00",
            "2015-12-31T00:00:00",
            "2016-12-31T00:00:00",
            "2017-12-31T00:00:00",
            "2018-12-31T00:00:00",
            "2019-12-31T00:00:00",
            "2020-12-31T00:00:00",
            "2021-12-31T00:00:00",
            "2022-12-31T00:00:00"
           ],
           "xaxis": "x",
           "y": [
            70859206893.56544,
            82970768347.67139,
            93551350310.01953,
            93113962514.62775,
            124461865380.6822,
            131657801758.7186,
            131252476639.09264,
            132460663849.72781,
            138815861557.742,
            139663615926.0202,
            145563178113.39526
           ],
           "yaxis": "y"
          },
          {
           "hovertemplate": "modalidade=Outros créditos<br>ocupacao=Servidor ou empregado público<br>data_base=%{x}<br>carteira_ativa_deflacionada=%{y}<extra></extra>",
           "legendgroup": "Outros créditos",
           "line": {
            "color": "#FFA15A",
            "dash": "solid"
           },
           "marker": {
            "symbol": "circle"
           },
           "mode": "lines",
           "name": "Outros créditos",
           "orientation": "v",
           "showlegend": true,
           "type": "scatter",
           "x": [
            "2012-12-31T00:00:00",
            "2013-12-31T00:00:00",
            "2014-12-31T00:00:00",
            "2015-12-31T00:00:00",
            "2016-12-31T00:00:00",
            "2017-12-31T00:00:00",
            "2018-12-31T00:00:00",
            "2019-12-31T00:00:00",
            "2020-12-31T00:00:00",
            "2021-12-31T00:00:00",
            "2022-12-31T00:00:00"
           ],
           "xaxis": "x",
           "y": [
            13618447935.92673,
            13821312653.937393,
            13905822678.559408,
            13445110833.00851,
            13738901406.346666,
            13899282139.436434,
            13018291465.173273,
            13460660924.470783,
            14762068959.900293,
            15644361857.949938,
            19445918759.32433
           ],
           "yaxis": "y"
          },
          {
           "hovertemplate": "modalidade=Rural e agroindustrial<br>ocupacao=Servidor ou empregado público<br>data_base=%{x}<br>carteira_ativa_deflacionada=%{y}<extra></extra>",
           "legendgroup": "Rural e agroindustrial",
           "line": {
            "color": "#19d3f3",
            "dash": "solid"
           },
           "marker": {
            "symbol": "circle"
           },
           "mode": "lines",
           "name": "Rural e agroindustrial",
           "orientation": "v",
           "showlegend": true,
           "type": "scatter",
           "x": [
            "2012-12-31T00:00:00",
            "2013-12-31T00:00:00",
            "2014-12-31T00:00:00",
            "2015-12-31T00:00:00",
            "2016-12-31T00:00:00",
            "2017-12-31T00:00:00",
            "2018-12-31T00:00:00",
            "2019-12-31T00:00:00",
            "2020-12-31T00:00:00",
            "2021-12-31T00:00:00",
            "2022-12-31T00:00:00"
           ],
           "xaxis": "x",
           "y": [
            5447055961.87089,
            6603661403.611964,
            7655519569.006147,
            7386467826.933242,
            6282000840.200021,
            7123816573.8294525,
            7103704650.127756,
            7403496294.459992,
            7997945397.755677,
            9573101702.074736,
            12070651973.566149
           ],
           "yaxis": "y"
          },
          {
           "hovertemplate": "modalidade=Veículos<br>ocupacao=Servidor ou empregado público<br>data_base=%{x}<br>carteira_ativa_deflacionada=%{y}<extra></extra>",
           "legendgroup": "Veículos",
           "line": {
            "color": "#FF6692",
            "dash": "solid"
           },
           "marker": {
            "symbol": "circle"
           },
           "mode": "lines",
           "name": "Veículos",
           "orientation": "v",
           "showlegend": true,
           "type": "scatter",
           "x": [
            "2012-12-31T00:00:00",
            "2013-12-31T00:00:00",
            "2014-12-31T00:00:00",
            "2015-12-31T00:00:00",
            "2016-12-31T00:00:00",
            "2017-12-31T00:00:00",
            "2018-12-31T00:00:00",
            "2019-12-31T00:00:00",
            "2020-12-31T00:00:00",
            "2021-12-31T00:00:00",
            "2022-12-31T00:00:00"
           ],
           "xaxis": "x",
           "y": [
            40362941719.28218,
            35442627152.36671,
            30597589455.76727,
            23565032291.037247,
            24088242795.173042,
            25611602218.496593,
            27437364263.453804,
            30363322319.556164,
            30510634290.04089,
            27264507164.169228,
            26636913564.890972
           ],
           "yaxis": "y"
          }
         ],
         "name": "Servidor ou empregado público"
        }
       ],
       "layout": {
        "height": 500,
        "legend": {
         "title": {
          "text": "modalidade"
         },
         "tracegroupgap": 0
        },
        "margin": {
         "t": 60
        },
        "sliders": [
         {
          "active": 3,
          "currentvalue": {
           "prefix": "ocupacao="
          },
          "len": 0.9,
          "pad": {
           "b": 10,
           "t": 60
          },
          "steps": [
           {
            "args": [
             [
              "Aposentado/pensionista"
             ],
             {
              "frame": {
               "duration": 0,
               "redraw": false
              },
              "fromcurrent": true,
              "mode": "immediate",
              "transition": {
               "duration": 0,
               "easing": "linear"
              }
             }
            ],
            "label": "Aposentado/pensionista",
            "method": "animate"
           },
           {
            "args": [
             [
              "Autônomo"
             ],
             {
              "frame": {
               "duration": 0,
               "redraw": false
              },
              "fromcurrent": true,
              "mode": "immediate",
              "transition": {
               "duration": 0,
               "easing": "linear"
              }
             }
            ],
            "label": "Autônomo",
            "method": "animate"
           },
           {
            "args": [
             [
              "Empregado de empresa privada"
             ],
             {
              "frame": {
               "duration": 0,
               "redraw": false
              },
              "fromcurrent": true,
              "mode": "immediate",
              "transition": {
               "duration": 0,
               "easing": "linear"
              }
             }
            ],
            "label": "Empregado de empresa privada",
            "method": "animate"
           },
           {
            "args": [
             [
              "Empregado de entidades sem fins lucrativos"
             ],
             {
              "frame": {
               "duration": 0,
               "redraw": false
              },
              "fromcurrent": true,
              "mode": "immediate",
              "transition": {
               "duration": 0,
               "easing": "linear"
              }
             }
            ],
            "label": "Empregado de entidades sem fins lucrativos",
            "method": "animate"
           },
           {
            "args": [
             [
              "Empresário"
             ],
             {
              "frame": {
               "duration": 0,
               "redraw": false
              },
              "fromcurrent": true,
              "mode": "immediate",
              "transition": {
               "duration": 0,
               "easing": "linear"
              }
             }
            ],
            "label": "Empresário",
            "method": "animate"
           },
           {
            "args": [
             [
              "MEI"
             ],
             {
              "frame": {
               "duration": 0,
               "redraw": false
              },
              "fromcurrent": true,
              "mode": "immediate",
              "transition": {
               "duration": 0,
               "easing": "linear"
              }
             }
            ],
            "label": "MEI",
            "method": "animate"
           },
           {
            "args": [
             [
              "Outros"
             ],
             {
              "frame": {
               "duration": 0,
               "redraw": false
              },
              "fromcurrent": true,
              "mode": "immediate",
              "transition": {
               "duration": 0,
               "easing": "linear"
              }
             }
            ],
            "label": "Outros",
            "method": "animate"
           },
           {
            "args": [
             [
              "Servidor ou empregado público"
             ],
             {
              "frame": {
               "duration": 0,
               "redraw": false
              },
              "fromcurrent": true,
              "mode": "immediate",
              "transition": {
               "duration": 0,
               "easing": "linear"
              }
             }
            ],
            "label": "Servidor ou empregado público",
            "method": "animate"
           }
          ],
          "x": 0.1,
          "xanchor": "left",
          "y": 0,
          "yanchor": "top"
         }
        ],
        "template": {
         "data": {
          "bar": [
           {
            "error_x": {
             "color": "#2a3f5f"
            },
            "error_y": {
             "color": "#2a3f5f"
            },
            "marker": {
             "line": {
              "color": "#E5ECF6",
              "width": 0.5
             },
             "pattern": {
              "fillmode": "overlay",
              "size": 10,
              "solidity": 0.2
             }
            },
            "type": "bar"
           }
          ],
          "barpolar": [
           {
            "marker": {
             "line": {
              "color": "#E5ECF6",
              "width": 0.5
             },
             "pattern": {
              "fillmode": "overlay",
              "size": 10,
              "solidity": 0.2
             }
            },
            "type": "barpolar"
           }
          ],
          "carpet": [
           {
            "aaxis": {
             "endlinecolor": "#2a3f5f",
             "gridcolor": "white",
             "linecolor": "white",
             "minorgridcolor": "white",
             "startlinecolor": "#2a3f5f"
            },
            "baxis": {
             "endlinecolor": "#2a3f5f",
             "gridcolor": "white",
             "linecolor": "white",
             "minorgridcolor": "white",
             "startlinecolor": "#2a3f5f"
            },
            "type": "carpet"
           }
          ],
          "choropleth": [
           {
            "colorbar": {
             "outlinewidth": 0,
             "ticks": ""
            },
            "type": "choropleth"
           }
          ],
          "contour": [
           {
            "colorbar": {
             "outlinewidth": 0,
             "ticks": ""
            },
            "colorscale": [
             [
              0,
              "#0d0887"
             ],
             [
              0.1111111111111111,
              "#46039f"
             ],
             [
              0.2222222222222222,
              "#7201a8"
             ],
             [
              0.3333333333333333,
              "#9c179e"
             ],
             [
              0.4444444444444444,
              "#bd3786"
             ],
             [
              0.5555555555555556,
              "#d8576b"
             ],
             [
              0.6666666666666666,
              "#ed7953"
             ],
             [
              0.7777777777777778,
              "#fb9f3a"
             ],
             [
              0.8888888888888888,
              "#fdca26"
             ],
             [
              1,
              "#f0f921"
             ]
            ],
            "type": "contour"
           }
          ],
          "contourcarpet": [
           {
            "colorbar": {
             "outlinewidth": 0,
             "ticks": ""
            },
            "type": "contourcarpet"
           }
          ],
          "heatmap": [
           {
            "colorbar": {
             "outlinewidth": 0,
             "ticks": ""
            },
            "colorscale": [
             [
              0,
              "#0d0887"
             ],
             [
              0.1111111111111111,
              "#46039f"
             ],
             [
              0.2222222222222222,
              "#7201a8"
             ],
             [
              0.3333333333333333,
              "#9c179e"
             ],
             [
              0.4444444444444444,
              "#bd3786"
             ],
             [
              0.5555555555555556,
              "#d8576b"
             ],
             [
              0.6666666666666666,
              "#ed7953"
             ],
             [
              0.7777777777777778,
              "#fb9f3a"
             ],
             [
              0.8888888888888888,
              "#fdca26"
             ],
             [
              1,
              "#f0f921"
             ]
            ],
            "type": "heatmap"
           }
          ],
          "heatmapgl": [
           {
            "colorbar": {
             "outlinewidth": 0,
             "ticks": ""
            },
            "colorscale": [
             [
              0,
              "#0d0887"
             ],
             [
              0.1111111111111111,
              "#46039f"
             ],
             [
              0.2222222222222222,
              "#7201a8"
             ],
             [
              0.3333333333333333,
              "#9c179e"
             ],
             [
              0.4444444444444444,
              "#bd3786"
             ],
             [
              0.5555555555555556,
              "#d8576b"
             ],
             [
              0.6666666666666666,
              "#ed7953"
             ],
             [
              0.7777777777777778,
              "#fb9f3a"
             ],
             [
              0.8888888888888888,
              "#fdca26"
             ],
             [
              1,
              "#f0f921"
             ]
            ],
            "type": "heatmapgl"
           }
          ],
          "histogram": [
           {
            "marker": {
             "pattern": {
              "fillmode": "overlay",
              "size": 10,
              "solidity": 0.2
             }
            },
            "type": "histogram"
           }
          ],
          "histogram2d": [
           {
            "colorbar": {
             "outlinewidth": 0,
             "ticks": ""
            },
            "colorscale": [
             [
              0,
              "#0d0887"
             ],
             [
              0.1111111111111111,
              "#46039f"
             ],
             [
              0.2222222222222222,
              "#7201a8"
             ],
             [
              0.3333333333333333,
              "#9c179e"
             ],
             [
              0.4444444444444444,
              "#bd3786"
             ],
             [
              0.5555555555555556,
              "#d8576b"
             ],
             [
              0.6666666666666666,
              "#ed7953"
             ],
             [
              0.7777777777777778,
              "#fb9f3a"
             ],
             [
              0.8888888888888888,
              "#fdca26"
             ],
             [
              1,
              "#f0f921"
             ]
            ],
            "type": "histogram2d"
           }
          ],
          "histogram2dcontour": [
           {
            "colorbar": {
             "outlinewidth": 0,
             "ticks": ""
            },
            "colorscale": [
             [
              0,
              "#0d0887"
             ],
             [
              0.1111111111111111,
              "#46039f"
             ],
             [
              0.2222222222222222,
              "#7201a8"
             ],
             [
              0.3333333333333333,
              "#9c179e"
             ],
             [
              0.4444444444444444,
              "#bd3786"
             ],
             [
              0.5555555555555556,
              "#d8576b"
             ],
             [
              0.6666666666666666,
              "#ed7953"
             ],
             [
              0.7777777777777778,
              "#fb9f3a"
             ],
             [
              0.8888888888888888,
              "#fdca26"
             ],
             [
              1,
              "#f0f921"
             ]
            ],
            "type": "histogram2dcontour"
           }
          ],
          "mesh3d": [
           {
            "colorbar": {
             "outlinewidth": 0,
             "ticks": ""
            },
            "type": "mesh3d"
           }
          ],
          "parcoords": [
           {
            "line": {
             "colorbar": {
              "outlinewidth": 0,
              "ticks": ""
             }
            },
            "type": "parcoords"
           }
          ],
          "pie": [
           {
            "automargin": true,
            "type": "pie"
           }
          ],
          "scatter": [
           {
            "fillpattern": {
             "fillmode": "overlay",
             "size": 10,
             "solidity": 0.2
            },
            "type": "scatter"
           }
          ],
          "scatter3d": [
           {
            "line": {
             "colorbar": {
              "outlinewidth": 0,
              "ticks": ""
             }
            },
            "marker": {
             "colorbar": {
              "outlinewidth": 0,
              "ticks": ""
             }
            },
            "type": "scatter3d"
           }
          ],
          "scattercarpet": [
           {
            "marker": {
             "colorbar": {
              "outlinewidth": 0,
              "ticks": ""
             }
            },
            "type": "scattercarpet"
           }
          ],
          "scattergeo": [
           {
            "marker": {
             "colorbar": {
              "outlinewidth": 0,
              "ticks": ""
             }
            },
            "type": "scattergeo"
           }
          ],
          "scattergl": [
           {
            "marker": {
             "colorbar": {
              "outlinewidth": 0,
              "ticks": ""
             }
            },
            "type": "scattergl"
           }
          ],
          "scattermapbox": [
           {
            "marker": {
             "colorbar": {
              "outlinewidth": 0,
              "ticks": ""
             }
            },
            "type": "scattermapbox"
           }
          ],
          "scatterpolar": [
           {
            "marker": {
             "colorbar": {
              "outlinewidth": 0,
              "ticks": ""
             }
            },
            "type": "scatterpolar"
           }
          ],
          "scatterpolargl": [
           {
            "marker": {
             "colorbar": {
              "outlinewidth": 0,
              "ticks": ""
             }
            },
            "type": "scatterpolargl"
           }
          ],
          "scatterternary": [
           {
            "marker": {
             "colorbar": {
              "outlinewidth": 0,
              "ticks": ""
             }
            },
            "type": "scatterternary"
           }
          ],
          "surface": [
           {
            "colorbar": {
             "outlinewidth": 0,
             "ticks": ""
            },
            "colorscale": [
             [
              0,
              "#0d0887"
             ],
             [
              0.1111111111111111,
              "#46039f"
             ],
             [
              0.2222222222222222,
              "#7201a8"
             ],
             [
              0.3333333333333333,
              "#9c179e"
             ],
             [
              0.4444444444444444,
              "#bd3786"
             ],
             [
              0.5555555555555556,
              "#d8576b"
             ],
             [
              0.6666666666666666,
              "#ed7953"
             ],
             [
              0.7777777777777778,
              "#fb9f3a"
             ],
             [
              0.8888888888888888,
              "#fdca26"
             ],
             [
              1,
              "#f0f921"
             ]
            ],
            "type": "surface"
           }
          ],
          "table": [
           {
            "cells": {
             "fill": {
              "color": "#EBF0F8"
             },
             "line": {
              "color": "white"
             }
            },
            "header": {
             "fill": {
              "color": "#C8D4E3"
             },
             "line": {
              "color": "white"
             }
            },
            "type": "table"
           }
          ]
         },
         "layout": {
          "annotationdefaults": {
           "arrowcolor": "#2a3f5f",
           "arrowhead": 0,
           "arrowwidth": 1
          },
          "autotypenumbers": "strict",
          "coloraxis": {
           "colorbar": {
            "outlinewidth": 0,
            "ticks": ""
           }
          },
          "colorscale": {
           "diverging": [
            [
             0,
             "#8e0152"
            ],
            [
             0.1,
             "#c51b7d"
            ],
            [
             0.2,
             "#de77ae"
            ],
            [
             0.3,
             "#f1b6da"
            ],
            [
             0.4,
             "#fde0ef"
            ],
            [
             0.5,
             "#f7f7f7"
            ],
            [
             0.6,
             "#e6f5d0"
            ],
            [
             0.7,
             "#b8e186"
            ],
            [
             0.8,
             "#7fbc41"
            ],
            [
             0.9,
             "#4d9221"
            ],
            [
             1,
             "#276419"
            ]
           ],
           "sequential": [
            [
             0,
             "#0d0887"
            ],
            [
             0.1111111111111111,
             "#46039f"
            ],
            [
             0.2222222222222222,
             "#7201a8"
            ],
            [
             0.3333333333333333,
             "#9c179e"
            ],
            [
             0.4444444444444444,
             "#bd3786"
            ],
            [
             0.5555555555555556,
             "#d8576b"
            ],
            [
             0.6666666666666666,
             "#ed7953"
            ],
            [
             0.7777777777777778,
             "#fb9f3a"
            ],
            [
             0.8888888888888888,
             "#fdca26"
            ],
            [
             1,
             "#f0f921"
            ]
           ],
           "sequentialminus": [
            [
             0,
             "#0d0887"
            ],
            [
             0.1111111111111111,
             "#46039f"
            ],
            [
             0.2222222222222222,
             "#7201a8"
            ],
            [
             0.3333333333333333,
             "#9c179e"
            ],
            [
             0.4444444444444444,
             "#bd3786"
            ],
            [
             0.5555555555555556,
             "#d8576b"
            ],
            [
             0.6666666666666666,
             "#ed7953"
            ],
            [
             0.7777777777777778,
             "#fb9f3a"
            ],
            [
             0.8888888888888888,
             "#fdca26"
            ],
            [
             1,
             "#f0f921"
            ]
           ]
          },
          "colorway": [
           "#636efa",
           "#EF553B",
           "#00cc96",
           "#ab63fa",
           "#FFA15A",
           "#19d3f3",
           "#FF6692",
           "#B6E880",
           "#FF97FF",
           "#FECB52"
          ],
          "font": {
           "color": "#2a3f5f"
          },
          "geo": {
           "bgcolor": "white",
           "lakecolor": "white",
           "landcolor": "#E5ECF6",
           "showlakes": true,
           "showland": true,
           "subunitcolor": "white"
          },
          "hoverlabel": {
           "align": "left"
          },
          "hovermode": "closest",
          "mapbox": {
           "style": "light"
          },
          "paper_bgcolor": "white",
          "plot_bgcolor": "#E5ECF6",
          "polar": {
           "angularaxis": {
            "gridcolor": "white",
            "linecolor": "white",
            "ticks": ""
           },
           "bgcolor": "#E5ECF6",
           "radialaxis": {
            "gridcolor": "white",
            "linecolor": "white",
            "ticks": ""
           }
          },
          "scene": {
           "xaxis": {
            "backgroundcolor": "#E5ECF6",
            "gridcolor": "white",
            "gridwidth": 2,
            "linecolor": "white",
            "showbackground": true,
            "ticks": "",
            "zerolinecolor": "white"
           },
           "yaxis": {
            "backgroundcolor": "#E5ECF6",
            "gridcolor": "white",
            "gridwidth": 2,
            "linecolor": "white",
            "showbackground": true,
            "ticks": "",
            "zerolinecolor": "white"
           },
           "zaxis": {
            "backgroundcolor": "#E5ECF6",
            "gridcolor": "white",
            "gridwidth": 2,
            "linecolor": "white",
            "showbackground": true,
            "ticks": "",
            "zerolinecolor": "white"
           }
          },
          "shapedefaults": {
           "line": {
            "color": "#2a3f5f"
           }
          },
          "ternary": {
           "aaxis": {
            "gridcolor": "white",
            "linecolor": "white",
            "ticks": ""
           },
           "baxis": {
            "gridcolor": "white",
            "linecolor": "white",
            "ticks": ""
           },
           "bgcolor": "#E5ECF6",
           "caxis": {
            "gridcolor": "white",
            "linecolor": "white",
            "ticks": ""
           }
          },
          "title": {
           "x": 0.05
          },
          "xaxis": {
           "automargin": true,
           "gridcolor": "white",
           "linecolor": "white",
           "ticks": "",
           "title": {
            "standoff": 15
           },
           "zerolinecolor": "white",
           "zerolinewidth": 2
          },
          "yaxis": {
           "automargin": true,
           "gridcolor": "white",
           "linecolor": "white",
           "ticks": "",
           "title": {
            "standoff": 15
           },
           "zerolinecolor": "white",
           "zerolinewidth": 2
          }
         }
        },
        "title": {
         "text": "Pessoa Física - Carteira Ativa por Modalidade de Crédito e Ocupação"
        },
        "updatemenus": [
         {
          "buttons": [
           {
            "args": [
             null,
             {
              "frame": {
               "duration": 500,
               "redraw": false
              },
              "fromcurrent": true,
              "mode": "immediate",
              "transition": {
               "duration": 500,
               "easing": "linear"
              }
             }
            ],
            "label": "&#9654;",
            "method": "animate"
           },
           {
            "args": [
             [
              null
             ],
             {
              "frame": {
               "duration": 0,
               "redraw": false
              },
              "fromcurrent": true,
              "mode": "immediate",
              "transition": {
               "duration": 0,
               "easing": "linear"
              }
             }
            ],
            "label": "&#9724;",
            "method": "animate"
           }
          ],
          "direction": "left",
          "pad": {
           "r": 10,
           "t": 70
          },
          "showactive": false,
          "type": "buttons",
          "x": 0.1,
          "xanchor": "right",
          "y": 0,
          "yanchor": "top"
         }
        ],
        "width": 800,
        "xaxis": {
         "anchor": "y",
         "autorange": true,
         "domain": [
          0,
          1
         ],
         "range": [
          "2012-12-31",
          "2022-12-31"
         ],
         "title": {
          "text": "Ocupação"
         },
         "type": "date"
        },
        "yaxis": {
         "anchor": "x",
         "autorange": true,
         "domain": [
          0,
          1
         ],
         "range": [
          9317333.699895717,
          1158409004.8648086
         ],
         "title": {
          "text": "Carteira Ativa"
         },
         "type": "linear"
        }
       }
      },
      "image/png": "[encoded data removed]",
      "text/html": [
       "<div>                            <div id=\"04a53f17-817a-4068-b200-7e8fa470d728\" class=\"plotly-graph-div\" style=\"height:500px; width:800px;\"></div>            <script type=\"text/javascript\">                require([\"plotly\"], function(Plotly) {                    window.PLOTLYENV=window.PLOTLYENV || {};                                    if (document.getElementById(\"04a53f17-817a-4068-b200-7e8fa470d728\")) {                    Plotly.newPlot(                        \"04a53f17-817a-4068-b200-7e8fa470d728\",                        [{\"hovertemplate\":\"modalidade=Cart\\u00e3o de cr\\u00e9dito\\u003cbr\\u003eocupacao=Aposentado\\u002fpensionista\\u003cbr\\u003edata_base=%{x}\\u003cbr\\u003ecarteira_ativa_deflacionada=%{y}\\u003cextra\\u003e\\u003c\\u002fextra\\u003e\",\"legendgroup\":\"Cart\\u00e3o de cr\\u00e9dito\",\"line\":{\"color\":\"#636efa\",\"dash\":\"solid\"},\"marker\":{\"symbol\":\"circle\"},\"mode\":\"lines\",\"name\":\"Cart\\u00e3o de cr\\u00e9dito\",\"orientation\":\"v\",\"showlegend\":true,\"x\":[\"2012-12-31T00:00:00\",\"2013-12-31T00:00:00\",\"2014-12-31T00:00:00\",\"2015-12-31T00:00:00\",\"2016-12-31T00:00:00\",\"2017-12-31T00:00:00\",\"2018-12-31T00:00:00\",\"2019-12-31T00:00:00\",\"2020-12-31T00:00:00\",\"2021-12-31T00:00:00\",\"2022-12-31T00:00:00\"],\"xaxis\":\"x\",\"y\":[11649456242.396486,12146987137.490875,12095124599.602398,11523329190.792904,21600075352.982323,27860707752.17314,33323296197.9917,36006628653.74703,33403872121.126904,35001747629.53996,39509114718.36855],\"yaxis\":\"y\",\"type\":\"scatter\"},{\"hovertemplate\":\"modalidade=Empr\\u00e9stimo com consigna\\u00e7\\u00e3o em folha\\u003cbr\\u003eocupacao=Aposentado\\u002fpensionista\\u003cbr\\u003edata_base=%{x}\\u003cbr\\u003ecarteira_ativa_deflacionada=%{y}\\u003cextra\\u003e\\u003c\\u002fextra\\u003e\",\"legendgroup\":\"Empr\\u00e9stimo com consigna\\u00e7\\u00e3o em folha\",\"line\":{\"color\":\"#EF553B\",\"dash\":\"solid\"},\"marker\":{\"symbol\":\"circle\"},\"mode\":\"lines\",\"name\":\"Empr\\u00e9stimo com consigna\\u00e7\\u00e3o em folha\",\"orientation\":\"v\",\"showlegend\":true,\"x\":[\"2012-12-31T00:00:00\",\"2013-12-31T00:00:00\",\"2014-12-31T00:00:00\",\"2015-12-31T00:00:00\",\"2016-12-31T00:00:00\",\"2017-12-31T00:00:00\",\"2018-12-31T00:00:00\",\"2019-12-31T00:00:00\",\"2020-12-31T00:00:00\",\"2021-12-31T00:00:00\",\"2022-12-31T00:00:00\"],\"xaxis\":\"x\",\"y\":[44548960895.667305,45688537511.81608,46452256142.50121,43111798049.64639,67611356320.182915,91885425507.29895,107258815627.43642,117232412514.50835,128692575306.83762,130231074941.0526,132120579672.4863],\"yaxis\":\"y\",\"type\":\"scatter\"},{\"hovertemplate\":\"modalidade=Empr\\u00e9stimo sem consigna\\u00e7\\u00e3o em folha\\u003cbr\\u003eocupacao=Aposentado\\u002fpensionista\\u003cbr\\u003edata_base=%{x}\\u003cbr\\u003ecarteira_ativa_deflacionada=%{y}\\u003cextra\\u003e\\u003c\\u002fextra\\u003e\",\"legendgroup\":\"Empr\\u00e9stimo sem consigna\\u00e7\\u00e3o em folha\",\"line\":{\"color\":\"#00cc96\",\"dash\":\"solid\"},\"marker\":{\"symbol\":\"circle\"},\"mode\":\"lines\",\"name\":\"Empr\\u00e9stimo sem consigna\\u00e7\\u00e3o em folha\",\"orientation\":\"v\",\"showlegend\":true,\"x\":[\"2012-12-31T00:00:00\",\"2013-12-31T00:00:00\",\"2014-12-31T00:00:00\",\"2015-12-31T00:00:00\",\"2016-12-31T00:00:00\",\"2017-12-31T00:00:00\",\"2018-12-31T00:00:00\",\"2019-12-31T00:00:00\",\"2020-12-31T00:00:00\",\"2021-12-31T00:00:00\",\"2022-12-31T00:00:00\"],\"xaxis\":\"x\",\"y\":[12721415010.992868,11757243930.448349,10497367092.11449,9807190065.667007,14037498813.247128,16997801898.350433,19405376628.14983,20287890513.440006,19191619643.667736,18908766535.894646,19400909092.35915],\"yaxis\":\"y\",\"type\":\"scatter\"},{\"hovertemplate\":\"modalidade=Habitacional\\u003cbr\\u003eocupacao=Aposentado\\u002fpensionista\\u003cbr\\u003edata_base=%{x}\\u003cbr\\u003ecarteira_ativa_deflacionada=%{y}\\u003cextra\\u003e\\u003c\\u002fextra\\u003e\",\"legendgroup\":\"Habitacional\",\"line\":{\"color\":\"#ab63fa\",\"dash\":\"solid\"},\"marker\":{\"symbol\":\"circle\"},\"mode\":\"lines\",\"name\":\"Habitacional\",\"orientation\":\"v\",\"showlegend\":true,\"x\":[\"2012-12-31T00:00:00\",\"2013-12-31T00:00:00\",\"2014-12-31T00:00:00\",\"2015-12-31T00:00:00\",\"2016-12-31T00:00:00\",\"2017-12-31T00:00:00\",\"2018-12-31T00:00:00\",\"2019-12-31T00:00:00\",\"2020-12-31T00:00:00\",\"2021-12-31T00:00:00\",\"2022-12-31T00:00:00\"],\"xaxis\":\"x\",\"y\":[6822871094.422692,7066019040.808469,7244882971.442112,6723610830.200577,18464654719.15479,21003060978.99248,25524131865.35645,24539695452.624977,24565929566.435463,21893567112.19072,22407864824.77908],\"yaxis\":\"y\",\"type\":\"scatter\"},{\"hovertemplate\":\"modalidade=Outros cr\\u00e9ditos\\u003cbr\\u003eocupacao=Aposentado\\u002fpensionista\\u003cbr\\u003edata_base=%{x}\\u003cbr\\u003ecarteira_ativa_deflacionada=%{y}\\u003cextra\\u003e\\u003c\\u002fextra\\u003e\",\"legendgroup\":\"Outros cr\\u00e9ditos\",\"line\":{\"color\":\"#FFA15A\",\"dash\":\"solid\"},\"marker\":{\"symbol\":\"circle\"},\"mode\":\"lines\",\"name\":\"Outros cr\\u00e9ditos\",\"orientation\":\"v\",\"showlegend\":true,\"x\":[\"2012-12-31T00:00:00\",\"2013-12-31T00:00:00\",\"2014-12-31T00:00:00\",\"2015-12-31T00:00:00\",\"2016-12-31T00:00:00\",\"2017-12-31T00:00:00\",\"2018-12-31T00:00:00\",\"2019-12-31T00:00:00\",\"2020-12-31T00:00:00\",\"2021-12-31T00:00:00\",\"2022-12-31T00:00:00\"],\"xaxis\":\"x\",\"y\":[6046914224.397723,5782601611.88595,5504565727.97248,5044527791.332464,8867149253.220686,10313771679.534334,11015658458.230154,10628909273.126928,11279376790.566044,10354854493.910435,11714965289.703686],\"yaxis\":\"y\",\"type\":\"scatter\"},{\"hovertemplate\":\"modalidade=Rural e agroindustrial\\u003cbr\\u003eocupacao=Aposentado\\u002fpensionista\\u003cbr\\u003edata_base=%{x}\\u003cbr\\u003ecarteira_ativa_deflacionada=%{y}\\u003cextra\\u003e\\u003c\\u002fextra\\u003e\",\"legendgroup\":\"Rural e agroindustrial\",\"line\":{\"color\":\"#19d3f3\",\"dash\":\"solid\"},\"marker\":{\"symbol\":\"circle\"},\"mode\":\"lines\",\"name\":\"Rural e agroindustrial\",\"orientation\":\"v\",\"showlegend\":true,\"x\":[\"2012-12-31T00:00:00\",\"2013-12-31T00:00:00\",\"2014-12-31T00:00:00\",\"2015-12-31T00:00:00\",\"2016-12-31T00:00:00\",\"2017-12-31T00:00:00\",\"2018-12-31T00:00:00\",\"2019-12-31T00:00:00\",\"2020-12-31T00:00:00\",\"2021-12-31T00:00:00\",\"2022-12-31T00:00:00\"],\"xaxis\":\"x\",\"y\":[3741827012.692486,4137611357.182113,4404718905.800009,3926190021.012566,6005922687.513799,6840145204.301142,7646240067.563783,7370578750.4496355,7617059749.150981,7877183486.583,9031262445.649666],\"yaxis\":\"y\",\"type\":\"scatter\"},{\"hovertemplate\":\"modalidade=Ve\\u00edculos\\u003cbr\\u003eocupacao=Aposentado\\u002fpensionista\\u003cbr\\u003edata_base=%{x}\\u003cbr\\u003ecarteira_ativa_deflacionada=%{y}\\u003cextra\\u003e\\u003c\\u002fextra\\u003e\",\"legendgroup\":\"Ve\\u00edculos\",\"line\":{\"color\":\"#FF6692\",\"dash\":\"solid\"},\"marker\":{\"symbol\":\"circle\"},\"mode\":\"lines\",\"name\":\"Ve\\u00edculos\",\"orientation\":\"v\",\"showlegend\":true,\"x\":[\"2012-12-31T00:00:00\",\"2013-12-31T00:00:00\",\"2014-12-31T00:00:00\",\"2015-12-31T00:00:00\",\"2016-12-31T00:00:00\",\"2017-12-31T00:00:00\",\"2018-12-31T00:00:00\",\"2019-12-31T00:00:00\",\"2020-12-31T00:00:00\",\"2021-12-31T00:00:00\",\"2022-12-31T00:00:00\"],\"xaxis\":\"x\",\"y\":[14294073347.257593,11934367009.420008,9782288985.639362,7105152344.611198,10865743045.517262,13286221849.41338,16235353594.719666,17467505121.228252,17041958551.700016,14103854625.387012,13497574359.294697],\"yaxis\":\"y\",\"type\":\"scatter\"}],                        {\"template\":{\"data\":{\"histogram2dcontour\":[{\"type\":\"histogram2dcontour\",\"colorbar\":{\"outlinewidth\":0,\"ticks\":\"\"},\"colorscale\":[[0.0,\"#0d0887\"],[0.1111111111111111,\"#46039f\"],[0.2222222222222222,\"#7201a8\"],[0.3333333333333333,\"#9c179e\"],[0.4444444444444444,\"#bd3786\"],[0.5555555555555556,\"#d8576b\"],[0.6666666666666666,\"#ed7953\"],[0.7777777777777778,\"#fb9f3a\"],[0.8888888888888888,\"#fdca26\"],[1.0,\"#f0f921\"]]}],\"choropleth\":[{\"type\":\"choropleth\",\"colorbar\":{\"outlinewidth\":0,\"ticks\":\"\"}}],\"histogram2d\":[{\"type\":\"histogram2d\",\"colorbar\":{\"outlinewidth\":0,\"ticks\":\"\"},\"colorscale\":[[0.0,\"#0d0887\"],[0.1111111111111111,\"#46039f\"],[0.2222222222222222,\"#7201a8\"],[0.3333333333333333,\"#9c179e\"],[0.4444444444444444,\"#bd3786\"],[0.5555555555555556,\"#d8576b\"],[0.6666666666666666,\"#ed7953\"],[0.7777777777777778,\"#fb9f3a\"],[0.8888888888888888,\"#fdca26\"],[1.0,\"#f0f921\"]]}],\"heatmap\":[{\"type\":\"heatmap\",\"colorbar\":{\"outlinewidth\":0,\"ticks\":\"\"},\"colorscale\":[[0.0,\"#0d0887\"],[0.1111111111111111,\"#46039f\"],[0.2222222222222222,\"#7201a8\"],[0.3333333333333333,\"#9c179e\"],[0.4444444444444444,\"#bd3786\"],[0.5555555555555556,\"#d8576b\"],[0.6666666666666666,\"#ed7953\"],[0.7777777777777778,\"#fb9f3a\"],[0.8888888888888888,\"#fdca26\"],[1.0,\"#f0f921\"]]}],\"heatmapgl\":[{\"type\":\"heatmapgl\",\"colorbar\":{\"outlinewidth\":0,\"ticks\":\"\"},\"colorscale\":[[0.0,\"#0d0887\"],[0.1111111111111111,\"#46039f\"],[0.2222222222222222,\"#7201a8\"],[0.3333333333333333,\"#9c179e\"],[0.4444444444444444,\"#bd3786\"],[0.5555555555555556,\"#d8576b\"],[0.6666666666666666,\"#ed7953\"],[0.7777777777777778,\"#fb9f3a\"],[0.8888888888888888,\"#fdca26\"],[1.0,\"#f0f921\"]]}],\"contourcarpet\":[{\"type\":\"contourcarpet\",\"colorbar\":{\"outlinewidth\":0,\"ticks\":\"\"}}],\"contour\":[{\"type\":\"contour\",\"colorbar\":{\"outlinewidth\":0,\"ticks\":\"\"},\"colorscale\":[[0.0,\"#0d0887\"],[0.1111111111111111,\"#46039f\"],[0.2222222222222222,\"#7201a8\"],[0.3333333333333333,\"#9c179e\"],[0.4444444444444444,\"#bd3786\"],[0.5555555555555556,\"#d8576b\"],[0.6666666666666666,\"#ed7953\"],[0.7777777777777778,\"#fb9f3a\"],[0.8888888888888888,\"#fdca26\"],[1.0,\"#f0f921\"]]}],\"surface\":[{\"type\":\"surface\",\"colorbar\":{\"outlinewidth\":0,\"ticks\":\"\"},\"colorscale\":[[0.0,\"#0d0887\"],[0.1111111111111111,\"#46039f\"],[0.2222222222222222,\"#7201a8\"],[0.3333333333333333,\"#9c179e\"],[0.4444444444444444,\"#bd3786\"],[0.5555555555555556,\"#d8576b\"],[0.6666666666666666,\"#ed7953\"],[0.7777777777777778,\"#fb9f3a\"],[0.8888888888888888,\"#fdca26\"],[1.0,\"#f0f921\"]]}],\"mesh3d\":[{\"type\":\"mesh3d\",\"colorbar\":{\"outlinewidth\":0,\"ticks\":\"\"}}],\"scatter\":[{\"fillpattern\":{\"fillmode\":\"overlay\",\"size\":10,\"solidity\":0.2},\"type\":\"scatter\"}],\"parcoords\":[{\"type\":\"parcoords\",\"line\":{\"colorbar\":{\"outlinewidth\":0,\"ticks\":\"\"}}}],\"scatterpolargl\":[{\"type\":\"scatterpolargl\",\"marker\":{\"colorbar\":{\"outlinewidth\":0,\"ticks\":\"\"}}}],\"bar\":[{\"error_x\":{\"color\":\"#2a3f5f\"},\"error_y\":{\"color\":\"#2a3f5f\"},\"marker\":{\"line\":{\"color\":\"#E5ECF6\",\"width\":0.5},\"pattern\":{\"fillmode\":\"overlay\",\"size\":10,\"solidity\":0.2}},\"type\":\"bar\"}],\"scattergeo\":[{\"type\":\"scattergeo\",\"marker\":{\"colorbar\":{\"outlinewidth\":0,\"ticks\":\"\"}}}],\"scatterpolar\":[{\"type\":\"scatterpolar\",\"marker\":{\"colorbar\":{\"outlinewidth\":0,\"ticks\":\"\"}}}],\"histogram\":[{\"marker\":{\"pattern\":{\"fillmode\":\"overlay\",\"size\":10,\"solidity\":0.2}},\"type\":\"histogram\"}],\"scattergl\":[{\"type\":\"scattergl\",\"marker\":{\"colorbar\":{\"outlinewidth\":0,\"ticks\":\"\"}}}],\"scatter3d\":[{\"type\":\"scatter3d\",\"line\":{\"colorbar\":{\"outlinewidth\":0,\"ticks\":\"\"}},\"marker\":{\"colorbar\":{\"outlinewidth\":0,\"ticks\":\"\"}}}],\"scattermapbox\":[{\"type\":\"scattermapbox\",\"marker\":{\"colorbar\":{\"outlinewidth\":0,\"ticks\":\"\"}}}],\"scatterternary\":[{\"type\":\"scatterternary\",\"marker\":{\"colorbar\":{\"outlinewidth\":0,\"ticks\":\"\"}}}],\"scattercarpet\":[{\"type\":\"scattercarpet\",\"marker\":{\"colorbar\":{\"outlinewidth\":0,\"ticks\":\"\"}}}],\"carpet\":[{\"aaxis\":{\"endlinecolor\":\"#2a3f5f\",\"gridcolor\":\"white\",\"linecolor\":\"white\",\"minorgridcolor\":\"white\",\"startlinecolor\":\"#2a3f5f\"},\"baxis\":{\"endlinecolor\":\"#2a3f5f\",\"gridcolor\":\"white\",\"linecolor\":\"white\",\"minorgridcolor\":\"white\",\"startlinecolor\":\"#2a3f5f\"},\"type\":\"carpet\"}],\"table\":[{\"cells\":{\"fill\":{\"color\":\"#EBF0F8\"},\"line\":{\"color\":\"white\"}},\"header\":{\"fill\":{\"color\":\"#C8D4E3\"},\"line\":{\"color\":\"white\"}},\"type\":\"table\"}],\"barpolar\":[{\"marker\":{\"line\":{\"color\":\"#E5ECF6\",\"width\":0.5},\"pattern\":{\"fillmode\":\"overlay\",\"size\":10,\"solidity\":0.2}},\"type\":\"barpolar\"}],\"pie\":[{\"automargin\":true,\"type\":\"pie\"}]},\"layout\":{\"autotypenumbers\":\"strict\",\"colorway\":[\"#636efa\",\"#EF553B\",\"#00cc96\",\"#ab63fa\",\"#FFA15A\",\"#19d3f3\",\"#FF6692\",\"#B6E880\",\"#FF97FF\",\"#FECB52\"],\"font\":{\"color\":\"#2a3f5f\"},\"hovermode\":\"closest\",\"hoverlabel\":{\"align\":\"left\"},\"paper_bgcolor\":\"white\",\"plot_bgcolor\":\"#E5ECF6\",\"polar\":{\"bgcolor\":\"#E5ECF6\",\"angularaxis\":{\"gridcolor\":\"white\",\"linecolor\":\"white\",\"ticks\":\"\"},\"radialaxis\":{\"gridcolor\":\"white\",\"linecolor\":\"white\",\"ticks\":\"\"}},\"ternary\":{\"bgcolor\":\"#E5ECF6\",\"aaxis\":{\"gridcolor\":\"white\",\"linecolor\":\"white\",\"ticks\":\"\"},\"baxis\":{\"gridcolor\":\"white\",\"linecolor\":\"white\",\"ticks\":\"\"},\"caxis\":{\"gridcolor\":\"white\",\"linecolor\":\"white\",\"ticks\":\"\"}},\"coloraxis\":{\"colorbar\":{\"outlinewidth\":0,\"ticks\":\"\"}},\"colorscale\":{\"sequential\":[[0.0,\"#0d0887\"],[0.1111111111111111,\"#46039f\"],[0.2222222222222222,\"#7201a8\"],[0.3333333333333333,\"#9c179e\"],[0.4444444444444444,\"#bd3786\"],[0.5555555555555556,\"#d8576b\"],[0.6666666666666666,\"#ed7953\"],[0.7777777777777778,\"#fb9f3a\"],[0.8888888888888888,\"#fdca26\"],[1.0,\"#f0f921\"]],\"sequentialminus\":[[0.0,\"#0d0887\"],[0.1111111111111111,\"#46039f\"],[0.2222222222222222,\"#7201a8\"],[0.3333333333333333,\"#9c179e\"],[0.4444444444444444,\"#bd3786\"],[0.5555555555555556,\"#d8576b\"],[0.6666666666666666,\"#ed7953\"],[0.7777777777777778,\"#fb9f3a\"],[0.8888888888888888,\"#fdca26\"],[1.0,\"#f0f921\"]],\"diverging\":[[0,\"#8e0152\"],[0.1,\"#c51b7d\"],[0.2,\"#de77ae\"],[0.3,\"#f1b6da\"],[0.4,\"#fde0ef\"],[0.5,\"#f7f7f7\"],[0.6,\"#e6f5d0\"],[0.7,\"#b8e186\"],[0.8,\"#7fbc41\"],[0.9,\"#4d9221\"],[1,\"#276419\"]]},\"xaxis\":{\"gridcolor\":\"white\",\"linecolor\":\"white\",\"ticks\":\"\",\"title\":{\"standoff\":15},\"zerolinecolor\":\"white\",\"automargin\":true,\"zerolinewidth\":2},\"yaxis\":{\"gridcolor\":\"white\",\"linecolor\":\"white\",\"ticks\":\"\",\"title\":{\"standoff\":15},\"zerolinecolor\":\"white\",\"automargin\":true,\"zerolinewidth\":2},\"scene\":{\"xaxis\":{\"backgroundcolor\":\"#E5ECF6\",\"gridcolor\":\"white\",\"linecolor\":\"white\",\"showbackground\":true,\"ticks\":\"\",\"zerolinecolor\":\"white\",\"gridwidth\":2},\"yaxis\":{\"backgroundcolor\":\"#E5ECF6\",\"gridcolor\":\"white\",\"linecolor\":\"white\",\"showbackground\":true,\"ticks\":\"\",\"zerolinecolor\":\"white\",\"gridwidth\":2},\"zaxis\":{\"backgroundcolor\":\"#E5ECF6\",\"gridcolor\":\"white\",\"linecolor\":\"white\",\"showbackground\":true,\"ticks\":\"\",\"zerolinecolor\":\"white\",\"gridwidth\":2}},\"shapedefaults\":{\"line\":{\"color\":\"#2a3f5f\"}},\"annotationdefaults\":{\"arrowcolor\":\"#2a3f5f\",\"arrowhead\":0,\"arrowwidth\":1},\"geo\":{\"bgcolor\":\"white\",\"landcolor\":\"#E5ECF6\",\"subunitcolor\":\"white\",\"showland\":true,\"showlakes\":true,\"lakecolor\":\"white\"},\"title\":{\"x\":0.05},\"mapbox\":{\"style\":\"light\"}}},\"xaxis\":{\"anchor\":\"y\",\"domain\":[0.0,1.0],\"title\":{\"text\":\"Ocupa\\u00e7\\u00e3o\"}},\"yaxis\":{\"anchor\":\"x\",\"domain\":[0.0,1.0],\"title\":{\"text\":\"Carteira Ativa\"}},\"legend\":{\"title\":{\"text\":\"modalidade\"},\"tracegroupgap\":0},\"margin\":{\"t\":60},\"updatemenus\":[{\"buttons\":[{\"args\":[null,{\"frame\":{\"duration\":500,\"redraw\":false},\"mode\":\"immediate\",\"fromcurrent\":true,\"transition\":{\"duration\":500,\"easing\":\"linear\"}}],\"label\":\"&#9654;\",\"method\":\"animate\"},{\"args\":[[null],{\"frame\":{\"duration\":0,\"redraw\":false},\"mode\":\"immediate\",\"fromcurrent\":true,\"transition\":{\"duration\":0,\"easing\":\"linear\"}}],\"label\":\"&#9724;\",\"method\":\"animate\"}],\"direction\":\"left\",\"pad\":{\"r\":10,\"t\":70},\"showactive\":false,\"type\":\"buttons\",\"x\":0.1,\"xanchor\":\"right\",\"y\":0,\"yanchor\":\"top\"}],\"sliders\":[{\"active\":0,\"currentvalue\":{\"prefix\":\"ocupacao=\"},\"len\":0.9,\"pad\":{\"b\":10,\"t\":60},\"steps\":[{\"args\":[[\"Aposentado\\u002fpensionista\"],{\"frame\":{\"duration\":0,\"redraw\":false},\"mode\":\"immediate\",\"fromcurrent\":true,\"transition\":{\"duration\":0,\"easing\":\"linear\"}}],\"label\":\"Aposentado\\u002fpensionista\",\"method\":\"animate\"},{\"args\":[[\"Aut\\u00f4nomo\"],{\"frame\":{\"duration\":0,\"redraw\":false},\"mode\":\"immediate\",\"fromcurrent\":true,\"transition\":{\"duration\":0,\"easing\":\"linear\"}}],\"label\":\"Aut\\u00f4nomo\",\"method\":\"animate\"},{\"args\":[[\"Empregado de empresa privada\"],{\"frame\":{\"duration\":0,\"redraw\":false},\"mode\":\"immediate\",\"fromcurrent\":true,\"transition\":{\"duration\":0,\"easing\":\"linear\"}}],\"label\":\"Empregado de empresa privada\",\"method\":\"animate\"},{\"args\":[[\"Empregado de entidades sem fins lucrativos\"],{\"frame\":{\"duration\":0,\"redraw\":false},\"mode\":\"immediate\",\"fromcurrent\":true,\"transition\":{\"duration\":0,\"easing\":\"linear\"}}],\"label\":\"Empregado de entidades sem fins lucrativos\",\"method\":\"animate\"},{\"args\":[[\"Empres\\u00e1rio\"],{\"frame\":{\"duration\":0,\"redraw\":false},\"mode\":\"immediate\",\"fromcurrent\":true,\"transition\":{\"duration\":0,\"easing\":\"linear\"}}],\"label\":\"Empres\\u00e1rio\",\"method\":\"animate\"},{\"args\":[[\"MEI\"],{\"frame\":{\"duration\":0,\"redraw\":false},\"mode\":\"immediate\",\"fromcurrent\":true,\"transition\":{\"duration\":0,\"easing\":\"linear\"}}],\"label\":\"MEI\",\"method\":\"animate\"},{\"args\":[[\"Outros\"],{\"frame\":{\"duration\":0,\"redraw\":false},\"mode\":\"immediate\",\"fromcurrent\":true,\"transition\":{\"duration\":0,\"easing\":\"linear\"}}],\"label\":\"Outros\",\"method\":\"animate\"},{\"args\":[[\"Servidor ou empregado p\\u00fablico\"],{\"frame\":{\"duration\":0,\"redraw\":false},\"mode\":\"immediate\",\"fromcurrent\":true,\"transition\":{\"duration\":0,\"easing\":\"linear\"}}],\"label\":\"Servidor ou empregado p\\u00fablico\",\"method\":\"animate\"}],\"x\":0.1,\"xanchor\":\"left\",\"y\":0,\"yanchor\":\"top\"}],\"title\":{\"text\":\"Pessoa F\\u00edsica - Carteira Ativa por Modalidade de Cr\\u00e9dito e Ocupa\\u00e7\\u00e3o\"},\"height\":500,\"width\":800},                        {\"responsive\": true}                    ).then(function(){\n",
       "                            Plotly.addFrames('04a53f17-817a-4068-b200-7e8fa470d728', [{\"data\":[{\"hovertemplate\":\"modalidade=Cart\\u00e3o de cr\\u00e9dito\\u003cbr\\u003eocupacao=Aposentado\\u002fpensionista\\u003cbr\\u003edata_base=%{x}\\u003cbr\\u003ecarteira_ativa_deflacionada=%{y}\\u003cextra\\u003e\\u003c\\u002fextra\\u003e\",\"legendgroup\":\"Cart\\u00e3o de cr\\u00e9dito\",\"line\":{\"color\":\"#636efa\",\"dash\":\"solid\"},\"marker\":{\"symbol\":\"circle\"},\"mode\":\"lines\",\"name\":\"Cart\\u00e3o de cr\\u00e9dito\",\"orientation\":\"v\",\"showlegend\":true,\"x\":[\"2012-12-31T00:00:00\",\"2013-12-31T00:00:00\",\"2014-12-31T00:00:00\",\"2015-12-31T00:00:00\",\"2016-12-31T00:00:00\",\"2017-12-31T00:00:00\",\"2018-12-31T00:00:00\",\"2019-12-31T00:00:00\",\"2020-12-31T00:00:00\",\"2021-12-31T00:00:00\",\"2022-12-31T00:00:00\"],\"xaxis\":\"x\",\"y\":[11649456242.396486,12146987137.490875,12095124599.602398,11523329190.792904,21600075352.982323,27860707752.17314,33323296197.9917,36006628653.74703,33403872121.126904,35001747629.53996,39509114718.36855],\"yaxis\":\"y\",\"type\":\"scatter\"},{\"hovertemplate\":\"modalidade=Empr\\u00e9stimo com consigna\\u00e7\\u00e3o em folha\\u003cbr\\u003eocupacao=Aposentado\\u002fpensionista\\u003cbr\\u003edata_base=%{x}\\u003cbr\\u003ecarteira_ativa_deflacionada=%{y}\\u003cextra\\u003e\\u003c\\u002fextra\\u003e\",\"legendgroup\":\"Empr\\u00e9stimo com consigna\\u00e7\\u00e3o em folha\",\"line\":{\"color\":\"#EF553B\",\"dash\":\"solid\"},\"marker\":{\"symbol\":\"circle\"},\"mode\":\"lines\",\"name\":\"Empr\\u00e9stimo com consigna\\u00e7\\u00e3o em folha\",\"orientation\":\"v\",\"showlegend\":true,\"x\":[\"2012-12-31T00:00:00\",\"2013-12-31T00:00:00\",\"2014-12-31T00:00:00\",\"2015-12-31T00:00:00\",\"2016-12-31T00:00:00\",\"2017-12-31T00:00:00\",\"2018-12-31T00:00:00\",\"2019-12-31T00:00:00\",\"2020-12-31T00:00:00\",\"2021-12-31T00:00:00\",\"2022-12-31T00:00:00\"],\"xaxis\":\"x\",\"y\":[44548960895.667305,45688537511.81608,46452256142.50121,43111798049.64639,67611356320.182915,91885425507.29895,107258815627.43642,117232412514.50835,128692575306.83762,130231074941.0526,132120579672.4863],\"yaxis\":\"y\",\"type\":\"scatter\"},{\"hovertemplate\":\"modalidade=Empr\\u00e9stimo sem consigna\\u00e7\\u00e3o em folha\\u003cbr\\u003eocupacao=Aposentado\\u002fpensionista\\u003cbr\\u003edata_base=%{x}\\u003cbr\\u003ecarteira_ativa_deflacionada=%{y}\\u003cextra\\u003e\\u003c\\u002fextra\\u003e\",\"legendgroup\":\"Empr\\u00e9stimo sem consigna\\u00e7\\u00e3o em folha\",\"line\":{\"color\":\"#00cc96\",\"dash\":\"solid\"},\"marker\":{\"symbol\":\"circle\"},\"mode\":\"lines\",\"name\":\"Empr\\u00e9stimo sem consigna\\u00e7\\u00e3o em folha\",\"orientation\":\"v\",\"showlegend\":true,\"x\":[\"2012-12-31T00:00:00\",\"2013-12-31T00:00:00\",\"2014-12-31T00:00:00\",\"2015-12-31T00:00:00\",\"2016-12-31T00:00:00\",\"2017-12-31T00:00:00\",\"2018-12-31T00:00:00\",\"2019-12-31T00:00:00\",\"2020-12-31T00:00:00\",\"2021-12-31T00:00:00\",\"2022-12-31T00:00:00\"],\"xaxis\":\"x\",\"y\":[12721415010.992868,11757243930.448349,10497367092.11449,9807190065.667007,14037498813.247128,16997801898.350433,19405376628.14983,20287890513.440006,19191619643.667736,18908766535.894646,19400909092.35915],\"yaxis\":\"y\",\"type\":\"scatter\"},{\"hovertemplate\":\"modalidade=Habitacional\\u003cbr\\u003eocupacao=Aposentado\\u002fpensionista\\u003cbr\\u003edata_base=%{x}\\u003cbr\\u003ecarteira_ativa_deflacionada=%{y}\\u003cextra\\u003e\\u003c\\u002fextra\\u003e\",\"legendgroup\":\"Habitacional\",\"line\":{\"color\":\"#ab63fa\",\"dash\":\"solid\"},\"marker\":{\"symbol\":\"circle\"},\"mode\":\"lines\",\"name\":\"Habitacional\",\"orientation\":\"v\",\"showlegend\":true,\"x\":[\"2012-12-31T00:00:00\",\"2013-12-31T00:00:00\",\"2014-12-31T00:00:00\",\"2015-12-31T00:00:00\",\"2016-12-31T00:00:00\",\"2017-12-31T00:00:00\",\"2018-12-31T00:00:00\",\"2019-12-31T00:00:00\",\"2020-12-31T00:00:00\",\"2021-12-31T00:00:00\",\"2022-12-31T00:00:00\"],\"xaxis\":\"x\",\"y\":[6822871094.422692,7066019040.808469,7244882971.442112,6723610830.200577,18464654719.15479,21003060978.99248,25524131865.35645,24539695452.624977,24565929566.435463,21893567112.19072,22407864824.77908],\"yaxis\":\"y\",\"type\":\"scatter\"},{\"hovertemplate\":\"modalidade=Outros cr\\u00e9ditos\\u003cbr\\u003eocupacao=Aposentado\\u002fpensionista\\u003cbr\\u003edata_base=%{x}\\u003cbr\\u003ecarteira_ativa_deflacionada=%{y}\\u003cextra\\u003e\\u003c\\u002fextra\\u003e\",\"legendgroup\":\"Outros cr\\u00e9ditos\",\"line\":{\"color\":\"#FFA15A\",\"dash\":\"solid\"},\"marker\":{\"symbol\":\"circle\"},\"mode\":\"lines\",\"name\":\"Outros cr\\u00e9ditos\",\"orientation\":\"v\",\"showlegend\":true,\"x\":[\"2012-12-31T00:00:00\",\"2013-12-31T00:00:00\",\"2014-12-31T00:00:00\",\"2015-12-31T00:00:00\",\"2016-12-31T00:00:00\",\"2017-12-31T00:00:00\",\"2018-12-31T00:00:00\",\"2019-12-31T00:00:00\",\"2020-12-31T00:00:00\",\"2021-12-31T00:00:00\",\"2022-12-31T00:00:00\"],\"xaxis\":\"x\",\"y\":[6046914224.397723,5782601611.88595,5504565727.97248,5044527791.332464,8867149253.220686,10313771679.534334,11015658458.230154,10628909273.126928,11279376790.566044,10354854493.910435,11714965289.703686],\"yaxis\":\"y\",\"type\":\"scatter\"},{\"hovertemplate\":\"modalidade=Rural e agroindustrial\\u003cbr\\u003eocupacao=Aposentado\\u002fpensionista\\u003cbr\\u003edata_base=%{x}\\u003cbr\\u003ecarteira_ativa_deflacionada=%{y}\\u003cextra\\u003e\\u003c\\u002fextra\\u003e\",\"legendgroup\":\"Rural e agroindustrial\",\"line\":{\"color\":\"#19d3f3\",\"dash\":\"solid\"},\"marker\":{\"symbol\":\"circle\"},\"mode\":\"lines\",\"name\":\"Rural e agroindustrial\",\"orientation\":\"v\",\"showlegend\":true,\"x\":[\"2012-12-31T00:00:00\",\"2013-12-31T00:00:00\",\"2014-12-31T00:00:00\",\"2015-12-31T00:00:00\",\"2016-12-31T00:00:00\",\"2017-12-31T00:00:00\",\"2018-12-31T00:00:00\",\"2019-12-31T00:00:00\",\"2020-12-31T00:00:00\",\"2021-12-31T00:00:00\",\"2022-12-31T00:00:00\"],\"xaxis\":\"x\",\"y\":[3741827012.692486,4137611357.182113,4404718905.800009,3926190021.012566,6005922687.513799,6840145204.301142,7646240067.563783,7370578750.4496355,7617059749.150981,7877183486.583,9031262445.649666],\"yaxis\":\"y\",\"type\":\"scatter\"},{\"hovertemplate\":\"modalidade=Ve\\u00edculos\\u003cbr\\u003eocupacao=Aposentado\\u002fpensionista\\u003cbr\\u003edata_base=%{x}\\u003cbr\\u003ecarteira_ativa_deflacionada=%{y}\\u003cextra\\u003e\\u003c\\u002fextra\\u003e\",\"legendgroup\":\"Ve\\u00edculos\",\"line\":{\"color\":\"#FF6692\",\"dash\":\"solid\"},\"marker\":{\"symbol\":\"circle\"},\"mode\":\"lines\",\"name\":\"Ve\\u00edculos\",\"orientation\":\"v\",\"showlegend\":true,\"x\":[\"2012-12-31T00:00:00\",\"2013-12-31T00:00:00\",\"2014-12-31T00:00:00\",\"2015-12-31T00:00:00\",\"2016-12-31T00:00:00\",\"2017-12-31T00:00:00\",\"2018-12-31T00:00:00\",\"2019-12-31T00:00:00\",\"2020-12-31T00:00:00\",\"2021-12-31T00:00:00\",\"2022-12-31T00:00:00\"],\"xaxis\":\"x\",\"y\":[14294073347.257593,11934367009.420008,9782288985.639362,7105152344.611198,10865743045.517262,13286221849.41338,16235353594.719666,17467505121.228252,17041958551.700016,14103854625.387012,13497574359.294697],\"yaxis\":\"y\",\"type\":\"scatter\"}],\"name\":\"Aposentado\\u002fpensionista\"},{\"data\":[{\"hovertemplate\":\"modalidade=Cart\\u00e3o de cr\\u00e9dito\\u003cbr\\u003eocupacao=Aut\\u00f4nomo\\u003cbr\\u003edata_base=%{x}\\u003cbr\\u003ecarteira_ativa_deflacionada=%{y}\\u003cextra\\u003e\\u003c\\u002fextra\\u003e\",\"legendgroup\":\"Cart\\u00e3o de cr\\u00e9dito\",\"line\":{\"color\":\"#636efa\",\"dash\":\"solid\"},\"marker\":{\"symbol\":\"circle\"},\"mode\":\"lines\",\"name\":\"Cart\\u00e3o de cr\\u00e9dito\",\"orientation\":\"v\",\"showlegend\":true,\"x\":[\"2012-12-31T00:00:00\",\"2013-12-31T00:00:00\",\"2014-12-31T00:00:00\",\"2015-12-31T00:00:00\",\"2016-12-31T00:00:00\",\"2017-12-31T00:00:00\",\"2018-12-31T00:00:00\",\"2019-12-31T00:00:00\",\"2020-12-31T00:00:00\",\"2021-12-31T00:00:00\",\"2022-12-31T00:00:00\"],\"xaxis\":\"x\",\"y\":[14543766298.159582,15726280963.57241,16424230436.104967,15343497969.59085,10702294705.661724,16692439294.146519,18786195926.557632,21106253444.399944,20691437967.067192,25729037914.634804,30285087820.85206],\"yaxis\":\"y\",\"type\":\"scatter\"},{\"hovertemplate\":\"modalidade=Empr\\u00e9stimo com consigna\\u00e7\\u00e3o em folha\\u003cbr\\u003eocupacao=Aut\\u00f4nomo\\u003cbr\\u003edata_base=%{x}\\u003cbr\\u003ecarteira_ativa_deflacionada=%{y}\\u003cextra\\u003e\\u003c\\u002fextra\\u003e\",\"legendgroup\":\"Empr\\u00e9stimo com consigna\\u00e7\\u00e3o em folha\",\"line\":{\"color\":\"#EF553B\",\"dash\":\"solid\"},\"marker\":{\"symbol\":\"circle\"},\"mode\":\"lines\",\"name\":\"Empr\\u00e9stimo com consigna\\u00e7\\u00e3o em folha\",\"orientation\":\"v\",\"showlegend\":true,\"x\":[\"2012-12-31T00:00:00\",\"2013-12-31T00:00:00\",\"2014-12-31T00:00:00\",\"2015-12-31T00:00:00\",\"2016-12-31T00:00:00\",\"2017-12-31T00:00:00\",\"2018-12-31T00:00:00\",\"2019-12-31T00:00:00\",\"2020-12-31T00:00:00\",\"2021-12-31T00:00:00\",\"2022-12-31T00:00:00\"],\"xaxis\":\"x\",\"y\":[5990634222.581792,7241198182.303656,8107407113.54584,8312156421.429651,2488744229.5122037,6479067361.382858,6757914020.880258,7342286125.013243,8328526719.632896,8983692053.883448,10211466435.792597],\"yaxis\":\"y\",\"type\":\"scatter\"},{\"hovertemplate\":\"modalidade=Empr\\u00e9stimo sem consigna\\u00e7\\u00e3o em folha\\u003cbr\\u003eocupacao=Aut\\u00f4nomo\\u003cbr\\u003edata_base=%{x}\\u003cbr\\u003ecarteira_ativa_deflacionada=%{y}\\u003cextra\\u003e\\u003c\\u002fextra\\u003e\",\"legendgroup\":\"Empr\\u00e9stimo sem consigna\\u00e7\\u00e3o em folha\",\"line\":{\"color\":\"#00cc96\",\"dash\":\"solid\"},\"marker\":{\"symbol\":\"circle\"},\"mode\":\"lines\",\"name\":\"Empr\\u00e9stimo sem consigna\\u00e7\\u00e3o em folha\",\"orientation\":\"v\",\"showlegend\":true,\"x\":[\"2012-12-31T00:00:00\",\"2013-12-31T00:00:00\",\"2014-12-31T00:00:00\",\"2015-12-31T00:00:00\",\"2016-12-31T00:00:00\",\"2017-12-31T00:00:00\",\"2018-12-31T00:00:00\",\"2019-12-31T00:00:00\",\"2020-12-31T00:00:00\",\"2021-12-31T00:00:00\",\"2022-12-31T00:00:00\"],\"xaxis\":\"x\",\"y\":[12256329565.567074,11929866434.232958,10942690700.46465,10042445765.314777,7020629236.278209,8948840343.864162,9965746606.569754,11761901888.491743,12357522631.663183,15460381894.500984,17371119697.582973],\"yaxis\":\"y\",\"type\":\"scatter\"},{\"hovertemplate\":\"modalidade=Habitacional\\u003cbr\\u003eocupacao=Aut\\u00f4nomo\\u003cbr\\u003edata_base=%{x}\\u003cbr\\u003ecarteira_ativa_deflacionada=%{y}\\u003cextra\\u003e\\u003c\\u002fextra\\u003e\",\"legendgroup\":\"Habitacional\",\"line\":{\"color\":\"#ab63fa\",\"dash\":\"solid\"},\"marker\":{\"symbol\":\"circle\"},\"mode\":\"lines\",\"name\":\"Habitacional\",\"orientation\":\"v\",\"showlegend\":true,\"x\":[\"2012-12-31T00:00:00\",\"2013-12-31T00:00:00\",\"2014-12-31T00:00:00\",\"2015-12-31T00:00:00\",\"2016-12-31T00:00:00\",\"2017-12-31T00:00:00\",\"2018-12-31T00:00:00\",\"2019-12-31T00:00:00\",\"2020-12-31T00:00:00\",\"2021-12-31T00:00:00\",\"2022-12-31T00:00:00\"],\"xaxis\":\"x\",\"y\":[32888143711.634212,40016962320.4546,47036473643.02001,46943152370.383316,34319339079.962463,49876725589.65222,48567558466.757385,48421908510.2714,50578468199.60302,52041407855.82084,55101343045.40415],\"yaxis\":\"y\",\"type\":\"scatter\"},{\"hovertemplate\":\"modalidade=Outros cr\\u00e9ditos\\u003cbr\\u003eocupacao=Aut\\u00f4nomo\\u003cbr\\u003edata_base=%{x}\\u003cbr\\u003ecarteira_ativa_deflacionada=%{y}\\u003cextra\\u003e\\u003c\\u002fextra\\u003e\",\"legendgroup\":\"Outros cr\\u00e9ditos\",\"line\":{\"color\":\"#FFA15A\",\"dash\":\"solid\"},\"marker\":{\"symbol\":\"circle\"},\"mode\":\"lines\",\"name\":\"Outros cr\\u00e9ditos\",\"orientation\":\"v\",\"showlegend\":true,\"x\":[\"2012-12-31T00:00:00\",\"2013-12-31T00:00:00\",\"2014-12-31T00:00:00\",\"2015-12-31T00:00:00\",\"2016-12-31T00:00:00\",\"2017-12-31T00:00:00\",\"2018-12-31T00:00:00\",\"2019-12-31T00:00:00\",\"2020-12-31T00:00:00\",\"2021-12-31T00:00:00\",\"2022-12-31T00:00:00\"],\"xaxis\":\"x\",\"y\":[16113736420.05103,16498182258.490845,16593110495.177338,15669664329.088602,11199632212.6374,14995442705.420765,15299424264.308157,15724302751.41906,17660137466.519077,17821094550.183907,19935044104.66109],\"yaxis\":\"y\",\"type\":\"scatter\"},{\"hovertemplate\":\"modalidade=Rural e agroindustrial\\u003cbr\\u003eocupacao=Aut\\u00f4nomo\\u003cbr\\u003edata_base=%{x}\\u003cbr\\u003ecarteira_ativa_deflacionada=%{y}\\u003cextra\\u003e\\u003c\\u002fextra\\u003e\",\"legendgroup\":\"Rural e agroindustrial\",\"line\":{\"color\":\"#19d3f3\",\"dash\":\"solid\"},\"marker\":{\"symbol\":\"circle\"},\"mode\":\"lines\",\"name\":\"Rural e agroindustrial\",\"orientation\":\"v\",\"showlegend\":true,\"x\":[\"2012-12-31T00:00:00\",\"2013-12-31T00:00:00\",\"2014-12-31T00:00:00\",\"2015-12-31T00:00:00\",\"2016-12-31T00:00:00\",\"2017-12-31T00:00:00\",\"2018-12-31T00:00:00\",\"2019-12-31T00:00:00\",\"2020-12-31T00:00:00\",\"2021-12-31T00:00:00\",\"2022-12-31T00:00:00\"],\"xaxis\":\"x\",\"y\":[32916436404.86312,39834012569.97706,45136154937.633644,43015627220.43648,46584384406.78716,54975323436.77448,58118822214.870575,61983588068.94157,68244074811.87111,82398482251.0358,104869887129.70267],\"yaxis\":\"y\",\"type\":\"scatter\"},{\"hovertemplate\":\"modalidade=Ve\\u00edculos\\u003cbr\\u003eocupacao=Aut\\u00f4nomo\\u003cbr\\u003edata_base=%{x}\\u003cbr\\u003ecarteira_ativa_deflacionada=%{y}\\u003cextra\\u003e\\u003c\\u002fextra\\u003e\",\"legendgroup\":\"Ve\\u00edculos\",\"line\":{\"color\":\"#FF6692\",\"dash\":\"solid\"},\"marker\":{\"symbol\":\"circle\"},\"mode\":\"lines\",\"name\":\"Ve\\u00edculos\",\"orientation\":\"v\",\"showlegend\":true,\"x\":[\"2012-12-31T00:00:00\",\"2013-12-31T00:00:00\",\"2014-12-31T00:00:00\",\"2015-12-31T00:00:00\",\"2016-12-31T00:00:00\",\"2017-12-31T00:00:00\",\"2018-12-31T00:00:00\",\"2019-12-31T00:00:00\",\"2020-12-31T00:00:00\",\"2021-12-31T00:00:00\",\"2022-12-31T00:00:00\"],\"xaxis\":\"x\",\"y\":[29355247821.901993,25561404387.736465,22034533156.322395,16619219570.609627,9860043460.691143,15620410530.540953,16729427898.747107,18985934545.589558,19350310625.713505,19920128140.882683,20768323311.5975],\"yaxis\":\"y\",\"type\":\"scatter\"}],\"name\":\"Aut\\u00f4nomo\"},{\"data\":[{\"hovertemplate\":\"modalidade=Cart\\u00e3o de cr\\u00e9dito\\u003cbr\\u003eocupacao=Empregado de empresa privada\\u003cbr\\u003edata_base=%{x}\\u003cbr\\u003ecarteira_ativa_deflacionada=%{y}\\u003cextra\\u003e\\u003c\\u002fextra\\u003e\",\"legendgroup\":\"Cart\\u00e3o de cr\\u00e9dito\",\"line\":{\"color\":\"#636efa\",\"dash\":\"solid\"},\"marker\":{\"symbol\":\"circle\"},\"mode\":\"lines\",\"name\":\"Cart\\u00e3o de cr\\u00e9dito\",\"orientation\":\"v\",\"showlegend\":true,\"x\":[\"2012-12-31T00:00:00\",\"2013-12-31T00:00:00\",\"2014-12-31T00:00:00\",\"2015-12-31T00:00:00\",\"2016-12-31T00:00:00\",\"2017-12-31T00:00:00\",\"2018-12-31T00:00:00\",\"2019-12-31T00:00:00\",\"2020-12-31T00:00:00\",\"2021-12-31T00:00:00\",\"2022-12-31T00:00:00\"],\"xaxis\":\"x\",\"y\":[28042569455.30547,30279181764.05176,31599626108.117924,29582941033.514225,34132869838.567127,45667690222.813934,53948896183.22716,62571781693.753395,64271760888.66361,81104182027.39755,100963432313.4038],\"yaxis\":\"y\",\"type\":\"scatter\"},{\"hovertemplate\":\"modalidade=Empr\\u00e9stimo com consigna\\u00e7\\u00e3o em folha\\u003cbr\\u003eocupacao=Empregado de empresa privada\\u003cbr\\u003edata_base=%{x}\\u003cbr\\u003ecarteira_ativa_deflacionada=%{y}\\u003cextra\\u003e\\u003c\\u002fextra\\u003e\",\"legendgroup\":\"Empr\\u00e9stimo com consigna\\u00e7\\u00e3o em folha\",\"line\":{\"color\":\"#EF553B\",\"dash\":\"solid\"},\"marker\":{\"symbol\":\"circle\"},\"mode\":\"lines\",\"name\":\"Empr\\u00e9stimo com consigna\\u00e7\\u00e3o em folha\",\"orientation\":\"v\",\"showlegend\":true,\"x\":[\"2012-12-31T00:00:00\",\"2013-12-31T00:00:00\",\"2014-12-31T00:00:00\",\"2015-12-31T00:00:00\",\"2016-12-31T00:00:00\",\"2017-12-31T00:00:00\",\"2018-12-31T00:00:00\",\"2019-12-31T00:00:00\",\"2020-12-31T00:00:00\",\"2021-12-31T00:00:00\",\"2022-12-31T00:00:00\"],\"xaxis\":\"x\",\"y\":[20174386755.712627,22264373820.238834,23882410447.071983,23580035550.098522,18469503834.764347,24811681529.32312,26145660361.796513,30711620687.82292,33432986396.02202,36200498913.40296,39289603303.528946],\"yaxis\":\"y\",\"type\":\"scatter\"},{\"hovertemplate\":\"modalidade=Empr\\u00e9stimo sem consigna\\u00e7\\u00e3o em folha\\u003cbr\\u003eocupacao=Empregado de empresa privada\\u003cbr\\u003edata_base=%{x}\\u003cbr\\u003ecarteira_ativa_deflacionada=%{y}\\u003cextra\\u003e\\u003c\\u002fextra\\u003e\",\"legendgroup\":\"Empr\\u00e9stimo sem consigna\\u00e7\\u00e3o em folha\",\"line\":{\"color\":\"#00cc96\",\"dash\":\"solid\"},\"marker\":{\"symbol\":\"circle\"},\"mode\":\"lines\",\"name\":\"Empr\\u00e9stimo sem consigna\\u00e7\\u00e3o em folha\",\"orientation\":\"v\",\"showlegend\":true,\"x\":[\"2012-12-31T00:00:00\",\"2013-12-31T00:00:00\",\"2014-12-31T00:00:00\",\"2015-12-31T00:00:00\",\"2016-12-31T00:00:00\",\"2017-12-31T00:00:00\",\"2018-12-31T00:00:00\",\"2019-12-31T00:00:00\",\"2020-12-31T00:00:00\",\"2021-12-31T00:00:00\",\"2022-12-31T00:00:00\"],\"xaxis\":\"x\",\"y\":[17714655953.912106,17385501736.27776,16059867383.078075,14129285646.532661,12354472632.715693,15150223693.697973,19029009828.682518,23121587657.042892,24853010763.442223,39040774077.481125,51413279032.43942],\"yaxis\":\"y\",\"type\":\"scatter\"},{\"hovertemplate\":\"modalidade=Habitacional\\u003cbr\\u003eocupacao=Empregado de empresa privada\\u003cbr\\u003edata_base=%{x}\\u003cbr\\u003ecarteira_ativa_deflacionada=%{y}\\u003cextra\\u003e\\u003c\\u002fextra\\u003e\",\"legendgroup\":\"Habitacional\",\"line\":{\"color\":\"#ab63fa\",\"dash\":\"solid\"},\"marker\":{\"symbol\":\"circle\"},\"mode\":\"lines\",\"name\":\"Habitacional\",\"orientation\":\"v\",\"showlegend\":true,\"x\":[\"2012-12-31T00:00:00\",\"2013-12-31T00:00:00\",\"2014-12-31T00:00:00\",\"2015-12-31T00:00:00\",\"2016-12-31T00:00:00\",\"2017-12-31T00:00:00\",\"2018-12-31T00:00:00\",\"2019-12-31T00:00:00\",\"2020-12-31T00:00:00\",\"2021-12-31T00:00:00\",\"2022-12-31T00:00:00\"],\"xaxis\":\"x\",\"y\":[99696009257.1949,116482894892.28638,130915215457.37534,129056018123.3088,179094763666.6049,229507164222.45587,242604281465.72598,256862901570.45035,282563836296.1739,298191383065.9025,325718373567.341],\"yaxis\":\"y\",\"type\":\"scatter\"},{\"hovertemplate\":\"modalidade=Outros cr\\u00e9ditos\\u003cbr\\u003eocupacao=Empregado de empresa privada\\u003cbr\\u003edata_base=%{x}\\u003cbr\\u003ecarteira_ativa_deflacionada=%{y}\\u003cextra\\u003e\\u003c\\u002fextra\\u003e\",\"legendgroup\":\"Outros cr\\u00e9ditos\",\"line\":{\"color\":\"#FFA15A\",\"dash\":\"solid\"},\"marker\":{\"symbol\":\"circle\"},\"mode\":\"lines\",\"name\":\"Outros cr\\u00e9ditos\",\"orientation\":\"v\",\"showlegend\":true,\"x\":[\"2012-12-31T00:00:00\",\"2013-12-31T00:00:00\",\"2014-12-31T00:00:00\",\"2015-12-31T00:00:00\",\"2016-12-31T00:00:00\",\"2017-12-31T00:00:00\",\"2018-12-31T00:00:00\",\"2019-12-31T00:00:00\",\"2020-12-31T00:00:00\",\"2021-12-31T00:00:00\",\"2022-12-31T00:00:00\"],\"xaxis\":\"x\",\"y\":[18614908859.607346,19320971695.449574,19640357577.60967,18446949828.016163,17513791171.56578,20799008807.61508,20281011528.192852,22635265162.429256,25984508996.249947,26262223126.778385,31991842539.691753],\"yaxis\":\"y\",\"type\":\"scatter\"},{\"hovertemplate\":\"modalidade=Rural e agroindustrial\\u003cbr\\u003eocupacao=Empregado de empresa privada\\u003cbr\\u003edata_base=%{x}\\u003cbr\\u003ecarteira_ativa_deflacionada=%{y}\\u003cextra\\u003e\\u003c\\u002fextra\\u003e\",\"legendgroup\":\"Rural e agroindustrial\",\"line\":{\"color\":\"#19d3f3\",\"dash\":\"solid\"},\"marker\":{\"symbol\":\"circle\"},\"mode\":\"lines\",\"name\":\"Rural e agroindustrial\",\"orientation\":\"v\",\"showlegend\":true,\"x\":[\"2012-12-31T00:00:00\",\"2013-12-31T00:00:00\",\"2014-12-31T00:00:00\",\"2015-12-31T00:00:00\",\"2016-12-31T00:00:00\",\"2017-12-31T00:00:00\",\"2018-12-31T00:00:00\",\"2019-12-31T00:00:00\",\"2020-12-31T00:00:00\",\"2021-12-31T00:00:00\",\"2022-12-31T00:00:00\"],\"xaxis\":\"x\",\"y\":[5852825692.826839,7464266581.367729,8948816751.646847,8677246235.355871,6709352316.894694,8034417800.212949,8210249226.071014,8986570793.134113,10009056995.94765,13154427690.977512,17447314519.78926],\"yaxis\":\"y\",\"type\":\"scatter\"},{\"hovertemplate\":\"modalidade=Ve\\u00edculos\\u003cbr\\u003eocupacao=Empregado de empresa privada\\u003cbr\\u003edata_base=%{x}\\u003cbr\\u003ecarteira_ativa_deflacionada=%{y}\\u003cextra\\u003e\\u003c\\u002fextra\\u003e\",\"legendgroup\":\"Ve\\u00edculos\",\"line\":{\"color\":\"#FF6692\",\"dash\":\"solid\"},\"marker\":{\"symbol\":\"circle\"},\"mode\":\"lines\",\"name\":\"Ve\\u00edculos\",\"orientation\":\"v\",\"showlegend\":true,\"x\":[\"2012-12-31T00:00:00\",\"2013-12-31T00:00:00\",\"2014-12-31T00:00:00\",\"2015-12-31T00:00:00\",\"2016-12-31T00:00:00\",\"2017-12-31T00:00:00\",\"2018-12-31T00:00:00\",\"2019-12-31T00:00:00\",\"2020-12-31T00:00:00\",\"2021-12-31T00:00:00\",\"2022-12-31T00:00:00\"],\"xaxis\":\"x\",\"y\":[48753847729.5194,42988801646.31342,36815322475.199455,27374342921.821953,32192035858.394768,43377374396.919426,49149701339.52868,57197467317.62755,60732478287.535194,58035211484.01848,60698221107.79173],\"yaxis\":\"y\",\"type\":\"scatter\"}],\"name\":\"Empregado de empresa privada\"},{\"data\":[{\"hovertemplate\":\"modalidade=Cart\\u00e3o de cr\\u00e9dito\\u003cbr\\u003eocupacao=Empregado de entidades sem fins lucrativos\\u003cbr\\u003edata_base=%{x}\\u003cbr\\u003ecarteira_ativa_deflacionada=%{y}\\u003cextra\\u003e\\u003c\\u002fextra\\u003e\",\"legendgroup\":\"Cart\\u00e3o de cr\\u00e9dito\",\"line\":{\"color\":\"#636efa\",\"dash\":\"solid\"},\"marker\":{\"symbol\":\"circle\"},\"mode\":\"lines\",\"name\":\"Cart\\u00e3o de cr\\u00e9dito\",\"orientation\":\"v\",\"showlegend\":true,\"x\":[\"2012-12-31T00:00:00\",\"2013-12-31T00:00:00\",\"2014-12-31T00:00:00\",\"2015-12-31T00:00:00\",\"2016-12-31T00:00:00\",\"2017-12-31T00:00:00\",\"2018-12-31T00:00:00\",\"2019-12-31T00:00:00\",\"2020-12-31T00:00:00\",\"2021-12-31T00:00:00\",\"2022-12-31T00:00:00\"],\"xaxis\":\"x\",\"y\":[223896714.05443752,242951645.6237146,252033537.81319097,238450783.74792176,171180998.0949681,348405298.00507784,375409686.5757537,415699207.12084544,394876275.1453641,476306047.31262827,555431228.0506164],\"yaxis\":\"y\",\"type\":\"scatter\"},{\"hovertemplate\":\"modalidade=Empr\\u00e9stimo com consigna\\u00e7\\u00e3o em folha\\u003cbr\\u003eocupacao=Empregado de entidades sem fins lucrativos\\u003cbr\\u003edata_base=%{x}\\u003cbr\\u003ecarteira_ativa_deflacionada=%{y}\\u003cextra\\u003e\\u003c\\u002fextra\\u003e\",\"legendgroup\":\"Empr\\u00e9stimo com consigna\\u00e7\\u00e3o em folha\",\"line\":{\"color\":\"#EF553B\",\"dash\":\"solid\"},\"marker\":{\"symbol\":\"circle\"},\"mode\":\"lines\",\"name\":\"Empr\\u00e9stimo com consigna\\u00e7\\u00e3o em folha\",\"orientation\":\"v\",\"showlegend\":true,\"x\":[\"2012-12-31T00:00:00\",\"2013-12-31T00:00:00\",\"2014-12-31T00:00:00\",\"2015-12-31T00:00:00\",\"2016-12-31T00:00:00\",\"2017-12-31T00:00:00\",\"2018-12-31T00:00:00\",\"2019-12-31T00:00:00\",\"2020-12-31T00:00:00\",\"2021-12-31T00:00:00\",\"2022-12-31T00:00:00\"],\"xaxis\":\"x\",\"y\":[185471460.6422161,214843294.65655488,234922072.93995905,234943054.735934,91756468.47663212,265006118.80301732,260842571.6505682,280126162.495574,300812404.5102762,315903030.55236566,337352526.6127706],\"yaxis\":\"y\",\"type\":\"scatter\"},{\"hovertemplate\":\"modalidade=Empr\\u00e9stimo sem consigna\\u00e7\\u00e3o em folha\\u003cbr\\u003eocupacao=Empregado de entidades sem fins lucrativos\\u003cbr\\u003edata_base=%{x}\\u003cbr\\u003ecarteira_ativa_deflacionada=%{y}\\u003cextra\\u003e\\u003c\\u002fextra\\u003e\",\"legendgroup\":\"Empr\\u00e9stimo sem consigna\\u00e7\\u00e3o em folha\",\"line\":{\"color\":\"#00cc96\",\"dash\":\"solid\"},\"marker\":{\"symbol\":\"circle\"},\"mode\":\"lines\",\"name\":\"Empr\\u00e9stimo sem consigna\\u00e7\\u00e3o em folha\",\"orientation\":\"v\",\"showlegend\":true,\"x\":[\"2012-12-31T00:00:00\",\"2013-12-31T00:00:00\",\"2014-12-31T00:00:00\",\"2015-12-31T00:00:00\",\"2016-12-31T00:00:00\",\"2017-12-31T00:00:00\",\"2018-12-31T00:00:00\",\"2019-12-31T00:00:00\",\"2020-12-31T00:00:00\",\"2021-12-31T00:00:00\",\"2022-12-31T00:00:00\"],\"xaxis\":\"x\",\"y\":[147288061.2718701,149172110.88999972,134399331.00882372,122879541.35273784,66771917.25814137,122887304.11376235,132834280.96516183,148001016.17535228,144502046.42702138,203980724.19137114,244818784.6875745],\"yaxis\":\"y\",\"type\":\"scatter\"},{\"hovertemplate\":\"modalidade=Habitacional\\u003cbr\\u003eocupacao=Empregado de entidades sem fins lucrativos\\u003cbr\\u003edata_base=%{x}\\u003cbr\\u003ecarteira_ativa_deflacionada=%{y}\\u003cextra\\u003e\\u003c\\u002fextra\\u003e\",\"legendgroup\":\"Habitacional\",\"line\":{\"color\":\"#ab63fa\",\"dash\":\"solid\"},\"marker\":{\"symbol\":\"circle\"},\"mode\":\"lines\",\"name\":\"Habitacional\",\"orientation\":\"v\",\"showlegend\":true,\"x\":[\"2012-12-31T00:00:00\",\"2013-12-31T00:00:00\",\"2014-12-31T00:00:00\",\"2015-12-31T00:00:00\",\"2016-12-31T00:00:00\",\"2017-12-31T00:00:00\",\"2018-12-31T00:00:00\",\"2019-12-31T00:00:00\",\"2020-12-31T00:00:00\",\"2021-12-31T00:00:00\",\"2022-12-31T00:00:00\"],\"xaxis\":\"x\",\"y\":[659823600.6865468,802973365.9800346,892714295.5095879,895551342.3220274,691910361.8402163,913356099.2617358,869751214.9681286,912664467.1623197,955931702.9939748,1028692261.5885655,1100954421.306563],\"yaxis\":\"y\",\"type\":\"scatter\"},{\"hovertemplate\":\"modalidade=Outros cr\\u00e9ditos\\u003cbr\\u003eocupacao=Empregado de entidades sem fins lucrativos\\u003cbr\\u003edata_base=%{x}\\u003cbr\\u003ecarteira_ativa_deflacionada=%{y}\\u003cextra\\u003e\\u003c\\u002fextra\\u003e\",\"legendgroup\":\"Outros cr\\u00e9ditos\",\"line\":{\"color\":\"#FFA15A\",\"dash\":\"solid\"},\"marker\":{\"symbol\":\"circle\"},\"mode\":\"lines\",\"name\":\"Outros cr\\u00e9ditos\",\"orientation\":\"v\",\"showlegend\":true,\"x\":[\"2012-12-31T00:00:00\",\"2013-12-31T00:00:00\",\"2014-12-31T00:00:00\",\"2015-12-31T00:00:00\",\"2016-12-31T00:00:00\",\"2017-12-31T00:00:00\",\"2018-12-31T00:00:00\",\"2019-12-31T00:00:00\",\"2020-12-31T00:00:00\",\"2021-12-31T00:00:00\",\"2022-12-31T00:00:00\"],\"xaxis\":\"x\",\"y\":[140633693.84049234,146421584.67682704,156167123.5381583,146281170.0367541,80429829.3847321,143903287.80784246,131330043.93991885,134911013.9584561,136502240.46839476,132574964.64231388,160436506.41627628],\"yaxis\":\"y\",\"type\":\"scatter\"},{\"hovertemplate\":\"modalidade=Rural e agroindustrial\\u003cbr\\u003eocupacao=Empregado de entidades sem fins lucrativos\\u003cbr\\u003edata_base=%{x}\\u003cbr\\u003ecarteira_ativa_deflacionada=%{y}\\u003cextra\\u003e\\u003c\\u002fextra\\u003e\",\"legendgroup\":\"Rural e agroindustrial\",\"line\":{\"color\":\"#19d3f3\",\"dash\":\"solid\"},\"marker\":{\"symbol\":\"circle\"},\"mode\":\"lines\",\"name\":\"Rural e agroindustrial\",\"orientation\":\"v\",\"showlegend\":true,\"x\":[\"2012-12-31T00:00:00\",\"2013-12-31T00:00:00\",\"2014-12-31T00:00:00\",\"2015-12-31T00:00:00\",\"2016-12-31T00:00:00\",\"2017-12-31T00:00:00\",\"2018-12-31T00:00:00\",\"2019-12-31T00:00:00\",\"2020-12-31T00:00:00\",\"2021-12-31T00:00:00\",\"2022-12-31T00:00:00\"],\"xaxis\":\"x\",\"y\":[177884079.754505,223523797.46411756,243837829.53911108,228428819.6297716,91628405.08605358,288525037.0039695,250121149.44270578,224109488.380598,216644087.62697884,231696331.89591053,246385371.41414055],\"yaxis\":\"y\",\"type\":\"scatter\"},{\"hovertemplate\":\"modalidade=Ve\\u00edculos\\u003cbr\\u003eocupacao=Empregado de entidades sem fins lucrativos\\u003cbr\\u003edata_base=%{x}\\u003cbr\\u003ecarteira_ativa_deflacionada=%{y}\\u003cextra\\u003e\\u003c\\u002fextra\\u003e\",\"legendgroup\":\"Ve\\u00edculos\",\"line\":{\"color\":\"#FF6692\",\"dash\":\"solid\"},\"marker\":{\"symbol\":\"circle\"},\"mode\":\"lines\",\"name\":\"Ve\\u00edculos\",\"orientation\":\"v\",\"showlegend\":true,\"x\":[\"2012-12-31T00:00:00\",\"2013-12-31T00:00:00\",\"2014-12-31T00:00:00\",\"2015-12-31T00:00:00\",\"2016-12-31T00:00:00\",\"2017-12-31T00:00:00\",\"2018-12-31T00:00:00\",\"2019-12-31T00:00:00\",\"2020-12-31T00:00:00\",\"2021-12-31T00:00:00\",\"2022-12-31T00:00:00\"],\"xaxis\":\"x\",\"y\":[329923015.9577839,286822142.43680286,240141065.4880303,185657230.0153074,116996562.10705854,249849221.99329856,254668741.09662944,284135130.34081787,283870729.282689,268768437.80853575,263572717.7349327],\"yaxis\":\"y\",\"type\":\"scatter\"}],\"name\":\"Empregado de entidades sem fins lucrativos\"},{\"data\":[{\"hovertemplate\":\"modalidade=Cart\\u00e3o de cr\\u00e9dito\\u003cbr\\u003eocupacao=Empres\\u00e1rio\\u003cbr\\u003edata_base=%{x}\\u003cbr\\u003ecarteira_ativa_deflacionada=%{y}\\u003cextra\\u003e\\u003c\\u002fextra\\u003e\",\"legendgroup\":\"Cart\\u00e3o de cr\\u00e9dito\",\"line\":{\"color\":\"#636efa\",\"dash\":\"solid\"},\"marker\":{\"symbol\":\"circle\"},\"mode\":\"lines\",\"name\":\"Cart\\u00e3o de cr\\u00e9dito\",\"orientation\":\"v\",\"showlegend\":true,\"x\":[\"2012-12-31T00:00:00\",\"2013-12-31T00:00:00\",\"2014-12-31T00:00:00\",\"2015-12-31T00:00:00\",\"2016-12-31T00:00:00\",\"2017-12-31T00:00:00\",\"2018-12-31T00:00:00\",\"2019-12-31T00:00:00\",\"2020-12-31T00:00:00\",\"2021-12-31T00:00:00\",\"2022-12-31T00:00:00\"],\"xaxis\":\"x\",\"y\":[27500276263.19408,29362184393.347702,30208010992.738598,28008630850.699516,29170927637.529686,37901006289.9749,43760387184.77022,48611208859.055214,48652665432.57397,59487515774.577446,70393046891.7006],\"yaxis\":\"y\",\"type\":\"scatter\"},{\"hovertemplate\":\"modalidade=Empr\\u00e9stimo com consigna\\u00e7\\u00e3o em folha\\u003cbr\\u003eocupacao=Empres\\u00e1rio\\u003cbr\\u003edata_base=%{x}\\u003cbr\\u003ecarteira_ativa_deflacionada=%{y}\\u003cextra\\u003e\\u003c\\u002fextra\\u003e\",\"legendgroup\":\"Empr\\u00e9stimo com consigna\\u00e7\\u00e3o em folha\",\"line\":{\"color\":\"#EF553B\",\"dash\":\"solid\"},\"marker\":{\"symbol\":\"circle\"},\"mode\":\"lines\",\"name\":\"Empr\\u00e9stimo com consigna\\u00e7\\u00e3o em folha\",\"orientation\":\"v\",\"showlegend\":true,\"x\":[\"2012-12-31T00:00:00\",\"2013-12-31T00:00:00\",\"2014-12-31T00:00:00\",\"2015-12-31T00:00:00\",\"2016-12-31T00:00:00\",\"2017-12-31T00:00:00\",\"2018-12-31T00:00:00\",\"2019-12-31T00:00:00\",\"2020-12-31T00:00:00\",\"2021-12-31T00:00:00\",\"2022-12-31T00:00:00\"],\"xaxis\":\"x\",\"y\":[8298770753.866766,10055133406.505535,11237208323.300993,11553979824.875948,3554935876.6375937,8630361567.519655,8787895611.469172,9482170825.113049,10597895428.32646,11159174613.85664,11678806563.67137],\"yaxis\":\"y\",\"type\":\"scatter\"},{\"hovertemplate\":\"modalidade=Empr\\u00e9stimo sem consigna\\u00e7\\u00e3o em folha\\u003cbr\\u003eocupacao=Empres\\u00e1rio\\u003cbr\\u003edata_base=%{x}\\u003cbr\\u003ecarteira_ativa_deflacionada=%{y}\\u003cextra\\u003e\\u003c\\u002fextra\\u003e\",\"legendgroup\":\"Empr\\u00e9stimo sem consigna\\u00e7\\u00e3o em folha\",\"line\":{\"color\":\"#00cc96\",\"dash\":\"solid\"},\"marker\":{\"symbol\":\"circle\"},\"mode\":\"lines\",\"name\":\"Empr\\u00e9stimo sem consigna\\u00e7\\u00e3o em folha\",\"orientation\":\"v\",\"showlegend\":true,\"x\":[\"2012-12-31T00:00:00\",\"2013-12-31T00:00:00\",\"2014-12-31T00:00:00\",\"2015-12-31T00:00:00\",\"2016-12-31T00:00:00\",\"2017-12-31T00:00:00\",\"2018-12-31T00:00:00\",\"2019-12-31T00:00:00\",\"2020-12-31T00:00:00\",\"2021-12-31T00:00:00\",\"2022-12-31T00:00:00\"],\"xaxis\":\"x\",\"y\":[23874482693.821247,24202340461.434788,22355607208.405514,20702930326.662155,18208552996.29788,20646168695.800343,23331410403.97839,28523509148.1027,39012823820.31767,44697209414.06764,46202605377.72039],\"yaxis\":\"y\",\"type\":\"scatter\"},{\"hovertemplate\":\"modalidade=Habitacional\\u003cbr\\u003eocupacao=Empres\\u00e1rio\\u003cbr\\u003edata_base=%{x}\\u003cbr\\u003ecarteira_ativa_deflacionada=%{y}\\u003cextra\\u003e\\u003c\\u002fextra\\u003e\",\"legendgroup\":\"Habitacional\",\"line\":{\"color\":\"#ab63fa\",\"dash\":\"solid\"},\"marker\":{\"symbol\":\"circle\"},\"mode\":\"lines\",\"name\":\"Habitacional\",\"orientation\":\"v\",\"showlegend\":true,\"x\":[\"2012-12-31T00:00:00\",\"2013-12-31T00:00:00\",\"2014-12-31T00:00:00\",\"2015-12-31T00:00:00\",\"2016-12-31T00:00:00\",\"2017-12-31T00:00:00\",\"2018-12-31T00:00:00\",\"2019-12-31T00:00:00\",\"2020-12-31T00:00:00\",\"2021-12-31T00:00:00\",\"2022-12-31T00:00:00\"],\"xaxis\":\"x\",\"y\":[58812346714.91282,70608265329.86426,82837763542.69801,81996007739.37111,97131511737.23206,112092880497.1793,112963235127.84575,113530201080.66049,123808748554.68523,133143504823.021,150515814390.47452],\"yaxis\":\"y\",\"type\":\"scatter\"},{\"hovertemplate\":\"modalidade=Outros cr\\u00e9ditos\\u003cbr\\u003eocupacao=Empres\\u00e1rio\\u003cbr\\u003edata_base=%{x}\\u003cbr\\u003ecarteira_ativa_deflacionada=%{y}\\u003cextra\\u003e\\u003c\\u002fextra\\u003e\",\"legendgroup\":\"Outros cr\\u00e9ditos\",\"line\":{\"color\":\"#FFA15A\",\"dash\":\"solid\"},\"marker\":{\"symbol\":\"circle\"},\"mode\":\"lines\",\"name\":\"Outros cr\\u00e9ditos\",\"orientation\":\"v\",\"showlegend\":true,\"x\":[\"2012-12-31T00:00:00\",\"2013-12-31T00:00:00\",\"2014-12-31T00:00:00\",\"2015-12-31T00:00:00\",\"2016-12-31T00:00:00\",\"2017-12-31T00:00:00\",\"2018-12-31T00:00:00\",\"2019-12-31T00:00:00\",\"2020-12-31T00:00:00\",\"2021-12-31T00:00:00\",\"2022-12-31T00:00:00\"],\"xaxis\":\"x\",\"y\":[35086152577.996025,36606534734.401695,38314624454.05418,37649139852.05178,36844170648.34146,40930437966.60828,43251485510.12076,44397959697.93299,52469759030.91727,51207970239.680786,55859766791.13287],\"yaxis\":\"y\",\"type\":\"scatter\"},{\"hovertemplate\":\"modalidade=Rural e agroindustrial\\u003cbr\\u003eocupacao=Empres\\u00e1rio\\u003cbr\\u003edata_base=%{x}\\u003cbr\\u003ecarteira_ativa_deflacionada=%{y}\\u003cextra\\u003e\\u003c\\u002fextra\\u003e\",\"legendgroup\":\"Rural e agroindustrial\",\"line\":{\"color\":\"#19d3f3\",\"dash\":\"solid\"},\"marker\":{\"symbol\":\"circle\"},\"mode\":\"lines\",\"name\":\"Rural e agroindustrial\",\"orientation\":\"v\",\"showlegend\":true,\"x\":[\"2012-12-31T00:00:00\",\"2013-12-31T00:00:00\",\"2014-12-31T00:00:00\",\"2015-12-31T00:00:00\",\"2016-12-31T00:00:00\",\"2017-12-31T00:00:00\",\"2018-12-31T00:00:00\",\"2019-12-31T00:00:00\",\"2020-12-31T00:00:00\",\"2021-12-31T00:00:00\",\"2022-12-31T00:00:00\"],\"xaxis\":\"x\",\"y\":[81199157144.97804,97135925748.35086,109531925782.56123,103455848429.78952,102998479215.2317,111356004952.57953,116418387117.07928,122010278928.85768,131012103345.22417,154079738718.13156,185989357232.14227],\"yaxis\":\"y\",\"type\":\"scatter\"},{\"hovertemplate\":\"modalidade=Ve\\u00edculos\\u003cbr\\u003eocupacao=Empres\\u00e1rio\\u003cbr\\u003edata_base=%{x}\\u003cbr\\u003ecarteira_ativa_deflacionada=%{y}\\u003cextra\\u003e\\u003c\\u002fextra\\u003e\",\"legendgroup\":\"Ve\\u00edculos\",\"line\":{\"color\":\"#FF6692\",\"dash\":\"solid\"},\"marker\":{\"symbol\":\"circle\"},\"mode\":\"lines\",\"name\":\"Ve\\u00edculos\",\"orientation\":\"v\",\"showlegend\":true,\"x\":[\"2012-12-31T00:00:00\",\"2013-12-31T00:00:00\",\"2014-12-31T00:00:00\",\"2015-12-31T00:00:00\",\"2016-12-31T00:00:00\",\"2017-12-31T00:00:00\",\"2018-12-31T00:00:00\",\"2019-12-31T00:00:00\",\"2020-12-31T00:00:00\",\"2021-12-31T00:00:00\",\"2022-12-31T00:00:00\"],\"xaxis\":\"x\",\"y\":[43673989298.44316,37928771234.64633,32293875419.256695,23939908593.841137,20917498468.320133,27677567871.81495,31318991534.997097,35183651070.49223,36867001698.410515,38240956605.87392,41449015633.06677],\"yaxis\":\"y\",\"type\":\"scatter\"}],\"name\":\"Empres\\u00e1rio\"},{\"data\":[{\"hovertemplate\":\"modalidade=Cart\\u00e3o de cr\\u00e9dito\\u003cbr\\u003eocupacao=MEI\\u003cbr\\u003edata_base=%{x}\\u003cbr\\u003ecarteira_ativa_deflacionada=%{y}\\u003cextra\\u003e\\u003c\\u002fextra\\u003e\",\"legendgroup\":\"Cart\\u00e3o de cr\\u00e9dito\",\"line\":{\"color\":\"#636efa\",\"dash\":\"solid\"},\"marker\":{\"symbol\":\"circle\"},\"mode\":\"lines\",\"name\":\"Cart\\u00e3o de cr\\u00e9dito\",\"orientation\":\"v\",\"showlegend\":true,\"x\":[\"2012-12-31T00:00:00\",\"2013-12-31T00:00:00\",\"2014-12-31T00:00:00\",\"2015-12-31T00:00:00\",\"2016-12-31T00:00:00\",\"2017-12-31T00:00:00\",\"2018-12-31T00:00:00\",\"2019-12-31T00:00:00\",\"2020-12-31T00:00:00\",\"2021-12-31T00:00:00\",\"2022-12-31T00:00:00\"],\"xaxis\":\"x\",\"y\":[23187.165518882444,15977.191736307104,8251.541069744118,15372.459365457426,1236455565.524957,2286647152.276962,3817855602.576147,4682115948.08653,5390135343.321502,7191064347.207294,9695545093.728607],\"yaxis\":\"y\",\"type\":\"scatter\"},{\"hovertemplate\":\"modalidade=Empr\\u00e9stimo com consigna\\u00e7\\u00e3o em folha\\u003cbr\\u003eocupacao=MEI\\u003cbr\\u003edata_base=%{x}\\u003cbr\\u003ecarteira_ativa_deflacionada=%{y}\\u003cextra\\u003e\\u003c\\u002fextra\\u003e\",\"legendgroup\":\"Empr\\u00e9stimo com consigna\\u00e7\\u00e3o em folha\",\"line\":{\"color\":\"#EF553B\",\"dash\":\"solid\"},\"marker\":{\"symbol\":\"circle\"},\"mode\":\"lines\",\"name\":\"Empr\\u00e9stimo com consigna\\u00e7\\u00e3o em folha\",\"orientation\":\"v\",\"showlegend\":true,\"x\":[\"2012-12-31T00:00:00\",\"2013-12-31T00:00:00\",\"2014-12-31T00:00:00\",\"2015-12-31T00:00:00\",\"2016-12-31T00:00:00\",\"2017-12-31T00:00:00\",\"2018-12-31T00:00:00\",\"2019-12-31T00:00:00\",\"2020-12-31T00:00:00\",\"2021-12-31T00:00:00\",\"2022-12-31T00:00:00\"],\"xaxis\":\"x\",\"y\":[64366.036298045445,75199.21616683551,93798.19370957492,76153.69844132615,136273901.80996698,325796997.1503852,480870628.6588765,528100869.4639134,670475265.8546996,764404482.8550779,944099946.8775173],\"yaxis\":\"y\",\"type\":\"scatter\"},{\"hovertemplate\":\"modalidade=Empr\\u00e9stimo sem consigna\\u00e7\\u00e3o em folha\\u003cbr\\u003eocupacao=MEI\\u003cbr\\u003edata_base=%{x}\\u003cbr\\u003ecarteira_ativa_deflacionada=%{y}\\u003cextra\\u003e\\u003c\\u002fextra\\u003e\",\"legendgroup\":\"Empr\\u00e9stimo sem consigna\\u00e7\\u00e3o em folha\",\"line\":{\"color\":\"#00cc96\",\"dash\":\"solid\"},\"marker\":{\"symbol\":\"circle\"},\"mode\":\"lines\",\"name\":\"Empr\\u00e9stimo sem consigna\\u00e7\\u00e3o em folha\",\"orientation\":\"v\",\"showlegend\":true,\"x\":[\"2012-12-31T00:00:00\",\"2013-12-31T00:00:00\",\"2014-12-31T00:00:00\",\"2015-12-31T00:00:00\",\"2016-12-31T00:00:00\",\"2017-12-31T00:00:00\",\"2018-12-31T00:00:00\",\"2019-12-31T00:00:00\",\"2020-12-31T00:00:00\",\"2021-12-31T00:00:00\",\"2022-12-31T00:00:00\"],\"xaxis\":\"x\",\"y\":[14680.06953547907,6952.976563887838,3873.3350550585333,15230.233665067579,303847654.76281506,524179621.4960676,888575578.0740368,1165322774.1494195,1174697366.1546624,1907992852.836147,2352999563.2237906],\"yaxis\":\"y\",\"type\":\"scatter\"},{\"hovertemplate\":\"modalidade=Habitacional\\u003cbr\\u003eocupacao=MEI\\u003cbr\\u003edata_base=%{x}\\u003cbr\\u003ecarteira_ativa_deflacionada=%{y}\\u003cextra\\u003e\\u003c\\u002fextra\\u003e\",\"legendgroup\":\"Habitacional\",\"line\":{\"color\":\"#ab63fa\",\"dash\":\"solid\"},\"marker\":{\"symbol\":\"circle\"},\"mode\":\"lines\",\"name\":\"Habitacional\",\"orientation\":\"v\",\"showlegend\":true,\"x\":[\"2015-12-31T00:00:00\",\"2016-12-31T00:00:00\",\"2017-12-31T00:00:00\",\"2018-12-31T00:00:00\",\"2019-12-31T00:00:00\",\"2020-12-31T00:00:00\",\"2021-12-31T00:00:00\",\"2022-12-31T00:00:00\"],\"xaxis\":\"x\",\"y\":[166863.96988362976,3685037790.4354234,6917943605.044599,9839183236.97798,10499423851.21083,12813989604.3076,13676608055.287828,16731985087.055489],\"yaxis\":\"y\",\"type\":\"scatter\"},{\"hovertemplate\":\"modalidade=Outros cr\\u00e9ditos\\u003cbr\\u003eocupacao=MEI\\u003cbr\\u003edata_base=%{x}\\u003cbr\\u003ecarteira_ativa_deflacionada=%{y}\\u003cextra\\u003e\\u003c\\u002fextra\\u003e\",\"legendgroup\":\"Outros cr\\u00e9ditos\",\"line\":{\"color\":\"#FFA15A\",\"dash\":\"solid\"},\"marker\":{\"symbol\":\"circle\"},\"mode\":\"lines\",\"name\":\"Outros cr\\u00e9ditos\",\"orientation\":\"v\",\"showlegend\":true,\"x\":[\"2012-12-31T00:00:00\",\"2013-12-31T00:00:00\",\"2014-12-31T00:00:00\",\"2015-12-31T00:00:00\",\"2016-12-31T00:00:00\",\"2017-12-31T00:00:00\",\"2018-12-31T00:00:00\",\"2019-12-31T00:00:00\",\"2020-12-31T00:00:00\",\"2021-12-31T00:00:00\",\"2022-12-31T00:00:00\"],\"xaxis\":\"x\",\"y\":[34747.30775892363,7061.875194505647,35831.09860196503,25362.587780718804,644194784.1935942,1080896993.4782128,1451752243.91119,1743133778.3139913,2246879764.551298,2430335504.2027516,3053831449.5102367],\"yaxis\":\"y\",\"type\":\"scatter\"},{\"hovertemplate\":\"modalidade=Rural e agroindustrial\\u003cbr\\u003eocupacao=MEI\\u003cbr\\u003edata_base=%{x}\\u003cbr\\u003ecarteira_ativa_deflacionada=%{y}\\u003cextra\\u003e\\u003c\\u002fextra\\u003e\",\"legendgroup\":\"Rural e agroindustrial\",\"line\":{\"color\":\"#19d3f3\",\"dash\":\"solid\"},\"marker\":{\"symbol\":\"circle\"},\"mode\":\"lines\",\"name\":\"Rural e agroindustrial\",\"orientation\":\"v\",\"showlegend\":true,\"x\":[\"2016-12-31T00:00:00\",\"2017-12-31T00:00:00\",\"2018-12-31T00:00:00\",\"2019-12-31T00:00:00\",\"2020-12-31T00:00:00\",\"2021-12-31T00:00:00\",\"2022-12-31T00:00:00\"],\"xaxis\":\"x\",\"y\":[105044885.10760505,211961642.6858534,280496619.9796444,303745906.88620085,331881481.49587023,410745093.0257811,563288269.0065562],\"yaxis\":\"y\",\"type\":\"scatter\"},{\"hovertemplate\":\"modalidade=Ve\\u00edculos\\u003cbr\\u003eocupacao=MEI\\u003cbr\\u003edata_base=%{x}\\u003cbr\\u003ecarteira_ativa_deflacionada=%{y}\\u003cextra\\u003e\\u003c\\u002fextra\\u003e\",\"legendgroup\":\"Ve\\u00edculos\",\"line\":{\"color\":\"#FF6692\",\"dash\":\"solid\"},\"marker\":{\"symbol\":\"circle\"},\"mode\":\"lines\",\"name\":\"Ve\\u00edculos\",\"orientation\":\"v\",\"showlegend\":true,\"x\":[\"2012-12-31T00:00:00\",\"2013-12-31T00:00:00\",\"2014-12-31T00:00:00\",\"2016-12-31T00:00:00\",\"2017-12-31T00:00:00\",\"2018-12-31T00:00:00\",\"2019-12-31T00:00:00\",\"2020-12-31T00:00:00\",\"2021-12-31T00:00:00\",\"2022-12-31T00:00:00\"],\"xaxis\":\"x\",\"y\":[58524.45528056471,42624.91938655402,20427.21893750434,1356251959.2029293,2520975063.0898886,3833814485.622021,4796418775.291357,5739973393.783794,6003138310.482227,7031955253.805812],\"yaxis\":\"y\",\"type\":\"scatter\"}],\"name\":\"MEI\"},{\"data\":[{\"hovertemplate\":\"modalidade=Cart\\u00e3o de cr\\u00e9dito\\u003cbr\\u003eocupacao=Outros\\u003cbr\\u003edata_base=%{x}\\u003cbr\\u003ecarteira_ativa_deflacionada=%{y}\\u003cextra\\u003e\\u003c\\u002fextra\\u003e\",\"legendgroup\":\"Cart\\u00e3o de cr\\u00e9dito\",\"line\":{\"color\":\"#636efa\",\"dash\":\"solid\"},\"marker\":{\"symbol\":\"circle\"},\"mode\":\"lines\",\"name\":\"Cart\\u00e3o de cr\\u00e9dito\",\"orientation\":\"v\",\"showlegend\":true,\"x\":[\"2012-12-31T00:00:00\",\"2013-12-31T00:00:00\",\"2014-12-31T00:00:00\",\"2015-12-31T00:00:00\",\"2016-12-31T00:00:00\",\"2017-12-31T00:00:00\",\"2018-12-31T00:00:00\",\"2019-12-31T00:00:00\",\"2020-12-31T00:00:00\",\"2021-12-31T00:00:00\",\"2022-12-31T00:00:00\"],\"xaxis\":\"x\",\"y\":[77064992513.46085,88073772598.10776,99530108202.27208,97872239586.42877,101533745941.1799,77595742942.14284,86954071141.49724,101602680932.39449,100101339007.3884,132145774482.49084,154704382551.71396],\"yaxis\":\"y\",\"type\":\"scatter\"},{\"hovertemplate\":\"modalidade=Empr\\u00e9stimo com consigna\\u00e7\\u00e3o em folha\\u003cbr\\u003eocupacao=Outros\\u003cbr\\u003edata_base=%{x}\\u003cbr\\u003ecarteira_ativa_deflacionada=%{y}\\u003cextra\\u003e\\u003c\\u002fextra\\u003e\",\"legendgroup\":\"Empr\\u00e9stimo com consigna\\u00e7\\u00e3o em folha\",\"line\":{\"color\":\"#EF553B\",\"dash\":\"solid\"},\"marker\":{\"symbol\":\"circle\"},\"mode\":\"lines\",\"name\":\"Empr\\u00e9stimo com consigna\\u00e7\\u00e3o em folha\",\"orientation\":\"v\",\"showlegend\":true,\"x\":[\"2012-12-31T00:00:00\",\"2013-12-31T00:00:00\",\"2014-12-31T00:00:00\",\"2015-12-31T00:00:00\",\"2016-12-31T00:00:00\",\"2017-12-31T00:00:00\",\"2018-12-31T00:00:00\",\"2019-12-31T00:00:00\",\"2020-12-31T00:00:00\",\"2021-12-31T00:00:00\",\"2022-12-31T00:00:00\"],\"xaxis\":\"x\",\"y\":[126295044568.45436,145815644638.8932,160712646176.3171,161607395963.65765,147848611531.24246,114571666861.76506,112780753285.22905,118736422951.68663,129689879400.51573,137428980155.41006,162849402070.12274],\"yaxis\":\"y\",\"type\":\"scatter\"},{\"hovertemplate\":\"modalidade=Empr\\u00e9stimo sem consigna\\u00e7\\u00e3o em folha\\u003cbr\\u003eocupacao=Outros\\u003cbr\\u003edata_base=%{x}\\u003cbr\\u003ecarteira_ativa_deflacionada=%{y}\\u003cextra\\u003e\\u003c\\u002fextra\\u003e\",\"legendgroup\":\"Empr\\u00e9stimo sem consigna\\u00e7\\u00e3o em folha\",\"line\":{\"color\":\"#00cc96\",\"dash\":\"solid\"},\"marker\":{\"symbol\":\"circle\"},\"mode\":\"lines\",\"name\":\"Empr\\u00e9stimo sem consigna\\u00e7\\u00e3o em folha\",\"orientation\":\"v\",\"showlegend\":true,\"x\":[\"2012-12-31T00:00:00\",\"2013-12-31T00:00:00\",\"2014-12-31T00:00:00\",\"2015-12-31T00:00:00\",\"2016-12-31T00:00:00\",\"2017-12-31T00:00:00\",\"2018-12-31T00:00:00\",\"2019-12-31T00:00:00\",\"2020-12-31T00:00:00\",\"2021-12-31T00:00:00\",\"2022-12-31T00:00:00\"],\"xaxis\":\"x\",\"y\":[54373277525.7829,55233170475.4328,54353600996.0662,51260799742.34304,41039972910.588196,28064331075.067566,30833260328.131317,36404189323.22269,39055154809.4378,60027520428.429596,66935701526.680855],\"yaxis\":\"y\",\"type\":\"scatter\"},{\"hovertemplate\":\"modalidade=Habitacional\\u003cbr\\u003eocupacao=Outros\\u003cbr\\u003edata_base=%{x}\\u003cbr\\u003ecarteira_ativa_deflacionada=%{y}\\u003cextra\\u003e\\u003c\\u002fextra\\u003e\",\"legendgroup\":\"Habitacional\",\"line\":{\"color\":\"#ab63fa\",\"dash\":\"solid\"},\"marker\":{\"symbol\":\"circle\"},\"mode\":\"lines\",\"name\":\"Habitacional\",\"orientation\":\"v\",\"showlegend\":true,\"x\":[\"2012-12-31T00:00:00\",\"2013-12-31T00:00:00\",\"2014-12-31T00:00:00\",\"2015-12-31T00:00:00\",\"2016-12-31T00:00:00\",\"2017-12-31T00:00:00\",\"2018-12-31T00:00:00\",\"2019-12-31T00:00:00\",\"2020-12-31T00:00:00\",\"2021-12-31T00:00:00\",\"2022-12-31T00:00:00\"],\"xaxis\":\"x\",\"y\":[153185425988.22137,213909771475.1339,278823892709.15753,316484163517.153,221428724794.57916,152046489930.20624,148461860525.43713,157154105969.80972,165705628381.0127,172315850201.91888,173507127341.9311],\"yaxis\":\"y\",\"type\":\"scatter\"},{\"hovertemplate\":\"modalidade=Outros cr\\u00e9ditos\\u003cbr\\u003eocupacao=Outros\\u003cbr\\u003edata_base=%{x}\\u003cbr\\u003ecarteira_ativa_deflacionada=%{y}\\u003cextra\\u003e\\u003c\\u002fextra\\u003e\",\"legendgroup\":\"Outros cr\\u00e9ditos\",\"line\":{\"color\":\"#FFA15A\",\"dash\":\"solid\"},\"marker\":{\"symbol\":\"circle\"},\"mode\":\"lines\",\"name\":\"Outros cr\\u00e9ditos\",\"orientation\":\"v\",\"showlegend\":true,\"x\":[\"2012-12-31T00:00:00\",\"2013-12-31T00:00:00\",\"2014-12-31T00:00:00\",\"2015-12-31T00:00:00\",\"2016-12-31T00:00:00\",\"2017-12-31T00:00:00\",\"2018-12-31T00:00:00\",\"2019-12-31T00:00:00\",\"2020-12-31T00:00:00\",\"2021-12-31T00:00:00\",\"2022-12-31T00:00:00\"],\"xaxis\":\"x\",\"y\":[54382005990.63663,62521222556.993225,66264007729.78138,58753969018.54669,54265270905.78617,34988176521.26268,34959721490.71328,38404777453.94132,41637144861.974686,46454564737.03899,53559004265.80771],\"yaxis\":\"y\",\"type\":\"scatter\"},{\"hovertemplate\":\"modalidade=Rural e agroindustrial\\u003cbr\\u003eocupacao=Outros\\u003cbr\\u003edata_base=%{x}\\u003cbr\\u003ecarteira_ativa_deflacionada=%{y}\\u003cextra\\u003e\\u003c\\u002fextra\\u003e\",\"legendgroup\":\"Rural e agroindustrial\",\"line\":{\"color\":\"#19d3f3\",\"dash\":\"solid\"},\"marker\":{\"symbol\":\"circle\"},\"mode\":\"lines\",\"name\":\"Rural e agroindustrial\",\"orientation\":\"v\",\"showlegend\":true,\"x\":[\"2012-12-31T00:00:00\",\"2013-12-31T00:00:00\",\"2014-12-31T00:00:00\",\"2015-12-31T00:00:00\",\"2016-12-31T00:00:00\",\"2017-12-31T00:00:00\",\"2018-12-31T00:00:00\",\"2019-12-31T00:00:00\",\"2020-12-31T00:00:00\",\"2021-12-31T00:00:00\",\"2022-12-31T00:00:00\"],\"xaxis\":\"x\",\"y\":[82234037985.38554,98118044968.34224,114403904679.54445,111892428810.59921,104202201057.64742,92760712940.9165,93409379104.31194,96467243354.8721,102175903858.2665,116495281527.83556,139951105803.73633],\"yaxis\":\"y\",\"type\":\"scatter\"},{\"hovertemplate\":\"modalidade=Ve\\u00edculos\\u003cbr\\u003eocupacao=Outros\\u003cbr\\u003edata_base=%{x}\\u003cbr\\u003ecarteira_ativa_deflacionada=%{y}\\u003cextra\\u003e\\u003c\\u002fextra\\u003e\",\"legendgroup\":\"Ve\\u00edculos\",\"line\":{\"color\":\"#FF6692\",\"dash\":\"solid\"},\"marker\":{\"symbol\":\"circle\"},\"mode\":\"lines\",\"name\":\"Ve\\u00edculos\",\"orientation\":\"v\",\"showlegend\":true,\"x\":[\"2012-12-31T00:00:00\",\"2013-12-31T00:00:00\",\"2014-12-31T00:00:00\",\"2015-12-31T00:00:00\",\"2016-12-31T00:00:00\",\"2017-12-31T00:00:00\",\"2018-12-31T00:00:00\",\"2019-12-31T00:00:00\",\"2020-12-31T00:00:00\",\"2021-12-31T00:00:00\",\"2022-12-31T00:00:00\"],\"xaxis\":\"x\",\"y\":[179899441128.12943,168063595166.13284,155304832168.61743,126184621057.90144,87538552775.7129,60514228947.04459,62020582510.15827,73524738279.0735,78275843711.73172,82110055127.52237,78066074393.98828],\"yaxis\":\"y\",\"type\":\"scatter\"}],\"name\":\"Outros\"},{\"data\":[{\"hovertemplate\":\"modalidade=Cart\\u00e3o de cr\\u00e9dito\\u003cbr\\u003eocupacao=Servidor ou empregado p\\u00fablico\\u003cbr\\u003edata_base=%{x}\\u003cbr\\u003ecarteira_ativa_deflacionada=%{y}\\u003cextra\\u003e\\u003c\\u002fextra\\u003e\",\"legendgroup\":\"Cart\\u00e3o de cr\\u00e9dito\",\"line\":{\"color\":\"#636efa\",\"dash\":\"solid\"},\"marker\":{\"symbol\":\"circle\"},\"mode\":\"lines\",\"name\":\"Cart\\u00e3o de cr\\u00e9dito\",\"orientation\":\"v\",\"showlegend\":true,\"x\":[\"2012-12-31T00:00:00\",\"2013-12-31T00:00:00\",\"2014-12-31T00:00:00\",\"2015-12-31T00:00:00\",\"2016-12-31T00:00:00\",\"2017-12-31T00:00:00\",\"2018-12-31T00:00:00\",\"2019-12-31T00:00:00\",\"2020-12-31T00:00:00\",\"2021-12-31T00:00:00\",\"2022-12-31T00:00:00\"],\"xaxis\":\"x\",\"y\":[27283693893.772785,30136922812.929405,31700742864.5958,30023828730.706886,35533901033.05047,39188827374.46643,42655568181.74079,47360799479.15942,47064682406.45198,55255895444.67313,64430857308.53099],\"yaxis\":\"y\",\"type\":\"scatter\"},{\"hovertemplate\":\"modalidade=Empr\\u00e9stimo com consigna\\u00e7\\u00e3o em folha\\u003cbr\\u003eocupacao=Servidor ou empregado p\\u00fablico\\u003cbr\\u003edata_base=%{x}\\u003cbr\\u003ecarteira_ativa_deflacionada=%{y}\\u003cextra\\u003e\\u003c\\u002fextra\\u003e\",\"legendgroup\":\"Empr\\u00e9stimo com consigna\\u00e7\\u00e3o em folha\",\"line\":{\"color\":\"#EF553B\",\"dash\":\"solid\"},\"marker\":{\"symbol\":\"circle\"},\"mode\":\"lines\",\"name\":\"Empr\\u00e9stimo com consigna\\u00e7\\u00e3o em folha\",\"orientation\":\"v\",\"showlegend\":true,\"x\":[\"2012-12-31T00:00:00\",\"2013-12-31T00:00:00\",\"2014-12-31T00:00:00\",\"2015-12-31T00:00:00\",\"2016-12-31T00:00:00\",\"2017-12-31T00:00:00\",\"2018-12-31T00:00:00\",\"2019-12-31T00:00:00\",\"2020-12-31T00:00:00\",\"2021-12-31T00:00:00\",\"2022-12-31T00:00:00\"],\"xaxis\":\"x\",\"y\":[108880166542.69391,118163549318.07031,127668846553.89668,124700912997.57834,130866448433.5723,143074042343.2325,144205022837.30823,163982348095.27106,178726502128.82346,195945045601.40738,206268228178.73007],\"yaxis\":\"y\",\"type\":\"scatter\"},{\"hovertemplate\":\"modalidade=Empr\\u00e9stimo sem consigna\\u00e7\\u00e3o em folha\\u003cbr\\u003eocupacao=Servidor ou empregado p\\u00fablico\\u003cbr\\u003edata_base=%{x}\\u003cbr\\u003ecarteira_ativa_deflacionada=%{y}\\u003cextra\\u003e\\u003c\\u002fextra\\u003e\",\"legendgroup\":\"Empr\\u00e9stimo sem consigna\\u00e7\\u00e3o em folha\",\"line\":{\"color\":\"#00cc96\",\"dash\":\"solid\"},\"marker\":{\"symbol\":\"circle\"},\"mode\":\"lines\",\"name\":\"Empr\\u00e9stimo sem consigna\\u00e7\\u00e3o em folha\",\"orientation\":\"v\",\"showlegend\":true,\"x\":[\"2012-12-31T00:00:00\",\"2013-12-31T00:00:00\",\"2014-12-31T00:00:00\",\"2015-12-31T00:00:00\",\"2016-12-31T00:00:00\",\"2017-12-31T00:00:00\",\"2018-12-31T00:00:00\",\"2019-12-31T00:00:00\",\"2020-12-31T00:00:00\",\"2021-12-31T00:00:00\",\"2022-12-31T00:00:00\"],\"xaxis\":\"x\",\"y\":[23370440916.583244,23220372577.989204,22135008368.289448,21939519084.517097,20683842986.322872,20961617107.16057,21561841435.518883,23614720540.72048,23462060190.5088,26038494675.233143,27587533092.77454],\"yaxis\":\"y\",\"type\":\"scatter\"},{\"hovertemplate\":\"modalidade=Habitacional\\u003cbr\\u003eocupacao=Servidor ou empregado p\\u00fablico\\u003cbr\\u003edata_base=%{x}\\u003cbr\\u003ecarteira_ativa_deflacionada=%{y}\\u003cextra\\u003e\\u003c\\u002fextra\\u003e\",\"legendgroup\":\"Habitacional\",\"line\":{\"color\":\"#ab63fa\",\"dash\":\"solid\"},\"marker\":{\"symbol\":\"circle\"},\"mode\":\"lines\",\"name\":\"Habitacional\",\"orientation\":\"v\",\"showlegend\":true,\"x\":[\"2012-12-31T00:00:00\",\"2013-12-31T00:00:00\",\"2014-12-31T00:00:00\",\"2015-12-31T00:00:00\",\"2016-12-31T00:00:00\",\"2017-12-31T00:00:00\",\"2018-12-31T00:00:00\",\"2019-12-31T00:00:00\",\"2020-12-31T00:00:00\",\"2021-12-31T00:00:00\",\"2022-12-31T00:00:00\"],\"xaxis\":\"x\",\"y\":[70859206893.56544,82970768347.67139,93551350310.01953,93113962514.62775,124461865380.6822,131657801758.7186,131252476639.09264,132460663849.72781,138815861557.742,139663615926.0202,145563178113.39526],\"yaxis\":\"y\",\"type\":\"scatter\"},{\"hovertemplate\":\"modalidade=Outros cr\\u00e9ditos\\u003cbr\\u003eocupacao=Servidor ou empregado p\\u00fablico\\u003cbr\\u003edata_base=%{x}\\u003cbr\\u003ecarteira_ativa_deflacionada=%{y}\\u003cextra\\u003e\\u003c\\u002fextra\\u003e\",\"legendgroup\":\"Outros cr\\u00e9ditos\",\"line\":{\"color\":\"#FFA15A\",\"dash\":\"solid\"},\"marker\":{\"symbol\":\"circle\"},\"mode\":\"lines\",\"name\":\"Outros cr\\u00e9ditos\",\"orientation\":\"v\",\"showlegend\":true,\"x\":[\"2012-12-31T00:00:00\",\"2013-12-31T00:00:00\",\"2014-12-31T00:00:00\",\"2015-12-31T00:00:00\",\"2016-12-31T00:00:00\",\"2017-12-31T00:00:00\",\"2018-12-31T00:00:00\",\"2019-12-31T00:00:00\",\"2020-12-31T00:00:00\",\"2021-12-31T00:00:00\",\"2022-12-31T00:00:00\"],\"xaxis\":\"x\",\"y\":[13618447935.92673,13821312653.937393,13905822678.559408,13445110833.00851,13738901406.346666,13899282139.436434,13018291465.173273,13460660924.470783,14762068959.900293,15644361857.949938,19445918759.32433],\"yaxis\":\"y\",\"type\":\"scatter\"},{\"hovertemplate\":\"modalidade=Rural e agroindustrial\\u003cbr\\u003eocupacao=Servidor ou empregado p\\u00fablico\\u003cbr\\u003edata_base=%{x}\\u003cbr\\u003ecarteira_ativa_deflacionada=%{y}\\u003cextra\\u003e\\u003c\\u002fextra\\u003e\",\"legendgroup\":\"Rural e agroindustrial\",\"line\":{\"color\":\"#19d3f3\",\"dash\":\"solid\"},\"marker\":{\"symbol\":\"circle\"},\"mode\":\"lines\",\"name\":\"Rural e agroindustrial\",\"orientation\":\"v\",\"showlegend\":true,\"x\":[\"2012-12-31T00:00:00\",\"2013-12-31T00:00:00\",\"2014-12-31T00:00:00\",\"2015-12-31T00:00:00\",\"2016-12-31T00:00:00\",\"2017-12-31T00:00:00\",\"2018-12-31T00:00:00\",\"2019-12-31T00:00:00\",\"2020-12-31T00:00:00\",\"2021-12-31T00:00:00\",\"2022-12-31T00:00:00\"],\"xaxis\":\"x\",\"y\":[5447055961.87089,6603661403.611964,7655519569.006147,7386467826.933242,6282000840.200021,7123816573.8294525,7103704650.127756,7403496294.459992,7997945397.755677,9573101702.074736,12070651973.566149],\"yaxis\":\"y\",\"type\":\"scatter\"},{\"hovertemplate\":\"modalidade=Ve\\u00edculos\\u003cbr\\u003eocupacao=Servidor ou empregado p\\u00fablico\\u003cbr\\u003edata_base=%{x}\\u003cbr\\u003ecarteira_ativa_deflacionada=%{y}\\u003cextra\\u003e\\u003c\\u002fextra\\u003e\",\"legendgroup\":\"Ve\\u00edculos\",\"line\":{\"color\":\"#FF6692\",\"dash\":\"solid\"},\"marker\":{\"symbol\":\"circle\"},\"mode\":\"lines\",\"name\":\"Ve\\u00edculos\",\"orientation\":\"v\",\"showlegend\":true,\"x\":[\"2012-12-31T00:00:00\",\"2013-12-31T00:00:00\",\"2014-12-31T00:00:00\",\"2015-12-31T00:00:00\",\"2016-12-31T00:00:00\",\"2017-12-31T00:00:00\",\"2018-12-31T00:00:00\",\"2019-12-31T00:00:00\",\"2020-12-31T00:00:00\",\"2021-12-31T00:00:00\",\"2022-12-31T00:00:00\"],\"xaxis\":\"x\",\"y\":[40362941719.28218,35442627152.36671,30597589455.76727,23565032291.037247,24088242795.173042,25611602218.496593,27437364263.453804,30363322319.556164,30510634290.04089,27264507164.169228,26636913564.890972],\"yaxis\":\"y\",\"type\":\"scatter\"}],\"name\":\"Servidor ou empregado p\\u00fablico\"}]);\n",
       "                        }).then(function(){\n",
       "                            \n",
       "var gd = document.getElementById('04a53f17-817a-4068-b200-7e8fa470d728');\n",
       "var x = new MutationObserver(function (mutations, observer) {{\n",
       "        var display = window.getComputedStyle(gd).display;\n",
       "        if (!display || display === 'none') {{\n",
       "            console.log([gd, 'removed!']);\n",
       "            Plotly.purge(gd);\n",
       "            observer.disconnect();\n",
       "        }}\n",
       "}});\n",
       "\n",
       "// Listen for the removal of the full notebook cells\n",
       "var notebookContainer = gd.closest('#notebook-container');\n",
       "if (notebookContainer) {{\n",
       "    x.observe(notebookContainer, {childList: true});\n",
       "}}\n",
       "\n",
       "// Listen for the clearing of the current output cell\n",
       "var outputEl = gd.closest('.output');\n",
       "if (outputEl) {{\n",
       "    x.observe(outputEl, {childList: true});\n",
       "}}\n",
       "\n",
       "                        })                };                });            </script>        </div>"
      ]
     },
     "metadata": {},
     "output_type": "display_data"
    }
   ],
   "source": [
    "fig = px.line(df_total, \n",
    "             x='data_base',\n",
    "             y='carteira_ativa_deflacionada', \n",
    "             color='modalidade', \n",
    "             animation_frame='ocupacao')\n",
    "\n",
    "fig.update_layout(title_text='Pessoa Física - Carteira Ativa por Modalidade de Crédito e Ocupação',\n",
    "             xaxis_title='Ocupação',\n",
    "             yaxis_title='Carteira Ativa',\n",
    "             height=500, \n",
    "             width=800)\n",
    "\n",
    "fig.show()"
   ]
  },
  {
   "cell_type": "code",
   "execution_count": null,
   "id": "4eaeadea-8a18-4d29-8cb7-e94885d6c920",
   "metadata": {},
   "outputs": [],
   "source": []
  }
 ],
 "metadata": {
  "kernelspec": {
   "display_name": "Python 3 (ipykernel)",
   "language": "python",
   "name": "python3"
  },
  "language_info": {
   "codemirror_mode": {
    "name": "ipython",
    "version": 3
   },
   "file_extension": ".py",
   "mimetype": "text/x-python",
   "name": "python",
   "nbconvert_exporter": "python",
   "pygments_lexer": "ipython3",
   "version": "3.10.9"
  }
 },
 "nbformat": 4,
 "nbformat_minor": 5
}
