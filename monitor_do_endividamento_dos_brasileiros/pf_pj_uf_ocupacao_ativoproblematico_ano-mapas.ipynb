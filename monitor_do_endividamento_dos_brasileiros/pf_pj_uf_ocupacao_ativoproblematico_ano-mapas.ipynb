{
 "cells": [
  {
   "cell_type": "code",
   "execution_count": 1,
   "id": "60d865d7-90a2-4ddc-8f98-4ba9d508942f",
   "metadata": {
    "tags": []
   },
   "outputs": [],
   "source": [
    "import zipfile\n",
    "import os\n",
    "import pandas as pd"
   ]
  },
  {
   "cell_type": "code",
   "execution_count": 2,
   "id": "3b9e419a-bd66-4e01-a4bd-1ac31f887db3",
   "metadata": {
    "tags": []
   },
   "outputs": [],
   "source": [
    "def concatenar_csvs(diretorio):\n",
    "    frames = []\n",
    "\n",
    "    for arquivo in os.listdir(diretorio):\n",
    "        if arquivo.endswith('.csv'):\n",
    "            caminho_arquivo = os.path.join(diretorio, arquivo)\n",
    "            \n",
    "            df = pd.read_csv(caminho_arquivo, encoding='utf-8', delimiter=\";\", decimal=\",\")\n",
    "            df = df.rename(columns={df.columns[0]: \"data_base\"})\n",
    "            df['data_base'] = pd.to_datetime(df['data_base'], format=\"%Y-%m-%d\")\n",
    "            df['mes'] = df['data_base'].dt.month #cria uma nova coluna com mês\n",
    "            df['ano'] = df['data_base'].dt.year\n",
    "            df = df[df['mes'] == 12]\n",
    "            df = df[['ano', 'cliente', 'uf', 'ocupacao', 'cnae_secao', 'ativo_problematico']]\n",
    "            df.loc[df['ocupacao'] == '-', 'ocupacao'] = df['cnae_secao'] #Adiciona o valor da coluna cnae_secao quando a coluna ocupacao é \"-\"\n",
    "            df = df.groupby(['ano','cliente','uf', 'ocupacao'])['ativo_problematico'].sum().reset_index()\n",
    "            \n",
    "            frames.append(df)\n",
    "\n",
    "    df_concatenado = pd.concat(frames, ignore_index=True)\n",
    "\n",
    "    return df_concatenado"
   ]
  },
  {
   "cell_type": "code",
   "execution_count": 3,
   "id": "130a2d01-bdd2-42b5-8043-c5f316962816",
   "metadata": {
    "tags": []
   },
   "outputs": [],
   "source": [
    "anos = list(range(2012, 2024))\n",
    "dataframes = []\n",
    "\n",
    "for ano in anos:\n",
    "    diretorio = f\"planilha_{ano}\"\n",
    "    dataframe_ano = concatenar_csvs(diretorio)\n",
    "    dataframes.append(dataframe_ano)\n",
    "\n",
    "df_total = pd.concat(dataframes, ignore_index=False)"
   ]
  },
  {
   "cell_type": "code",
   "execution_count": 4,
   "id": "150d62b5-5fb0-4ad9-ba66-9caef7b8c04b",
   "metadata": {
    "tags": []
   },
   "outputs": [
    {
     "name": "stdout",
     "output_type": "stream",
     "text": [
      "<class 'pandas.core.frame.DataFrame'>\n",
      "Index: 8200 entries, 0 to 759\n",
      "Data columns (total 5 columns):\n",
      " #   Column              Non-Null Count  Dtype  \n",
      "---  ------              --------------  -----  \n",
      " 0   ano                 8200 non-null   int32  \n",
      " 1   cliente             8200 non-null   object \n",
      " 2   uf                  8200 non-null   object \n",
      " 3   ocupacao            8200 non-null   object \n",
      " 4   ativo_problematico  8200 non-null   float64\n",
      "dtypes: float64(1), int32(1), object(3)\n",
      "memory usage: 352.3+ KB\n"
     ]
    }
   ],
   "source": [
    "df_total.info()"
   ]
  },
  {
   "cell_type": "code",
   "execution_count": 5,
   "id": "4a30f87f-db45-4b88-97b7-65a869314f3b",
   "metadata": {
    "tags": []
   },
   "outputs": [
    {
     "data": {
      "text/html": [
       "<div>\n",
       "<style scoped>\n",
       "    .dataframe tbody tr th:only-of-type {\n",
       "        vertical-align: middle;\n",
       "    }\n",
       "\n",
       "    .dataframe tbody tr th {\n",
       "        vertical-align: top;\n",
       "    }\n",
       "\n",
       "    .dataframe thead th {\n",
       "        text-align: right;\n",
       "    }\n",
       "</style>\n",
       "<table border=\"1\" class=\"dataframe\">\n",
       "  <thead>\n",
       "    <tr style=\"text-align: right;\">\n",
       "      <th></th>\n",
       "      <th>ano</th>\n",
       "      <th>cliente</th>\n",
       "      <th>uf</th>\n",
       "      <th>ocupacao</th>\n",
       "      <th>ativo_problematico</th>\n",
       "    </tr>\n",
       "  </thead>\n",
       "  <tbody>\n",
       "    <tr>\n",
       "      <th>0</th>\n",
       "      <td>2012</td>\n",
       "      <td>PF</td>\n",
       "      <td>AC</td>\n",
       "      <td>PF - Aposentado/pensionista</td>\n",
       "      <td>11448387.97</td>\n",
       "    </tr>\n",
       "    <tr>\n",
       "      <th>1</th>\n",
       "      <td>2012</td>\n",
       "      <td>PF</td>\n",
       "      <td>AC</td>\n",
       "      <td>PF - Autônomo</td>\n",
       "      <td>8955205.34</td>\n",
       "    </tr>\n",
       "    <tr>\n",
       "      <th>2</th>\n",
       "      <td>2012</td>\n",
       "      <td>PF</td>\n",
       "      <td>AC</td>\n",
       "      <td>PF - Empregado de empresa privada</td>\n",
       "      <td>6786123.20</td>\n",
       "    </tr>\n",
       "  </tbody>\n",
       "</table>\n",
       "</div>"
      ],
      "text/plain": [
       "    ano cliente  uf                           ocupacao  ativo_problematico\n",
       "0  2012      PF  AC        PF - Aposentado/pensionista         11448387.97\n",
       "1  2012      PF  AC                      PF - Autônomo          8955205.34\n",
       "2  2012      PF  AC  PF - Empregado de empresa privada          6786123.20"
      ]
     },
     "execution_count": 5,
     "metadata": {},
     "output_type": "execute_result"
    }
   ],
   "source": [
    "df_total.head(3)"
   ]
  },
  {
   "cell_type": "code",
   "execution_count": 6,
   "id": "bc7aa4e5-2ba8-4a9d-ac29-81cf104aafe5",
   "metadata": {
    "tags": []
   },
   "outputs": [],
   "source": [
    "df_total.to_csv(\"cliente_uf_ocupacao_carteira_ativa.csv\")"
   ]
  },
  {
   "cell_type": "code",
   "execution_count": 7,
   "id": "df4296e3-a6ad-4a76-b80d-37950249367d",
   "metadata": {
    "tags": []
   },
   "outputs": [],
   "source": [
    "import json\n",
    "import requests"
   ]
  },
  {
   "cell_type": "code",
   "execution_count": 8,
   "id": "8e839099-e643-4b89-96f0-d2e2f3cba946",
   "metadata": {
    "tags": []
   },
   "outputs": [],
   "source": [
    "url = \"https://raw.githubusercontent.com/giuliano-oliveira/geodata-br-states/main/geojson/br_states.json\" #Temos que dar os créditos\n",
    "\n",
    "response = requests.get(url)\n",
    "geojson_data = response.json()"
   ]
  },
  {
   "cell_type": "code",
   "execution_count": null,
   "id": "a3537987-a15a-4519-8f14-aa4a1f81f556",
   "metadata": {
    "tags": []
   },
   "outputs": [],
   "source": [
    "#geojson_data"
   ]
  },
  {
   "cell_type": "code",
   "execution_count": 9,
   "id": "728705fb-71f2-4cd3-9f1e-e10732b2a5dc",
   "metadata": {},
   "outputs": [],
   "source": [
    "from dash import Dash, dcc, html, Input, Output\n",
    "import plotly.express as px"
   ]
  },
  {
   "cell_type": "code",
   "execution_count": 11,
   "id": "9a7ee6b5-ff93-4d7a-ae49-ddf914a3f030",
   "metadata": {
    "tags": []
   },
   "outputs": [
    {
     "data": {
      "text/html": [
       "\n",
       "        <iframe\n",
       "            width=\"100%\"\n",
       "            height=\"650\"\n",
       "            src=\"http://127.0.0.1:8050/\"\n",
       "            frameborder=\"0\"\n",
       "            allowfullscreen\n",
       "            \n",
       "        ></iframe>\n",
       "        "
      ],
      "text/plain": [
       "<IPython.lib.display.IFrame at 0x16a0a9450>"
      ]
     },
     "metadata": {},
     "output_type": "display_data"
    }
   ],
   "source": [
    "app = Dash(__name__)\n",
    "\n",
    "app.layout = html.Div([\n",
    "    html.H1('Análise de Carteira Ativa'),\n",
    "    \n",
    "    html.Div([\n",
    "        html.Label('Selecione uma ocupação:'),\n",
    "        dcc.Dropdown(\n",
    "            id='ocupacao-dropdown',\n",
    "            options=[{'label': i, 'value': i} for i in df_total['ocupacao'].unique()],\n",
    "            value=df_total['ocupacao'].iloc[0]\n",
    "        ),\n",
    "    ]),\n",
    "    \n",
    "    dcc.Graph(id='choropleth-map')\n",
    "])\n",
    "\n",
    "@app.callback(\n",
    "    Output('choropleth-map', 'figure'),\n",
    "    [Input('ocupacao-dropdown', 'value')]\n",
    ")\n",
    "def update_choropleth(ocupacao_value):\n",
    "    \n",
    "    filtered_df = df_total[df_total['ocupacao'] == ocupacao_value]\n",
    "    \n",
    "    fig = px.choropleth_mapbox(filtered_df, \n",
    "                               geojson=geojson_data, \n",
    "                               locations='uf', \n",
    "                               color='ativo_problematico',\n",
    "                               color_continuous_scale=\"sunsetdark\",\n",
    "                               range_color=(0, max(filtered_df['ativo_problematico'])),\n",
    "                               animation_frame='ano', \n",
    "                               mapbox_style=\"open-street-map\",\n",
    "                               zoom=3, \n",
    "                               center={\"lat\": -17.14, \"lon\": -57.33},\n",
    "                               opacity=1,\n",
    "                               labels={'ativo_problematico':'Carteira Ativa',\n",
    "                                       'uf': 'Unidade da Federação do Brasil'},\n",
    "                               featureidkey=\"properties.SIGLA\")\n",
    "    \n",
    "    fig.update_layout(margin={'r':0,'t':0,'l':0, 'b':0})\n",
    "    \n",
    "    return fig\n",
    "\n",
    "if __name__ == '__main__':\n",
    "    app.run_server(debug=True)"
   ]
  },
  {
   "cell_type": "code",
   "execution_count": null,
   "id": "b7ff2d26-57ca-4ccf-99c3-2b13e22d843f",
   "metadata": {},
   "outputs": [],
   "source": []
  }
 ],
 "metadata": {
  "kernelspec": {
   "display_name": "Python 3 (ipykernel)",
   "language": "python",
   "name": "python3"
  },
  "language_info": {
   "codemirror_mode": {
    "name": "ipython",
    "version": 3
   },
   "file_extension": ".py",
   "mimetype": "text/x-python",
   "name": "python",
   "nbconvert_exporter": "python",
   "pygments_lexer": "ipython3",
   "version": "3.11.5"
  }
 },
 "nbformat": 4,
 "nbformat_minor": 5
}
